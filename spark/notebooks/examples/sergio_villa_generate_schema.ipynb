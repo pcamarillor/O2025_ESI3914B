{
 "cells": [
  {
   "cell_type": "markdown",
   "id": "6a5ebecb-2018-429b-8c2c-7c1d41a4e0e6",
   "metadata": {},
   "source": [
    "## Sergio Villa Rodríguez\n",
    "## Ingeniería en Sistemas Computacionales"
   ]
  },
  {
   "cell_type": "markdown",
   "id": "d887b7f6-a700-4dea-9818-fe357e9055fb",
   "metadata": {},
   "source": [
    "# Find PySpark Installation"
   ]
  },
  {
   "cell_type": "code",
   "execution_count": 1,
   "id": "954af147-36a1-4716-8008-40cdfab423df",
   "metadata": {},
   "outputs": [],
   "source": [
    "import findspark\n",
    "findspark.init()"
   ]
  },
  {
   "cell_type": "markdown",
   "id": "27da13b8-fd40-4012-9041-cae6dcc9488a",
   "metadata": {},
   "source": [
    "# Create Spark Session"
   ]
  },
  {
   "cell_type": "code",
   "execution_count": 2,
   "id": "d2f3ee7f-5d28-463e-a3c4-ec81a71cbf6f",
   "metadata": {},
   "outputs": [
    {
     "name": "stderr",
     "output_type": "stream",
     "text": [
      "WARNING: Using incubator modules: jdk.incubator.vector\n",
      "Using Spark's default log4j profile: org/apache/spark/log4j2-defaults.properties\n",
      "Setting default log level to \"WARN\".\n",
      "To adjust logging level use sc.setLogLevel(newLevel). For SparkR, use setLogLevel(newLevel).\n",
      "25/09/12 20:51:06 WARN NativeCodeLoader: Unable to load native-hadoop library for your platform... using builtin-java classes where applicable\n"
     ]
    }
   ],
   "source": [
    "from pyspark.sql import SparkSession\n",
    "\n",
    "spark = SparkSession.builder \\\n",
    "    .appName(\"Examples on SparkSQL\") \\\n",
    "    .master(\"spark://f0e377311925:7077\") \\\n",
    "    .config(\"spark.ui.port\", \"4040\") \\\n",
    "    .getOrCreate()\n",
    "\n",
    "sc = spark.sparkContext\n",
    "sc.setLogLevel(\"ERROR\")"
   ]
  },
  {
   "cell_type": "markdown",
   "id": "e76814a1-ffa5-4964-a3fc-8e386f197645",
   "metadata": {},
   "source": [
    "## Import SparkUtils"
   ]
  },
  {
   "cell_type": "code",
   "execution_count": 3,
   "id": "93f21490-1791-4a53-9411-53b331f5c422",
   "metadata": {},
   "outputs": [],
   "source": [
    "from sergiovillaa.spark_utils import SparkUtils"
   ]
  },
  {
   "cell_type": "markdown",
   "id": "5308307a-5dfc-4a2f-a55e-0c07e5afddc0",
   "metadata": {},
   "source": [
    "## Define Columns"
   ]
  },
  {
   "cell_type": "code",
   "execution_count": 4,
   "id": "d7f27699-2d3b-4e96-bf5c-d885bda84622",
   "metadata": {},
   "outputs": [],
   "source": [
    "columns = [\n",
    "        (\"user_id\", \"int\"),\n",
    "        (\"user_name\", \"string\"),\n",
    "        (\"signup_date\", \"date\")\n",
    "    ]"
   ]
  },
  {
   "cell_type": "markdown",
   "id": "c64dcd5c-91fd-4917-84b3-5cde14e11d10",
   "metadata": {},
   "source": [
    "## Generate Schema"
   ]
  },
  {
   "cell_type": "code",
   "execution_count": 5,
   "id": "8bc6dfa2-99e4-4466-bfe6-5afa7a77a0b1",
   "metadata": {},
   "outputs": [
    {
     "data": {
      "text/plain": [
       "StructType([StructField('user_id', IntegerType(), True), StructField('user_name', StringType(), True), StructField('signup_date', DateType(), True)])"
      ]
     },
     "execution_count": 5,
     "metadata": {},
     "output_type": "execute_result"
    }
   ],
   "source": [
    "schema = SparkUtils.generate_schema(columns)\n",
    "schema"
   ]
  },
  {
   "cell_type": "code",
   "execution_count": 6,
   "id": "f22d0c2c-98fb-4504-a910-edbf672dea28",
   "metadata": {},
   "outputs": [],
   "source": [
    "sc.stop()"
   ]
  },
  {
   "cell_type": "code",
   "execution_count": null,
   "id": "a68725da-2103-4b22-b4fb-ddc9803b97aa",
   "metadata": {},
   "outputs": [],
   "source": []
  }
 ],
 "metadata": {
  "kernelspec": {
   "display_name": "Python 3 (ipykernel)",
   "language": "python",
   "name": "python3"
  },
  "language_info": {
   "codemirror_mode": {
    "name": "ipython",
    "version": 3
   },
   "file_extension": ".py",
   "mimetype": "text/x-python",
   "name": "python",
   "nbconvert_exporter": "python",
   "pygments_lexer": "ipython3",
   "version": "3.10.12"
  }
 },
 "nbformat": 4,
 "nbformat_minor": 5
}
