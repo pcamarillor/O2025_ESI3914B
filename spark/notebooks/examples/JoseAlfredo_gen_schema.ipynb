{
 "cells": [
  {
   "cell_type": "code",
   "execution_count": null,
   "id": "2c5eee46-43d9-4fca-b7b5-4687b9d948bc",
   "metadata": {},
   "outputs": [],
   "source": [
    "from module_josealfredo.spark_utils import SparkUtils\n",
    "\n",
    "# Datos de ejemplo\n",
    "columns = [\n",
    "    (\"name\", \"string\"),\n",
    "    (\"age\", \"int\"),\n",
    "    (\"salary\", \"float\"),\n",
    "    (\"is_employee\", \"boolean\")\n",
    "]\n",
    "\n",
    "# Generar el esquema\n",
    "schema = SparkUtils.generate_schema(columns)\n",
    "\n",
    "# Mostrar el esquema generado\n",
    "print(schema)\n"
   ]
  }
 ],
 "metadata": {
  "kernelspec": {
   "display_name": "Python 3 (ipykernel)",
   "language": "python",
   "name": "python3"
  },
  "language_info": {
   "codemirror_mode": {
    "name": "ipython",
    "version": 3
   },
   "file_extension": ".py",
   "mimetype": "text/x-python",
   "name": "python",
   "nbconvert_exporter": "python",
   "pygments_lexer": "ipython3",
   "version": "3.13.7"
  }
 },
 "nbformat": 4,
 "nbformat_minor": 5
}
