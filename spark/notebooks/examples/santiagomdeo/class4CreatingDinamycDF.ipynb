{
 "cells": [
  {
   "cell_type": "markdown",
   "id": "8563200c-98e9-4cdd-ab13-9d39e77c8a13",
   "metadata": {},
   "source": [
    "# Santiago Montes de Oca | 12/09/2025"
   ]
  },
  {
   "cell_type": "code",
   "execution_count": 1,
   "id": "c0d23cf6-6d4a-4f43-a73f-fb9d13cccd9b",
   "metadata": {},
   "outputs": [],
   "source": [
    "import findspark\n",
    "findspark.init()"
   ]
  },
  {
   "cell_type": "code",
   "execution_count": 2,
   "id": "7f57b2b6-9366-4749-8932-3c0b53b82ac3",
   "metadata": {},
   "outputs": [],
   "source": [
    "from santiagomdeo.spark_utils import proof\n",
    "from santiagomdeo.spark_utils import SparkUtils"
   ]
  },
  {
   "cell_type": "code",
   "execution_count": 3,
   "id": "a54bcd5b-d50d-4e34-8ee2-6c7703f99fa2",
   "metadata": {},
   "outputs": [
    {
     "name": "stderr",
     "output_type": "stream",
     "text": [
      "WARNING: Using incubator modules: jdk.incubator.vector\n",
      "Using Spark's default log4j profile: org/apache/spark/log4j2-defaults.properties\n",
      "Setting default log level to \"WARN\".\n",
      "To adjust logging level use sc.setLogLevel(newLevel). For SparkR, use setLogLevel(newLevel).\n",
      "25/09/12 14:16:54 WARN NativeCodeLoader: Unable to load native-hadoop library for your platform... using builtin-java classes where applicable\n"
     ]
    }
   ],
   "source": [
    "from pyspark.sql import SparkSession\n",
    "\n",
    "spark = SparkSession.builder \\\n",
    "    .appName(\"Examples on SparkSQL\") \\\n",
    "    .master(\"spark://a210ce6802d6:7077\") \\\n",
    "    .config(\"spark.ui.port\", \"4040\") \\\n",
    "    .getOrCreate()\n",
    "\n",
    "sc = spark.sparkContext\n",
    "sc.setLogLevel(\"ERROR\")"
   ]
  },
  {
   "cell_type": "code",
   "execution_count": 4,
   "id": "a0c15229-3a96-46dd-a924-4dce3d89d798",
   "metadata": {},
   "outputs": [
    {
     "name": "stdout",
     "output_type": "stream",
     "text": [
      "string\n",
      "int\n",
      "string\n"
     ]
    }
   ],
   "source": [
    "schema = SparkUtils.generate_schema([(\"name\", \"string\"), (\"age\", \"int\"), (\"city\", \"string\")])"
   ]
  }
 ],
 "metadata": {
  "kernelspec": {
   "display_name": "Python 3 (ipykernel)",
   "language": "python",
   "name": "python3"
  },
  "language_info": {
   "codemirror_mode": {
    "name": "ipython",
    "version": 3
   },
   "file_extension": ".py",
   "mimetype": "text/x-python",
   "name": "python",
   "nbconvert_exporter": "python",
   "pygments_lexer": "ipython3",
   "version": "3.10.12"
  }
 },
 "nbformat": 4,
 "nbformat_minor": 5
}
