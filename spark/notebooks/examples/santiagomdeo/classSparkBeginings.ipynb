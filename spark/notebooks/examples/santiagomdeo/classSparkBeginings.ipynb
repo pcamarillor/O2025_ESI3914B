{
 "cells": [
  {
   "cell_type": "code",
   "execution_count": 3,
   "id": "f50114a5-b902-44d3-991d-208883ec2e03",
   "metadata": {},
   "outputs": [],
   "source": [
    "import findspark\n",
    "findspark.init()"
   ]
  },
  {
   "cell_type": "markdown",
   "id": "e3930c86-a3fd-43e6-b341-c002d2147d27",
   "metadata": {},
   "source": [
    "# create spark session"
   ]
  },
  {
   "cell_type": "code",
   "execution_count": 6,
   "id": "0ada4fa7-f7b5-43ef-b676-47cb4206dd5c",
   "metadata": {},
   "outputs": [],
   "source": [
    "from pyspark.sql import SparkSession"
   ]
  },
  {
   "cell_type": "code",
   "execution_count": 8,
   "id": "90a90dc5-70ce-4cfc-a64d-9bc69f72e4fc",
   "metadata": {},
   "outputs": [
    {
     "name": "stderr",
     "output_type": "stream",
     "text": [
      "WARNING: Using incubator modules: jdk.incubator.vector\n",
      "Using Spark's default log4j profile: org/apache/spark/log4j2-defaults.properties\n",
      "Setting default log level to \"WARN\".\n",
      "To adjust logging level use sc.setLogLevel(newLevel). For SparkR, use setLogLevel(newLevel).\n",
      "25/09/05 14:32:15 WARN NativeCodeLoader: Unable to load native-hadoop library for your platform... using builtin-java classes where applicable\n"
     ]
    }
   ],
   "source": [
    "spark = SparkSession.builder \\\n",
    "    .appName(\"1st Spark Session\") \\\n",
    "    .master(\"spark://e8438fe0153e:7077\") \\\n",
    "    .config(\"spark.ui.port\", \"4040\") \\\n",
    "    .getOrCreate()"
   ]
  },
  {
   "cell_type": "markdown",
   "id": "5f943474-ddcd-4fa0-8904-f5e0c3764a81",
   "metadata": {},
   "source": [
    "# Extract spark context\n"
   ]
  },
  {
   "cell_type": "code",
   "execution_count": 9,
   "id": "3ea28509-2640-49c3-accc-d8b8fd7429fb",
   "metadata": {},
   "outputs": [],
   "source": [
    "sc = spark.sparkContext"
   ]
  },
  {
   "cell_type": "markdown",
   "id": "418aac44-4079-4205-aebe-f9f654265564",
   "metadata": {},
   "source": [
    "# creat rdd\n"
   ]
  },
  {
   "cell_type": "code",
   "execution_count": 11,
   "id": "c4fbe112-43eb-4665-9f82-9cfd31f62740",
   "metadata": {},
   "outputs": [],
   "source": [
    "data = [56, 3, 546, 23, 45, 56, 68, 69, 24, 23]\n",
    "rdd = sc.parallelize(data)\n",
    "# los rdd son inmutables, son like tupples"
   ]
  },
  {
   "cell_type": "code",
   "execution_count": 12,
   "id": "c310fbe8-5c9b-49a7-a4e1-ef2623393e63",
   "metadata": {},
   "outputs": [],
   "source": [
    "squares_rdd = rdd.map(lambda x: x ** 2)"
   ]
  },
  {
   "cell_type": "markdown",
   "id": "fafccacd-0654-4202-97f9-777cf4307f03",
   "metadata": {},
   "source": [
    "# collect resutls"
   ]
  },
  {
   "cell_type": "code",
   "execution_count": 13,
   "id": "68788822-29e7-4e39-9213-c38979148f8d",
   "metadata": {},
   "outputs": [
    {
     "name": "stderr",
     "output_type": "stream",
     "text": [
      "[Stage 0:>                                                          (0 + 1) / 2]"
     ]
    },
    {
     "name": "stdout",
     "output_type": "stream",
     "text": [
      "[3136, 9, 298116, 529, 2025, 3136, 4624, 4761, 576, 529]\n"
     ]
    },
    {
     "name": "stderr",
     "output_type": "stream",
     "text": [
      "                                                                                "
     ]
    }
   ],
   "source": [
    "results = squares_rdd.collect()\n",
    "print(results)"
   ]
  },
  {
   "cell_type": "code",
   "execution_count": 14,
   "id": "3030e1ee-fa81-43fb-a889-347630dc5e14",
   "metadata": {},
   "outputs": [],
   "source": [
    "sc.stop()"
   ]
  }
 ],
 "metadata": {
  "kernelspec": {
   "display_name": "Python 3 (ipykernel)",
   "language": "python",
   "name": "python3"
  },
  "language_info": {
   "codemirror_mode": {
    "name": "ipython",
    "version": 3
   },
   "file_extension": ".py",
   "mimetype": "text/x-python",
   "name": "python",
   "nbconvert_exporter": "python",
   "pygments_lexer": "ipython3",
   "version": "3.10.12"
  }
 },
 "nbformat": 4,
 "nbformat_minor": 5
}
