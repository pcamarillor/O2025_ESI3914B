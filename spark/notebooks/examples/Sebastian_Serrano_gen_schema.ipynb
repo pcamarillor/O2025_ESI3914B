{
 "cells": [
  {
   "cell_type": "markdown",
   "id": "080facd8-d4ec-4294-a623-00b88da0160d",
   "metadata": {},
   "source": [
    "# <center> <img src=\"../img/ITESOLogo.png\" alt=\"ITESO\" width=\"480\" height=\"130\"> </center>\n",
    "# <center> **Departamento de Electrónica, Sistemas e Informática** </center>\n",
    "---\n",
    "## <center> **Big Data** </center>\n",
    "---\n",
    "### <center> **Autumn 2025** </center>\n",
    "---\n",
    "### <center> **Generate schemas dynamically** </center>\n",
    "---\n",
    "**Profesor**: Pablo Camarillo Ramirez"
   ]
  },
  {
   "cell_type": "markdown",
   "id": "bf95f872-0965-45f9-80b5-a27222281d73",
   "metadata": {},
   "source": [
    "## Actividad: Generate schemas dynamically"
   ]
  },
  {
   "cell_type": "code",
   "execution_count": 1,
   "id": "f81ed8e7-c3a7-410e-bbf2-8b36fd21453c",
   "metadata": {},
   "outputs": [],
   "source": [
    "import findspark\n",
    "findspark.init()"
   ]
  },
  {
   "cell_type": "code",
   "execution_count": 2,
   "id": "bf32f046-d359-4d59-8979-0755f304b3b8",
   "metadata": {},
   "outputs": [
    {
     "name": "stderr",
     "output_type": "stream",
     "text": [
      "WARNING: Using incubator modules: jdk.incubator.vector\n",
      "Using Spark's default log4j profile: org/apache/spark/log4j2-defaults.properties\n",
      "Setting default log level to \"WARN\".\n",
      "To adjust logging level use sc.setLogLevel(newLevel). For SparkR, use setLogLevel(newLevel).\n",
      "25/09/12 14:42:30 WARN NativeCodeLoader: Unable to load native-hadoop library for your platform... using builtin-java classes where applicable\n"
     ]
    }
   ],
   "source": [
    "from pyspark.sql import SparkSession\n",
    "from Modulo_Sebas.spark_utils import SparkUtils\n",
    "from datetime import datetime\n",
    "\n",
    "spark = SparkSession.builder \\\n",
    "    .appName(\"Examples on SparkSQL\") \\\n",
    "    .master(\"spark://22410cdc64b0:7077\") \\\n",
    "    .config(\"spark.ui.port\", \"4040\") \\\n",
    "    .getOrCreate()\n",
    "\n",
    "sc = spark.sparkContext\n",
    "sc.setLogLevel(\"ERROR\")"
   ]
  },
  {
   "cell_type": "code",
   "execution_count": 3,
   "id": "b7cd2b0d-0ef7-4d60-9b97-4cf6ce67cc4f",
   "metadata": {},
   "outputs": [
    {
     "data": {
      "text/plain": [
       "StructType([StructField('name', StringType(), True), StructField('age', IntegerType(), True), StructField('city', StringType(), True)])"
      ]
     },
     "execution_count": 3,
     "metadata": {},
     "output_type": "execute_result"
    }
   ],
   "source": [
    "schema = SparkUtils.generate_schema([\n",
    "    (\"name\", \"string\"),\n",
    "    (\"age\", \"int\"),\n",
    "    (\"city\", \"string\")\n",
    "])\n",
    "schema"
   ]
  },
  {
   "cell_type": "markdown",
   "id": "cd3a3241-cb14-47d8-b699-841119819caf",
   "metadata": {},
   "source": [
    "## Actividad: Smart Factory Sensor Data"
   ]
  },
  {
   "cell_type": "code",
   "execution_count": 4,
   "id": "b8a6f10e-2f23-4ad6-baaa-b2dd14f2d3f5",
   "metadata": {},
   "outputs": [
    {
     "name": "stderr",
     "output_type": "stream",
     "text": [
      "[Stage 0:>                                                          (0 + 1) / 1]"
     ]
    },
    {
     "name": "stdout",
     "output_type": "stream",
     "text": [
      "+----------+-------------------+----+\n",
      "|machine_id|   sensor_timestamp|temp|\n",
      "+----------+-------------------+----+\n",
      "|      M001|2025-04-26 08:00:00|75.3|\n",
      "|      M002|2025-04-26 08:05:00|68.7|\n",
      "|      M001|2025-04-26 08:10:00|76.1|\n",
      "|      M003|2025-04-26 08:15:00|72.4|\n",
      "|      M002|2025-04-26 08:20:00|69.8|\n",
      "|      M001|2025-04-26 08:25:00|77.5|\n",
      "|      M003|2025-04-26 08:30:00|73.2|\n",
      "|      M002|2025-04-26 08:35:00|70.1|\n",
      "|      M001|2025-04-26 08:40:00|78.0|\n",
      "|      M003|2025-04-26 08:45:00|74.6|\n",
      "+----------+-------------------+----+\n",
      "\n"
     ]
    },
    {
     "name": "stderr",
     "output_type": "stream",
     "text": [
      "                                                                                "
     ]
    }
   ],
   "source": [
    "factory_data = [\n",
    "    (\"M001\", datetime(2025, 4, 26, 8, 0, 0), 75.3),\n",
    "    (\"M002\", datetime(2025, 4, 26, 8, 5, 0), 68.7),\n",
    "    (\"M001\", datetime(2025, 4, 26, 8, 10, 0), 76.1),\n",
    "    (\"M003\", datetime(2025, 4, 26, 8, 15, 0), 72.4),\n",
    "    (\"M002\", datetime(2025, 4, 26, 8, 20, 0), 69.8),\n",
    "    (\"M001\", datetime(2025, 4, 26, 8, 25, 0), 77.5),\n",
    "    (\"M003\", datetime(2025, 4, 26, 8, 30, 0), 73.2),\n",
    "    (\"M002\", datetime(2025, 4, 26, 8, 35, 0), 70.1),\n",
    "    (\"M001\", datetime(2025, 4, 26, 8, 40, 0), 78.0),\n",
    "    (\"M003\", datetime(2025, 4, 26, 8, 45, 0), 74.6),\n",
    "]\n",
    "\n",
    "factory_schema = SparkUtils.generate_schema([(\"machine_id\", \"string\"), (\"sensor_timestamp\", \"timestamp\"), (\"temp\", \"float\")])\n",
    "df_factory = spark.createDataFrame(factory_data, factory_schema)\n",
    "df_factory.show()"
   ]
  },
  {
   "cell_type": "markdown",
   "id": "2acc8af1-d1f2-4c45-a3b8-975064a012be",
   "metadata": {},
   "source": [
    "**Ejercicio**: Explore the schema of the DataFrame"
   ]
  },
  {
   "cell_type": "code",
   "execution_count": 5,
   "id": "a6a4d509-d243-4fa3-bf10-e8a75dc1ff32",
   "metadata": {},
   "outputs": [
    {
     "name": "stdout",
     "output_type": "stream",
     "text": [
      "root\n",
      " |-- machine_id: string (nullable = true)\n",
      " |-- sensor_timestamp: timestamp (nullable = true)\n",
      " |-- temp: float (nullable = true)\n",
      "\n"
     ]
    }
   ],
   "source": [
    "df_factory.printSchema()"
   ]
  },
  {
   "cell_type": "markdown",
   "id": "1c9d7210-3539-43a0-a449-12189e114ce2",
   "metadata": {},
   "source": [
    "**Ejercicio**: Get the average temperature per machine"
   ]
  },
  {
   "cell_type": "code",
   "execution_count": 6,
   "id": "bf92b8ec-c975-4944-9952-91bb17b3de64",
   "metadata": {},
   "outputs": [
    {
     "name": "stdout",
     "output_type": "stream",
     "text": [
      "+----------+-----------------+\n",
      "|machine_id|        avg(temp)|\n",
      "+----------+-----------------+\n",
      "|      M002|69.53333282470703|\n",
      "|      M003|73.39999898274739|\n",
      "|      M001|76.72500038146973|\n",
      "+----------+-----------------+\n",
      "\n"
     ]
    }
   ],
   "source": [
    "from pyspark.sql.functions import col, avg\n",
    "\n",
    "df_factory.groupBy(col(\"machine_id\")).agg(avg(\"temp\")).show()"
   ]
  },
  {
   "cell_type": "markdown",
   "id": "6c851f05-6cdd-4424-b139-38f8c19e7dff",
   "metadata": {},
   "source": [
    "**Ejercicio**: Find the maximum and minimum temperature per machine"
   ]
  },
  {
   "cell_type": "code",
   "execution_count": 8,
   "id": "9c4ed21c-2037-4aeb-8af4-7220191a45d7",
   "metadata": {},
   "outputs": [
    {
     "name": "stdout",
     "output_type": "stream",
     "text": [
      "+----------+--------+---------+\n",
      "|machine_id|min_temp|max(temp)|\n",
      "+----------+--------+---------+\n",
      "|      M002|    68.7|     70.1|\n",
      "|      M003|    72.4|     74.6|\n",
      "|      M001|    75.3|     78.0|\n",
      "+----------+--------+---------+\n",
      "\n"
     ]
    }
   ],
   "source": [
    "from pyspark.sql.functions import min, max\n",
    "df_factory.groupBy(col(\"machine_id\")).agg(\n",
    "    min(\"temp\").alias(\"min_temp\"),\n",
    "    max(\"temp\")\n",
    ").show()"
   ]
  },
  {
   "cell_type": "markdown",
   "id": "7a7174da-36ef-4804-8f94-b5f4277fb4a9",
   "metadata": {},
   "source": [
    "**Ejercicio**: Filter records above a temperature threshold (temp > 75)"
   ]
  },
  {
   "cell_type": "code",
   "execution_count": 9,
   "id": "271c89a5-38c7-4dc8-b9ac-859bf56f7934",
   "metadata": {},
   "outputs": [
    {
     "name": "stdout",
     "output_type": "stream",
     "text": [
      "+----------+-------------------+----+\n",
      "|machine_id|   sensor_timestamp|temp|\n",
      "+----------+-------------------+----+\n",
      "|      M001|2025-04-26 08:00:00|75.3|\n",
      "|      M001|2025-04-26 08:10:00|76.1|\n",
      "|      M001|2025-04-26 08:25:00|77.5|\n",
      "|      M001|2025-04-26 08:40:00|78.0|\n",
      "+----------+-------------------+----+\n",
      "\n"
     ]
    }
   ],
   "source": [
    "df_factory.filter(df_factory.temp > 75).show()"
   ]
  },
  {
   "cell_type": "markdown",
   "id": "0d2cd5a3-0d75-44d9-9919-b947c412c9d1",
   "metadata": {},
   "source": [
    "**Ejercicio**: Count the number of readings per machine"
   ]
  },
  {
   "cell_type": "code",
   "execution_count": 12,
   "id": "3be580a8-f4a5-4775-b923-194d853cbbeb",
   "metadata": {},
   "outputs": [
    {
     "name": "stdout",
     "output_type": "stream",
     "text": [
      "+----------+--------------+\n",
      "|machine_id|readings_count|\n",
      "+----------+--------------+\n",
      "|      M002|             3|\n",
      "|      M003|             3|\n",
      "|      M001|             4|\n",
      "+----------+--------------+\n",
      "\n"
     ]
    }
   ],
   "source": [
    "from pyspark.sql.functions import count\n",
    "df_factory.groupBy(\"machine_id\").agg(count(\"*\").alias(\"readings_count\")).show()"
   ]
  },
  {
   "cell_type": "markdown",
   "id": "42b522cf-8ea7-4e33-b9e8-d343d7d60936",
   "metadata": {},
   "source": [
    "**Ejercicio**: Find the machine with the highest temperature"
   ]
  },
  {
   "cell_type": "code",
   "execution_count": 13,
   "id": "2ce9119e-f58e-4590-a888-0a8d275b97d7",
   "metadata": {},
   "outputs": [
    {
     "name": "stdout",
     "output_type": "stream",
     "text": [
      "+----------+-------------------+----+\n",
      "|machine_id|   sensor_timestamp|temp|\n",
      "+----------+-------------------+----+\n",
      "|      M001|2025-04-26 08:40:00|78.0|\n",
      "+----------+-------------------+----+\n",
      "\n"
     ]
    }
   ],
   "source": [
    "df_factory.orderBy(df_factory.temp.desc()).limit(1).show()"
   ]
  },
  {
   "cell_type": "code",
   "execution_count": null,
   "id": "cfd2472c-b16f-410a-91a4-8c6a9f32ea40",
   "metadata": {},
   "outputs": [],
   "source": [
    "sc.stop()"
   ]
  }
 ],
 "metadata": {
  "kernelspec": {
   "display_name": "Python 3 (ipykernel)",
   "language": "python",
   "name": "python3"
  },
  "language_info": {
   "codemirror_mode": {
    "name": "ipython",
    "version": 3
   },
   "file_extension": ".py",
   "mimetype": "text/x-python",
   "name": "python",
   "nbconvert_exporter": "python",
   "pygments_lexer": "ipython3",
   "version": "3.10.12"
  }
 },
 "nbformat": 4,
 "nbformat_minor": 5
}
