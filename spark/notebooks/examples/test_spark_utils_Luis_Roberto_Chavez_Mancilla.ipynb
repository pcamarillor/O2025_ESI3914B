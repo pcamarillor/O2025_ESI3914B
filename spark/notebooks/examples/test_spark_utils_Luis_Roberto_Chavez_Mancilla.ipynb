{
 "cells": [
  {
   "cell_type": "markdown",
   "id": "0c1042a5",
   "metadata": {},
   "source": [
    "# Actividad: Generate Schema Dynamically\n",
    "#### Nombre: Luis Roberto Chavez Mancilla\n",
    "#### Carrera: Ing. En Sistemas Computacionales"
   ]
  },
  {
   "cell_type": "code",
   "execution_count": 7,
   "id": "2fd32c74",
   "metadata": {},
   "outputs": [],
   "source": [
    "import findspark\n",
    "findspark.init()"
   ]
  },
  {
   "cell_type": "code",
   "execution_count": 8,
   "id": "548ff219",
   "metadata": {},
   "outputs": [
    {
     "data": {
      "text/plain": [
       "StructType([StructField('name', StringType(), True), StructField('age', IntegerType(), True), StructField('city', StringType(), True)])"
      ]
     },
     "execution_count": 8,
     "metadata": {},
     "output_type": "execute_result"
    }
   ],
   "source": [
    "from robertoman.spark_utils import SparkUtils\n",
    "\n",
    "schema = SparkUtils.generate_schema(\n",
    "    [(\"name\", \"string\"), (\"age\", \"int\"), (\"city\", \"string\")]\n",
    ")\n",
    "\n",
    "schema"
   ]
  }
 ],
 "metadata": {
  "kernelspec": {
   "display_name": "Python 3 (ipykernel)",
   "language": "python",
   "name": "python3"
  },
  "language_info": {
   "codemirror_mode": {
    "name": "ipython",
    "version": 3
   },
   "file_extension": ".py",
   "mimetype": "text/x-python",
   "name": "python",
   "nbconvert_exporter": "python",
   "pygments_lexer": "ipython3",
   "version": "3.10.12"
  }
 },
 "nbformat": 4,
 "nbformat_minor": 5
}
