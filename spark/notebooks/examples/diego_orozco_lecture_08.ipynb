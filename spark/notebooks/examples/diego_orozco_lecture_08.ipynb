{
 "cells": [
  {
   "cell_type": "markdown",
   "metadata": {},
   "source": [
    "# <center> <img src=\"../img/ITESOLogo.png\" alt=\"ITESO\" width=\"480\" height=\"130\"> </center>\n",
    "# <center> **Departamento de Electrónica, Sistemas e Informática** </center>\n",
    "---\n",
    "## <center> **Big Data** </center>\n",
    "---\n",
    "### <center> **Autumn 2025** </center>\n",
    "---\n",
    "### <center> **Examples on Spark SQL** </center>\n",
    "---\n",
    "**Profesor**: Pablo Camarillo Ramirez"
   ]
  },
  {
   "cell_type": "markdown",
   "metadata": {},
   "source": [
    "# Find the PySpark Installation"
   ]
  },
  {
   "cell_type": "code",
   "execution_count": 2,
   "metadata": {},
   "outputs": [],
   "source": [
    "import findspark\n",
    "findspark.init()"
   ]
  },
  {
   "cell_type": "markdown",
   "metadata": {},
   "source": [
    "# Create SparkSession"
   ]
  },
  {
   "cell_type": "code",
   "execution_count": 3,
   "metadata": {},
   "outputs": [
    {
     "name": "stderr",
     "output_type": "stream",
     "text": [
      "WARNING: Using incubator modules: jdk.incubator.vector\n",
      "Using Spark's default log4j profile: org/apache/spark/log4j2-defaults.properties\n",
      "Setting default log level to \"WARN\".\n",
      "To adjust logging level use sc.setLogLevel(newLevel). For SparkR, use setLogLevel(newLevel).\n",
      "25/09/12 14:08:36 WARN NativeCodeLoader: Unable to load native-hadoop library for your platform... using builtin-java classes where applicable\n",
      "25/09/12 14:08:46 WARN Utils: Service 'SparkUI' could not bind on port 4040. Attempting port 4041.\n"
     ]
    }
   ],
   "source": [
    "from pyspark.sql import SparkSession\n",
    "\n",
    "spark = SparkSession.builder \\\n",
    "    .appName(\"Examples on SparkSQL\") \\\n",
    "    .master(\"spark://3574bb3b1cb9:7077\") \\\n",
    "    .config(\"spark.ui.port\", \"4040\") \\\n",
    "    .getOrCreate()\n",
    "\n",
    "sc = spark.sparkContext\n",
    "sc.setLogLevel(\"ERROR\")"
   ]
  },
  {
   "cell_type": "code",
   "execution_count": 5,
   "metadata": {},
   "outputs": [
    {
     "data": {
      "text/plain": [
       "StructType([StructField('name', StringType(), True), StructField('age', IntegerType(), True), StructField('city', StringType(), True)])"
      ]
     },
     "execution_count": 5,
     "metadata": {},
     "output_type": "execute_result"
    }
   ],
   "source": [
    "from diego_orozco.spark_utils import SparkUtils\n",
    "schema = SparkUtils.generate_schema([(\"name\", \"string\"), (\"age\", \"int\"), (\"city\", \"string\")])\n",
    "schema"
   ]
  },
  {
   "cell_type": "markdown",
   "metadata": {},
   "source": [
    "## Example: Smart Factory Sensor Data"
   ]
  },
  {
   "cell_type": "code",
   "execution_count": null,
   "metadata": {},
   "outputs": [],
   "source": [
    "from datetime import datetime\n",
    "\n",
    "factory_data = [\n",
    "    (\"M001\", datetime(2025, 4, 26, 8, 0, 0), 75.3),\n",
    "    (\"M002\", datetime(2025, 4, 26, 8, 5, 0), 68.7),\n",
    "    (\"M001\", datetime(2025, 4, 26, 8, 10, 0), 76.1),\n",
    "    (\"M003\", datetime(2025, 4, 26, 8, 15, 0), 72.4),\n",
    "    (\"M002\", datetime(2025, 4, 26, 8, 20, 0), 69.8),\n",
    "    (\"M001\", datetime(2025, 4, 26, 8, 25, 0), 77.5),\n",
    "    (\"M003\", datetime(2025, 4, 26, 8, 30, 0), 73.2),\n",
    "    (\"M002\", datetime(2025, 4, 26, 8, 35, 0), 70.1),\n",
    "    (\"M001\", datetime(2025, 4, 26, 8, 40, 0), 78.0),\n",
    "    (\"M003\", datetime(2025, 4, 26, 8, 45, 0), 74.6),\n",
    "]\n",
    "\n",
    "factory_schema = SparkUtils.generate_schema([(\"machine_id\", \"string\"), (\"sensor_timestamp\", \"timestamp\"), (\"temp\", \"float\")])\n",
    "df_factory = spark.createDataFrame(factory_data, factory_schema)\n",
    "df_factory.show()"
   ]
  },
  {
   "cell_type": "code",
   "execution_count": null,
   "metadata": {},
   "outputs": [],
   "source": [
    "sc.stop()"
   ]
  }
 ],
 "metadata": {
  "kernelspec": {
   "display_name": "Python 3 (ipykernel)",
   "language": "python",
   "name": "python3"
  },
  "language_info": {
   "codemirror_mode": {
    "name": "ipython",
    "version": 3
   },
   "file_extension": ".py",
   "mimetype": "text/x-python",
   "name": "python",
   "nbconvert_exporter": "python",
   "pygments_lexer": "ipython3",
   "version": "3.10.12"
  }
 },
 "nbformat": 4,
 "nbformat_minor": 4
}
