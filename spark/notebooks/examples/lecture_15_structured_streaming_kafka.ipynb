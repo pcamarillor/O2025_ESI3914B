{
 "cells": [
  {
   "cell_type": "markdown",
   "metadata": {},
   "source": [
    "# <center> <img src=\"../img/ITESOLogo.png\" alt=\"ITESO\" width=\"480\" height=\"130\"> </center>\n",
    "# <center> **Departamento de Electrónica, Sistemas e Informática** </center>\n",
    "---\n",
    "## <center> **Big Data** </center>\n",
    "---\n",
    "### <center> **Autumn 2025** </center>\n",
    "---\n",
    "### <center> **Examples on Structured Streaming (Kafka)** </center>\n",
    "---\n",
    "**Profesor**: Pablo Camarillo Ramirez"
   ]
  },
  {
   "cell_type": "markdown",
   "metadata": {},
   "source": [
    "# Install Kafka SERVER\n",
    "\n",
    "Go to `kafka` folder and run:\n",
    "\n",
    "`docker compose up -d`"
   ]
  },
  {
   "cell_type": "markdown",
   "metadata": {},
   "source": [
    "# Create SparkSession\n",
    "## Install Kafka connector"
   ]
  },
  {
   "cell_type": "code",
   "execution_count": 1,
   "metadata": {},
   "outputs": [
    {
     "name": "stderr",
     "output_type": "stream",
     "text": [
      "WARNING: Using incubator modules: jdk.incubator.vector\n",
      ":: loading settings :: url = jar:file:/opt/spark/jars/ivy-2.5.3.jar!/org/apache/ivy/core/settings/ivysettings.xml\n",
      "Ivy Default Cache set to: /root/.ivy2.5.2/cache\n",
      "The jars for the packages stored in: /root/.ivy2.5.2/jars\n",
      "org.apache.spark#spark-sql-kafka-0-10_2.13 added as a dependency\n",
      ":: resolving dependencies :: org.apache.spark#spark-submit-parent-a5914ef1-a64b-4401-a1b5-f5ecaa892073;1.0\n",
      "\tconfs: [default]\n",
      "\tfound org.apache.spark#spark-sql-kafka-0-10_2.13;4.0.0 in central\n",
      "\tfound org.apache.spark#spark-token-provider-kafka-0-10_2.13;4.0.0 in central\n",
      "\tfound org.apache.kafka#kafka-clients;3.9.0 in central\n",
      "\tfound org.lz4#lz4-java;1.8.0 in central\n",
      "\tfound org.xerial.snappy#snappy-java;1.1.10.7 in central\n",
      "\tfound org.slf4j#slf4j-api;2.0.16 in central\n",
      "\tfound org.apache.hadoop#hadoop-client-runtime;3.4.1 in central\n",
      "\tfound org.apache.hadoop#hadoop-client-api;3.4.1 in central\n",
      "\tfound com.google.code.findbugs#jsr305;3.0.0 in central\n",
      "\tfound org.scala-lang.modules#scala-parallel-collections_2.13;1.2.0 in central\n",
      "\tfound org.apache.commons#commons-pool2;2.12.0 in central\n",
      "downloading https://repo1.maven.org/maven2/org/apache/spark/spark-sql-kafka-0-10_2.13/4.0.0/spark-sql-kafka-0-10_2.13-4.0.0.jar ...\n",
      "\t[SUCCESSFUL ] org.apache.spark#spark-sql-kafka-0-10_2.13;4.0.0!spark-sql-kafka-0-10_2.13.jar (121ms)\n",
      "downloading https://repo1.maven.org/maven2/org/apache/spark/spark-token-provider-kafka-0-10_2.13/4.0.0/spark-token-provider-kafka-0-10_2.13-4.0.0.jar ...\n",
      "\t[SUCCESSFUL ] org.apache.spark#spark-token-provider-kafka-0-10_2.13;4.0.0!spark-token-provider-kafka-0-10_2.13.jar (106ms)\n",
      "downloading https://repo1.maven.org/maven2/org/scala-lang/modules/scala-parallel-collections_2.13/1.2.0/scala-parallel-collections_2.13-1.2.0.jar ...\n",
      "\t[SUCCESSFUL ] org.scala-lang.modules#scala-parallel-collections_2.13;1.2.0!scala-parallel-collections_2.13.jar (197ms)\n",
      "downloading https://repo1.maven.org/maven2/org/apache/kafka/kafka-clients/3.9.0/kafka-clients-3.9.0.jar ...\n",
      "\t[SUCCESSFUL ] org.apache.kafka#kafka-clients;3.9.0!kafka-clients.jar (889ms)\n",
      "downloading https://repo1.maven.org/maven2/com/google/code/findbugs/jsr305/3.0.0/jsr305-3.0.0.jar ...\n",
      "\t[SUCCESSFUL ] com.google.code.findbugs#jsr305;3.0.0!jsr305.jar (82ms)\n",
      "downloading https://repo1.maven.org/maven2/org/apache/commons/commons-pool2/2.12.0/commons-pool2-2.12.0.jar ...\n",
      "\t[SUCCESSFUL ] org.apache.commons#commons-pool2;2.12.0!commons-pool2.jar (85ms)\n",
      "downloading https://repo1.maven.org/maven2/org/apache/hadoop/hadoop-client-runtime/3.4.1/hadoop-client-runtime-3.4.1.jar ...\n",
      "\t[SUCCESSFUL ] org.apache.hadoop#hadoop-client-runtime;3.4.1!hadoop-client-runtime.jar (2709ms)\n",
      "downloading https://repo1.maven.org/maven2/org/lz4/lz4-java/1.8.0/lz4-java-1.8.0.jar ...\n",
      "\t[SUCCESSFUL ] org.lz4#lz4-java;1.8.0!lz4-java.jar (147ms)\n",
      "downloading https://repo1.maven.org/maven2/org/xerial/snappy/snappy-java/1.1.10.7/snappy-java-1.1.10.7.jar ...\n",
      "\t[SUCCESSFUL ] org.xerial.snappy#snappy-java;1.1.10.7!snappy-java.jar(bundle) (328ms)\n",
      "downloading https://repo1.maven.org/maven2/org/slf4j/slf4j-api/2.0.16/slf4j-api-2.0.16.jar ...\n",
      "\t[SUCCESSFUL ] org.slf4j#slf4j-api;2.0.16!slf4j-api.jar (93ms)\n",
      "downloading https://repo1.maven.org/maven2/org/apache/hadoop/hadoop-client-api/3.4.1/hadoop-client-api-3.4.1.jar ...\n",
      "\t[SUCCESSFUL ] org.apache.hadoop#hadoop-client-api;3.4.1!hadoop-client-api.jar (1764ms)\n",
      ":: resolution report :: resolve 5826ms :: artifacts dl 6531ms\n",
      "\t:: modules in use:\n",
      "\tcom.google.code.findbugs#jsr305;3.0.0 from central in [default]\n",
      "\torg.apache.commons#commons-pool2;2.12.0 from central in [default]\n",
      "\torg.apache.hadoop#hadoop-client-api;3.4.1 from central in [default]\n",
      "\torg.apache.hadoop#hadoop-client-runtime;3.4.1 from central in [default]\n",
      "\torg.apache.kafka#kafka-clients;3.9.0 from central in [default]\n",
      "\torg.apache.spark#spark-sql-kafka-0-10_2.13;4.0.0 from central in [default]\n",
      "\torg.apache.spark#spark-token-provider-kafka-0-10_2.13;4.0.0 from central in [default]\n",
      "\torg.lz4#lz4-java;1.8.0 from central in [default]\n",
      "\torg.scala-lang.modules#scala-parallel-collections_2.13;1.2.0 from central in [default]\n",
      "\torg.slf4j#slf4j-api;2.0.16 from central in [default]\n",
      "\torg.xerial.snappy#snappy-java;1.1.10.7 from central in [default]\n",
      "\t---------------------------------------------------------------------\n",
      "\t|                  |            modules            ||   artifacts   |\n",
      "\t|       conf       | number| search|dwnlded|evicted|| number|dwnlded|\n",
      "\t---------------------------------------------------------------------\n",
      "\t|      default     |   11  |   11  |   11  |   0   ||   11  |   11  |\n",
      "\t---------------------------------------------------------------------\n",
      ":: retrieving :: org.apache.spark#spark-submit-parent-a5914ef1-a64b-4401-a1b5-f5ecaa892073\n",
      "\tconfs: [default]\n",
      "\t11 artifacts copied, 0 already retrieved (62673kB/73ms)\n",
      "25/10/10 15:29:37 WARN NativeCodeLoader: Unable to load native-hadoop library for your platform... using builtin-java classes where applicable\n",
      "Using Spark's default log4j profile: org/apache/spark/log4j2-defaults.properties\n",
      "Setting default log level to \"WARN\".\n",
      "To adjust logging level use sc.setLogLevel(newLevel). For SparkR, use setLogLevel(newLevel).\n"
     ]
    }
   ],
   "source": [
    "import findspark\n",
    "findspark.init()\n",
    "\n",
    "from pyspark.sql import SparkSession\n",
    "\n",
    "spark = SparkSession.builder \\\n",
    "    .appName(\"Examples on Structured Streaming (Kafka)\") \\\n",
    "    .master(\"spark://spark-master:7077\") \\\n",
    "    .config(\"spark.jars.packages\", \"org.apache.spark:spark-sql-kafka-0-10_2.13:4.0.0\") \\\n",
    "    .config(\"spark.ui.port\", \"4040\") \\\n",
    "    .getOrCreate()\n",
    "\n",
    "sc = spark.sparkContext\n",
    "sc.setLogLevel(\"INFO\")\n",
    "\n",
    "# Optimization (reduce the number of shuffle partitions)\n",
    "spark.conf.set(\"spark.sql.shuffle.partitions\", \"5\")"
   ]
  },
  {
   "cell_type": "markdown",
   "metadata": {},
   "source": [
    "# Create a data stream from a Kafka topic"
   ]
  },
  {
   "cell_type": "code",
   "execution_count": null,
   "metadata": {},
   "outputs": [
    {
     "name": "stdout",
     "output_type": "stream",
     "text": [
      "root\n",
      " |-- key: binary (nullable = true)\n",
      " |-- value: binary (nullable = true)\n",
      " |-- topic: string (nullable = true)\n",
      " |-- partition: integer (nullable = true)\n",
      " |-- offset: long (nullable = true)\n",
      " |-- timestamp: timestamp (nullable = true)\n",
      " |-- timestampType: integer (nullable = true)\n",
      "\n"
     ]
    },
    {
     "name": "stderr",
     "output_type": "stream",
     "text": [
      "25/10/10 15:44:04 WARN ResolveWriteToStream: Temporary checkpoint location created which is deleted normally when the query didn't fail: /tmp/temporary-24f8c8a0-61f7-4457-a1e0-fe844e86e89a. If it's required to delete it under any circumstances, please set spark.sql.streaming.forceDeleteTempCheckpointLocation to true. Important to know deleting temp checkpoint folder is best effort.\n",
      "25/10/10 15:44:04 WARN ResolveWriteToStream: spark.sql.adaptive.enabled is not supported in streaming DataFrames/Datasets and will be disabled.\n"
     ]
    },
    {
     "name": "stderr",
     "output_type": "stream",
     "text": [
      "                                                                                \r"
     ]
    },
    {
     "name": "stdout",
     "output_type": "stream",
     "text": [
      "-------------------------------------------\n",
      "Batch: 0\n",
      "-------------------------------------------\n",
      "+-----+\n",
      "|value|\n",
      "+-----+\n",
      "+-----+\n",
      "\n"
     ]
    },
    {
     "name": "stderr",
     "output_type": "stream",
     "text": [
      "25/10/10 15:44:17 WARN ProcessingTimeExecutor: Current batch is falling behind. The trigger interval is 1000} milliseconds, but spent 11567 milliseconds\n",
      "                                                                                \r"
     ]
    },
    {
     "name": "stdout",
     "output_type": "stream",
     "text": [
      "-------------------------------------------\n",
      "Batch: 1\n",
      "-------------------------------------------\n",
      "+--------------------+\n",
      "|               value|\n",
      "+--------------------+\n",
      "|Hola mi nombre es...|\n",
      "|Hola mi nombre es...|\n",
      "+--------------------+\n",
      "\n"
     ]
    },
    {
     "name": "stderr",
     "output_type": "stream",
     "text": [
      "25/10/10 15:44:37 WARN ProcessingTimeExecutor: Current batch is falling behind. The trigger interval is 1000} milliseconds, but spent 8881 milliseconds\n",
      "                                                                                \r"
     ]
    },
    {
     "name": "stdout",
     "output_type": "stream",
     "text": [
      "-------------------------------------------\n",
      "Batch: 2\n",
      "-------------------------------------------\n",
      "+-----+\n",
      "|value|\n",
      "+-----+\n",
      "|     |\n",
      "+-----+\n",
      "\n"
     ]
    },
    {
     "name": "stderr",
     "output_type": "stream",
     "text": [
      "25/10/10 15:45:08 WARN ProcessingTimeExecutor: Current batch is falling behind. The trigger interval is 1000} milliseconds, but spent 1109 milliseconds\n"
     ]
    },
    {
     "name": "stdout",
     "output_type": "stream",
     "text": [
      "-------------------------------------------\n",
      "Batch: 3\n",
      "-------------------------------------------\n",
      "+---------+\n",
      "|    value|\n",
      "+---------+\n",
      "|Hola hola|\n",
      "+---------+\n",
      "\n",
      "-------------------------------------------\n",
      "Batch: 4\n",
      "-------------------------------------------\n",
      "+------------------+\n",
      "|             value|\n",
      "+------------------+\n",
      "|Juan Carlos Alonso|\n",
      "+------------------+\n",
      "\n"
     ]
    }
   ],
   "source": [
    "# Create the remote connection\n",
    "kafka_df = spark.readStream \\\n",
    "            .format(\"kafka\") \\\n",
    "            .option(\"kafka.bootstrap.servers\", \"kafka:9093\") \\\n",
    "            .option(\"subscribe\", \"topic-juan-1\") \\\n",
    "            .load()\n",
    "\n",
    "kafka_df.printSchema()\n",
    "\n",
    "# Transform binary data to string\n",
    "df_input = kafka_df.selectExpr(\"CAST(value AS STRING)\")\n",
    "\n",
    "# Send transformed data to the Sink\n",
    "query_a = df_input.writeStream \\\n",
    "            .trigger(processingTime='1 second') \\\n",
    "            .outputMode(\"append\") \\\n",
    "            .format(\"console\") \\\n",
    "            .start()"
   ]
  },
  {
   "cell_type": "code",
   "execution_count": 3,
   "metadata": {},
   "outputs": [
    {
     "name": "stderr",
     "output_type": "stream",
     "text": [
      "25/10/10 15:52:12 WARN DAGScheduler: Failed to cancel job group 0682217e-ae0d-4379-9774-c8d63da96015. Cannot find active jobs for it.\n",
      "25/10/10 15:52:13 WARN DAGScheduler: Failed to cancel job group 0682217e-ae0d-4379-9774-c8d63da96015. Cannot find active jobs for it.\n"
     ]
    }
   ],
   "source": [
    "query_a.stop()\n",
    "sc.stop()"
   ]
  },
  {
   "cell_type": "markdown",
   "metadata": {},
   "source": [
    "## Add a Streaming listener"
   ]
  },
  {
   "cell_type": "code",
   "execution_count": null,
   "metadata": {},
   "outputs": [
    {
     "name": "stderr",
     "output_type": "stream",
     "text": [
      "WARNING: Using incubator modules: jdk.incubator.vector\n",
      ":: loading settings :: url = jar:file:/opt/spark/jars/ivy-2.5.3.jar!/org/apache/ivy/core/settings/ivysettings.xml\n",
      "Ivy Default Cache set to: /root/.ivy2.5.2/cache\n",
      "The jars for the packages stored in: /root/.ivy2.5.2/jars\n",
      "org.apache.spark#spark-sql-kafka-0-10_2.13 added as a dependency\n",
      ":: resolving dependencies :: org.apache.spark#spark-submit-parent-8ccddcfb-74c9-4eb7-a1e2-66d03960a022;1.0\n",
      "\tconfs: [default]\n",
      "\tfound org.apache.spark#spark-sql-kafka-0-10_2.13;4.0.0 in central\n",
      "\tfound org.apache.spark#spark-token-provider-kafka-0-10_2.13;4.0.0 in central\n",
      "\tfound org.apache.kafka#kafka-clients;3.9.0 in central\n",
      "\tfound org.lz4#lz4-java;1.8.0 in central\n",
      "\tfound org.xerial.snappy#snappy-java;1.1.10.7 in central\n",
      "\tfound org.slf4j#slf4j-api;2.0.16 in central\n",
      "\tfound org.apache.hadoop#hadoop-client-runtime;3.4.1 in central\n",
      "\tfound org.apache.hadoop#hadoop-client-api;3.4.1 in central\n",
      "\tfound com.google.code.findbugs#jsr305;3.0.0 in central\n",
      "\tfound org.scala-lang.modules#scala-parallel-collections_2.13;1.2.0 in central\n",
      "\tfound org.apache.commons#commons-pool2;2.12.0 in central\n",
      ":: resolution report :: resolve 578ms :: artifacts dl 8ms\n",
      "\t:: modules in use:\n",
      "\tcom.google.code.findbugs#jsr305;3.0.0 from central in [default]\n",
      "\torg.apache.commons#commons-pool2;2.12.0 from central in [default]\n",
      "\torg.apache.hadoop#hadoop-client-api;3.4.1 from central in [default]\n",
      "\torg.apache.hadoop#hadoop-client-runtime;3.4.1 from central in [default]\n",
      "\torg.apache.kafka#kafka-clients;3.9.0 from central in [default]\n",
      "\torg.apache.spark#spark-sql-kafka-0-10_2.13;4.0.0 from central in [default]\n",
      "\torg.apache.spark#spark-token-provider-kafka-0-10_2.13;4.0.0 from central in [default]\n",
      "\torg.lz4#lz4-java;1.8.0 from central in [default]\n",
      "\torg.scala-lang.modules#scala-parallel-collections_2.13;1.2.0 from central in [default]\n",
      "\torg.slf4j#slf4j-api;2.0.16 from central in [default]\n",
      "\torg.xerial.snappy#snappy-java;1.1.10.7 from central in [default]\n",
      "\t---------------------------------------------------------------------\n",
      "\t|                  |            modules            ||   artifacts   |\n",
      "\t|       conf       | number| search|dwnlded|evicted|| number|dwnlded|\n",
      "\t---------------------------------------------------------------------\n",
      "\t|      default     |   11  |   0   |   0   |   0   ||   11  |   0   |\n",
      "\t---------------------------------------------------------------------\n",
      ":: retrieving :: org.apache.spark#spark-submit-parent-8ccddcfb-74c9-4eb7-a1e2-66d03960a022\n",
      "\tconfs: [default]\n",
      "\t0 artifacts copied, 11 already retrieved (0kB/8ms)\n",
      "25/10/10 15:57:03 WARN NativeCodeLoader: Unable to load native-hadoop library for your platform... using builtin-java classes where applicable\n",
      "Using Spark's default log4j profile: org/apache/spark/log4j2-defaults.properties\n",
      "Setting default log level to \"WARN\".\n",
      "To adjust logging level use sc.setLogLevel(newLevel). For SparkR, use setLogLevel(newLevel).\n"
     ]
    },
    {
     "name": "stdout",
     "output_type": "stream",
     "text": [
      "Query started: 0d77e869-0968-4121-a07f-6b37f6d627b8\n",
      "Query made progress: {\n",
      "  \"id\" : \"0d77e869-0968-4121-a07f-6b37f6d627b8\",\n",
      "  \"runId\" : \"b812308f-2bdd-4682-924f-0252c0d2599d\",\n",
      "  \"name\" : null,\n",
      "  \"timestamp\" : \"2025-10-10T16:12:14.517Z\",\n",
      "  \"batchId\" : 0,\n",
      "  \"batchDuration\" : 3970,\n",
      "  \"numInputRows\" : 0,\n",
      "  \"inputRowsPerSecond\" : 0.0,\n",
      "  \"processedRowsPerSecond\" : 0.0,\n",
      "  \"durationMs\" : {\n",
      "    \"addBatch\" : 2699,\n",
      "    \"commitOffsets\" : 121,\n",
      "    \"getBatch\" : 26,\n",
      "    \"latestOffset\" : 525,\n",
      "    \"queryPlanning\" : 545,\n",
      "    \"triggerExecution\" : 3967,\n",
      "    \"walCommit\" : 39\n",
      "  },\n",
      "  \"stateOperators\" : [ {\n",
      "    \"operatorName\" : \"stateStoreSave\",\n",
      "    \"numRowsTotal\" : 0,\n",
      "    \"numRowsUpdated\" : 0,\n",
      "    \"allUpdatesTimeMs\" : 40,\n",
      "    \"numRowsRemoved\" : 0,\n",
      "    \"allRemovalsTimeMs\" : 0,\n",
      "    \"commitTimeMs\" : 174,\n",
      "    \"memoryUsedBytes\" : 1200,\n",
      "    \"numRowsDroppedByWatermark\" : 0,\n",
      "    \"numShufflePartitions\" : 5,\n",
      "    \"numStateStoreInstances\" : 5,\n",
      "    \"customMetrics\" : {\n",
      "      \"loadedMapCacheHitCount\" : 0,\n",
      "      \"loadedMapCacheMissCount\" : 0,\n",
      "      \"stateOnCurrentVersionSizeBytes\" : 480\n",
      "    }\n",
      "  } ],\n",
      "  \"sources\" : [ {\n",
      "    \"description\" : \"KafkaV2[Subscribe[topic-juan-1]]\",\n",
      "    \"startOffset\" : null,\n",
      "    \"endOffset\" : {\n",
      "      \"topic-juan-1\" : {\n",
      "        \"0\" : 5\n",
      "      }\n",
      "    },\n",
      "    \"latestOffset\" : {\n",
      "      \"topic-juan-1\" : {\n",
      "        \"0\" : 5\n",
      "      }\n",
      "    },\n",
      "    \"numInputRows\" : 0,\n",
      "    \"inputRowsPerSecond\" : 0.0,\n",
      "    \"processedRowsPerSecond\" : 0.0,\n",
      "    \"metrics\" : {\n",
      "      \"avgOffsetsBehindLatest\" : \"0.0\",\n",
      "      \"maxOffsetsBehindLatest\" : \"0\",\n",
      "      \"minOffsetsBehindLatest\" : \"0\"\n",
      "    }\n",
      "  } ],\n",
      "  \"sink\" : {\n",
      "    \"description\" : \"org.apache.spark.sql.execution.streaming.ConsoleTable$@77040f8b\",\n",
      "    \"numOutputRows\" : 0\n",
      "  }\n",
      "}\n",
      "Query made progress: {\n",
      "  \"id\" : \"0d77e869-0968-4121-a07f-6b37f6d627b8\",\n",
      "  \"runId\" : \"b812308f-2bdd-4682-924f-0252c0d2599d\",\n",
      "  \"name\" : null,\n",
      "  \"timestamp\" : \"2025-10-10T16:12:28.000Z\",\n",
      "  \"batchId\" : 1,\n",
      "  \"batchDuration\" : 2274,\n",
      "  \"numInputRows\" : 1,\n",
      "  \"inputRowsPerSecond\" : 0.5,\n",
      "  \"processedRowsPerSecond\" : 0.4397537379067722,\n",
      "  \"durationMs\" : {\n",
      "    \"addBatch\" : 2174,\n",
      "    \"commitOffsets\" : 47,\n",
      "    \"getBatch\" : 0,\n",
      "    \"latestOffset\" : 6,\n",
      "    \"queryPlanning\" : 15,\n",
      "    \"triggerExecution\" : 2274,\n",
      "    \"walCommit\" : 32\n",
      "  },\n",
      "  \"stateOperators\" : [ {\n",
      "    \"operatorName\" : \"stateStoreSave\",\n",
      "    \"numRowsTotal\" : 3,\n",
      "    \"numRowsUpdated\" : 3,\n",
      "    \"allUpdatesTimeMs\" : 90,\n",
      "    \"numRowsRemoved\" : 0,\n",
      "    \"allRemovalsTimeMs\" : 0,\n",
      "    \"commitTimeMs\" : 112,\n",
      "    \"memoryUsedBytes\" : 2672,\n",
      "    \"numRowsDroppedByWatermark\" : 0,\n",
      "    \"numShufflePartitions\" : 5,\n",
      "    \"numStateStoreInstances\" : 5,\n",
      "    \"customMetrics\" : {\n",
      "      \"loadedMapCacheHitCount\" : 10,\n",
      "      \"loadedMapCacheMissCount\" : 0,\n",
      "      \"stateOnCurrentVersionSizeBytes\" : 1152\n",
      "    }\n",
      "  } ],\n",
      "  \"sources\" : [ {\n",
      "    \"description\" : \"KafkaV2[Subscribe[topic-juan-1]]\",\n",
      "    \"startOffset\" : {\n",
      "      \"topic-juan-1\" : {\n",
      "        \"0\" : 5\n",
      "      }\n",
      "    },\n",
      "    \"endOffset\" : {\n",
      "      \"topic-juan-1\" : {\n",
      "        \"0\" : 6\n",
      "      }\n",
      "    },\n",
      "    \"latestOffset\" : {\n",
      "      \"topic-juan-1\" : {\n",
      "        \"0\" : 6\n",
      "      }\n",
      "    },\n",
      "    \"numInputRows\" : 1,\n",
      "    \"inputRowsPerSecond\" : 0.5,\n",
      "    \"processedRowsPerSecond\" : 0.4397537379067722,\n",
      "    \"metrics\" : {\n",
      "      \"avgOffsetsBehindLatest\" : \"0.0\",\n",
      "      \"maxOffsetsBehindLatest\" : \"0\",\n",
      "      \"minOffsetsBehindLatest\" : \"0\"\n",
      "    }\n",
      "  } ],\n",
      "  \"sink\" : {\n",
      "    \"description\" : \"org.apache.spark.sql.execution.streaming.ConsoleTable$@77040f8b\",\n",
      "    \"numOutputRows\" : 3\n",
      "  }\n",
      "}\n",
      "Query made progress: {\n",
      "  \"id\" : \"0d77e869-0968-4121-a07f-6b37f6d627b8\",\n",
      "  \"runId\" : \"b812308f-2bdd-4682-924f-0252c0d2599d\",\n",
      "  \"name\" : null,\n",
      "  \"timestamp\" : \"2025-10-10T16:12:30.276Z\",\n",
      "  \"batchId\" : 2,\n",
      "  \"batchDuration\" : 1105,\n",
      "  \"numInputRows\" : 1,\n",
      "  \"inputRowsPerSecond\" : 0.4393673110720563,\n",
      "  \"processedRowsPerSecond\" : 0.9049773755656109,\n",
      "  \"durationMs\" : {\n",
      "    \"addBatch\" : 999,\n",
      "    \"commitOffsets\" : 33,\n",
      "    \"getBatch\" : 0,\n",
      "    \"latestOffset\" : 5,\n",
      "    \"queryPlanning\" : 26,\n",
      "    \"triggerExecution\" : 1104,\n",
      "    \"walCommit\" : 40\n",
      "  },\n",
      "  \"stateOperators\" : [ {\n",
      "    \"operatorName\" : \"stateStoreSave\",\n",
      "    \"numRowsTotal\" : 8,\n",
      "    \"numRowsUpdated\" : 5,\n",
      "    \"allUpdatesTimeMs\" : 30,\n",
      "    \"numRowsRemoved\" : 0,\n",
      "    \"allRemovalsTimeMs\" : 0,\n",
      "    \"commitTimeMs\" : 132,\n",
      "    \"memoryUsedBytes\" : 3840,\n",
      "    \"numRowsDroppedByWatermark\" : 0,\n",
      "    \"numShufflePartitions\" : 5,\n",
      "    \"numStateStoreInstances\" : 5,\n",
      "    \"customMetrics\" : {\n",
      "      \"loadedMapCacheHitCount\" : 20,\n",
      "      \"loadedMapCacheMissCount\" : 0,\n",
      "      \"stateOnCurrentVersionSizeBytes\" : 2104\n",
      "    }\n",
      "  } ],\n",
      "  \"sources\" : [ {\n",
      "    \"description\" : \"KafkaV2[Subscribe[topic-juan-1]]\",\n",
      "    \"startOffset\" : {\n",
      "      \"topic-juan-1\" : {\n",
      "        \"0\" : 6\n",
      "      }\n",
      "    },\n",
      "    \"endOffset\" : {\n",
      "      \"topic-juan-1\" : {\n",
      "        \"0\" : 7\n",
      "      }\n",
      "    },\n",
      "    \"latestOffset\" : {\n",
      "      \"topic-juan-1\" : {\n",
      "        \"0\" : 7\n",
      "      }\n",
      "    },\n",
      "    \"numInputRows\" : 1,\n",
      "    \"inputRowsPerSecond\" : 0.4393673110720563,\n",
      "    \"processedRowsPerSecond\" : 0.9049773755656109,\n",
      "    \"metrics\" : {\n",
      "      \"avgOffsetsBehindLatest\" : \"0.0\",\n",
      "      \"maxOffsetsBehindLatest\" : \"0\",\n",
      "      \"minOffsetsBehindLatest\" : \"0\"\n",
      "    }\n",
      "  } ],\n",
      "  \"sink\" : {\n",
      "    \"description\" : \"org.apache.spark.sql.execution.streaming.ConsoleTable$@77040f8b\",\n",
      "    \"numOutputRows\" : 8\n",
      "  }\n",
      "}\n",
      "Query terminated: 0d77e869-0968-4121-a07f-6b37f6d627b8\n"
     ]
    }
   ],
   "source": [
    "import findspark\n",
    "findspark.init()\n",
    "\n",
    "from pyspark.sql import SparkSession\n",
    "from pcamarillor.streaming_listener import MyListener\n",
    "\n",
    "spark = SparkSession.builder \\\n",
    "    .appName(\"Examples on Structured Streaming (Kafka)\") \\\n",
    "    .master(\"spark://spark-master:7077\") \\\n",
    "    .config(\"spark.jars.packages\", \"org.apache.spark:spark-sql-kafka-0-10_2.13:4.0.0\") \\\n",
    "    .config(\"spark.ui.port\", \"4040\") \\\n",
    "    .getOrCreate()\n",
    "\n",
    "sc = spark.sparkContext\n",
    "\n",
    "# Optimization (reduce the number of shuffle partitions)\n",
    "spark.conf.set(\"spark.sql.shuffle.partitions\", \"5\")\n",
    "\n",
    "# Add custom listener\n",
    "spark.streams.addListener(MyListener())"
   ]
  },
  {
   "cell_type": "code",
   "execution_count": 2,
   "metadata": {},
   "outputs": [
    {
     "name": "stderr",
     "output_type": "stream",
     "text": [
      "25/10/10 16:12:14 WARN ResolveWriteToStream: Temporary checkpoint location created which is deleted normally when the query didn't fail: /tmp/temporary-cdc773e4-4b72-457d-bec4-88e153fac431. If it's required to delete it under any circumstances, please set spark.sql.streaming.forceDeleteTempCheckpointLocation to true. Important to know deleting temp checkpoint folder is best effort.\n",
      "25/10/10 16:12:14 WARN ResolveWriteToStream: spark.sql.adaptive.enabled is not supported in streaming DataFrames/Datasets and will be disabled.\n",
      "25/10/10 16:12:18 WARN ProcessingTimeExecutor: Current batch is falling behind. The trigger interval is 2000} milliseconds, but spent 3991 milliseconds\n"
     ]
    },
    {
     "name": "stdout",
     "output_type": "stream",
     "text": [
      "-------------------------------------------\n",
      "Batch: 0\n",
      "-------------------------------------------\n",
      "+----+-----+\n",
      "|word|count|\n",
      "+----+-----+\n",
      "+----+-----+\n",
      "\n"
     ]
    },
    {
     "name": "stderr",
     "output_type": "stream",
     "text": [
      "25/10/10 16:12:30 WARN ProcessingTimeExecutor: Current batch is falling behind. The trigger interval is 2000} milliseconds, but spent 2275 milliseconds\n"
     ]
    },
    {
     "name": "stdout",
     "output_type": "stream",
     "text": [
      "-------------------------------------------\n",
      "Batch: 1\n",
      "-------------------------------------------\n",
      "+-----+-----+\n",
      "| word|count|\n",
      "+-----+-----+\n",
      "|   de|    1|\n",
      "|nuevo|    1|\n",
      "| Hola|    1|\n",
      "+-----+-----+\n",
      "\n",
      "-------------------------------------------\n",
      "Batch: 2\n",
      "-------------------------------------------\n",
      "+------+-----+\n",
      "|  word|count|\n",
      "+------+-----+\n",
      "|nombre|    1|\n",
      "|    es|    1|\n",
      "|    Mi|    1|\n",
      "|    de|    1|\n",
      "| nuevo|    1|\n",
      "|  juan|    1|\n",
      "|alonso|    1|\n",
      "|  Hola|    1|\n",
      "+------+-----+\n",
      "\n"
     ]
    },
    {
     "data": {
      "text/plain": [
       "False"
      ]
     },
     "execution_count": 2,
     "metadata": {},
     "output_type": "execute_result"
    }
   ],
   "source": [
    "# Create the remote connection\n",
    "kafka_df = spark.readStream \\\n",
    "            .format(\"kafka\") \\\n",
    "            .option(\"kafka.bootstrap.servers\", \"kafka:9093\") \\\n",
    "            .option(\"subscribe\", \"topic-juan-1\") \\\n",
    "            .load()\n",
    "\n",
    "\n",
    "# Transform binary data to string\n",
    "df_input = kafka_df.selectExpr(\"CAST(value AS STRING)\")\n",
    "\n",
    "from pyspark.sql.functions import explode, split\n",
    "\n",
    "df_input = df_input.select(explode(split(df_input.value, \" \")).alias(\"word\"))\n",
    "df_input = df_input.groupBy(\"word\").count()\n",
    "\n",
    "# Send transformed data to the Sink\n",
    "query_b = df_input.writeStream \\\n",
    "            .trigger(processingTime='2 seconds') \\\n",
    "            .outputMode(\"complete\") \\\n",
    "            .format(\"console\") \\\n",
    "            .start()\n",
    "\n",
    "\n",
    "query_b.awaitTermination(60)"
   ]
  },
  {
   "attachments": {
    "image.png": {
     "image/png": "[encoded data removed]"
    }
   },
   "cell_type": "markdown",
   "metadata": {},
   "source": [
    "![image.png](attachment:image.png)"
   ]
  },
  {
   "cell_type": "code",
   "execution_count": 3,
   "metadata": {},
   "outputs": [
    {
     "name": "stderr",
     "output_type": "stream",
     "text": [
      "25/10/10 16:13:14 WARN DAGScheduler: Failed to cancel job group b812308f-2bdd-4682-924f-0252c0d2599d. Cannot find active jobs for it.\n",
      "25/10/10 16:13:14 WARN DAGScheduler: Failed to cancel job group b812308f-2bdd-4682-924f-0252c0d2599d. Cannot find active jobs for it.\n"
     ]
    }
   ],
   "source": [
    "query_b.stop()\n",
    "sc.stop()"
   ]
  }
 ],
 "metadata": {
  "kernelspec": {
   "display_name": "Python 3 (ipykernel)",
   "language": "python",
   "name": "python3"
  },
  "language_info": {
   "codemirror_mode": {
    "name": "ipython",
    "version": 3
   },
   "file_extension": ".py",
   "mimetype": "text/x-python",
   "name": "python",
   "nbconvert_exporter": "python",
   "pygments_lexer": "ipython3",
   "version": "3.10.12"
  }
 },
 "nbformat": 4,
 "nbformat_minor": 4
}
