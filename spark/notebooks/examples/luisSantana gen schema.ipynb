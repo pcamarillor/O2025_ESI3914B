{
 "cells": [
  {
   "cell_type": "markdown",
   "id": "f2b0465b",
   "metadata": {},
   "source": [
    "# <center> <img src=\"../../img/ITESOLogo.png\" alt=\"ITESO\" width=\"480\" height=\"130\"> </center>\n",
    "# <center> **Departamento de Electrónica, Sistemas e Informática** </center>\n",
    "---\n",
    "## <center> Program: _Ingenieria en Sistemas Computacionales_  </center>\n",
    "---\n",
    "### <center> **Autumn 2025** </center>\n",
    "---\n",
    "\n",
    "**Activity**: Generate Schema\n",
    "\n",
    "**Date**: Aug 29, 2025\n",
    "\n",
    "**Student Name**: Luis Angel Santana Hernandez\n",
    "\n",
    "**Professor**: Pablo Camarillo Ramirez "
   ]
  },
  {
   "cell_type": "markdown",
   "id": "b621df14",
   "metadata": {},
   "source": [
    "# Find the PySpark Installation"
   ]
  },
  {
   "cell_type": "code",
   "execution_count": 95,
   "id": "9e3a03e6",
   "metadata": {},
   "outputs": [],
   "source": [
    "import findspark\n",
    "findspark.init()"
   ]
  },
  {
   "cell_type": "markdown",
   "id": "bef442d0",
   "metadata": {},
   "source": [
    "# Create SparkSession"
   ]
  },
  {
   "cell_type": "code",
   "execution_count": 96,
   "id": "5556bef3",
   "metadata": {},
   "outputs": [],
   "source": [
    "from pyspark.sql import SparkSession\n",
    "\n",
    "spark = SparkSession.builder \\\n",
    "    .appName(\"Examples on SparkSQL\") \\\n",
    "    .master(\"spark://4dcc0176a67d:7077\") \\\n",
    "    .config(\"spark.ui.port\", \"4040\") \\\n",
    "    .getOrCreate()\n",
    "\n",
    "sc = spark.sparkContext\n",
    "sc.setLogLevel(\"ERROR\")"
   ]
  },
  {
   "cell_type": "code",
   "execution_count": 97,
   "id": "4287c963",
   "metadata": {},
   "outputs": [
    {
     "data": {
      "text/plain": [
       "StructType([StructField('name', StringType(), True), StructField('age', IntegerType(), True), StructField('city', StringType(), True)])"
      ]
     },
     "execution_count": 97,
     "metadata": {},
     "output_type": "execute_result"
    }
   ],
   "source": [
    "from luis_santana.spark_utils import SparkUtils\n",
    "schema = SparkUtils.generate_schema([(\"name\", \"string\"), (\"age\", \"int\"), (\"city\", \"string\")])\n",
    "schema"
   ]
  },
  {
   "cell_type": "markdown",
   "id": "2aae2349",
   "metadata": {},
   "source": [
    "## Example: Smart Factory Sensor Data"
   ]
  },
  {
   "cell_type": "code",
   "execution_count": 98,
   "id": "480e6f7d",
   "metadata": {},
   "outputs": [
    {
     "name": "stdout",
     "output_type": "stream",
     "text": [
      "+----------+-------------------+----+\n",
      "|machine_id|   sensor_timestamp|temp|\n",
      "+----------+-------------------+----+\n",
      "|      M001|2025-04-26 08:00:00|75.3|\n",
      "|      M002|2025-04-26 08:05:00|68.7|\n",
      "|      M001|2025-04-26 08:10:00|76.1|\n",
      "|      M003|2025-04-26 08:15:00|72.4|\n",
      "|      M002|2025-04-26 08:20:00|69.8|\n",
      "|      M001|2025-04-26 08:25:00|77.5|\n",
      "|      M003|2025-04-26 08:30:00|73.2|\n",
      "|      M002|2025-04-26 08:35:00|70.1|\n",
      "|      M001|2025-04-26 08:40:00|78.0|\n",
      "|      M003|2025-04-26 08:45:00|74.6|\n",
      "+----------+-------------------+----+\n",
      "\n"
     ]
    }
   ],
   "source": [
    "from datetime import datetime\n",
    "\n",
    "factory_data = [\n",
    "    (\"M001\", datetime(2025, 4, 26, 8, 0, 0), 75.3),\n",
    "    (\"M002\", datetime(2025, 4, 26, 8, 5, 0), 68.7),\n",
    "    (\"M001\", datetime(2025, 4, 26, 8, 10, 0), 76.1),\n",
    "    (\"M003\", datetime(2025, 4, 26, 8, 15, 0), 72.4),\n",
    "    (\"M002\", datetime(2025, 4, 26, 8, 20, 0), 69.8),\n",
    "    (\"M001\", datetime(2025, 4, 26, 8, 25, 0), 77.5),\n",
    "    (\"M003\", datetime(2025, 4, 26, 8, 30, 0), 73.2),\n",
    "    (\"M002\", datetime(2025, 4, 26, 8, 35, 0), 70.1),\n",
    "    (\"M001\", datetime(2025, 4, 26, 8, 40, 0), 78.0),\n",
    "    (\"M003\", datetime(2025, 4, 26, 8, 45, 0), 74.6),\n",
    "]\n",
    "\n",
    "factory_schema = SparkUtils.generate_schema([(\"machine_id\", \"string\"), (\"sensor_timestamp\", \"timestamp\"), (\"temp\", \"float\")])\n",
    "df_factory = spark.createDataFrame(factory_data, factory_schema)\n",
    "df_factory.show()"
   ]
  },
  {
   "cell_type": "markdown",
   "id": "3fa36bca",
   "metadata": {},
   "source": [
    "## Filtering and couting Data"
   ]
  },
  {
   "cell_type": "code",
   "execution_count": 99,
   "id": "f6ea1b96",
   "metadata": {},
   "outputs": [
    {
     "name": "stdout",
     "output_type": "stream",
     "text": [
      "+----------+----------------+----+\n",
      "|machine_id|sensor_timestamp|temp|\n",
      "+----------+----------------+----+\n",
      "+----------+----------------+----+\n",
      "\n"
     ]
    }
   ],
   "source": [
    "from pyspark.sql.functions import col\n",
    "filtered_df = df_factory.filter(col(\"temp\") > 100)\n",
    "filtered_df.show()"
   ]
  },
  {
   "cell_type": "code",
   "execution_count": 100,
   "id": "648aa602",
   "metadata": {},
   "outputs": [
    {
     "name": "stderr",
     "output_type": "stream",
     "text": [
      "[Stage 149:============================>                            (1 + 1) / 2]\r"
     ]
    },
    {
     "name": "stdout",
     "output_type": "stream",
     "text": [
      "Total records: 10\n"
     ]
    },
    {
     "name": "stderr",
     "output_type": "stream",
     "text": [
      "                                                                                \r"
     ]
    }
   ],
   "source": [
    "record_count = df_factory.count()\n",
    "print(f\"Total records: {record_count}\")"
   ]
  },
  {
   "cell_type": "markdown",
   "id": "66da4d7a",
   "metadata": {},
   "source": [
    "## Sorting and Grouping data"
   ]
  },
  {
   "cell_type": "code",
   "execution_count": 101,
   "id": "28b847d9",
   "metadata": {},
   "outputs": [
    {
     "name": "stdout",
     "output_type": "stream",
     "text": [
      "+----------+-------------------+----+\n",
      "|machine_id|   sensor_timestamp|temp|\n",
      "+----------+-------------------+----+\n",
      "|      M001|2025-04-26 08:40:00|78.0|\n",
      "|      M001|2025-04-26 08:25:00|77.5|\n",
      "|      M001|2025-04-26 08:10:00|76.1|\n",
      "|      M001|2025-04-26 08:00:00|75.3|\n",
      "|      M003|2025-04-26 08:45:00|74.6|\n",
      "|      M003|2025-04-26 08:30:00|73.2|\n",
      "|      M003|2025-04-26 08:15:00|72.4|\n",
      "|      M002|2025-04-26 08:35:00|70.1|\n",
      "|      M002|2025-04-26 08:20:00|69.8|\n",
      "|      M002|2025-04-26 08:05:00|68.7|\n",
      "+----------+-------------------+----+\n",
      "\n"
     ]
    }
   ],
   "source": [
    "ordered_df = df_factory.orderBy(col(\"temp\"), ascending=False)\n",
    "ordered_df.show()"
   ]
  },
  {
   "cell_type": "code",
   "execution_count": 102,
   "id": "918ec5b4",
   "metadata": {},
   "outputs": [
    {
     "name": "stdout",
     "output_type": "stream",
     "text": [
      "+----------+-----+\n",
      "|machine_id|count|\n",
      "+----------+-----+\n",
      "|      M002|    3|\n",
      "|      M003|    3|\n",
      "|      M001|    4|\n",
      "+----------+-----+\n",
      "\n"
     ]
    },
    {
     "name": "stderr",
     "output_type": "stream",
     "text": [
      "                                                                                \r"
     ]
    }
   ],
   "source": [
    "grouped_df = df_factory.groupBy(\"machine_id\").count()\n",
    "grouped_df.show()"
   ]
  },
  {
   "cell_type": "markdown",
   "id": "cfdcc88a",
   "metadata": {},
   "source": [
    "## Agregations"
   ]
  },
  {
   "cell_type": "code",
   "execution_count": 103,
   "id": "15cf544f",
   "metadata": {},
   "outputs": [
    {
     "name": "stderr",
     "output_type": "stream",
     "text": [
      "[Stage 156:============================>                            (1 + 1) / 2]\r"
     ]
    },
    {
     "name": "stdout",
     "output_type": "stream",
     "text": [
      "+----------+-----------------+--------+--------+\n",
      "|machine_id|         avg_temp|min_temp|max_temp|\n",
      "+----------+-----------------+--------+--------+\n",
      "|      M002|69.53333282470703|    68.7|    70.1|\n",
      "|      M003|73.39999898274739|    72.4|    74.6|\n",
      "|      M001|76.72500038146973|    75.3|    78.0|\n",
      "+----------+-----------------+--------+--------+\n",
      "\n"
     ]
    },
    {
     "name": "stderr",
     "output_type": "stream",
     "text": [
      "                                                                                \r"
     ]
    }
   ],
   "source": [
    "from pyspark.sql.functions import avg, min, max\n",
    "agg_df = df_factory.groupBy(\"machine_id\").agg(\n",
    "avg(\"temp\").alias(\"avg_temp\"),\n",
    "min(\"temp\").alias(\"min_temp\"),\n",
    "max(\"temp\").alias(\"max_temp\")\n",
    ")\n",
    "agg_df.show()\n",
    "\n"
   ]
  },
  {
   "cell_type": "markdown",
   "id": "3f1e7c2b",
   "metadata": {},
   "source": [
    "## Activity\n",
    "Using SparkSQL, you need to:\n",
    "1. Explore the schema of the DataFrame\n",
    "2. Get the average temperature per machine\n",
    "3. Find the maximum and minimum temperature per machine\n",
    "4. Filter records above a temperature threshold (temp > 75).\n",
    "5. Count of readings per machine\n",
    "6. Machine with the highest temperature\n"
   ]
  },
  {
   "cell_type": "markdown",
   "id": "4b2e2cce",
   "metadata": {},
   "source": [
    "### Explore the schema of the DataFrame\n"
   ]
  },
  {
   "cell_type": "code",
   "execution_count": 104,
   "id": "445f0e43",
   "metadata": {},
   "outputs": [
    {
     "name": "stdout",
     "output_type": "stream",
     "text": [
      "root\n",
      " |-- machine_id: string (nullable = true)\n",
      " |-- sensor_timestamp: timestamp (nullable = true)\n",
      " |-- temp: float (nullable = true)\n",
      "\n"
     ]
    }
   ],
   "source": [
    "# 1. Explore the schema of the DataFrame\n",
    "df_factory.printSchema()\n"
   ]
  },
  {
   "cell_type": "markdown",
   "id": "24b01103",
   "metadata": {},
   "source": [
    "### Get the average temperature per machine\n"
   ]
  },
  {
   "cell_type": "code",
   "execution_count": 105,
   "id": "aa93a59b",
   "metadata": {},
   "outputs": [
    {
     "name": "stderr",
     "output_type": "stream",
     "text": [
      "[Stage 159:============================>                            (1 + 1) / 2]\r"
     ]
    },
    {
     "name": "stdout",
     "output_type": "stream",
     "text": [
      "+----------+-----------------+\n",
      "|machine_id|         avg_temp|\n",
      "+----------+-----------------+\n",
      "|      M002|69.53333282470703|\n",
      "|      M003|73.39999898274739|\n",
      "|      M001|76.72500038146973|\n",
      "+----------+-----------------+\n",
      "\n"
     ]
    },
    {
     "name": "stderr",
     "output_type": "stream",
     "text": [
      "                                                                                \r"
     ]
    }
   ],
   "source": [
    "# 2. Get the average temperature per machine\n",
    "\n",
    "avg_df = df_factory.groupBy(\"machine_id\").agg(\n",
    "    avg(\"temp\").alias(\"avg_temp\")\n",
    ")\n",
    "avg_df.show()\n"
   ]
  },
  {
   "cell_type": "markdown",
   "id": "de31e8e0",
   "metadata": {},
   "source": [
    "### 3. Find the maximum and minimum temperature per machine"
   ]
  },
  {
   "cell_type": "code",
   "execution_count": 106,
   "id": "2204bd46",
   "metadata": {},
   "outputs": [
    {
     "name": "stdout",
     "output_type": "stream",
     "text": [
      "+----------+--------+--------+\n",
      "|machine_id|max_temp|min_temp|\n",
      "+----------+--------+--------+\n",
      "|      M002|    70.1|    68.7|\n",
      "|      M003|    74.6|    72.4|\n",
      "|      M001|    78.0|    75.3|\n",
      "+----------+--------+--------+\n",
      "\n"
     ]
    },
    {
     "name": "stderr",
     "output_type": "stream",
     "text": [
      "                                                                                \r"
     ]
    }
   ],
   "source": [
    "# 3. Find the maximum and minimum temperature per machine\n",
    "max_min = df_factory.groupBy(\"machine_id\").agg(\n",
    "    max(\"temp\").alias(\"max_temp\"),\n",
    "    min(\"temp\").alias(\"min_temp\")\n",
    ")\n",
    "max_min.show()\n"
   ]
  },
  {
   "cell_type": "markdown",
   "id": "9b6a75f0",
   "metadata": {},
   "source": [
    "### 4. Filter records above a temperature threshold (temp > 75).\n"
   ]
  },
  {
   "cell_type": "code",
   "execution_count": 107,
   "id": "427eac51",
   "metadata": {},
   "outputs": [
    {
     "name": "stdout",
     "output_type": "stream",
     "text": [
      "+----------+-------------------+----+\n",
      "|machine_id|   sensor_timestamp|temp|\n",
      "+----------+-------------------+----+\n",
      "|      M001|2025-04-26 08:00:00|75.3|\n",
      "|      M001|2025-04-26 08:10:00|76.1|\n",
      "|      M001|2025-04-26 08:25:00|77.5|\n",
      "|      M001|2025-04-26 08:40:00|78.0|\n",
      "+----------+-------------------+----+\n",
      "\n"
     ]
    }
   ],
   "source": [
    "# 4. Filter records above a temperature threshold (temp > 75).\n",
    "above_threshold = df_factory.filter(col(\"temp\") > 75)\n",
    "above_threshold.show()\n",
    "\n"
   ]
  },
  {
   "cell_type": "markdown",
   "id": "02b72326",
   "metadata": {},
   "source": [
    "### 5. Count of readings per machine\n"
   ]
  },
  {
   "cell_type": "code",
   "execution_count": 108,
   "id": "0d65d943",
   "metadata": {},
   "outputs": [
    {
     "name": "stdout",
     "output_type": "stream",
     "text": [
      "+----------+-----+\n",
      "|machine_id|count|\n",
      "+----------+-----+\n",
      "|      M002|    3|\n",
      "|      M003|    3|\n",
      "|      M001|    4|\n",
      "+----------+-----+\n",
      "\n"
     ]
    },
    {
     "name": "stderr",
     "output_type": "stream",
     "text": [
      "                                                                                \r"
     ]
    }
   ],
   "source": [
    "# 5. Count of readings per machine\n",
    "count_readings = df_factory.groupBy(\"machine_id\").count()\n",
    "count_readings.show()\n"
   ]
  },
  {
   "cell_type": "markdown",
   "id": "efb0e971",
   "metadata": {},
   "source": [
    "### 6. Machine with the highest temperature"
   ]
  },
  {
   "cell_type": "code",
   "execution_count": 111,
   "id": "3fae3411",
   "metadata": {},
   "outputs": [
    {
     "name": "stderr",
     "output_type": "stream",
     "text": [
      "                                                                                \r"
     ]
    },
    {
     "name": "stdout",
     "output_type": "stream",
     "text": [
      "+------------+\n",
      "|highest_temp|\n",
      "+------------+\n",
      "|        78.0|\n",
      "+------------+\n",
      "\n",
      "+----------+-------------------+----+\n",
      "|machine_id|   sensor_timestamp|temp|\n",
      "+----------+-------------------+----+\n",
      "|      M001|2025-04-26 08:40:00|78.0|\n",
      "+----------+-------------------+----+\n",
      "\n"
     ]
    },
    {
     "name": "stderr",
     "output_type": "stream",
     "text": [
      "                                                                                \r"
     ]
    }
   ],
   "source": [
    "# 6. Machine with the highest temperature\n",
    "highest_temp = df_factory.agg(max(\"temp\").alias(\"highest_temp\"))\n",
    "highest_temp.show()\n",
    "\n",
    "\n",
    "highest_temp_machine = df_factory.orderBy(col(\"temp\").desc()).limit(1)\n",
    "highest_temp_machine.show()"
   ]
  },
  {
   "cell_type": "code",
   "execution_count": 112,
   "id": "0a923459",
   "metadata": {},
   "outputs": [],
   "source": [
    "sc.stop()"
   ]
  }
 ],
 "metadata": {
  "kernelspec": {
   "display_name": "Python 3 (ipykernel)",
   "language": "python",
   "name": "python3"
  },
  "language_info": {
   "codemirror_mode": {
    "name": "ipython",
    "version": 3
   },
   "file_extension": ".py",
   "mimetype": "text/x-python",
   "name": "python",
   "nbconvert_exporter": "python",
   "pygments_lexer": "ipython3",
   "version": "3.10.12"
  }
 },
 "nbformat": 4,
 "nbformat_minor": 5
}
