{
 "cells": [
  {
   "cell_type": "code",
   "execution_count": null,
   "id": "df17fd00-5fd1-4ff1-82fa-7b9ee4f98653",
   "metadata": {},
   "outputs": [],
   "source": []
  }
 ],
 "metadata": {
  "kernelspec": {
   "display_name": "",
   "name": ""
  },
  "language_info": {
   "name": ""
  }
 },
 "nbformat": 4,
 "nbformat_minor": 5
}
