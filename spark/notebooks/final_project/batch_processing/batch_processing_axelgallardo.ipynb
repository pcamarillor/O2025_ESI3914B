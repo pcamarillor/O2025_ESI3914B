{
 "cells": [
  {
   "cell_type": "markdown",
   "id": "b92d9622",
   "metadata": {},
   "source": [
    "# <center> <img src=\"../../img/ITESOLogo.png\" alt=\"ITESO\" width=\"480\" height=\"130\"> </center>\n",
    "# <center> **Departamento de Electrónica, Sistemas e Informática** </center>\n",
    "---\n",
    "## <center> Computer Systems Engineering  </center>\n",
    "---\n",
    "### <center> Big Data Processing </center>\n",
    "---\n",
    "#### <center> **Autumn 2025** </center>\n",
    "\n",
    "#### <center> **Final Project: Batch Processing** </center>\n",
    "---\n",
    "\n",
    "**Date**: October, 2025\n",
    "\n",
    "**Student Name**:\n",
    "\n",
    "**Professor**: Pablo Camarillo Ramirez"
   ]
  },
  {
   "cell_type": "markdown",
   "id": "a4dd2743",
   "metadata": {},
   "source": [
    "# Introduction"
   ]
  },
  {
   "cell_type": "markdown",
   "id": "0b7fb847",
   "metadata": {},
   "source": [
    "### 1. Problema a Resolver\n",
    "Sistema automatizado de perfiles de empleo, evalúa perfiles básicos para orientar a distintas áreas de trabajo en una empresa internacional.\n",
    "### 2. Desafíos\n",
    "Volumen de datos\n",
    "Auditabilidad\n",
    "detección de sesgos\n",
    "### 3. Objetivo\n",
    "Aplicar los principios de big data y las etapas de un data pipeline para diseñar una plataforma escalable y confiable que maneje el consumo y procesamiento de datos básicos de los perfiles de aplicantes a una empresa internacional.\n",
    "Nótese que al ser información básica habrá sesgos claros no aplicables que no serían recomendables en una implementación real."
   ]
  },
  {
   "cell_type": "markdown",
   "id": "1757b962",
   "metadata": {},
   "source": [
    "# Dataset"
   ]
  },
  {
   "cell_type": "markdown",
   "id": "d396c3f2",
   "metadata": {},
   "source": [
    "### Archivo `profiles.csv` en la carpeta `/opt/spark/work-dir/data/Proyecto/`\n",
    "\n",
    "### Se guarda como `profiles_t1.csv` en la carpeta `/opt/spark/work-dir/data/Proyecto/exports/`\n",
    "\n",
    "**Headers:**\n",
    "- id\n",
    "- first_name\n",
    "- last_name\n",
    "- email\n",
    "- gender\n",
    "- age\n",
    "- education\n",
    "\n",
    "**Detalles:**\n",
    "- Creado con Python utilizando la librería **Faker**.\n",
    "- ~5% de datos faltantes.\n",
    "- Géneros: \"Male\", \"Female\", \"Non-binary\", \"Other\", \"Prefer not to say\".\n",
    "- Niveles de educación: \"No schooling\", \"Primary\", \"Middle school\", \"High school\", \"University\".\n"
   ]
  },
  {
   "cell_type": "code",
   "execution_count": 1,
   "id": "1f283338",
   "metadata": {},
   "outputs": [
    {
     "name": "stdout",
     "output_type": "stream",
     "text": [
      "Requirement already satisfied: Faker in /usr/local/lib/python3.10/dist-packages (37.12.0)\n",
      "Requirement already satisfied: tzdata in /usr/local/lib/python3.10/dist-packages (from Faker) (2025.2)\n",
      "\u001b[33mWARNING: Running pip as the 'root' user can result in broken permissions and conflicting behaviour with the system package manager. It is recommended to use a virtual environment instead: https://pip.pypa.io/warnings/venv\u001b[0m\u001b[33m\n",
      "\u001b[0mNote: you may need to restart the kernel to use updated packages.\n"
     ]
    }
   ],
   "source": [
    "%pip install Faker"
   ]
  },
  {
   "cell_type": "code",
   "execution_count": 2,
   "id": "301564d2",
   "metadata": {},
   "outputs": [
    {
     "name": "stderr",
     "output_type": "stream",
     "text": [
      "WARNING: Using incubator modules: jdk.incubator.vector\n",
      "25/10/24 23:59:49 WARN NativeCodeLoader: Unable to load native-hadoop library for your platform... using builtin-java classes where applicable\n",
      "Using Spark's default log4j profile: org/apache/spark/log4j2-defaults.properties\n",
      "Setting default log level to \"WARN\".\n",
      "To adjust logging level use sc.setLogLevel(newLevel). For SparkR, use setLogLevel(newLevel).\n",
      "                                                                                \r"
     ]
    }
   ],
   "source": [
    "import findspark\n",
    "findspark.init()\n",
    "\n",
    "from pyspark.sql import SparkSession\n",
    "from pyspark.sql.functions import (\n",
    "    col, lit, rand, floor, lower, concat, when, array, element_at, size\n",
    ")\n",
    "from pyspark.sql.types import StringType\n",
    "from pyspark.sql.functions import udf\n",
    "\n",
    "from pathlib import Path\n",
    "import shutil\n",
    "\n",
    "N = 1000\n",
    "NULL_RATE = 0.05\n",
    "SEED = 123\n",
    "\n",
    "BASE_DIR = \"/opt/spark/work-dir/data/Proyecto\"\n",
    "TMP_DIR = f\"{BASE_DIR}/profiles_tmp\"\n",
    "FINAL_CSV = f\"{BASE_DIR}/profiles.csv\"\n",
    "\n",
    "JDBC_JAR = \"/opt/spark/work-dir/jars/postgresql-42.7.8.jar\"\n",
    "\n",
    "spark = (\n",
    "    SparkSession.builder\n",
    "    .appName(\"Profiles generator with Faker\")\n",
    "    .config(\"spark.jars\", JDBC_JAR)\n",
    "    .getOrCreate()\n",
    ")\n",
    "\n",
    "def _first_name_udf(id_value: int) -> str:\n",
    "    from faker import Faker\n",
    "    f = Faker(\"es_MX\")\n",
    "    f.seed_instance(SEED + int(id_value) * 7 + 1)\n",
    "    return f.first_name()\n",
    "\n",
    "def _last_name_udf(id_value: int) -> str:\n",
    "    from faker import Faker\n",
    "    f = Faker(\"es_MX\")\n",
    "    f.seed_instance(SEED + int(id_value) * 11 + 2)\n",
    "    return f.last_name()\n",
    "\n",
    "def _email_udf(id_value: int, first_name: str, last_name: str) -> str:\n",
    "    if first_name is None or last_name is None:\n",
    "        return None\n",
    "    local = f\"{first_name}.{last_name}.{id_value}\".lower().replace(\" \", \"\")\n",
    "    return f\"{local}@example.com\"\n",
    "\n",
    "gen_first_name = udf(_first_name_udf, StringType())\n",
    "gen_last_name  = udf(_last_name_udf,  StringType())\n",
    "gen_email      = udf(_email_udf,      StringType())\n",
    "\n",
    "genders = array(*[lit(x) for x in [\n",
    "    \"Male\", \"Female\", \"Non-binary\", \"Other\", \"Prefer not to say\"\n",
    "]])\n",
    "\n",
    "educ_levels = array(*[lit(x) for x in [\n",
    "    \"No schooling\", \"Primary\", \"Middle school\", \"High school\", \"University\"\n",
    "]])\n",
    "\n",
    "def pick_from(arr, seed_offset: int):\n",
    "    idx = (floor(rand(SEED + seed_offset) * size(arr)) + lit(1)).cast(\"int\")  # 1-based\n",
    "    return element_at(arr, idx)\n",
    "\n",
    "df = spark.range(N).select((col(\"id\") + 1).alias(\"id\"))\n",
    "\n",
    "df = df.withColumn(\"first_name\", gen_first_name(col(\"id\"))) \\\n",
    "       .withColumn(\"last_name\",  gen_last_name(col(\"id\")))\n",
    "\n",
    "df = df.withColumn(\"gender\", pick_from(genders, seed_offset=301)) \\\n",
    "       .withColumn(\"age\", (floor(rand(SEED + 302) * (65 - 18 + 1)) + lit(18)).cast(\"int\")) \\\n",
    "       .withColumn(\"education\", pick_from(educ_levels, seed_offset=303))\n",
    "\n",
    "df = df.withColumn(\"email\", gen_email(col(\"id\"), col(\"first_name\"), col(\"last_name\")))\n",
    "\n",
    "def with_null(cname: str, seed_offset: int):\n",
    "    return when(rand(SEED + seed_offset) < lit(NULL_RATE), lit(None)).otherwise(col(cname))\n",
    "\n",
    "nullable_cols = [\"first_name\", \"last_name\", \"email\", \"gender\", \"age\", \"education\"]\n",
    "for i, cname in enumerate(nullable_cols):\n",
    "    df = df.withColumn(cname, with_null(cname, 1000 + i))\n",
    "\n",
    "df = df.select(\"id\", \"first_name\", \"last_name\", \"email\", \"gender\", \"age\", \"education\")\n",
    "\n",
    "Path(BASE_DIR).mkdir(parents=True, exist_ok=True)\n",
    "tmp_path = Path(TMP_DIR)\n",
    "if tmp_path.exists():\n",
    "    for p in tmp_path.glob(\"*\"):\n",
    "        try:\n",
    "            p.unlink()\n",
    "        except IsADirectoryError:\n",
    "            pass\n",
    "else:\n",
    "    tmp_path.mkdir(parents=True, exist_ok=True)\n",
    "\n",
    "(df.coalesce(1)\n",
    "   .write.mode(\"overwrite\")\n",
    "   .option(\"header\", \"true\")\n",
    "   .csv(TMP_DIR))\n",
    "\n",
    "part_files = list(tmp_path.glob(\"part-*.csv\"))\n",
    "if not part_files:\n",
    "    raise RuntimeError(\"No se encontró el part-*.csv en la carpeta temporal\")\n",
    "\n",
    "final_path = Path(FINAL_CSV)\n",
    "if final_path.exists():\n",
    "    final_path.unlink()\n",
    "\n",
    "shutil.move(str(part_files[0]), str(final_path))\n",
    "\n",
    "for p in tmp_path.glob(\"*\"):\n",
    "    try:\n",
    "        p.unlink()\n",
    "    except IsADirectoryError:\n",
    "        pass\n",
    "try:\n",
    "    tmp_path.rmdir()\n",
    "except OSError:\n",
    "    pass"
   ]
  },
  {
   "cell_type": "code",
   "execution_count": 3,
   "id": "6e39b6de",
   "metadata": {},
   "outputs": [],
   "source": [
    "from pcamarillor.spark_utils import SparkUtils\n",
    "\n",
    "profiles_schema_columns = [\n",
    "    (\"id\", \"int\"),\n",
    "    (\"first_name\", \"string\"),\n",
    "    (\"last_name\", \"string\"),\n",
    "    (\"email\", \"string\"),\n",
    "    (\"gender\", \"string\"),\n",
    "    (\"age\", \"int\"),\n",
    "    (\"education\", \"string\"),\n",
    "]\n",
    "\n",
    "profiles_schema = SparkUtils.generate_schema(profiles_schema_columns)\n",
    "profiles_schema\n",
    "\n",
    "df_profiles = spark.read \\\n",
    "                .option(\"header\", \"true\") \\\n",
    "                .schema(profiles_schema) \\\n",
    "                .csv(\"/opt/spark/work-dir/data/Proyecto/\")"
   ]
  },
  {
   "cell_type": "markdown",
   "id": "df0a0e72",
   "metadata": {},
   "source": [
    "# Transformations and Actions"
   ]
  },
  {
   "cell_type": "code",
   "execution_count": 4,
   "id": "12de56d0",
   "metadata": {},
   "outputs": [],
   "source": [
    "from pyspark.sql.functions import trim, lower, col, count, isnull, when\n",
    "\n",
    "profiles_clean = (\n",
    "    df_profiles\n",
    "      .dropDuplicates([\"id\"])\n",
    "      .withColumn(\"first_name\",  trim(\"first_name\"))\n",
    "      .withColumn(\"last_name\",   trim(\"last_name\"))\n",
    "      .withColumn(\"email\",       lower(trim(col(\"email\"))))\n",
    "      .withColumn(\"gender\",      trim(\"gender\"))\n",
    "      .withColumn(\"education\",   trim(\"education\"))\n",
    "      .filter(col(\"age\").isNotNull())\n",
    "      .filter((col(\"age\") >= 18) & (col(\"age\") <= 65))\n",
    ")\n",
    "\n",
    "profiles_clean_v2 = df_profiles.dropna(\n",
    "    subset=[c[0] for c in profiles_schema_columns if c[0] != \"id\"]\n",
    ")"
   ]
  },
  {
   "cell_type": "code",
   "execution_count": 5,
   "id": "0cd8fe50",
   "metadata": {},
   "outputs": [],
   "source": [
    "from pyspark.sql.functions import when, lit, concat_ws, lower, col\n",
    "\n",
    "profiles_t1 = (\n",
    "    profiles_clean_v2\n",
    "      .withColumn(\"full_name\", concat_ws(\" \", col(\"first_name\"), col(\"last_name\")))\n",
    "      .withColumn(\n",
    "          \"education_numeric\",\n",
    "          when(lower(col(\"education\")) == \"no schooling\", lit(0))\n",
    "          .when(lower(col(\"education\")) == \"primary\", lit(1))\n",
    "          .when(lower(col(\"education\")) == \"middle school\", lit(2))\n",
    "          .when(lower(col(\"education\")) == \"high school\", lit(3))\n",
    "          .when(lower(col(\"education\")) == \"university\", lit(4))\n",
    "          .otherwise(lit(None))\n",
    "      )\n",
    ")\n"
   ]
  },
  {
   "cell_type": "markdown",
   "id": "bc61d130",
   "metadata": {},
   "source": [
    "# Persistence Data"
   ]
  },
  {
   "cell_type": "code",
   "execution_count": 6,
   "metadata": {},
   "outputs": [
    {
     "name": "stderr",
     "output_type": "stream",
     "text": [
      "                                                                                \r"
     ]
    },
    {
     "name": "stdout",
     "output_type": "stream",
     "text": [
      "✅ DataFrame 'profiles_t1' escrito en PostgreSQL → public.profiles\n",
      "Filas en Postgres: 723\n",
      "root\n",
      " |-- id: integer (nullable = true)\n",
      " |-- first_name: string (nullable = true)\n",
      " |-- last_name: string (nullable = true)\n",
      " |-- email: string (nullable = true)\n",
      " |-- gender: string (nullable = true)\n",
      " |-- age: integer (nullable = true)\n",
      " |-- education: string (nullable = true)\n",
      " |-- full_name: string (nullable = true)\n",
      " |-- education_numeric: integer (nullable = true)\n",
      "\n",
      "+---+----------+----------+----------------------------------+-----------------+---+-------------+-------------------+-----------------+\n",
      "|id |first_name|last_name |email                             |gender           |age|education    |full_name          |education_numeric|\n",
      "+---+----------+----------+----------------------------------+-----------------+---+-------------+-------------------+-----------------+\n",
      "|1  |Ignacio   |Velásquez |ignacio.velásquez.1@example.com   |Female           |20 |Primary      |Ignacio Velásquez  |1                |\n",
      "|2  |Eloisa    |Zedillo   |eloisa.zedillo.2@example.com      |Prefer not to say|54 |University   |Eloisa Zedillo     |4                |\n",
      "|3  |Luisa     |Garay     |luisa.garay.3@example.com         |Non-binary       |35 |High school  |Luisa Garay        |3                |\n",
      "|5  |Laura     |Colón     |laura.colón.5@example.com         |Male             |30 |Middle school|Laura Colón        |2                |\n",
      "|6  |Diego     |Suárez    |diego.suárez.6@example.com        |Other            |22 |No schooling |Diego Suárez       |0                |\n",
      "|7  |Irene     |Olmos     |irene.olmos.7@example.com         |Male             |35 |University   |Irene Olmos        |4                |\n",
      "|9  |Jerónimo  |Barela    |jerónimo.barela.9@example.com     |Other            |20 |No schooling |Jerónimo Barela    |0                |\n",
      "|10 |Salvador  |Montenegro|salvador.montenegro.10@example.com|Prefer not to say|18 |Middle school|Salvador Montenegro|2                |\n",
      "|11 |Ángel     |Balderas  |ángel.balderas.11@example.com     |Male             |32 |No schooling |Ángel Balderas     |0                |\n",
      "|12 |Germán    |Mateo     |germán.mateo.12@example.com       |Female           |37 |University   |Germán Mateo       |4                |\n",
      "+---+----------+----------+----------------------------------+-----------------+---+-------------+-------------------+-----------------+\n",
      "only showing top 10 rows\n"
     ]
    }
   ],
   "source": [
    "jdbc_url = \"jdbc:postgresql://postgres-iteso:5432/postgres\"\n",
    "table_name = \"public.profiles\"\n",
    "jdbc_props = {\n",
    "    \"user\": \"postgres\",\n",
    "    \"password\": \"Admin@1234\",\n",
    "    \"driver\": \"org.postgresql.Driver\",\n",
    "}\n",
    "\n",
    "profiles_out = profiles_t1.select(\n",
    "    \"id\", \"first_name\", \"last_name\", \"email\", \"gender\", \"age\", \"education\",\n",
    "    \"full_name\", \"education_numeric\"\n",
    ")\n",
    "\n",
    "(profiles_out\n",
    "    .write\n",
    "    .mode(\"overwrite\")\n",
    "    .jdbc(jdbc_url, table_name, properties=jdbc_props))\n",
    "\n",
    "print(f\"✅ DataFrame 'profiles_t1' escrito en PostgreSQL → {table_name}\")\n",
    "\n",
    "df_check = (spark.read\n",
    "    .format(\"jdbc\")\n",
    "    .option(\"url\", jdbc_url)\n",
    "    .option(\"dbtable\", table_name)\n",
    "    .option(\"user\", jdbc_props[\"user\"])\n",
    "    .option(\"password\", jdbc_props[\"password\"])\n",
    "    .option(\"driver\", jdbc_props[\"driver\"])\n",
    "    .load())\n",
    "\n",
    "print(\"Filas en Postgres:\", df_check.count())\n",
    "df_check.printSchema()\n",
    "df_check.show(10, truncate=False)"
   ]
  },
  {
   "cell_type": "markdown",
   "id": "e74ef5f1",
   "metadata": {},
   "source": [
    "# DAG"
   ]
  },
  {
   "attachments": {
    "image.png": {
     "image/png": "[encoded data removed]"
    }
   },
   "cell_type": "markdown",
   "id": "5c3a9eca",
   "metadata": {},
   "source": [
    "![image.png](attachment:image.png)"
   ]
  }
 ],
 "metadata": {
  "kernelspec": {
   "display_name": "Python 3 (ipykernel)",
   "language": "python",
   "name": "python3"
  },
  "language_info": {
   "codemirror_mode": {
    "name": "ipython",
    "version": 3
   },
   "file_extension": ".py",
   "mimetype": "text/x-python",
   "name": "python",
   "nbconvert_exporter": "python",
   "pygments_lexer": "ipython3",
   "version": "3.10.12"
  }
 },
 "nbformat": 4,
 "nbformat_minor": 5
}
