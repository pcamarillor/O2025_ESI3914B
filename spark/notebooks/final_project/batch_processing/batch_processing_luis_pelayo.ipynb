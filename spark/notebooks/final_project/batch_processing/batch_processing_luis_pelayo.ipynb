{
 "cells": [
  {
   "cell_type": "markdown",
   "id": "b92d9622",
   "metadata": {},
   "source": [
    "# <center> <img src=\"../../img/ITESOLogo.png\" alt=\"ITESO\" width=\"480\" height=\"130\"> </center>\n",
    "# <center> **Departamento de Electrónica, Sistemas e Informática** </center>\n",
    "---\n",
    "## <center> Computer Systems Engineering  </center>\n",
    "---\n",
    "### <center> Big Data Processing </center>\n",
    "---\n",
    "#### <center> **Autumn 2025** </center>\n",
    "\n",
    "#### <center> **Final Project: Batch Processing** </center>\n",
    "---\n",
    "\n",
    "**Date**: October, 2025\n",
    "\n",
    "**Student Name**: Luis Antonio Pelayo Sierra\n",
    "\n",
    "**Professor**: Pablo Camarillo Ramirez"
   ]
  },
  {
   "cell_type": "markdown",
   "id": "a4dd2743",
   "metadata": {},
   "source": [
    "# Introduction"
   ]
  },
  {
   "cell_type": "markdown",
   "id": "461d209c",
   "metadata": {},
   "source": [
    "El objetivo de este pipeline es el de analizar una coleccion de tweets con el fin de encontrar tendencias, desde la popularidad propia de los tweets, hasta encontrar patrones ya sea entre las fechas, usuarios o contenidos de los tweets."
   ]
  },
  {
   "cell_type": "markdown",
   "id": "1757b962",
   "metadata": {},
   "source": [
    "# Dataset"
   ]
  },
  {
   "cell_type": "markdown",
   "id": "cb286dc0",
   "metadata": {},
   "source": [
    "El dataset utilizado para esta actividad sera el Twitter-Dataset de Kaggle (https://www.kaggle.com/datasets/goyaladi/twitter-dataset/data), el cual consiste en informacion de 10,000 tweets del primer semestre de 2023, lo que incluye una gran variedad de usuarios, texto, cuentas de retweets y likes, ademas de los timestamps asociados a cada tweet. "
   ]
  },
  {
   "cell_type": "code",
   "execution_count": 188,
   "id": "6a93961b",
   "metadata": {},
   "outputs": [],
   "source": [
    "import findspark\n",
    "findspark.init()\n",
    "\n",
    "from pyspark.sql import SparkSession\n",
    "\n",
    "spark = SparkSession.builder \\\n",
    "    .appName(\"Final Project - Batch Processing\") \\\n",
    "    .master(\"spark://spark-master:7077\") \\\n",
    "    .config(\"spark.ui.port\", \"4040\") \\\n",
    "    .config(\"spark.jars\", \"/opt/spark/work-dir/jars/postgresql-42.7.8.jar\") \\\n",
    "    .getOrCreate()\n",
    "\n",
    "sc = spark.sparkContext\n",
    "sc.setLogLevel(\"ERROR\")"
   ]
  },
  {
   "cell_type": "code",
   "execution_count": 211,
   "id": "dad459a0",
   "metadata": {},
   "outputs": [],
   "source": [
    "from luis_pelayo.spark_utils import SparkUtils\n",
    "\n",
    "schema = SparkUtils.generate_schema([\n",
    "    (\"Tweet_ID\",\"int\"),\n",
    "    (\"Username\",\"string\"),\n",
    "    (\"Text\", \"string\"),\n",
    "    (\"Retweets\", \"int\"),\n",
    "    (\"Likes\", \"int\"),\n",
    "    (\"Timestamp\", \"string\")\n",
    "])\n",
    "\n",
    "df = spark.read \\\n",
    "                .option(\"header\", \"true\") \\\n",
    "                .schema(schema) \\\n",
    "                .csv(\"/opt/spark/work-dir/data/final_project/\") "
   ]
  },
  {
   "cell_type": "markdown",
   "id": "df0a0e72",
   "metadata": {},
   "source": [
    "# Transformations and Actions"
   ]
  },
  {
   "cell_type": "code",
   "execution_count": 190,
   "id": "0dc7af04",
   "metadata": {},
   "outputs": [],
   "source": [
    "# Convertir el timestamp y sumar likes con retweets\n",
    "from pyspark.sql.functions import to_timestamp, col\n",
    "\n",
    "df = df.withColumn(\"Timestamp\", to_timestamp(col(\"Timestamp\")))\n",
    "\n",
    "df = df.withColumn(\"Engagement\", col(\"Likes\") + col(\"Retweets\"))\n",
    "\n",
    "df = df.dropna()\n",
    "# df.printSchema()"
   ]
  },
  {
   "cell_type": "code",
   "execution_count": 191,
   "id": "a4c4c70d",
   "metadata": {},
   "outputs": [],
   "source": [
    "# Tabla 1: Dataframe ordenado por interacciones\n",
    "df_sorted_by_engagement = df.orderBy(col(\"Engagement\").desc())"
   ]
  },
  {
   "cell_type": "code",
   "execution_count": 192,
   "id": "f4ad7a90",
   "metadata": {},
   "outputs": [],
   "source": [
    "# Tabla 2: Interacciones agrupadas por dia\n",
    "from pyspark.sql.functions import to_date, sum, avg, count\n",
    "\n",
    "tweets_by_date = (df.withColumn(\"Date\", to_date(col(\"Timestamp\")))\n",
    "                    .groupBy(\"Date\")\n",
    "                    .agg(count(\"Tweet_ID\").alias(\"tweets_count\"),\n",
    "                            sum(\"Likes\").alias(\"likes_sum\"),\n",
    "                            sum(\"Retweets\").alias(\"retweets_sum\"),\n",
    "                            sum(\"Engagement\").alias(\"engagement_sum\"),\n",
    "                            avg(\"Likes\").alias(\"likes_avg\"),\n",
    "                            avg(\"Retweets\").alias(\"retweets_avg\"),\n",
    "                            avg(\"Engagement\").alias(\"engagement_avg\"))\n",
    "                    .orderBy(\"Date\"))\n"
   ]
  },
  {
   "cell_type": "code",
   "execution_count": 193,
   "id": "f82a695a",
   "metadata": {},
   "outputs": [],
   "source": [
    "# Tabla 3: Datos agrupados por usuario\n",
    "from pyspark.sql.functions import length, avg\n",
    "\n",
    "tweets_by_user = (df.withColumn(\"TextLength\", length(col(\"Text\"))) \n",
    "                    .groupBy(\"Username\") \n",
    "                    .agg(count(\"Tweet_ID\").alias(\"tweets_count\"),\n",
    "                            sum(\"Likes\").alias(\"likes_sum\"),\n",
    "                            sum(\"Retweets\").alias(\"retweets_sum\"),\n",
    "                            sum(\"Engagement\").alias(\"engagement_sum\"),\n",
    "                            avg(\"TextLength\").alias(\"Avg_Text_Length\"))\n",
    "                    .orderBy(col(\"engagement_sum\").desc()))"
   ]
  },
  {
   "cell_type": "code",
   "execution_count": 194,
   "id": "8636ec92",
   "metadata": {},
   "outputs": [],
   "source": [
    "# Tabla 4: Datos agrupados por semana\n",
    "from pyspark.sql.functions import date_trunc\n",
    "\n",
    "tweets_by_week = (df.withColumn(\"Week\", date_trunc(\"week\", col(\"Timestamp\")))\n",
    "                        .groupBy(\"Week\")\n",
    "                        .agg(count(\"Tweet_ID\").alias(\"tweets_count\"),\n",
    "                                sum(\"Likes\").alias(\"likes_sum\"),\n",
    "                                sum(\"Retweets\").alias(\"retweets_sum\"),\n",
    "                                sum(\"Engagement\").alias(\"engagement_sum\"))\n",
    "                        .orderBy(\"Week\"))"
   ]
  },
  {
   "cell_type": "code",
   "execution_count": 195,
   "id": "eeafdcde",
   "metadata": {},
   "outputs": [],
   "source": [
    "# Tabla 5: Datos agrupados por mes\n",
    "tweets_by_month = (df.withColumn(\"Month\", date_trunc(\"month\", col(\"Timestamp\")))\n",
    "                        .groupBy(\"Month\")\n",
    "                        .agg(count(\"Tweet_ID\").alias(\"tweets_count\"),\n",
    "                                sum(\"Likes\").alias(\"likes_sum\"),\n",
    "                                sum(\"Retweets\").alias(\"retweets_sum\"),\n",
    "                                sum(\"Engagement\").alias(\"engagement_sum\"))\n",
    "                        .orderBy(\"Month\"))"
   ]
  },
  {
   "cell_type": "code",
   "execution_count": 196,
   "id": "8979ff2f",
   "metadata": {},
   "outputs": [],
   "source": [
    "# Tabla 6: Datos agrupados por hora del día\n",
    "from pyspark.sql.functions import hour\n",
    "\n",
    "df_hour = (df.withColumn(\"Hour\", hour(\"Timestamp\"))\n",
    "            .groupBy(\"Hour\")\n",
    "            .agg(count(\"Tweet_ID\").alias(\"tweets_count\"),\n",
    "                    sum(\"Likes\").alias(\"likes_sum\"),\n",
    "                    sum(\"Retweets\").alias(\"retweets_sum\"),\n",
    "                    sum(\"Engagement\").alias(\"engagement_sum\"))\n",
    "            .orderBy(col(\"tweets_count\").desc()))\n"
   ]
  },
  {
   "cell_type": "code",
   "execution_count": 197,
   "id": "813e29a4",
   "metadata": {},
   "outputs": [],
   "source": [
    "# Tabla 7: Resumen de dataset\n",
    "from pyspark.sql.functions import countDistinct\n",
    "df_summary = df.agg(count(\"*\").alias(\"Total_Posts\"),\n",
    "                    countDistinct(\"Username\").alias(\"Unique_Users_Count\"),\n",
    "                    sum(\"Likes\").alias(\"Total_Likes\"),\n",
    "                    sum(\"Retweets\").alias(\"Total_Retweets\"))"
   ]
  },
  {
   "cell_type": "code",
   "execution_count": 198,
   "id": "a42975c9",
   "metadata": {},
   "outputs": [],
   "source": [
    "# Tabla 8: Conteo de palabras en tweets\n",
    "from pyspark.sql.functions import split, explode, lower, trim, regexp_replace\n",
    "\n",
    "df_words = df.select(explode(split(lower(col(\"Text\")), \" \")).alias(\"Word\"))\n",
    "df_words = df_words.withColumn(\"Word\", trim(regexp_replace(col(\"Word\"), r\"[^a-zA-Z0-9]\", \"\")))\n",
    "df_word_count = df_words.groupBy(\"Word\").count().orderBy(col(\"count\").desc())\n"
   ]
  },
  {
   "cell_type": "code",
   "execution_count": 199,
   "id": "d7eca77d",
   "metadata": {},
   "outputs": [],
   "source": [
    "# ~ Tabla 9: Conteo de hashtags en tweets ~ (El dataset no contiene hashtags, agregue unos manualmente para probar)\n",
    "df_hashtags = (df.select(explode(split(col(\"Text\"), \" \")).alias(\"Tags\")) \n",
    "                .filter(col(\"Tags\").startswith(\"#\")) \n",
    "                .groupBy(\"Tags\") \n",
    "                .count() \n",
    "                .orderBy(col(\"count\").desc()))\n"
   ]
  },
  {
   "cell_type": "code",
   "execution_count": 200,
   "id": "c8428867",
   "metadata": {},
   "outputs": [],
   "source": [
    "# Tabla 10: Estadísticas de engagement por palabra\n",
    "df_words_with_engagement = df.select(\"Tweet_ID\", \"Engagement\", explode(split(lower(col(\"Text\")), \" \")).alias(\"Word\"))\n",
    "df_words_with_engagement = df_words_with_engagement.withColumn(\"Word\", trim(regexp_replace(col(\"Word\"), r\"[^a-zA-Z0-9]\", \"\")))\n",
    "\n",
    "avg_when_word = df_words_with_engagement.groupBy(\"Word\").agg(avg(\"Engagement\").alias(\"Engagement_When_Word\"))\n",
    "avg_total = df.agg(avg(\"Engagement\").alias(\"AvgEngagement_Total\")).collect()[0][0]\n",
    "\n",
    "count_word = df_words_with_engagement.groupBy(\"Word\").agg(countDistinct(\"Tweet_ID\").alias(\"CountWithWord\"))\n",
    "\n",
    "total_tweets = df.select(countDistinct(\"Tweet_ID\")).collect()[0][0]\n",
    "\n",
    "df_word_stats = (avg_when_word.join(count_word, \"Word\") \n",
    "                                .withColumn(\"Engagement_When_No_Word\", (avg_total*total_tweets - col(\"Engagement_When_Word\")*col(\"CountWithWord\")) / (total_tweets - col(\"CountWithWord\"))))"
   ]
  },
  {
   "cell_type": "markdown",
   "id": "bc61d130",
   "metadata": {},
   "source": [
    "# Persistence Data"
   ]
  },
  {
   "cell_type": "markdown",
   "id": "78fa7e92",
   "metadata": {},
   "source": [
    "Justificacion: Postgres es una base de datos de tipo relacional, la que lo vuelve excepcional para el manejo de datos normalizados, ademas de soportar agregaciones y funciones analiticas. Debido a que estamos trabajando con una muestra, no se requieren de varias instancias, en el caso de que los analisis se aplicaran sobre la totalidad de los tweets, quiza seria mas adecuado utilizar otra base de datos."
   ]
  },
  {
   "cell_type": "code",
   "execution_count": 201,
   "id": "ba0f9667",
   "metadata": {},
   "outputs": [
    {
     "name": "stderr",
     "output_type": "stream",
     "text": [
      "[Stage 23:>                                                         (0 + 1) / 1]\r"
     ]
    },
    {
     "name": "stdout",
     "output_type": "stream",
     "text": [
      "tweets table was successfully written into a PosgreSQL DB!\n"
     ]
    },
    {
     "name": "stderr",
     "output_type": "stream",
     "text": [
      "                                                                                \r"
     ]
    }
   ],
   "source": [
    "df_sorted_by_engagement.write \\\n",
    "    .format(\"jdbc\") \\\n",
    "    .option(\"url\", \"jdbc:postgresql://postgres-iteso:5432/postgres\") \\\n",
    "    .option(\"dbtable\", \"tweets\") \\\n",
    "    .option(\"user\", \"postgres\") \\\n",
    "    .option(\"password\", \"Admin@1234\") \\\n",
    "    .option(\"driver\", \"org.postgresql.Driver\") \\\n",
    "    .option(\"batchsize\", 500) \\\n",
    "    .save()\n",
    "\n",
    "print(\"tweets table was successfully written into a PosgreSQL DB!\")"
   ]
  },
  {
   "cell_type": "code",
   "execution_count": 202,
   "id": "55e8b274",
   "metadata": {},
   "outputs": [
    {
     "name": "stdout",
     "output_type": "stream",
     "text": [
      "tweets_by_date table was successfully written into a PosgreSQL DB!\n"
     ]
    }
   ],
   "source": [
    "tweets_by_date.write \\\n",
    "    .format(\"jdbc\") \\\n",
    "    .option(\"url\", \"jdbc:postgresql://postgres-iteso:5432/postgres\") \\\n",
    "    .option(\"dbtable\", \"tweets_by_date\") \\\n",
    "    .option(\"user\", \"postgres\") \\\n",
    "    .option(\"password\", \"Admin@1234\") \\\n",
    "    .option(\"driver\", \"org.postgresql.Driver\") \\\n",
    "    .save()\n",
    "\n",
    "print(\"tweets_by_date table was successfully written into a PosgreSQL DB!\")"
   ]
  },
  {
   "cell_type": "code",
   "execution_count": 203,
   "id": "d2db7834",
   "metadata": {},
   "outputs": [
    {
     "name": "stdout",
     "output_type": "stream",
     "text": [
      "tweets_by_user table was successfully written into a PosgreSQL DB!\n"
     ]
    }
   ],
   "source": [
    "tweets_by_user.write \\\n",
    "    .format(\"jdbc\") \\\n",
    "    .option(\"url\", \"jdbc:postgresql://postgres-iteso:5432/postgres\") \\\n",
    "    .option(\"dbtable\", \"tweets_by_user\") \\\n",
    "    .option(\"user\", \"postgres\") \\\n",
    "    .option(\"password\", \"Admin@1234\") \\\n",
    "    .option(\"driver\", \"org.postgresql.Driver\") \\\n",
    "    .save()\n",
    "\n",
    "print(\"tweets_by_user table was successfully written into a PosgreSQL DB!\")"
   ]
  },
  {
   "cell_type": "code",
   "execution_count": 204,
   "id": "e95370b5",
   "metadata": {},
   "outputs": [
    {
     "name": "stdout",
     "output_type": "stream",
     "text": [
      "tweets_by_month table was successfully written into a PosgreSQL DB!\n"
     ]
    }
   ],
   "source": [
    "tweets_by_month.write \\\n",
    "    .format(\"jdbc\") \\\n",
    "    .option(\"url\", \"jdbc:postgresql://postgres-iteso:5432/postgres\") \\\n",
    "    .option(\"dbtable\", \"tweets_by_month\") \\\n",
    "    .option(\"user\", \"postgres\") \\\n",
    "    .option(\"password\", \"Admin@1234\") \\\n",
    "    .option(\"driver\", \"org.postgresql.Driver\") \\\n",
    "    .save()\n",
    "\n",
    "print(\"tweets_by_month table was successfully written into a PosgreSQL DB!\")"
   ]
  },
  {
   "cell_type": "code",
   "execution_count": 205,
   "id": "964892e7",
   "metadata": {},
   "outputs": [
    {
     "name": "stdout",
     "output_type": "stream",
     "text": [
      "tweets_by_week table was successfully written into a PosgreSQL DB!\n"
     ]
    }
   ],
   "source": [
    "tweets_by_week.write \\\n",
    "    .format(\"jdbc\") \\\n",
    "    .option(\"url\", \"jdbc:postgresql://postgres-iteso:5432/postgres\") \\\n",
    "    .option(\"dbtable\", \"tweets_by_week\") \\\n",
    "    .option(\"user\", \"postgres\") \\\n",
    "    .option(\"password\", \"Admin@1234\") \\\n",
    "    .option(\"driver\", \"org.postgresql.Driver\") \\\n",
    "    .save()\n",
    "\n",
    "print(\"tweets_by_week table was successfully written into a PosgreSQL DB!\")"
   ]
  },
  {
   "cell_type": "code",
   "execution_count": 206,
   "id": "72876770",
   "metadata": {},
   "outputs": [
    {
     "name": "stdout",
     "output_type": "stream",
     "text": [
      "tweets_by_hour table was successfully written into a PosgreSQL DB!\n"
     ]
    }
   ],
   "source": [
    "df_hour.write \\\n",
    "    .format(\"jdbc\") \\\n",
    "    .option(\"url\", \"jdbc:postgresql://postgres-iteso:5432/postgres\") \\\n",
    "    .option(\"dbtable\", \"tweets_by_hour\") \\\n",
    "    .option(\"user\", \"postgres\") \\\n",
    "    .option(\"password\", \"Admin@1234\") \\\n",
    "    .option(\"driver\", \"org.postgresql.Driver\") \\\n",
    "    .save()\n",
    "\n",
    "print(\"tweets_by_hour table was successfully written into a PosgreSQL DB!\")"
   ]
  },
  {
   "cell_type": "code",
   "execution_count": 207,
   "id": "b4d6778f",
   "metadata": {},
   "outputs": [
    {
     "name": "stdout",
     "output_type": "stream",
     "text": [
      "tweets_summary table was successfully written into a PosgreSQL DB!\n"
     ]
    }
   ],
   "source": [
    "df_summary.write \\\n",
    "    .format(\"jdbc\") \\\n",
    "    .option(\"url\", \"jdbc:postgresql://postgres-iteso:5432/postgres\") \\\n",
    "    .option(\"dbtable\", \"tweets_summary\") \\\n",
    "    .option(\"user\", \"postgres\") \\\n",
    "    .option(\"password\", \"Admin@1234\") \\\n",
    "    .option(\"driver\", \"org.postgresql.Driver\") \\\n",
    "    .save()\n",
    "\n",
    "print(\"tweets_summary table was successfully written into a PosgreSQL DB!\")"
   ]
  },
  {
   "cell_type": "code",
   "execution_count": 208,
   "id": "e4c20136",
   "metadata": {},
   "outputs": [
    {
     "name": "stderr",
     "output_type": "stream",
     "text": [
      "[Stage 70:>                                                         (0 + 1) / 2]\r"
     ]
    },
    {
     "name": "stdout",
     "output_type": "stream",
     "text": [
      "word_count table was successfully written into a PosgreSQL DB!\n"
     ]
    },
    {
     "name": "stderr",
     "output_type": "stream",
     "text": [
      "                                                                                \r"
     ]
    }
   ],
   "source": [
    "df_word_count.write \\\n",
    "    .format(\"jdbc\") \\\n",
    "    .option(\"url\", \"jdbc:postgresql://postgres-iteso:5432/postgres\") \\\n",
    "    .option(\"dbtable\", \"word_count\") \\\n",
    "    .option(\"user\", \"postgres\") \\\n",
    "    .option(\"password\", \"Admin@1234\") \\\n",
    "    .option(\"driver\", \"org.postgresql.Driver\") \\\n",
    "    .save()\n",
    "\n",
    "print(\"word_count table was successfully written into a PosgreSQL DB!\")"
   ]
  },
  {
   "cell_type": "code",
   "execution_count": 209,
   "id": "58a6443f",
   "metadata": {},
   "outputs": [
    {
     "name": "stdout",
     "output_type": "stream",
     "text": [
      "hashtags table was successfully written into a PosgreSQL DB!\n"
     ]
    }
   ],
   "source": [
    "df_hashtags.write \\\n",
    "    .format(\"jdbc\") \\\n",
    "    .option(\"url\", \"jdbc:postgresql://postgres-iteso:5432/postgres\") \\\n",
    "    .option(\"dbtable\", \"hashtags\") \\\n",
    "    .option(\"user\", \"postgres\") \\\n",
    "    .option(\"password\", \"Admin@1234\") \\\n",
    "    .option(\"driver\", \"org.postgresql.Driver\") \\\n",
    "    .save()\n",
    "\n",
    "print(\"hashtags table was successfully written into a PosgreSQL DB!\")"
   ]
  },
  {
   "cell_type": "code",
   "execution_count": 210,
   "id": "f8e925ee",
   "metadata": {},
   "outputs": [
    {
     "name": "stderr",
     "output_type": "stream",
     "text": [
      "[Stage 86:=========>        (1 + 0) / 2][Stage 87:>                 (0 + 1) / 2]\r"
     ]
    },
    {
     "name": "stdout",
     "output_type": "stream",
     "text": [
      "word_stats table was successfully written into a PosgreSQL DB!\n"
     ]
    },
    {
     "name": "stderr",
     "output_type": "stream",
     "text": [
      "                                                                                \r"
     ]
    }
   ],
   "source": [
    "df_word_stats.write \\\n",
    "    .format(\"jdbc\") \\\n",
    "    .option(\"url\", \"jdbc:postgresql://postgres-iteso:5432/postgres\") \\\n",
    "    .option(\"dbtable\", \"word_stats\") \\\n",
    "    .option(\"user\", \"postgres\") \\\n",
    "    .option(\"password\", \"Admin@1234\") \\\n",
    "    .option(\"driver\", \"org.postgresql.Driver\") \\\n",
    "    .save()\n",
    "\n",
    "print(\"word_stats table was successfully written into a PosgreSQL DB!\")"
   ]
  },
  {
   "cell_type": "code",
   "execution_count": 173,
   "id": "6011349b",
   "metadata": {},
   "outputs": [],
   "source": [
    "sc.stop()"
   ]
  },
  {
   "cell_type": "markdown",
   "id": "e74ef5f1",
   "metadata": {},
   "source": [
    "# DAG"
   ]
  },
  {
   "attachments": {
    "image-2.png": {
     "image/png": "[encoded data removed]"
    }
   },
   "cell_type": "markdown",
   "id": "b1ac7f90",
   "metadata": {},
   "source": [
    "![image-2.png](attachment:image-2.png)"
   ]
  }
 ],
 "metadata": {
  "kernelspec": {
   "display_name": "Python 3 (ipykernel)",
   "language": "python",
   "name": "python3"
  },
  "language_info": {
   "codemirror_mode": {
    "name": "ipython",
    "version": 3
   },
   "file_extension": ".py",
   "mimetype": "text/x-python",
   "name": "python",
   "nbconvert_exporter": "python",
   "pygments_lexer": "ipython3",
   "version": "3.10.12"
  }
 },
 "nbformat": 4,
 "nbformat_minor": 5
}
