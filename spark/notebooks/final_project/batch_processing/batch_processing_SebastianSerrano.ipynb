{
 "cells": [
  {
   "cell_type": "markdown",
   "id": "b92d9622",
   "metadata": {},
   "source": [
    "# <center> <img src=\"../../img/ITESOLogo.png\" alt=\"ITESO\" width=\"480\" height=\"130\"> </center>\n",
    "# <center> **Departamento de Electrónica, Sistemas e Informática** </center>\n",
    "---\n",
    "## <center> Computer Systems Engineering  </center>\n",
    "---\n",
    "### <center> Big Data Processing </center>\n",
    "---\n",
    "#### <center> **Autumn 2025** </center>\n",
    "\n",
    "#### <center> **Final Project: Batch Processing** </center>\n",
    "---\n",
    "\n",
    "**Date**: October, 2025\n",
    "\n",
    "**Student Name**: Vicente Sebastian Serrano Cabrera\n",
    "\n",
    "**Professor**: Pablo Camarillo Ramirez"
   ]
  },
  {
   "cell_type": "markdown",
   "id": "a4dd2743",
   "metadata": {},
   "source": [
    "# Introduction"
   ]
  },
  {
   "cell_type": "markdown",
   "id": "f59d92e5-7f99-4df5-b962-baa800a35e19",
   "metadata": {},
   "source": [
    "## Introducción\n",
    "\n",
    "En juegos competitivos como *Valorant*, se generan múltiples eventos en tiempo real durante cada partida: movimientos, disparos, habilidades, objetivos, etc. Manejar esta gran cantidad de datos simultáneos es un reto, ya que si no se procesan y almacenan correctamente, se pierde información valiosa para el análisis del rendimiento, mejoras del matchmaking y detección de trampas.\n",
    "\n",
    "El objetivo de este proyecto es implementar una parte del pipeline propuesto previamente: limpiar y transformar datos de telemetría con Apache Spark, y posteriormente persistir la información procesada en una base de datos PostgreSQL. Con esto se busca asegurar que los datos estén organizados, completos y disponibles para futuros análisis y visualizaciones.\n"
   ]
  },
  {
   "cell_type": "code",
   "execution_count": 1,
   "id": "2931703d-2123-4387-b62b-e4109d3d1a0e",
   "metadata": {},
   "outputs": [
    {
     "name": "stderr",
     "output_type": "stream",
     "text": [
      "WARNING: Using incubator modules: jdk.incubator.vector\n",
      "25/10/22 00:57:19 WARN NativeCodeLoader: Unable to load native-hadoop library for your platform... using builtin-java classes where applicable\n",
      "Using Spark's default log4j profile: org/apache/spark/log4j2-defaults.properties\n",
      "Setting default log level to \"WARN\".\n",
      "To adjust logging level use sc.setLogLevel(newLevel). For SparkR, use setLogLevel(newLevel).\n"
     ]
    }
   ],
   "source": [
    "import findspark\n",
    "findspark.init()\n",
    "\n",
    "from pyspark.sql import SparkSession\n",
    "\n",
    "spark = SparkSession.builder \\\n",
    "    .appName(\"Final Project: Batch Processing\") \\\n",
    "    .master(\"spark://spark-master:7077\") \\\n",
    "    .config(\"spark.jars\", \"/opt/spark/work-dir/jars/postgresql-42.7.8.jar\") \\\n",
    "    .config(\"spark.ui.port\", \"4040\") \\\n",
    "    .getOrCreate()\n",
    "\n",
    "sc = spark.sparkContext\n",
    "sc.setLogLevel(\"ERROR\")\n",
    "spark.conf.set(\"spark.sql.shuffle.partitions\", \"5\")"
   ]
  },
  {
   "cell_type": "markdown",
   "id": "1757b962",
   "metadata": {},
   "source": [
    "# Dataset"
   ]
  },
  {
   "cell_type": "code",
   "execution_count": 2,
   "id": "191d3584-fd7b-4f4e-ac03-09c70d7b6142",
   "metadata": {},
   "outputs": [
    {
     "name": "stderr",
     "output_type": "stream",
     "text": [
      "                                                                                "
     ]
    },
    {
     "name": "stdout",
     "output_type": "stream",
     "text": [
      "+--------------------+--------+---------+----------------+-------+--------+---------+----------+-----------------+--------------------+\n",
      "|            event_id|match_id|player_id|     player_name|   rank|map_name|game_mode|event_type|weapon_or_ability|           timestamp|\n",
      "+--------------------+--------+---------+----------------+-------+--------+---------+----------+-----------------+--------------------+\n",
      "|94a364f7-9e19-4a1...|   M8401|    P1561|     grantmelton|   Iron|   Haven|SpikeRush|     Death|         Operator|2025-09-19 07:25:...|\n",
      "|16a57989-681f-4e9...|   M7987|    P1118|       noahbowen|   Iron|  Breeze|  Unrated|SpikePlant|       HealingOrb|2025-09-29 01:03:...|\n",
      "|a38f1989-bb71-4ab...|   M8183|    P1852| darrellmarshall|   Iron|    Bind|SpikeRush|SpikePlant|          Classic|2025-09-27 11:18:...|\n",
      "|e2f3a46a-91a8-4ad...|   M7639|    P1328|         vjordan|Diamond|   Split|SpikeRush|SpikePlant|          Grenade|2025-09-21 06:04:...|\n",
      "|53af9784-9634-42b...|   M7246|    P1443|carpenterjeffrey| Bronze|    Bind|SpikeRush|SpikePlant|          Grenade|2025-09-21 21:52:...|\n",
      "+--------------------+--------+---------+----------------+-------+--------+---------+----------+-----------------+--------------------+\n",
      "only showing top 5 rows\n",
      "root\n",
      " |-- event_id: string (nullable = true)\n",
      " |-- match_id: string (nullable = true)\n",
      " |-- player_id: string (nullable = true)\n",
      " |-- player_name: string (nullable = true)\n",
      " |-- rank: string (nullable = true)\n",
      " |-- map_name: string (nullable = true)\n",
      " |-- game_mode: string (nullable = true)\n",
      " |-- event_type: string (nullable = true)\n",
      " |-- weapon_or_ability: string (nullable = true)\n",
      " |-- timestamp: timestamp (nullable = true)\n",
      "\n"
     ]
    }
   ],
   "source": [
    "valorant_df = spark.read \\\n",
    "                .option(\"header\", \"true\") \\\n",
    "                .csv(\"/opt/spark/work-dir/data/valorant_events.csv\", header=True, inferSchema=True)\n",
    "\n",
    "valorant_df.show(5)\n",
    "\n",
    "valorant_df.printSchema()"
   ]
  },
  {
   "cell_type": "markdown",
   "id": "df0a0e72",
   "metadata": {},
   "source": [
    "# Transformations and Actions"
   ]
  },
  {
   "cell_type": "code",
   "execution_count": 8,
   "id": "36262de9-80a1-49d8-8651-5d6a06df5db0",
   "metadata": {},
   "outputs": [],
   "source": [
    "from pyspark.sql.functions import col, to_date, hour, when, count, avg\n",
    "\n",
    "valorant_df = valorant_df.withColumn(\"event_date\", to_date(col(\"timestamp\"))) \\\n",
    "                         .withColumn(\"event_hour\", hour(col(\"timestamp\"))) \\\n",
    "                         .withColumn(\"critical_event\", \n",
    "                                     when(col(\"event_type\").isin([\"Kill\", \"SpikePlant\", \"SpikeDefuse\"]), 1)\n",
    "                                     .otherwise(0))\n",
    "\n",
    "valorant_df_clean = valorant_df.dropna(subset=[\"player_id\", \"match_id\", \"event_type\", \"timestamp\"]) \\\n",
    "                               .dropDuplicates()\n",
    "\n",
    "df_player_stats = valorant_df_clean.groupBy(\"player_id\", \"player_name\", \"rank\") \\\n",
    "                                   .agg(count(\"critical_event\").alias(\"total_critical_events\"))\n",
    "\n",
    "df_map_stats = valorant_df_clean.groupBy(\"map_name\") \\\n",
    "                                .agg(avg(\"critical_event\").alias(\"avg_critical_events\"))\n",
    "\n",
    "\n"
   ]
  },
  {
   "cell_type": "markdown",
   "id": "bc61d130",
   "metadata": {},
   "source": [
    "# Persistence Data"
   ]
  },
  {
   "cell_type": "markdown",
   "id": "0a91210c-3ed3-46e0-baca-018dceefb04c",
   "metadata": {},
   "source": [
    "### Justificación de la selección de la base de datos\n",
    "\n",
    "Para la persistencia de los datos transformados se seleccionó PostgreSQL debido a 2 motivos, el primero es que fue el usado duarente las clases y el conocido para implementar, mientras que el segundo motivo es que el modelo de información del proyecto está altamente estructurado y presenta relaciones claras entre entidades como jugadores, partidas, mapas y eventos dentro del juego Valorant. Este tipo de datos se adapta mejor a un esquema relacional, donde la consistencia, normalización y capacidad para realizar consultas analíticas son esenciales.\n",
    "\n",
    "PostgreSQL permite:\n",
    "- Mantener integridad referencial entre los datos de telemetría procesados.\n",
    "- Ejecutar consultas SQL complejas para obtener métricas del desempeño de jugadores o balance de mapas.\n",
    "- Escalar el almacenamiento sin perder consistencia y fiabilidad en la información.\n",
    "- Integrarse fácilmente con Spark mediante conexión JDBC para cargas y actualizaciones periódicas.\n",
    "\n",
    "\n"
   ]
  },
  {
   "cell_type": "code",
   "execution_count": 9,
   "id": "76c3b34e-5ddf-4325-9c1c-f71ba071e9cd",
   "metadata": {},
   "outputs": [
    {
     "name": "stdout",
     "output_type": "stream",
     "text": [
      "valorant_clean guardado correctamente.\n",
      "valorant_player_stats guardado correctamente.\n",
      "valorant_map_stats guardado correctamente.\n"
     ]
    }
   ],
   "source": [
    "jdbc_url = \"jdbc:postgresql://postgres-iteso:5432/postgres\"\n",
    "db_properties = {\n",
    "    \"user\": \"postgres\",\n",
    "    \"password\": \"Admin@1234\",\n",
    "    \"driver\": \"org.postgresql.Driver\"\n",
    "}\n",
    "\n",
    "valorant_df_clean.write \\\n",
    "    .format(\"jdbc\") \\\n",
    "    .option(\"url\", jdbc_url) \\\n",
    "    .option(\"dbtable\", \"valorant_clean\") \\\n",
    "    .option(\"user\", db_properties[\"user\"]) \\\n",
    "    .option(\"password\", db_properties[\"password\"]) \\\n",
    "    .option(\"driver\", db_properties[\"driver\"]) \\\n",
    "    .mode(\"overwrite\") \\\n",
    "    .save()\n",
    "\n",
    "print(\"valorant_clean guardado\")\n",
    "\n",
    "df_player_stats.write \\\n",
    "    .format(\"jdbc\") \\\n",
    "    .option(\"url\", jdbc_url) \\\n",
    "    .option(\"dbtable\", \"valorant_player_stats\") \\\n",
    "    .option(\"user\", db_properties[\"user\"]) \\\n",
    "    .option(\"password\", db_properties[\"password\"]) \\\n",
    "    .option(\"driver\", db_properties[\"driver\"]) \\\n",
    "    .mode(\"overwrite\") \\\n",
    "    .save()\n",
    "\n",
    "print(\"valorant_player_stats guardado\")\n",
    "\n",
    "df_map_stats.write \\\n",
    "    .format(\"jdbc\") \\\n",
    "    .option(\"url\", jdbc_url) \\\n",
    "    .option(\"dbtable\", \"valorant_map_stats\") \\\n",
    "    .option(\"user\", db_properties[\"user\"]) \\\n",
    "    .option(\"password\", db_properties[\"password\"]) \\\n",
    "    .option(\"driver\", db_properties[\"driver\"]) \\\n",
    "    .mode(\"overwrite\") \\\n",
    "    .save()\n",
    "\n",
    "print(\"valorant_map_stats guardado\")\n"
   ]
  },
  {
   "cell_type": "code",
   "execution_count": 10,
   "id": "2f810f8d-123b-447f-bfbd-dd2fea98a171",
   "metadata": {},
   "outputs": [
    {
     "name": "stdout",
     "output_type": "stream",
     "text": [
      "\n",
      "Tabla: valorant_clean\n",
      "+------------------------------------+--------+---------+----------------+--------+--------+---------+-----------+-----------------+--------------------------+----------+----------+--------------+\n",
      "|event_id                            |match_id|player_id|player_name     |rank    |map_name|game_mode|event_type |weapon_or_ability|timestamp                 |event_date|event_hour|critical_event|\n",
      "+------------------------------------+--------+---------+----------------+--------+--------+---------+-----------+-----------------+--------------------------+----------+----------+--------------+\n",
      "|a38f1989-bb71-4ab8-8c83-3563ce6dd900|M8183   |P1852    |darrellmarshall |Iron    |Bind    |SpikeRush|SpikePlant |Classic          |2025-09-27 11:18:18.772287|2025-09-27|11        |1             |\n",
      "|53af9784-9634-42bd-b9ef-e2309642cb70|M7246   |P1443    |carpenterjeffrey|Bronze  |Bind    |SpikeRush|SpikePlant |Grenade          |2025-09-21 21:52:28.278424|2025-09-21|21        |1             |\n",
      "|edb7657f-d333-4457-a9f1-95fea45a36de|M5932   |P1117    |mayermichael    |Immortal|Icebox  |SpikeRush|SpikeDefuse|Phantom          |2025-09-15 00:11:39.432639|2025-09-15|0         |1             |\n",
      "|17d5a1b1-5fe3-4105-85fd-44916258fb5e|M5450   |P1820    |riveratara      |Iron    |Icebox  |SpikeRush|AbilityUse |Grenade          |2025-09-19 19:43:38.347596|2025-09-19|19        |0             |\n",
      "|1b1c09fe-c2de-49e1-82be-fc224801817c|M6292   |P1366    |craigclark      |Iron    |Split   |SpikeRush|SpikePlant |Sheriff          |2025-09-26 19:29:51.239636|2025-09-26|19        |1             |\n",
      "+------------------------------------+--------+---------+----------------+--------+--------+---------+-----------+-----------------+--------------------------+----------+----------+--------------+\n",
      "only showing top 5 rows\n",
      "\n",
      "Tabla: valorant_player_stats\n",
      "+---------+-----------+--------+---------------------+\n",
      "|player_id|player_name|rank    |total_critical_events|\n",
      "+---------+-----------+--------+---------------------+\n",
      "|P1366    |craigclark |Iron    |1                    |\n",
      "|P1947    |bharris    |Platinum|1                    |\n",
      "|P1857    |dsmith     |Bronze  |1                    |\n",
      "|P1693    |williamfrye|Radiant |1                    |\n",
      "|P1496    |darlene12  |Diamond |1                    |\n",
      "+---------+-----------+--------+---------------------+\n",
      "only showing top 5 rows\n",
      "\n",
      "Tabla: valorant_map_stats\n",
      "+--------+-------------------+\n",
      "|map_name|avg_critical_events|\n",
      "+--------+-------------------+\n",
      "|Icebox  |12                 |\n",
      "|Breeze  |19                 |\n",
      "|Bind    |19                 |\n",
      "|Split   |28                 |\n",
      "|Haven   |22                 |\n",
      "+--------+-------------------+\n",
      "\n"
     ]
    }
   ],
   "source": [
    "for t in [\"valorant_clean\", \"valorant_player_stats\", \"valorant_map_stats\"]:\n",
    "    print(f\"\\nTabla: {t}\")\n",
    "    df_check = spark.read.jdbc(url=jdbc_url, table=t, properties=db_properties)\n",
    "    df_check.show(5, truncate=False)"
   ]
  },
  {
   "cell_type": "markdown",
   "id": "e74ef5f1",
   "metadata": {},
   "source": [
    "# DAG"
   ]
  },
  {
   "cell_type": "code",
   "execution_count": null,
   "id": "5daaa61b-ed1b-4eec-9f8d-d6da6f5e76ce",
   "metadata": {},
   "outputs": [],
   "source": []
  },
  {
   "cell_type": "code",
   "execution_count": null,
   "id": "7bb2d94d-8625-4500-81ed-8b4fd83cb933",
   "metadata": {},
   "outputs": [],
   "source": [
    "sc.stop()"
   ]
  }
 ],
 "metadata": {
  "kernelspec": {
   "display_name": "Python 3 (ipykernel)",
   "language": "python",
   "name": "python3"
  },
  "language_info": {
   "codemirror_mode": {
    "name": "ipython",
    "version": 3
   },
   "file_extension": ".py",
   "mimetype": "text/x-python",
   "name": "python",
   "nbconvert_exporter": "python",
   "pygments_lexer": "ipython3",
   "version": "3.10.12"
  }
 },
 "nbformat": 4,
 "nbformat_minor": 5
}
