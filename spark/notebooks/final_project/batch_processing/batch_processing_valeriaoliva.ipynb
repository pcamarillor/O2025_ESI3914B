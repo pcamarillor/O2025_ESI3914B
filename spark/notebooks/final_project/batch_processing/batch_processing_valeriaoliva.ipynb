{
 "cells": [
  {
   "cell_type": "markdown",
   "id": "b92d9622",
   "metadata": {},
   "source": [
    "# <center> <img src=\"../../img/ITESOLogo.png\" alt=\"ITESO\" width=\"480\" height=\"130\"> </center>\n",
    "# <center> **Departamento de Electrónica, Sistemas e Informática** </center>\n",
    "---\n",
    "## <center> Computer Systems Engineering  </center>\n",
    "---\n",
    "### <center> Big Data Processing </center>\n",
    "---\n",
    "#### <center> **Autumn 2025** </center>\n",
    "\n",
    "#### <center> **Final Project: Batch Processing** </center>\n",
    "---\n",
    "\n",
    "**Date**: October, 2025\n",
    "\n",
    "**Student Name**: Valeria Oliva Hernandez\n",
    "\n",
    "**Professor**: Pablo Camarillo Ramirez"
   ]
  },
  {
   "cell_type": "markdown",
   "id": "a4dd2743",
   "metadata": {},
   "source": [
    "# Introduction"
   ]
  },
  {
   "cell_type": "markdown",
   "id": "dc63a300-84ae-42e6-aa93-1fd2608b7335",
   "metadata": {},
   "source": [
    "La Cruz Roja Mexicana enfrenta el desafío de gestionar grandes volúmenes de datos provenientes de sus más de 1,200 puntos de atención en todo el país. Cada día se registran múltiples atenciones, traslados en ambulancias y uso de recursos médicos en diferentes hospitales y delegaciones. \n",
    "Sin embargo, parte de esa información se encuentra almacenada en registros independientes, esto no funciona para tener una visión global de las operaciones diarias, identificar patrones de saturación hospitalaria, medir los tiempos de respuesta ante emergencias o analizar el uso de los recursos disponibles. Esto limita la capacidad de la Cruz Roja para tomar decisiones basadas en información actualizada. "
   ]
  },
  {
   "cell_type": "markdown",
   "id": "1757b962",
   "metadata": {},
   "source": [
    "# Dataset"
   ]
  },
  {
   "cell_type": "markdown",
   "id": "06366138-f32f-4816-90a1-c957a47594a8",
   "metadata": {},
   "source": [
    "### Data model: Document \n",
    "Guarda los datos en archivos JSON, Cada registro representa un evento hospitalario o traslado de emergencia. Este modelo permite incluir subestructuras (como ambulance_transfer y resources_used) dentro del mismo documento."
   ]
  },
  {
   "cell_type": "markdown",
   "id": "3d93e065-733f-4a6b-8868-00cb65920188",
   "metadata": {},
   "source": [
    "### Data schema\n",
    "    hospital_id: string\n",
    "    patient_id: string    \n",
    "    last_name: string    \n",
    "    name: string    \n",
    "    age: int    \n",
    "    gender: string    \n",
    "    contact: string    \n",
    "    admission_type: string    \n",
    "    admission_timestamp: timestamp    \n",
    "    diagnosis: string    \n",
    "    ambulance_transfer: boolean        \n",
    "    unit_id: string         \n",
    "    departure_time: timestamp    \n",
    "    arrival_time: timestamp    \n",
    "    medication_used: array string   \n",
    "    equipment_used: array string    \n",
    "    event: string"
   ]
  },
  {
   "cell_type": "markdown",
   "id": "af32bd2f-ca8b-4e45-9f3a-92d9851710eb",
   "metadata": {},
   "source": [
    "### Generación del dataset\n",
    "Debido a que no existe un dataset público de esta información, lo voy a generar con un script de python usando la libreria Faker."
   ]
  },
  {
   "cell_type": "markdown",
   "id": "df0a0e72",
   "metadata": {},
   "source": [
    "# Transformations and Actions"
   ]
  },
  {
   "cell_type": "code",
   "execution_count": 1,
   "id": "97d67355-3ef2-4ed8-9b34-8d2c523328ca",
   "metadata": {},
   "outputs": [
    {
     "name": "stderr",
     "output_type": "stream",
     "text": [
      "WARNING: Using incubator modules: jdk.incubator.vector\n",
      ":: loading settings :: url = jar:file:/opt/spark/jars/ivy-2.5.3.jar!/org/apache/ivy/core/settings/ivysettings.xml\n",
      "Ivy Default Cache set to: /root/.ivy2.5.2/cache\n",
      "The jars for the packages stored in: /root/.ivy2.5.2/jars\n",
      "org.mongodb.spark#mongo-spark-connector_2.13 added as a dependency\n",
      ":: resolving dependencies :: org.apache.spark#spark-submit-parent-1b0729bf-78fe-4590-80ed-f854ab0b5178;1.0\n",
      "\tconfs: [default]\n",
      "\tfound org.mongodb.spark#mongo-spark-connector_2.13;10.3.0 in central\n",
      "\tfound org.mongodb#mongodb-driver-sync;4.8.2 in central\n",
      "\t[4.8.2] org.mongodb#mongodb-driver-sync;[4.8.1,4.8.99)\n",
      "\tfound org.mongodb#bson;4.8.2 in central\n",
      "\tfound org.mongodb#mongodb-driver-core;4.8.2 in central\n",
      "\tfound org.mongodb#bson-record-codec;4.8.2 in central\n",
      ":: resolution report :: resolve 2133ms :: artifacts dl 33ms\n",
      "\t:: modules in use:\n",
      "\torg.mongodb#bson;4.8.2 from central in [default]\n",
      "\torg.mongodb#bson-record-codec;4.8.2 from central in [default]\n",
      "\torg.mongodb#mongodb-driver-core;4.8.2 from central in [default]\n",
      "\torg.mongodb#mongodb-driver-sync;4.8.2 from central in [default]\n",
      "\torg.mongodb.spark#mongo-spark-connector_2.13;10.3.0 from central in [default]\n",
      "\t---------------------------------------------------------------------\n",
      "\t|                  |            modules            ||   artifacts   |\n",
      "\t|       conf       | number| search|dwnlded|evicted|| number|dwnlded|\n",
      "\t---------------------------------------------------------------------\n",
      "\t|      default     |   5   |   1   |   0   |   0   ||   5   |   0   |\n",
      "\t---------------------------------------------------------------------\n",
      ":: retrieving :: org.apache.spark#spark-submit-parent-1b0729bf-78fe-4590-80ed-f854ab0b5178\n",
      "\tconfs: [default]\n",
      "\t0 artifacts copied, 5 already retrieved (0kB/11ms)\n",
      "25/10/27 03:19:02 WARN NativeCodeLoader: Unable to load native-hadoop library for your platform... using builtin-java classes where applicable\n",
      "Using Spark's default log4j profile: org/apache/spark/log4j2-defaults.properties\n",
      "Setting default log level to \"WARN\".\n",
      "To adjust logging level use sc.setLogLevel(newLevel). For SparkR, use setLogLevel(newLevel).\n"
     ]
    }
   ],
   "source": [
    "# Create SparkSession\n",
    "import findspark\n",
    "findspark.init()\n",
    "\n",
    "from pyspark.sql import SparkSession\n",
    "\n",
    "spark = (\n",
    "    SparkSession.builder\n",
    "    .appName(\"Final Project - Cruz Roja\")\n",
    "    .master(\"spark://spark-master:7077\")\n",
    "    .config(\"spark.ui.port\", \"4040\")\n",
    "    .config(\"spark.jars.packages\", \"org.mongodb.spark:mongo-spark-connector_2.13:10.3.0\")\n",
    "    .getOrCreate()\n",
    ")\n",
    "\n",
    "sc = spark.sparkContext\n",
    "sc.setLogLevel(\"ERROR\")"
   ]
  },
  {
   "cell_type": "code",
   "execution_count": 2,
   "id": "715f1914-113b-4c69-a3e8-53af7fac93e8",
   "metadata": {},
   "outputs": [
    {
     "data": {
      "text/plain": [
       "StructType([StructField('hospital_id', StringType(), True), StructField('patient_id', StringType(), True), StructField('last_name', StringType(), True), StructField('name', StringType(), True), StructField('age', IntegerType(), True), StructField('gender', StringType(), True), StructField('contact', StringType(), True), StructField('admission_type', StringType(), True), StructField('admission_timestamp', TimestampType(), True), StructField('diagnosis', StringType(), True), StructField('ambulance_transfer', BooleanType(), True), StructField('unit_id', StringType(), True), StructField('departure_time', TimestampType(), True), StructField('arrival_time', TimestampType(), True), StructField('medication_used', ArrayType(StringType(), True), True), StructField('equipment_used', ArrayType(StringType(), True), True), StructField('event', StringType(), True)])"
      ]
     },
     "execution_count": 2,
     "metadata": {},
     "output_type": "execute_result"
    }
   ],
   "source": [
    "# Define schema\n",
    "from valeriaoliva.spark_utils import SparkUtils\n",
    "\n",
    "cruzroja_schema_columns = [\n",
    "    (\"hospital_id\", \"string\"),\n",
    "    (\"patient_id\", \"string\"),\n",
    "    (\"last_name\", \"string\"),\n",
    "    (\"name\", \"string\"),\n",
    "    (\"age\", \"int\"),\n",
    "    (\"gender\", \"string\"),\n",
    "    (\"contact\", \"string\"),\n",
    "    (\"admission_type\", \"string\"),\n",
    "    (\"admission_timestamp\", \"timestamp\"),\n",
    "    (\"diagnosis\", \"string\"),\n",
    "    (\"ambulance_transfer\", \"boolean\"),\n",
    "    (\"unit_id\", \"string\"),\n",
    "    (\"departure_time\", \"timestamp\"),\n",
    "    (\"arrival_time\", \"timestamp\"),\n",
    "    (\"medication_used\", \"array_string\"),\n",
    "    (\"equipment_used\", \"array_string\"),\n",
    "    (\"event\", \"string\")\n",
    "]\n",
    "\n",
    "cruzroja_schema = SparkUtils.generate_schema(cruzroja_schema_columns)\n",
    "cruzroja_schema"
   ]
  },
  {
   "cell_type": "code",
   "execution_count": 3,
   "id": "c0c400a9-63e5-4b12-ab6d-644c78990b1f",
   "metadata": {},
   "outputs": [],
   "source": [
    "df_cruzroja = spark.read \\\n",
    "                .option(\"header\", \"true\") \\\n",
    "                .schema(cruzroja_schema) \\\n",
    "                .json(\"/opt/spark/work-dir/data/cruzroja/\")\n",
    "\n",
    "#df_cruzroja.show(n=5, truncate = False)\n",
    "#df_cruzroja.printSchema()"
   ]
  },
  {
   "cell_type": "code",
   "execution_count": 4,
   "id": "c42c5872-3be6-4306-9c98-e3f45a80e791",
   "metadata": {},
   "outputs": [],
   "source": [
    "from pyspark.sql.functions import col, count, explode, avg, round, min, max, unix_timestamp"
   ]
  },
  {
   "cell_type": "code",
   "execution_count": 5,
   "id": "35755fe3-f6d9-491e-adb9-803a4d6abef1",
   "metadata": {},
   "outputs": [],
   "source": [
    "# Remove nulos de columnas clave\n",
    "#print(f\"number of records before cleaning: {df_cruzroja.count()}\")\n",
    "\n",
    "col = [\"hospital_id\", \"patient_id\", \"age\", \"gender\", \"admission_type\",\"admission_timestamp\", \"diagnosis\"]\n",
    "cruzroja_clean = df_cruzroja.dropna(subset = col)\n",
    "\n",
    "#print(f\"number of records after cleaning with dropna: {cruzroja_clean.count()}\")"
   ]
  },
  {
   "cell_type": "code",
   "execution_count": 6,
   "id": "ab770f48-34a5-4e9d-8f49-495bdf90b092",
   "metadata": {},
   "outputs": [],
   "source": [
    "# Remove duplicados del id del paciente si ya tienen un timestamp de admisión igual\n",
    "cruzroja_clean = cruzroja_clean.dropDuplicates([\"patient_id\", \"admission_timestamp\"])\n",
    "\n",
    "#cruzroja_clean.printSchema()"
   ]
  },
  {
   "cell_type": "code",
   "execution_count": 7,
   "id": "344c705e-a94f-40d6-8a79-2f61db10ab10",
   "metadata": {},
   "outputs": [],
   "source": [
    "# 1. Rango de edad por hospital y género del paciente\n",
    "cruzroja_age = cruzroja_clean.groupBy(\"hospital_id\", \"gender\").agg(\n",
    "    min(\"age\").alias(\"min_age\"), max(\"age\").alias(\"max_age\"))\n",
    "\n",
    "#cruzroja_age.show(n=10, truncate = False)"
   ]
  },
  {
   "cell_type": "code",
   "execution_count": 8,
   "id": "2a4bdb8a-494c-4124-839c-f49d2045a14f",
   "metadata": {},
   "outputs": [],
   "source": [
    "# 2. Conteo de pacientes por hospital y por tipo de admisión\n",
    "cruzroja_total_admissions = cruzroja_clean.groupBy(\"hospital_id\").agg(count(\"*\").alias(\"total_admissions\"))\n",
    "cruzroja_admission_type = cruzroja_clean.groupBy(\"hospital_id\", \"admission_type\").agg(count(\"*\").alias(\"num_patients_admtype\"))\n",
    "\n",
    "#cruzroja_total_admissions.show()\n",
    "#cruzroja_admission_type.show()"
   ]
  },
  {
   "cell_type": "code",
   "execution_count": 9,
   "id": "4ec7df12-623c-43f9-9517-02f100c7ee65",
   "metadata": {},
   "outputs": [],
   "source": [
    "from pyspark.sql.functions import col, count, explode, avg, round, min, max, unix_timestamp"
   ]
  },
  {
   "cell_type": "code",
   "execution_count": 10,
   "id": "f017172d-3d11-450a-bd9e-83b1acd67efc",
   "metadata": {},
   "outputs": [],
   "source": [
    "# 3. Conteo de traslados en ambulacia por hospital\n",
    "cruzroja_transfers = cruzroja_clean.filter(col(\"ambulance_transfer\") == True).groupBy(\"hospital_id\").agg(\n",
    "    count(\"*\").alias(\"num_transfers\"))\n",
    "\n",
    "#cruzroja_transfers.show()"
   ]
  },
  {
   "cell_type": "code",
   "execution_count": 11,
   "id": "2356844f-6233-4ab2-9eba-c593d62ad3f8",
   "metadata": {},
   "outputs": [],
   "source": [
    "# 4. Duración de traslados por ambulancia por hospital + tiempo promedio de traslado por hospital\n",
    "cruzroja_transfers_duration = cruzroja_clean.filter(col(\"ambulance_transfer\") == True).withColumn(\"transfer_duration_min\", (unix_timestamp(\"arrival_time\") - unix_timestamp(\"departure_time\")) / 60)\n",
    "\n",
    "#cruzroja_transfers_duration.select(\"hospital_id\",\"patient_id\",\"unit_id\", \"transfer_duration_min\").show(10, truncate=False)"
   ]
  },
  {
   "cell_type": "code",
   "execution_count": 12,
   "id": "90a925a8-0734-4b98-95d8-7e6d16e85a0f",
   "metadata": {},
   "outputs": [],
   "source": [
    "# 5. Promedio de tiempo de traslado de las ambulancias por hospital\n",
    "cruzroja_avg_transfer = cruzroja_transfers_duration.groupBy(\"hospital_id\").agg(\n",
    "    round(avg(\"transfer_duration_min\"),2).alias(\"avg_transfer_duration\"))\n",
    "\n",
    "#cruzroja_avg_transfer.select(\"hospital_id\",\"avg_transfer_duration\").show(10, truncate=False)"
   ]
  },
  {
   "cell_type": "code",
   "execution_count": 13,
   "id": "abe18bab-602b-49e4-b34f-6a2ae09f30f6",
   "metadata": {},
   "outputs": [],
   "source": [
    "# 6. Separación de los arrays de medicamentos y el de equipos medicos + conteo de uso de c/u\n",
    "cruzroja_meds = cruzroja_clean.select(\"hospital_id\", explode(\"medication_used\").alias(\"medication\"))\n",
    "cruzroja_meds_count = cruzroja_meds.groupBy(\"hospital_id\", \"medication\").agg(count(\"*\").alias(\"num_usage_meds\"))\n",
    "\n",
    "cruzroja_equipment = cruzroja_clean.select(\"hospital_id\", explode(\"equipment_used\").alias(\"equipment\"))\n",
    "cruzroja_equipment_count = cruzroja_equipment.groupBy(\"hospital_id\", \"equipment\").agg(count(\"*\").alias(\"num_usage_equipment\"))\n",
    "\n",
    "#cruzroja_meds_count.show(n=10, truncate = False)\n",
    "#cruzroja_equipment_count.show(n=10, truncate = False)"
   ]
  },
  {
   "cell_type": "markdown",
   "id": "bc61d130",
   "metadata": {},
   "source": [
    "# Persistence Data"
   ]
  },
  {
   "cell_type": "markdown",
   "id": "7c3e1291-03ca-4b64-8ed5-3d8ea241d853",
   "metadata": {},
   "source": [
    "Debido a que mi dataset contiene estruturas como array_string y que se generó inicialmente en formato JSON, utilizar una base de datos NoSQL como MongoDB hace más fácil almacenar lo datos sin tener que normalizarlos en múltiples tablas. MongoDB permite guardar los documentos JSON y conserva la estrutura de los arrays."
   ]
  },
  {
   "cell_type": "markdown",
   "id": "41fafa3e-0140-4195-88d0-64aea8d9f743",
   "metadata": {},
   "source": [
    "Para realizar la conexión:\n",
    "1. Es necesario tener mongo instalado y corriendo\n",
    "2. Para que el contenedor de spark se comunique con localhost:27017 donde esta Mongo conectado se utiliza la dirección: host.docker.internal\n",
    "3. Cargar el conector de Mongo al crear la session de Spark: .config(\"spark.jars.packages\", \"org.mongodb.spark:mongo-spark-connector_2.13:10.3.0\")\n",
    "4. Escribir el dataframe en mongo con el siguiente código, usando .write.format(\"mongodb\") con la URI de conexion, la base de datos y la colección\n",
    "5. Verifiqué la creación de la bd y de la colección events en Mongo Compass"
   ]
  },
  {
   "cell_type": "code",
   "execution_count": 14,
   "id": "275447b7-9d6e-42a8-bf30-c0fb6ee0ff67",
   "metadata": {},
   "outputs": [
    {
     "name": "stderr",
     "output_type": "stream",
     "text": [
      "                                                                                "
     ]
    }
   ],
   "source": [
    "mongo_host_uri = \"mongodb://host.docker.internal:27017\"\n",
    "\n",
    "(cruzroja_clean\n",
    " .write.format(\"mongodb\")\n",
    " .mode(\"append\")\n",
    " .option(\"connection.uri\", mongo_host_uri)\n",
    " .option(\"database\", \"cruzroja_db\")\n",
    " .option(\"collection\", \"events\")\n",
    " .save()\n",
    ")"
   ]
  },
  {
   "cell_type": "markdown",
   "id": "e74ef5f1",
   "metadata": {},
   "source": [
    "# DAG"
   ]
  },
  {
   "attachments": {
    "6325e2c5-8ff1-43d6-b201-0b8d6b0835ac.png": {
     "image/png": "[encoded data removed]"
    }
   },
   "cell_type": "markdown",
   "id": "fe7ca257-1003-4f86-b4ee-5e3f0961be4d",
   "metadata": {},
   "source": [
    "![imagen.png](attachment:6325e2c5-8ff1-43d6-b201-0b8d6b0835ac.png)"
   ]
  },
  {
   "cell_type": "code",
   "execution_count": 15,
   "id": "14e60738-e67c-4ee0-b06f-7703a7826c14",
   "metadata": {},
   "outputs": [],
   "source": [
    "sc.stop()"
   ]
  },
  {
   "cell_type": "code",
   "execution_count": null,
   "id": "75ef8261-8515-48f9-9d68-0a09d2b69b4d",
   "metadata": {},
   "outputs": [],
   "source": []
  }
 ],
 "metadata": {
  "kernelspec": {
   "display_name": "Python 3 (ipykernel)",
   "language": "python",
   "name": "python3"
  },
  "language_info": {
   "codemirror_mode": {
    "name": "ipython",
    "version": 3
   },
   "file_extension": ".py",
   "mimetype": "text/x-python",
   "name": "python",
   "nbconvert_exporter": "python",
   "pygments_lexer": "ipython3",
   "version": "3.10.12"
  }
 },
 "nbformat": 4,
 "nbformat_minor": 5
}
