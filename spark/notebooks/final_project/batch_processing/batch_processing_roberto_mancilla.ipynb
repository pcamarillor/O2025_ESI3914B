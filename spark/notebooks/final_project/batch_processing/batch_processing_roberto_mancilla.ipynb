{
 "cells": [
  {
   "cell_type": "markdown",
   "id": "b92d9622",
   "metadata": {},
   "source": [
    "# <center> <img src=\"../../img/ITESOLogo.png\" alt=\"ITESO\" width=\"480\" height=\"130\"> </center>\n",
    "# <center> **Departamento de Electrónica, Sistemas e Informática** </center>\n",
    "---\n",
    "## <center> Computer Systems Engineering  </center>\n",
    "---\n",
    "### <center> Big Data Processing </center>\n",
    "---\n",
    "#### <center> **Autumn 2025** </center>\n",
    "\n",
    "#### <center> **Final Project: Batch Processing** </center>\n",
    "---\n",
    "\n",
    "**Date**: October, 2025\n",
    "\n",
    "**Student Name**: Luis Roberto Chávez Mancilla\n",
    "\n",
    "**Professor**: Pablo Camarillo Ramirez"
   ]
  },
  {
   "cell_type": "markdown",
   "id": "a4dd2743",
   "metadata": {},
   "source": [
    "# Introduction\n",
    "El data set utilizado es *10k Popular TV Shows Dataset 1944-2025 (TMDB)* \n",
    "\n",
    "En la actulidad el crecimiento sin medida del contenido audiovisual ha hecho cada vez mas dificil para las plataformas de streaming y las audiencias comprender las tendecias y las preferencias del publico. \n",
    "Ante esto el anális de los datos se vuelve una herramienta fundamental para que la industria del entretenimiento pueda tomar decisiones sobre produccion, localizacion y estrategias de recomendaciones a los usuarios.\n",
    "\n",
    "En este proyecto se aborda la problematica de *analizar información relacionada con programas de TV*, en donde en nuestro data set se tienen inconsistencias como valores nulos, formatos incorrectos y estructuras no normalizadas. El propósito es preparar los datos para que puedan ser utilizados en análsis descriptivos y modelos analíticos sobre la popularidad, los géneros y la distribución geográfica de los shows de tv.\n",
    "\n",
    "Para lograrlo, hacemos tranformaciones que limpian y estructura el dataset original, eliminando duplicados y registros con datos críticos faltantes. También se normalizan los textos, se convierten listas en formato de string a estructuras array, y se crean columnas derivadas como el año de lanzamiento. Además, se añaden indicadores para evaluar la completitud de ciertos campos y se generan tablas derivadas que permiten analizar la diversidad de géneros, países e idiomas, así como tendencias de popularidad a lo largo del tiempo."
   ]
  },
  {
   "cell_type": "markdown",
   "id": "1757b962",
   "metadata": {},
   "source": [
    "# Dataset\n",
    "Obtuve este dataset de Kaggle:\n",
    "- https://www.kaggle.com/datasets/riteshswami08/10000-popular-tv-shows-dataset-tmdb\n",
    "\n",
    "Para este proyecto el modelo seleccionado para nuestro pipeline es un *modelo relacional* usando un container de PostgreSQL como nuestro sistema de gestión.\n",
    "\n",
    "Creo que en este caso un modelo relacional es lo mas adecuado debido a las relaciones naturales entre las entidades de nuestro data set (shows, generos y paises), lo cual facilita la integridad referencial, normalizacion y nos permite poder realizar analisis complejos mediante operaciones como joins y aggregations.\n",
    "\n",
    "El esquema propuesto estaría compuesto por 5 tablas principales:\n",
    "1. Shows (tabla con a información principal)\n",
    "\n",
    "`id` - int\n",
    "\n",
    "`name` - str\n",
    "\n",
    "`original_name` - str\n",
    "\n",
    "`original_language` - str\n",
    "\n",
    "`first_air_date` - date(str)\n",
    "\n",
    "`overview` - str\n",
    "\n",
    "`popularity` - float\n",
    "\n",
    "`vote_average` - float\n",
    "\n",
    "`vote_count` - int\n",
    "\n",
    "`adult` - int\n",
    "\n",
    "`poster_path` - str\n",
    "\n",
    "`backdrop_path` - str\n",
    "\n",
    "2. Genres (lista de géneros disponibles en el data set)\n",
    "\n",
    "`genre_id` - int\n",
    "\n",
    "3. Show genres (tabla de relacion entre shows y generos)\n",
    "\n",
    "`show_id` - int (fk)\n",
    "\n",
    "`genre_id` - int (fk)\n",
    "\n",
    "4. Countries (catálogo de países)\n",
    "\n",
    "`country_code` - str\n",
    "\n",
    "5. Show countries (relación entre shows y país de origen)\n",
    "\n",
    "`show_id` - int\n",
    "\n",
    "`country_code` - str\n",
    "\n",
    "**Notas:** `genre_ids` y `origin_country` en el CSV vienen como strings tipo lista (ej. `\"[18, 35]\"` o `\"['US']\"`). En la etapa de ingestión se parsearán (con `ast.literal_eval` / `json.loads`) y se poblarán las tablas `genres` / `show_genres` y `countries` / `show_countries`. También se crearán columnas derivadas en Transformations (p. ej. `release_year`, `genre_count`, `weighted_popularity`).\n",
    "\n"
   ]
  },
  {
   "cell_type": "markdown",
   "id": "df0a0e72",
   "metadata": {},
   "source": [
    "# Transformations and Actions\n",
    "### Create Spark Session"
   ]
  },
  {
   "cell_type": "code",
   "execution_count": 1,
   "id": "b8ef0142",
   "metadata": {},
   "outputs": [
    {
     "name": "stderr",
     "output_type": "stream",
     "text": [
      "WARNING: Using incubator modules: jdk.incubator.vector\n",
      "25/10/27 03:54:15 WARN NativeCodeLoader: Unable to load native-hadoop library for your platform... using builtin-java classes where applicable\n",
      "Using Spark's default log4j profile: org/apache/spark/log4j2-defaults.properties\n",
      "Setting default log level to \"WARN\".\n",
      "To adjust logging level use sc.setLogLevel(newLevel). For SparkR, use setLogLevel(newLevel).\n"
     ]
    }
   ],
   "source": [
    "import findspark\n",
    "findspark.init()\n",
    "\n",
    "from pyspark.sql import SparkSession\n",
    "\n",
    "spark = SparkSession.builder \\\n",
    "    .appName(\"Project batch processing - Part 1.\") \\\n",
    "    .master(\"spark://spark-master:7077\") \\\n",
    "    .config(\"spark.jars\", \"/opt/spark/work-dir/jars/postgresql-42.7.8.jar\") \\\n",
    "    .config(\"spark.ui.port\", \"4040\") \\\n",
    "    .getOrCreate()\n",
    "\n",
    "\n",
    "sc = spark.sparkContext\n",
    "sc.setLogLevel(\"INFO\")\n",
    "\n",
    "# Optimization (reduce the number of shuffle partitions)\n",
    "spark.conf.set(\"spark.sql.shuffle.partitions\", \"5\")"
   ]
  },
  {
   "cell_type": "markdown",
   "id": "c40b7d19",
   "metadata": {},
   "source": [
    "### Define schema"
   ]
  },
  {
   "cell_type": "code",
   "execution_count": 2,
   "id": "ff586f37",
   "metadata": {},
   "outputs": [
    {
     "data": {
      "text/plain": [
       "StructType([StructField('adult', BooleanType(), True), StructField('backdrop_path', StringType(), True), StructField('genre_ids', StringType(), True), StructField('id', IntegerType(), True), StructField('origin_country', StringType(), True), StructField('original_language', StringType(), True), StructField('original_name', StringType(), True), StructField('overview', StringType(), True), StructField('popularity', FloatType(), True), StructField('poster_path', StringType(), True), StructField('first_air_date', StringType(), True), StructField('name', StringType(), True), StructField('vote_average', FloatType(), True), StructField('vote_count', IntegerType(), True)])"
      ]
     },
     "execution_count": 2,
     "metadata": {},
     "output_type": "execute_result"
    }
   ],
   "source": [
    "from robertoman.spark_utils import SparkUtils\n",
    "\n",
    "# Definición de columnas para la tabla shows\n",
    "shows_schema_columns = [\n",
    "    (\"adult\", \"boolean\"),\n",
    "    (\"backdrop_path\", \"string\"),\n",
    "    (\"genre_ids\", \"string\"),\n",
    "    (\"id\", \"int\"),\n",
    "    (\"origin_country\", \"string\"),  \n",
    "    (\"original_language\", \"string\"),\n",
    "    (\"original_name\", \"string\"),\n",
    "    (\"overview\", \"string\"),\n",
    "    (\"popularity\", \"float\"),\n",
    "    (\"poster_path\", \"string\"),\n",
    "    (\"first_air_date\", \"string\"),   # convertir a date\n",
    "    (\"name\", \"string\"),\n",
    "    (\"vote_average\", \"float\"),\n",
    "    (\"vote_count\", \"int\")\n",
    "]\n",
    "\n",
    "# Generamos el esquema\n",
    "shows_schema = SparkUtils.generate_schema(shows_schema_columns)\n",
    "shows_schema"
   ]
  },
  {
   "cell_type": "code",
   "execution_count": 3,
   "id": "3474722f",
   "metadata": {},
   "outputs": [
    {
     "name": "stdout",
     "output_type": "stream",
     "text": [
      "/opt/spark/work-dir\n"
     ]
    }
   ],
   "source": [
    "!pwd"
   ]
  },
  {
   "cell_type": "markdown",
   "id": "118ad9c8",
   "metadata": {},
   "source": [
    "### Load CSV"
   ]
  },
  {
   "cell_type": "code",
   "execution_count": 4,
   "id": "0a42102b",
   "metadata": {},
   "outputs": [
    {
     "name": "stdout",
     "output_type": "stream",
     "text": [
      "root\n",
      " |-- adult: boolean (nullable = true)\n",
      " |-- backdrop_path: string (nullable = true)\n",
      " |-- genre_ids: string (nullable = true)\n",
      " |-- id: integer (nullable = true)\n",
      " |-- origin_country: string (nullable = true)\n",
      " |-- original_language: string (nullable = true)\n",
      " |-- original_name: string (nullable = true)\n",
      " |-- overview: string (nullable = true)\n",
      " |-- popularity: float (nullable = true)\n",
      " |-- poster_path: string (nullable = true)\n",
      " |-- first_air_date: string (nullable = true)\n",
      " |-- name: string (nullable = true)\n",
      " |-- vote_average: float (nullable = true)\n",
      " |-- vote_count: integer (nullable = true)\n",
      "\n"
     ]
    }
   ],
   "source": [
    "base_path = \"/opt/spark/work-dir/data/\"\n",
    "\n",
    "df_shows = spark.read \\\n",
    "    .option(\"header\", \"true\") \\\n",
    "    .schema(shows_schema) \\\n",
    "    .csv(base_path + \"shows/\")  \n",
    "\n",
    "# df_shows.show(5, truncate=False)\n",
    "df_shows.printSchema()"
   ]
  },
  {
   "cell_type": "code",
   "execution_count": 5,
   "id": "e1e16098",
   "metadata": {},
   "outputs": [
    {
     "name": "stderr",
     "output_type": "stream",
     "text": [
      "[Stage 0:>                                                          (0 + 2) / 2]\r"
     ]
    },
    {
     "name": "stdout",
     "output_type": "stream",
     "text": [
      "\n",
      "Total de registros: 10989\n",
      "\n"
     ]
    },
    {
     "name": "stderr",
     "output_type": "stream",
     "text": [
      "                                                                                \r"
     ]
    }
   ],
   "source": [
    "total_records = df_shows.count()\n",
    "print(f\"\\nTotal de registros: {total_records}\\n\")"
   ]
  },
  {
   "cell_type": "code",
   "execution_count": 6,
   "id": "82f33354",
   "metadata": {},
   "outputs": [
    {
     "name": "stderr",
     "output_type": "stream",
     "text": [
      "[Stage 3:=============================>                             (1 + 1) / 2]\r"
     ]
    },
    {
     "name": "stdout",
     "output_type": "stream",
     "text": [
      "+-----+-------------+---------+---+--------------+-----------------+-------------+--------+----------+-----------+--------------+----+------------+----------+\n",
      "|adult|backdrop_path|genre_ids| id|origin_country|original_language|original_name|overview|popularity|poster_path|first_air_date|name|vote_average|vote_count|\n",
      "+-----+-------------+---------+---+--------------+-----------------+-------------+--------+----------+-----------+--------------+----+------------+----------+\n",
      "|  989|          733|      105|989|           190|              213|          234|    1295|      2055|       1510|          1461|1524|        2166|      2288|\n",
      "+-----+-------------+---------+---+--------------+-----------------+-------------+--------+----------+-----------+--------------+----+------------+----------+\n",
      "\n"
     ]
    },
    {
     "name": "stderr",
     "output_type": "stream",
     "text": [
      "                                                                                \r"
     ]
    }
   ],
   "source": [
    "from pyspark.sql.functions import (\n",
    "    to_date,\n",
    "    year,\n",
    "    col,\n",
    "    count,\n",
    "    when,\n",
    "    trim,\n",
    "    regexp_replace,\n",
    "    from_json,\n",
    "    length,\n",
    "    avg,\n",
    "    round\n",
    ")\n",
    "\n",
    "df = df_shows\n",
    "\n",
    "# mostrar columnas con nulos\n",
    "df.select([count(when(col(c).isNull(), c)).alias(c) for c in df.columns]).show()"
   ]
  },
  {
   "cell_type": "code",
   "execution_count": 7,
   "id": "889cede9",
   "metadata": {},
   "outputs": [
    {
     "name": "stderr",
     "output_type": "stream",
     "text": [
      "[Stage 6:=============================>                             (1 + 1) / 2]\r"
     ]
    },
    {
     "name": "stdout",
     "output_type": "stream",
     "text": [
      "Antes de limpieza: 10989, despues de limpieza: 8401\n"
     ]
    },
    {
     "name": "stderr",
     "output_type": "stream",
     "text": [
      "                                                                                \r"
     ]
    }
   ],
   "source": [
    "# Definir columnas críticas (no pueden ser NULL), borramos registros con \n",
    "critical_columns = [\n",
    "    \"id\",\n",
    "    \"original_name\",\n",
    "    \"first_air_date\",\n",
    "    \"popularity\",\n",
    "    \"vote_average\",\n",
    "    \"genre_ids\",\n",
    "    \"origin_country\",\n",
    "]\n",
    "\n",
    "text_cols = [\n",
    "    \"name\",\n",
    "    \"original_name\",\n",
    "    \"original_language\",\n",
    "    \"overview\",\n",
    "    \"poster_path\",\n",
    "    \"backdrop_path\",\n",
    "    \"genre_ids\",\n",
    "    \"origin_country\",\n",
    "]\n",
    "\n",
    "# en caso de duplicados (esto mantiene primera aparacion)\n",
    "df = df.dropDuplicates([\"id\"])\n",
    "\n",
    "# Manejo de nulos ---------------------------------\n",
    "df = df.dropna(subset=critical_columns)\n",
    "\n",
    "# Limpieza de str hacemos trim en columnas de texto ----------------------------\n",
    "\n",
    "for i in text_cols:\n",
    "    df = df.withColumn(i, trim(col(i)))\n",
    "\n",
    "print(f\"Antes de limpieza: {total_records}, despues de limpieza: {df.count()}\")\n"
   ]
  },
  {
   "cell_type": "code",
   "execution_count": 8,
   "id": "b7fcfb57",
   "metadata": {},
   "outputs": [],
   "source": [
    "from pyspark.sql.types import ArrayType, IntegerType, StringType\n",
    "\n",
    "# CONVERSIONES\n",
    "# convertir first_air_date a (str) a date\n",
    "df = df.withColumn(\n",
    "    \"first_air_date_parsed\", to_date(col(\"first_air_date\"), \"yyyy-MM-dd\")\n",
    ")\n",
    "\n",
    "# Reemplazamos la columna original por la convertida\n",
    "df = df.drop(\"first_air_date\").withColumnRenamed(\n",
    "    \"first_air_date_parsed\", \"first_air_date\"\n",
    ")\n",
    "\n",
    "# crear esta columna para poder hacer analisis respecto al año de salida\n",
    "df = df.withColumn(\"release_year\", year(col(\"first_air_date\")))\n",
    "# ----------------------------------------------------------------------------------\n",
    "# parsear columnas con \"listas\" (que en realidad son str) a arrays\n",
    "df = df.withColumn(\"genre_ids_json\", regexp_replace(col(\"genre_ids\"), r\"'\", '\"'))\n",
    "df = df.withColumn(\n",
    "    \"genre_ids_arr\", from_json(col(\"genre_ids_json\"), ArrayType(IntegerType()))\n",
    ")\n",
    "\n",
    "# tenemos que cambiar las comillas simplles a dobles ya que los json no aceptan simples\n",
    "df = df.withColumn(\n",
    "    \"origin_country_json\", regexp_replace(col(\"origin_country\"), r\"'\", '\"')\n",
    ")\n",
    "df = df.withColumn(\n",
    "    \"origin_country_arr\", from_json(col(\"origin_country_json\"), ArrayType(StringType()))\n",
    ")\n",
    "\n",
    "# df.select(\"genre_ids\", \"genre_ids_arr\").show(5, truncate=False)\n",
    "# df.select(\"origin_country\", \"origin_country_arr\").show(5, truncate=False)"
   ]
  },
  {
   "cell_type": "code",
   "execution_count": 9,
   "id": "4bde508c",
   "metadata": {},
   "outputs": [],
   "source": [
    "# para las columnas que definimos como no criticas, no vamos a borrae el registros como tal\n",
    "# ya que por ejemplo si un dato no tiene un path del poster del show no es necesario desechar el registro completo\n",
    "# por lo que decidí mejor crear una columna flag para este tipo de columnas no criticas.\n",
    "df = (\n",
    "    df.withColumn(\n",
    "        \"has_overview\",\n",
    "        when(\n",
    "            col(\"overview\").isNotNull() & (length(col(\"overview\")) > 0), True\n",
    "        ).otherwise(False),\n",
    "    )\n",
    "    .withColumn(\n",
    "        \"has_poster\",\n",
    "        when(\n",
    "            col(\"poster_path\").isNotNull() & (length(col(\"poster_path\")) > 0), True\n",
    "        ).otherwise(False),\n",
    "    )\n",
    "    .withColumn(\n",
    "        \"has_backdrop\",\n",
    "        when(\n",
    "            col(\"backdrop_path\").isNotNull() & (length(col(\"backdrop_path\")) > 0), True\n",
    "        ).otherwise(False),\n",
    "    )\n",
    ")\n",
    "\n",
    "# df.show(5, truncate=False)"
   ]
  },
  {
   "cell_type": "code",
   "execution_count": 10,
   "id": "627fb159",
   "metadata": {},
   "outputs": [
    {
     "name": "stderr",
     "output_type": "stream",
     "text": [
      "                                                                                \r"
     ]
    },
    {
     "name": "stdout",
     "output_type": "stream",
     "text": [
      "Count de popularidad por lenguage: 59\n"
     ]
    },
    {
     "name": "stderr",
     "output_type": "stream",
     "text": [
      "[Stage 22:=============================>                            (1 + 1) / 2]\r"
     ]
    },
    {
     "name": "stdout",
     "output_type": "stream",
     "text": [
      "Count de popularidad por año: 80\n"
     ]
    },
    {
     "name": "stderr",
     "output_type": "stream",
     "text": [
      "                                                                                \r"
     ]
    }
   ],
   "source": [
    "# Popularidad promedio por idioma original\n",
    "df_popularity_by_lang = (\n",
    "    df.groupBy(\"original_language\")\n",
    "    .agg(round(avg(\"popularity\"), 2).alias(\"avg_popularity\"))\n",
    "    .orderBy(col(\"avg_popularity\").desc())\n",
    ")\n",
    "\n",
    "# Popularidad promedio por año de lanzamiento\n",
    "df_popularity_by_year = (\n",
    "    df.groupBy(\"release_year\")\n",
    "    .agg(round(avg(\"popularity\"), 2).alias(\"avg_popularity\"))\n",
    "    .orderBy(\"release_year\")\n",
    ")\n",
    "\n",
    "print(f\"Count de popularidad por lenguage: {df_popularity_by_lang.count()}\")\n",
    "print(f\"Count de popularidad por año: {df_popularity_by_year.count()}\")"
   ]
  },
  {
   "attachments": {
    "shows.png": {
     "image/png": "[encoded data removed]"
    }
   },
   "cell_type": "markdown",
   "id": "8b968d45",
   "metadata": {},
   "source": [
    "### Normalizacion de las tablas\n",
    "![shows.png](attachment:shows.png)"
   ]
  },
  {
   "cell_type": "code",
   "execution_count": 11,
   "id": "d943422f",
   "metadata": {},
   "outputs": [
    {
     "name": "stderr",
     "output_type": "stream",
     "text": [
      "[Stage 42:=============================>                            (1 + 1) / 2]\r"
     ]
    },
    {
     "name": "stdout",
     "output_type": "stream",
     "text": [
      "Número de generos únicos: 18\n",
      "Número de countries únicos: 82\n"
     ]
    },
    {
     "name": "stderr",
     "output_type": "stream",
     "text": [
      "                                                                                \r"
     ]
    }
   ],
   "source": [
    "from pyspark.sql.functions import explode\n",
    "\n",
    "unique_genres_count = (\n",
    "    df.select(explode(col(\"genre_ids_arr\")).alias(\"genre_id\")).distinct().count()\n",
    ")\n",
    "unique_countries_count = (\n",
    "    df.select(explode(col(\"origin_country_arr\")).alias(\"country_code\"))\n",
    "    .distinct()\n",
    "    .count()\n",
    ")\n",
    "\n",
    "print(f\"Número de generos únicos: {unique_genres_count}\")\n",
    "print(f\"Número de countries únicos: {unique_countries_count}\")"
   ]
  },
  {
   "cell_type": "code",
   "execution_count": 12,
   "id": "67c9c95a",
   "metadata": {},
   "outputs": [
    {
     "name": "stdout",
     "output_type": "stream",
     "text": [
      "Numero de registros del catalogo de generos: 18\n",
      "Numero de registros de catalogo de countries: 82\n"
     ]
    }
   ],
   "source": [
    "# Obtener catalogo de ids de generos unicos\n",
    "df_genres_catalog = df.select(\n",
    "    explode(col(\"genre_ids_arr\")).alias(\"genre_id\")\n",
    ").distinct()\n",
    "# Obtener catalogo paises de origen unicos\n",
    "df_countries_catalog = df.select(\n",
    "    explode(col(\"origin_country_arr\")).alias(\"country_code\")\n",
    ").distinct()\n",
    "\n",
    "print(f\"Numero de registros del catalogo de generos: {df_genres_catalog.count()}\")\n",
    "print(f\"Numero de registros de catalogo de countries: {df_countries_catalog.count()}\")\n",
    "\n",
    "# df_genres_catalog.show(18, truncate=False)\n",
    "# df_countries_catalog.show(82, truncate=False)"
   ]
  },
  {
   "cell_type": "code",
   "execution_count": 13,
   "id": "37fa4fdf",
   "metadata": {},
   "outputs": [
    {
     "name": "stdout",
     "output_type": "stream",
     "text": [
      "Catálogo de géneros con nombres: 18 registros\n"
     ]
    }
   ],
   "source": [
    "from pyspark.sql.functions import lit, create_map\n",
    "\n",
    "genre_mapping = {\n",
    "    10759: \"Action & Adventure\",\n",
    "    16: \"Animation\",\n",
    "    35: \"Comedy\",\n",
    "    36: \"History\",\n",
    "    37: \"Western\",\n",
    "    80: \"Crime\",\n",
    "    99: \"Documentary\",\n",
    "    18: \"Drama\",\n",
    "    10751: \"Family\",\n",
    "    10749: \"Romance\",\n",
    "    10762: \"Kids\",\n",
    "    9648: \"Mystery\",\n",
    "    10763: \"News\",\n",
    "    10764: \"Reality\",\n",
    "    10765: \"Sci-Fi & Fantasy\",\n",
    "    10766: \"Soap\",\n",
    "    10767: \"Talk\",\n",
    "    10768: \"War & Politics\"\n",
    "}\n",
    "\n",
    "# Crear un mapeo de PySpark para agregar la columna genre_name al DataFrame existente\n",
    "mapping_expr = create_map([lit(x) for x in sum(genre_mapping.items(), ())])\n",
    "\n",
    "# Agregar la columna genre_name al DataFrame df_genres_catalog existente\n",
    "df_genres_catalog_mapped = df_genres_catalog.withColumn(\n",
    "    \"genre_name\", \n",
    "    mapping_expr[col(\"genre_id\")]\n",
    ")\n",
    "\n",
    "print(f\"Catálogo de géneros con nombres: {df_genres_catalog_mapped.count()} registros\")"
   ]
  },
  {
   "cell_type": "code",
   "execution_count": 14,
   "id": "6a6164ad",
   "metadata": {},
   "outputs": [
    {
     "name": "stdout",
     "output_type": "stream",
     "text": [
      "Numero de registros de relaciones genres: 17813\n",
      "Numero de registros de relaciones countries: 8734\n"
     ]
    },
    {
     "name": "stderr",
     "output_type": "stream",
     "text": [
      "                                                                                \r"
     ]
    }
   ],
   "source": [
    "# Tabla puente shows - genres\n",
    "df_shows_genres = df.select(\n",
    "    col(\"id\").alias(\"show_id\"), explode(col(\"genre_ids_arr\")).alias(\"genre_id\")\n",
    ").distinct()\n",
    "\n",
    "# Tabla puente shows - countries\n",
    "df_shows_countries = df.select(\n",
    "    col(\"id\").alias(\"show_id\"), explode(col(\"origin_country_arr\")).alias(\"country_code\")\n",
    ").distinct()\n",
    "\n",
    "print(f\"Numero de registros de relaciones genres: {df_shows_genres.count()}\")\n",
    "print(f\"Numero de registros de relaciones countries: {df_shows_countries.count()}\")"
   ]
  },
  {
   "cell_type": "code",
   "execution_count": 15,
   "id": "9643d9f9",
   "metadata": {},
   "outputs": [],
   "source": [
    "from pyspark.sql.functions import countDistinct\n",
    "\n",
    "# Número de shows por país\n",
    "df_shows_by_country = (\n",
    "    df_shows_countries.groupBy(\"country_code\")\n",
    "    .agg(countDistinct(\"show_id\").alias(\"num_shows\"))\n",
    "    .orderBy(col(\"num_shows\").desc())\n",
    ")\n",
    "\n",
    "# df_shows_by_country.show(10, truncate=False)"
   ]
  },
  {
   "cell_type": "code",
   "execution_count": 16,
   "id": "b6788f45",
   "metadata": {},
   "outputs": [
    {
     "name": "stdout",
     "output_type": "stream",
     "text": [
      "root\n",
      " |-- id: integer (nullable = true)\n",
      " |-- original_name: string (nullable = true)\n",
      " |-- original_language: string (nullable = true)\n",
      " |-- adult: boolean (nullable = true)\n",
      " |-- overview: string (nullable = true)\n",
      " |-- popularity: float (nullable = true)\n",
      " |-- first_air_date: date (nullable = true)\n",
      " |-- release_year: integer (nullable = true)\n",
      " |-- vote_average: float (nullable = true)\n",
      " |-- vote_count: integer (nullable = true)\n",
      " |-- has_overview: boolean (nullable = false)\n",
      " |-- has_poster: boolean (nullable = false)\n",
      " |-- has_backdrop: boolean (nullable = false)\n",
      "\n"
     ]
    }
   ],
   "source": [
    "df_shows_clean = df.select(\n",
    "    \"id\",\n",
    "    \"original_name\",\n",
    "    \"original_language\",\n",
    "    \"adult\",\n",
    "    \"overview\",\n",
    "    \"popularity\",\n",
    "    \"first_air_date\",\n",
    "    \"release_year\",\n",
    "    \"vote_average\",\n",
    "    \"vote_count\",\n",
    "    \"has_overview\",\n",
    "    \"has_poster\",\n",
    "    \"has_backdrop\",\n",
    ")\n",
    "\n",
    "df_shows_clean.printSchema()\n",
    "# df_shows_clean.show(10, truncate=False)"
   ]
  },
  {
   "cell_type": "markdown",
   "id": "bc61d130",
   "metadata": {},
   "source": [
    "# Persistence Data"
   ]
  },
  {
   "cell_type": "markdown",
   "id": "c57059cf",
   "metadata": {},
   "source": [
    "#### Justificación\n",
    "\n",
    "El dataset nos presenta una estructura relacional porque hay entidades bien definidas como `shows`, `generos` y `paises`.\n",
    "Además, se presentan relaciones muchos a muchos:\n",
    "- show puede tener múltiples géneros (drama, comedia, etc.). \n",
    "- Un género puede estar en múltiples shows\n",
    "- Un show puede ser producido en múltiples países\n",
    "- un país puede producir multiples shows\n",
    "\n",
    "Con nuestro enfoque podemos tener un esquema normalizado en donde se reduce significativamente el almacenamiento.\n",
    "\n",
    "Cada show almacena: \"[18, 35]\" y \"['US', 'GB']\":\n",
    "\n",
    "\n"
   ]
  },
  {
   "cell_type": "code",
   "execution_count": 17,
   "id": "c04653be",
   "metadata": {},
   "outputs": [
    {
     "name": "stderr",
     "output_type": "stream",
     "text": [
      "25/10/27 03:54:56 WARN SparkStringUtils: Truncated the string representation of a plan since it was too large. This behavior can be adjusted by setting 'spark.sql.debug.maxToStringFields'.\n",
      "[Stage 96:=============================>                            (1 + 1) / 2]\r"
     ]
    },
    {
     "name": "stdout",
     "output_type": "stream",
     "text": [
      "DataFrame 'shows' written into a PosgreSQL DB !\n"
     ]
    },
    {
     "name": "stderr",
     "output_type": "stream",
     "text": [
      "                                                                                \r"
     ]
    }
   ],
   "source": [
    "jdbc_url = \"jdbc:postgresql://postgres-iteso:5432/postgres\"\n",
    "table_name = \"shows\"\n",
    "\n",
    "df_shows_clean.write \\\n",
    "    .format(\"jdbc\") \\\n",
    "    .option(\"url\", jdbc_url) \\\n",
    "    .option(\"dbtable\", table_name) \\\n",
    "    .option(\"user\", \"postgres\") \\\n",
    "    .option(\"password\", \"Admin@1234\") \\\n",
    "    .option(\"driver\", \"org.postgresql.Driver\") \\\n",
    "    .mode(\"overwrite\") \\\n",
    "    .save()\n",
    "\n",
    "print(f\"DataFrame '{table_name}' written into a PosgreSQL DB !\")"
   ]
  },
  {
   "cell_type": "code",
   "execution_count": 18,
   "id": "8813f719",
   "metadata": {},
   "outputs": [
    {
     "name": "stdout",
     "output_type": "stream",
     "text": [
      "DataFrame 'genres' written into a PosgreSQL DB !\n"
     ]
    }
   ],
   "source": [
    "table_name = \"genres\"\n",
    "df_genres_catalog_mapped.write \\\n",
    "    .format(\"jdbc\") \\\n",
    "    .option(\"url\", jdbc_url) \\\n",
    "    .option(\"dbtable\", table_name) \\\n",
    "    .option(\"user\", \"postgres\") \\\n",
    "    .option(\"password\", \"Admin@1234\") \\\n",
    "    .option(\"driver\", \"org.postgresql.Driver\") \\\n",
    "    .mode(\"overwrite\") \\\n",
    "    .save()\n",
    "\n",
    "print(f\"DataFrame '{table_name}' written into a PosgreSQL DB !\")\n"
   ]
  },
  {
   "cell_type": "code",
   "execution_count": 19,
   "id": "c84f056b",
   "metadata": {},
   "outputs": [
    {
     "name": "stdout",
     "output_type": "stream",
     "text": [
      "DataFrame 'show_genres' written into a PosgreSQL DB !\n"
     ]
    }
   ],
   "source": [
    "table_name = \"show_genres\"\n",
    "df_shows_genres.write \\\n",
    "    .format(\"jdbc\") \\\n",
    "    .option(\"url\", jdbc_url) \\\n",
    "    .option(\"dbtable\", table_name) \\\n",
    "    .option(\"user\", \"postgres\") \\\n",
    "    .option(\"password\", \"Admin@1234\") \\\n",
    "    .option(\"driver\", \"org.postgresql.Driver\") \\\n",
    "    .mode(\"overwrite\") \\\n",
    "    .save()\n",
    "\n",
    "print(f\"DataFrame '{table_name}' written into a PosgreSQL DB !\")"
   ]
  },
  {
   "cell_type": "code",
   "execution_count": 20,
   "id": "3df8a566",
   "metadata": {},
   "outputs": [
    {
     "name": "stdout",
     "output_type": "stream",
     "text": [
      "DataFrame 'countries' written into a PosgreSQL DB !\n"
     ]
    }
   ],
   "source": [
    "table_name = \"countries\"\n",
    "df_countries_catalog.write \\\n",
    "    .format(\"jdbc\") \\\n",
    "    .option(\"url\", jdbc_url) \\\n",
    "    .option(\"dbtable\", table_name) \\\n",
    "    .option(\"user\", \"postgres\") \\\n",
    "    .option(\"password\", \"Admin@1234\") \\\n",
    "    .option(\"driver\", \"org.postgresql.Driver\") \\\n",
    "    .mode(\"overwrite\") \\\n",
    "    .save()\n",
    "\n",
    "print(f\"DataFrame '{table_name}' written into a PosgreSQL DB !\")"
   ]
  },
  {
   "cell_type": "code",
   "execution_count": 21,
   "id": "40222ea3",
   "metadata": {},
   "outputs": [
    {
     "name": "stdout",
     "output_type": "stream",
     "text": [
      "DataFrame 'show_countries' written into a PosgreSQL DB !\n"
     ]
    }
   ],
   "source": [
    "table_name = \"show_countries\"\n",
    "df_shows_countries.write \\\n",
    "    .format(\"jdbc\") \\\n",
    "    .option(\"url\", jdbc_url) \\\n",
    "    .option(\"dbtable\", table_name) \\\n",
    "    .option(\"user\", \"postgres\") \\\n",
    "    .option(\"password\", \"Admin@1234\") \\\n",
    "    .option(\"driver\", \"org.postgresql.Driver\") \\\n",
    "    .mode(\"overwrite\") \\\n",
    "    .save()\n",
    "\n",
    "print(f\"DataFrame '{table_name}' written into a PosgreSQL DB !\")"
   ]
  },
  {
   "cell_type": "code",
   "execution_count": 22,
   "id": "f2916aeb",
   "metadata": {},
   "outputs": [
    {
     "name": "stdout",
     "output_type": "stream",
     "text": [
      "DataFrame 'show_by_country' written into a PosgreSQL DB !\n"
     ]
    }
   ],
   "source": [
    "table_name = \"show_by_country\"\n",
    "df_shows_by_country.write \\\n",
    "    .format(\"jdbc\") \\\n",
    "    .option(\"url\", jdbc_url) \\\n",
    "    .option(\"dbtable\", table_name) \\\n",
    "    .option(\"user\", \"postgres\") \\\n",
    "    .option(\"password\", \"Admin@1234\") \\\n",
    "    .option(\"driver\", \"org.postgresql.Driver\") \\\n",
    "    .mode(\"overwrite\") \\\n",
    "    .save()\n",
    "\n",
    "print(f\"DataFrame '{table_name}' written into a PosgreSQL DB !\")"
   ]
  },
  {
   "cell_type": "code",
   "execution_count": 23,
   "id": "692f9577",
   "metadata": {},
   "outputs": [
    {
     "name": "stdout",
     "output_type": "stream",
     "text": [
      "DataFrame 'popularity_by_lenguage' written into a PosgreSQL DB !\n"
     ]
    }
   ],
   "source": [
    "table_name = \"popularity_by_lenguage\"\n",
    "df_popularity_by_lang.write \\\n",
    "    .format(\"jdbc\") \\\n",
    "    .option(\"url\", jdbc_url) \\\n",
    "    .option(\"dbtable\", table_name) \\\n",
    "    .option(\"user\", \"postgres\") \\\n",
    "    .option(\"password\", \"Admin@1234\") \\\n",
    "    .option(\"driver\", \"org.postgresql.Driver\") \\\n",
    "    .mode(\"overwrite\") \\\n",
    "    .save()\n",
    "\n",
    "print(f\"DataFrame '{table_name}' written into a PosgreSQL DB !\")\n"
   ]
  },
  {
   "cell_type": "code",
   "execution_count": 24,
   "id": "9be82b5f",
   "metadata": {},
   "outputs": [
    {
     "name": "stdout",
     "output_type": "stream",
     "text": [
      "DataFrame 'popularity_by_year' written into a PosgreSQL DB !\n"
     ]
    }
   ],
   "source": [
    "table_name = \"popularity_by_year\"\n",
    "df_popularity_by_year.write \\\n",
    "    .format(\"jdbc\") \\\n",
    "    .option(\"url\", jdbc_url) \\\n",
    "    .option(\"dbtable\", table_name) \\\n",
    "    .option(\"user\", \"postgres\") \\\n",
    "    .option(\"password\", \"Admin@1234\") \\\n",
    "    .option(\"driver\", \"org.postgresql.Driver\") \\\n",
    "    .mode(\"overwrite\") \\\n",
    "    .save()\n",
    "\n",
    "print(f\"DataFrame '{table_name}' written into a PosgreSQL DB !\")\n"
   ]
  },
  {
   "cell_type": "code",
   "execution_count": 25,
   "id": "87f59440",
   "metadata": {},
   "outputs": [
    {
     "name": "stdout",
     "output_type": "stream",
     "text": [
      "root\n",
      " |-- id: integer (nullable = true)\n",
      " |-- original_name: string (nullable = true)\n",
      " |-- original_language: string (nullable = true)\n",
      " |-- adult: boolean (nullable = true)\n",
      " |-- overview: string (nullable = true)\n",
      " |-- popularity: float (nullable = true)\n",
      " |-- first_air_date: date (nullable = true)\n",
      " |-- release_year: integer (nullable = true)\n",
      " |-- vote_average: float (nullable = true)\n",
      " |-- vote_count: integer (nullable = true)\n",
      " |-- has_overview: boolean (nullable = true)\n",
      " |-- has_poster: boolean (nullable = true)\n",
      " |-- has_backdrop: boolean (nullable = true)\n",
      "\n",
      "+---+--------------------------+-----------------+-----+-------------------------------------------------------------------------------------------------------------------------------------------------------------------------------------------------------------------------------------------------------------------------------------------------------------------------------------------------------------------------------------------------------------------------------------------------------------------------------------------------------------------------------------------------------------------------------------------------------------------------------+----------+--------------+------------+------------+----------+------------+----------+------------+\n",
      "|id |original_name             |original_language|adult|overview                                                                                                                                                                                                                                                                                                                                                                                                                                                                                                                                                                                                                       |popularity|first_air_date|release_year|vote_average|vote_count|has_overview|has_poster|has_backdrop|\n",
      "+---+--------------------------+-----------------+-----+-------------------------------------------------------------------------------------------------------------------------------------------------------------------------------------------------------------------------------------------------------------------------------------------------------------------------------------------------------------------------------------------------------------------------------------------------------------------------------------------------------------------------------------------------------------------------------------------------------------------------------+----------+--------------+------------+------------+----------+------------+----------+------------+\n",
      "|24 |Presidio Med              |en               |false|Presidio Med is an American medical drama that aired on CBS from September 2002, to January 2003. The series centers on a San Francisco hospital. It was created by John Wells and Lydia Woodward, who also created ER.                                                                                                                                                                                                                                                                                                                                                                                                        |3.2793    |2002-09-24    |2002        |8.0         |4         |true        |true      |true        |\n",
      "|29 |Mary Hartman, Mary Hartman|en               |false|In the fictional town of Fernwood, Ohio, suburban housewife Mary Hartman seeks the kind of domestic perfection promised by Reader’s Digest and TV commercials. Instead she finds herself suffering the slings and arrows of outrageous fortune: mass murders, low-flying airplanes and waxy yellow buildup on her kitchen floor.                                                                                                                                                                                                                                                                                               |6.4626    |1976-01-05    |1976        |7.1         |17        |true        |true      |true        |\n",
      "|30 |St. Elsewhere             |en               |false|St. Elsewhere is an American medical drama television series that originally ran on NBC from October 26, 1982 to May 25, 1988. The series starred Ed Flanders, Norman Lloyd and William Daniels as teaching doctors at a lightly-regarded Boston hospital who gave interns a promising future in making critical medical and life decisions.                                                                                                                                                                                                                                                                                   |11.3561   |1982-10-26    |1982        |5.6         |90        |true        |true      |true        |\n",
      "|32 |Rounin                    |tl               |false|Rounin is a 2007 Filipino primetime TV series produced and aired by ABS-CBN. It is a fantasy and martial arts series shown in Philippine TV and is said to be one of the most expensive locally-produced TV series aired in the Philippines. It is also the first Filipino series shot using high-definition video technology. The series is line produced by Reality Films while Larger Than Life Productions is handling post, visual effects, VFX supervision, mastering and grading. The series is shot using Panasonic’s HDP2 technology. The series ended after one season due to failure to do well in the ratings game.|4.3476    |2007-04-16    |2007        |6.2         |2         |true        |true      |true        |\n",
      "|35 |Cracker                   |en               |false|The wise-cracking Fitz is a brilliant but flawed criminal psychologist with a remarkable insight into the criminal mind.                                                                                                                                                                                                                                                                                                                                                                                                                                                                                                       |5.4422    |1993-09-27    |1993        |6.6         |113       |true        |true      |true        |\n",
      "+---+--------------------------+-----------------+-----+-------------------------------------------------------------------------------------------------------------------------------------------------------------------------------------------------------------------------------------------------------------------------------------------------------------------------------------------------------------------------------------------------------------------------------------------------------------------------------------------------------------------------------------------------------------------------------------------------------------------------------+----------+--------------+------------+------------+----------+------------+----------+------------+\n",
      "only showing top 5 rows\n"
     ]
    }
   ],
   "source": [
    "jdbc_url = \"jdbc:postgresql://postgres-iteso:5432/postgres\"\n",
    "\n",
    "table_name = \"shows\"\n",
    "\n",
    "db_properties = {\n",
    "      \"user\": \"postgres\",      \n",
    "      \"password\": \"Admin@1234\",\n",
    "      \"driver\": \"org.postgresql.Driver\"\n",
    "  }\n",
    "\n",
    "shows_from_db = spark.read \\\n",
    "    .jdbc(url=jdbc_url, table=table_name, properties=db_properties)\n",
    "\n",
    "shows_from_db.printSchema()\n",
    "shows_from_db.show(5, truncate=False)"
   ]
  },
  {
   "cell_type": "code",
   "execution_count": 26,
   "id": "480dba80",
   "metadata": {},
   "outputs": [
    {
     "name": "stdout",
     "output_type": "stream",
     "text": [
      "root\n",
      " |-- genre_id: integer (nullable = true)\n",
      " |-- genre_name: string (nullable = true)\n",
      "\n",
      "+--------+------------------+\n",
      "|genre_id|genre_name        |\n",
      "+--------+------------------+\n",
      "|35      |Comedy            |\n",
      "|10766   |Soap              |\n",
      "|10751   |Family            |\n",
      "|10749   |Romance           |\n",
      "|10759   |Action & Adventure|\n",
      "+--------+------------------+\n",
      "only showing top 5 rows\n"
     ]
    }
   ],
   "source": [
    "jdbc_url = \"jdbc:postgresql://postgres-iteso:5432/postgres\"\n",
    "\n",
    "table_name = \"genres\"\n",
    "\n",
    "db_properties = {\n",
    "      \"user\": \"postgres\",      \n",
    "      \"password\": \"Admin@1234\",\n",
    "      \"driver\": \"org.postgresql.Driver\"\n",
    "  }\n",
    "\n",
    "genre_catalog_from_db = spark.read \\\n",
    "    .jdbc(url=jdbc_url, table=table_name, properties=db_properties)\n",
    "\n",
    "genre_catalog_from_db.printSchema()\n",
    "genre_catalog_from_db.show(5, truncate=False)"
   ]
  },
  {
   "cell_type": "code",
   "execution_count": 27,
   "id": "a47eae7e",
   "metadata": {},
   "outputs": [
    {
     "name": "stdout",
     "output_type": "stream",
     "text": [
      "Total de registros en la BD: 8401\n"
     ]
    }
   ],
   "source": [
    "# Contar registros\n",
    "total = shows_from_db.count()\n",
    "print(f\"Total de registros en la BD: {total}\")"
   ]
  },
  {
   "cell_type": "markdown",
   "id": "e74ef5f1",
   "metadata": {},
   "source": [
    "# DAG"
   ]
  },
  {
   "attachments": {
    "image.png": {
     "image/png": "[encoded data removed]"
    }
   },
   "cell_type": "markdown",
   "id": "841c94c5",
   "metadata": {},
   "source": [
    "![image.png](attachment:image.png)"
   ]
  },
  {
   "cell_type": "code",
   "execution_count": 28,
   "id": "adc2ba9d",
   "metadata": {},
   "outputs": [],
   "source": [
    "sc.stop()"
   ]
  }
 ],
 "metadata": {
  "kernelspec": {
   "display_name": "Python 3 (ipykernel)",
   "language": "python",
   "name": "python3"
  },
  "language_info": {
   "codemirror_mode": {
    "name": "ipython",
    "version": 3
   },
   "file_extension": ".py",
   "mimetype": "text/x-python",
   "name": "python",
   "nbconvert_exporter": "python",
   "pygments_lexer": "ipython3",
   "version": "3.10.12"
  }
 },
 "nbformat": 4,
 "nbformat_minor": 5
}
