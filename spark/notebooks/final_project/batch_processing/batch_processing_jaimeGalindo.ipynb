{
 "cells": [
  {
   "cell_type": "markdown",
   "id": "b92d9622",
   "metadata": {},
   "source": [
    "# <center> <img src=\"../../img/ITESOLogo.png\" alt=\"ITESO\" width=\"480\" height=\"130\"> </center>\n",
    "# <center> **Departamento de Electrónica, Sistemas e Informática** </center>\n",
    "---\n",
    "## <center> Computer Systems Engineering  </center>\n",
    "---\n",
    "### <center> Big Data Processing </center>\n",
    "---\n",
    "#### <center> **Autumn 2025** </center>\n",
    "\n",
    "#### <center> **Final Project: Batch Processing** </center>\n",
    "---\n",
    "\n",
    "**Date**: October, 2025\n",
    "\n",
    "**Student Name**: Jaime Enrique Galindo Villegas\n",
    "\n",
    "**Professor**: Pablo Camarillo Ramirez"
   ]
  },
  {
   "cell_type": "markdown",
   "id": "a4dd2743",
   "metadata": {},
   "source": [
    "# Introducción: Análisis de Transacciones en Mercado Libre\n",
    "La aplicación web y móvil de Mercado libre procesa millones de transacciones diarias que pueden ser pedidos de artículos, suscripciones, pagos, etc. En el 2023 la plataforma logró ventas de 14,500 millones de dólares, con picos de demanda en momentos significativos del año como en el \"Buen Fin\" o el \"Hot Sale\" en los que sus ventas se disparan, en el 2024 llegaron a picos de más de 70% más ventas en el buen fin respecto a años anteriores.  \n",
    "\n",
    "Este volumen masivo de datos, generado en multiples formatos presenta un desafio. Para abordarlo implementaré un pipeline de datos que procesa la información de órdenes de compra, con el objetivo de transformar los datos crudos en un formato limpio y estructurado que facilite posteriores analisis."
   ]
  },
  {
   "cell_type": "markdown",
   "id": "1757b962",
   "metadata": {},
   "source": [
    "# Dataset: Órdenes de Compra\n",
    "\n",
    "## Modelo de Datos\n",
    "Para este problema, el **modelo de datos** más adecuado es el de **documento**.\n",
    "\n",
    "Esto debido a que, según el diseño de pipeline que cree anteriormente, una orden de compra de ML es una entidad (JSON) que contiene toda su información de manera autocontenida, el usuario, monto, detalles de envio y articulos comprados. Por esto el modelo de documento es ideal al permitir presentar esta estructura jerárquica.\n",
    "\n",
    "Esto es diferente de un modelo **relacional** ya que tendria que normalizar y dividir la información en multiples tablas como `Ordenes`, `Usuarios`, `Productos`, etc. Requeriria operaciones más complejas y, debido a la necesidad de procesar millones de transacciones, es mejor un modelo de **documento** que es más naturalmente compatible\n",
    "\n",
    "\n",
    "## Generación del Dataset y Esquema\n",
    "Para simular el flujo de datos de ML, se generará un archivo json (`orders.json`) usando la libreria Faker, en el que cada linea representará un objeto JSON de una orden de compra. Así simularé un sistema de ingesta en el que se recibirian los datos en tiempo real.\n",
    "\n",
    "El **esquema** de cada objeto JSON generado será el siguiente:\n",
    "\n",
    "- **order_id**: `String` - Identificador único de la orden.\n",
    "- **timestamp**: `String` - Fecha y hora de la transacción en formato ISO.\n",
    "- **user**: `Struct` - Objeto usuario.\n",
    "  - **user_id**: `String` - Identificador del usuario.\n",
    "  - **region**: `String` - Región de la compra (ej. \"GDL\").\n",
    "  - **payment_method**: `String` - Método de pago utilizado (ej. \"MP\").\n",
    "- **items**: `Array` - Lista de artículos comprados.\n",
    "  - **item_id**: `String` - ID del producto.\n",
    "  - **title**: `String` - Nombre del producto.\n",
    "  - **category**: `String` - Categoría del producto.\n",
    "  - **quantity**: `Integer` - Cantidad de unidades.\n",
    "  - **unit_price**: `Double` - Precio original por unidad.\n",
    "  - **final_price**: `Double` - Precio final por unidad con descuento.\n",
    "  - **discount_applied**: `Boolean` - Indica si se aplicó descuento.\n",
    "- **total_amount**: `Double` - Monto total de la orden.\n",
    "- **shipping**: `Struct` - Información de envío.\n",
    "  - **logistics_provider**: `String` - Empresa de paquetería.\n",
    "  - **warehouse_origin**: `String` - Almacén de origen.\n",
    "  - **estimated_delivery**: `String` - Fecha estimada de entrega.\n",
    "  - **tracking_id**: `String` - Número de seguimiento."
   ]
  },
  {
   "cell_type": "markdown",
   "id": "df0a0e72",
   "metadata": {},
   "source": [
    "# Transformations and Actions"
   ]
  },
  {
   "cell_type": "markdown",
   "id": "bc61d130",
   "metadata": {},
   "source": [
    "# Persistence Data"
   ]
  },
  {
   "cell_type": "markdown",
   "id": "e74ef5f1",
   "metadata": {},
   "source": [
    "# DAG"
   ]
  }
 ],
 "metadata": {
  "kernelspec": {
   "display_name": "Python 3 (ipykernel)",
   "language": "python",
   "name": "python3"
  },
  "language_info": {
   "codemirror_mode": {
    "name": "ipython",
    "version": 3
   },
   "file_extension": ".py",
   "mimetype": "text/x-python",
   "name": "python",
   "nbconvert_exporter": "python",
   "pygments_lexer": "ipython3",
   "version": "3.10.12"
  }
 },
 "nbformat": 4,
 "nbformat_minor": 5
}
