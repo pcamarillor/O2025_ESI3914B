{
 "cells": [
  {
   "cell_type": "markdown",
   "id": "b92d9622",
   "metadata": {},
   "source": [
    "# <center> <img src=\"../../img/ITESOLogo.png\" alt=\"ITESO\" width=\"480\" height=\"130\"> </center>\n",
    "# <center> **Departamento de Electrónica, Sistemas e Informática** </center>\n",
    "---\n",
    "## <center> Computer Systems Engineering  </center>\n",
    "---\n",
    "### <center> Big Data Processing </center>\n",
    "---\n",
    "#### <center> **Autumn 2025** </center>\n",
    "\n",
    "#### <center> **Final Project: Batch Processing** </center>\n",
    "---\n",
    "\n",
    "**Date**: October, 2025\n",
    "\n",
    "**Student Name**:Jaime Antonio Contreras Barragan\n",
    "\n",
    "**Professor**: Pablo Camarillo Ramirez"
   ]
  },
  {
   "cell_type": "markdown",
   "id": "a4dd2743",
   "metadata": {},
   "source": [
    "# Introduction"
   ]
  },
  {
   "cell_type": "markdown",
   "id": "d847405a-ed03-4388-a27f-8d29b72f4fa0",
   "metadata": {},
   "source": [
    "Global Mobile Reviews Dataset (2025 Edition). Este dataset cuenta con mucha informacion interesante de reviews de los celulares, resaltando que viene con el pais de origen de la review, en que tienda se compro, si esta verificada, diferentes categorias de calificación (incluyendo una general), entre otros datos que pueden usarse de manera interesante.\n",
    "Yo quiero aprovechar para lo siguiente:\n",
    "\n",
    "    Primero que nada enfocarlos datos a solo las compras verificadas, y primero sacar lo obvio, lo mejor de lo mejor:\n",
    "    -La marca con mejor calificación\n",
    "    -top de modelos de celular mejor calificación\n",
    "    -los mejores celulares en cada marca\n",
    "Pero fuera de estos datos, quiero ver ahora cuales son los mejores sitios de compra, cuales tienen más compras verificadas, rango de edad que compra en cada tienda. Con esto podemos obtener cual es el \"mercado\" de la plataforma."
   ]
  },
  {
   "cell_type": "markdown",
   "id": "1757b962",
   "metadata": {},
   "source": [
    "# Dataset"
   ]
  },
  {
   "cell_type": "code",
   "execution_count": 1,
   "id": "6aaae5b6-124d-4e58-82a6-644ac1da38a9",
   "metadata": {},
   "outputs": [
    {
     "name": "stdout",
     "output_type": "stream",
     "text": [
      "-rwxrwxrwx 1 root root 1.1M Sep 30 14:01 /opt/spark/work-dir/jars/postgresql-42.7.8.jar\n"
     ]
    }
   ],
   "source": [
    "!ls -lah /opt/spark/work-dir/jars/postgresql-42.7.8.jar"
   ]
  },
  {
   "cell_type": "code",
   "execution_count": 2,
   "id": "e368baa4-eade-4402-8764-996a03d23ca3",
   "metadata": {
    "scrolled": true
   },
   "outputs": [
    {
     "name": "stderr",
     "output_type": "stream",
     "text": [
      "WARNING: Using incubator modules: jdk.incubator.vector\n",
      "25/10/24 04:16:21 WARN NativeCodeLoader: Unable to load native-hadoop library for your platform... using builtin-java classes where applicable\n",
      "Using Spark's default log4j profile: org/apache/spark/log4j2-defaults.properties\n",
      "Setting default log level to \"WARN\".\n",
      "To adjust logging level use sc.setLogLevel(newLevel). For SparkR, use setLogLevel(newLevel).\n"
     ]
    }
   ],
   "source": [
    "import findspark\n",
    "findspark.init()\n",
    "\n",
    "from pyspark.sql import SparkSession\n",
    "\n",
    "spark = SparkSession.builder \\\n",
    "    .appName(\"Examples on data sources (Files)\") \\\n",
    "    .master(\"spark://spark-master:7077\") \\\n",
    "    .config(\"spark.ui.port\", \"4040\") \\\n",
    "    .config(\"spark.jars\", \"/opt/spark/work-dir/jars/postgresql-42.7.8.jar\") \\\n",
    "    .getOrCreate()\n",
    "\n",
    "sc = spark.sparkContext\n",
    "sc.setLogLevel(\"ERROR\")"
   ]
  },
  {
   "cell_type": "code",
   "execution_count": 3,
   "id": "59a2a5d2-39d9-4bb5-9876-5bb47aa1aa12",
   "metadata": {},
   "outputs": [
    {
     "name": "stdout",
     "output_type": "stream",
     "text": [
      "total 9824\n",
      "-rwxrwxrwx 1 root root 10056684 Oct 23 03:20 \u001b[0m\u001b[01;32mMobile_Reviews_Sentiment.csv\u001b[0m*\n"
     ]
    }
   ],
   "source": [
    "ls -l /opt/spark/work-dir/data/Mobile_Reviews"
   ]
  },
  {
   "cell_type": "code",
   "execution_count": 4,
   "id": "23157fd2-c907-4525-8b5d-1752db659832",
   "metadata": {},
   "outputs": [],
   "source": [
    "from jaimodule.spark_utils import SparkUtils\n",
    "# Build schema\n",
    "\"\"\"\n",
    "25 columnas \n",
    "\"\"\"\n",
    "schema = SparkUtils.generate_schema([\n",
    "    (\"review_id\",\"int\"),\n",
    "    (\"customer_name\",\"string\"),\n",
    "    (\"age\", \"int\"),\n",
    "    (\"brand\", \"string\"),\n",
    "    (\"model\", \"string\"),\n",
    "    (\"price_usd\", \"float\"),\n",
    "    (\"price_local\", \"string\"),\n",
    "    (\"currency\", \"string\"),\n",
    "    (\"exchange_rate_to_usd\", \"float\"),\n",
    "    (\"rating\", \"int\"),\n",
    "    (\"review_text\", \"string\"),\n",
    "    (\"sentiment\", \"string\"),\n",
    "    (\"country\", \"string\"),\n",
    "    (\"language\", \"string\"),\n",
    "    (\"review_date\", \"date\"),\n",
    "    (\"verified_purchase\", \"boolean\"),\n",
    "    (\"battery_life_rating\", \"int\"),\n",
    "    (\"camera_rating\", \"int\"),\n",
    "    (\"performance_rating\", \"int\"),\n",
    "    (\"design_rating\", \"int\"),\n",
    "    (\"display_rating\", \"int\"),\n",
    "    (\"review_length\", \"int\"),\n",
    "    (\"word_count\", \"int\"),\n",
    "    (\"helpful_votes\", \"int\"),\n",
    "    (\"source\", \"string\")\n",
    "])\n",
    "\n",
    "# Import your module\n",
    "base_path = \"/opt/spark/work-dir/data/Mobile_Reviews/\"\n",
    "mobile_reviews_df = spark.read \\\n",
    "                .option(\"header\", \"true\") \\\n",
    "                .schema(schema) \\\n",
    "                .csv(base_path) "
   ]
  },
  {
   "cell_type": "markdown",
   "id": "df0a0e72",
   "metadata": {},
   "source": [
    "# Transformations and Actions"
   ]
  },
  {
   "cell_type": "code",
   "execution_count": 5,
   "id": "53943f14-1336-4092-baba-ef083f3eb9aa",
   "metadata": {},
   "outputs": [],
   "source": [
    "from pyspark.sql.functions import col,desc\n",
    "\"\"\"\n",
    "Voy a necesitar 1 dataset con con todas las categorias de rating, que esten verificadas, marca y modelo\n",
    "\"\"\"\n",
    "\n",
    "\"\"\"\n",
    "En la pagina se especifica que este dataset, no solo fue limpiado, si no que revisado manualmente, asi que me voy a dar el lujo de saltarme el dropna,pero de todos modos quitamos repetidos.\n",
    "\"\"\"\n",
    "mobile_reviews_df = mobile_reviews_df.dropDuplicates()\n",
    "\n",
    "top_mobile_df= mobile_reviews_df.select(\n",
    "    col(\"verified_purchase\").alias(\"verified\"),\n",
    "    col(\"brand\"),\n",
    "    col(\"model\"),\n",
    "    col(\"rating\"),\n",
    "    col(\"battery_life_rating\").alias(\"battery\"),\n",
    "    col(\"camera_rating\").alias(\"camera\"),\n",
    "    col(\"performance_rating\").alias(\"perfomance\"),\n",
    "    col(\"design_rating\").alias(\"design\"),\n",
    "    col(\"display_rating\").alias(\"display\")\n",
    ")\n",
    "#top_mobile_df.show()\n",
    "store_df= mobile_reviews_df.select(\n",
    "    col(\"age\"),\n",
    "    col(\"verified_purchase\").alias(\"verified\"),\n",
    "    col(\"country\"),\n",
    "    col(\"sentiment\"),\n",
    "    col(\"source\")\n",
    ")\n",
    "#store_df.show()\n",
    "\n"
   ]
  },
  {
   "cell_type": "code",
   "execution_count": 6,
   "id": "085668a5-8aba-4602-ac1e-a687842909dd",
   "metadata": {},
   "outputs": [],
   "source": [
    "from pyspark.sql.functions import avg, count\n",
    "\"\"\"\n",
    "De los 2 datasets previos, vamos a hacer el resto de transformaciones y aggregaciones.\n",
    "\"\"\"\n",
    "top_filtered_mobile_df= top_mobile_df.filter(\"verified = true\")\n",
    "\n",
    "top_mobile_ordered_df= top_filtered_mobile_df.groupBy(\"model\")\\\n",
    "    .agg(avg(\"rating\").alias(\"avg_rating\"))\\\n",
    "    .orderBy(desc(\"avg_rating\"))\n",
    "\n",
    "top_mobile_ordered_by_brand_df= top_filtered_mobile_df.groupBy(\"brand\")\\\n",
    "    .agg(avg(\"rating\").alias(\"avg_rating\"))\\\n",
    "    .orderBy(desc(\"avg_rating\"))\n",
    "\n",
    "top_mobile_grouped_by_model_df= top_filtered_mobile_df.groupBy(\"model\")\n",
    "\"\"\"\n",
    ".limit es una transformacion, pero solo quiero el top 10, lo dejo comentado para pasar la tabla\n",
    "\"\"\"\n",
    "top_mobile_grouped_by_model_battery= top_mobile_grouped_by_model_df\\\n",
    "    .agg(avg(\"battery\")\\\n",
    "    .alias(\"avg_battery\"))\\\n",
    "    .orderBy(desc(\"avg_battery\"))\\\n",
    "    #.limit(10)\n",
    "\n",
    "top_mobile_grouped_by_model_camera_df= top_mobile_grouped_by_model_df\\\n",
    "    .agg(avg(\"camera\")\\\n",
    "    .alias(\"avg_camera\"))\\\n",
    "    .orderBy(desc(\"avg_camera\"))\\\n",
    "    #.limit(10)\n",
    "\n",
    "top_mobile_grouped_by_model_performance_df= top_mobile_grouped_by_model_df\\\n",
    "    .agg(avg(\"perfomance\")\\\n",
    "    .alias(\"avg_perfomance\"))\\\n",
    "    .orderBy(desc(\"avg_perfomance\"))\\\n",
    "    #.limit(10)\n",
    "\n",
    "top_mobile_grouped_by_model_design_df= top_mobile_grouped_by_model_df\\\n",
    "    .agg(avg(\"design\")\\\n",
    "    .alias(\"avg_design\"))\\\n",
    "    .orderBy(desc(\"avg_design\"))\\\n",
    "    #.limit(10)\n",
    "\n",
    "top_mobile_grouped_by_model_display_df= top_mobile_grouped_by_model_df\\\n",
    "    .agg(avg(\"display\")\\\n",
    "    .alias(\"avg_display\"))\\\n",
    "    .orderBy(desc(\"avg_display\"))\\\n",
    "    #.limit(10)\n",
    "\n",
    "#top_mobile_ordered_df.show()\n",
    "#top_mobile_ordered_by_brand_df.show()\n",
    "#top_mobile_grouped_by_model_battery_df.show()\n",
    "#top_mobile_grouped_by_model_camera_df.show()\n",
    "#top_mobile_grouped_by_model_performance_df.show()\n",
    "#top_mobile_grouped_by_model_design_df.show()\n",
    "#top_mobile_grouped_by_model_display_df.show()"
   ]
  },
  {
   "cell_type": "code",
   "execution_count": 7,
   "id": "34b68b0d-230b-413b-9c53-149fc7ba4085",
   "metadata": {},
   "outputs": [
    {
     "data": {
      "text/plain": [
       "'\\nNOTA: tras revisar los resultados la cantidad de personas por rango de edad es similar, con diferencias maximas de alrededor de 200 unidades\\n'"
      ]
     },
     "execution_count": 7,
     "metadata": {},
     "output_type": "execute_result"
    }
   ],
   "source": [
    "from pyspark.sql.functions import when\n",
    "\"\"\"\n",
    "Ahora el DATASET para sacar los compradores de cada plataforma.\n",
    "\"\"\"\n",
    "store_grouped_by_source_avg_age_df= store_df.groupBy(\"source\")\\\n",
    "    .agg(avg(\"age\"))\\\n",
    "    .alias(\"avg_age\")\n",
    "\n",
    "\"\"\"\n",
    "Aqui aproveche las categorias para poder organizar los resultados\n",
    "\"\"\"\n",
    "store_with_age_category_df = store_df.withColumn(\n",
    "    \"age_category\",\n",
    "    when(col(\"age\") < 26, \"adolescent\")\n",
    "    .when(col(\"age\").between(26, 35), \"adult\")\n",
    "    .when(col(\"age\").between(36, 45), \"senior\")\n",
    "    .when(col(\"age\") > 45, \"veteran\")\n",
    ")\n",
    "\n",
    "store_grouped_by_source_age_category_df = store_with_age_category_df.groupBy(\"source\", \"age_category\")\\\n",
    "    .agg(count(\"*\").alias(\"count_age_category\"))\\\n",
    "    .orderBy(col(\"source\"),col(\"age_category\"))\n",
    "\n",
    "#store_grouped_by_source_avg_age_df.show()\n",
    "#store_grouped_by_source_age_category_df.show()\n",
    "\"\"\"\n",
    "NOTA: tras revisar los resultados la cantidad de personas por rango de edad es similar, con diferencias maximas de alrededor de 200 unidades\n",
    "\"\"\""
   ]
  },
  {
   "cell_type": "markdown",
   "id": "bc61d130",
   "metadata": {},
   "source": [
    "# Persistence Data"
   ]
  },
  {
   "cell_type": "markdown",
   "id": "9388b57f-45d3-46a9-92a2-4f0626b55916",
   "metadata": {},
   "source": [
    "# JUSTIFICACIÓN\n",
    "Las tablas principales sin duda deberian entrar a SQL, las tablas pueden dar mucho juego a hacer las consultas diferentes en SQL, y el formato que se maneja es excelente para entender los datos rapidamente."
   ]
  },
  {
   "cell_type": "code",
   "execution_count": 8,
   "id": "2c0021ec-3067-4020-aa62-a990196d9ea3",
   "metadata": {},
   "outputs": [],
   "source": [
    "jdbc_url = \"jdbc:postgresql://postgres-iteso:5432/postgres\"\n",
    "table_name_1 = \"top_mobile\"\n",
    "table_name_2 = \"store\"\n",
    "table_name_3 = \"top_mobile_ordered\"\n",
    "table_name_4 = \"top_mobile_ordered_by_brand\"\n",
    "table_name_6 = \"top_mobile_grouped_by_model_battery\"\n",
    "table_name_7 = \"top_mobile_grouped_by_model_camera\"\n",
    "table_name_8 = \"top_mobile_grouped_by_model_performance\"\n",
    "table_name_9 = \"top_mobile_grouped_by_model_design\"\n",
    "table_name_10 = \"top_mobile_grouped_by_model_display\"\n",
    "table_name_11 = \"store_grouped_by_source_avg_age\"\n",
    "table_name_12 = \"store_grouped_by_source_age_category\""
   ]
  },
  {
   "cell_type": "code",
   "execution_count": 9,
   "id": "b0fb4d04-3d7a-48a6-a21b-fc7a80f27a8e",
   "metadata": {},
   "outputs": [
    {
     "name": "stderr",
     "output_type": "stream",
     "text": [
      "[Stage 2:=============================>                             (1 + 1) / 2]"
     ]
    },
    {
     "name": "stdout",
     "output_type": "stream",
     "text": [
      "DataFrame successfully written into a PosgreSQL DB !\n"
     ]
    },
    {
     "name": "stderr",
     "output_type": "stream",
     "text": [
      "                                                                                "
     ]
    }
   ],
   "source": [
    "top_mobile_df.write \\\n",
    "    .format(\"jdbc\") \\\n",
    "    .option(\"url\", jdbc_url) \\\n",
    "    .option(\"dbtable\", table_name_1) \\\n",
    "    .option(\"user\", \"postgres\") \\\n",
    "    .option(\"password\", \"Admin@1234\") \\\n",
    "    .option(\"driver\", \"org.postgresql.Driver\") \\\n",
    "    .save()\n",
    "\n",
    "print(\"DataFrame successfully written into a PosgreSQL DB !\")"
   ]
  },
  {
   "cell_type": "code",
   "execution_count": 10,
   "id": "8121ab11-2712-4d96-9c28-bb00a4020ac1",
   "metadata": {},
   "outputs": [
    {
     "name": "stderr",
     "output_type": "stream",
     "text": [
      "[Stage 5:=============================>                             (1 + 1) / 2]"
     ]
    },
    {
     "name": "stdout",
     "output_type": "stream",
     "text": [
      "DataFrame successfully written into a PosgreSQL DB !\n"
     ]
    },
    {
     "name": "stderr",
     "output_type": "stream",
     "text": [
      "                                                                                "
     ]
    }
   ],
   "source": [
    "store_df.write \\\n",
    "    .format(\"jdbc\") \\\n",
    "    .option(\"url\", jdbc_url) \\\n",
    "    .option(\"dbtable\", table_name_2) \\\n",
    "    .option(\"user\", \"postgres\") \\\n",
    "    .option(\"password\", \"Admin@1234\") \\\n",
    "    .option(\"driver\", \"org.postgresql.Driver\") \\\n",
    "    .save()\n",
    "\n",
    "print(\"DataFrame successfully written into a PosgreSQL DB !\")"
   ]
  },
  {
   "cell_type": "code",
   "execution_count": 11,
   "id": "626bfc1f-cde9-467c-82f8-b6f523a8d907",
   "metadata": {},
   "outputs": [
    {
     "name": "stderr",
     "output_type": "stream",
     "text": [
      "                                                                                "
     ]
    },
    {
     "name": "stdout",
     "output_type": "stream",
     "text": [
      "DataFrame successfully written into a PosgreSQL DB !\n"
     ]
    }
   ],
   "source": [
    "top_mobile_ordered_df.write \\\n",
    "    .format(\"jdbc\") \\\n",
    "    .option(\"url\", jdbc_url) \\\n",
    "    .option(\"dbtable\", table_name_3) \\\n",
    "    .option(\"user\", \"postgres\") \\\n",
    "    .option(\"password\", \"Admin@1234\") \\\n",
    "    .option(\"driver\", \"org.postgresql.Driver\") \\\n",
    "    .save()\n",
    "\n",
    "print(\"DataFrame successfully written into a PosgreSQL DB !\")"
   ]
  },
  {
   "cell_type": "code",
   "execution_count": 12,
   "id": "e0c50838-3f72-4e02-a83a-ab09306376d7",
   "metadata": {},
   "outputs": [
    {
     "name": "stderr",
     "output_type": "stream",
     "text": [
      "                                                                                "
     ]
    },
    {
     "name": "stdout",
     "output_type": "stream",
     "text": [
      "DataFrame successfully written into a PosgreSQL DB !\n"
     ]
    }
   ],
   "source": [
    "top_mobile_ordered_by_brand_df.write \\\n",
    "    .format(\"jdbc\") \\\n",
    "    .option(\"url\", jdbc_url) \\\n",
    "    .option(\"dbtable\", table_name_4) \\\n",
    "    .option(\"user\", \"postgres\") \\\n",
    "    .option(\"password\", \"Admin@1234\") \\\n",
    "    .option(\"driver\", \"org.postgresql.Driver\") \\\n",
    "    .save()\n",
    "\n",
    "print(\"DataFrame successfully written into a PosgreSQL DB !\")"
   ]
  },
  {
   "cell_type": "code",
   "execution_count": 15,
   "id": "7a525388-7863-46c9-8318-d82b10bb06d5",
   "metadata": {},
   "outputs": [
    {
     "name": "stderr",
     "output_type": "stream",
     "text": [
      "[Stage 32:=============================>                            (1 + 1) / 2]"
     ]
    },
    {
     "name": "stdout",
     "output_type": "stream",
     "text": [
      "DataFrame successfully written into a PosgreSQL DB !\n"
     ]
    },
    {
     "name": "stderr",
     "output_type": "stream",
     "text": [
      "                                                                                "
     ]
    }
   ],
   "source": [
    "top_mobile_grouped_by_model_battery.write \\\n",
    "    .format(\"jdbc\") \\\n",
    "    .option(\"url\", jdbc_url) \\\n",
    "    .option(\"dbtable\", table_name_6) \\\n",
    "    .option(\"user\", \"postgres\") \\\n",
    "    .option(\"password\", \"Admin@1234\") \\\n",
    "    .option(\"driver\", \"org.postgresql.Driver\") \\\n",
    "    .save()\n",
    "\n",
    "print(\"DataFrame successfully written into a PosgreSQL DB !\")"
   ]
  },
  {
   "cell_type": "code",
   "execution_count": 16,
   "id": "b0e58002-1ddf-4644-afb1-a213d86fc2b7",
   "metadata": {},
   "outputs": [
    {
     "name": "stderr",
     "output_type": "stream",
     "text": [
      "                                                                                "
     ]
    },
    {
     "name": "stdout",
     "output_type": "stream",
     "text": [
      "DataFrame successfully written into a PosgreSQL DB !\n"
     ]
    }
   ],
   "source": [
    "top_mobile_grouped_by_model_camera_df.write \\\n",
    "    .format(\"jdbc\") \\\n",
    "    .option(\"url\", jdbc_url) \\\n",
    "    .option(\"dbtable\", table_name_7) \\\n",
    "    .option(\"user\", \"postgres\") \\\n",
    "    .option(\"password\", \"Admin@1234\") \\\n",
    "    .option(\"driver\", \"org.postgresql.Driver\") \\\n",
    "    .save()\n",
    "\n",
    "print(\"DataFrame successfully written into a PosgreSQL DB !\")"
   ]
  },
  {
   "cell_type": "code",
   "execution_count": 17,
   "id": "01364ece-a443-419e-9199-d06ef694da5a",
   "metadata": {},
   "outputs": [
    {
     "name": "stderr",
     "output_type": "stream",
     "text": [
      "                                                                                "
     ]
    },
    {
     "name": "stdout",
     "output_type": "stream",
     "text": [
      "DataFrame successfully written into a PosgreSQL DB !\n"
     ]
    }
   ],
   "source": [
    "top_mobile_grouped_by_model_performance_df.write \\\n",
    "    .format(\"jdbc\") \\\n",
    "    .option(\"url\", jdbc_url) \\\n",
    "    .option(\"dbtable\", table_name_8) \\\n",
    "    .option(\"user\", \"postgres\") \\\n",
    "    .option(\"password\", \"Admin@1234\") \\\n",
    "    .option(\"driver\", \"org.postgresql.Driver\") \\\n",
    "    .save()\n",
    "\n",
    "print(\"DataFrame successfully written into a PosgreSQL DB !\")"
   ]
  },
  {
   "cell_type": "code",
   "execution_count": 18,
   "id": "cd4900ce-d730-4891-975e-fa4772f1f64e",
   "metadata": {},
   "outputs": [
    {
     "name": "stderr",
     "output_type": "stream",
     "text": [
      "[Stage 71:=============================>                            (1 + 1) / 2]"
     ]
    },
    {
     "name": "stdout",
     "output_type": "stream",
     "text": [
      "DataFrame successfully written into a PosgreSQL DB !\n"
     ]
    },
    {
     "name": "stderr",
     "output_type": "stream",
     "text": [
      "                                                                                "
     ]
    }
   ],
   "source": [
    "top_mobile_grouped_by_model_design_df.write \\\n",
    "    .format(\"jdbc\") \\\n",
    "    .option(\"url\", jdbc_url) \\\n",
    "    .option(\"dbtable\", table_name_9) \\\n",
    "    .option(\"user\", \"postgres\") \\\n",
    "    .option(\"password\", \"Admin@1234\") \\\n",
    "    .option(\"driver\", \"org.postgresql.Driver\") \\\n",
    "    .save()\n",
    "\n",
    "print(\"DataFrame successfully written into a PosgreSQL DB !\")"
   ]
  },
  {
   "cell_type": "code",
   "execution_count": 19,
   "id": "d086cf8d-0ce5-42dc-8cba-74321686b172",
   "metadata": {},
   "outputs": [
    {
     "name": "stderr",
     "output_type": "stream",
     "text": [
      "                                                                                "
     ]
    },
    {
     "name": "stdout",
     "output_type": "stream",
     "text": [
      "DataFrame successfully written into a PosgreSQL DB !\n"
     ]
    }
   ],
   "source": [
    "top_mobile_grouped_by_model_display_df.write \\\n",
    "    .format(\"jdbc\") \\\n",
    "    .option(\"url\", jdbc_url) \\\n",
    "    .option(\"dbtable\", table_name_10) \\\n",
    "    .option(\"user\", \"postgres\") \\\n",
    "    .option(\"password\", \"Admin@1234\") \\\n",
    "    .option(\"driver\", \"org.postgresql.Driver\") \\\n",
    "    .save()\n",
    "\n",
    "print(\"DataFrame successfully written into a PosgreSQL DB !\")"
   ]
  },
  {
   "cell_type": "code",
   "execution_count": 20,
   "id": "9449d651-393a-4ab3-b741-571701d209dd",
   "metadata": {},
   "outputs": [
    {
     "name": "stderr",
     "output_type": "stream",
     "text": [
      "[Stage 97:=============================>                            (1 + 1) / 2]"
     ]
    },
    {
     "name": "stdout",
     "output_type": "stream",
     "text": [
      "DataFrame successfully written into a PosgreSQL DB !\n"
     ]
    },
    {
     "name": "stderr",
     "output_type": "stream",
     "text": [
      "                                                                                "
     ]
    }
   ],
   "source": [
    "store_grouped_by_source_avg_age_df.write \\\n",
    "    .format(\"jdbc\") \\\n",
    "    .option(\"url\", jdbc_url) \\\n",
    "    .option(\"dbtable\", table_name_11) \\\n",
    "    .option(\"user\", \"postgres\") \\\n",
    "    .option(\"password\", \"Admin@1234\") \\\n",
    "    .option(\"driver\", \"org.postgresql.Driver\") \\\n",
    "    .save()\n",
    "\n",
    "print(\"DataFrame successfully written into a PosgreSQL DB !\")"
   ]
  },
  {
   "cell_type": "code",
   "execution_count": 21,
   "id": "a776a543-2ad9-440b-a5ce-664c5e9d5b3c",
   "metadata": {},
   "outputs": [
    {
     "name": "stderr",
     "output_type": "stream",
     "text": [
      "                                                                                "
     ]
    },
    {
     "name": "stdout",
     "output_type": "stream",
     "text": [
      "DataFrame successfully written into a PosgreSQL DB !\n"
     ]
    }
   ],
   "source": [
    "store_grouped_by_source_age_category_df.write \\\n",
    "    .format(\"jdbc\") \\\n",
    "    .option(\"url\", jdbc_url) \\\n",
    "    .option(\"dbtable\", table_name_12) \\\n",
    "    .option(\"user\", \"postgres\") \\\n",
    "    .option(\"password\", \"Admin@1234\") \\\n",
    "    .option(\"driver\", \"org.postgresql.Driver\") \\\n",
    "    .save()\n",
    "\n",
    "print(\"DataFrame successfully written into a PosgreSQL DB !\")"
   ]
  },
  {
   "cell_type": "code",
   "execution_count": 24,
   "id": "e5df3df5-64a9-4eba-9092-db32a486d245",
   "metadata": {},
   "outputs": [
    {
     "name": "stdout",
     "output_type": "stream",
     "text": [
      "root\n",
      " |-- verified: boolean (nullable = true)\n",
      " |-- brand: string (nullable = true)\n",
      " |-- model: string (nullable = true)\n",
      " |-- rating: integer (nullable = true)\n",
      " |-- battery: integer (nullable = true)\n",
      " |-- camera: integer (nullable = true)\n",
      " |-- perfomance: integer (nullable = true)\n",
      " |-- design: integer (nullable = true)\n",
      " |-- display: integer (nullable = true)\n",
      "\n",
      "root\n",
      " |-- age: integer (nullable = true)\n",
      " |-- verified: boolean (nullable = true)\n",
      " |-- country: string (nullable = true)\n",
      " |-- sentiment: string (nullable = true)\n",
      " |-- source: string (nullable = true)\n",
      "\n",
      "root\n",
      " |-- source: string (nullable = true)\n",
      " |-- age_category: string (nullable = true)\n",
      " |-- count_age_category: long (nullable = true)\n",
      "\n"
     ]
    }
   ],
   "source": [
    "\n",
    "jdbc_url = \"jdbc:postgresql://postgres-iteso:5432/postgres\"\n",
    "db_properties = {\n",
    "    \"user\": \"postgres\",\n",
    "    \"password\": \"Admin@1234\",\n",
    "    \"driver\": \"org.postgresql.Driver\"\n",
    "}\n",
    "\n",
    "df = spark.read \\\n",
    "    .jdbc(url=jdbc_url, table=table_name_1, properties=db_properties)\n",
    "\n",
    "df.printSchema()\n",
    "#df.show(5, truncate=False)\n",
    "t2_df = spark.read \\\n",
    "    .jdbc(url=jdbc_url, table=table_name_2, properties=db_properties)\n",
    "\n",
    "t2_df.printSchema()\n",
    "\n",
    "t12_df = spark.read \\\n",
    "    .jdbc(url=jdbc_url, table=table_name_12, properties=db_properties)\n",
    "\n",
    "t12_df.printSchema()\n",
    "\n",
    "\"\"\"\n",
    "Solo imprimo estas 3 porque seria mucha info desplegar todas, pero para comprobar que si se guardaron.\n",
    "\"\"\""
   ]
  },
  {
   "cell_type": "markdown",
   "id": "e74ef5f1",
   "metadata": {},
   "source": [
    "# DAG"
   ]
  },
  {
   "attachments": {
    "a38ab4cb-7656-4988-ad31-b1cbd88e370e.png": {
     "image/png": "[encoded data removed]"
    }
   },
   "cell_type": "markdown",
   "id": "ab9bda42-b109-4e4f-8320-6facdb473991",
   "metadata": {},
   "source": [
    "![image.png](attachment:a38ab4cb-7656-4988-ad31-b1cbd88e370e.png)"
   ]
  },
  {
   "attachments": {
    "23a70100-ab78-4899-8173-d4938dda99a5.png": {
     "image/png": "[encoded data removed]"
    }
   },
   "cell_type": "markdown",
   "id": "18663509-cbe4-43f4-9026-20ec53b41737",
   "metadata": {},
   "source": [
    "![image.png](attachment:23a70100-ab78-4899-8173-d4938dda99a5.png)"
   ]
  },
  {
   "cell_type": "code",
   "execution_count": 25,
   "id": "af9fa10c-40dc-42b4-b525-8c1352675b50",
   "metadata": {},
   "outputs": [],
   "source": [
    "sc.stop()"
   ]
  }
 ],
 "metadata": {
  "kernelspec": {
   "display_name": "Python 3 (ipykernel)",
   "language": "python",
   "name": "python3"
  },
  "language_info": {
   "codemirror_mode": {
    "name": "ipython",
    "version": 3
   },
   "file_extension": ".py",
   "mimetype": "text/x-python",
   "name": "python",
   "nbconvert_exporter": "python",
   "pygments_lexer": "ipython3",
   "version": "3.10.12"
  }
 },
 "nbformat": 4,
 "nbformat_minor": 5
}
