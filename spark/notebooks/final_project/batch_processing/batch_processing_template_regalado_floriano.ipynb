{
 "cells": [
  {
   "cell_type": "markdown",
   "id": "b92d9622",
   "metadata": {},
   "source": [
    "# <center> <img src=\"../../img/ITESOLogo.png\" alt=\"ITESO\" width=\"480\" height=\"130\"> </center>\n",
    "# <center> **Departamento de Electrónica, Sistemas e Informática** </center>\n",
    "---\n",
    "## <center> Computer Systems Engineering  </center>\n",
    "---\n",
    "### <center> Big Data Processing </center>\n",
    "---\n",
    "#### <center> **Autumn 2025** </center>\n",
    "\n",
    "#### <center> **Final Project: Batch Processing** </center>\n",
    "---\n",
    "\n",
    "**Date**: October, 2025\n",
    "\n",
    "**Student Name**:\n",
    "\n",
    "**Professor**: Pablo Camarillo Ramirez"
   ]
  },
  {
   "cell_type": "markdown",
   "id": "a4dd2743",
   "metadata": {},
   "source": [
    "# Introduction"
   ]
  },
  {
   "cell_type": "markdown",
   "id": "4925ab56-e9fa-44e6-bdec-2c7f904fb5f8",
   "metadata": {},
   "source": [
    "OrangeStone wishes to enter the House Market, and has access to a database that is updated monthly with information pertaining to global house purchases. They want to use the most of these information to make decisions on the real state they buy. As such, they decided to transform their raw data into a star model for ease of analysis."
   ]
  },
  {
   "cell_type": "code",
   "execution_count": null,
   "id": "d368617a-bb1e-4a3c-86d7-6c25ad6b3d9a",
   "metadata": {},
   "outputs": [],
   "source": []
  },
  {
   "cell_type": "markdown",
   "id": "1757b962",
   "metadata": {},
   "source": [
    "# Dataset"
   ]
  },
  {
   "cell_type": "markdown",
   "id": "0ea76579-7ace-4f08-bb92-cffafa0076de",
   "metadata": {},
   "source": [
    "The dataset they have access to is https://www.kaggle.com/datasets/mohankrishnathalla/global-house-purchase-decision-dataset\n"
   ]
  },
  {
   "cell_type": "markdown",
   "id": "df0a0e72",
   "metadata": {},
   "source": [
    "# Transformations and Actions"
   ]
  },
  {
   "cell_type": "markdown",
   "id": "2da11abc-91d5-47ac-9a77-7e97dad1328e",
   "metadata": {},
   "source": [
    "## Transformations"
   ]
  },
  {
   "cell_type": "code",
   "execution_count": 24,
   "id": "0d1ad0bb-bc66-4c0f-99ca-8b79aa2689cc",
   "metadata": {},
   "outputs": [
    {
     "name": "stderr",
     "output_type": "stream",
     "text": [
      "25/10/27 02:07:26 WARN SparkSession: Using an existing Spark session; only runtime SQL configurations will take effect.\n"
     ]
    }
   ],
   "source": [
    "import findspark\n",
    "findspark.init()\n",
    "\n",
    "from pyspark.sql import SparkSession\n",
    "\n",
    "spark = SparkSession.builder \\\n",
    "    .appName(\"ML: Logistic Regression\") \\\n",
    "    .master(\"spark://spark-master:7077\") \\\n",
    "    .config(\"spark.jars\", \"/opt/spark/work-dir/jars/postgresql-42.7.8.jar\") \\\n",
    "    .config(\"spark.ui.port\", \"4040\") \\\n",
    "    .getOrCreate()\n",
    "\n",
    "sc = spark.sparkContext\n",
    "sc.setLogLevel(\"INFO\")\n",
    "\n",
    "# Optimization (reduce the number of shuffle partitions)\n",
    "spark.conf.set(\"spark.sql.shuffle.partitions\", \"5\")"
   ]
  },
  {
   "cell_type": "code",
   "execution_count": 2,
   "id": "67d7fd64-cccd-4157-88c9-84ba1705e7b9",
   "metadata": {},
   "outputs": [],
   "source": [
    "from regalado_floriano.spark_utils import SparkUtils "
   ]
  },
  {
   "cell_type": "code",
   "execution_count": 3,
   "id": "4a7477f2-5f47-470e-af84-e9a3a69e355b",
   "metadata": {},
   "outputs": [],
   "source": [
    "houses_schema = SparkUtils.generate_schema(\n",
    " \n",
    "    ((\"property_id\",\"int\"),\n",
    "(\"country\",\"string\"),\n",
    "(\"city\",\"string\"),\n",
    "(\"property_type\",\"string\"),\n",
    "(\"furnishing_status\",\"string\"),\n",
    "(\"property_size_sqft\",\"int\"),\n",
    "(\"price\",\"int\"),\n",
    "(\"constructed_year\",\"int\"),\n",
    "(\"previous_owners\",\"int\"),\n",
    "(\"rooms\",\"int\"),\n",
    "(\"bathrooms\",\"int\"),\n",
    "(\"garage\",\"bool\"),\n",
    "(\"garden\",\"bool\"),\n",
    "(\"crime_cases_reported\",\"int\"),\n",
    "(\"legal_cases_on_property\",\"bool\"),\n",
    "(\"customer_salary\",\"int\"),\n",
    "(\"loan_amount\",\"int\"),\n",
    "(\"loan_tenure_years\",\"int\"),\n",
    "(\"monthly_expenses\",\"int\"),\n",
    "(\"down_payment\",\"int\"),\n",
    "(\"emi_to_income_ratio\",\"float\"),\n",
    "(\"satisfaction_score\",\"int\"),\n",
    "(\"neighbourhood_rating\",\"int\"),\n",
    "(\"connectivity_score\",\"int\"),\n",
    "(\"decision\",\"bool\")\n",
    "    )\n",
    ")"
   ]
  },
  {
   "cell_type": "code",
   "execution_count": 4,
   "id": "74428443-4d9c-45e3-b308-f70d912087ca",
   "metadata": {},
   "outputs": [],
   "source": [
    "house_df = spark.read \\\n",
    "                .option(\"header\", \"true\") \\\n",
    "                .schema(houses_schema) \\\n",
    "                .csv(\"/opt/spark/work-dir/data/house_purchases\")\n",
    " "
   ]
  },
  {
   "cell_type": "code",
   "execution_count": 5,
   "id": "9b1caa6b-44e7-424e-9b29-ae79590289a3",
   "metadata": {},
   "outputs": [],
   "source": [
    "house_df= house_df.na.fill(False)\n",
    " "
   ]
  },
  {
   "cell_type": "code",
   "execution_count": 6,
   "id": "6563d03b-ad06-4109-b996-ddce24305883",
   "metadata": {},
   "outputs": [],
   "source": [
    "#in order to prepare for ease of analysis, all categorical data will be put in it's own frame. That is to say, each country and city will get \n",
    "# their own id"
   ]
  },
  {
   "cell_type": "code",
   "execution_count": 7,
   "id": "016bffe1-a482-4c32-b702-0dbcc9c78c02",
   "metadata": {},
   "outputs": [],
   "source": [
    "from pyspark.sql.functions import col\n",
    "from pyspark.sql.functions import monotonically_increasing_id"
   ]
  },
  {
   "cell_type": "code",
   "execution_count": 8,
   "id": "0d4385f3-a4b8-476f-9f95-1c2126003106",
   "metadata": {},
   "outputs": [],
   "source": [
    "categories = \"country city property_type furnishing_status\".split()"
   ]
  },
  {
   "cell_type": "code",
   "execution_count": 9,
   "id": "74ef8a23-6c34-4b34-a241-20b4341383b6",
   "metadata": {},
   "outputs": [],
   "source": [
    "_localMap = SparkUtils.generate_keyed_distinct_column(house_df)\n",
    "\n",
    "categoricalTables =   {\n",
    "     key:     _localMap(key) for key in categories\n",
    " }"
   ]
  },
  {
   "cell_type": "code",
   "execution_count": 10,
   "id": "56418a69-2e78-417f-94fc-4a9a2ddf298f",
   "metadata": {},
   "outputs": [],
   "source": [
    "id_house = house_df\n",
    "for cat in categories:\n",
    "    cur_df = categoricalTables[cat]\n",
    "    id_house = SparkUtils.replace_column_for_key(id_house)(cur_df)(cat)\n",
    "\n",
    "    "
   ]
  },
  {
   "cell_type": "code",
   "execution_count": 11,
   "id": "4fd10624-4cf0-4971-901f-1bf3e4de13de",
   "metadata": {},
   "outputs": [],
   "source": [
    "id_bak = id_house"
   ]
  },
  {
   "cell_type": "code",
   "execution_count": 12,
   "id": "c28ce741-2280-47cb-b298-e91789c56c5f",
   "metadata": {},
   "outputs": [],
   "source": [
    "locations = id_house.select( \"country_id\", \"city_id\").distinct().withColumn(\"id\",monotonically_increasing_id())"
   ]
  },
  {
   "cell_type": "code",
   "execution_count": 13,
   "id": "c22b80d5-32ce-42d0-8af6-ae7b0845d882",
   "metadata": {},
   "outputs": [
    {
     "name": "stderr",
     "output_type": "stream",
     "text": [
      "25/10/27 01:56:36 WARN Column: Constructing trivially true equals predicate, 'm.country_id == m.country_id'. Perhaps you need to use aliases.\n",
      "25/10/27 01:56:36 WARN Column: Constructing trivially true equals predicate, 'm.city_id == m.city_id'. Perhaps you need to use aliases.\n"
     ]
    }
   ],
   "source": [
    "id_house = id_house.join(\n",
    "    locations ,\n",
    "    on=[id_house[\"country_id\"] == locations[\"country_id\"],\n",
    "        id_house[\"city_id\"] == locations[\"city_id\"]],\n",
    "    how=\"left\"\n",
    ").drop(\"country_id\", \"city_id\").withColumnRenamed(\"id\", \"location_id\")\n"
   ]
  },
  {
   "cell_type": "code",
   "execution_count": 14,
   "id": "6bf39bc7-ba2c-4e1a-9a0f-96e533725a39",
   "metadata": {},
   "outputs": [],
   "source": [
    "house_details = id_house.select(\"property_id\",\"legal_cases_on_property\", \n",
    "                                \"previous_owners\",\"rooms\",\"bathrooms\", \"garage\",\"garden\",\"crime_cases_reported\",\"legal_cases_on_property\",\n",
    "                               \"neighbourhood_rating\", \"satisfaction_score\", \"property_size_sqft\", \"price\"\n",
    "                               ,\"constructed_year\", \"furnishing_status_id\", \"property_type_id\"\n",
    "                               )\n",
    "\n"
   ]
  },
  {
   "cell_type": "code",
   "execution_count": 15,
   "id": "4237da7f-fb67-434b-915a-4d0c3cfed8b9",
   "metadata": {},
   "outputs": [],
   "source": [
    "loan_details = house_df.select( \n",
    "            \"property_id\",\n",
    "            \"loan_amount\",\"loan_tenure_years\",\"down_payment\"\n",
    "                              ) "
   ]
  },
  {
   "cell_type": "code",
   "execution_count": 16,
   "id": "7ee732f4-2160-4ccb-bf6d-4ed56d3a7369",
   "metadata": {},
   "outputs": [],
   "source": [
    "buyer_details = id_house.select(\n",
    "    \"property_id\", \"customer_salary\",\"emi_to_income_ratio\", \"monthly_expenses\", \"connectivity_score\"\n",
    "                               )\n",
    "\n"
   ]
  },
  {
   "cell_type": "code",
   "execution_count": 17,
   "id": "e7d4c45a-6419-4363-adad-a9968c284dec",
   "metadata": {},
   "outputs": [],
   "source": [
    "houses_k =  id_house.select(\"property_id\", \"decision\", \"location_id\" )"
   ]
  },
  {
   "cell_type": "code",
   "execution_count": 22,
   "id": "ecdbee9c-33c9-4f0d-a147-25262fd38263",
   "metadata": {},
   "outputs": [],
   "source": [
    "all_details = [house_details , loan_details, buyer_details]"
   ]
  },
  {
   "cell_type": "markdown",
   "id": "0ae1e6ad-3576-4708-abb3-764902ddda90",
   "metadata": {},
   "source": [
    "## Actions"
   ]
  },
  {
   "cell_type": "code",
   "execution_count": 18,
   "id": "b0610a2d-9249-47e3-9fee-0118258913af",
   "metadata": {},
   "outputs": [
    {
     "name": "stderr",
     "output_type": "stream",
     "text": [
      "                                                                                "
     ]
    },
    {
     "name": "stdout",
     "output_type": "stream",
     "text": [
      "+-----------+--------+-----------+\n",
      "|property_id|decision|location_id|\n",
      "+-----------+--------+-----------+\n",
      "|          1|   false|         22|\n",
      "|          2|   false|          3|\n",
      "|          3|   false|          4|\n",
      "|          4|   false|          5|\n",
      "|          5|   false|          4|\n",
      "|          6|   false|          0|\n",
      "|          7|   false|         23|\n",
      "|          8|   false|         14|\n",
      "|          9|   false|          1|\n",
      "|         10|   false|          6|\n",
      "|         11|   false|         23|\n",
      "|         12|   false|         23|\n",
      "|         13|   false|          5|\n",
      "|         14|   false|          3|\n",
      "|         15|   false|          7|\n",
      "|         16|   false|         24|\n",
      "|         17|   false|         15|\n",
      "|         18|   false|         25|\n",
      "|         19|   false|          8|\n",
      "|         20|   false|         32|\n",
      "+-----------+--------+-----------+\n",
      "only showing top 20 rows\n"
     ]
    }
   ],
   "source": [
    "houses_k.show()"
   ]
  },
  {
   "cell_type": "code",
   "execution_count": 19,
   "id": "0bbed66a-f88b-4d90-9544-23ea17b69387",
   "metadata": {},
   "outputs": [
    {
     "name": "stderr",
     "output_type": "stream",
     "text": [
      "                                                                                "
     ]
    },
    {
     "name": "stdout",
     "output_type": "stream",
     "text": [
      "+----------+-------+---+\n",
      "|country_id|city_id| id|\n",
      "+----------+-------+---+\n",
      "|         4|      9|  0|\n",
      "|        10|     33|  1|\n",
      "|        12|     17|  2|\n",
      "|         9|      0|  3|\n",
      "|         9|     28|  4|\n",
      "|         6|     31|  5|\n",
      "|         5|     10|  6|\n",
      "|         8|      2|  7|\n",
      "|        11|     34|  8|\n",
      "|         1|     35|  9|\n",
      "|        12|      4| 10|\n",
      "|         1|     22| 11|\n",
      "|         0|      7| 12|\n",
      "|        12|     39| 13|\n",
      "|         7|     32| 14|\n",
      "|         1|     19| 15|\n",
      "|         4|     36| 16|\n",
      "|         3|     21| 17|\n",
      "|        11|     37| 18|\n",
      "|         1|      5| 19|\n",
      "+----------+-------+---+\n",
      "only showing top 20 rows\n"
     ]
    }
   ],
   "source": [
    "locations.show()"
   ]
  },
  {
   "cell_type": "code",
   "execution_count": 21,
   "id": "c68f9023-3ec0-46ec-90a8-bc22c573d9ec",
   "metadata": {},
   "outputs": [
    {
     "name": "stdout",
     "output_type": "stream",
     "text": [
      "+------------+---+\n",
      "|     country| id|\n",
      "+------------+---+\n",
      "|      France|  0|\n",
      "|         USA|  1|\n",
      "|   Singapore|  2|\n",
      "|       Japan|  3|\n",
      "|      Canada|  4|\n",
      "|   Australia|  5|\n",
      "|     Germany|  6|\n",
      "|      Brazil|  7|\n",
      "|          UK|  8|\n",
      "|South Africa|  9|\n",
      "|         UAE| 10|\n",
      "|       China| 11|\n",
      "|       India| 12|\n",
      "+------------+---+\n",
      "\n",
      "+--------------+---+\n",
      "|          city| id|\n",
      "+--------------+---+\n",
      "|     Cape Town|  0|\n",
      "|Rio de Janeiro|  1|\n",
      "|        London|  2|\n",
      "|     Singapore|  3|\n",
      "|       Chennai|  4|\n",
      "|       Chicago|  5|\n",
      "|      Brisbane|  6|\n",
      "|         Paris|  7|\n",
      "|     Bangalore|  8|\n",
      "|      Montreal|  9|\n",
      "|     Melbourne| 10|\n",
      "|     Liverpool| 11|\n",
      "|       Beijing| 12|\n",
      "|         Tokyo| 13|\n",
      "|    Birmingham| 14|\n",
      "|        Munich| 15|\n",
      "|        Sydney| 16|\n",
      "|        Mumbai| 17|\n",
      "|     Hyderabad| 18|\n",
      "| San Francisco| 19|\n",
      "+--------------+---+\n",
      "only showing top 20 rows\n",
      "+-----------------+---+\n",
      "|    property_type| id|\n",
      "+-----------------+---+\n",
      "|           Studio|  0|\n",
      "|        Apartment|  1|\n",
      "|        Townhouse|  2|\n",
      "|            Villa|  3|\n",
      "|        Farmhouse|  4|\n",
      "|Independent House|  5|\n",
      "+-----------------+---+\n",
      "\n",
      "+-----------------+---+\n",
      "|furnishing_status| id|\n",
      "+-----------------+---+\n",
      "|  Fully-Furnished|  0|\n",
      "|   Semi-Furnished|  1|\n",
      "|      Unfurnished|  2|\n",
      "+-----------------+---+\n",
      "\n"
     ]
    }
   ],
   "source": [
    "for table in categoricalTables:\n",
    "    categoricalTables[table].show()"
   ]
  },
  {
   "cell_type": "code",
   "execution_count": 23,
   "id": "4d39b13c-7cc7-431e-b381-7b06c8a3c582",
   "metadata": {},
   "outputs": [
    {
     "name": "stdout",
     "output_type": "stream",
     "text": [
      "+-----------+-----------------------+---------------+-----+---------+------+------+--------------------+-----------------------+--------------------+------------------+------------------+-------+----------------+--------------------+----------------+\n",
      "|property_id|legal_cases_on_property|previous_owners|rooms|bathrooms|garage|garden|crime_cases_reported|legal_cases_on_property|neighbourhood_rating|satisfaction_score|property_size_sqft|  price|constructed_year|furnishing_status_id|property_type_id|\n",
      "+-----------+-----------------------+---------------+-----+---------+------+------+--------------------+-----------------------+--------------------+------------------+------------------+-------+----------------+--------------------+----------------+\n",
      "|          1|                  false|              6|    6|        2| false| false|                   1|                  false|                   5|                 1|               991| 412935|            1989|                   1|               4|\n",
      "|          2|                  false|              4|    8|        8| false| false|                   1|                  false|                   1|                 9|              1244| 224538|            1990|                   1|               1|\n",
      "|          3|                  false|              5|    2|        1| false| false|                   0|                  false|                   8|                 6|              4152| 745104|            2019|                   1|               4|\n",
      "|          4|                  false|              1|    3|        3| false| false|                   0|                  false|                   6|                 2|              3714|1110959|            2008|                   1|               4|\n",
      "|          5|                  false|              6|    3|        3| false| false|                   3|                  false|                   3|                 3|               531|  99041|            2007|                   0|               2|\n",
      "|          6|                  false|              0|    5|        2| false| false|                   0|                  false|                   8|                10|              3169|1107368|            1985|                   1|               3|\n",
      "|          7|                  false|              1|    2|        1| false| false|                   0|                  false|                  10|                 9|              1986| 398439|            1976|                   2|               0|\n",
      "|          8|                  false|              4|    6|        6| false| false|                   1|                  false|                   5|                 1|              4048| 807236|            2020|                   1|               2|\n",
      "|          9|                  false|              6|    2|        1| false| false|                   0|                  false|                   8|                 8|              5213|3131373|            1968|                   1|               4|\n",
      "|         10|                  false|              2|    5|        2| false| false|                   0|                  false|                   4|                 1|              4648|1483250|            1966|                   2|               1|\n",
      "|         11|                  false|              4|    8|        3| false| false|                   1|                  false|                   7|                 8|              5812|1166185|            2017|                   0|               1|\n",
      "|         12|                  false|              2|    3|        1| false| false|                   4|                  false|                   5|                 2|              5507|1101275|            1994|                   1|               0|\n",
      "|         13|                  false|              4|    2|        2| false| false|                   2|                  false|                   7|                 3|              5265|1578906|            2005|                   0|               2|\n",
      "|         14|                  false|              6|    7|        2| false| false|                   6|                  false|                   9|                 6|              2002| 360608|            2004|                   2|               3|\n",
      "|         15|                  false|              6|    3|        1| false| false|                   0|                  false|                   2|                 1|              4514|1806300|            2003|                   2|               0|\n",
      "|         16|                  false|              1|    8|        6| false| false|                   1|                  false|                   4|                 4|              5519|2209937|            2019|                   0|               5|\n",
      "|         17|                  false|              0|    2|        1| false| false|                   1|                  false|                   7|                 7|              3770|1889678|            2017|                   2|               2|\n",
      "|         18|                  false|              0|    4|        4| false| false|                   0|                  false|                   3|                 6|              3614|1370263|            2013|                   2|               5|\n",
      "|         19|                  false|              1|    5|        5| false| false|                   0|                  false|                  10|                 9|              5597|2121884|            1965|                   2|               5|\n",
      "|         20|                  false|              5|    4|        2| false| false|                   1|                  false|                   6|                10|              3951|1584521|            1979|                   1|               0|\n",
      "+-----------+-----------------------+---------------+-----+---------+------+------+--------------------+-----------------------+--------------------+------------------+------------------+-------+----------------+--------------------+----------------+\n",
      "only showing top 20 rows\n",
      "+-----------+-----------+-----------------+------------+\n",
      "|property_id|loan_amount|loan_tenure_years|down_payment|\n",
      "+-----------+-----------+-----------------+------------+\n",
      "|          1|     193949|               15|      218986|\n",
      "|          2|     181465|               20|       43073|\n",
      "|          3|     307953|               30|      437151|\n",
      "|          4|     674720|               15|      436239|\n",
      "|          5|      65833|               25|       33208|\n",
      "|          6|     793316|               30|      314052|\n",
      "|          7|     268167|               25|      130272|\n",
      "|          8|     503385|               20|      303851|\n",
      "|          9|    1866416|               15|     1264957|\n",
      "|         10|    1093290|               10|      389960|\n",
      "|         11|     918388|               25|      247797|\n",
      "|         12|     874604|               20|      226671|\n",
      "|         13|     671215|               30|      907691|\n",
      "|         14|     150994|               10|      209614|\n",
      "|         15|     939041|               20|      867259|\n",
      "|         16|     960016|               15|     1249921|\n",
      "|         17|    1352109|               30|      537569|\n",
      "|         18|     712117|               10|      658146|\n",
      "|         19|    1801788|               20|      320096|\n",
      "|         20|    1190158|               10|      394363|\n",
      "+-----------+-----------+-----------------+------------+\n",
      "only showing top 20 rows\n",
      "+-----------+---------------+-------------------+----------------+------------------+\n",
      "|property_id|customer_salary|emi_to_income_ratio|monthly_expenses|connectivity_score|\n",
      "+-----------+---------------+-------------------+----------------+------------------+\n",
      "|          1|          10745|               0.16|            6545|                 6|\n",
      "|          2|          16970|               0.08|            8605|                 2|\n",
      "|          3|          21914|               0.09|            2510|                 1|\n",
      "|          4|          17980|               0.33|            8805|                 6|\n",
      "|          5|          17676|               0.03|            8965|                 4|\n",
      "|          6|          95520|               0.05|           10615|                 2|\n",
      "|          7|          11426|               0.16|           14440|                10|\n",
      "|          8|          29832|               0.13|            7200|                 8|\n",
      "|          9|          56255|               0.29|           10300|                10|\n",
      "|         10|          67350|               0.18|           16360|                 7|\n",
      "|         11|          22342|               0.28|            6895|                 6|\n",
      "|         12|          33832|               0.19|            3885|                 6|\n",
      "|         13|          64480|               0.07|            8785|                 2|\n",
      "|         14|          12178|               0.14|           15245|                 1|\n",
      "|         15|          83470|               0.08|            3990|                 7|\n",
      "|         16|          78045|               0.11|            9880|                 3|\n",
      "|         17|          82500|                0.1|            6400|                 5|\n",
      "|         18|          25325|               0.32|            4200|                 5|\n",
      "|         19|          32910|               0.41|           19035|                 5|\n",
      "|         20|          42000|               0.32|           13085|                 9|\n",
      "+-----------+---------------+-------------------+----------------+------------------+\n",
      "only showing top 20 rows\n"
     ]
    }
   ],
   "source": [
    "for det in all_details:\n",
    "    det.show()"
   ]
  },
  {
   "cell_type": "markdown",
   "id": "bc61d130",
   "metadata": {},
   "source": [
    "# Persistence Data"
   ]
  },
  {
   "cell_type": "code",
   "execution_count": 25,
   "id": "084f1ad4-e89a-4c3a-94f7-c6a7edb541fc",
   "metadata": {},
   "outputs": [],
   "source": [
    "jdbc_url = \"jdbc:postgresql://postgres-iteso:5432/postgres\""
   ]
  },
  {
   "cell_type": "code",
   "execution_count": null,
   "id": "db708f6e-fc5e-48b3-ae71-70c0a325f109",
   "metadata": {},
   "outputs": [],
   "source": [
    "houses_k"
   ]
  },
  {
   "cell_type": "code",
   "execution_count": null,
   "id": "d1e42d95-b5c2-41d5-b3d2-0456db438b58",
   "metadata": {},
   "outputs": [],
   "source": []
  },
  {
   "cell_type": "code",
   "execution_count": null,
   "id": "009d2a9e-9f22-4c88-bcdb-aa7d00be9f61",
   "metadata": {},
   "outputs": [],
   "source": []
  },
  {
   "cell_type": "code",
   "execution_count": null,
   "id": "48cdc72d-2741-43f9-b502-344f72780f97",
   "metadata": {},
   "outputs": [],
   "source": []
  },
  {
   "cell_type": "markdown",
   "id": "e74ef5f1",
   "metadata": {},
   "source": [
    "# DAG"
   ]
  }
 ],
 "metadata": {
  "kernelspec": {
   "display_name": "Python 3 (ipykernel)",
   "language": "python",
   "name": "python3"
  },
  "language_info": {
   "codemirror_mode": {
    "name": "ipython",
    "version": 3
   },
   "file_extension": ".py",
   "mimetype": "text/x-python",
   "name": "python",
   "nbconvert_exporter": "python",
   "pygments_lexer": "ipython3",
   "version": "3.10.12"
  }
 },
 "nbformat": 4,
 "nbformat_minor": 5
}
