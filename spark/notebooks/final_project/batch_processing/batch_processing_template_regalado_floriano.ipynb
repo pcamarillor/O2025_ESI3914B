{
 "cells": [
  {
   "cell_type": "markdown",
   "id": "b92d9622",
   "metadata": {},
   "source": [
    "# <center> <img src=\"../../img/ITESOLogo.png\" alt=\"ITESO\" width=\"480\" height=\"130\"> </center>\n",
    "# <center> **Departamento de Electrónica, Sistemas e Informática** </center>\n",
    "---\n",
    "## <center> Computer Systems Engineering  </center>\n",
    "---\n",
    "### <center> Big Data Processing </center>\n",
    "---\n",
    "#### <center> **Autumn 2025** </center>\n",
    "\n",
    "#### <center> **Final Project: Batch Processing** </center>\n",
    "---\n",
    "\n",
    "**Date**: October, 2025\n",
    "\n",
    "**Student Name**:\n",
    "\n",
    "**Professor**: Pablo Camarillo Ramirez"
   ]
  },
  {
   "cell_type": "markdown",
   "id": "a4dd2743",
   "metadata": {},
   "source": [
    "# Introduction"
   ]
  },
  {
   "cell_type": "markdown",
   "id": "4925ab56-e9fa-44e6-bdec-2c7f904fb5f8",
   "metadata": {},
   "source": [
    "OrangeStone wishes to enter the House Market, and has access to a database that is updated monthly with information pertaining to global house purchases. They want to use the most of these information to make decisions on the real state they buy."
   ]
  },
  {
   "cell_type": "code",
   "execution_count": null,
   "id": "d368617a-bb1e-4a3c-86d7-6c25ad6b3d9a",
   "metadata": {},
   "outputs": [],
   "source": []
  },
  {
   "cell_type": "markdown",
   "id": "1757b962",
   "metadata": {},
   "source": [
    "# Dataset"
   ]
  },
  {
   "cell_type": "markdown",
   "id": "0ea76579-7ace-4f08-bb92-cffafa0076de",
   "metadata": {},
   "source": [
    "The dataset they have access to is https://www.kaggle.com/datasets/mohankrishnathalla/global-house-purchase-decision-dataset\n"
   ]
  },
  {
   "cell_type": "markdown",
   "id": "df0a0e72",
   "metadata": {},
   "source": [
    "# Transformations and Actions"
   ]
  },
  {
   "cell_type": "code",
   "execution_count": 1,
   "id": "0d1ad0bb-bc66-4c0f-99ca-8b79aa2689cc",
   "metadata": {},
   "outputs": [
    {
     "name": "stderr",
     "output_type": "stream",
     "text": [
      "WARNING: Using incubator modules: jdk.incubator.vector\n",
      "Using Spark's default log4j profile: org/apache/spark/log4j2-defaults.properties\n",
      "Setting default log level to \"WARN\".\n",
      "To adjust logging level use sc.setLogLevel(newLevel). For SparkR, use setLogLevel(newLevel).\n",
      "25/10/26 00:57:22 WARN NativeCodeLoader: Unable to load native-hadoop library for your platform... using builtin-java classes where applicable\n"
     ]
    }
   ],
   "source": [
    "import findspark\n",
    "findspark.init()\n",
    "\n",
    "from pyspark.sql import SparkSession\n",
    "\n",
    "spark = SparkSession.builder \\\n",
    "    .appName(\"ML: Logistic Regression\") \\\n",
    "    .master(\"spark://spark-master:7077\") \\\n",
    "    .config(\"spark.ui.port\", \"4040\") \\\n",
    "    .getOrCreate()\n",
    "\n",
    "sc = spark.sparkContext\n",
    "sc.setLogLevel(\"INFO\")\n",
    "\n",
    "# Optimization (reduce the number of shuffle partitions)\n",
    "spark.conf.set(\"spark.sql.shuffle.partitions\", \"5\")"
   ]
  },
  {
   "cell_type": "code",
   "execution_count": 2,
   "id": "67d7fd64-cccd-4157-88c9-84ba1705e7b9",
   "metadata": {},
   "outputs": [],
   "source": [
    "from regalado_floriano.spark_utils import SparkUtils "
   ]
  },
  {
   "cell_type": "code",
   "execution_count": 3,
   "id": "4a7477f2-5f47-470e-af84-e9a3a69e355b",
   "metadata": {},
   "outputs": [],
   "source": [
    "houses_schema = SparkUtils.generate_schema(\n",
    " \n",
    "    ((\"property_id\",\"int\"),\n",
    "(\"country\",\"string\"),\n",
    "(\"city\",\"string\"),\n",
    "(\"property_type\",\"string\"),\n",
    "(\"furnishing_status\",\"string\"),\n",
    "(\"property_size_sqft\",\"int\"),\n",
    "(\"price\",\"int\"),\n",
    "(\"constructed_year\",\"int\"),\n",
    "(\"previous_owners\",\"int\"),\n",
    "(\"rooms\",\"int\"),\n",
    "(\"bathrooms\",\"int\"),\n",
    "(\"garage\",\"bool\"),\n",
    "(\"garden\",\"bool\"),\n",
    "(\"crime_cases_reported\",\"int\"),\n",
    "(\"legal_cases_on_property\",\"bool\"),\n",
    "(\"customer_salary\",\"int\"),\n",
    "(\"loan_amount\",\"int\"),\n",
    "(\"loan_tenure_years\",\"int\"),\n",
    "(\"monthly_expenses\",\"int\"),\n",
    "(\"down_payment\",\"int\"),\n",
    "(\"emi_to_income_ratio\",\"float\"),\n",
    "(\"satisfaction_score\",\"int\"),\n",
    "(\"neighbourhood_rating\",\"int\"),\n",
    "(\"connectivity_score\",\"int\"),\n",
    "(\"decision\",\"bool\")\n",
    "    )\n",
    ")"
   ]
  },
  {
   "cell_type": "code",
   "execution_count": 4,
   "id": "74428443-4d9c-45e3-b308-f70d912087ca",
   "metadata": {},
   "outputs": [],
   "source": [
    "house_df = spark.read \\\n",
    "                .option(\"header\", \"true\") \\\n",
    "                .schema(houses_schema) \\\n",
    "                .csv(\"/opt/spark/work-dir/data/house_purchases\")\n",
    " "
   ]
  },
  {
   "cell_type": "code",
   "execution_count": 16,
   "id": "9b1caa6b-44e7-424e-9b29-ae79590289a3",
   "metadata": {},
   "outputs": [],
   "source": [
    "house_df= house_df.na.fill(False)\n",
    " "
   ]
  },
  {
   "cell_type": "code",
   "execution_count": 17,
   "id": "6563d03b-ad06-4109-b996-ddce24305883",
   "metadata": {},
   "outputs": [],
   "source": [
    "#in order to prepare for ease of analysis, all categorical data will be put in it's own frame"
   ]
  },
  {
   "cell_type": "code",
   "execution_count": 18,
   "id": "016bffe1-a482-4c32-b702-0dbcc9c78c02",
   "metadata": {},
   "outputs": [],
   "source": [
    "from pyspark.sql.functions import col\n",
    "from pyspark.sql.functions import monotonically_increasing_id"
   ]
  },
  {
   "cell_type": "code",
   "execution_count": 19,
   "id": "0d4385f3-a4b8-476f-9f95-1c2126003106",
   "metadata": {},
   "outputs": [],
   "source": [
    "categories = \"country city property_type furnishing_status\".split()"
   ]
  },
  {
   "cell_type": "code",
   "execution_count": 20,
   "id": "74ef8a23-6c34-4b34-a241-20b4341383b6",
   "metadata": {},
   "outputs": [],
   "source": [
    "_localMap = SparkUtils.generate_keyed_distinct_column(house_df)\n",
    "\n",
    "categoricalTables =   {\n",
    "     key:     _localMap(key) for key in categories\n",
    " }"
   ]
  },
  {
   "cell_type": "code",
   "execution_count": 21,
   "id": "0726b41d-488b-42c9-b4e7-2c7a36993fc0",
   "metadata": {},
   "outputs": [],
   "source": [
    "from functools import reduce"
   ]
  },
  {
   "cell_type": "code",
   "execution_count": 35,
   "id": "56418a69-2e78-417f-94fc-4a9a2ddf298f",
   "metadata": {},
   "outputs": [],
   "source": [
    "id_house = house_df\n",
    "for cat in categories:\n",
    "    cur_df = categoricalTables[cat]\n",
    "    id_house = SparkUtils.replace_column_for_key(id_house)(cur_df)(cat)\n",
    "\n",
    "    "
   ]
  },
  {
   "cell_type": "code",
   "execution_count": 41,
   "id": "6bf39bc7-ba2c-4e1a-9a0f-96e533725a39",
   "metadata": {},
   "outputs": [],
   "source": [
    "house_details = id_house.select(\"property_id\",\"legal_cases_on_property\", \n",
    "                                \"previous_owners\",\"rooms\",\"bathrooms\", \"garage\",\"garden\",\"crime_cases_reported\",\"legal_cases_on_property\",\n",
    "                               \"neighbourhood_rating\", \"satisfaction_score\", \"property_size_sqft\", \"price\")\n",
    "\n",
    "house_no_h_details = id_house.drop(\"property_size_sqft\", \"price\",\"legal_cases_on_property\", \n",
    "                                \"previous_owners\",\"rooms\",\"bathrooms\", \"garage\",\"garden\",\"crime_cases_reported\",\"legal_cases_on_property\",\n",
    "                               \"neighbourhood_rating\", \"satisfaction_score\")\n"
   ]
  },
  {
   "cell_type": "code",
   "execution_count": 42,
   "id": "4237da7f-fb67-434b-915a-4d0c3cfed8b9",
   "metadata": {},
   "outputs": [],
   "source": [
    "loan_details = id_house.select( \n",
    "            \"property_id\",\n",
    "            \"loan_amount\",\"loan_tenure_years\",\"down_payment\"\n",
    "                              )\n",
    "\n",
    "main_house = house_no_h_details.drop( \"property_id\",\n",
    "            \"loan_amount\",\"loan_tenure_years\",\"down_payment\" )\n"
   ]
  },
  {
   "cell_type": "code",
   "execution_count": 43,
   "id": "b0610a2d-9249-47e3-9fee-0118258913af",
   "metadata": {},
   "outputs": [
    {
     "name": "stderr",
     "output_type": "stream",
     "text": [
      "                                                                                "
     ]
    },
    {
     "name": "stdout",
     "output_type": "stream",
     "text": [
      "+----------------+---------------+----------------+-------------------+------------------+--------+----------+-------+----------------+--------------------+\n",
      "|constructed_year|customer_salary|monthly_expenses|emi_to_income_ratio|connectivity_score|decision|country_id|city_id|property_type_id|furnishing_status_id|\n",
      "+----------------+---------------+----------------+-------------------+------------------+--------+----------+-------+----------------+--------------------+\n",
      "|            1989|          10745|            6545|               0.16|                 6|   false|         0|     27|               4|                   1|\n",
      "|            1990|          16970|            8605|               0.08|                 2|   false|         9|      0|               1|                   1|\n",
      "|            2019|          21914|            2510|               0.09|                 1|   false|         9|     28|               4|                   1|\n",
      "|            2008|          17980|            8805|               0.33|                 6|   false|         6|     31|               4|                   1|\n",
      "|            2007|          17676|            8965|               0.03|                 4|   false|         9|     28|               2|                   0|\n",
      "|            1985|          95520|           10615|               0.05|                 2|   false|         4|      9|               3|                   1|\n",
      "|            1976|          11426|           14440|               0.16|                10|   false|         7|      1|               0|                   2|\n",
      "|            2020|          29832|            7200|               0.13|                 8|   false|         7|     32|               2|                   1|\n",
      "|            1968|          56255|           10300|               0.29|                10|   false|        10|     33|               4|                   1|\n",
      "|            1966|          67350|           16360|               0.18|                 7|   false|         5|     10|               1|                   2|\n",
      "|            2017|          22342|            6895|               0.28|                 6|   false|         7|      1|               1|                   0|\n",
      "|            1994|          33832|            3885|               0.19|                 6|   false|         7|      1|               0|                   1|\n",
      "|            2005|          64480|            8785|               0.07|                 2|   false|         6|     31|               2|                   0|\n",
      "|            2004|          12178|           15245|               0.14|                 1|   false|         9|      0|               3|                   2|\n",
      "|            2003|          83470|            3990|               0.08|                 7|   false|         8|      2|               0|                   2|\n",
      "|            2019|          78045|            9880|               0.11|                 3|   false|         8|     11|               5|                   0|\n",
      "|            2017|          82500|            6400|                0.1|                 5|   false|         1|     19|               2|                   2|\n",
      "|            2013|          25325|            4200|               0.32|                 5|   false|        11|     12|               5|                   2|\n",
      "|            1965|          32910|           19035|               0.41|                 5|   false|        11|     34|               5|                   2|\n",
      "|            1979|          42000|           13085|               0.32|                 9|   false|         8|     20|               0|                   1|\n",
      "+----------------+---------------+----------------+-------------------+------------------+--------+----------+-------+----------------+--------------------+\n",
      "only showing top 20 rows\n"
     ]
    }
   ],
   "source": [
    "main_house.show()"
   ]
  },
  {
   "cell_type": "markdown",
   "id": "2da11abc-91d5-47ac-9a77-7e97dad1328e",
   "metadata": {
    "jp-MarkdownHeadingCollapsed": true
   },
   "source": [
    "## Transformations"
   ]
  },
  {
   "cell_type": "markdown",
   "id": "bc61d130",
   "metadata": {},
   "source": [
    "# Persistence Data"
   ]
  },
  {
   "cell_type": "markdown",
   "id": "e74ef5f1",
   "metadata": {},
   "source": [
    "# DAG"
   ]
  }
 ],
 "metadata": {
  "kernelspec": {
   "display_name": "Python 3 (ipykernel)",
   "language": "python",
   "name": "python3"
  },
  "language_info": {
   "codemirror_mode": {
    "name": "ipython",
    "version": 3
   },
   "file_extension": ".py",
   "mimetype": "text/x-python",
   "name": "python",
   "nbconvert_exporter": "python",
   "pygments_lexer": "ipython3",
   "version": "3.10.12"
  }
 },
 "nbformat": 4,
 "nbformat_minor": 5
}
