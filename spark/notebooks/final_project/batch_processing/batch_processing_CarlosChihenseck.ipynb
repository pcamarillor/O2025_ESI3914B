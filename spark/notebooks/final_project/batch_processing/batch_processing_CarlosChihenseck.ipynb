{
 "cells": [
  {
   "cell_type": "markdown",
   "id": "b92d9622",
   "metadata": {},
   "source": [
    "# <center> <img src=\"../../img/ITESOLogo.png\" alt=\"ITESO\" width=\"480\" height=\"130\"> </center>\n",
    "# <center> **Departamento de Electrónica, Sistemas e Informática** </center>\n",
    "---\n",
    "## <center> Computer Systems Engineering  </center>\n",
    "---\n",
    "### <center> Big Data Processing </center>\n",
    "---\n",
    "#### <center> **Autumn 2025** </center>\n",
    "\n",
    "#### <center> **Final Project: Batch Processing** </center>\n",
    "---\n",
    "\n",
    "**Date**: October, 2025\n",
    "\n",
    "**Student Name**:\n",
    "\n",
    "**Professor**: Pablo Camarillo Ramirez"
   ]
  },
  {
   "cell_type": "markdown",
   "id": "a4dd2743",
   "metadata": {},
   "source": [
    "# Introduction"
   ]
  },
  {
   "cell_type": "markdown",
   "id": "ce17ea47-69bd-45bd-9835-26b3b7d6a33e",
   "metadata": {},
   "source": [
    "With this dataset we will try to check for the patterns in mental health in adults"
   ]
  },
  {
   "cell_type": "markdown",
   "id": "1757b962",
   "metadata": {},
   "source": [
    "# Dataset"
   ]
  },
  {
   "cell_type": "markdown",
   "id": "bc2c887b-7f41-439a-803b-cce60a6c72e0",
   "metadata": {},
   "source": [
    "I chose this dataset from kaggle from: https://www.kaggle.com/datasets/alamshihab075/mental-health-dataset with a column-family data model and a data schema with: magnitud,  significance, number of seismic monitoring stations, distance to nearest seismic station and earthquake focal depth"
   ]
  },
  {
   "cell_type": "code",
   "execution_count": 1,
   "id": "fa6bde98-da5e-4ed9-9579-d1ab2b2cf1df",
   "metadata": {},
   "outputs": [
    {
     "name": "stderr",
     "output_type": "stream",
     "text": [
      "WARNING: Using incubator modules: jdk.incubator.vector\n",
      "25/10/26 20:32:12 WARN NativeCodeLoader: Unable to load native-hadoop library for your platform... using builtin-java classes where applicable\n",
      "Using Spark's default log4j profile: org/apache/spark/log4j2-defaults.properties\n",
      "Setting default log level to \"WARN\".\n",
      "To adjust logging level use sc.setLogLevel(newLevel). For SparkR, use setLogLevel(newLevel).\n"
     ]
    }
   ],
   "source": [
    "import findspark\n",
    "findspark.init()\n",
    "from pcamarillor.spark_utils import SparkUtils\n",
    "from pyspark.sql import SparkSession\n",
    "\n",
    "spark = SparkSession.builder \\\n",
    "    .appName(\"ML: Decision Trees & Random Forest\") \\\n",
    "    .master(\"spark://spark-master:7077\") \\\n",
    "    .config(\"spark.jars\", \"/opt/spark/work-dir/jars/postgresql-42.7.8.jar\") \\\n",
    "    .config(\"spark.ui.port\", \"4040\") \\\n",
    "    .getOrCreate()\n",
    "\n",
    "sc = spark.sparkContext\n",
    "sc.setLogLevel(\"INFO\")\n",
    "\n",
    "# Optimization (reduce the number of shuffle partitions)\n",
    "spark.conf.set(\"spark.sql.shuffle.partitions\", \"5\")\n",
    "\n"
   ]
  },
  {
   "cell_type": "code",
   "execution_count": 2,
   "id": "6eec6170-22fc-4cda-b254-728ec5e5e36d",
   "metadata": {},
   "outputs": [
    {
     "name": "stdout",
     "output_type": "stream",
     "text": [
      "root\n",
      " |-- index: integer (nullable = true)\n",
      " |-- magnitud: float (nullable = true)\n",
      " |-- sig: integer (nullable = true)\n",
      " |-- nst: integer (nullable = true)\n",
      " |-- dmin: float (nullable = true)\n",
      " |-- depth: float (nullable = true)\n",
      "\n"
     ]
    }
   ],
   "source": [
    "tsunami_schema_columns = [(\"index\", \"int\"), \n",
    "     (\"magnitud\", \"float\"), \n",
    "     (\"sig\", \"int\"),\n",
    "     (\"nst\", \"int\"),\n",
    "     (\"dmin\", \"float\"),\n",
    "     (\"depth\", \"float\"),\n",
    "     ]\n",
    "tsunami_schema = SparkUtils.generate_schema(tsunami_schema_columns)\n",
    "\n",
    "tsunami_df = spark.read \\\n",
    "                .option(\"header\", \"true\") \\\n",
    "                .schema(tsunami_schema) \\\n",
    "                .csv(\"/opt/spark/work-dir/data/tsunami/earthquake_data_tsunami.csv\")\n",
    "\n",
    "tsunami_df.printSchema()\n",
    "\n"
   ]
  },
  {
   "cell_type": "markdown",
   "id": "df0a0e72",
   "metadata": {},
   "source": [
    "# Transformations and Actions"
   ]
  },
  {
   "cell_type": "code",
   "execution_count": 3,
   "id": "61663d07-38c8-45d9-9f16-0edcf339dce5",
   "metadata": {},
   "outputs": [],
   "source": [
    "tsunami_df = tsunami_df.dropna()\n",
    "tsunami_df = tsunami_df.drop(\"index\")"
   ]
  },
  {
   "cell_type": "markdown",
   "id": "bc61d130",
   "metadata": {},
   "source": [
    "# Persistence Data"
   ]
  },
  {
   "cell_type": "code",
   "execution_count": 5,
   "id": "42febc61-e2f3-40ed-8013-e09c03962a96",
   "metadata": {},
   "outputs": [
    {
     "name": "stderr",
     "output_type": "stream",
     "text": [
      "[Stage 0:>                                                          (0 + 1) / 1]"
     ]
    },
    {
     "name": "stdout",
     "output_type": "stream",
     "text": [
      "DataFrame successfully written into a PosgreSQL DB !\n"
     ]
    },
    {
     "name": "stderr",
     "output_type": "stream",
     "text": [
      "                                                                                "
     ]
    }
   ],
   "source": [
    "jdbc_url = \"jdbc:postgresql://postgres-iteso:5432/postgres\"\n",
    "table_name = \"tsunami_transformed\"\n",
    "\n",
    "tsunami_df.write\\\n",
    "    .format(\"jdbc\") \\\n",
    "    .option(\"url\", jdbc_url) \\\n",
    "    .option(\"dbtable\", table_name) \\\n",
    "    .option(\"user\", \"postgres\") \\\n",
    "    .option(\"password\", \"Admin@1234\") \\\n",
    "    .option(\"driver\", \"org.postgresql.Driver\") \\\n",
    "    .mode(\"overwrite\") \\\n",
    "    .save()\n",
    "\n",
    "print(\"DataFrame successfully written into a PosgreSQL DB !\")"
   ]
  },
  {
   "cell_type": "markdown",
   "id": "e74ef5f1",
   "metadata": {},
   "source": [
    "# DAG"
   ]
  },
  {
   "cell_type": "code",
   "execution_count": 6,
   "id": "da8c5d18-55a7-4427-8553-7b83d34ba34d",
   "metadata": {},
   "outputs": [
    {
     "name": "stdout",
     "output_type": "stream",
     "text": [
      "root\n",
      " |-- magnitud: float (nullable = true)\n",
      " |-- sig: integer (nullable = true)\n",
      " |-- nst: integer (nullable = true)\n",
      " |-- dmin: float (nullable = true)\n",
      " |-- depth: float (nullable = true)\n",
      "\n",
      "+--------+---+----+-----+-----+\n",
      "|magnitud|sig|nst |dmin |depth|\n",
      "+--------+---+----+-----+-----+\n",
      "|8.0     |7  |768 |117.0|0.509|\n",
      "|3.0     |3  |755 |147.0|3.125|\n",
      "|4.0     |3  |755 |142.0|4.578|\n",
      "|7.0     |5  |761 |192.0|2.977|\n",
      "|9.0     |8  |1351|152.0|5.276|\n",
      "+--------+---+----+-----+-----+\n",
      "only showing top 5 rows\n"
     ]
    }
   ],
   "source": [
    "jdbc_url = \"jdbc:postgresql://postgres-iteso:5432/postgres\"\n",
    "db_properties = {\n",
    "      \"user\": \"postgres\",      \n",
    "      \"password\": \"Admin@1234\",\n",
    "      \"driver\": \"org.postgresql.Driver\"\n",
    "  }\n",
    "\n",
    "df = spark.read \\\n",
    "    .jdbc(url=jdbc_url, table=table_name, properties=db_properties)\n",
    "\n",
    "df.printSchema()\n",
    "df.show(5, truncate=False)"
   ]
  },
  {
   "cell_type": "code",
   "execution_count": 6,
   "id": "29607b70-4b3f-4ed5-b8b1-921b8e28286d",
   "metadata": {},
   "outputs": [],
   "source": [
    "sc.stop()"
   ]
  },
  {
   "cell_type": "code",
   "execution_count": null,
   "id": "62f1afd0-fe90-4346-8924-2fc3ec724dae",
   "metadata": {},
   "outputs": [],
   "source": []
  }
 ],
 "metadata": {
  "kernelspec": {
   "display_name": "Python 3 (ipykernel)",
   "language": "python",
   "name": "python3"
  },
  "language_info": {
   "codemirror_mode": {
    "name": "ipython",
    "version": 3
   },
   "file_extension": ".py",
   "mimetype": "text/x-python",
   "name": "python",
   "nbconvert_exporter": "python",
   "pygments_lexer": "ipython3",
   "version": "3.10.12"
  }
 },
 "nbformat": 4,
 "nbformat_minor": 5
}
