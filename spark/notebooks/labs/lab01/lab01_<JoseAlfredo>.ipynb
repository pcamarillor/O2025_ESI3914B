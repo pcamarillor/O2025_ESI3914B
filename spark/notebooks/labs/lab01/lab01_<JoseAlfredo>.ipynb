{
 "cells": [
  {
   "cell_type": "code",
   "execution_count": null,
   "id": "a5b5ae34",
   "metadata": {
    "vscode": {
     "languageId": "plaintext"
    }
   },
   "outputs": [],
   "source": [
    "# Datos de reproducción\n",
    "plays = [\n",
    "    (\"UserA\", \"Song1\"),\n",
    "    (\"UserB\", \"Song1\"),\n",
    "    (\"UserA\", \"Song2\"),\n",
    "    (\"UserA\", \"Song1\"),\n",
    "    (\"UserC\", \"Song3\"),\n",
    "    (\"UserB\", \"Song2\"),\n",
    "    (\"UserD\", \"Song1\"),\n",
    "    (\"UserC\", \"Song1\"),\n",
    "    (\"UserD\", \"Song3\"),\n",
    "]\n",
    "\n",
    "# 1. Eliminar registros duplicados (usuario-canción únicos)\n",
    "unique_plays = list({(user, song) for user, song in plays})\n",
    "\n",
    "# 2. Rastrear cuántas canciones únicas ha escuchado cada usuario\n",
    "user_song_count = {}\n",
    "for user, song in unique_plays:\n",
    "    if user not in user_song_count:\n",
    "        user_song_count[user] = set()\n",
    "    user_song_count[user].add(song)\n",
    "\n",
    "# Mostrar el número de canciones únicas que ha escuchado cada usuario\n",
    "print(\"Número de canciones únicas escuchadas por cada usuario:\")\n",
    "for user, songs in user_song_count.items():\n",
    "    print(f\"{user}: {len(songs)} canciones únicas\")\n",
    "\n",
    "# 3. Encontrar la canción más popular\n",
    "song_play_count = {}\n",
    "for user, song in unique_plays:\n",
    "    if song not in song_play_count:\n",
    "        song_play_count[song] = 0\n",
    "    song_play_count[song] += 1\n",
    "\n",
    "# Encontrar la canción más popular (la que tiene más reproducciones)\n",
    "most_popular_song = max(song_play_count, key=song_play_count.get)\n",
    "print(f\"\\nLa canción más popular es: {most_popular_song} con {song_play_count[most_popular_song]} reproducciones.\")\n",
    "\n",
    "# 4. Output de resultados estructurados\n",
    "print(\"\\nReproducciones únicas por usuario:\")\n",
    "print(user_song_count)\n",
    "\n",
    "print(\"\\nReproducciones por canción:\")\n",
    "print(song_play_count)\n"
   ]
  }
 ],
 "metadata": {
  "language_info": {
   "name": "python"
  }
 },
 "nbformat": 4,
 "nbformat_minor": 5
}
