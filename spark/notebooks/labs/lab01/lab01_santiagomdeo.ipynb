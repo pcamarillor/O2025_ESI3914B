{
 "cells": [
  {
   "cell_type": "markdown",
   "id": "b92d9622",
   "metadata": {},
   "source": [
    "# <center> <img src=\"../../img/ITESOLogo.png\" alt=\"ITESO\" width=\"480\" height=\"130\"> </center>\n",
    "# <center> **Departamento de Electrónica, Sistemas e Informática** </center>\n",
    "---\n",
    "## <center> Program: _Add your program's name here_  </center>\n",
    "---\n",
    "### <center> **Autumn 2025** </center>\n",
    "---\n",
    "\n",
    "**Lab XX**:\n",
    "\n",
    "**Date**:\n",
    "\n",
    "**Student Name**:\n",
    "\n",
    "**Professor**: Pablo Camarillo Ramirez "
   ]
  },
  {
   "cell_type": "code",
   "execution_count": 7,
   "id": "e633a85e-df38-4cf1-bbee-2ad923f07757",
   "metadata": {},
   "outputs": [
    {
     "name": "stdout",
     "output_type": "stream",
     "text": [
      "9\n"
     ]
    }
   ],
   "source": [
    "plays = [\n",
    "\n",
    "(\"UserA\", \"Song1\"),\n",
    "(\"UserB\", \"Song1\"),\n",
    "(\"UserA\", \"Song2\"),\n",
    "(\"UserA\", \"Song1\"),\n",
    "(\"UserC\", \"Song3\"),\n",
    "(\"UserB\", \"Song2\"),\n",
    "(\"UserD\", \"Song1\"),\n",
    "(\"UserC\", \"Song1\"),\n",
    "(\"UserD\", \"Song3\"),\n",
    "\n",
    "]\n",
    "print(len(plays))"
   ]
  },
  {
   "cell_type": "code",
   "execution_count": 8,
   "id": "a5b6e4d5",
   "metadata": {},
   "outputs": [
    {
     "name": "stdout",
     "output_type": "stream",
     "text": [
      "8\n"
     ]
    }
   ],
   "source": [
    "#1. Remove duplicate play records.\n",
    "set1 = set(plays)\n",
    "# for x in plays:\n",
    "#     set1.add(x)\n",
    "\n",
    "print(len(set1))\n"
   ]
  },
  {
   "cell_type": "code",
   "execution_count": 14,
   "id": "d59985df",
   "metadata": {},
   "outputs": [
    {
     "name": "stdout",
     "output_type": "stream",
     "text": [
      "UserA 2\n",
      "UserD 2\n",
      "UserC 2\n",
      "UserB 2\n"
     ]
    }
   ],
   "source": [
    "#2. Track how many unique songs each user has listened to.\n",
    "# a user listens to a song, and only that user has.\n",
    "# i would put them in a dictionary jsut the other way around, and which ever has a list with a length of 1, means \n",
    "#or maybe it just wants, from the original list, how many songs has each user listened to without counting repeated songs\n",
    "\n",
    "\n",
    "users = {}\n",
    "\n",
    "for record in set1:\n",
    "  y = users.get(record[0])\n",
    "  if y == None:\n",
    "    users[record[0]] = 1\n",
    "  else:\n",
    "    users[record[0]] = y+1\n",
    "\n",
    "#but how do i do this in lambda? or in a shorter version? chat helped with this one\n",
    "# for record in set1:\n",
    "#   users[record[0]] = users.get(record[0], 0) + 1\n",
    "\n",
    "    \n",
    "\n",
    "for x, y in users.items():\n",
    "  print(x, y)"
   ]
  },
  {
   "cell_type": "code",
   "execution_count": 16,
   "id": "dcd9b573",
   "metadata": {},
   "outputs": [
    {
     "name": "stdout",
     "output_type": "stream",
     "text": [
      "Song1 4\n",
      "Song3 2\n",
      "Song2 2\n"
     ]
    }
   ],
   "source": [
    "#3. Find the most popular song(s).\n",
    "\n",
    "dict2 = {}\n",
    "\n",
    "for record in set1:\n",
    "    dict2[record[1]] = dict2[record[1]]+1 if record[1] in dict2 else 1\n",
    "\n",
    "for x, y in dict2.items():\n",
    "  print(x, y)"
   ]
  },
  {
   "cell_type": "code",
   "execution_count": null,
   "id": "488297f2",
   "metadata": {},
   "outputs": [
    {
     "name": "stdout",
     "output_type": "stream",
     "text": [
      "1. Remove duplicate play records.\n",
      " we remove the duplicates by transforming the list into a set\n",
      "the difference in lengths, play length [9] - set1 lenght [8] equals = [1]\n",
      "\n",
      "2. Track how many unique songs each user has listened to.\n",
      "if we define unique songs as in, how many nonrepetabel songs has the user listened to then:\n",
      "UserA 2\n",
      "UserD 2\n",
      "UserC 2\n",
      "UserB 2\n",
      "\n",
      "3. Find the most popular song(s).\n",
      "as there are little songs in the registry, we could either show them all:\n",
      "Song1 4\n",
      "Song3 2\n",
      "Song2 2\n"
     ]
    }
   ],
   "source": [
    "#4 output the results in a structured format\n",
    "print(\"1. Remove duplicate play records.\\n we remove the duplicates by transforming the list into a set\")\n",
    "print(f\"the difference in lengths, play length [{len(plays)}] - set1 lenght [{len(set1)}] equals = [{len(plays) - len(set1)}]\\n\")\n",
    "\n",
    "print(\"2. Track how many unique songs each user has listened to.\")\n",
    "print(\"if we define unique songs as in, how many nonrepetabel songs has the user listened to then:\")\n",
    "for x, y in users.items():\n",
    "  print(x, y)\n",
    "\n",
    "print(\"\\n3. Find the most popular song(s).\")\n",
    "print(\"as there are little songs in the registry, we could just show them all:\")\n",
    "for x, y in dict2.items():\n",
    "  print(x, y)\n",
    "\n"
   ]
  }
 ],
 "metadata": {
  "kernelspec": {
   "display_name": "Python 3 (ipykernel)",
   "language": "python",
   "name": "python3"
  },
  "language_info": {
   "codemirror_mode": {
    "name": "ipython",
    "version": 3
   },
   "file_extension": ".py",
   "mimetype": "text/x-python",
   "name": "python",
   "nbconvert_exporter": "python",
   "pygments_lexer": "ipython3",
   "version": "3.10.12"
  }
 },
 "nbformat": 4,
 "nbformat_minor": 5
}
