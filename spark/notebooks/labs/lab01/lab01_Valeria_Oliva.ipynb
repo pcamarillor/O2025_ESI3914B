{
 "cells": [
  {
   "cell_type": "markdown",
   "id": "e28c838e-ad64-4add-a8a8-df67319959c9",
   "metadata": {},
   "source": [
    "# <center> <img src=\"../../img/ITESOLogo.png\" alt=\"ITESO\" width=\"480\" height=\"130\"> </center>\n",
    "# <center> **Departamento de Electrónica, Sistemas e Informática** </center>\n",
    "---\n",
    "## <center> Program: Procesamiento de Datos Masivos  </center>\n",
    "---\n",
    "### <center> **Autumn 2025** </center>\n",
    "---\n",
    "\n",
    "**Lab 01**: Playlist analyzer\n",
    "\n",
    "**Date**: 29 / 08 / 2025\n",
    "\n",
    "**Student Name**: Ana Valeria Oliva Hernandez\n",
    "\n",
    "**Professor**: Pablo Camarillo Ramirez "
   ]
  },
  {
   "cell_type": "markdown",
   "id": "3baf0698-cfe9-4b2f-bea9-8ab838cccbff",
   "metadata": {},
   "source": [
    "#### **Description**\n",
    "You’re given listening data from a music streaming platform. Each user can listen to multiple songs, and each song can be played by multiple users."
   ]
  },
  {
   "cell_type": "markdown",
   "id": "2263434f-2c43-4413-9c56-3396d0c7f656",
   "metadata": {},
   "source": [
    "#### **Input**\n",
    "plays = [\n",
    "\n",
    "(\"UserA\", \"Song1\"),\n",
    "\n",
    "(\"UserB\", \"Song1\"),\n",
    "\n",
    "(\"UserA\", \"Song2\"),\n",
    "\n",
    "(\"UserA\", \"Song1\"),\n",
    "\n",
    "(\"UserC\", \"Song3\"),\n",
    "\n",
    "(\"UserB\", \"Song2\"),\n",
    "\n",
    "(\"UserD\", \"Song1\"),\n",
    "\n",
    "(\"UserC\", \"Song1\"),\n",
    "\n",
    "(\"UserD\", \"Song3\"),\n",
    "\n",
    "]"
   ]
  },
  {
   "cell_type": "markdown",
   "id": "69bef5c4-947f-427b-b694-56c8726d362e",
   "metadata": {},
   "source": [
    "#### **Process the data to:**"
   ]
  },
  {
   "cell_type": "markdown",
   "id": "06b40d53-e260-454f-b14e-f6311eefe870",
   "metadata": {},
   "source": [
    "1.  Remove duplicate play records."
   ]
  },
  {
   "cell_type": "code",
   "execution_count": 1,
   "id": "a7bff7cd-3c2a-4ff0-8a7e-99459fa2d06a",
   "metadata": {},
   "outputs": [],
   "source": [
    "plays = [(\"UserA\", \"Song1\"),(\"UserB\", \"Song1\"),(\"UserA\", \"Song2\"),(\"UserA\", \"Song1\"),(\"UserC\", \"Song3\"),(\"UserB\", \"Song2\"),(\"UserD\", \"Song1\"),(\"UserC\", \"Song1\"),(\"UserD\", \"Song3\"),]\n",
    "unique_plays = set(plays)"
   ]
  },
  {
   "cell_type": "markdown",
   "id": "e7fa6bd8-bb34-4f95-b18a-60534070ab2d",
   "metadata": {},
   "source": [
    "---"
   ]
  },
  {
   "cell_type": "markdown",
   "id": "68d8fbc3-8b4d-40f0-b234-8ad157e99995",
   "metadata": {},
   "source": [
    "2.  Track how many unique songs each user has listened to."
   ]
  },
  {
   "cell_type": "code",
   "execution_count": 2,
   "id": "8e45aff3-0c40-4f38-a37e-fd74301903ea",
   "metadata": {},
   "outputs": [],
   "source": [
    "user_has_listened_to = {}\n",
    "\n",
    "for user, songs in unique_plays:\n",
    "    if user not in user_has_listened_to:\n",
    "        user_has_listened_to[user] = set()\n",
    "    user_has_listened_to[user].add(songs)    "
   ]
  },
  {
   "cell_type": "markdown",
   "id": "e0148d0b-6a12-4343-a941-01c669be2129",
   "metadata": {},
   "source": [
    "---"
   ]
  },
  {
   "cell_type": "markdown",
   "id": "6e86f253-220c-4400-80ba-b06943c94daf",
   "metadata": {},
   "source": [
    "3.  Find the most popular song(s)."
   ]
  },
  {
   "cell_type": "code",
   "execution_count": 3,
   "id": "c0a8e35f-bbb5-4f1f-9724-89c28b28b376",
   "metadata": {},
   "outputs": [],
   "source": [
    "count = {}\n",
    "\n",
    "for user, song in plays:\n",
    "    if song not in count:\n",
    "        count[song] = 0\n",
    "    count[song] += 1\n",
    "\n",
    "top_count = 0\n",
    "top_songs = []\n",
    "for song, rep in count.items():\n",
    "    if rep > top_count:\n",
    "        top_songs = [song]\n",
    "        top_count = rep\n",
    "    elif top_count == rep:\n",
    "        top_songs.append(song)"
   ]
  },
  {
   "cell_type": "markdown",
   "id": "83589b19-1c77-4562-9efc-f1633f6f6cc1",
   "metadata": {},
   "source": [
    "---"
   ]
  },
  {
   "cell_type": "markdown",
   "id": "b72d2172-a688-41ef-ac1d-7ca6adf51306",
   "metadata": {},
   "source": [
    "4.  Output results in a structured format."
   ]
  },
  {
   "cell_type": "code",
   "execution_count": 7,
   "id": "fc4fc940-0c0e-4b8a-8910-903da119cae2",
   "metadata": {},
   "outputs": [
    {
     "name": "stdout",
     "output_type": "stream",
     "text": [
      "* Total de datos originales:  9\n",
      "* Total de datos únicos:  8\n",
      "* Lista de datos únicos:\n",
      "\t- UserB Song1\n",
      "\t- UserD Song1\n",
      "\t- UserD Song3\n",
      "\t- UserB Song2\n",
      "\t- UserC Song1\n",
      "\t- UserA Song2\n",
      "\t- UserC Song3\n",
      "\t- UserA Song1\n",
      "\n",
      "* Total de canciones únicas que ha escuchado cada usuario:\n",
      "\t- UserB :  2  →  {'Song2', 'Song1'}\n",
      "\t- UserD :  2  →  {'Song3', 'Song1'}\n",
      "\t- UserC :  2  →  {'Song3', 'Song1'}\n",
      "\t- UserA :  2  →  {'Song2', 'Song1'}\n",
      "\n",
      "* Total de reproducciones por canción:\n",
      "\t- Song1 :  5\n",
      "\t- Song2 :  2\n",
      "\t- Song3 :  2\n",
      "\n",
      "* La(s) más escuchada(s):  ['Song1']\n"
     ]
    }
   ],
   "source": [
    "print (\"* Total de datos originales: \", len(plays))\n",
    "print (\"* Total de datos únicos: \", len(unique_plays))\n",
    "print (\"* Lista de datos únicos:\")\n",
    "\n",
    "for user, songs in unique_plays:\n",
    "    print (\"\\t-\", user , songs)\n",
    "    \n",
    "print (\"\\n* Total de canciones únicas que ha escuchado cada usuario:\")\n",
    "for user, songs in user_has_listened_to.items():\n",
    "    print(\"\\t-\",user, \": \", len(songs), \" → \", songs )\n",
    "\n",
    "\n",
    "print (\"\\n* Total de reproducciones por canción:\")\n",
    "for song, total in count.items():\n",
    "    print(\"\\t-\",song, \": \", total)\n",
    "    \n",
    "print (\"\\n* La(s) más escuchada(s): \", top_songs)"
   ]
  },
  {
   "cell_type": "markdown",
   "id": "c768630d-914b-4aa5-96ab-819cd9d0615c",
   "metadata": {},
   "source": [
    "---"
   ]
  },
  {
   "cell_type": "code",
   "execution_count": null,
   "id": "d3de5305-efab-4f1a-9387-179ac17fbb6c",
   "metadata": {},
   "outputs": [],
   "source": []
  }
 ],
 "metadata": {
  "kernelspec": {
   "display_name": "Python 3 (ipykernel)",
   "language": "python",
   "name": "python3"
  },
  "language_info": {
   "codemirror_mode": {
    "name": "ipython",
    "version": 3
   },
   "file_extension": ".py",
   "mimetype": "text/x-python",
   "name": "python",
   "nbconvert_exporter": "python",
   "pygments_lexer": "ipython3",
   "version": "3.10.12"
  }
 },
 "nbformat": 4,
 "nbformat_minor": 5
}
