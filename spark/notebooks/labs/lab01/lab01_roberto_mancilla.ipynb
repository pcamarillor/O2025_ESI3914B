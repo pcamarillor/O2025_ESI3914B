{
 "cells": [
  {
   "cell_type": "markdown",
   "id": "b92d9622",
   "metadata": {},
   "source": [
    "# <center> <img src=\"../../img/ITESOLogo.png\" alt=\"ITESO\" width=\"480\" height=\"130\"> </center>\n",
    "# <center> **Departamento de Electrónica, Sistemas e Informática** </center>\n",
    "---\n",
    "## <center> Program: _Procesamiento de Datos Masivos_  </center>\n",
    "---\n",
    "### <center> **Autumn 2025** </center>\n",
    "---\n",
    "\n",
    "**Lab 01**: Playlist analyzer\n",
    "\n",
    "**Date**: 29 agosto 2025\n",
    "\n",
    "**Student Name**: Roberto Chávez Mancilla\n",
    "\n",
    "**Professor**: Pablo Camarillo Ramirez "
   ]
  },
  {
   "cell_type": "markdown",
   "id": "9d8e727b",
   "metadata": {},
   "source": [
    "##### Input de el data set\n",
    "Primero creamos nuestro data set de ejemplo, en este caso una lista de tuplas con las canciones reproducidas por un usuario."
   ]
  },
  {
   "cell_type": "code",
   "execution_count": 30,
   "id": "8bb80380",
   "metadata": {},
   "outputs": [
    {
     "name": "stdout",
     "output_type": "stream",
     "text": [
      "[('UserA', 'Song1'), ('UserB', 'Song1'), ('UserA', 'Song2'), ('UserA', 'Song1'), ('UserC', 'Song3'), ('UserB', 'Song2'), ('UserD', 'Song1'), ('UserC', 'Song1'), ('UserD', 'Song3'), ('UserA', 'Song4'), ('UserA', 'Song5'), ('UserA', 'Song5'), ('UserA', 'Song5'), ('UserA', 'Song5'), ('UserA', 'Song5')]\n"
     ]
    }
   ],
   "source": [
    "plays = [\n",
    "    (\"UserA\", \"Song1\"),\n",
    "    (\"UserB\", \"Song1\"),\n",
    "    (\"UserA\", \"Song2\"),\n",
    "    (\"UserA\", \"Song1\"),\n",
    "    (\"UserC\", \"Song3\"),\n",
    "    (\"UserB\", \"Song2\"),\n",
    "    (\"UserD\", \"Song1\"),\n",
    "    (\"UserC\", \"Song1\"),\n",
    "    (\"UserD\", \"Song3\"),\n",
    "    (\"UserA\", \"Song4\"),\n",
    "    (\"UserA\", \"Song5\"),\n",
    "    (\"UserA\", \"Song5\"),\n",
    "    (\"UserA\", \"Song5\"),\n",
    "    (\"UserA\", \"Song5\"),\n",
    "    (\"UserA\", \"Song5\"),\n",
    "]\n",
    "\n",
    "print(plays)"
   ]
  },
  {
   "cell_type": "markdown",
   "id": "d1110a1b",
   "metadata": {},
   "source": [
    "##### Remove duplicate play records.\n",
    "- En este caso de remover duplicados la opcion mas sencilla que se me ocurre es crear una lista de set, ya que los conjuntos no permiten elementos duplicados, por lo que al transformar la lista de esta manera automaticamente se eliminan las tuplas repetidas, sin embargo, de esta manera se pierde el orden de nuestra lista original (pero creo que en este caso no hay problema porque el lab no menciona nada sobre mantener el orden, sino solo remover los duplicados, pero en caso de querer mantener el orden existen otros metodos para hacer esto, por ejemplo, podriamos usar un diccionario y el metodo `fromkeys()` en donde las keys sean los elementos de la lista, ya que en un diccionario no puede haber keys repetidas, por lo que solo se guardaria la primera ocurrencia y de esta manera tamboen cumpliriamos con lo que se pide)"
   ]
  },
  {
   "cell_type": "code",
   "execution_count": 31,
   "id": "66b62768",
   "metadata": {},
   "outputs": [
    {
     "name": "stdout",
     "output_type": "stream",
     "text": [
      "[('UserA', 'Song1'), ('UserC', 'Song1'), ('UserA', 'Song5'), ('UserB', 'Song2'), ('UserD', 'Song3'), ('UserC', 'Song3'), ('UserB', 'Song1'), ('UserA', 'Song2'), ('UserA', 'Song4'), ('UserD', 'Song1')]\n"
     ]
    }
   ],
   "source": [
    "removed_duplicates = list(set(plays))\n",
    "print(removed_duplicates)"
   ]
  },
  {
   "cell_type": "markdown",
   "id": "87b5f99f",
   "metadata": {},
   "source": [
    "##### Track how many unique songs each user has listened to.\n",
    "- Para este ejercicio podemos crear un diccionario vacio en la que cada usuario sera la key de nuestro diccionario y el valor sera un set se canciones escuchadas por ese usuario, y pues un set nos sirve ya que guardariamos cada unique song de los usuarios (como lo mencioné en el ejercicio pasado los sets no aceptan repetidos), despues podemos crear un diccionario para contar el numero se canciones unicas que escucho el usuario."
   ]
  },
  {
   "cell_type": "code",
   "execution_count": 32,
   "id": "b378d8b9",
   "metadata": {},
   "outputs": [
    {
     "name": "stdout",
     "output_type": "stream",
     "text": [
      "{'UserA': 4, 'UserB': 2, 'UserC': 2, 'UserD': 2}\n"
     ]
    }
   ],
   "source": [
    "# primero creamos nuestro diccionario en el que tendremos el set de canciones unicas escuchdas\n",
    "# key: user , value: set de canciones unicas\n",
    "songs_by_user = {}\n",
    "for user, song in plays:\n",
    "    # si elusuario aun no esta en el diccionario se agrega con un set vacio\n",
    "    if user not in songs_by_user:\n",
    "        songs_by_user[user] = set()\n",
    "\n",
    "    # en caso de que el usuario este en el diccionario agregamos la cancion al set del usuario\n",
    "    # como sabemos los set eliminan los ducplicados, por lo que esto cumple \n",
    "    # con lo que necesitamos para el ejercicio\n",
    "    songs_by_user[user].add(song)\n",
    "\n",
    "# ahora creamos nuestro diccionario en el que contaremos el numero de canciones unicas escuchadas\n",
    "unique_songs = {}\n",
    "for user, songs in songs_by_user.items():\n",
    "    count = len(songs)              # contamos cuántas canciones únicas escuchó el usuario\n",
    "    unique_songs[user] = count  # guardamos el resultado en el nuevo diccionario\n",
    "\n",
    "print(unique_songs)"
   ]
  },
  {
   "cell_type": "markdown",
   "id": "176578ef",
   "metadata": {},
   "source": [
    "#####  Find the most popular song(s).\n",
    "- Para este ejercicio nos pide encontrar la cancion más popular, yo considero que la mas pupular es la cancion mas escuchada entre los usuarios, por lo que una solucion que se me ocurre es que, primero podríamos contar cuantas veces aparece una canción en la lista con un diccionario para guardar nuestros contadores (como lo hemos hecho con un key la cancion que es y el value la cantidad de veces que aparece la cancion en la lista), ahora necesitamos econtrar la cancion que tiene el valor mayor en el numero de veces que aparece la cancion en la lista. Por último, ya que es \"most popular *song(s)*\" podemos tener un sistema de empate en donde si tienen el mismo numero de reproducciones ambas serían las most pupular."
   ]
  },
  {
   "cell_type": "code",
   "execution_count": 33,
   "id": "b68405f7",
   "metadata": {},
   "outputs": [
    {
     "name": "stdout",
     "output_type": "stream",
     "text": [
      "Most popular song(s): ['Song1', 'Song5'] -> Listened: 5 times\n"
     ]
    }
   ],
   "source": [
    "# contamos nuestras canciones\n",
    "counter = {}\n",
    "\n",
    "for user, song in plays:\n",
    "    counter[song] = counter.get(song, 0) + 1  \n",
    "\n",
    "# despues usamos la funcion max tipica del python, para encontrar el valor maximo en nuestro diccionario\n",
    "max_count = max(counter.values())\n",
    "\n",
    "# ahora buscamos que canciones tienen ese máximo (por si hay empates)\n",
    "most_popular_songs = []\n",
    "for song, count in counter.items():\n",
    "    if count == max_count:\n",
    "        most_popular_songs.append(song)\n",
    "\n",
    "print(f\"Most popular song(s): {most_popular_songs} -> Listened: {max_count} times\")"
   ]
  }
 ],
 "metadata": {
  "kernelspec": {
   "display_name": "Python 3 (ipykernel)",
   "language": "python",
   "name": "python3"
  }
 },
 "nbformat": 4,
 "nbformat_minor": 5
}
