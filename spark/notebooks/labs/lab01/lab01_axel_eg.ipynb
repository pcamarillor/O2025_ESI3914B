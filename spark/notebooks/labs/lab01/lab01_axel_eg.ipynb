{
 "cells": [
  {
   "cell_type": "code",
   "execution_count": null,
   "id": "7dd1d3b8-8974-49c1-a9cd-a47aaea69bfe",
   "metadata": {},
   "outputs": [],
   "source": []
  },
  {
   "cell_type": "markdown",
   "id": "b92d9622",
   "metadata": {},
   "source": [
    "# <center> <img src=\"../../img/ITESOLogo.png\" alt=\"ITESO\" width=\"480\" height=\"130\"> </center>\n",
    "# <center> **Departamento de Electrónica, Sistemas e Informática** </center>\n",
    "---\n",
    "## <center> Program: _Playlist Analyzer_  </center>\n",
    "---\n",
    "### <center> **Autumn 2025** </center>\n",
    "---\n",
    "\n",
    "**Lab XX**: 1st lab\n",
    "\n",
    "**Date**: 29–August-2025\n",
    "\n",
    "**Student Name**: Axel Escoto García\n",
    "\n",
    "**Professor**: Pablo Camarillo Ramirez "
   ]
  },
  {
   "cell_type": "code",
   "execution_count": 1,
   "id": "4f2f7df1-f0d9-4ee9-8f2b-153baf1245ed",
   "metadata": {},
   "outputs": [],
   "source": [
    "plays = [\n",
    "\n",
    "(\"UserA\", \"Song1\"),\n",
    "\n",
    "(\"UserB\", \"Song1\"),\n",
    "\n",
    "(\"UserA\", \"Song2\"),\n",
    "\n",
    "(\"UserA\", \"Song1\"),\n",
    "\n",
    "(\"UserC\", \"Song3\"),\n",
    "\n",
    "(\"UserB\", \"Song2\"),\n",
    "\n",
    "(\"UserD\", \"Song1\"),\n",
    "\n",
    "(\"UserC\", \"Song1\"),\n",
    "\n",
    "(\"UserD\", \"Song3\"),\n",
    "\n",
    "]"
   ]
  },
  {
   "cell_type": "code",
   "execution_count": 7,
   "id": "93e8239a-e6a6-4aa9-9d1d-5817d5232c7f",
   "metadata": {},
   "outputs": [],
   "source": [
    "# Remove duplicate records\n",
    "# Sets are only of unique elements\n",
    "plays_unique = set(plays)"
   ]
  },
  {
   "cell_type": "code",
   "execution_count": 8,
   "id": "65e6c3b1-69d6-418d-9c15-f16048411330",
   "metadata": {},
   "outputs": [
    {
     "name": "stdout",
     "output_type": "stream",
     "text": [
      "{'UserC': 2, 'UserD': 2, 'UserA': 2, 'UserB': 2}\n"
     ]
    }
   ],
   "source": [
    "# Track how many unique songs each user has listened to.\n",
    "unique_per_user = {}\n",
    "\n",
    "# We already have unique records, so just count\n",
    "for user, song in plays_unique:\n",
    "    if user not in unique_per_user:\n",
    "        # Add the user\n",
    "        unique_per_user[user] = 0\n",
    "    unique_per_user[user] += 1\n",
    "\n",
    "print(unique_per_user)"
   ]
  },
  {
   "cell_type": "code",
   "execution_count": 15,
   "id": "47911043-1809-49ed-9f1b-8fce7a73c32c",
   "metadata": {},
   "outputs": [
    {
     "name": "stdout",
     "output_type": "stream",
     "text": [
      "{'Song3': 2, 'Song1': 4, 'Song2': 2}\n",
      "Song1\n"
     ]
    }
   ],
   "source": [
    "# Find the most popular song(s)\n",
    "\n",
    "plays_songs = {}\n",
    "for user, song in plays:\n",
    "    if song not in plays_songs:\n",
    "        plays_songs[song] = 0\n",
    "    plays_songs[song] += 1\n",
    "\n",
    "print(plays_songs)\n",
    "\n",
    "most_played = max(plays_songs, key=plays_songs.get)\n",
    "print(most_played)\n"
   ]
  },
  {
   "cell_type": "code",
   "execution_count": 18,
   "id": "32476116-4f23-4b4a-9717-26cd430bac23",
   "metadata": {},
   "outputs": [
    {
     "name": "stdout",
     "output_type": "stream",
     "text": [
      "{'plays_unique': {('UserC', 'Song3'), ('UserC', 'Song1'), ('UserD', 'Song3'), ('UserA', 'Song1'), ('UserB', 'Song1'), ('UserA', 'Song2'), ('UserB', 'Song2'), ('UserD', 'Song1')}, 'unique_per_user': {'UserC': 2, 'UserD': 2, 'UserA': 2, 'UserB': 2}, 'plays_songs': {'Song3': 2, 'Song1': 4, 'Song2': 2}, 'most_played': 'Song1'}\n"
     ]
    }
   ],
   "source": [
    "# Output results in a structured format\n",
    "print({\n",
    "    \"plays_unique\": plays_unique,\n",
    "    \"unique_per_user\": unique_per_user,\n",
    "    \"plays_songs\": plays_songs,\n",
    "    \"most_played\": most_played\n",
    "})"
   ]
  },
  {
   "cell_type": "code",
   "execution_count": null,
   "id": "7374763d-c2a9-4504-91ad-a731d7700708",
   "metadata": {},
   "outputs": [],
   "source": []
  }
 ],
 "metadata": {
  "kernelspec": {
   "display_name": "Python 3 (ipykernel)",
   "language": "python",
   "name": "python3"
  },
  "language_info": {
   "codemirror_mode": {
    "name": "ipython",
    "version": 3
   },
   "file_extension": ".py",
   "mimetype": "text/x-python",
   "name": "python",
   "nbconvert_exporter": "python",
   "pygments_lexer": "ipython3",
   "version": "3.10.12"
  }
 },
 "nbformat": 4,
 "nbformat_minor": 5
}
