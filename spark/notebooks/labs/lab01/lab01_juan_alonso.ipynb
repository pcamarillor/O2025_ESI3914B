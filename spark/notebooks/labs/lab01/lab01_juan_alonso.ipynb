{
 "cells": [
  {
   "cell_type": "markdown",
   "id": "b92d9622",
   "metadata": {},
   "source": [
    "# <center> <img src=\"../../img/ITESOLogo.png\" alt=\"ITESO\" width=\"480\" height=\"130\"> </center>\n",
    "# <center> **Departamento de Electrónica, Sistemas e Informática** </center>\n",
    "---\n",
    "## <center> Program: Lab 01 - Playlist Analyzer </center>\n",
    "---\n",
    "### <center> **Autumn 2025** </center>\n",
    "---\n",
    "\n",
    "**Lab XX**: 01\n",
    "\n",
    "**Date**: 08  / 29 / 2025\n",
    "\n",
    "**Student Name**: Juan Carlos Alonso Gonzalez\n",
    "\n",
    "**Professor**: Pablo Camarillo Ramirez "
   ]
  },
  {
   "cell_type": "code",
   "execution_count": 10,
   "id": "9ae111b1",
   "metadata": {},
   "outputs": [],
   "source": [
    "def remove_duplicates(play_records: list) -> list:\n",
    "    # You could just convert the list to a set, but let's imagine that we need to preserve the order of the elements.\n",
    "\n",
    "    non_repeat_list = []\n",
    "    \n",
    "    for record in play_records:\n",
    "         if record not in non_repeat_list:\n",
    "              non_repeat_list.append(record)\n",
    "\n",
    "    return non_repeat_list"
   ]
  },
  {
   "cell_type": "code",
   "execution_count": 3,
   "id": "a17ae30d",
   "metadata": {},
   "outputs": [],
   "source": [
    "def get_songs_per_user(play_records: list) -> dict:\n",
    "    # We'll return a dictionary were the key is the name of the user and the value is the set of all unique songs that they played.\n",
    "\n",
    "    songs_dict = {}\n",
    "    \n",
    "    for user, song in play_records:\n",
    "        if user not in songs_dict:\n",
    "            songs_dict[user] = set()\n",
    "        songs_dict[user].add(song)\n",
    "    \n",
    "    return songs_dict"
   ]
  },
  {
   "cell_type": "code",
   "execution_count": 4,
   "id": "52f7bd57",
   "metadata": {},
   "outputs": [],
   "source": [
    "def get_most_popular_songs(play_records: list) -> list:\n",
    "    # This will return a list of the most played songs and their respective count.\n",
    "    # If there is no tie, there will only be one song on the list; this assumes that the initial list has at least one record.\n",
    "    \n",
    "    song_counts = {}\n",
    "    most_played = []\n",
    "\n",
    "    for user, song in play_records:\n",
    "        song_counts[song] = song_counts.get(song, 0) + 1\n",
    "\n",
    "    max_count = max(song_counts.values())\n",
    "    for song, count in song_counts.items():\n",
    "        if count == max_count:\n",
    "            most_played.append((song, count))\n",
    "\n",
    "    return most_played"
   ]
  },
  {
   "cell_type": "code",
   "execution_count": 17,
   "id": "7d258bea",
   "metadata": {},
   "outputs": [
    {
     "name": "stdout",
     "output_type": "stream",
     "text": [
      "═════════════════════════════════════════════════════\n",
      " ✪✪✪✪✪✪✪✪✪✪✪     RESULTS     ✪✪✪✪✪✪✪✪✪✪✪✪\n",
      "═════════════════════════════════════════════════════\n",
      "Unique plays: [('UserA', 'Song1'), ('UserB', 'Song1'), ('UserA', 'Song2'), ('UserC', 'Song3'), ('UserB', 'Song2'), ('UserD', 'Song1'), ('UserC', 'Song1'), ('UserD', 'Song3')]\n",
      "\n",
      "Unique songs per user:\n",
      "  UserA: 2 songs -> {'Song1', 'Song2'}\n",
      "  UserB: 2 songs -> {'Song1', 'Song2'}\n",
      "  UserC: 2 songs -> {'Song1', 'Song3'}\n",
      "  UserD: 2 songs -> {'Song1', 'Song3'}\n",
      "\n",
      "Most popular song(s) with 4 plays:\n",
      "  Song1\n"
     ]
    }
   ],
   "source": [
    "plays = [\n",
    "(\"UserA\", \"Song1\"),\n",
    "(\"UserB\", \"Song1\"),\n",
    "(\"UserA\", \"Song2\"),\n",
    "(\"UserA\", \"Song1\"),\n",
    "(\"UserC\", \"Song3\"),\n",
    "(\"UserB\", \"Song2\"),\n",
    "(\"UserD\", \"Song1\"),\n",
    "(\"UserC\", \"Song1\"),\n",
    "(\"UserD\", \"Song3\")\n",
    "]\n",
    "\n",
    "try: \n",
    "    \n",
    "    unique_plays = remove_duplicates(plays)\n",
    "    songs_per_user = get_songs_per_user(unique_plays)\n",
    "    popular_songs = get_most_popular_songs(unique_plays)\n",
    "\n",
    "    print(\"═════════════════════════════════════════════════════\")\n",
    "    print(\" ✪✪✪✪✪✪✪✪✪✪✪     RESULTS     ✪✪✪✪✪✪✪✪✪✪✪✪\")\n",
    "    print(\"═════════════════════════════════════════════════════\")\n",
    "\n",
    "    print(\"Unique plays:\", unique_plays)\n",
    "    print(\"\\nUnique songs per user:\")\n",
    "    for user, songs in songs_per_user.items():\n",
    "        print(f\"  {user}: {len(songs)} songs -> {songs}\")\n",
    "\n",
    "\n",
    "    max_count = popular_songs[0][1]\n",
    "    print(f\"\\nMost popular song(s) with {max_count} plays:\")\n",
    "    for song, count in popular_songs:\n",
    "        print(f\"  {song}\")\n",
    "\n",
    "except Exception as e:\n",
    "    print(\"An error occurred whilst processing data, please make sure that correct arguments were sent to their respective functions!\")\n",
    "    print(f\"Error: {e}\")"
   ]
  }
 ],
 "metadata": {
  "kernelspec": {
   "display_name": "Python 3 (ipykernel)",
   "language": "python",
   "name": "python3"
  },
  "language_info": {
   "codemirror_mode": {
    "name": "ipython",
    "version": 3
   },
   "file_extension": ".py",
   "mimetype": "text/x-python",
   "name": "python",
   "nbconvert_exporter": "python",
   "pygments_lexer": "ipython3",
   "version": "3.10.12"
  }
 },
 "nbformat": 4,
 "nbformat_minor": 5
}
