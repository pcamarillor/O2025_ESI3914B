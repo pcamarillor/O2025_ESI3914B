{
 "cells": [
  {
   "cell_type": "markdown",
   "id": "b92d9622",
   "metadata": {},
   "source": [
    "# <center> <img src=\"../../img/ITESOLogo.png\" alt=\"ITESO\" width=\"480\" height=\"130\"> </center>\n",
    "# <center> **Departamento de Electrónica, Sistemas e Informática** </center>\n",
    "---\n",
    "## <center> Program: Procesamiento de datos masivos  </center>\n",
    "---\n",
    "### <center> **Autumn 2025** </center>\n",
    "---\n",
    "\n",
    "**Lab**: 01\n",
    "\n",
    "**Septiembre 01 de 2025**\n",
    "\n",
    "**Student Name**: Aura Melina Gutierrez Jimenez\n",
    "\n",
    "**Professor**: Pablo Camarillo Ramirez "
   ]
  },
  {
   "cell_type": "code",
   "execution_count": 6,
   "id": "0aeb9041",
   "metadata": {},
   "outputs": [],
   "source": [
    "plays = [\n",
    "    (\"UserA\", \"Song1\"),\n",
    "    (\"UserB\", \"Song1\"),\n",
    "    (\"UserA\", \"Song2\"),\n",
    "    (\"UserA\", \"Song1\"),\n",
    "    (\"UserC\", \"Song3\"),\n",
    "    (\"UserB\", \"Song2\"),\n",
    "    (\"UserD\", \"Song1\"),\n",
    "    (\"UserC\", \"Song1\"),\n",
    "    (\"UserD\", \"Song3\"),\n",
    "]"
   ]
  },
  {
   "cell_type": "code",
   "execution_count": 7,
   "id": "5b25ff84",
   "metadata": {},
   "outputs": [],
   "source": [
    "unique_plays = set(plays)"
   ]
  },
  {
   "cell_type": "code",
   "execution_count": 8,
   "id": "d251a206",
   "metadata": {},
   "outputs": [],
   "source": [
    "user_song_count = {}\n",
    "for user, song in unique_plays:\n",
    "    user_song_count[user] = user_song_count.get(user, set())\n",
    "    user_song_count[user].add(song)\n",
    "\n",
    "user_song_count = {user: len(songs) for user, songs in user_song_count.items()}"
   ]
  },
  {
   "cell_type": "code",
   "execution_count": 9,
   "id": "16886276",
   "metadata": {},
   "outputs": [],
   "source": [
    "song_count = {}\n",
    "for _, song in unique_plays:\n",
    "    song_count[song] = song_count.get(song, 0) + 1\n",
    "\n",
    "max_count = max(song_count.values())\n",
    "\n",
    "most_popular = [song for song, count in song_count.items() if count == max_count]\n"
   ]
  },
  {
   "cell_type": "code",
   "execution_count": 10,
   "id": "ad238934",
   "metadata": {},
   "outputs": [
    {
     "name": "stdout",
     "output_type": "stream",
     "text": [
      "Unique reproductions: {('UserD', 'Song3'), ('UserB', 'Song1'), ('UserD', 'Song1'), ('UserC', 'Song3'), ('UserB', 'Song2'), ('UserA', 'Song1'), ('UserA', 'Song2'), ('UserC', 'Song1')}\n",
      "Unique songs per user: {'UserD': 2, 'UserB': 2, 'UserC': 2, 'UserA': 2}\n",
      "Most popular songs: ['Song1']\n"
     ]
    }
   ],
   "source": [
    "print(\"Unique reproductions:\", unique_plays)\n",
    "print(\"Unique songs per user:\", user_song_count)\n",
    "print(\"Most popular songs:\", most_popular)"
   ]
  }
 ],
 "metadata": {
  "kernelspec": {
   "display_name": "Python 3",
   "language": "python",
   "name": "python3"
  },
  "language_info": {
   "codemirror_mode": {
    "name": "ipython",
    "version": 3
   },
   "file_extension": ".py",
   "mimetype": "text/x-python",
   "name": "python",
   "nbconvert_exporter": "python",
   "pygments_lexer": "ipython3",
   "version": "3.10.11"
  }
 },
 "nbformat": 4,
 "nbformat_minor": 5
}
