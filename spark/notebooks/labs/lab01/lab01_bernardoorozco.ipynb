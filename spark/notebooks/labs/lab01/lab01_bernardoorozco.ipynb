{
 "cells": [
  {
   "cell_type": "markdown",
   "id": "b92d9622",
   "metadata": {},
   "source": [
    "# <center> <img src=\"../../img/ITESOLogo.png\" alt=\"ITESO\" width=\"480\" height=\"130\"> </center>\n",
    "# <center> **Departamento de Electrónica, Sistemas e Informática** </center>\n",
    "---\n",
    "## <center> Program: _Computer Systems Engineering_  </center>\n",
    "---\n",
    "### <center> **Autumn 2025** </center>\n",
    "---\n",
    "\n",
    "**Lab**: 01\n",
    "\n",
    "**Date**: 01/09/2025\n",
    "\n",
    "**Student Name**: Juan Bernardo Orozco Quirarte\n",
    "\n",
    "**Professor**: Pablo Camarillo Ramirez "
   ]
  },
  {
   "cell_type": "markdown",
   "id": "d8b16c3b",
   "metadata": {},
   "source": [
    "# Problem Statement: Music Streaming Data\n",
    "\n",
    "You’re given listening data from a music streaming platform.  \n",
    "Each user can listen to multiple songs, and each song can be played by multiple users.\n",
    "\n",
    "Your job is to process the data to:\n",
    "\n",
    "1. Remove duplicate play records.  \n",
    "2. Track how many unique songs each user has listened to.  \n",
    "3. Find the most popular song(s).  \n",
    "4. Output results in a structured format.  "
   ]
  },
  {
   "cell_type": "code",
   "execution_count": 36,
   "id": "d8ef912c",
   "metadata": {},
   "outputs": [
    {
     "name": "stdout",
     "output_type": "stream",
     "text": [
      "Plays without duplicates:  {('UserC', 'Song1'), ('UserA', 'Song1'), ('UserB', 'Song1'), ('UserD', 'Song3'), ('UserA', 'Song2'), ('UserC', 'Song3'), ('UserB', 'Song2'), ('UserD', 'Song1')}\n",
      "Unique songs per user:  [\"UserA: {'Song1', 'Song2'}\", \"UserB: {'Song1', 'Song2'}\", \"UserC: {'Song3', 'Song1'}\", \"UserD: {'Song3', 'Song1'}\"]\n",
      "Most popular songs:  ['Song1: 5', 'Song2: 2', 'Song3: 2']\n"
     ]
    }
   ],
   "source": [
    "plays = [ (\"UserA\", \"Song1\"), (\"UserB\", \"Song1\"), (\"UserA\", \"Song2\"), (\"UserA\", \"Song1\"), (\"UserC\", \"Song3\"), (\"UserB\", \"Song2\"), (\"UserD\", \"Song1\"), (\"UserC\", \"Song1\"), (\"UserD\", \"Song3\"), ]\n",
    "plays.sort()    # Ordenamos para que se imprima bonito por usuario de A a Z... y por cancion alfabeticamente\n",
    "unique_plays=set(plays) # Hacemos un set para elminar los duplicados de la lista inicial\n",
    "\n",
    "unique_user_songs={}    # Diccionario para guardar usuario: [arreglo de canciones unicas escuchadas]\n",
    "songs_count={}      # Diccionario para fuardar canciones: count de veces escuchada\n",
    "\n",
    "most_popular_songs=[]   # Arreglo que toma las canciones de songs_count.items y las arregla por las mas escuchadas\n",
    "\n",
    "for user, song in plays:    # Ciclo for que itera sobre cada tupla en plays\n",
    "    if user not in unique_user_songs: # Si el usuario no esta en el diccionario lo agregamos como llave y como valor un set\n",
    "        unique_user_songs[user]=set()\n",
    "    unique_user_songs[user].add(song)   # Aniadimos la cancion al set, esto evita duplicados\n",
    "\n",
    "    if song not in songs_count: # Si la cancion no se encuentra en el diccionario de songs_count lo agrega como llave y como valor 1 vez escuchada\n",
    "        songs_count[song]=1\n",
    "    else:\n",
    "        songs_count[song]+=1    # Si la cancion ya se encuentra en el diccionario se le suma 1 porque se escucho otra vez\n",
    "\n",
    "top_songs= sorted(songs_count.items(), key=lambda x: x[1], reverse=True)    # Ordenamos las tuplas de los items del diccionario songs_count por canciones escuchadas\n",
    "\n",
    "\n",
    "# Imprimimos todo bonito\n",
    "print(\"Plays without duplicates: \", end=\" \")\n",
    "print(unique_plays)\n",
    "print(\"Unique songs per user: \", end=\" \")\n",
    "print([f\"{user}: {song}\" for user, song in unique_user_songs.items()])\n",
    "print(\"Most popular songs: \", end=\" \")\n",
    "print([f\"{song}: {count}\" for song, count in top_songs[:3]])    # Solo ponemos las tres mas escuchadas y podemos modificar con [:x] donde x es el numero de canciones mas escuchadas que queremos"
   ]
  }
 ],
 "metadata": {
  "kernelspec": {
   "display_name": "Python 3 (ipykernel)",
   "language": "python",
   "name": "python3"
  },
  "language_info": {
   "codemirror_mode": {
    "name": "ipython",
    "version": 3
   },
   "file_extension": ".py",
   "mimetype": "text/x-python",
   "name": "python",
   "nbconvert_exporter": "python",
   "pygments_lexer": "ipython3",
   "version": "3.10.12"
  }
 },
 "nbformat": 4,
 "nbformat_minor": 5
}
