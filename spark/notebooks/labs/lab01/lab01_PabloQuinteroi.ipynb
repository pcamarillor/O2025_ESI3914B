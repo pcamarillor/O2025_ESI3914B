{
 "cells": [
  {
   "cell_type": "code",
   "execution_count": 1,
   "id": "961037f4",
   "metadata": {},
   "outputs": [
    {
     "name": "stdout",
     "output_type": "stream",
     "text": [
      "Unique plays:\n",
      "[('UserA', 'Song1'), ('UserC', 'Song1'), ('UserD', 'Song3'), ('UserC', 'Song3'), ('UserD', 'Song1'), ('UserB', 'Song2'), ('UserB', 'Song1'), ('UserA', 'Song2')]\n",
      "\n",
      "Unique songs per user:\n",
      "{'UserA': 2, 'UserC': 2, 'UserD': 2, 'UserB': 2}\n",
      "\n",
      "Song play counts:\n",
      "Counter({'Song1': 4, 'Song3': 2, 'Song2': 2})\n",
      "\n",
      "Most popular song(s):\n",
      "['Song1']\n",
      "\n",
      "Final Results:\n",
      "{'unique_plays': [('UserA', 'Song1'), ('UserC', 'Song1'), ('UserD', 'Song3'), ('UserC', 'Song3'), ('UserD', 'Song1'), ('UserB', 'Song2'), ('UserB', 'Song1'), ('UserA', 'Song2')], 'user_unique_counts': {'UserA': 2, 'UserC': 2, 'UserD': 2, 'UserB': 2}, 'song_counts': {'Song1': 4, 'Song3': 2, 'Song2': 2}, 'most_popular_songs': ['Song1']}\n"
     ]
    }
   ],
   "source": [
    "# Lab 01 - PabloQuintero\n",
    "\n",
    "\n",
    "plays = [\n",
    "    (\"UserA\", \"Song1\"),\n",
    "    (\"UserB\", \"Song1\"),\n",
    "    (\"UserA\", \"Song2\"),\n",
    "    (\"UserA\", \"Song1\"),\n",
    "    (\"UserC\", \"Song3\"),\n",
    "    (\"UserB\", \"Song2\"),\n",
    "    (\"UserD\", \"Song1\"),\n",
    "    (\"UserC\", \"Song1\"),\n",
    "    (\"UserD\", \"Song3\"),\n",
    "]\n",
    "\n",
    "\n",
    "unique_plays = list(set(plays))\n",
    "print(\"Unique plays:\")\n",
    "print(unique_plays)\n",
    "\n",
    "\n",
    "from collections import defaultdict\n",
    "\n",
    "user_songs = defaultdict(set)\n",
    "for user, song in unique_plays:\n",
    "    user_songs[user].add(song)\n",
    "\n",
    "user_unique_counts = {user: len(songs) for user, songs in user_songs.items()}\n",
    "print(\"\\nUnique songs per user:\")\n",
    "print(user_unique_counts)\n",
    "\n",
    "\n",
    "from collections import Counter\n",
    "\n",
    "song_counts = Counter([song for _, song in unique_plays])\n",
    "max_count = max(song_counts.values())\n",
    "most_popular = [song for song, count in song_counts.items() if count == max_count]\n",
    "\n",
    "print(\"\\nSong play counts:\")\n",
    "print(song_counts)\n",
    "print(\"\\nMost popular song(s):\")\n",
    "print(most_popular)\n",
    "results = {\n",
    "    \"unique_plays\": unique_plays,\n",
    "    \"user_unique_counts\": user_unique_counts,\n",
    "    \"song_counts\": dict(song_counts),\n",
    "    \"most_popular_songs\": most_popular,\n",
    "}\n",
    "\n",
    "print(\"\\nFinal Results:\")\n",
    "print(results)\n"
   ]
  }
 ],
 "metadata": {
  "kernelspec": {
   "display_name": "Python 3",
   "language": "python",
   "name": "python3"
  },
  "language_info": {
   "codemirror_mode": {
    "name": "ipython",
    "version": 3
   },
   "file_extension": ".py",
   "mimetype": "text/x-python",
   "name": "python",
   "nbconvert_exporter": "python",
   "pygments_lexer": "ipython3",
   "version": "3.12.2"
  }
 },
 "nbformat": 4,
 "nbformat_minor": 5
}
