{
 "cells": [
  {
   "cell_type": "markdown",
   "id": "b92d9622",
   "metadata": {},
   "source": [
    "# <center> <img src=\"../../img/ITESOLogo.png\" alt=\"ITESO\" width=\"480\" height=\"130\"> </center>\n",
    "# <center> **Departamento de Electrónica, Sistemas e Informática** </center>\n",
    "---\n",
    "## <center> Computer Systems Engineering  </center>\n",
    "---\n",
    "### <center> Big Data Processing </center>\n",
    "---\n",
    "#### <center> **Autumn 2025** </center>\n",
    "---\n",
    "\n",
    "**Lab 06**: Data pipeline with Neo4j\n",
    "\n",
    "**Date**: October 5nd 2025\n",
    "\n",
    "**Student Name**: José Alfredo Calvillo Gómez\n",
    "\n",
    "**Professor**: Pablo Camarillo Ramirez"
   ]
  },
  {
   "cell_type": "markdown",
   "id": "7893c817",
   "metadata": {},
   "source": [
    "# Dataset description\n",
    "\n",
    "El dataset utilizado proviene de **Kaggle** y contiene relaciones entre usuarios de una red social. El archivo **facebook_combined.txt** está compuesto por dos columnas: **source** y **destination**, que representan las relaciones de amistad entre los usuarios. \n",
    "\n",
    "- **Nodos**: Son los usuarios de la red social (representados en las columnas **source** y **destination**).\n",
    "- **Aristas**: Son las relaciones de amistad entre los usuarios. Cada fila indica que el usuario en la columna **source** es amigo del usuario en la columna **destination**.\n",
    "\n",
    "Este dataset es adecuado para realizar un análisis de grafos, donde se pueden identificar patrones de conexiones, comunidades y otras características de las relaciones entre los usuarios.\n"
   ]
  },
  {
   "cell_type": "markdown",
   "id": "9b2e84c3",
   "metadata": {},
   "source": [
    "# Data ingestion"
   ]
  },
  {
   "cell_type": "code",
   "execution_count": null,
   "id": "ed17a0b0",
   "metadata": {},
   "outputs": [],
   "source": [
    "# Data Ingestion\n",
    "\n",
    "# Inicialización de findspark para encontrar Spark\n",
    "import findspark\n",
    "findspark.init()\n",
    "\n",
    "# Importar la librería necesaria para PySpark\n",
    "from pyspark.sql import SparkSession\n",
    "\n",
    "# Iniciar la sesión de Spark\n",
    "spark = SparkSession.builder \\\n",
    "    .appName(\"Examples on SparkSQL\") \\\n",
    "    .master(\"spark://spark-master:7077\") \\  # Asegúrate de que esto esté correcto\n",
    "    .config(\"spark.ui.port\", \"4040\") \\\n",
    "    .getOrCreate()\n",
    "\n",
    "# Establecer el contexto de Spark\n",
    "sc = spark.sparkContext\n",
    "sc.setLogLevel(\"ERROR\")\n",
    "\n",
    "# Leer el archivo facebook_combined.txt\n",
    "file_path = '/mnt/data/ego-Facebook/facebook_combined.txt'\n",
    "\n",
    "# Cargar el archivo como un DataFrame de PySpark\n",
    "edges_df = spark.read.text(file_path)\n",
    "\n",
    "# Mostrar las primeras filas para entender la estructura\n",
    "edges_df.show(5)\n"
   ]
  },
  {
   "cell_type": "code",
   "execution_count": null,
   "id": "a93cd621",
   "metadata": {},
   "outputs": [],
   "source": [
    "# Build schema\n",
    "# Import your module\n"
   ]
  },
  {
   "cell_type": "markdown",
   "id": "372e82d5",
   "metadata": {},
   "source": [
    "# Transformations"
   ]
  },
  {
   "cell_type": "code",
   "execution_count": null,
   "id": "000b6d0d",
   "metadata": {},
   "outputs": [],
   "source": [
    "from pyspark.sql.functions import split\n",
    "\n",
    "# Separar las columnas de origen y destino\n",
    "edges_df = edges_df.withColumn('src', split(edges_df['value'], ' ').getItem(0)) \\\n",
    "                   .withColumn('dst', split(edges_df['value'], ' ').getItem(1)) \\\n",
    "                   .select('src', 'dst')\n",
    "\n",
    "# Mostrar las primeras filas después de la transformación\n",
    "edges_df.show(5)\n",
    "\n",
    "# Crear un DataFrame de nodos a partir de las columnas src y dst\n",
    "nodes_df = edges_df.select('src').union(edges_df.select('dst')).distinct()\n",
    "\n",
    "# Mostrar los primeros nodos\n",
    "nodes_df.show(5)\n"
   ]
  },
  {
   "cell_type": "markdown",
   "id": "e3a68775",
   "metadata": {},
   "source": [
    "# Writing Data in Neo4j"
   ]
  },
  {
   "cell_type": "code",
   "execution_count": null,
   "id": "d01d7a89",
   "metadata": {},
   "outputs": [],
   "source": [
    "# Writing Data in Neo4j\n",
    "\n",
    "# Escribir nodos en Neo4j\n",
    "nodes_df.write \\\n",
    "    .format(\"neo4j\") \\\n",
    "    .option(\"url\", \"bolt://localhost:7687\") \\\n",
    "    .option(\"authentication.basic.username\", \"neo4j\") \\\n",
    "    .option(\"authentication.basic.password\", \"neo4j@1234\") \\\n",
    "    .mode(\"overwrite\") \\\n",
    "    .option(\"node.label\", \"User\") \\\n",
    "    .save()\n",
    "\n",
    "# Escribir aristas en Neo4j\n",
    "edges_df.write \\\n",
    "    .format(\"neo4j\") \\\n",
    "    .option(\"url\", \"bolt://localhost:7687\") \\\n",
    "    .option(\"authentication.basic.username\", \"neo4j\") \\\n",
    "    .option(\"authentication.basic.password\", \"neo4j@1234\") \\\n",
    "    .mode(\"overwrite\") \\\n",
    "    .option(\"relationship.type\", \"FRIEND\") \\\n",
    "    .option(\"relationship.source.start\", \"src\") \\\n",
    "    .option(\"relationship.target.end\", \"dst\") \\\n",
    "    .save()\n"
   ]
  },
  {
   "cell_type": "markdown",
   "id": "f30287ea",
   "metadata": {},
   "source": [
    "# Read and Query Graphs with PySpark"
   ]
  },
  {
   "cell_type": "code",
   "execution_count": null,
   "id": "03ca7b56",
   "metadata": {},
   "outputs": [],
   "source": [
    "# Querying the graph\n",
    "\n",
    "query = \"MATCH (u:User)-[r:FRIEND]->(v:User) RETURN u.name, v.name LIMIT 5\"\n",
    "\n",
    "# Leer desde Neo4j\n",
    "result_df = spark.read \\\n",
    "    .format(\"neo4j\") \\\n",
    "    .option(\"url\", \"bolt://localhost:7687\") \\\n",
    "    .option(\"authentication.basic.username\", \"neo4j\") \\\n",
    "    .option(\"authentication.basic.password\", \"neo4j@1234\") \\\n",
    "    .option(\"query\", query) \\\n",
    "    .load()\n",
    "\n",
    "result_df.show()\n"
   ]
  },
  {
   "cell_type": "code",
   "execution_count": null,
   "id": "9078a7dd",
   "metadata": {},
   "outputs": [],
   "source": [
    "sc.stop()"
   ]
  }
 ],
 "metadata": {
  "kernelspec": {
   "display_name": "Python 3 (ipykernel)",
   "language": "python",
   "name": "python3"
  },
  "language_info": {
   "codemirror_mode": {
    "name": "ipython",
    "version": 3
   },
   "file_extension": ".py",
   "mimetype": "text/x-python",
   "name": "python",
   "nbconvert_exporter": "python",
   "pygments_lexer": "ipython3",
   "version": "3.10.12"
  }
 },
 "nbformat": 4,
 "nbformat_minor": 5
}
