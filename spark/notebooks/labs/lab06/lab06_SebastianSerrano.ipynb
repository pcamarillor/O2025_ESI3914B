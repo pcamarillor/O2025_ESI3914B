{
 "cells": [
  {
   "cell_type": "markdown",
   "id": "b92d9622",
   "metadata": {},
   "source": [
    "# <center> <img src=\"../../img/ITESOLogo.png\" alt=\"ITESO\" width=\"480\" height=\"130\"> </center>\n",
    "# <center> **Departamento de Electrónica, Sistemas e Informática** </center>\n",
    "---\n",
    "## <center> Computer Systems Engineering  </center>\n",
    "---\n",
    "### <center> Big Data Processing </center>\n",
    "---\n",
    "#### <center> **Autumn 2025** </center>\n",
    "---\n",
    "\n",
    "**Lab 05**: Data pipeline with Neo4j\n",
    "\n",
    "**Date**: October 2nd 2025\n",
    "\n",
    "**Student Name**:\n",
    "\n",
    "**Professor**: Pablo Camarillo Ramirez"
   ]
  },
  {
   "cell_type": "markdown",
   "id": "7893c817",
   "metadata": {},
   "source": [
    "# Dataset description"
   ]
  },
  {
   "cell_type": "markdown",
   "id": "9b2e84c3",
   "metadata": {},
   "source": [
    "# Data ingestion"
   ]
  },
  {
   "cell_type": "code",
   "execution_count": 3,
   "id": "ed17a0b0",
   "metadata": {},
   "outputs": [
    {
     "name": "stderr",
     "output_type": "stream",
     "text": [
      "WARNING: Using incubator modules: jdk.incubator.vector\n",
      ":: loading settings :: url = jar:file:/opt/spark/jars/ivy-2.5.3.jar!/org/apache/ivy/core/settings/ivysettings.xml\n",
      "Ivy Default Cache set to: /root/.ivy2.5.2/cache\n",
      "The jars for the packages stored in: /root/.ivy2.5.2/jars\n",
      "org.neo4j#neo4j-connector-apache-spark_2.13 added as a dependency\n",
      ":: resolving dependencies :: org.apache.spark#spark-submit-parent-699bdc11-c7d0-4bc4-b708-098d59a6bcb1;1.0\n",
      "\tconfs: [default]\n",
      "\tfound org.neo4j#neo4j-connector-apache-spark_2.13;5.3.10_for_spark_3 in central\n",
      "\tfound org.neo4j#neo4j-connector-apache-spark_2.13_common;5.3.10_for_spark_3 in central\n",
      "\tfound org.neo4j#caniuse-core;1.3.0 in central\n",
      "\tfound org.neo4j#caniuse-api;1.3.0 in central\n",
      "\tfound org.jetbrains.kotlin#kotlin-stdlib;2.1.20 in central\n",
      "\tfound org.jetbrains#annotations;13.0 in central\n",
      "\tfound org.neo4j#caniuse-neo4j-detection;1.3.0 in central\n",
      "\tfound org.neo4j.driver#neo4j-java-driver-slim;4.4.21 in central\n",
      "\tfound org.reactivestreams#reactive-streams;1.0.4 in central\n",
      "\tfound io.netty#netty-handler;4.1.127.Final in central\n",
      "\tfound io.netty#netty-common;4.1.127.Final in central\n",
      "\tfound io.netty#netty-resolver;4.1.127.Final in central\n",
      "\tfound io.netty#netty-buffer;4.1.127.Final in central\n",
      "\tfound io.netty#netty-transport;4.1.127.Final in central\n",
      "\tfound io.netty#netty-transport-native-unix-common;4.1.127.Final in central\n",
      "\tfound io.netty#netty-codec;4.1.127.Final in central\n",
      "\tfound io.netty#netty-tcnative-classes;2.0.73.Final in central\n",
      "\tfound io.projectreactor#reactor-core;3.6.11 in central\n",
      "\tfound org.neo4j#neo4j-cypher-dsl;2022.11.0 in central\n",
      "\tfound org.apiguardian#apiguardian-api;1.1.2 in central\n",
      "\tfound org.neo4j.connectors#commons-authn-spi;1.0.0-rc2 in central\n",
      "\tfound org.neo4j.connectors#commons-reauth-driver;1.0.0-rc2 in central\n",
      "\tfound org.slf4j#slf4j-api;2.0.17 in central\n",
      "\tfound org.neo4j.connectors#commons-authn-provided;1.0.0-rc2 in central\n",
      ":: resolution report :: resolve 430ms :: artifacts dl 11ms\n",
      "\t:: modules in use:\n",
      "\tio.netty#netty-buffer;4.1.127.Final from central in [default]\n",
      "\tio.netty#netty-codec;4.1.127.Final from central in [default]\n",
      "\tio.netty#netty-common;4.1.127.Final from central in [default]\n",
      "\tio.netty#netty-handler;4.1.127.Final from central in [default]\n",
      "\tio.netty#netty-resolver;4.1.127.Final from central in [default]\n",
      "\tio.netty#netty-tcnative-classes;2.0.73.Final from central in [default]\n",
      "\tio.netty#netty-transport;4.1.127.Final from central in [default]\n",
      "\tio.netty#netty-transport-native-unix-common;4.1.127.Final from central in [default]\n",
      "\tio.projectreactor#reactor-core;3.6.11 from central in [default]\n",
      "\torg.apiguardian#apiguardian-api;1.1.2 from central in [default]\n",
      "\torg.jetbrains#annotations;13.0 from central in [default]\n",
      "\torg.jetbrains.kotlin#kotlin-stdlib;2.1.20 from central in [default]\n",
      "\torg.neo4j#caniuse-api;1.3.0 from central in [default]\n",
      "\torg.neo4j#caniuse-core;1.3.0 from central in [default]\n",
      "\torg.neo4j#caniuse-neo4j-detection;1.3.0 from central in [default]\n",
      "\torg.neo4j#neo4j-connector-apache-spark_2.13;5.3.10_for_spark_3 from central in [default]\n",
      "\torg.neo4j#neo4j-connector-apache-spark_2.13_common;5.3.10_for_spark_3 from central in [default]\n",
      "\torg.neo4j#neo4j-cypher-dsl;2022.11.0 from central in [default]\n",
      "\torg.neo4j.connectors#commons-authn-provided;1.0.0-rc2 from central in [default]\n",
      "\torg.neo4j.connectors#commons-authn-spi;1.0.0-rc2 from central in [default]\n",
      "\torg.neo4j.connectors#commons-reauth-driver;1.0.0-rc2 from central in [default]\n",
      "\torg.neo4j.driver#neo4j-java-driver-slim;4.4.21 from central in [default]\n",
      "\torg.reactivestreams#reactive-streams;1.0.4 from central in [default]\n",
      "\torg.slf4j#slf4j-api;2.0.17 from central in [default]\n",
      "\t---------------------------------------------------------------------\n",
      "\t|                  |            modules            ||   artifacts   |\n",
      "\t|       conf       | number| search|dwnlded|evicted|| number|dwnlded|\n",
      "\t---------------------------------------------------------------------\n",
      "\t|      default     |   24  |   0   |   0   |   0   ||   24  |   0   |\n",
      "\t---------------------------------------------------------------------\n",
      ":: retrieving :: org.apache.spark#spark-submit-parent-699bdc11-c7d0-4bc4-b708-098d59a6bcb1\n",
      "\tconfs: [default]\n",
      "\t0 artifacts copied, 24 already retrieved (0kB/7ms)\n",
      "25/10/05 02:44:05 WARN NativeCodeLoader: Unable to load native-hadoop library for your platform... using builtin-java classes where applicable\n",
      "Using Spark's default log4j profile: org/apache/spark/log4j2-defaults.properties\n",
      "Setting default log level to \"WARN\".\n",
      "To adjust logging level use sc.setLogLevel(newLevel). For SparkR, use setLogLevel(newLevel).\n"
     ]
    }
   ],
   "source": [
    "import findspark\n",
    "findspark.init()\n",
    "\n",
    "from pyspark.sql import SparkSession\n",
    "\n",
    "spark = SparkSession.builder \\\n",
    "    .appName(\"Examples on SparkSQL\") \\\n",
    "    .master(\"spark://spark-master:7077\") \\\n",
    "    .config(\"spark.jars.packages\", \"org.neo4j:neo4j-connector-apache-spark_2.13:5.3.10_for_spark_3\") \\\n",
    "    .config(\"spark.ui.port\", \"4040\") \\\n",
    "    .getOrCreate()\n",
    "\n",
    "sc = spark.sparkContext\n",
    "sc.setLogLevel(\"ERROR\")"
   ]
  },
  {
   "cell_type": "code",
   "execution_count": 4,
   "id": "a93cd621",
   "metadata": {},
   "outputs": [
    {
     "name": "stderr",
     "output_type": "stream",
     "text": [
      "[Stage 0:>                                                          (0 + 1) / 1]"
     ]
    },
    {
     "name": "stdout",
     "output_type": "stream",
     "text": [
      "+---+--------------------+------+------+-----+---+------+-------+-------+-------+-----+\n",
      "|  #|                Name|Type 1|Type 2|Total| HP|Attack|Defense|Sp. Atk|Sp. Def|Speed|\n",
      "+---+--------------------+------+------+-----+---+------+-------+-------+-------+-----+\n",
      "|  1|           Bulbasaur| Grass|Poison|  318| 45|    49|     49|     65|     65|   45|\n",
      "|  2|             Ivysaur| Grass|Poison|  405| 60|    62|     63|     80|     80|   60|\n",
      "|  3|            Venusaur| Grass|Poison|  525| 80|    82|     83|    100|    100|   80|\n",
      "|  3|VenusaurMega Venu...| Grass|Poison|  625| 80|   100|    123|    122|    120|   80|\n",
      "|  4|          Charmander|  Fire|  NULL|  309| 39|    52|     43|     60|     50|   65|\n",
      "+---+--------------------+------+------+-----+---+------+-------+-------+-------+-----+\n",
      "only showing top 5 rows\n"
     ]
    },
    {
     "name": "stderr",
     "output_type": "stream",
     "text": [
      "                                                                                "
     ]
    }
   ],
   "source": [
    "# Build schema\n",
    "# Import your module\n",
    "from pcamarillor.spark_utils import SparkUtils\n",
    "\n",
    "pokemon_schema_columns = [\n",
    "    (\"#\", \"int\"),\n",
    "    (\"Name\", \"string\"),\n",
    "    (\"Type 1\", \"string\"),\n",
    "    (\"Type 2\", \"string\"),\n",
    "    (\"Total\", \"int\"),\n",
    "    (\"HP\", \"int\"),\n",
    "    (\"Attack\", \"int\"),\n",
    "    (\"Defense\", \"int\"),\n",
    "    (\"Sp. Atk\", \"int\"),\n",
    "    (\"Sp. Def\", \"int\"),\n",
    "    (\"Speed\", \"int\")\n",
    "]\n",
    "\n",
    "pokemon_schema = SparkUtils.generate_schema(pokemon_schema_columns)\n",
    "\n",
    "pokemon_df = spark.read \\\n",
    "    .option(\"header\", \"true\") \\\n",
    "    .schema(pokemon_schema) \\\n",
    "    .csv(\"/opt/spark/work-dir/data/pokemon/Pokemon.csv\")\n",
    "\n",
    "pokemon_df.show(5)"
   ]
  },
  {
   "cell_type": "markdown",
   "id": "372e82d5",
   "metadata": {},
   "source": [
    "# Transformations"
   ]
  },
  {
   "cell_type": "code",
   "execution_count": 13,
   "id": "000b6d0d",
   "metadata": {},
   "outputs": [
    {
     "name": "stdout",
     "output_type": "stream",
     "text": [
      "+---+--------------------+-----+---+------+-------+------+------+-----+\n",
      "| id|                name|Total| HP|Attack|Defense|sp_atk|sp_def|Speed|\n",
      "+---+--------------------+-----+---+------+-------+------+------+-----+\n",
      "|  1|           Bulbasaur|  318| 45|    49|     49|    65|    65|   45|\n",
      "|  2|             Ivysaur|  405| 60|    62|     63|    80|    80|   60|\n",
      "|  3|            Venusaur|  525| 80|    82|     83|   100|   100|   80|\n",
      "|  3|VenusaurMega Venu...|  625| 80|   100|    123|   122|   120|   80|\n",
      "|  4|          Charmander|  309| 39|    52|     43|    60|    50|   65|\n",
      "|  5|          Charmeleon|  405| 58|    64|     58|    80|    65|   80|\n",
      "|  6|           Charizard|  534| 78|    84|     78|   109|    85|  100|\n",
      "|  6|CharizardMega Cha...|  634| 78|   130|    111|   130|    85|  100|\n",
      "|  6|CharizardMega Cha...|  634| 78|   104|     78|   159|   115|  100|\n",
      "|  7|            Squirtle|  314| 44|    48|     65|    50|    64|   43|\n",
      "|  8|           Wartortle|  405| 59|    63|     80|    65|    80|   58|\n",
      "|  9|           Blastoise|  530| 79|    83|    100|    85|   105|   78|\n",
      "|  9|BlastoiseMega Bla...|  630| 79|   103|    120|   135|   115|   78|\n",
      "| 10|            Caterpie|  195| 45|    30|     35|    20|    20|   45|\n",
      "| 11|             Metapod|  205| 50|    20|     55|    25|    25|   30|\n",
      "| 12|          Butterfree|  395| 60|    45|     50|    90|    80|   70|\n",
      "| 13|              Weedle|  195| 40|    35|     30|    20|    20|   50|\n",
      "| 14|              Kakuna|  205| 45|    25|     50|    25|    25|   35|\n",
      "| 15|            Beedrill|  395| 65|    90|     40|    45|    80|   75|\n",
      "| 15|BeedrillMega Beed...|  495| 65|   150|     40|    15|    80|  145|\n",
      "+---+--------------------+-----+---+------+-------+------+------+-----+\n",
      "only showing top 20 rows\n",
      "+--------+\n",
      "|    name|\n",
      "+--------+\n",
      "|   Water|\n",
      "|  Poison|\n",
      "|   Steel|\n",
      "|    Rock|\n",
      "|     Ice|\n",
      "|   Ghost|\n",
      "|   Fairy|\n",
      "| Psychic|\n",
      "|  Dragon|\n",
      "|  Flying|\n",
      "|     Bug|\n",
      "|Electric|\n",
      "|    Fire|\n",
      "|  Ground|\n",
      "|    Dark|\n",
      "|Fighting|\n",
      "|   Grass|\n",
      "|  Normal|\n",
      "+--------+\n",
      "\n",
      "+--------------------+-----+\n",
      "|                 src|  dst|\n",
      "+--------------------+-----+\n",
      "|           Bulbasaur|Grass|\n",
      "|             Ivysaur|Grass|\n",
      "|            Venusaur|Grass|\n",
      "|VenusaurMega Venu...|Grass|\n",
      "|          Charmander| Fire|\n",
      "|          Charmeleon| Fire|\n",
      "|           Charizard| Fire|\n",
      "|CharizardMega Cha...| Fire|\n",
      "|CharizardMega Cha...| Fire|\n",
      "|            Squirtle|Water|\n",
      "|           Wartortle|Water|\n",
      "|           Blastoise|Water|\n",
      "|BlastoiseMega Bla...|Water|\n",
      "|            Caterpie|  Bug|\n",
      "|             Metapod|  Bug|\n",
      "|          Butterfree|  Bug|\n",
      "|              Weedle|  Bug|\n",
      "|              Kakuna|  Bug|\n",
      "|            Beedrill|  Bug|\n",
      "|BeedrillMega Beed...|  Bug|\n",
      "+--------------------+-----+\n",
      "only showing top 20 rows\n",
      "+--------------------+------+\n",
      "|                 src|   dst|\n",
      "+--------------------+------+\n",
      "|           Bulbasaur|Poison|\n",
      "|             Ivysaur|Poison|\n",
      "|            Venusaur|Poison|\n",
      "|VenusaurMega Venu...|Poison|\n",
      "|           Charizard|Flying|\n",
      "|CharizardMega Cha...|Dragon|\n",
      "|CharizardMega Cha...|Flying|\n",
      "|          Butterfree|Flying|\n",
      "|              Weedle|Poison|\n",
      "|              Kakuna|Poison|\n",
      "|            Beedrill|Poison|\n",
      "|BeedrillMega Beed...|Poison|\n",
      "|              Pidgey|Flying|\n",
      "|           Pidgeotto|Flying|\n",
      "|             Pidgeot|Flying|\n",
      "| PidgeotMega Pidgeot|Flying|\n",
      "|             Spearow|Flying|\n",
      "|              Fearow|Flying|\n",
      "|           Nidoqueen|Ground|\n",
      "|            Nidoking|Ground|\n",
      "+--------------------+------+\n",
      "only showing top 20 rows\n"
     ]
    }
   ],
   "source": [
    "# Add the code for your transformations to create nodes and edges DataFrames HERE\n",
    "from pyspark.sql.functions import col\n",
    "\n",
    "pokemon_nodes = pokemon_df.select(\n",
    "    col(\"#\").alias(\"id\"),\n",
    "    col(\"Name\").alias(\"name\"),\n",
    "    col(\"Total\"),\n",
    "    col(\"HP\"),\n",
    "    col(\"Attack\"),\n",
    "    col(\"Defense\"),\n",
    "    col(\"`Sp. Atk`\").alias(\"sp_atk\"),\n",
    "    col(\"`Sp. Def`\").alias(\"sp_def\"),\n",
    "    col(\"Speed\")\n",
    ")\n",
    "pokemon_nodes.show()\n",
    "\n",
    "type_nodes = pokemon_df.select(\n",
    "    col(\"Type 1\").alias(\"name\")\n",
    ").union(\n",
    "    pokemon_df.select(col(\"Type 2\").alias(\"name\"))\n",
    ").dropna().dropDuplicates([\"name\"])\n",
    "type_nodes.show()\n",
    "\n",
    "edges_type1 = pokemon_df.select(\n",
    "    col(\"Name\").alias(\"src\"),\n",
    "    col(\"Type 1\").alias(\"dst\")\n",
    ")\n",
    "edges_type1.show()\n",
    "\n",
    "edges_type2 = pokemon_df.select(\n",
    "    col(\"Name\").alias(\"src\"),\n",
    "    col(\"Type 2\").alias(\"dst\")\n",
    ").filter(col(\"Type 2\").isNotNull())\n",
    "edges_type2.show()\n"
   ]
  },
  {
   "cell_type": "markdown",
   "id": "e3a68775",
   "metadata": {},
   "source": [
    "# Writing Data in Neo4j"
   ]
  },
  {
   "cell_type": "code",
   "execution_count": 14,
   "id": "d01d7a89",
   "metadata": {},
   "outputs": [
    {
     "name": "stderr",
     "output_type": "stream",
     "text": [
      "                                                                                "
     ]
    },
    {
     "name": "stdout",
     "output_type": "stream",
     "text": [
      "800 pokemon nodes wrote in Neo4j\n",
      "18 type nodes wrote in Neo4j\n"
     ]
    },
    {
     "name": "stderr",
     "output_type": "stream",
     "text": [
      "                                                                                "
     ]
    },
    {
     "name": "stdout",
     "output_type": "stream",
     "text": [
      "1214 type edges wrote in Neo4j\n"
     ]
    }
   ],
   "source": [
    "# Add the code to write a graph from PySpark's DataFrames to Neo4j\n",
    "neo4j_url = \"bolt://neo4j-iteso:7687\"\n",
    "neo4j_user = \"neo4j\"\n",
    "neo4j_passwd = \"neo4j@1234\"\n",
    "\n",
    "pokemon_nodes.write \\\n",
    "    .format(\"org.neo4j.spark.DataSource\") \\\n",
    "    .mode(\"Overwrite\") \\\n",
    "    .option(\"url\", neo4j_url) \\\n",
    "    .option(\"authentication.basic.username\", neo4j_user) \\\n",
    "    .option(\"authentication.basic.password\", neo4j_passwd) \\\n",
    "    .option(\"labels\", \":Pokemon\") \\\n",
    "    .option(\"node.keys\", \"id\") \\\n",
    "    .save()\n",
    "print(f\"{pokemon_nodes.count()} pokemon nodes wrote in Neo4j\")\n",
    "\n",
    "type_nodes.write \\\n",
    "    .format(\"org.neo4j.spark.DataSource\") \\\n",
    "    .mode(\"Overwrite\") \\\n",
    "    .option(\"url\", neo4j_url) \\\n",
    "    .option(\"authentication.basic.username\", neo4j_user) \\\n",
    "    .option(\"authentication.basic.password\", neo4j_passwd) \\\n",
    "    .option(\"labels\", \":Type\") \\\n",
    "    .option(\"node.keys\", \"name\") \\\n",
    "    .save()\n",
    "print(f\"{type_nodes.count()} type nodes wrote in Neo4j\")\n",
    "\n",
    "type_edges.write \\\n",
    "    .format(\"org.neo4j.spark.DataSource\") \\\n",
    "    .mode(\"Overwrite\") \\\n",
    "    .option(\"url\", neo4j_url) \\\n",
    "    .option(\"authentication.basic.username\", neo4j_user) \\\n",
    "    .option(\"authentication.basic.password\", neo4j_passwd) \\\n",
    "    .option(\"relationship\", \"HAS_TYPE\") \\\n",
    "    .option(\"relationship.save.strategy\", \"keys\") \\\n",
    "    .option(\"relationship.source.labels\", \":Pokemon\") \\\n",
    "    .option(\"relationship.source.save.mode\", \"match\") \\\n",
    "    .option(\"relationship.source.node.keys\", \"src:name\") \\\n",
    "    .option(\"relationship.target.labels\", \":Type\") \\\n",
    "    .option(\"relationship.target.save.mode\", \"match\") \\\n",
    "    .option(\"relationship.target.node.keys\", \"dst:name\") \\\n",
    "    .save()\n",
    "print(f\"{type_edges.count()} type edges wrote in Neo4j\")\n"
   ]
  },
  {
   "cell_type": "markdown",
   "id": "f30287ea",
   "metadata": {},
   "source": [
    "# Read and Query Graphs with PySpark"
   ]
  },
  {
   "cell_type": "code",
   "execution_count": 16,
   "id": "03ca7b56",
   "metadata": {},
   "outputs": [
    {
     "name": "stdout",
     "output_type": "stream",
     "text": [
      "+--------------------+-------+\n",
      "|             pokemon|   type|\n",
      "+--------------------+-------+\n",
      "|AbomasnowMega Abo...|    Ice|\n",
      "|AbomasnowMega Abo...|  Grass|\n",
      "|                Abra|Psychic|\n",
      "|     AbsolMega Absol|   Dark|\n",
      "|            Accelgor|    Bug|\n",
      "|AegislashShield F...|  Ghost|\n",
      "|AegislashShield F...|  Steel|\n",
      "|AerodactylMega Ae...| Flying|\n",
      "|AerodactylMega Ae...|   Rock|\n",
      "|   AggronMega Aggron|  Steel|\n",
      "|               Aipom| Normal|\n",
      "|AlakazamMega Alak...|Psychic|\n",
      "|           Alomomola|  Water|\n",
      "| AltariaMega Altaria|  Fairy|\n",
      "| AltariaMega Altaria| Dragon|\n",
      "|              Amaura|    Ice|\n",
      "|              Amaura|   Rock|\n",
      "|             Ambipom| Normal|\n",
      "|           Amoonguss| Poison|\n",
      "|           Amoonguss|  Grass|\n",
      "+--------------------+-------+\n",
      "only showing top 20 rows\n"
     ]
    }
   ],
   "source": [
    "# Add the code to read a data frame from Neo4J and run a simple query to verify\n",
    "\n",
    "pokemon_types_df = spark.read \\\n",
    "    .format(\"org.neo4j.spark.DataSource\") \\\n",
    "    .option(\"url\", neo4j_url) \\\n",
    "    .option(\"authentication.basic.username\", neo4j_user) \\\n",
    "    .option(\"authentication.basic.password\", neo4j_passwd) \\\n",
    "    .option(\"query\",\n",
    "            \"\"\"\n",
    "            MATCH (p:Pokemon)-[r:HAS_TYPE]->(t:Type)\n",
    "            RETURN p.name AS pokemon, t.name AS type\n",
    "            ORDER BY p.name\n",
    "            \"\"\") \\\n",
    "    .load()\n",
    "\n",
    "pokemon_types_df.show()\n"
   ]
  },
  {
   "cell_type": "code",
   "execution_count": null,
   "id": "9078a7dd",
   "metadata": {},
   "outputs": [],
   "source": [
    "sc.stop()"
   ]
  }
 ],
 "metadata": {
  "kernelspec": {
   "display_name": "Python 3 (ipykernel)",
   "language": "python",
   "name": "python3"
  },
  "language_info": {
   "codemirror_mode": {
    "name": "ipython",
    "version": 3
   },
   "file_extension": ".py",
   "mimetype": "text/x-python",
   "name": "python",
   "nbconvert_exporter": "python",
   "pygments_lexer": "ipython3",
   "version": "3.10.12"
  }
 },
 "nbformat": 4,
 "nbformat_minor": 5
}
