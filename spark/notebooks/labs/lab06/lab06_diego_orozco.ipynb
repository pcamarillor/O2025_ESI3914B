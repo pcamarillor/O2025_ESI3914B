{
 "cells": [
  {
   "cell_type": "markdown",
   "id": "b92d9622",
   "metadata": {
    "jp-MarkdownHeadingCollapsed": true
   },
   "source": [
    "# <center> <img src=\"../../img/ITESOLogo.png\" alt=\"ITESO\" width=\"480\" height=\"130\"> </center>\n",
    "# <center> **Departamento de Electrónica, Sistemas e Informática** </center>\n",
    "---\n",
    "## <center> Computer Systems Engineering  </center>\n",
    "---\n",
    "### <center> Big Data Processing </center>\n",
    "---\n",
    "#### <center> **Autumn 2025** </center>\n",
    "---\n",
    "\n",
    "**Lab 05**: Data pipeline with Neo4j\n",
    "\n",
    "**Date**: October 2nd 2025\n",
    "\n",
    "**Student Name**: Diego Orozco Alvarado\n",
    "\n",
    "**Professor**: Pablo Camarillo Ramirez"
   ]
  },
  {
   "cell_type": "markdown",
   "id": "7893c817",
   "metadata": {},
   "source": [
    "# Dataset description"
   ]
  },
  {
   "cell_type": "markdown",
   "id": "1ccebae4",
   "metadata": {},
   "source": [
    "#### Lista de canciones y sus artistas\n",
    " https://www.kaggle.com/datasets/neisse/scrapped-lyrics-from-6-genres?select=artists-data.csv\n",
    "\n",
    " Relacion Link de el Artista con el Nombre de la cancion como escribio (WROTE)"
   ]
  },
  {
   "cell_type": "markdown",
   "id": "9b2e84c3",
   "metadata": {},
   "source": [
    "# Data ingestion"
   ]
  },
  {
   "cell_type": "code",
   "execution_count": 1,
   "id": "ed17a0b0",
   "metadata": {},
   "outputs": [
    {
     "name": "stderr",
     "output_type": "stream",
     "text": [
      "WARNING: Using incubator modules: jdk.incubator.vector\n",
      ":: loading settings :: url = jar:file:/opt/spark/jars/ivy-2.5.3.jar!/org/apache/ivy/core/settings/ivysettings.xml\n",
      "Ivy Default Cache set to: /root/.ivy2.5.2/cache\n",
      "The jars for the packages stored in: /root/.ivy2.5.2/jars\n",
      "org.neo4j#neo4j-connector-apache-spark_2.13 added as a dependency\n",
      ":: resolving dependencies :: org.apache.spark#spark-submit-parent-ab570660-8bdb-47c5-b545-bc4274ce2b08;1.0\n",
      "\tconfs: [default]\n",
      "\tfound org.neo4j#neo4j-connector-apache-spark_2.13;5.3.10_for_spark_3 in central\n",
      "\tfound org.neo4j#neo4j-connector-apache-spark_2.13_common;5.3.10_for_spark_3 in central\n",
      "\tfound org.neo4j#caniuse-core;1.3.0 in central\n",
      "\tfound org.neo4j#caniuse-api;1.3.0 in central\n",
      "\tfound org.jetbrains.kotlin#kotlin-stdlib;2.1.20 in central\n",
      "\tfound org.jetbrains#annotations;13.0 in central\n",
      "\tfound org.neo4j#caniuse-neo4j-detection;1.3.0 in central\n",
      "\tfound org.neo4j.driver#neo4j-java-driver-slim;4.4.21 in central\n",
      "\tfound org.reactivestreams#reactive-streams;1.0.4 in central\n",
      "\tfound io.netty#netty-handler;4.1.127.Final in central\n",
      "\tfound io.netty#netty-common;4.1.127.Final in central\n",
      "\tfound io.netty#netty-resolver;4.1.127.Final in central\n",
      "\tfound io.netty#netty-buffer;4.1.127.Final in central\n",
      "\tfound io.netty#netty-transport;4.1.127.Final in central\n",
      "\tfound io.netty#netty-transport-native-unix-common;4.1.127.Final in central\n",
      "\tfound io.netty#netty-codec;4.1.127.Final in central\n",
      "\tfound io.netty#netty-tcnative-classes;2.0.73.Final in central\n",
      "\tfound io.projectreactor#reactor-core;3.6.11 in central\n",
      "\tfound org.neo4j#neo4j-cypher-dsl;2022.11.0 in central\n",
      "\tfound org.apiguardian#apiguardian-api;1.1.2 in central\n",
      "\tfound org.neo4j.connectors#commons-authn-spi;1.0.0-rc2 in central\n",
      "\tfound org.neo4j.connectors#commons-reauth-driver;1.0.0-rc2 in central\n",
      "\tfound org.slf4j#slf4j-api;2.0.17 in central\n",
      "\tfound org.neo4j.connectors#commons-authn-provided;1.0.0-rc2 in central\n",
      ":: resolution report :: resolve 3287ms :: artifacts dl 159ms\n",
      "\t:: modules in use:\n",
      "\tio.netty#netty-buffer;4.1.127.Final from central in [default]\n",
      "\tio.netty#netty-codec;4.1.127.Final from central in [default]\n",
      "\tio.netty#netty-common;4.1.127.Final from central in [default]\n",
      "\tio.netty#netty-handler;4.1.127.Final from central in [default]\n",
      "\tio.netty#netty-resolver;4.1.127.Final from central in [default]\n",
      "\tio.netty#netty-tcnative-classes;2.0.73.Final from central in [default]\n",
      "\tio.netty#netty-transport;4.1.127.Final from central in [default]\n",
      "\tio.netty#netty-transport-native-unix-common;4.1.127.Final from central in [default]\n",
      "\tio.projectreactor#reactor-core;3.6.11 from central in [default]\n",
      "\torg.apiguardian#apiguardian-api;1.1.2 from central in [default]\n",
      "\torg.jetbrains#annotations;13.0 from central in [default]\n",
      "\torg.jetbrains.kotlin#kotlin-stdlib;2.1.20 from central in [default]\n",
      "\torg.neo4j#caniuse-api;1.3.0 from central in [default]\n",
      "\torg.neo4j#caniuse-core;1.3.0 from central in [default]\n",
      "\torg.neo4j#caniuse-neo4j-detection;1.3.0 from central in [default]\n",
      "\torg.neo4j#neo4j-connector-apache-spark_2.13;5.3.10_for_spark_3 from central in [default]\n",
      "\torg.neo4j#neo4j-connector-apache-spark_2.13_common;5.3.10_for_spark_3 from central in [default]\n",
      "\torg.neo4j#neo4j-cypher-dsl;2022.11.0 from central in [default]\n",
      "\torg.neo4j.connectors#commons-authn-provided;1.0.0-rc2 from central in [default]\n",
      "\torg.neo4j.connectors#commons-authn-spi;1.0.0-rc2 from central in [default]\n",
      "\torg.neo4j.connectors#commons-reauth-driver;1.0.0-rc2 from central in [default]\n",
      "\torg.neo4j.driver#neo4j-java-driver-slim;4.4.21 from central in [default]\n",
      "\torg.reactivestreams#reactive-streams;1.0.4 from central in [default]\n",
      "\torg.slf4j#slf4j-api;2.0.17 from central in [default]\n",
      "\t---------------------------------------------------------------------\n",
      "\t|                  |            modules            ||   artifacts   |\n",
      "\t|       conf       | number| search|dwnlded|evicted|| number|dwnlded|\n",
      "\t---------------------------------------------------------------------\n",
      "\t|      default     |   24  |   0   |   0   |   0   ||   24  |   0   |\n",
      "\t---------------------------------------------------------------------\n",
      ":: retrieving :: org.apache.spark#spark-submit-parent-ab570660-8bdb-47c5-b545-bc4274ce2b08\n",
      "\tconfs: [default]\n",
      "\t0 artifacts copied, 24 already retrieved (0kB/52ms)\n",
      "25/10/04 17:21:32 WARN NativeCodeLoader: Unable to load native-hadoop library for your platform... using builtin-java classes where applicable\n",
      "Using Spark's default log4j profile: org/apache/spark/log4j2-defaults.properties\n",
      "Setting default log level to \"WARN\".\n",
      "To adjust logging level use sc.setLogLevel(newLevel). For SparkR, use setLogLevel(newLevel).\n"
     ]
    }
   ],
   "source": [
    "import findspark\n",
    "findspark.init()\n",
    "\n",
    "from pyspark.sql import SparkSession\n",
    "\n",
    "spark = SparkSession.builder \\\n",
    "    .appName(\"Examples on SparkSQL\") \\\n",
    "    .master(\"local[*]\") \\\n",
    "    .config(\"spark.jars.packages\", \"org.neo4j:neo4j-connector-apache-spark_2.13:5.3.10_for_spark_3\") \\\n",
    "    .config(\"spark.ui.port\", \"4040\") \\\n",
    "    .getOrCreate()\n",
    "\n",
    "sc = spark.sparkContext\n",
    "sc.setLogLevel(\"ERROR\")\n",
    "\n",
    "# Optimization (reduce the number of shuffle partitions)\n",
    "spark.conf.set(\"spark.sql.shuffle.partitions\", \"5\")"
   ]
  },
  {
   "cell_type": "code",
   "execution_count": 2,
   "id": "e0ad92ac",
   "metadata": {},
   "outputs": [
    {
     "name": "stdout",
     "output_type": "stream",
     "text": [
      "/opt/spark/work-dir\n"
     ]
    }
   ],
   "source": [
    "!pwd"
   ]
  },
  {
   "cell_type": "code",
   "execution_count": 14,
   "id": "259436b2",
   "metadata": {},
   "outputs": [
    {
     "name": "stdout",
     "output_type": "stream",
     "text": [
      "224K\tdata/songs_data/artists\n"
     ]
    },
    {
     "name": "stdout",
     "output_type": "stream",
     "text": [
      "417M\tdata/songs_data/lyrics\n"
     ]
    }
   ],
   "source": [
    "!du -sh data/songs_data/artists\n",
    "!du -sh data/songs_data/lyrics\n",
    "base_path = \"/opt/spark/work-dir/data/\""
   ]
  },
  {
   "cell_type": "code",
   "execution_count": 49,
   "id": "a93cd621",
   "metadata": {},
   "outputs": [],
   "source": [
    "# Import your module\n",
    "from diego_orozco.spark_utils import SparkUtils\n",
    "\n",
    "# Build schema\n",
    "schema_artists = SparkUtils.generate_schema([(\"Artist\", \"string\"), (\"Genres\", \"string\"), (\"Songs\", \"int\"), (\"Popularity\", \"double\"), (\"ALink\", \"string\")])\n",
    "df_artists = spark.read.schema(schema_artists).option(\"header\",True).csv(base_path+\"/songs_data/artists\").limit(1000)\n",
    "\n",
    "schema_lyrics = SparkUtils.generate_schema([(\"ALink\", \"string\"), (\"SName\", \"string\"), (\"SLink\", \"string\"), (\"Lyric\", \"string\"), (\"language\", \"string\")])\n",
    "df_lyrics = (\n",
    "    spark.read\n",
    "    .schema(schema_lyrics)\n",
    "    .option(\"header\", True)\n",
    "    .option(\"quote\", '\"')           # reconoce los campos entre comillas\n",
    "    .option(\"escape\", '\"')          # maneja comillas dobles internas correctamente (\"\" -> \")\n",
    "    .option(\"multiLine\", True)      # permite saltos de línea dentro de comillas\n",
    "    .option(\"ignoreLeadingWhiteSpace\", True)\n",
    "    .option(\"ignoreTrailingWhiteSpace\", True)\n",
    "    .csv(base_path + \"/songs_data/lyrics\")\n",
    "    .limit(1000)\n",
    ")\n",
    "\n",
    "\n",
    "df_artists=df_artists.na.drop(subset=[\"ALink\"])\n",
    "df_lyrics=df_lyrics.na.drop(subset=[\"SName\"])"
   ]
  },
  {
   "cell_type": "markdown",
   "id": "176862b7",
   "metadata": {},
   "source": [
    "## NOTA: \n",
    "Agregue el limite ya que me estaba tardando mucho en el df de lyrics.\n",
    "Como se puede apreciar en la siguiente imagen:\n",
    "![Captura de Pantalla 2025-10-04 a la(s) 10.18.25.png](<attachment:Captura de Pantalla 2025-10-04 a la(s) 10.18.25.png>)"
   ]
  },
  {
   "cell_type": "markdown",
   "id": "372e82d5",
   "metadata": {},
   "source": [
    "# Transformations"
   ]
  },
  {
   "cell_type": "code",
   "execution_count": 43,
   "id": "000b6d0d",
   "metadata": {},
   "outputs": [],
   "source": [
    "# Add the code for your transformations to create nodes and edges DataFrames HERE\n",
    "from pyspark.sql.functions import col\n",
    "\n",
    "# --- NODES ---\n",
    "\n",
    "# artist Nodes\n",
    "artist_nodes = df_artists.select(\n",
    "    col(\"ALink\"),\n",
    "    col(\"Artist\"),\n",
    "    col(\"Genres\"),\n",
    "    col(\"Songs\"),\n",
    "    col(\"Popularity\")\n",
    ").dropDuplicates([\"ALink\"])"
   ]
  },
  {
   "cell_type": "code",
   "execution_count": 44,
   "id": "200e04b9",
   "metadata": {},
   "outputs": [
    {
     "name": "stdout",
     "output_type": "stream",
     "text": [
      "+--------------------+--------------------+--------------------+-----+----------+\n",
      "|               ALink|              Artist|              Genres|Songs|Popularity|\n",
      "+--------------------+--------------------+--------------------+-----+----------+\n",
      "|            /14-bis/|              14 Bis|      MPB; Pop; Folk|  121|       1.0|\n",
      "|              /2ne1/|                2NE1|K-Pop/K-Rock; Pop...|  103|       0.0|\n",
      "| /2pac-tupac-shakur/|        Tupac Shakur|Hip Hop; Rap; Bla...|  383|      10.3|\n",
      "|              /3oh3/|               3OH!3|Electronica; Pop;...|   88|       0.0|\n",
      "|        /5-elemento/|         5º Elemento|Black Music; Hip ...|   36|       0.0|\n",
      "|           /50-cent/|             50 Cent|Hip Hop; Rap; Bla...|  469|      40.7|\n",
      "|/a-banda-mais-bon...|A Banda Mais Boni...|    Indie; Folk; MPB|   50|       1.0|\n",
      "|           /aaliyah/|             Aaliyah|    Black Music; R&B|   97|       0.0|\n",
      "|              /abba/|                ABBA|   Disco; Pop; Dance|  166|      11.8|\n",
      "|      /above-beyond/|      Above & Beyond|House; Trance; El...|   61|       0.0|\n",
      "|             /ac-dc/|               AC/DC|Rock; Heavy Metal...|  204|      19.2|\n",
      "|          /ace-hood/|            Ace Hood|Black Music; Rap;...|   86|       0.0|\n",
      "|               /afi/|                 AFI|Emocore; Punk Roc...|  210|       0.0|\n",
      "|          /afrojack/|            Afrojack|Electronica; Hous...|  104|       0.4|\n",
      "|            /agnela/|              Agnela| Pop/Rock; Rock; Pop|   30|       0.0|\n",
      "|/agostinho-dos-sa...|Agostinho dos Santos|          Bossa Nova|  214|       0.1|\n",
      "|          /agridoce/|            Agridoce|         Folk; Indie|   19|       0.0|\n",
      "|        /aimee-mann/|          Aimee Mann|Pop/Rock; Indie; ...|  186|       0.0|\n",
      "|               /air/|                 Air|Chillout; Instrum...|   85|       0.0|\n",
      "|            /akcent/|              Akcent|Electronica; Danc...|  130|       0.0|\n",
      "+--------------------+--------------------+--------------------+-----+----------+\n",
      "only showing top 20 rows\n"
     ]
    }
   ],
   "source": [
    "artist_nodes.show()"
   ]
  },
  {
   "cell_type": "code",
   "execution_count": 50,
   "id": "3080fc2f",
   "metadata": {},
   "outputs": [],
   "source": [
    "\n",
    "from pyspark.sql.functions import concat_ws, sha2, col\n",
    "# lyrics Nodes\n",
    "lyrics_nodes = df_lyrics.select(\n",
    "    col(\"SName\"),\n",
    "    col(\"SLink\"),\n",
    "    col(\"Lyric\"),\n",
    "    col(\"language\")\n",
    ").dropDuplicates([\"SName\"])\n",
    "lyrics_nodes = lyrics_nodes.withColumn(\n",
    "    \"SongId\",\n",
    "    sha2(concat_ws(\":\", col(\"SName\"), col(\"SLink\")), 256)\n",
    ")\n"
   ]
  },
  {
   "cell_type": "code",
   "execution_count": 34,
   "id": "afaf8a14",
   "metadata": {},
   "outputs": [
    {
     "name": "stdout",
     "output_type": "stream",
     "text": [
      "+---------------+--------------------+--------------------+--------------------+--------+\n",
      "|          ALink|               SName|               SLink|               Lyric|language|\n",
      "+---------------+--------------------+--------------------+--------------------+--------+\n",
      "|/ivete-sangalo/|               Arerê|/ivete-sangalo/ar...|Tudo o que eu que...|      pt|\n",
      "|/ivete-sangalo/|Se Eu Não Te Amas...|/ivete-sangalo/se...|Meu coração\\nSem ...|      pt|\n",
      "|/ivete-sangalo/|         Céu da Boca|/ivete-sangalo/ch...|É de babaixá!\\nÉ ...|      pt|\n",
      "|/ivete-sangalo/|Quando A Chuva Pa...|/ivete-sangalo/qu...|Quando a chuva pa...|      pt|\n",
      "|/ivete-sangalo/|        Sorte Grande|/ivete-sangalo/so...|A minha sorte gra...|      pt|\n",
      "|/ivete-sangalo/|    A Lua Q Eu T Dei|/ivete-sangalo/a-...|Posso te falar do...|      pt|\n",
      "|/ivete-sangalo/|Mulheres Não Têm ...|/ivete-sangalo/mu...|Hey, girl\\nLevant...|      pt|\n",
      "|/ivete-sangalo/|Eva / Alô Paixão ...|/ivete-sangalo/ev...|\"EVA\"\\n(Giancarlo...|      pt|\n",
      "|/ivete-sangalo/|      Flor do Reggae|/ivete-sangalo/fl...|Um brilho de amor...|      pt|\n",
      "|/ivete-sangalo/|         Carro Velho|/ivete-sangalo/ca...|Cheiro de pneu qu...|      pt|\n",
      "|/ivete-sangalo/|  Muito Obrigado Axé|/ivete-sangalo/mu...|Odô, axé odô, axé...|      pt|\n",
      "|/ivete-sangalo/|   Não Precisa Mudar|/ivete-sangalo/na...|Não precisa mudar...|      pt|\n",
      "|/ivete-sangalo/|Nada Vai Nos Separar|/ivete-sangalo/na...|Toda vez que eu p...|      pt|\n",
      "|/ivete-sangalo/|    Tempo de Alegria|/ivete-sangalo/te...|É amor\\nÉ tanto a...|      pt|\n",
      "|/ivete-sangalo/|        Agora Já Sei|/ivete-sangalo/ag...|Duvidava, não ent...|      pt|\n",
      "|/ivete-sangalo/|               Deixo|/ivete-sangalo/de...|Eu me lembro semp...|      pt|\n",
      "|/ivete-sangalo/|Não Me Conte Seus...|/ivete-sangalo/na...|Ivete Sangalooooo...|      pt|\n",
      "|/ivete-sangalo/|País Tropical / A...|/ivete-sangalo/pa...|Moro...\\nNum país...|      pt|\n",
      "|/ivete-sangalo/|            Na Bahia|/ivete-sangalo/na...|Na Bahia ia ia ia...|      pt|\n",
      "|/ivete-sangalo/|            Completo|/ivete-sangalo/co...|É tão bom ter alg...|      pt|\n",
      "+---------------+--------------------+--------------------+--------------------+--------+\n",
      "only showing top 20 rows\n"
     ]
    }
   ],
   "source": [
    "df_lyrics.show()"
   ]
  },
  {
   "cell_type": "code",
   "execution_count": 51,
   "id": "9307c7cf",
   "metadata": {},
   "outputs": [
    {
     "name": "stderr",
     "output_type": "stream",
     "text": [
      "[Stage 74:>                                                         (0 + 1) / 1]\r"
     ]
    },
    {
     "name": "stdout",
     "output_type": "stream",
     "text": [
      "+--------------------+--------------------+--------------------+--------+--------------------+\n",
      "|               SName|               SLink|               Lyric|language|              SongId|\n",
      "+--------------------+--------------------+--------------------+--------+--------------------+\n",
      "|           100% Você|/chiclete-com-ban...|Um céu sem estrel...|      pt|5b71a4b71bae235ab...|\n",
      "|            40 Graus|/banda-eva/40-gra...|Eu acho que tô co...|      pt|298c393b046b8dd36...|\n",
      "|      A Casa Amarela|/ivete-sangalo/a-...|Papai pintou\\nA c...|      pt|8b56d24ed22813a2f...|\n",
      "|       A Cor da Vida|/chiclete-com-ban...|Em cada lugar do ...|      pt|e8f04e7f608dbcd4a...|\n",
      "|   A Dança do Ventre|/e-o-tchan/a-danc...|Neguinha maravilh...|      pt|a9b103c4add549b74...|\n",
      "|  A Dona do Terreiro|/chiclete-com-ban...|A dona do terreir...|      pt|8bc94a3c333a799c5...|\n",
      "|        A Fila Andou|/chiclete-com-ban...|Nananá Nananananá...|      pt|f4803dd72f175b757...|\n",
      "|A Fórmula do Amor...|/claudia-leitte/a...|Eu tenho o gesto ...|      pt|057b9b1ac58d63ed8...|\n",
      "|            A Galera|/ivete-sangalo/a-...|Fevereiro\\nAlegri...|      pt|f11c410c2ed4ceaf1...|\n",
      "|            A Girafa|/ivete-sangalo/a-...|Vambora bicharada...|      pt|cf3e78627652c8cc8...|\n",
      "|          A Lourinha|/e-o-tchan/a-lour...|Sei que a lourinh...|      pt|9e4a4c13c918134e0...|\n",
      "|    A Lua Q Eu T Dei|/ivete-sangalo/a-...|Posso te falar do...|      pt|bbfa36104a788d8c9...|\n",
      "|A Minha Fantasia ...|/chiclete-com-ban...|A minha fantasia ...|      pt|016a4b5e850788023...|\n",
      "|   A Moçada do Samba|/e-o-tchan/a-moca...|O Gera Samba já c...|      pt|1bb7e97cb5febaaf5...|\n",
      "|             A Múmia|/e-o-tchan/a-mumi...|Cadê o faraó? Cad...|      pt|2723acf2524fb455c...|\n",
      "|A Noite Dos Janga...|/claudia-leitte/a...|Tudo escuro e sem...|      pt|401cc309c3e13c7b6...|\n",
      "|A Nova Loira do T...|/e-o-tchan/a-nova...|Luz na passarela ...|      pt|68cf8e63484b37099...|\n",
      "|          A Novidade|/ivete-sangalo/a-...|Uh! Heiê! Oh!\\nÔ ...|      pt|cfd9d6e0e8b4559e5...|\n",
      "|A Princesa Mais L...|/banda-eva/a-prin...|Deus criou meu de...|      pt|e3e3c6329fd2138d9...|\n",
      "|              A Rosa|/banda-eva/a-rosa...|Olha que rosa des...|      pt|0e4ad2b89c2ccfafe...|\n",
      "+--------------------+--------------------+--------------------+--------+--------------------+\n",
      "only showing top 20 rows\n"
     ]
    },
    {
     "name": "stderr",
     "output_type": "stream",
     "text": [
      "                                                                                \r"
     ]
    }
   ],
   "source": [
    "lyrics_nodes.show()\n"
   ]
  },
  {
   "cell_type": "code",
   "execution_count": 53,
   "id": "7cfce750",
   "metadata": {},
   "outputs": [],
   "source": [
    "\n",
    "# --- EDGES ---\n",
    "\n",
    "# Purchases: relationships between User -> lyrics\n",
    "wrote_edges = df_lyrics.select(\n",
    "    col(\"SName\").alias(\"src\"),   # source node (artist)\n",
    "    col(\"ALink\").alias(\"dst\"),   # destination node (lyrics)\n",
    ")\n"
   ]
  },
  {
   "cell_type": "code",
   "execution_count": 37,
   "id": "3a0653e2",
   "metadata": {},
   "outputs": [
    {
     "data": {
      "text/plain": [
       "[Row(src='Arerê', dst='/ivete-sangalo/'),\n",
       " Row(src='Se Eu Não Te Amasse Tanto Assim', dst='/ivete-sangalo/'),\n",
       " Row(src='Céu da Boca', dst='/ivete-sangalo/'),\n",
       " Row(src='Quando A Chuva Passar', dst='/ivete-sangalo/'),\n",
       " Row(src='Sorte Grande', dst='/ivete-sangalo/')]"
      ]
     },
     "execution_count": 37,
     "metadata": {},
     "output_type": "execute_result"
    }
   ],
   "source": [
    "wrote_edges.head(5)"
   ]
  },
  {
   "cell_type": "markdown",
   "id": "e3a68775",
   "metadata": {},
   "source": [
    "# Writing Data in Neo4j"
   ]
  },
  {
   "cell_type": "code",
   "execution_count": 23,
   "id": "d600c322",
   "metadata": {},
   "outputs": [],
   "source": [
    "# Add the code to write a graph from PySpark's DataFrames to Neo4j\n",
    "neo4j_url = \"bolt://neo4j-iteso:7687\"\n",
    "neo4j_user = \"neo4j\"\n",
    "neo4j_passwd = \"neo4j@1234\""
   ]
  },
  {
   "cell_type": "code",
   "execution_count": 29,
   "id": "61300b44",
   "metadata": {},
   "outputs": [
    {
     "data": {
      "text/plain": [
       "DataFrame[]"
      ]
     },
     "execution_count": 29,
     "metadata": {},
     "output_type": "execute_result"
    }
   ],
   "source": [
    "\n",
    "query = \"\"\"\n",
    "CALL apoc.periodic.iterate(\n",
    "  'MATCH (n) RETURN n',\n",
    "  'DETACH DELETE n',\n",
    "  {batchSize: 10000}\n",
    ")\n",
    "\"\"\"\n",
    "\n",
    "spark.read \\\n",
    "    .format(\"org.neo4j.spark.DataSource\") \\\n",
    "    .option(\"url\", neo4j_url) \\\n",
    "    .option(\"authentication.basic.username\", neo4j_user) \\\n",
    "    .option(\"authentication.basic.password\", neo4j_passwd) \\\n",
    "    .option(\"query\", query) \\\n",
    "    .load()"
   ]
  },
  {
   "cell_type": "code",
   "execution_count": 45,
   "id": "d01d7a89",
   "metadata": {},
   "outputs": [
    {
     "name": "stderr",
     "output_type": "stream",
     "text": [
      "                                                                                \r"
     ]
    },
    {
     "name": "stdout",
     "output_type": "stream",
     "text": [
      "1000 artist wrote in Neo4j\n"
     ]
    }
   ],
   "source": [
    "\n",
    "\n",
    "artist_nodes.write \\\n",
    "  .format(\"org.neo4j.spark.DataSource\") \\\n",
    "  .mode(\"Overwrite\") \\\n",
    "  .option(\"url\", neo4j_url) \\\n",
    "  .option(\"authentication.basic.username\", neo4j_user) \\\n",
    "  .option(\"authentication.basic.password\", neo4j_passwd) \\\n",
    "  .option(\"labels\", \":Artist\") \\\n",
    "  .option(\"node.keys\", \"ALink\") \\\n",
    "  .save()\n",
    "\n",
    "print(f\"{artist_nodes.count()} artist wrote in Neo4j\")\n"
   ]
  },
  {
   "cell_type": "code",
   "execution_count": 52,
   "id": "f4878ef8",
   "metadata": {},
   "outputs": [
    {
     "name": "stderr",
     "output_type": "stream",
     "text": [
      "                                                                                \r"
     ]
    },
    {
     "name": "stdout",
     "output_type": "stream",
     "text": [
      "978 lyrics nodes wrote in Neo4j\n"
     ]
    }
   ],
   "source": [
    "\n",
    "lyrics_nodes.write \\\n",
    "  .format(\"org.neo4j.spark.DataSource\") \\\n",
    "  .mode(\"Overwrite\") \\\n",
    "  .option(\"url\", neo4j_url) \\\n",
    "  .option(\"authentication.basic.username\", neo4j_user) \\\n",
    "  .option(\"authentication.basic.password\", neo4j_passwd) \\\n",
    "  .option(\"labels\", \":Lyrics\") \\\n",
    "  .option(\"node.keys\", \"SongId\")\\\n",
    "  .option(\"batch.size\", \"10000\") \\\n",
    "  .save()\n",
    "\n",
    "print(f\"{lyrics_nodes.count()} lyrics nodes wrote in Neo4j\")\n"
   ]
  },
  {
   "cell_type": "code",
   "execution_count": 54,
   "id": "54ff7f73",
   "metadata": {},
   "outputs": [
    {
     "name": "stderr",
     "output_type": "stream",
     "text": [
      "                                                                                \r"
     ]
    },
    {
     "name": "stdout",
     "output_type": "stream",
     "text": [
      "1000 wrote edges wrote in Neo4j\n"
     ]
    }
   ],
   "source": [
    "\n",
    "wrote_edges.write \\\n",
    "  .format(\"org.neo4j.spark.DataSource\") \\\n",
    "  .mode(\"Overwrite\") \\\n",
    "  .option(\"url\", neo4j_url) \\\n",
    "  .option(\"authentication.basic.username\", neo4j_user) \\\n",
    "  .option(\"authentication.basic.password\", neo4j_passwd) \\\n",
    "  .option(\"relationship\", \"WROTE\") \\\n",
    "  .option(\"relationship.save.strategy\", \"keys\") \\\n",
    "  .option(\"relationship.target.labels\", \":Lyrics\") \\\n",
    "  .option(\"relationship.target.save.mode\", \"match\") \\\n",
    "  .option(\"relationship.target.node.keys\", \"src:SName\") \\\n",
    "  .option(\"relationship.source.labels\", \":Artist\") \\\n",
    "  .option(\"relationship.source.save.mode\", \"match\") \\\n",
    "  .option(\"relationship.source.node.keys\", \"dst:ALink\") \\\n",
    "  .save()\n",
    "\n",
    "print(f\"{wrote_edges.count()} wrote edges wrote in Neo4j\")"
   ]
  },
  {
   "cell_type": "markdown",
   "id": "f30287ea",
   "metadata": {},
   "source": [
    "# Read and Query Graphs with PySpark"
   ]
  },
  {
   "cell_type": "code",
   "execution_count": 61,
   "id": "03ca7b56",
   "metadata": {},
   "outputs": [
    {
     "name": "stdout",
     "output_type": "stream",
     "text": [
      "+-------------+--------------------+--------------------+------------+\n",
      "|     a.Artist|             l.SName|             l.SLink|a.Popularity|\n",
      "+-------------+--------------------+--------------------+------------+\n",
      "|Ivete Sangalo|    A Lua Q Eu T Dei|/ivete-sangalo/a-...|         4.4|\n",
      "|    Banda Eva|               Arerê|/ivete-sangalo/ar...|         2.3|\n",
      "|Ivete Sangalo|               Arerê|/ivete-sangalo/ar...|         4.4|\n",
      "|    Banda Eva|         Carro Velho|/ivete-sangalo/ca...|         2.3|\n",
      "|Ivete Sangalo|         Carro Velho|/ivete-sangalo/ca...|         4.4|\n",
      "|Ivete Sangalo|         Céu da Boca|/ivete-sangalo/ch...|         4.4|\n",
      "|Ivete Sangalo|Eva / Alô Paixão ...|/ivete-sangalo/ev...|         4.4|\n",
      "|Ivete Sangalo|      Flor do Reggae|/ivete-sangalo/fl...|         4.4|\n",
      "|Ivete Sangalo|Mulheres Não Têm ...|/ivete-sangalo/mu...|         4.4|\n",
      "|Ivete Sangalo|Quando A Chuva Pa...|/ivete-sangalo/qu...|         4.4|\n",
      "|Ivete Sangalo|Se Eu Não Te Amas...|/ivete-sangalo/se...|         4.4|\n",
      "|Ivete Sangalo|        Sorte Grande|/ivete-sangalo/so...|         4.4|\n",
      "|Ivete Sangalo|      A Casa Amarela|/ivete-sangalo/a-...|         4.4|\n",
      "|Ivete Sangalo|            A Galera|/ivete-sangalo/a-...|         4.4|\n",
      "|Ivete Sangalo|            A Girafa|/ivete-sangalo/a-...|         4.4|\n",
      "|Ivete Sangalo|          A Novidade|/ivete-sangalo/a-...|         4.4|\n",
      "|    Banda Eva|               Abadá|/ivete-sangalo/ab...|         2.3|\n",
      "|Ivete Sangalo|               Abadá|/ivete-sangalo/ab...|         4.4|\n",
      "|Ivete Sangalo|              Abalou|/ivete-sangalo/ab...|         4.4|\n",
      "|Ivete Sangalo|     Acalme Sua Alma|/ivete-sangalo/ac...|         4.4|\n",
      "+-------------+--------------------+--------------------+------------+\n",
      "only showing top 20 rows\n"
     ]
    }
   ],
   "source": [
    "# Add the code to read a data frame from Neo4J and run a simple query to verify \n",
    "cypher_df = spark.read \\\n",
    "    .format(\"org.neo4j.spark.DataSource\") \\\n",
    "    .option(\"url\", neo4j_url) \\\n",
    "    .option(\"authentication.basic.username\", neo4j_user) \\\n",
    "    .option(\"authentication.basic.password\", neo4j_passwd) \\\n",
    "    .option(\"query\",\n",
    "            \"\"\"\n",
    "            MATCH (a:Artist)-[w:WROTE]->(l:Lyrics)\n",
    "            RETURN a.Artist,l.SName, l.SLink , a.Popularity\n",
    "            \"\"\") \\\n",
    "    .load()\n",
    "\n",
    "cypher_df.show()"
   ]
  },
  {
   "cell_type": "code",
   "execution_count": 62,
   "id": "9078a7dd",
   "metadata": {},
   "outputs": [],
   "source": [
    "sc.stop()"
   ]
  }
 ],
 "metadata": {
  "kernelspec": {
   "display_name": "Python 3 (ipykernel)",
   "language": "python",
   "name": "python3"
  },
  "language_info": {
   "codemirror_mode": {
    "name": "ipython",
    "version": 3
   },
   "file_extension": ".py",
   "mimetype": "text/x-python",
   "name": "python",
   "nbconvert_exporter": "python",
   "pygments_lexer": "ipython3",
   "version": "3.10.12"
  }
 },
 "nbformat": 4,
 "nbformat_minor": 5
}
