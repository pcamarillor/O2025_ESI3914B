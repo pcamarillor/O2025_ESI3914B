{
 "cells": [
  {
   "cell_type": "markdown",
   "id": "b92d9622",
   "metadata": {},
   "source": [
    "# <center> <img src=\"../../img/ITESOLogo.png\" alt=\"ITESO\" width=\"480\" height=\"130\"> </center>\n",
    "# <center> **Departamento de Electrónica, Sistemas e Informática** </center>\n",
    "---\n",
    "## <center> Computer Systems Engineering  </center>\n",
    "---\n",
    "### <center> Big Data Processing </center>\n",
    "---\n",
    "#### <center> **Autumn 2025** </center>\n",
    "---\n",
    "\n",
    "**Lab 05**: Data pipeline with Neo4j\n",
    "\n",
    "**Date**: October 2nd 2025\n",
    "\n",
    "**Student Name**: Aura Melina Gutierrez Jimenez\n",
    "\n",
    "**Professor**: Pablo Camarillo Ramirez"
   ]
  },
  {
   "cell_type": "markdown",
   "id": "7893c817",
   "metadata": {},
   "source": [
    "# Dataset description"
   ]
  },
  {
   "cell_type": "markdown",
   "id": "2e879024-af16-4e99-be58-a4de8629964d",
   "metadata": {},
   "source": [
    "El Dataset 'Spotify Artist Feature Collaboration Network' se compone de dos archivos principales: nodes.csv y edges.csv. El archivo nodes.csv contiene la descripción de cada nodo (artista), incluyendo su ID (llave primaria), nombre y otras propiedades. El archivo edges.csv, por su parte, define la relación COLLABORATES_WITH entre los artistas, proporcionando así la información de origen y destino de las conexiones."
   ]
  },
  {
   "cell_type": "markdown",
   "id": "9b2e84c3",
   "metadata": {},
   "source": [
    "# Data ingestion"
   ]
  },
  {
   "cell_type": "code",
   "execution_count": 1,
   "id": "ed17a0b0",
   "metadata": {},
   "outputs": [
    {
     "name": "stderr",
     "output_type": "stream",
     "text": [
      "WARNING: Using incubator modules: jdk.incubator.vector\n",
      ":: loading settings :: url = jar:file:/opt/spark/jars/ivy-2.5.3.jar!/org/apache/ivy/core/settings/ivysettings.xml\n",
      "Ivy Default Cache set to: /root/.ivy2.5.2/cache\n",
      "The jars for the packages stored in: /root/.ivy2.5.2/jars\n",
      "org.neo4j#neo4j-connector-apache-spark_2.13 added as a dependency\n",
      ":: resolving dependencies :: org.apache.spark#spark-submit-parent-9034bb84-049b-4d6a-8bea-b48151a57ce9;1.0\n",
      "\tconfs: [default]\n",
      "\tfound org.neo4j#neo4j-connector-apache-spark_2.13;5.3.10_for_spark_3 in central\n",
      "\tfound org.neo4j#neo4j-connector-apache-spark_2.13_common;5.3.10_for_spark_3 in central\n",
      "\tfound org.neo4j#caniuse-core;1.3.0 in central\n",
      "\tfound org.neo4j#caniuse-api;1.3.0 in central\n",
      "\tfound org.jetbrains.kotlin#kotlin-stdlib;2.1.20 in central\n",
      "\tfound org.jetbrains#annotations;13.0 in central\n",
      "\tfound org.neo4j#caniuse-neo4j-detection;1.3.0 in central\n",
      "\tfound org.neo4j.driver#neo4j-java-driver-slim;4.4.21 in central\n",
      "\tfound org.reactivestreams#reactive-streams;1.0.4 in central\n",
      "\tfound io.netty#netty-handler;4.1.127.Final in central\n",
      "\tfound io.netty#netty-common;4.1.127.Final in central\n",
      "\tfound io.netty#netty-resolver;4.1.127.Final in central\n",
      "\tfound io.netty#netty-buffer;4.1.127.Final in central\n",
      "\tfound io.netty#netty-transport;4.1.127.Final in central\n",
      "\tfound io.netty#netty-transport-native-unix-common;4.1.127.Final in central\n",
      "\tfound io.netty#netty-codec;4.1.127.Final in central\n",
      "\tfound io.netty#netty-tcnative-classes;2.0.73.Final in central\n",
      "\tfound io.projectreactor#reactor-core;3.6.11 in central\n",
      "\tfound org.neo4j#neo4j-cypher-dsl;2022.11.0 in central\n",
      "\tfound org.apiguardian#apiguardian-api;1.1.2 in central\n",
      "\tfound org.neo4j.connectors#commons-authn-spi;1.0.0-rc2 in central\n",
      "\tfound org.neo4j.connectors#commons-reauth-driver;1.0.0-rc2 in central\n",
      "\tfound org.slf4j#slf4j-api;2.0.17 in central\n",
      "\tfound org.neo4j.connectors#commons-authn-provided;1.0.0-rc2 in central\n",
      ":: resolution report :: resolve 915ms :: artifacts dl 19ms\n",
      "\t:: modules in use:\n",
      "\tio.netty#netty-buffer;4.1.127.Final from central in [default]\n",
      "\tio.netty#netty-codec;4.1.127.Final from central in [default]\n",
      "\tio.netty#netty-common;4.1.127.Final from central in [default]\n",
      "\tio.netty#netty-handler;4.1.127.Final from central in [default]\n",
      "\tio.netty#netty-resolver;4.1.127.Final from central in [default]\n",
      "\tio.netty#netty-tcnative-classes;2.0.73.Final from central in [default]\n",
      "\tio.netty#netty-transport;4.1.127.Final from central in [default]\n",
      "\tio.netty#netty-transport-native-unix-common;4.1.127.Final from central in [default]\n",
      "\tio.projectreactor#reactor-core;3.6.11 from central in [default]\n",
      "\torg.apiguardian#apiguardian-api;1.1.2 from central in [default]\n",
      "\torg.jetbrains#annotations;13.0 from central in [default]\n",
      "\torg.jetbrains.kotlin#kotlin-stdlib;2.1.20 from central in [default]\n",
      "\torg.neo4j#caniuse-api;1.3.0 from central in [default]\n",
      "\torg.neo4j#caniuse-core;1.3.0 from central in [default]\n",
      "\torg.neo4j#caniuse-neo4j-detection;1.3.0 from central in [default]\n",
      "\torg.neo4j#neo4j-connector-apache-spark_2.13;5.3.10_for_spark_3 from central in [default]\n",
      "\torg.neo4j#neo4j-connector-apache-spark_2.13_common;5.3.10_for_spark_3 from central in [default]\n",
      "\torg.neo4j#neo4j-cypher-dsl;2022.11.0 from central in [default]\n",
      "\torg.neo4j.connectors#commons-authn-provided;1.0.0-rc2 from central in [default]\n",
      "\torg.neo4j.connectors#commons-authn-spi;1.0.0-rc2 from central in [default]\n",
      "\torg.neo4j.connectors#commons-reauth-driver;1.0.0-rc2 from central in [default]\n",
      "\torg.neo4j.driver#neo4j-java-driver-slim;4.4.21 from central in [default]\n",
      "\torg.reactivestreams#reactive-streams;1.0.4 from central in [default]\n",
      "\torg.slf4j#slf4j-api;2.0.17 from central in [default]\n",
      "\t---------------------------------------------------------------------\n",
      "\t|                  |            modules            ||   artifacts   |\n",
      "\t|       conf       | number| search|dwnlded|evicted|| number|dwnlded|\n",
      "\t---------------------------------------------------------------------\n",
      "\t|      default     |   24  |   0   |   0   |   0   ||   24  |   0   |\n",
      "\t---------------------------------------------------------------------\n",
      ":: retrieving :: org.apache.spark#spark-submit-parent-9034bb84-049b-4d6a-8bea-b48151a57ce9\n",
      "\tconfs: [default]\n",
      "\t0 artifacts copied, 24 already retrieved (0kB/14ms)\n",
      "25/10/05 23:57:37 WARN NativeCodeLoader: Unable to load native-hadoop library for your platform... using builtin-java classes where applicable\n",
      "Using Spark's default log4j profile: org/apache/spark/log4j2-defaults.properties\n",
      "Setting default log level to \"WARN\".\n",
      "To adjust logging level use sc.setLogLevel(newLevel). For SparkR, use setLogLevel(newLevel).\n"
     ]
    }
   ],
   "source": [
    "import findspark\n",
    "findspark.init()\n",
    "\n",
    "from pyspark.sql import SparkSession\n",
    "\n",
    "spark = SparkSession.builder \\\n",
    "    .appName(\"Lab06\") \\\n",
    "    .master(\"spark://spark-master:7077\") \\\n",
    "    .config(\"spark.jars.packages\", \"org.neo4j:neo4j-connector-apache-spark_2.13:5.3.10_for_spark_3\") \\\n",
    "    .config(\"spark.ui.port\", \"4040\") \\\n",
    "    .getOrCreate()\n",
    "\n",
    "sc = spark.sparkContext\n",
    "sc.setLogLevel(\"ERROR\")"
   ]
  },
  {
   "cell_type": "code",
   "execution_count": 2,
   "id": "a93cd621",
   "metadata": {},
   "outputs": [
    {
     "name": "stderr",
     "output_type": "stream",
     "text": [
      "                                                                                "
     ]
    },
    {
     "name": "stdout",
     "output_type": "stream",
     "text": [
      "+--------------------+------------------+---------+----------+--------------------+--------------------+\n",
      "|          spotify_id|              name|followers|popularity|              genres|          chart_hits|\n",
      "+--------------------+------------------+---------+----------+--------------------+--------------------+\n",
      "|48WvrUGoijadXXCsG...|         Byklubben|     NULL|        24|['nordic house', ...|          ['no (3)']|\n",
      "|4lDiJcOJ2GLCK6p9q...|          Kontra K|     NULL|        72|['christlicher ra...|['at (44)', 'de (...|\n",
      "|652XIvIBNGg3C0KIG...|             Maxim|     NULL|        36|                  []|          ['de (1)']|\n",
      "|3dXC1YPbnQPsfHPVk...|Christopher Martin|     NULL|        52|['dancehall', 'lo...|['at (1)', 'de (1)']|\n",
      "|74terC9ol9zMo8rfz...|     Jakob Hellman|     NULL|        39|['classic swedish...|          ['se (6)']|\n",
      "+--------------------+------------------+---------+----------+--------------------+--------------------+\n",
      "only showing top 5 rows\n",
      "+--------------------+--------------------+\n",
      "|                id_0|                id_1|\n",
      "+--------------------+--------------------+\n",
      "|76M2Ekj8bG8W7X2nb...|7sfl4Xt5KmfyDs2T3...|\n",
      "|0hk4xVujcyOr6USD9...|7Do8se3ZoaVqUt3wo...|\n",
      "|38jpuy3yt3QIxQ8Fn...|4csQIMQm6vI2A2SCV...|\n",
      "|6PvcxssrQ0QaJVaBW...|6UCQYrcJ6wab6gnQ8...|\n",
      "|2R1QrQqWuw3IjoP5d...|4mk1ScvOUkuQzzCZp...|\n",
      "+--------------------+--------------------+\n",
      "only showing top 5 rows\n"
     ]
    }
   ],
   "source": [
    "from auragutierrez.spark_utils import SparkUtils\n",
    "from pyspark.sql.functions import col\n",
    "\n",
    "schema_nodes = SparkUtils.generate_schema([\n",
    "    (\"spotify_id\", \"string\"),\n",
    "    (\"name\", \"string\"),\n",
    "    (\"followers\", \"long\"), \n",
    "    (\"popularity\", \"int\"),\n",
    "    (\"genres\", \"string\"), \n",
    "    (\"chart_hits\", \"string\")\n",
    "])\n",
    "\n",
    "schema_edges = SparkUtils.generate_schema([\n",
    "    (\"id_0\", \"string\"),\n",
    "    (\"id_1\", \"string\")\n",
    "])\n",
    "\n",
    "df_nodes = spark.read \\\n",
    "    .schema(schema_nodes) \\\n",
    "    .option(\"header\", True) \\\n",
    "    .csv(\"/opt/spark/work-dir/data/Spotify/nodes.csv\")\n",
    "\n",
    "# Lectura del archivo de Edges\n",
    "df_edges = spark.read \\\n",
    "    .schema(schema_edges) \\\n",
    "    .option(\"header\", True) \\\n",
    "    .csv(\"/opt/spark/work-dir/data/Spotify/edges.csv\")\n",
    "\n",
    "df_nodes.show(n=5)\n",
    "df_edges.show(n=5)"
   ]
  },
  {
   "cell_type": "markdown",
   "id": "372e82d5",
   "metadata": {},
   "source": [
    "# Transformations"
   ]
  },
  {
   "cell_type": "code",
   "execution_count": 3,
   "id": "000b6d0d",
   "metadata": {},
   "outputs": [
    {
     "name": "stderr",
     "output_type": "stream",
     "text": [
      "                                                                                "
     ]
    },
    {
     "name": "stdout",
     "output_type": "stream",
     "text": [
      "+--------------------+----------+---------+----------+---------------+----------+\n",
      "|                  id|      name|followers|popularity|         genres|chart_hits|\n",
      "+--------------------+----------+---------+----------+---------------+----------+\n",
      "|000BblCiHJeKvtiq5...| 51 Koodia|     NULL|        29|             []|      NULL|\n",
      "|000WMX8CCUlKyWxaO...| John Wang|     NULL|         6|             []|      NULL|\n",
      "|0016RK4nfua0DSs6F...| ZwartWerk|     NULL|        15|['vlaamse rap']|['be (1)']|\n",
      "|001K60xGRAvZTXy1q...|JC Carroll|     NULL|         6|             []|      NULL|\n",
      "|001KkBGwhLqBrFXyh...|   Nyquest|     NULL|        29|             []|      NULL|\n",
      "+--------------------+----------+---------+----------+---------------+----------+\n",
      "only showing top 5 rows\n",
      "+--------------------+--------------------+\n",
      "|              source|         destination|\n",
      "+--------------------+--------------------+\n",
      "|76M2Ekj8bG8W7X2nb...|7sfl4Xt5KmfyDs2T3...|\n",
      "|0hk4xVujcyOr6USD9...|7Do8se3ZoaVqUt3wo...|\n",
      "|38jpuy3yt3QIxQ8Fn...|4csQIMQm6vI2A2SCV...|\n",
      "|6PvcxssrQ0QaJVaBW...|6UCQYrcJ6wab6gnQ8...|\n",
      "|2R1QrQqWuw3IjoP5d...|4mk1ScvOUkuQzzCZp...|\n",
      "+--------------------+--------------------+\n",
      "only showing top 5 rows\n"
     ]
    }
   ],
   "source": [
    "# Add the code for your transformations to create nodes and edges DataFrames HERE\n",
    "artist_nodes = df_nodes.select(\n",
    "    col(\"spotify_id\").alias(\"id\"),\n",
    "    \"name\",\n",
    "    \"followers\",\n",
    "    \"popularity\",\n",
    "    \"genres\",\n",
    "    \"chart_hits\"\n",
    ").dropDuplicates([\"id\"])\n",
    "artist_nodes.show(n=5)\n",
    "\n",
    "artist_edges = df_edges.select(\n",
    "    col(\"id_0\").alias(\"source\"),\n",
    "    col(\"id_1\").alias(\"destination\")\n",
    ")\n",
    "artist_edges.show(n=5)"
   ]
  },
  {
   "cell_type": "markdown",
   "id": "e3a68775",
   "metadata": {},
   "source": [
    "# Writing Data in Neo4j"
   ]
  },
  {
   "cell_type": "code",
   "execution_count": 5,
   "id": "d01d7a89",
   "metadata": {},
   "outputs": [
    {
     "name": "stderr",
     "output_type": "stream",
     "text": [
      "[Stage 9:=============================>                             (1 + 1) / 2]"
     ]
    },
    {
     "name": "stdout",
     "output_type": "stream",
     "text": [
      "156320 artist wrote in Neo4j\n"
     ]
    },
    {
     "name": "stderr",
     "output_type": "stream",
     "text": [
      "                                                                                "
     ]
    }
   ],
   "source": [
    "neo4j_url = \"bolt://neo4j-iteso:7687\"\n",
    "neo4j_user = \"neo4j\"\n",
    "neo4j_passwd = \"neo4j@1234\"\n",
    "\n",
    "artist_nodes.write \\\n",
    "  .format(\"org.neo4j.spark.DataSource\") \\\n",
    "  .mode(\"Overwrite\") \\\n",
    "  .option(\"url\", neo4j_url) \\\n",
    "  .option(\"authentication.basic.username\", neo4j_user) \\\n",
    "  .option(\"authentication.basic.password\", neo4j_passwd) \\\n",
    "  .option(\"labels\", \":Artist\") \\\n",
    "  .option(\"node.keys\", \"id\") \\\n",
    "  .save()\n",
    "\n",
    "print(f\"{artist_nodes.count()} artist wrote in Neo4j\")"
   ]
  },
  {
   "cell_type": "code",
   "execution_count": 4,
   "id": "30fd9d02-f84e-45de-ba80-dd4f2a1343bd",
   "metadata": {},
   "outputs": [
    {
     "name": "stderr",
     "output_type": "stream",
     "text": [
      "                                                                                "
     ]
    },
    {
     "name": "stdout",
     "output_type": "stream",
     "text": [
      "300386 relationships wrote in Neo4j\n"
     ]
    },
    {
     "name": "stderr",
     "output_type": "stream",
     "text": [
      "                                                                                "
     ]
    }
   ],
   "source": [
    "neo4j_url = \"bolt://neo4j-iteso:7687\"\n",
    "neo4j_user = \"neo4j\"\n",
    "neo4j_passwd = \"neo4j@1234\"\n",
    "\n",
    "artist_edges.write \\\n",
    "    .format(\"org.neo4j.spark.DataSource\") \\\n",
    "    .mode(\"Append\") \\\n",
    "    .option(\"url\", neo4j_url) \\\n",
    "    .option(\"authentication.basic.username\", neo4j_user) \\\n",
    "    .option(\"authentication.basic.password\", neo4j_passwd) \\\n",
    "    .option(\"relationship\", \"COLLABORATES_WITH\") \\\n",
    "    .option(\"relationship.save.strategy\", \"keys\") \\\n",
    "    .option(\"relationship.source.labels\", \":Artist\") \\\n",
    "    .option(\"relationship.source.node.keys\", \"source:id\") \\\n",
    "    .option(\"relationship.target.labels\", \":Artist\") \\\n",
    "    .option(\"relationship.target.node.keys\", \"destination:id\") \\\n",
    "    .option(\"batch.size\", \"20000\") \\\n",
    "    .save()\n",
    "\n",
    "print(f\"{artist_edges.count()} relationships wrote in Neo4j\")"
   ]
  },
  {
   "cell_type": "markdown",
   "id": "f30287ea",
   "metadata": {},
   "source": [
    "# Read and Query Graphs with PySpark"
   ]
  },
  {
   "cell_type": "code",
   "execution_count": 10,
   "id": "03ca7b56",
   "metadata": {},
   "outputs": [
    {
     "name": "stdout",
     "output_type": "stream",
     "text": [
      "\n",
      "--- Resultado de la Consulta ---\n",
      "+-------+-------+----------+----------------------------------------------------+\n",
      "|ArtistA|ArtistB|PathLength|p                                                   |\n",
      "+-------+-------+----------+----------------------------------------------------+\n",
      "|Eminem |Rihanna|1         |\"path[(152577)<-[189996:COLLABORATES_WITH]-(58329)]\"|\n",
      "+-------+-------+----------+----------------------------------------------------+\n",
      "\n"
     ]
    }
   ],
   "source": [
    "query_path = \"\"\"\n",
    "// Consulta: Busca el camino de colaboración más corto (hasta 4 saltos)\n",
    "MATCH (a:Artist {name: 'Eminem'}), \n",
    "      (b:Artist {name: 'Rihanna'}),\n",
    "      p = shortestPath((a)-[:COLLABORATES_WITH*..4]-(b))\n",
    "RETURN a.name AS ArtistA, \n",
    "       b.name AS ArtistB, \n",
    "       length(p) AS PathLength, \n",
    "       p\n",
    "\"\"\"\n",
    "\n",
    "cypher_df = spark.read \\\n",
    "    .format(\"org.neo4j.spark.DataSource\") \\\n",
    "    .option(\"url\", neo4j_url) \\\n",
    "    .option(\"authentication.basic.username\", neo4j_user) \\\n",
    "    .option(\"authentication.basic.password\", neo4j_passwd) \\\n",
    "    .option(\"query\", query_path) \\\n",
    "    .load()\n",
    "\n",
    "print(\"\\n--- Resultado de la Consulta ---\")\n",
    "cypher_df.show(truncate=False)"
   ]
  },
  {
   "cell_type": "code",
   "execution_count": 4,
   "id": "9078a7dd",
   "metadata": {},
   "outputs": [],
   "source": [
    "sc.stop()"
   ]
  }
 ],
 "metadata": {
  "kernelspec": {
   "display_name": "Python 3 (ipykernel)",
   "language": "python",
   "name": "python3"
  },
  "language_info": {
   "codemirror_mode": {
    "name": "ipython",
    "version": 3
   },
   "file_extension": ".py",
   "mimetype": "text/x-python",
   "name": "python",
   "nbconvert_exporter": "python",
   "pygments_lexer": "ipython3",
   "version": "3.10.12"
  }
 },
 "nbformat": 4,
 "nbformat_minor": 5
}
