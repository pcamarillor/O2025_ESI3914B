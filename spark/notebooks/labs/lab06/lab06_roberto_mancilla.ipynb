{
 "cells": [
  {
   "cell_type": "markdown",
   "id": "b92d9622",
   "metadata": {},
   "source": [
    "# <center> <img src=\"../../img/ITESOLogo.png\" alt=\"ITESO\" width=\"480\" height=\"130\"> </center>\n",
    "# <center> **Departamento de Electrónica, Sistemas e Informática** </center>\n",
    "---\n",
    "## <center> Computer Systems Engineering  </center>\n",
    "---\n",
    "### <center> Big Data Processing </center>\n",
    "---\n",
    "#### <center> **Autumn 2025** </center>\n",
    "---\n",
    "\n",
    "**Lab 05**: Data pipeline with Neo4j\n",
    "\n",
    "**Date**: October 2nd 2025\n",
    "\n",
    "**Student Name**: Luis Roberto Chavez Mancilla\n",
    "\n",
    "**Professor**: Pablo Camarillo Ramirez"
   ]
  },
  {
   "cell_type": "markdown",
   "id": "7893c817",
   "metadata": {},
   "source": [
    "# Dataset description\n",
    "- Este dataset modela un grafo de tecnologias a partir de stories de desarrolladores en Stack Overflow. Cada *Node* corresponde a un tag de una tecnologia (js, java, css, docker) y cada *Edge* indica que dos tecnologias co ocurren o son mencionadas juntas en los perfiles. El peso de la arista es un valor continuio que refleja la fuerza de esa co-ocurrencia.\n",
    "\n",
    "#### El scheme usado:\n",
    "Nodos: \n",
    "- `name` es un string con el nombre del tag (key del nodo)\n",
    "- `group` un int con el identificador de la comunidad\n",
    "- `nodesize` un double con la frecuencia de uso del tag\n",
    "Aristas:\n",
    "- `source` un string del nombre del tag de origen\n",
    "- `target` string con el nombre del tag destino\n",
    "- `value` double con el peso de co ocurrencia entre ambos tags\n",
    "\n",
    "Un value alto entre css y html indica que suelen aparecer juntos con mucha frecuencia en los perfiles.\n",
    "Un nodesize alto sugiere una tecnologia muy mencionada\n",
    "Los group ayudan a identificar grupos de tecnologias (por ejemplo: data o cloud)"
   ]
  },
  {
   "cell_type": "markdown",
   "id": "9b2e84c3",
   "metadata": {},
   "source": [
    "# Data ingestion"
   ]
  },
  {
   "cell_type": "code",
   "execution_count": 94,
   "id": "ed17a0b0",
   "metadata": {},
   "outputs": [],
   "source": [
    "import findspark\n",
    "findspark.init()\n",
    "\n",
    "from pyspark.sql import SparkSession\n",
    "\n",
    "spark = SparkSession.builder \\\n",
    "    .appName(\"Examples on SparkSQL\") \\\n",
    "    .master(\"spark://spark-master:7077\") \\\n",
    "    .config(\"spark.jars.packages\", \"org.neo4j:neo4j-connector-apache-spark_2.13:5.3.10_for_spark_3\") \\\n",
    "    .config(\"spark.ui.port\", \"4040\") \\\n",
    "    .getOrCreate()\n",
    "\n",
    "sc = spark.sparkContext\n",
    "sc.setLogLevel(\"ERROR\")\n",
    "\n",
    "# Optimization (reduce the number of shuffle partitions)\n",
    "# spark.conf.set(\"spark.sql.shuffle.partitions\", \"5\") # INVESTIGAR SI DEJAR ESTA LINEA Y pq?"
   ]
  },
  {
   "cell_type": "markdown",
   "id": "0ebf528e",
   "metadata": {},
   "source": [
    "## Generate schema"
   ]
  },
  {
   "cell_type": "code",
   "execution_count": 95,
   "id": "a93cd621",
   "metadata": {},
   "outputs": [],
   "source": [
    "# Build schema\n",
    "from robertoman.spark_utils import SparkUtils\n",
    "\n",
    "nodes_schema = SparkUtils.generate_schema(\n",
    "    [\n",
    "        (\"name\", \"string\"),\n",
    "        (\"group\", \"int\"),\n",
    "        (\"nodesize\", \"double\"),\n",
    "    ]\n",
    ")\n",
    "\n",
    "links_schema = SparkUtils.generate_schema(\n",
    "    [\n",
    "        (\"source\", \"string\"),\n",
    "        (\"target\", \"string\"),\n",
    "        (\"value\", \"double\"),\n",
    "    ]\n",
    ")"
   ]
  },
  {
   "cell_type": "code",
   "execution_count": 96,
   "id": "8b37072a",
   "metadata": {},
   "outputs": [
    {
     "name": "stdout",
     "output_type": "stream",
     "text": [
      "----NODES-----\n",
      "root\n",
      " |-- name: string (nullable = true)\n",
      " |-- group: integer (nullable = true)\n",
      " |-- nodesize: double (nullable = true)\n",
      "\n"
     ]
    },
    {
     "name": "stderr",
     "output_type": "stream",
     "text": [
      "[Stage 0:>                                                          (0 + 1) / 1]\r"
     ]
    },
    {
     "name": "stdout",
     "output_type": "stream",
     "text": [
      "+-------------+-----+--------+\n",
      "|name         |group|nodesize|\n",
      "+-------------+-----+--------+\n",
      "|html         |6    |272.45  |\n",
      "|css          |6    |341.17  |\n",
      "|hibernate    |8    |29.83   |\n",
      "|spring       |8    |52.84   |\n",
      "|ruby         |3    |70.14   |\n",
      "|ruby-on-rails|3    |55.31   |\n",
      "|ios          |4    |87.46   |\n",
      "|swift        |4    |63.62   |\n",
      "|html5        |6    |140.18  |\n",
      "|c            |1    |189.83  |\n",
      "+-------------+-----+--------+\n",
      "only showing top 10 rows\n",
      "----LINKS----\n",
      "root\n",
      " |-- source: string (nullable = true)\n",
      " |-- target: string (nullable = true)\n",
      " |-- value: double (nullable = true)\n",
      "\n",
      "+----------------+------+------------------+\n",
      "|source          |target|value             |\n",
      "+----------------+------+------------------+\n",
      "|azure           |.net  |20.933192346640457|\n",
      "|sql-server      |.net  |32.322524219339904|\n",
      "|asp.net         |.net  |48.40702996199019 |\n",
      "|entity-framework|.net  |24.37090250532431 |\n",
      "|wpf             |.net  |32.35092522005943 |\n",
      "|linq            |.net  |20.501743858149066|\n",
      "|wcf             |.net  |28.074400427611113|\n",
      "|c#              |.net  |62.167895042923824|\n",
      "|tdd             |agile |37.146589924204555|\n",
      "|codeigniter     |ajax  |23.19190040565183 |\n",
      "+----------------+------+------------------+\n",
      "only showing top 10 rows\n"
     ]
    },
    {
     "name": "stderr",
     "output_type": "stream",
     "text": [
      "                                                                                \r"
     ]
    }
   ],
   "source": [
    "base_path = \"/opt/spark/work-dir/data/\"\n",
    "\n",
    "# esquema tipo string\n",
    "nodes_df = (\n",
    "    spark.read.option(\"header\", \"true\")\n",
    "    .schema(nodes_schema)\n",
    "    .csv(base_path + \"stackoverflow/stack_network_nodes.csv\")\n",
    ")\n",
    "\n",
    "links_df = (\n",
    "    spark.read.option(\"header\", \"true\")\n",
    "    .schema(links_schema)\n",
    "    .csv(base_path + \"stackoverflow/stack_network_links.csv\")\n",
    ")\n",
    "\n",
    "print(\"----NODES-----\")\n",
    "nodes_df.printSchema()\n",
    "nodes_df.show(10, truncate=False)\n",
    "\n",
    "print(\"----LINKS----\")\n",
    "links_df.printSchema()\n",
    "links_df.show(10, truncate=False)"
   ]
  },
  {
   "cell_type": "markdown",
   "id": "372e82d5",
   "metadata": {},
   "source": [
    "# Transformations\n",
    "- En nuestro caso el data set que escogimos estaba ya pre estructurado como un grafo en dos archivos. Uno de nodes stack_network_nodes.csv con las columnas `name`, `group`, y `nodesize`, para los edges stack_network_links.csv con las columnas `source`, `target`, y `value` peso de co-ocurrencia.\n",
    "- Por lo tanto no es necesario hacer la relacion entre nodos y edges como lo vimos en el ejemplo de la lectura 13. \n",
    "- En mi caso las \"tranformaciones\" que aplico son solo de tipado correcto en los schemas, por eso tenemos los dos data frames requeridos uno de nodos y otro de aristas, con tipos correctos y sin inconsistencias, sin tener que construir relaciones desde otras tablas, ya que el propio dataset de stack overflow ya está segmentado como grafo."
   ]
  },
  {
   "cell_type": "code",
   "execution_count": 97,
   "id": "000b6d0d",
   "metadata": {},
   "outputs": [],
   "source": [
    "# Add the code for your transformations to create nodes and edges DataFrames HERE"
   ]
  },
  {
   "cell_type": "markdown",
   "id": "e3a68775",
   "metadata": {},
   "source": [
    "# Writing Data in Neo4j"
   ]
  },
  {
   "cell_type": "code",
   "execution_count": 98,
   "id": "d01d7a89",
   "metadata": {},
   "outputs": [
    {
     "name": "stdout",
     "output_type": "stream",
     "text": [
      "115 Tech nodes wrote in Neo4j\n",
      "490 relationships wrote in Neo4j\n"
     ]
    }
   ],
   "source": [
    "# Add the code to write a graph from PySpark's DataFrames to Neo4j\n",
    "# Config Neo4j\n",
    "neo4j_url = \"bolt://neo4j-iteso:7687\"\n",
    "neo4j_user = \"neo4j\"\n",
    "neo4j_passwd = \"neo4j@1234\"\n",
    "\n",
    "#Nodes - Tech (key = name, )\n",
    "nodes_df.write \\\n",
    "  .format(\"org.neo4j.spark.DataSource\") \\\n",
    "  .mode(\"Overwrite\") \\\n",
    "  .option(\"url\", neo4j_url) \\\n",
    "  .option(\"authentication.basic.username\", neo4j_user) \\\n",
    "  .option(\"authentication.basic.password\", neo4j_passwd) \\\n",
    "  .option(\"labels\", \":Tech\") \\\n",
    "  .option(\"node.keys\", \"name\") \\\n",
    "  .save()\n",
    "\n",
    "print(f\"{nodes_df.count()} Tech nodes wrote in Neo4j\")\n",
    "\n",
    "# Edges - TECH_NEIGHBOUR o una co ocurrencia (source -> target) y guardamos value como propiedad\n",
    "links_df.write \\\n",
    "  .format(\"org.neo4j.spark.DataSource\") \\\n",
    "  .mode(\"Overwrite\") \\\n",
    "  .option(\"url\", neo4j_url) \\\n",
    "  .option(\"authentication.basic.username\", neo4j_user) \\\n",
    "  .option(\"authentication.basic.password\", neo4j_passwd) \\\n",
    "  .option(\"relationship\", \"TECH_NEIGHBOUR\") \\\n",
    "  .option(\"relationship.save.strategy\", \"keys\") \\\n",
    "  .option(\"relationship.source.labels\", \":Tech\") \\\n",
    "  .option(\"relationship.source.save.mode\", \"match\") \\\n",
    "  .option(\"relationship.source.node.keys\", \"source:name\") \\\n",
    "  .option(\"relationship.target.labels\", \":Tech\") \\\n",
    "  .option(\"relationship.target.save.mode\", \"match\") \\\n",
    "  .option(\"relationship.target.node.keys\", \"target:name\") \\\n",
    "  .save()\n",
    "\n",
    "print(f\"{links_df.count()} relationships wrote in Neo4j\")"
   ]
  },
  {
   "cell_type": "markdown",
   "id": "f30287ea",
   "metadata": {},
   "source": [
    "# Read and Query Graphs with PySpark"
   ]
  },
  {
   "cell_type": "code",
   "execution_count": 99,
   "id": "03ca7b56",
   "metadata": {},
   "outputs": [
    {
     "name": "stdout",
     "output_type": "stream",
     "text": [
      "+-----------+-------------+------------------+\n",
      "|tech_a     |tech_b       |weight            |\n",
      "+-----------+-------------+------------------+\n",
      "|css        |html         |126.57112712972764|\n",
      "|css        |html         |126.57112712972764|\n",
      "|hibernate  |spring       |103.26828446355263|\n",
      "|hibernate  |spring       |103.26828446355263|\n",
      "|ruby       |ruby-on-rails|95.36131071220332 |\n",
      "|ruby       |ruby-on-rails|95.36131071220332 |\n",
      "|ios        |swift        |87.21964246099864 |\n",
      "|ios        |swift        |87.21964246099864 |\n",
      "|css        |html5        |87.13826986156899 |\n",
      "|css        |html5        |87.13826986156899 |\n",
      "|c          |c++          |80.89104614147385 |\n",
      "|c          |c++          |80.89104614147385 |\n",
      "|asp.net    |c#           |80.4485421720991  |\n",
      "|asp.net    |c#           |80.4485421720991  |\n",
      "|objective-c|swift        |79.08853577916759 |\n",
      "|objective-c|swift        |79.08853577916759 |\n",
      "|ios        |objective-c  |78.75928046651394 |\n",
      "|ios        |objective-c  |78.75928046651394 |\n",
      "|css        |javascript   |75.53660009612221 |\n",
      "|css        |javascript   |75.53660009612221 |\n",
      "+-----------+-------------+------------------+\n",
      "only showing top 20 rows\n"
     ]
    }
   ],
   "source": [
    "# Add the code to read a data frame from Neo4J and run a simple query to verify \n",
    "top_pairs_df = spark.read \\\n",
    "    .format(\"org.neo4j.spark.DataSource\") \\\n",
    "    .option(\"url\", neo4j_url) \\\n",
    "    .option(\"authentication.basic.username\", neo4j_user) \\\n",
    "    .option(\"authentication.basic.password\", neo4j_passwd) \\\n",
    "    .option(\"query\", \"\"\"\n",
    "        MATCH (a:Tech)-[r:TECH_NEIGHBOUR]-(b:Tech)\n",
    "        WHERE a.name < b.name\n",
    "        RETURN a.name AS tech_a, b.name AS tech_b, r.value AS weight\n",
    "        ORDER BY weight DESC\n",
    "    \"\"\") \\\n",
    "    .load()\n",
    "\n",
    "top_pairs_df.show(truncate=False)\n"
   ]
  },
  {
   "cell_type": "code",
   "execution_count": null,
   "id": "db1ab675",
   "metadata": {},
   "outputs": [
    {
     "name": "stdout",
     "output_type": "stream",
     "text": [
      "+---------+------------------+\n",
      "|neighbor |weight            |\n",
      "+---------+------------------+\n",
      "|css      |75.53660009612221 |\n",
      "|css      |75.53660009612221 |\n",
      "|html     |59.75548884052987 |\n",
      "|html     |59.75548884052987 |\n",
      "|jquery   |57.84183152642191 |\n",
      "|jquery   |57.84183152642191 |\n",
      "|php      |47.3281575555596  |\n",
      "|php      |47.3281575555596  |\n",
      "|html5    |47.00636375705097 |\n",
      "|html5    |47.00636375705097 |\n",
      "|node.js  |42.73172932305638 |\n",
      "|node.js  |42.73172932305638 |\n",
      "|angularjs|39.37662666227728 |\n",
      "|angularjs|39.37662666227728 |\n",
      "|reactjs  |33.56735910485145 |\n",
      "|reactjs  |33.56735910485145 |\n",
      "|ajax     |24.39914442262329 |\n",
      "|ajax     |24.39914442262329 |\n",
      "|sass     |23.782469883653217|\n",
      "|sass     |23.782469883653217|\n",
      "+---------+------------------+\n",
      "only showing top 20 rows\n"
     ]
    }
   ],
   "source": [
    "tech = \"javascript\"\n",
    "\n",
    "neighbors_df = spark.read \\\n",
    "    .format(\"org.neo4j.spark.DataSource\") \\\n",
    "    .option(\"url\", neo4j_url) \\\n",
    "    .option(\"authentication.basic.username\", neo4j_user) \\\n",
    "    .option(\"authentication.basic.password\", neo4j_passwd) \\\n",
    "    .option(\"query\", f\"\"\"\n",
    "        MATCH (:Tech {{name: '{tech}'}})-[r:APPEARS_WITH]-(n:Tech)\n",
    "        RETURN n.name AS neighbor, r.value AS weight\n",
    "        ORDER BY weight DESC\n",
    "    \"\"\") \\\n",
    "    .load()\n",
    "\n",
    "neighbors_df.show(truncate=False)\n"
   ]
  },
  {
   "cell_type": "code",
   "execution_count": 101,
   "id": "9078a7dd",
   "metadata": {},
   "outputs": [],
   "source": [
    "sc.stop()"
   ]
  }
 ],
 "metadata": {
  "kernelspec": {
   "display_name": "Python 3 (ipykernel)",
   "language": "python",
   "name": "python3"
  },
  "language_info": {
   "codemirror_mode": {
    "name": "ipython",
    "version": 3
   },
   "file_extension": ".py",
   "mimetype": "text/x-python",
   "name": "python",
   "nbconvert_exporter": "python",
   "pygments_lexer": "ipython3",
   "version": "3.10.12"
  }
 },
 "nbformat": 4,
 "nbformat_minor": 5
}
