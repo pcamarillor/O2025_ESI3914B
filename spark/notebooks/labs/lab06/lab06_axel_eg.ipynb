{
 "cells": [
  {
   "cell_type": "markdown",
   "id": "b92d9622",
   "metadata": {},
   "source": [
    "# <center> <img src=\"../../img/ITESOLogo.png\" alt=\"ITESO\" width=\"480\" height=\"130\"> </center>\n",
    "# <center> **Departamento de Electrónica, Sistemas e Informática** </center>\n",
    "---\n",
    "## <center> Computer Systems Engineering  </center>\n",
    "---\n",
    "### <center> Big Data Processing </center>\n",
    "---\n",
    "#### <center> **Autumn 2025** </center>\n",
    "---\n",
    "\n",
    "**Lab 05**: Data pipeline with Neo4j\n",
    "\n",
    "**Date**: October 2nd 2025\n",
    "\n",
    "**Student Name**: Axel Escoto García\n",
    "\n",
    "**Professor**: Pablo Camarillo Ramirez"
   ]
  },
  {
   "cell_type": "markdown",
   "id": "7893c817",
   "metadata": {},
   "source": [
    "# Dataset description"
   ]
  },
  {
   "cell_type": "markdown",
   "id": "9b2e84c3",
   "metadata": {},
   "source": [
    "# Data ingestion"
   ]
  },
  {
   "cell_type": "code",
   "execution_count": 1,
   "id": "ed17a0b0",
   "metadata": {},
   "outputs": [
    {
     "name": "stderr",
     "output_type": "stream",
     "text": [
      "WARNING: Using incubator modules: jdk.incubator.vector\n",
      ":: loading settings :: url = jar:file:/opt/spark/jars/ivy-2.5.3.jar!/org/apache/ivy/core/settings/ivysettings.xml\n",
      "Ivy Default Cache set to: /root/.ivy2.5.2/cache\n",
      "The jars for the packages stored in: /root/.ivy2.5.2/jars\n",
      "org.neo4j#neo4j-connector-apache-spark_2.13 added as a dependency\n",
      ":: resolving dependencies :: org.apache.spark#spark-submit-parent-1588d46e-8ecd-4666-970e-214b0291f041;1.0\n",
      "\tconfs: [default]\n",
      "\tfound org.neo4j#neo4j-connector-apache-spark_2.13;5.3.10_for_spark_3 in central\n",
      "\tfound org.neo4j#neo4j-connector-apache-spark_2.13_common;5.3.10_for_spark_3 in central\n",
      "\tfound org.neo4j#caniuse-core;1.3.0 in central\n",
      "\tfound org.neo4j#caniuse-api;1.3.0 in central\n",
      "\tfound org.jetbrains.kotlin#kotlin-stdlib;2.1.20 in central\n",
      "\tfound org.jetbrains#annotations;13.0 in central\n",
      "\tfound org.neo4j#caniuse-neo4j-detection;1.3.0 in central\n",
      "\tfound org.neo4j.driver#neo4j-java-driver-slim;4.4.21 in central\n",
      "\tfound org.reactivestreams#reactive-streams;1.0.4 in central\n",
      "\tfound io.netty#netty-handler;4.1.127.Final in central\n",
      "\tfound io.netty#netty-common;4.1.127.Final in central\n",
      "\tfound io.netty#netty-resolver;4.1.127.Final in central\n",
      "\tfound io.netty#netty-buffer;4.1.127.Final in central\n",
      "\tfound io.netty#netty-transport;4.1.127.Final in central\n",
      "\tfound io.netty#netty-transport-native-unix-common;4.1.127.Final in central\n",
      "\tfound io.netty#netty-codec;4.1.127.Final in central\n",
      "\tfound io.netty#netty-tcnative-classes;2.0.73.Final in central\n",
      "\tfound io.projectreactor#reactor-core;3.6.11 in central\n",
      "\tfound org.neo4j#neo4j-cypher-dsl;2022.11.0 in central\n",
      "\tfound org.apiguardian#apiguardian-api;1.1.2 in central\n",
      "\tfound org.neo4j.connectors#commons-authn-spi;1.0.0-rc2 in central\n",
      "\tfound org.neo4j.connectors#commons-reauth-driver;1.0.0-rc2 in central\n",
      "\tfound org.slf4j#slf4j-api;2.0.17 in central\n",
      "\tfound org.neo4j.connectors#commons-authn-provided;1.0.0-rc2 in central\n",
      "downloading https://repo1.maven.org/maven2/org/neo4j/neo4j-connector-apache-spark_2.13/5.3.10_for_spark_3/neo4j-connector-apache-spark_2.13-5.3.10_for_spark_3.jar ...\n",
      "\t[SUCCESSFUL ] org.neo4j#neo4j-connector-apache-spark_2.13;5.3.10_for_spark_3!neo4j-connector-apache-spark_2.13.jar (6384ms)\n",
      "downloading https://repo1.maven.org/maven2/org/neo4j/neo4j-connector-apache-spark_2.13_common/5.3.10_for_spark_3/neo4j-connector-apache-spark_2.13_common-5.3.10_for_spark_3.jar ...\n",
      "\t[SUCCESSFUL ] org.neo4j#neo4j-connector-apache-spark_2.13_common;5.3.10_for_spark_3!neo4j-connector-apache-spark_2.13_common.jar (445ms)\n",
      "downloading https://repo1.maven.org/maven2/org/neo4j/driver/neo4j-java-driver-slim/4.4.21/neo4j-java-driver-slim-4.4.21.jar ...\n",
      "\t[SUCCESSFUL ] org.neo4j.driver#neo4j-java-driver-slim;4.4.21!neo4j-java-driver-slim.jar (685ms)\n",
      "downloading https://repo1.maven.org/maven2/org/neo4j/caniuse-core/1.3.0/caniuse-core-1.3.0.jar ...\n",
      "\t[SUCCESSFUL ] org.neo4j#caniuse-core;1.3.0!caniuse-core.jar (145ms)\n",
      "downloading https://repo1.maven.org/maven2/org/neo4j/caniuse-neo4j-detection/1.3.0/caniuse-neo4j-detection-1.3.0.jar ...\n",
      "\t[SUCCESSFUL ] org.neo4j#caniuse-neo4j-detection;1.3.0!caniuse-neo4j-detection.jar (128ms)\n",
      "downloading https://repo1.maven.org/maven2/org/neo4j/neo4j-cypher-dsl/2022.11.0/neo4j-cypher-dsl-2022.11.0.jar ...\n",
      "\t[SUCCESSFUL ] org.neo4j#neo4j-cypher-dsl;2022.11.0!neo4j-cypher-dsl.jar (501ms)\n",
      "downloading https://repo1.maven.org/maven2/org/neo4j/connectors/commons-authn-spi/1.0.0-rc2/commons-authn-spi-1.0.0-rc2.jar ...\n",
      "\t[SUCCESSFUL ] org.neo4j.connectors#commons-authn-spi;1.0.0-rc2!commons-authn-spi.jar (141ms)\n",
      "downloading https://repo1.maven.org/maven2/org/neo4j/connectors/commons-reauth-driver/1.0.0-rc2/commons-reauth-driver-1.0.0-rc2.jar ...\n",
      "\t[SUCCESSFUL ] org.neo4j.connectors#commons-reauth-driver;1.0.0-rc2!commons-reauth-driver.jar (213ms)\n",
      "downloading https://repo1.maven.org/maven2/org/neo4j/caniuse-api/1.3.0/caniuse-api-1.3.0.jar ...\n",
      "\t[SUCCESSFUL ] org.neo4j#caniuse-api;1.3.0!caniuse-api.jar (137ms)\n",
      "downloading https://repo1.maven.org/maven2/org/jetbrains/kotlin/kotlin-stdlib/2.1.20/kotlin-stdlib-2.1.20.jar ...\n",
      "\t[SUCCESSFUL ] org.jetbrains.kotlin#kotlin-stdlib;2.1.20!kotlin-stdlib.jar (2243ms)\n",
      "downloading https://repo1.maven.org/maven2/org/jetbrains/annotations/13.0/annotations-13.0.jar ...\n",
      "\t[SUCCESSFUL ] org.jetbrains#annotations;13.0!annotations.jar (153ms)\n",
      "downloading https://repo1.maven.org/maven2/org/reactivestreams/reactive-streams/1.0.4/reactive-streams-1.0.4.jar ...\n",
      "\t[SUCCESSFUL ] org.reactivestreams#reactive-streams;1.0.4!reactive-streams.jar (152ms)\n",
      "downloading https://repo1.maven.org/maven2/io/netty/netty-handler/4.1.127.Final/netty-handler-4.1.127.Final.jar ...\n",
      "\t[SUCCESSFUL ] io.netty#netty-handler;4.1.127.Final!netty-handler.jar (590ms)\n",
      "downloading https://repo1.maven.org/maven2/io/netty/netty-tcnative-classes/2.0.73.Final/netty-tcnative-classes-2.0.73.Final.jar ...\n",
      "\t[SUCCESSFUL ] io.netty#netty-tcnative-classes;2.0.73.Final!netty-tcnative-classes.jar (190ms)\n",
      "downloading https://repo1.maven.org/maven2/io/projectreactor/reactor-core/3.6.11/reactor-core-3.6.11.jar ...\n",
      "\t[SUCCESSFUL ] io.projectreactor#reactor-core;3.6.11!reactor-core.jar (1602ms)\n",
      "downloading https://repo1.maven.org/maven2/io/netty/netty-common/4.1.127.Final/netty-common-4.1.127.Final.jar ...\n",
      "\t[SUCCESSFUL ] io.netty#netty-common;4.1.127.Final!netty-common.jar (710ms)\n",
      "downloading https://repo1.maven.org/maven2/io/netty/netty-resolver/4.1.127.Final/netty-resolver-4.1.127.Final.jar ...\n",
      "\t[SUCCESSFUL ] io.netty#netty-resolver;4.1.127.Final!netty-resolver.jar (189ms)\n",
      "downloading https://repo1.maven.org/maven2/io/netty/netty-buffer/4.1.127.Final/netty-buffer-4.1.127.Final.jar ...\n",
      "\t[SUCCESSFUL ] io.netty#netty-buffer;4.1.127.Final!netty-buffer.jar (412ms)\n",
      "downloading https://repo1.maven.org/maven2/io/netty/netty-transport/4.1.127.Final/netty-transport-4.1.127.Final.jar ...\n",
      "\t[SUCCESSFUL ] io.netty#netty-transport;4.1.127.Final!netty-transport.jar (548ms)\n",
      "downloading https://repo1.maven.org/maven2/io/netty/netty-transport-native-unix-common/4.1.127.Final/netty-transport-native-unix-common-4.1.127.Final.jar ...\n",
      "\t[SUCCESSFUL ] io.netty#netty-transport-native-unix-common;4.1.127.Final!netty-transport-native-unix-common.jar (171ms)\n",
      "downloading https://repo1.maven.org/maven2/io/netty/netty-codec/4.1.127.Final/netty-codec-4.1.127.Final.jar ...\n",
      "\t[SUCCESSFUL ] io.netty#netty-codec;4.1.127.Final!netty-codec.jar (405ms)\n",
      "downloading https://repo1.maven.org/maven2/org/apiguardian/apiguardian-api/1.1.2/apiguardian-api-1.1.2.jar ...\n",
      "\t[SUCCESSFUL ] org.apiguardian#apiguardian-api;1.1.2!apiguardian-api.jar (139ms)\n",
      "downloading https://repo1.maven.org/maven2/org/slf4j/slf4j-api/2.0.17/slf4j-api-2.0.17.jar ...\n",
      "\t[SUCCESSFUL ] org.slf4j#slf4j-api;2.0.17!slf4j-api.jar (194ms)\n",
      "downloading https://repo1.maven.org/maven2/org/neo4j/connectors/commons-authn-provided/1.0.0-rc2/commons-authn-provided-1.0.0-rc2.jar ...\n",
      "\t[SUCCESSFUL ] org.neo4j.connectors#commons-authn-provided;1.0.0-rc2!commons-authn-provided.jar (128ms)\n",
      ":: resolution report :: resolve 24562ms :: artifacts dl 16619ms\n",
      "\t:: modules in use:\n",
      "\tio.netty#netty-buffer;4.1.127.Final from central in [default]\n",
      "\tio.netty#netty-codec;4.1.127.Final from central in [default]\n",
      "\tio.netty#netty-common;4.1.127.Final from central in [default]\n",
      "\tio.netty#netty-handler;4.1.127.Final from central in [default]\n",
      "\tio.netty#netty-resolver;4.1.127.Final from central in [default]\n",
      "\tio.netty#netty-tcnative-classes;2.0.73.Final from central in [default]\n",
      "\tio.netty#netty-transport;4.1.127.Final from central in [default]\n",
      "\tio.netty#netty-transport-native-unix-common;4.1.127.Final from central in [default]\n",
      "\tio.projectreactor#reactor-core;3.6.11 from central in [default]\n",
      "\torg.apiguardian#apiguardian-api;1.1.2 from central in [default]\n",
      "\torg.jetbrains#annotations;13.0 from central in [default]\n",
      "\torg.jetbrains.kotlin#kotlin-stdlib;2.1.20 from central in [default]\n",
      "\torg.neo4j#caniuse-api;1.3.0 from central in [default]\n",
      "\torg.neo4j#caniuse-core;1.3.0 from central in [default]\n",
      "\torg.neo4j#caniuse-neo4j-detection;1.3.0 from central in [default]\n",
      "\torg.neo4j#neo4j-connector-apache-spark_2.13;5.3.10_for_spark_3 from central in [default]\n",
      "\torg.neo4j#neo4j-connector-apache-spark_2.13_common;5.3.10_for_spark_3 from central in [default]\n",
      "\torg.neo4j#neo4j-cypher-dsl;2022.11.0 from central in [default]\n",
      "\torg.neo4j.connectors#commons-authn-provided;1.0.0-rc2 from central in [default]\n",
      "\torg.neo4j.connectors#commons-authn-spi;1.0.0-rc2 from central in [default]\n",
      "\torg.neo4j.connectors#commons-reauth-driver;1.0.0-rc2 from central in [default]\n",
      "\torg.neo4j.driver#neo4j-java-driver-slim;4.4.21 from central in [default]\n",
      "\torg.reactivestreams#reactive-streams;1.0.4 from central in [default]\n",
      "\torg.slf4j#slf4j-api;2.0.17 from central in [default]\n",
      "\t---------------------------------------------------------------------\n",
      "\t|                  |            modules            ||   artifacts   |\n",
      "\t|       conf       | number| search|dwnlded|evicted|| number|dwnlded|\n",
      "\t---------------------------------------------------------------------\n",
      "\t|      default     |   24  |   24  |   24  |   0   ||   24  |   24  |\n",
      "\t---------------------------------------------------------------------\n",
      ":: retrieving :: org.apache.spark#spark-submit-parent-1588d46e-8ecd-4666-970e-214b0291f041\n",
      "\tconfs: [default]\n",
      "\t24 artifacts copied, 0 already retrieved (15383kB/33ms)\n",
      "25/10/05 19:06:02 WARN NativeCodeLoader: Unable to load native-hadoop library for your platform... using builtin-java classes where applicable\n",
      "Using Spark's default log4j profile: org/apache/spark/log4j2-defaults.properties\n",
      "Setting default log level to \"WARN\".\n",
      "To adjust logging level use sc.setLogLevel(newLevel). For SparkR, use setLogLevel(newLevel).\n"
     ]
    }
   ],
   "source": [
    "import findspark\n",
    "findspark.init()\n",
    "\n",
    "from pyspark.sql import SparkSession\n",
    "\n",
    "spark = SparkSession.builder \\\n",
    "    .appName(\"Examples on SparkSQL\") \\\n",
    "    .master(\"spark://spark-master:7077\") \\\n",
    "    .config(\"spark.jars.packages\", \"org.neo4j:neo4j-connector-apache-spark_2.13:5.3.10_for_spark_3\") \\\n",
    "    .config(\"spark.ui.port\", \"4040\") \\\n",
    "    .getOrCreate()\n",
    "\n",
    "sc = spark.sparkContext\n",
    "sc.setLogLevel(\"ERROR\")"
   ]
  },
  {
   "cell_type": "code",
   "execution_count": 3,
   "id": "a93cd621",
   "metadata": {},
   "outputs": [
    {
     "name": "stderr",
     "output_type": "stream",
     "text": [
      "[Stage 0:>                                                          (0 + 1) / 1]"
     ]
    },
    {
     "name": "stdout",
     "output_type": "stream",
     "text": [
      "+---+-------+-------+----------+------+----+\n",
      "| id| source| target|      type|weight|book|\n",
      "+---+-------+-------+----------+------+----+\n",
      "|  0|Velerad| Geralt|Undirected|     1|   1|\n",
      "|  1| Geralt|Foltest|Undirected|     5|   1|\n",
      "|  2|Foltest| Geralt|Undirected|     4|   1|\n",
      "|  3|   Adda| Geralt|Undirected|     1|   1|\n",
      "|  4| Geralt| Ostrit|Undirected|     4|   1|\n",
      "+---+-------+-------+----------+------+----+\n",
      "only showing top 5 rows\n"
     ]
    },
    {
     "name": "stderr",
     "output_type": "stream",
     "text": [
      "                                                                                "
     ]
    }
   ],
   "source": [
    "# Build schema\n",
    "# Import your module\n",
    "from axel2293.spark_utils import SparkUtils\n",
    "\n",
    "witcher_schema = [\n",
    "    (\"id\", \"string\"),\n",
    "    (\"source\", \"string\"),\n",
    "    (\"target\", \"string\"),\n",
    "    (\"type\", \"string\"),\n",
    "    (\"weight\", \"int\"),\n",
    "    (\"book\", \"int\"),\n",
    "]\n",
    "witcher_schema = SparkUtils.generate_schema(witcher_schema)\n",
    "\n",
    "witcher_df = spark.read.schema(witcher_schema).option(\"header\", True).csv(\"/opt/spark/work-dir/data/witcher_network/witcher_network.csv\")\n",
    "witcher_df.show(5)"
   ]
  },
  {
   "cell_type": "markdown",
   "id": "372e82d5",
   "metadata": {},
   "source": [
    "# Transformations"
   ]
  },
  {
   "cell_type": "code",
   "execution_count": 8,
   "id": "000b6d0d",
   "metadata": {},
   "outputs": [
    {
     "name": "stdout",
     "output_type": "stream",
     "text": [
      "+-----------+\n",
      "|         id|\n",
      "+-----------+\n",
      "|      Roach|\n",
      "|      Sword|\n",
      "|   Vysogota|\n",
      "|    Radovid|\n",
      "|      Baron|\n",
      "|   Aelirenn|\n",
      "|    Carduin|\n",
      "|     Rience|\n",
      "|     Ostrit|\n",
      "|      Munro|\n",
      "|    Venzlav|\n",
      "|    Visenna|\n",
      "| Akerspaark|\n",
      "|Ihuarraquax|\n",
      "|Filavandrel|\n",
      "|    Everett|\n",
      "|    Esterad|\n",
      "|      Rayla|\n",
      "|     Civril|\n",
      "|     Little|\n",
      "+-----------+\n",
      "only showing top 20 rows\n"
     ]
    }
   ],
   "source": [
    "# Add the code for your transformations to create nodes and edges DataFrames HERE\n",
    "from pyspark.sql.functions import col\n",
    "\n",
    "# Nodos\n",
    "nodes_source = witcher_df.select(col(\"source\").alias(\"id\"))\n",
    "nodes_target = witcher_df.select(col(\"target\").alias(\"id\"))\n",
    "\n",
    "# Were gonna have duplicates, so create a unique df with the union\n",
    "nodes_df = nodes_source.union(nodes_target).distinct()\n",
    "nodes_df.show()"
   ]
  },
  {
   "cell_type": "code",
   "execution_count": 7,
   "id": "9f57667f-9457-4561-a418-7527c0340dbe",
   "metadata": {},
   "outputs": [
    {
     "name": "stdout",
     "output_type": "stream",
     "text": [
      "+-------+-------+------+----+\n",
      "|    src|    dst|weight|book|\n",
      "+-------+-------+------+----+\n",
      "|Velerad| Geralt|     1|   1|\n",
      "| Geralt|Foltest|     5|   1|\n",
      "|Foltest| Geralt|     4|   1|\n",
      "|   Adda| Geralt|     1|   1|\n",
      "| Geralt| Ostrit|     4|   1|\n",
      "+-------+-------+------+----+\n",
      "only showing top 5 rows\n"
     ]
    }
   ],
   "source": [
    "# Edges\n",
    "edges_df = witcher_df.select(\n",
    "    col(\"Source\").alias(\"src\"),\n",
    "    col(\"Target\").alias(\"dst\"),\n",
    "    col(\"weight\").cast(\"int\"),\n",
    "    col(\"book\").cast(\"int\")\n",
    ")\n",
    "edges_df.show(5)"
   ]
  },
  {
   "cell_type": "markdown",
   "id": "e3a68775",
   "metadata": {},
   "source": [
    "# Writing Data in Neo4j"
   ]
  },
  {
   "cell_type": "code",
   "execution_count": 11,
   "id": "d01d7a89",
   "metadata": {},
   "outputs": [
    {
     "name": "stdout",
     "output_type": "stream",
     "text": [
      "224 characters nodes wrote in Neo4j\n",
      "2600 Interaction edges wrote in Neo4j\n"
     ]
    }
   ],
   "source": [
    "# Add the code to write a graph from PySpark's DataFrames to Neo4j\n",
    "neo4j_url = \"bolt://neo4j-iteso:7687\"\n",
    "neo4j_user = \"neo4j\"\n",
    "neo4j_passwd = \"neo4j@1234\"\n",
    "\n",
    "nodes_df.write \\\n",
    "  .format(\"org.neo4j.spark.DataSource\") \\\n",
    "  .mode(\"Overwrite\") \\\n",
    "  .option(\"url\", neo4j_url) \\\n",
    "  .option(\"authentication.basic.username\", neo4j_user) \\\n",
    "  .option(\"authentication.basic.password\", neo4j_passwd) \\\n",
    "  .option(\"labels\", \":Characters\") \\\n",
    "  .option(\"node.keys\", \"id\") \\\n",
    "  .save()\n",
    "\n",
    "print(f\"{nodes_df.count()} characters nodes wrote in Neo4j\")\n",
    "\n",
    "edges_df.write \\\n",
    "  .format(\"org.neo4j.spark.DataSource\") \\\n",
    "  .mode(\"Overwrite\") \\\n",
    "  .option(\"url\", neo4j_url) \\\n",
    "  .option(\"authentication.basic.username\", neo4j_user) \\\n",
    "  .option(\"authentication.basic.password\", neo4j_passwd) \\\n",
    "  .option(\"relationship\", \"INTERACTED\") \\\n",
    "  .option(\"relationship.save.strategy\", \"keys\") \\\n",
    "  .option(\"relationship.source.labels\", \":Characters\") \\\n",
    "  .option(\"relationship.source.save.mode\", \"match\") \\\n",
    "  .option(\"relationship.source.node.keys\", \"src:id\") \\\n",
    "  .option(\"relationship.target.labels\", \":Characters\") \\\n",
    "  .option(\"relationship.target.save.mode\", \"match\") \\\n",
    "  .option(\"relationship.target.node.keys\", \"dst:id\") \\\n",
    "  .save()\n",
    "\n",
    "print(f\"{edges_df.count()} Interaction edges wrote in Neo4j\")"
   ]
  },
  {
   "cell_type": "markdown",
   "id": "f30287ea",
   "metadata": {},
   "source": [
    "# Read and Query Graphs with PySpark"
   ]
  },
  {
   "cell_type": "code",
   "execution_count": 25,
   "id": "03ca7b56",
   "metadata": {},
   "outputs": [
    {
     "name": "stdout",
     "output_type": "stream",
     "text": [
      "+--------+----------+--------+------+\n",
      "|  Source|    Target|r.weight|r.book|\n",
      "+--------+----------+--------+------+\n",
      "|Yennefer|      Ciri|      44|     7|\n",
      "|    Ciri|  Yennefer|      40|     7|\n",
      "|  Kelpie|      Ciri|      36|     7|\n",
      "|  Geralt|      Ciri|      34|     7|\n",
      "|  Zoltan|    Geralt|      33|     5|\n",
      "|  Rience| Dandelion|      29|     3|\n",
      "|  Geralt|      Essi|      29|     2|\n",
      "|  Geralt| Dandelion|      28|     7|\n",
      "|    Ciri|    Geralt|      28|     7|\n",
      "|  Zoltan|     Milva|      27|     5|\n",
      "|  Geralt|     Yurga|      27|     2|\n",
      "|Yennefer|    Geralt|      25|     7|\n",
      "|    Ciri|    Kelpie|      25|     7|\n",
      "| Istredd|    Geralt|      24|     2|\n",
      "|  Geralt|   Istredd|      24|     2|\n",
      "|    Essi|    Geralt|      23|     2|\n",
      "|  Geralt| Fringilla|      22|     7|\n",
      "|  Geralt|Vilgefortz|      22|     7|\n",
      "|   Yurga|    Geralt|      21|     2|\n",
      "|    Ciri|     Fabio|      21|     4|\n",
      "+--------+----------+--------+------+\n",
      "\n"
     ]
    }
   ],
   "source": [
    "# Add the code to read a data frame from Neo4J and run a simple query to verify \n",
    "cypher_df = spark.read \\\n",
    "    .format(\"org.neo4j.spark.DataSource\") \\\n",
    "    .option(\"url\", neo4j_url) \\\n",
    "    .option(\"authentication.basic.username\", neo4j_user) \\\n",
    "    .option(\"authentication.basic.password\", neo4j_passwd) \\\n",
    "    .option(\"query\",\n",
    "            \"\"\"\n",
    "            MATCH (a:Characters)-[r:INTERACTED]->(b:Characters)\n",
    "            WHERE r.weight > 20\n",
    "            ORDER BY r.weight DESC\n",
    "            RETURN a.id AS Source, b.id AS Target, r.weight, r.book\n",
    "            \"\"\") \\\n",
    "    .load()\n",
    "\n",
    "cypher_df.show()"
   ]
  },
  {
   "cell_type": "code",
   "execution_count": 29,
   "id": "7d8b5519-fa8f-4f4c-82e3-01ee9d68bd38",
   "metadata": {},
   "outputs": [
    {
     "name": "stdout",
     "output_type": "stream",
     "text": [
      "+------+----------+--------+------+\n",
      "|Source|    Target|r.weight|r.book|\n",
      "+------+----------+--------+------+\n",
      "|Geralt|      Ciri|      34|     7|\n",
      "|Geralt|    Zoltan|      33|     5|\n",
      "|Geralt|      Essi|      29|     2|\n",
      "|Geralt|      Ciri|      28|     7|\n",
      "|Geralt| Dandelion|      28|     7|\n",
      "|Geralt|     Yurga|      27|     2|\n",
      "|Geralt|  Yennefer|      25|     7|\n",
      "|Geralt|   Istredd|      24|     2|\n",
      "|Geralt|   Istredd|      24|     2|\n",
      "|Geralt|      Essi|      23|     2|\n",
      "|Geralt| Fringilla|      22|     7|\n",
      "|Geralt|Vilgefortz|      22|     7|\n",
      "|Geralt|     Yurga|      21|     2|\n",
      "|Geralt|    Eithné|      18|     2|\n",
      "|Geralt|    Braenn|      18|     2|\n",
      "|Geralt|   Visenna|      17|     2|\n",
      "|Geralt|    Braenn|      17|     2|\n",
      "|Geralt| Dandelion|      15|     7|\n",
      "|Geralt| Chireadan|      15|     1|\n",
      "|Geralt|  Herbolth|      15|     2|\n",
      "+------+----------+--------+------+\n",
      "only showing top 20 rows\n"
     ]
    }
   ],
   "source": [
    "# Relaciones más importantes con Geralt\n",
    "\n",
    "cypher_df = spark.read \\\n",
    "    .format(\"org.neo4j.spark.DataSource\") \\\n",
    "    .option(\"url\", neo4j_url) \\\n",
    "    .option(\"authentication.basic.username\", neo4j_user) \\\n",
    "    .option(\"authentication.basic.password\", neo4j_passwd) \\\n",
    "    .option(\"query\",\n",
    "            \"\"\"\n",
    "            MATCH (g:Characters {id:\"Geralt\"})-[r:INTERACTED]-(n:Characters)\n",
    "            WHERE r.weight > 10\n",
    "            ORDER BY r.weight DESC\n",
    "            RETURN g.id AS Source, n.id AS Target, r.weight, r.book\n",
    "            \"\"\") \\\n",
    "    .load()\n",
    "\n",
    "cypher_df.show()"
   ]
  },
  {
   "cell_type": "code",
   "execution_count": null,
   "id": "9078a7dd",
   "metadata": {},
   "outputs": [],
   "source": [
    "sc.stop()"
   ]
  }
 ],
 "metadata": {
  "kernelspec": {
   "display_name": "Python 3 (ipykernel)",
   "language": "python",
   "name": "python3"
  },
  "language_info": {
   "codemirror_mode": {
    "name": "ipython",
    "version": 3
   },
   "file_extension": ".py",
   "mimetype": "text/x-python",
   "name": "python",
   "nbconvert_exporter": "python",
   "pygments_lexer": "ipython3",
   "version": "3.10.12"
  }
 },
 "nbformat": 4,
 "nbformat_minor": 5
}
