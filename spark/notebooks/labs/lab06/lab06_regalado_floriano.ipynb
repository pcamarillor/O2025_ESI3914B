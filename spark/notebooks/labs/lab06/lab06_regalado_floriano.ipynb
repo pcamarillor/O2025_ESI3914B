{
 "cells": [
  {
   "cell_type": "markdown",
   "id": "b92d9622",
   "metadata": {},
   "source": [
    "# <center> <img src=\"../../img/ITESOLogo.png\" alt=\"ITESO\" width=\"480\" height=\"130\"> </center>\n",
    "# <center> **Departamento de Electrónica, Sistemas e Informática** </center>\n",
    "---\n",
    "## <center> Computer Systems Engineering  </center>\n",
    "---\n",
    "### <center> Big Data Processing </center>\n",
    "---\n",
    "#### <center> **Autumn 2025** </center>\n",
    "---\n",
    "\n",
    "**Lab 05**: Data pipeline with Neo4j\n",
    "\n",
    "**Date**: October 2nd 2025\n",
    "\n",
    "**Student Name**:\n",
    "\n",
    "**Professor**: Pablo Camarillo Ramirez"
   ]
  },
  {
   "cell_type": "markdown",
   "id": "7893c817",
   "metadata": {},
   "source": [
    "# Dataset description"
   ]
  },
  {
   "cell_type": "markdown",
   "id": "9b2e84c3",
   "metadata": {},
   "source": [
    "# Data ingestion"
   ]
  },
  {
   "cell_type": "code",
   "execution_count": 1,
   "id": "ed17a0b0",
   "metadata": {},
   "outputs": [
    {
     "name": "stderr",
     "output_type": "stream",
     "text": [
      "WARNING: Using incubator modules: jdk.incubator.vector\n",
      ":: loading settings :: url = jar:file:/opt/spark/jars/ivy-2.5.3.jar!/org/apache/ivy/core/settings/ivysettings.xml\n",
      "Ivy Default Cache set to: /root/.ivy2.5.2/cache\n",
      "The jars for the packages stored in: /root/.ivy2.5.2/jars\n",
      "org.neo4j#neo4j-connector-apache-spark_2.13 added as a dependency\n",
      ":: resolving dependencies :: org.apache.spark#spark-submit-parent-d946f15e-a09b-48fa-b14a-20a35f1eed5d;1.0\n",
      "\tconfs: [default]\n",
      "\tfound org.neo4j#neo4j-connector-apache-spark_2.13;5.3.10_for_spark_3 in central\n",
      "\tfound org.neo4j#neo4j-connector-apache-spark_2.13_common;5.3.10_for_spark_3 in central\n",
      "\tfound org.neo4j#caniuse-core;1.3.0 in central\n",
      "\tfound org.neo4j#caniuse-api;1.3.0 in central\n",
      "\tfound org.jetbrains.kotlin#kotlin-stdlib;2.1.20 in central\n",
      "\tfound org.jetbrains#annotations;13.0 in central\n",
      "\tfound org.neo4j#caniuse-neo4j-detection;1.3.0 in central\n",
      "\tfound org.neo4j.driver#neo4j-java-driver-slim;4.4.21 in central\n",
      "\tfound org.reactivestreams#reactive-streams;1.0.4 in central\n",
      "\tfound io.netty#netty-handler;4.1.127.Final in central\n",
      "\tfound io.netty#netty-common;4.1.127.Final in central\n",
      "\tfound io.netty#netty-resolver;4.1.127.Final in central\n",
      "\tfound io.netty#netty-buffer;4.1.127.Final in central\n",
      "\tfound io.netty#netty-transport;4.1.127.Final in central\n",
      "\tfound io.netty#netty-transport-native-unix-common;4.1.127.Final in central\n",
      "\tfound io.netty#netty-codec;4.1.127.Final in central\n",
      "\tfound io.netty#netty-tcnative-classes;2.0.73.Final in central\n",
      "\tfound io.projectreactor#reactor-core;3.6.11 in central\n",
      "\tfound org.neo4j#neo4j-cypher-dsl;2022.11.0 in central\n",
      "\tfound org.apiguardian#apiguardian-api;1.1.2 in central\n",
      "\tfound org.neo4j.connectors#commons-authn-spi;1.0.0-rc2 in central\n",
      "\tfound org.neo4j.connectors#commons-reauth-driver;1.0.0-rc2 in central\n",
      "\tfound org.slf4j#slf4j-api;2.0.17 in central\n",
      "\tfound org.neo4j.connectors#commons-authn-provided;1.0.0-rc2 in central\n",
      ":: resolution report :: resolve 742ms :: artifacts dl 31ms\n",
      "\t:: modules in use:\n",
      "\tio.netty#netty-buffer;4.1.127.Final from central in [default]\n",
      "\tio.netty#netty-codec;4.1.127.Final from central in [default]\n",
      "\tio.netty#netty-common;4.1.127.Final from central in [default]\n",
      "\tio.netty#netty-handler;4.1.127.Final from central in [default]\n",
      "\tio.netty#netty-resolver;4.1.127.Final from central in [default]\n",
      "\tio.netty#netty-tcnative-classes;2.0.73.Final from central in [default]\n",
      "\tio.netty#netty-transport;4.1.127.Final from central in [default]\n",
      "\tio.netty#netty-transport-native-unix-common;4.1.127.Final from central in [default]\n",
      "\tio.projectreactor#reactor-core;3.6.11 from central in [default]\n",
      "\torg.apiguardian#apiguardian-api;1.1.2 from central in [default]\n",
      "\torg.jetbrains#annotations;13.0 from central in [default]\n",
      "\torg.jetbrains.kotlin#kotlin-stdlib;2.1.20 from central in [default]\n",
      "\torg.neo4j#caniuse-api;1.3.0 from central in [default]\n",
      "\torg.neo4j#caniuse-core;1.3.0 from central in [default]\n",
      "\torg.neo4j#caniuse-neo4j-detection;1.3.0 from central in [default]\n",
      "\torg.neo4j#neo4j-connector-apache-spark_2.13;5.3.10_for_spark_3 from central in [default]\n",
      "\torg.neo4j#neo4j-connector-apache-spark_2.13_common;5.3.10_for_spark_3 from central in [default]\n",
      "\torg.neo4j#neo4j-cypher-dsl;2022.11.0 from central in [default]\n",
      "\torg.neo4j.connectors#commons-authn-provided;1.0.0-rc2 from central in [default]\n",
      "\torg.neo4j.connectors#commons-authn-spi;1.0.0-rc2 from central in [default]\n",
      "\torg.neo4j.connectors#commons-reauth-driver;1.0.0-rc2 from central in [default]\n",
      "\torg.neo4j.driver#neo4j-java-driver-slim;4.4.21 from central in [default]\n",
      "\torg.reactivestreams#reactive-streams;1.0.4 from central in [default]\n",
      "\torg.slf4j#slf4j-api;2.0.17 from central in [default]\n",
      "\t---------------------------------------------------------------------\n",
      "\t|                  |            modules            ||   artifacts   |\n",
      "\t|       conf       | number| search|dwnlded|evicted|| number|dwnlded|\n",
      "\t---------------------------------------------------------------------\n",
      "\t|      default     |   24  |   0   |   0   |   0   ||   24  |   0   |\n",
      "\t---------------------------------------------------------------------\n",
      ":: retrieving :: org.apache.spark#spark-submit-parent-d946f15e-a09b-48fa-b14a-20a35f1eed5d\n",
      "\tconfs: [default]\n",
      "\t0 artifacts copied, 24 already retrieved (0kB/16ms)\n",
      "25/10/06 01:34:06 WARN NativeCodeLoader: Unable to load native-hadoop library for your platform... using builtin-java classes where applicable\n",
      "Using Spark's default log4j profile: org/apache/spark/log4j2-defaults.properties\n",
      "Setting default log level to \"WARN\".\n",
      "To adjust logging level use sc.setLogLevel(newLevel). For SparkR, use setLogLevel(newLevel).\n"
     ]
    }
   ],
   "source": [
    "import findspark\n",
    "findspark.init()\n",
    "\n",
    "from pyspark.sql import SparkSession\n",
    "\n",
    "spark = SparkSession.builder \\\n",
    "    .appName(\"Examples on SparkSQL\") \\\n",
    "    .master(\"spark://spark-master:7077\") \\\n",
    "    .config(\"spark.jars.packages\",\n",
    "\"org.neo4j:neo4j-connector-apache-spark_2.13:5.3.10_for_spark_3\") \\\n",
    "    .getOrCreate()\n",
    "\n",
    "sc = spark.sparkContext\n",
    "sc.setLogLevel(\"ERROR\")"
   ]
  },
  {
   "cell_type": "code",
   "execution_count": 2,
   "id": "882a1429-6e49-413c-b284-39b72b96c695",
   "metadata": {},
   "outputs": [],
   "source": [
    "from regalado_floriano.spark_utils import  SparkUtils\n",
    "#https://www.kaggle.com/datasets/anshulmehtakaggl/github-organizations-social-network-analysis\n",
    "path = \"/opt/spark/work-dir/data/github_organizations/\"\n",
    "org_schema = SparkUtils.generate_schema([(\"Organization\", \"string\"), (\"member\", \"string\")])\n",
    "\n",
    "df_orgs = spark.read.option(\"header\", \"true\")\\\n",
    "                .schema(org_schema)\\\n",
    "                .csv(path + \"organization.csv\")"
   ]
  },
  {
   "cell_type": "code",
   "execution_count": 3,
   "id": "a93cd621",
   "metadata": {},
   "outputs": [
    {
     "name": "stderr",
     "output_type": "stream",
     "text": [
      "[Stage 0:>                                                          (0 + 1) / 1]"
     ]
    },
    {
     "name": "stdout",
     "output_type": "stream",
     "text": [
      "+------------+--------------------+\n",
      "|Organization|              member|\n",
      "+------------+--------------------+\n",
      "|    ethereum|       Oleh Aldekein|\n",
      "|    ethereum|                None|\n",
      "|    ethereum|  Frank Szendzielarz|\n",
      "|    ethereum|   Kolby Moroz Liebl|\n",
      "|    ethereum|Marius van der Wi...|\n",
      "|    ethereum|        Mihai Alisie|\n",
      "|    ethereum|                None|\n",
      "|    ethereum|    Anton Nashatyrev|\n",
      "|    ethereum|       Justin Martin|\n",
      "|    ethereum|         RJ Catalano|\n",
      "|    ethereum| Yoshitomo Nakanishi|\n",
      "|    ethereum|      Alexander Arlt|\n",
      "|    ethereum|   Alessandro Coglio|\n",
      "|    ethereum|                acud|\n",
      "|    ethereum|  Patricio Palladino|\n",
      "|    ethereum|           Angela Lu|\n",
      "|    ethereum|    Alex Beregszaszi|\n",
      "|    ethereum|                None|\n",
      "|    ethereum|               becca|\n",
      "|    ethereum|        Kamil Śliwak|\n",
      "+------------+--------------------+\n",
      "only showing top 20 rows\n"
     ]
    },
    {
     "name": "stderr",
     "output_type": "stream",
     "text": [
      "                                                                                "
     ]
    }
   ],
   "source": [
    "df_orgs.show()"
   ]
  },
  {
   "cell_type": "markdown",
   "id": "372e82d5",
   "metadata": {},
   "source": [
    "# Transformations"
   ]
  },
  {
   "cell_type": "code",
   "execution_count": 13,
   "id": "000b6d0d",
   "metadata": {},
   "outputs": [],
   "source": [
    "# Add the code for your transformations to create nodes and edges DataFrames HERE\n",
    "#there really isn't a lot to do. it is already ready to be imported\n",
    "from pyspark.sql.functions import col,monotonically_increasing_id\n",
    "\n",
    "df_orgs  = df_orgs.select(col(\"Organization\").alias(\"Organization\"),col(\"member\").alias(\"Member\"))\n",
    "organizations = df_orgs.select(col(\"Organization\").alias(\"name\")).distinct().withColumn(\"id\",monotonically_increasing_id())\n",
    "users = df_orgs.select(col(\"member\").alias(\"name\")).distinct().withColumn(\"id\",monotonically_increasing_id()) "
   ]
  },
  {
   "cell_type": "markdown",
   "id": "e3a68775",
   "metadata": {},
   "source": [
    "# Writing Data in Neo4j"
   ]
  },
  {
   "cell_type": "code",
   "execution_count": 17,
   "id": "d01d7a89",
   "metadata": {},
   "outputs": [],
   "source": [
    "# Add the code to write a graph from PySpark's DataFrames to Neo4j\n",
    "neo4j_url = \"bolt://neo4j-iteso:7687\"\n",
    "neo4j_user = \"neo4j\"\n",
    "neo4j_passwd = \"neo4j@1234\"\n",
    "#I will include this in spark utils, with the class instanstiationg the user and url and passwd\n",
    "def loadNodes(df, name, key):\n",
    "    df.write \\\n",
    "      .format(\"org.neo4j.spark.DataSource\") \\\n",
    "      .mode(\"Overwrite\") \\\n",
    "      .option(\"url\", neo4j_url) \\\n",
    "      .option(\"authentication.basic.username\", neo4j_user) \\\n",
    "      .option(\"authentication.basic.password\", neo4j_passwd) \\\n",
    "      .option(\"labels\", name) \\\n",
    "      .option(\"node.keys\", key) \\\n",
    "      .save()\n",
    "\n",
    "def loadBRel(column, rel_name, src,dst):\n",
    "    column.write \\\n",
    "      .format(\"org.neo4j.spark.DataSource\") \\\n",
    "      .mode(\"Overwrite\") \\\n",
    "      .option(\"url\", neo4j_url) \\\n",
    "      .option(\"authentication.basic.username\", neo4j_user) \\\n",
    "      .option(\"authentication.basic.password\", neo4j_passwd) \\\n",
    "      .option(\"relationship\", rel_name) \\\n",
    "      .option(\"relationship.save.strategy\", \"keys\") \\\n",
    "      .option(\"relationship.source.labels\", \":\" + src) \\\n",
    "      .option(\"relationship.source.save.mode\", \"match\") \\\n",
    "      .option(\"relationship.source.node.keys\", f\"{src}:name\") \\\n",
    "      .option(\"relationship.target.labels\", \":\" + dst ) \\\n",
    "      .option(\"relationship.target.save.mode\", \"match\") \\\n",
    "      .option(\"relationship.target.node.keys\", f\"{dst}:name\") \\\n",
    "      .save()\n",
    "\n",
    "    \n",
    "def readCypher(query):\n",
    "    return spark.read \\\n",
    "    .format(\"org.neo4j.spark.DataSource\") \\\n",
    "    .option(\"url\", neo4j_url) \\\n",
    "    .option(\"authentication.basic.username\", neo4j_user) \\\n",
    "    .option(\"authentication.basic.password\", neo4j_passwd) \\\n",
    "    .option(\"query\",query)\\\n",
    "    .load()\n",
    "    "
   ]
  },
  {
   "cell_type": "code",
   "execution_count": 8,
   "id": "30e3a5ac-4e27-45ed-bdc6-7b10db0bb00e",
   "metadata": {},
   "outputs": [
    {
     "name": "stderr",
     "output_type": "stream",
     "text": [
      "                                                                                "
     ]
    }
   ],
   "source": [
    "\n",
    "loadNodes(organizations, \":Organization\", \"id\")\n",
    "loadNodes(users, \":Member\", \"id\")"
   ]
  },
  {
   "cell_type": "code",
   "execution_count": 18,
   "id": "020c65d0-52b3-41fa-9dd9-71cfbab2d1ce",
   "metadata": {},
   "outputs": [
    {
     "name": "stderr",
     "output_type": "stream",
     "text": [
      "                                                                                "
     ]
    }
   ],
   "source": [
    "loadBRel(df_orgs, \"BELONGS_TO\", \"Member\", \"Organization\")"
   ]
  },
  {
   "cell_type": "markdown",
   "id": "f30287ea",
   "metadata": {},
   "source": [
    "# Read and Query Graphs with PySpark"
   ]
  },
  {
   "cell_type": "code",
   "execution_count": null,
   "id": "03ca7b56",
   "metadata": {},
   "outputs": [],
   "source": [
    "# Add the code to read a data frame from Neo4J and run a simple query to verify "
   ]
  },
  {
   "cell_type": "code",
   "execution_count": 16,
   "id": "d7f55048-83fa-4ea4-92ec-47c7fb8eb1c1",
   "metadata": {},
   "outputs": [
    {
     "name": "stdout",
     "output_type": "stream",
     "text": [
      "+------+------+\n",
      "|m.name|o.name|\n",
      "+------+------+\n",
      "+------+------+\n",
      "\n"
     ]
    }
   ],
   "source": [
    "readCypher(\"Match (m)-[B:BELONGS_TO]->(o) return m.name, o.name\").show(10)"
   ]
  },
  {
   "cell_type": "code",
   "execution_count": null,
   "id": "9078a7dd",
   "metadata": {},
   "outputs": [],
   "source": [
    "sc.stop()"
   ]
  }
 ],
 "metadata": {
  "kernelspec": {
   "display_name": "Python 3 (ipykernel)",
   "language": "python",
   "name": "python3"
  },
  "language_info": {
   "codemirror_mode": {
    "name": "ipython",
    "version": 3
   },
   "file_extension": ".py",
   "mimetype": "text/x-python",
   "name": "python",
   "nbconvert_exporter": "python",
   "pygments_lexer": "ipython3",
   "version": "3.10.12"
  }
 },
 "nbformat": 4,
 "nbformat_minor": 5
}
