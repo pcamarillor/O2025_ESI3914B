{
 "cells": [
  {
   "cell_type": "markdown",
   "id": "b92d9622",
   "metadata": {},
   "source": [
    "# <center> <img src=\"../../img/ITESOLogo.png\" alt=\"ITESO\" width=\"480\" height=\"130\"> </center>\n",
    "# <center> **Departamento de Electrónica, Sistemas e Informática** </center>\n",
    "---\n",
    "## <center> Computer Systems Engineering  </center>\n",
    "---\n",
    "### <center> Big Data Processing </center>\n",
    "---\n",
    "#### <center> **Autumn 2025** </center>\n",
    "---\n",
    "\n",
    "**Lab 05**: Data pipeline with Neo4j\n",
    "\n",
    "**Date**: October 2nd 2025\n",
    "\n",
    "**Student Name**: José Juan Díaz Campos\n",
    "\n",
    "**Professor**: Pablo Camarillo Ramirez"
   ]
  },
  {
   "cell_type": "markdown",
   "id": "7893c817",
   "metadata": {},
   "source": [
    "# Dataset description"
   ]
  },
  {
   "cell_type": "markdown",
   "id": "d7e778c9-aafb-417b-9dc2-62fc5dba728c",
   "metadata": {},
   "source": [
    "This dataset contains the social network of Star Wars characters extracted from movie scripts.\n",
    "\n",
    "**Nodes (Characters):**\n",
    "- name: Character name (e.g., \"DARTH VADER\", \"LUKE\")\n",
    "- value: Number of scenes the character appeared in\n",
    "- colour: Color for visualization\n",
    "\n",
    "**Edges (Interactions):**\n",
    "- source: Index of the first character in the interaction\n",
    "- target: Index of the second character in the interaction  \n",
    "- value: Number of scenes where both characters appeared together\n",
    "\n",
    "The graph represents relationships where two characters speak together within the same scene.\n"
   ]
  },
  {
   "cell_type": "markdown",
   "id": "9b2e84c3",
   "metadata": {},
   "source": [
    "# Data ingestion"
   ]
  },
  {
   "cell_type": "code",
   "execution_count": 1,
   "id": "ed17a0b0",
   "metadata": {},
   "outputs": [
    {
     "name": "stderr",
     "output_type": "stream",
     "text": [
      "WARNING: Using incubator modules: jdk.incubator.vector\n",
      ":: loading settings :: url = jar:file:/opt/spark/jars/ivy-2.5.3.jar!/org/apache/ivy/core/settings/ivysettings.xml\n",
      "Ivy Default Cache set to: /root/.ivy2.5.2/cache\n",
      "The jars for the packages stored in: /root/.ivy2.5.2/jars\n",
      "org.neo4j#neo4j-connector-apache-spark_2.13 added as a dependency\n",
      ":: resolving dependencies :: org.apache.spark#spark-submit-parent-4b6753ef-94b3-4e8d-b016-4f9263d14f0e;1.0\n",
      "\tconfs: [default]\n",
      "\tfound org.neo4j#neo4j-connector-apache-spark_2.13;5.3.10_for_spark_3 in central\n",
      "\tfound org.neo4j#neo4j-connector-apache-spark_2.13_common;5.3.10_for_spark_3 in central\n",
      "\tfound org.neo4j#caniuse-core;1.3.0 in central\n",
      "\tfound org.neo4j#caniuse-api;1.3.0 in central\n",
      "\tfound org.jetbrains.kotlin#kotlin-stdlib;2.1.20 in central\n",
      "\tfound org.jetbrains#annotations;13.0 in central\n",
      "\tfound org.neo4j#caniuse-neo4j-detection;1.3.0 in central\n",
      "\tfound org.neo4j.driver#neo4j-java-driver-slim;4.4.21 in central\n",
      "\tfound org.reactivestreams#reactive-streams;1.0.4 in central\n",
      "\tfound io.netty#netty-handler;4.1.127.Final in central\n",
      "\tfound io.netty#netty-common;4.1.127.Final in central\n",
      "\tfound io.netty#netty-resolver;4.1.127.Final in central\n",
      "\tfound io.netty#netty-buffer;4.1.127.Final in central\n",
      "\tfound io.netty#netty-transport;4.1.127.Final in central\n",
      "\tfound io.netty#netty-transport-native-unix-common;4.1.127.Final in central\n",
      "\tfound io.netty#netty-codec;4.1.127.Final in central\n",
      "\tfound io.netty#netty-tcnative-classes;2.0.73.Final in central\n",
      "\tfound io.projectreactor#reactor-core;3.6.11 in central\n",
      "\tfound org.neo4j#neo4j-cypher-dsl;2022.11.0 in central\n",
      "\tfound org.apiguardian#apiguardian-api;1.1.2 in central\n",
      "\tfound org.neo4j.connectors#commons-authn-spi;1.0.0-rc2 in central\n",
      "\tfound org.neo4j.connectors#commons-reauth-driver;1.0.0-rc2 in central\n",
      "\tfound org.slf4j#slf4j-api;2.0.17 in central\n",
      "\tfound org.neo4j.connectors#commons-authn-provided;1.0.0-rc2 in central\n",
      ":: resolution report :: resolve 699ms :: artifacts dl 21ms\n",
      "\t:: modules in use:\n",
      "\tio.netty#netty-buffer;4.1.127.Final from central in [default]\n",
      "\tio.netty#netty-codec;4.1.127.Final from central in [default]\n",
      "\tio.netty#netty-common;4.1.127.Final from central in [default]\n",
      "\tio.netty#netty-handler;4.1.127.Final from central in [default]\n",
      "\tio.netty#netty-resolver;4.1.127.Final from central in [default]\n",
      "\tio.netty#netty-tcnative-classes;2.0.73.Final from central in [default]\n",
      "\tio.netty#netty-transport;4.1.127.Final from central in [default]\n",
      "\tio.netty#netty-transport-native-unix-common;4.1.127.Final from central in [default]\n",
      "\tio.projectreactor#reactor-core;3.6.11 from central in [default]\n",
      "\torg.apiguardian#apiguardian-api;1.1.2 from central in [default]\n",
      "\torg.jetbrains#annotations;13.0 from central in [default]\n",
      "\torg.jetbrains.kotlin#kotlin-stdlib;2.1.20 from central in [default]\n",
      "\torg.neo4j#caniuse-api;1.3.0 from central in [default]\n",
      "\torg.neo4j#caniuse-core;1.3.0 from central in [default]\n",
      "\torg.neo4j#caniuse-neo4j-detection;1.3.0 from central in [default]\n",
      "\torg.neo4j#neo4j-connector-apache-spark_2.13;5.3.10_for_spark_3 from central in [default]\n",
      "\torg.neo4j#neo4j-connector-apache-spark_2.13_common;5.3.10_for_spark_3 from central in [default]\n",
      "\torg.neo4j#neo4j-cypher-dsl;2022.11.0 from central in [default]\n",
      "\torg.neo4j.connectors#commons-authn-provided;1.0.0-rc2 from central in [default]\n",
      "\torg.neo4j.connectors#commons-authn-spi;1.0.0-rc2 from central in [default]\n",
      "\torg.neo4j.connectors#commons-reauth-driver;1.0.0-rc2 from central in [default]\n",
      "\torg.neo4j.driver#neo4j-java-driver-slim;4.4.21 from central in [default]\n",
      "\torg.reactivestreams#reactive-streams;1.0.4 from central in [default]\n",
      "\torg.slf4j#slf4j-api;2.0.17 from central in [default]\n",
      "\t---------------------------------------------------------------------\n",
      "\t|                  |            modules            ||   artifacts   |\n",
      "\t|       conf       | number| search|dwnlded|evicted|| number|dwnlded|\n",
      "\t---------------------------------------------------------------------\n",
      "\t|      default     |   24  |   0   |   0   |   0   ||   24  |   0   |\n",
      "\t---------------------------------------------------------------------\n",
      ":: retrieving :: org.apache.spark#spark-submit-parent-4b6753ef-94b3-4e8d-b016-4f9263d14f0e\n",
      "\tconfs: [default]\n",
      "\t0 artifacts copied, 24 already retrieved (0kB/11ms)\n",
      "25/10/05 22:05:10 WARN NativeCodeLoader: Unable to load native-hadoop library for your platform... using builtin-java classes where applicable\n",
      "Using Spark's default log4j profile: org/apache/spark/log4j2-defaults.properties\n",
      "Setting default log level to \"WARN\".\n",
      "To adjust logging level use sc.setLogLevel(newLevel). For SparkR, use setLogLevel(newLevel).\n"
     ]
    }
   ],
   "source": [
    "import findspark\n",
    "findspark.init()\n",
    "\n",
    "from pyspark.sql import SparkSession\n",
    "\n",
    "spark = SparkSession.builder \\\n",
    "    .appName(\"Star Wars Network\") \\\n",
    "    .master(\"local[*]\") \\\n",
    "    .config(\"spark.jars.packages\", \n",
    "            \"org.neo4j:neo4j-connector-apache-spark_2.13:5.3.10_for_spark_3\") \\\n",
    "    .config(\"spark.ui.port\", \"4040\") \\\n",
    "    .getOrCreate()\n",
    "\n",
    "sc = spark.sparkContext\n",
    "sc.setLogLevel(\"ERROR\")"
   ]
  },
  {
   "cell_type": "code",
   "execution_count": 2,
   "id": "a93cd621",
   "metadata": {},
   "outputs": [
    {
     "name": "stdout",
     "output_type": "stream",
     "text": [
      "Enlaces cargados:\n"
     ]
    }
   ],
   "source": [
    "# Build schema\n",
    "# Import your module\n",
    "##/opt/spark/work-dir/data/josejuandiaz-dataset/starwars-full-interactions.json\n",
    "\n",
    "import json\n",
    "from jjodiaz.spark_utils import SparkUtils\n",
    "from pyspark.sql.functions import col\n",
    "neo4j_user = \"neo4j\"\n",
    "neo4j_passwd = \"neo4j@1234\"\n",
    "neo4j_url = \"bolt://neo4j-iteso:7687\"\n",
    "\n",
    "\n",
    "with open(\"/opt/spark/work-dir/data/josejuandiaz-dataset/starwars-full-interactions.json\", \"r\") as f:\n",
    "    data = json.load(f)\n",
    "\n",
    "nodes_data = data[\"nodes\"]\n",
    "nodes_df = spark.createDataFrame(nodes_data)\n",
    "\n",
    "links_data = data[\"links\"]\n",
    "edges_df = spark.createDataFrame(links_data)\n",
    "\n",
    "print(\"Enlaces cargados:\")\n"
   ]
  },
  {
   "cell_type": "markdown",
   "id": "372e82d5",
   "metadata": {},
   "source": [
    "# Transformations"
   ]
  },
  {
   "cell_type": "code",
   "execution_count": 3,
   "id": "000b6d0d",
   "metadata": {},
   "outputs": [
    {
     "name": "stdout",
     "output_type": "stream",
     "text": [
      "Nodos transformados:\n"
     ]
    },
    {
     "name": "stderr",
     "output_type": "stream",
     "text": [
      "                                                                                "
     ]
    },
    {
     "name": "stdout",
     "output_type": "stream",
     "text": [
      "+-----------+-----------+-----+-------+\n",
      "|         id|       name|value|  color|\n",
      "+-----------+-----------+-----+-------+\n",
      "|    QUI-GON|    QUI-GON|   61|#4f4fb1|\n",
      "|NUTE GUNRAY|NUTE GUNRAY|   24|#808080|\n",
      "|       PK-4|       PK-4|    3|#808080|\n",
      "|      TC-14|      TC-14|    4|#808080|\n",
      "|    OBI-WAN|    OBI-WAN|  147|#48D1CC|\n",
      "+-----------+-----------+-----+-------+\n",
      "only showing top 5 rows\n",
      "root\n",
      " |-- id: string (nullable = true)\n",
      " |-- name: string (nullable = true)\n",
      " |-- value: long (nullable = true)\n",
      " |-- color: string (nullable = true)\n",
      "\n",
      "\n",
      "Edges transformados:\n",
      "+-----------+-----------+------+\n",
      "|        src|        dst|weight|\n",
      "+-----------+-----------+------+\n",
      "|NUTE GUNRAY|    QUI-GON|     1|\n",
      "|       PK-4|      TC-14|     1|\n",
      "|    OBI-WAN|      TC-14|     1|\n",
      "|    QUI-GON|      TC-14|     1|\n",
      "|    OBI-WAN|    QUI-GON|    26|\n",
      "|NUTE GUNRAY|      TC-14|     1|\n",
      "|     DOFINE|NUTE GUNRAY|     1|\n",
      "|     DOFINE|      TC-14|     1|\n",
      "|NUTE GUNRAY|       RUNE|     8|\n",
      "|       RUNE|    TEY HOW|     2|\n",
      "+-----------+-----------+------+\n",
      "only showing top 10 rows\n",
      "root\n",
      " |-- src: string (nullable = true)\n",
      " |-- dst: string (nullable = true)\n",
      " |-- weight: integer (nullable = true)\n",
      "\n",
      "\n",
      "Total nodos: 110\n",
      "Total relaciones: 398\n"
     ]
    }
   ],
   "source": [
    "nodes_transformed = nodes_df.withColumn(\"id\", col(\"name\")) \\\n",
    "    .select(\"id\", \"name\", \"value\", col(\"colour\").alias(\"color\"))\n",
    "\n",
    "print(\"Nodos transformados:\")\n",
    "nodes_transformed.show(5)\n",
    "nodes_transformed.printSchema()\n",
    "nodes_list = [row.name for row in nodes_df.collect()]\n",
    "\n",
    "edges_schema = SparkUtils.generate_schema([\n",
    "    (\"src\", \"string\"),\n",
    "    (\"dst\", \"string\"),\n",
    "    (\"weight\", \"int\")\n",
    "])\n",
    "\n",
    "edges_data_transformed = []\n",
    "for row in edges_df.collect():\n",
    "    edges_data_transformed.append({\n",
    "        \"src\": nodes_list[row.source],\n",
    "        \"dst\": nodes_list[row.target],\n",
    "        \"weight\": row.value\n",
    "    })\n",
    "\n",
    "edges_transformed = spark.createDataFrame(edges_data_transformed, schema=edges_schema)\n",
    "\n",
    "print(\"\\nEdges transformados:\")\n",
    "edges_transformed.show(10)\n",
    "edges_transformed.printSchema()\n",
    "\n",
    "print(f\"\\nTotal nodos: {nodes_transformed.count()}\")\n",
    "print(f\"Total relaciones: {edges_transformed.count()}\")\n"
   ]
  },
  {
   "cell_type": "markdown",
   "id": "e3a68775",
   "metadata": {},
   "source": [
    "# Writing Data in Neo4j"
   ]
  },
  {
   "cell_type": "code",
   "execution_count": 4,
   "id": "d01d7a89",
   "metadata": {},
   "outputs": [
    {
     "name": "stderr",
     "output_type": "stream",
     "text": [
      "                                                                                "
     ]
    }
   ],
   "source": [
    "nodes_transformed.write \\\n",
    "    .format(\"org.neo4j.spark.DataSource\") \\\n",
    "    .mode(\"Overwrite\") \\\n",
    "    .option(\"url\", neo4j_url) \\\n",
    "    .option(\"authentication.basic.username\", neo4j_user) \\\n",
    "    .option(\"authentication.basic.password\", neo4j_passwd) \\\n",
    "    .option(\"labels\", \":Character\") \\\n",
    "    .option(\"node.keys\", \"id\") \\\n",
    "    .save()\n",
    "edges_transformed.write \\\n",
    "    .format(\"org.neo4j.spark.DataSource\") \\\n",
    "    .mode(\"Append\") \\\n",
    "    .option(\"url\", neo4j_url) \\\n",
    "    .option(\"authentication.basic.username\", neo4j_user) \\\n",
    "    .option(\"authentication.basic.password\", neo4j_passwd) \\\n",
    "    .option(\"relationship\", \"INTERACTS_WITH\") \\\n",
    "    .option(\"relationship.save.strategy\", \"keys\") \\\n",
    "    .option(\"relationship.source.labels\", \":Character\") \\\n",
    "    .option(\"relationship.source.save.mode\", \"match\") \\\n",
    "    .option(\"relationship.source.node.keys\", \"src:id\") \\\n",
    "    .option(\"relationship.target.labels\", \":Character\") \\\n",
    "    .option(\"relationship.target.save.mode\", \"match\") \\\n",
    "    .option(\"relationship.target.node.keys\", \"dst:id\") \\\n",
    "    .save()"
   ]
  },
  {
   "cell_type": "markdown",
   "id": "f30287ea",
   "metadata": {},
   "source": [
    "# Read and Query Graphs with PySpark"
   ]
  },
  {
   "cell_type": "code",
   "execution_count": 5,
   "id": "03ca7b56",
   "metadata": {},
   "outputs": [
    {
     "name": "stdout",
     "output_type": "stream",
     "text": [
      "Top 10 interacciones:\n",
      "+----------+----------+------+\n",
      "|character1|character2|scenes|\n",
      "+----------+----------+------+\n",
      "|HAN       |LEIA      |69    |\n",
      "|HAN       |LEIA      |69    |\n",
      "|HAN       |LEIA      |69    |\n",
      "|C-3PO     |HAN       |54    |\n",
      "|C-3PO     |HAN       |54    |\n",
      "|C-3PO     |HAN       |54    |\n",
      "|C-3PO     |LEIA      |49    |\n",
      "|C-3PO     |LEIA      |49    |\n",
      "|C-3PO     |LEIA      |49    |\n",
      "|ANAKIN    |OBI-WAN   |46    |\n",
      "+----------+----------+------+\n",
      "\n"
     ]
    }
   ],
   "source": [
    "# Add the code to read a data frame from Neo4J and run a simple query to verify # Consulta simple: Personajes con más interacciones\n",
    "query = \"\"\"\n",
    "MATCH (c:Character)-[r:INTERACTS_WITH]->(c2:Character)\n",
    "RETURN c.name as character1, c2.name as character2, r.weight as scenes\n",
    "ORDER BY r.weight DESC\n",
    "\"\"\"\n",
    "\n",
    "result_df = spark.read \\\n",
    "    .format(\"org.neo4j.spark.DataSource\") \\\n",
    "    .option(\"url\", neo4j_url) \\\n",
    "    .option(\"authentication.basic.username\", neo4j_user) \\\n",
    "    .option(\"authentication.basic.password\", neo4j_passwd) \\\n",
    "    .option(\"query\", query) \\\n",
    "    .load()\n",
    "\n",
    "print(\"Top 10 interacciones:\")\n",
    "result_df.limit(10).show(truncate=False)"
   ]
  },
  {
   "cell_type": "code",
   "execution_count": 6,
   "id": "9078a7dd",
   "metadata": {},
   "outputs": [],
   "source": [
    "sc.stop()"
   ]
  },
  {
   "cell_type": "code",
   "execution_count": null,
   "id": "e9d0b295-1da2-4bee-9b9f-cea7d4b7f974",
   "metadata": {},
   "outputs": [],
   "source": []
  }
 ],
 "metadata": {
  "kernelspec": {
   "display_name": "Python 3 (ipykernel)",
   "language": "python",
   "name": "python3"
  },
  "language_info": {
   "codemirror_mode": {
    "name": "ipython",
    "version": 3
   },
   "file_extension": ".py",
   "mimetype": "text/x-python",
   "name": "python",
   "nbconvert_exporter": "python",
   "pygments_lexer": "ipython3",
   "version": "3.10.12"
  }
 },
 "nbformat": 4,
 "nbformat_minor": 5
}
