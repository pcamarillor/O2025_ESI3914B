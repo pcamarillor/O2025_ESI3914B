{
 "cells": [
  {
   "cell_type": "markdown",
   "id": "b92d9622",
   "metadata": {},
   "source": [
    "# <center> <img src=\"../../img/ITESOLogo.png\" alt=\"ITESO\" width=\"480\" height=\"130\"> </center>\n",
    "# <center> **Departamento de Electrónica, Sistemas e Informática** </center>\n",
    "---\n",
    "## <center> Computer Systems Engineering  </center>\n",
    "---\n",
    "### <center> Big Data Processing </center>\n",
    "---\n",
    "#### <center> **Autumn 2025** </center>\n",
    "---\n",
    "\n",
    "**Lab 05**: Data pipeline with Neo4j\n",
    "\n",
    "**Date**: October 2nd 2025\n",
    "\n",
    "**Student Name**:\n",
    "\n",
    "**Professor**: Pablo Camarillo Ramirez"
   ]
  },
  {
   "cell_type": "markdown",
   "id": "7893c817",
   "metadata": {},
   "source": [
    "# Dataset description"
   ]
  },
  {
   "cell_type": "markdown",
   "id": "9b2e84c3",
   "metadata": {},
   "source": [
    "# Data ingestion"
   ]
  },
  {
   "cell_type": "code",
   "execution_count": 1,
   "id": "ed17a0b0",
   "metadata": {},
   "outputs": [
    {
     "name": "stderr",
     "output_type": "stream",
     "text": [
      "WARNING: Using incubator modules: jdk.incubator.vector\n",
      ":: loading settings :: url = jar:file:/opt/spark/jars/ivy-2.5.3.jar!/org/apache/ivy/core/settings/ivysettings.xml\n",
      "Ivy Default Cache set to: /root/.ivy2.5.2/cache\n",
      "The jars for the packages stored in: /root/.ivy2.5.2/jars\n",
      "org.neo4j#neo4j-connector-apache-spark_2.13 added as a dependency\n",
      ":: resolving dependencies :: org.apache.spark#spark-submit-parent-25e7847b-ef7c-4cd1-833b-83c800390d8e;1.0\n",
      "\tconfs: [default]\n",
      "\tfound org.neo4j#neo4j-connector-apache-spark_2.13;5.3.10_for_spark_3 in central\n",
      "\tfound org.neo4j#neo4j-connector-apache-spark_2.13_common;5.3.10_for_spark_3 in central\n",
      "\tfound org.neo4j#caniuse-core;1.3.0 in central\n",
      "\tfound org.neo4j#caniuse-api;1.3.0 in central\n",
      "\tfound org.jetbrains.kotlin#kotlin-stdlib;2.1.20 in central\n",
      "\tfound org.jetbrains#annotations;13.0 in central\n",
      "\tfound org.neo4j#caniuse-neo4j-detection;1.3.0 in central\n",
      "\tfound org.neo4j.driver#neo4j-java-driver-slim;4.4.21 in central\n",
      "\tfound org.reactivestreams#reactive-streams;1.0.4 in central\n",
      "\tfound io.netty#netty-handler;4.1.127.Final in central\n",
      "\tfound io.netty#netty-common;4.1.127.Final in central\n",
      "\tfound io.netty#netty-resolver;4.1.127.Final in central\n",
      "\tfound io.netty#netty-buffer;4.1.127.Final in central\n",
      "\tfound io.netty#netty-transport;4.1.127.Final in central\n",
      "\tfound io.netty#netty-transport-native-unix-common;4.1.127.Final in central\n",
      "\tfound io.netty#netty-codec;4.1.127.Final in central\n",
      "\tfound io.netty#netty-tcnative-classes;2.0.73.Final in central\n",
      "\tfound io.projectreactor#reactor-core;3.6.11 in central\n",
      "\tfound org.neo4j#neo4j-cypher-dsl;2022.11.0 in central\n",
      "\tfound org.apiguardian#apiguardian-api;1.1.2 in central\n",
      "\tfound org.neo4j.connectors#commons-authn-spi;1.0.0-rc2 in central\n",
      "\tfound org.neo4j.connectors#commons-reauth-driver;1.0.0-rc2 in central\n",
      "\tfound org.slf4j#slf4j-api;2.0.17 in central\n",
      "\tfound org.neo4j.connectors#commons-authn-provided;1.0.0-rc2 in central\n",
      "downloading https://repo1.maven.org/maven2/org/neo4j/neo4j-connector-apache-spark_2.13/5.3.10_for_spark_3/neo4j-connector-apache-spark_2.13-5.3.10_for_spark_3.jar ...\n",
      "\t[SUCCESSFUL ] org.neo4j#neo4j-connector-apache-spark_2.13;5.3.10_for_spark_3!neo4j-connector-apache-spark_2.13.jar (825ms)\n",
      "downloading https://repo1.maven.org/maven2/org/neo4j/neo4j-connector-apache-spark_2.13_common/5.3.10_for_spark_3/neo4j-connector-apache-spark_2.13_common-5.3.10_for_spark_3.jar ...\n",
      "\t[SUCCESSFUL ] org.neo4j#neo4j-connector-apache-spark_2.13_common;5.3.10_for_spark_3!neo4j-connector-apache-spark_2.13_common.jar (119ms)\n",
      "downloading https://repo1.maven.org/maven2/org/neo4j/driver/neo4j-java-driver-slim/4.4.21/neo4j-java-driver-slim-4.4.21.jar ...\n",
      "\t[SUCCESSFUL ] org.neo4j.driver#neo4j-java-driver-slim;4.4.21!neo4j-java-driver-slim.jar (125ms)\n",
      "downloading https://repo1.maven.org/maven2/org/neo4j/caniuse-core/1.3.0/caniuse-core-1.3.0.jar ...\n",
      "\t[SUCCESSFUL ] org.neo4j#caniuse-core;1.3.0!caniuse-core.jar (132ms)\n",
      "downloading https://repo1.maven.org/maven2/org/neo4j/caniuse-neo4j-detection/1.3.0/caniuse-neo4j-detection-1.3.0.jar ...\n",
      "\t[SUCCESSFUL ] org.neo4j#caniuse-neo4j-detection;1.3.0!caniuse-neo4j-detection.jar (97ms)\n",
      "downloading https://repo1.maven.org/maven2/org/neo4j/neo4j-cypher-dsl/2022.11.0/neo4j-cypher-dsl-2022.11.0.jar ...\n",
      "\t[SUCCESSFUL ] org.neo4j#neo4j-cypher-dsl;2022.11.0!neo4j-cypher-dsl.jar (116ms)\n",
      "downloading https://repo1.maven.org/maven2/org/neo4j/connectors/commons-authn-spi/1.0.0-rc2/commons-authn-spi-1.0.0-rc2.jar ...\n",
      "\t[SUCCESSFUL ] org.neo4j.connectors#commons-authn-spi;1.0.0-rc2!commons-authn-spi.jar (122ms)\n",
      "downloading https://repo1.maven.org/maven2/org/neo4j/connectors/commons-reauth-driver/1.0.0-rc2/commons-reauth-driver-1.0.0-rc2.jar ...\n",
      "\t[SUCCESSFUL ] org.neo4j.connectors#commons-reauth-driver;1.0.0-rc2!commons-reauth-driver.jar (106ms)\n",
      "downloading https://repo1.maven.org/maven2/org/neo4j/caniuse-api/1.3.0/caniuse-api-1.3.0.jar ...\n",
      "\t[SUCCESSFUL ] org.neo4j#caniuse-api;1.3.0!caniuse-api.jar (78ms)\n",
      "downloading https://repo1.maven.org/maven2/org/jetbrains/kotlin/kotlin-stdlib/2.1.20/kotlin-stdlib-2.1.20.jar ...\n",
      "\t[SUCCESSFUL ] org.jetbrains.kotlin#kotlin-stdlib;2.1.20!kotlin-stdlib.jar (200ms)\n",
      "downloading https://repo1.maven.org/maven2/org/jetbrains/annotations/13.0/annotations-13.0.jar ...\n",
      "\t[SUCCESSFUL ] org.jetbrains#annotations;13.0!annotations.jar (106ms)\n",
      "downloading https://repo1.maven.org/maven2/org/reactivestreams/reactive-streams/1.0.4/reactive-streams-1.0.4.jar ...\n",
      "\t[SUCCESSFUL ] org.reactivestreams#reactive-streams;1.0.4!reactive-streams.jar (88ms)\n",
      "downloading https://repo1.maven.org/maven2/io/netty/netty-handler/4.1.127.Final/netty-handler-4.1.127.Final.jar ...\n",
      "\t[SUCCESSFUL ] io.netty#netty-handler;4.1.127.Final!netty-handler.jar (140ms)\n",
      "downloading https://repo1.maven.org/maven2/io/netty/netty-tcnative-classes/2.0.73.Final/netty-tcnative-classes-2.0.73.Final.jar ...\n",
      "\t[SUCCESSFUL ] io.netty#netty-tcnative-classes;2.0.73.Final!netty-tcnative-classes.jar (87ms)\n",
      "downloading https://repo1.maven.org/maven2/io/projectreactor/reactor-core/3.6.11/reactor-core-3.6.11.jar ...\n",
      "\t[SUCCESSFUL ] io.projectreactor#reactor-core;3.6.11!reactor-core.jar (216ms)\n",
      "downloading https://repo1.maven.org/maven2/io/netty/netty-common/4.1.127.Final/netty-common-4.1.127.Final.jar ...\n",
      "\t[SUCCESSFUL ] io.netty#netty-common;4.1.127.Final!netty-common.jar (149ms)\n",
      "downloading https://repo1.maven.org/maven2/io/netty/netty-resolver/4.1.127.Final/netty-resolver-4.1.127.Final.jar ...\n",
      "\t[SUCCESSFUL ] io.netty#netty-resolver;4.1.127.Final!netty-resolver.jar (97ms)\n",
      "downloading https://repo1.maven.org/maven2/io/netty/netty-buffer/4.1.127.Final/netty-buffer-4.1.127.Final.jar ...\n",
      "\t[SUCCESSFUL ] io.netty#netty-buffer;4.1.127.Final!netty-buffer.jar (137ms)\n",
      "downloading https://repo1.maven.org/maven2/io/netty/netty-transport/4.1.127.Final/netty-transport-4.1.127.Final.jar ...\n",
      "\t[SUCCESSFUL ] io.netty#netty-transport;4.1.127.Final!netty-transport.jar (142ms)\n",
      "downloading https://repo1.maven.org/maven2/io/netty/netty-transport-native-unix-common/4.1.127.Final/netty-transport-native-unix-common-4.1.127.Final.jar ...\n",
      "\t[SUCCESSFUL ] io.netty#netty-transport-native-unix-common;4.1.127.Final!netty-transport-native-unix-common.jar (104ms)\n",
      "downloading https://repo1.maven.org/maven2/io/netty/netty-codec/4.1.127.Final/netty-codec-4.1.127.Final.jar ...\n",
      "\t[SUCCESSFUL ] io.netty#netty-codec;4.1.127.Final!netty-codec.jar (139ms)\n",
      "downloading https://repo1.maven.org/maven2/org/apiguardian/apiguardian-api/1.1.2/apiguardian-api-1.1.2.jar ...\n",
      "\t[SUCCESSFUL ] org.apiguardian#apiguardian-api;1.1.2!apiguardian-api.jar (82ms)\n",
      "downloading https://repo1.maven.org/maven2/org/slf4j/slf4j-api/2.0.17/slf4j-api-2.0.17.jar ...\n",
      "\t[SUCCESSFUL ] org.slf4j#slf4j-api;2.0.17!slf4j-api.jar (98ms)\n",
      "downloading https://repo1.maven.org/maven2/org/neo4j/connectors/commons-authn-provided/1.0.0-rc2/commons-authn-provided-1.0.0-rc2.jar ...\n",
      "\t[SUCCESSFUL ] org.neo4j.connectors#commons-authn-provided;1.0.0-rc2!commons-authn-provided.jar (84ms)\n",
      ":: resolution report :: resolve 19381ms :: artifacts dl 3606ms\n",
      "\t:: modules in use:\n",
      "\tio.netty#netty-buffer;4.1.127.Final from central in [default]\n",
      "\tio.netty#netty-codec;4.1.127.Final from central in [default]\n",
      "\tio.netty#netty-common;4.1.127.Final from central in [default]\n",
      "\tio.netty#netty-handler;4.1.127.Final from central in [default]\n",
      "\tio.netty#netty-resolver;4.1.127.Final from central in [default]\n",
      "\tio.netty#netty-tcnative-classes;2.0.73.Final from central in [default]\n",
      "\tio.netty#netty-transport;4.1.127.Final from central in [default]\n",
      "\tio.netty#netty-transport-native-unix-common;4.1.127.Final from central in [default]\n",
      "\tio.projectreactor#reactor-core;3.6.11 from central in [default]\n",
      "\torg.apiguardian#apiguardian-api;1.1.2 from central in [default]\n",
      "\torg.jetbrains#annotations;13.0 from central in [default]\n",
      "\torg.jetbrains.kotlin#kotlin-stdlib;2.1.20 from central in [default]\n",
      "\torg.neo4j#caniuse-api;1.3.0 from central in [default]\n",
      "\torg.neo4j#caniuse-core;1.3.0 from central in [default]\n",
      "\torg.neo4j#caniuse-neo4j-detection;1.3.0 from central in [default]\n",
      "\torg.neo4j#neo4j-connector-apache-spark_2.13;5.3.10_for_spark_3 from central in [default]\n",
      "\torg.neo4j#neo4j-connector-apache-spark_2.13_common;5.3.10_for_spark_3 from central in [default]\n",
      "\torg.neo4j#neo4j-cypher-dsl;2022.11.0 from central in [default]\n",
      "\torg.neo4j.connectors#commons-authn-provided;1.0.0-rc2 from central in [default]\n",
      "\torg.neo4j.connectors#commons-authn-spi;1.0.0-rc2 from central in [default]\n",
      "\torg.neo4j.connectors#commons-reauth-driver;1.0.0-rc2 from central in [default]\n",
      "\torg.neo4j.driver#neo4j-java-driver-slim;4.4.21 from central in [default]\n",
      "\torg.reactivestreams#reactive-streams;1.0.4 from central in [default]\n",
      "\torg.slf4j#slf4j-api;2.0.17 from central in [default]\n",
      "\t---------------------------------------------------------------------\n",
      "\t|                  |            modules            ||   artifacts   |\n",
      "\t|       conf       | number| search|dwnlded|evicted|| number|dwnlded|\n",
      "\t---------------------------------------------------------------------\n",
      "\t|      default     |   24  |   24  |   24  |   0   ||   24  |   24  |\n",
      "\t---------------------------------------------------------------------\n",
      ":: retrieving :: org.apache.spark#spark-submit-parent-25e7847b-ef7c-4cd1-833b-83c800390d8e\n",
      "\tconfs: [default]\n",
      "\t24 artifacts copied, 0 already retrieved (15383kB/33ms)\n",
      "25/10/05 22:23:08 WARN NativeCodeLoader: Unable to load native-hadoop library for your platform... using builtin-java classes where applicable\n",
      "Using Spark's default log4j profile: org/apache/spark/log4j2-defaults.properties\n",
      "Setting default log level to \"WARN\".\n",
      "To adjust logging level use sc.setLogLevel(newLevel). For SparkR, use setLogLevel(newLevel).\n"
     ]
    }
   ],
   "source": [
    "import findspark\n",
    "findspark.init()\n",
    "\n",
    "from pyspark.sql import SparkSession\n",
    "\n",
    "spark = SparkSession.builder \\\n",
    "    .appName(\"Examples on SparkSQL\") \\\n",
    "    .master(\"spark://1229fd35c5ba:7077\") \\\n",
    "    .config(\"spark.jars.packages\", \"org.neo4j:neo4j-connector-apache-spark_2.13:5.3.10_for_spark_3\") \\\n",
    "    .config(\"spark.ui.port\", \"4040\") \\\n",
    "    .getOrCreate()\n",
    "\n",
    "sc = spark.sparkContext\n",
    "sc.setLogLevel(\"ERROR\")"
   ]
  },
  {
   "cell_type": "code",
   "execution_count": 2,
   "id": "a93cd621",
   "metadata": {},
   "outputs": [
    {
     "name": "stdout",
     "output_type": "stream",
     "text": [
      "int\n",
      "int\n",
      "int\n",
      "int\n",
      "int\n",
      "int\n",
      "int\n",
      "int\n",
      "int\n",
      "float\n",
      "float\n",
      "float\n",
      "int\n",
      "int\n",
      "int\n",
      "string\n"
     ]
    }
   ],
   "source": [
    "# Import your module\n",
    "from santiagomdeo.spark_utils import SparkUtils\n",
    "\n",
    "schema_xd = [\n",
    "    (\"src_ip\", \"int\"),\n",
    "    (\"src_port\", \"int\"),\n",
    "    (\"dest_ip\", \"int\"),\n",
    "    (\"dest_port\", \"int\"),\n",
    "    (\"protocol\", \"int\"),\n",
    "    (\"bytes_in\", \"int\"),\n",
    "    (\"bytes_out\", \"int\"),\n",
    "    (\"num_pkts_in\", \"int\"),\n",
    "    (\"num_pkts_out\", \"int\"),\n",
    "    (\"entropy\", \"float\"),\n",
    "    (\"total_entropy\", \"float\"),\n",
    "    (\"mean_ipt\", \"float\"),\n",
    "    (\"time_start\", \"int\"),\n",
    "    (\"time_end\", \"int\"),\n",
    "    (\"duration\", \"int\"),\n",
    "    (\"label\", \"string\")\n",
    "]\n",
    "\n",
    "ips_schema = SparkUtils.generate_schema(schema_xd)\n",
    "\n",
    "ips_df = spark.read.option(\"header\", True).schema(ips_schema).csv(\"/opt/spark/work-dir/data/ips/input\")\n"
   ]
  },
  {
   "cell_type": "markdown",
   "id": "372e82d5",
   "metadata": {},
   "source": [
    "# Transformations"
   ]
  },
  {
   "cell_type": "code",
   "execution_count": 3,
   "id": "dc341fea",
   "metadata": {},
   "outputs": [
    {
     "name": "stderr",
     "output_type": "stream",
     "text": [
      "[Stage 0:>                                                          (0 + 1) / 1]\r"
     ]
    },
    {
     "name": "stdout",
     "output_type": "stream",
     "text": [
      "+------+--------+-------+---------+--------+--------+---------+-----------+------------+---------+-------------+----------+----------+----------+--------+-------+\n",
      "|src_ip|src_port|dest_ip|dest_port|protocol|bytes_in|bytes_out|num_pkts_in|num_pkts_out|  entropy|total_entropy|  mean_ipt|time_start|  time_end|duration|  label|\n",
      "+------+--------+-------+---------+--------+--------+---------+-----------+------------+---------+-------------+----------+----------+----------+--------+-------+\n",
      "|  3170|   29429|   4440|    20361|       6|    4531|     1822|         28|          39|3.2449083|     43.07527| 0.9374156|1609300755|1609300805|      50| benign|\n",
      "|  4793|   61829|   8333|    64587|      17|    2931|     8838|         27|           4|0.4723278|     8.161594|0.48300773|1603360433|1603360486|      53| benign|\n",
      "|  6574|   64068|   1182|    25532|       6|    1366|     7889|         47|          29|2.1887074|     9.151795| 0.8613521|1601181873|1601181921|      48| benign|\n",
      "|  7198|   20004|   3474|    57629|       6|    8561|     2154|         31|          48| 7.171673|     7.947328|0.57622844|1609165265|1609165276|      11|outlier|\n",
      "|  4667|    2823|   3306|    17262|      17|    7061|      279|         30|           3| 4.424825|    52.821358|   0.66163|1587605682|1587605731|      49|outlier|\n",
      "+------+--------+-------+---------+--------+--------+---------+-----------+------------+---------+-------------+----------+----------+----------+--------+-------+\n",
      "only showing top 5 rows\n"
     ]
    },
    {
     "name": "stderr",
     "output_type": "stream",
     "text": [
      "                                                                                \r"
     ]
    }
   ],
   "source": [
    "ips_df.show(n=5)"
   ]
  },
  {
   "cell_type": "code",
   "execution_count": 13,
   "id": "000b6d0d",
   "metadata": {},
   "outputs": [
    {
     "name": "stderr",
     "output_type": "stream",
     "text": [
      "                                                                                \r"
     ]
    },
    {
     "name": "stdout",
     "output_type": "stream",
     "text": [
      "+----+\n",
      "|  ip|\n",
      "+----+\n",
      "|6466|\n",
      "|3794|\n",
      "|2122|\n",
      "|8638|\n",
      "+----+\n",
      "only showing top 4 rows\n",
      "+----+----+--------+---------+--------+--------+\n",
      "| src| dst|src_port|dest_port|protocol|duration|\n",
      "+----+----+--------+---------+--------+--------+\n",
      "|7198|3474|   20004|    57629|       6|      11|\n",
      "|4667|3306|    2823|    17262|      17|      49|\n",
      "| 210|4656|   48815|    54636|       6|      52|\n",
      "|5937|5014|   38636|    37761|       6|      25|\n",
      "+----+----+--------+---------+--------+--------+\n",
      "only showing top 4 rows\n"
     ]
    }
   ],
   "source": [
    "# Add the code for your transformations to create nodes and edges DataFrames HERE\n",
    "# Build schema\n",
    "#source ip\n",
    "#connected or message: {source port, destination port, protocol}\n",
    "#destination ip\n",
    "\n",
    "#table 1, a single coulmn with ips\n",
    "#table 2 connections\n",
    "#table 3\n",
    "\n",
    "from pyspark.sql.functions import col\n",
    "from functools import reduce\n",
    "from pyspark.sql import DataFrame\n",
    "\n",
    "\n",
    "#Vertices DataFrame:\n",
    "ip_nodes = ips_df.select(\n",
    "    col(\"src_ip\").alias(\"ip\")\n",
    ")\n",
    "ip_nodes2 = ips_df.select(\n",
    "    col(\"dest_ip\").alias(\"ip\")\n",
    ")\n",
    "vertices_df = reduce(DataFrame.unionAll, [ip_nodes, ip_nodes2]).dropDuplicates([\"ip\"])\n",
    "\n",
    "\n",
    "#Edges DataFrame:\n",
    "\n",
    "#creo que hacer 3 connexiones diferentes seria mas divertido\n",
    "outlier_connections_ip = ips_df.filter(ips_df.label == \"outlier\").select(\n",
    "    col(\"src_ip\").alias(\"src\"),\n",
    "    col(\"dest_ip\").alias(\"dst\"),\n",
    "    col(\"src_port\"),\n",
    "    col(\"dest_port\"),\n",
    "    col(\"protocol\"),\n",
    "    col(\"duration\")\n",
    ")\n",
    "benign_connections_ip = ips_df.filter(ips_df.label == \"benign\").select(\n",
    "    col(\"src_ip\").alias(\"src\"),\n",
    "    col(\"dest_ip\").alias(\"dst\"),\n",
    "    col(\"src_port\"),\n",
    "    col(\"dest_port\"),\n",
    "    col(\"protocol\"),\n",
    "    col(\"duration\")\n",
    ")\n",
    "malicious_connections_ip = ips_df.filter(ips_df.label == \"malicious\").select(\n",
    "    col(\"src_ip\").alias(\"src\"),\n",
    "    col(\"dest_ip\").alias(\"dst\"),\n",
    "    col(\"src_port\"),\n",
    "    col(\"dest_port\"),\n",
    "    col(\"protocol\"),\n",
    "    col(\"duration\")\n",
    ")\n",
    "\n",
    "\n",
    "vertices_df.show(n=4)\n",
    "outlier_connections_ip.show(n=4)\n",
    "\n",
    "\n"
   ]
  },
  {
   "cell_type": "markdown",
   "id": "e3a68775",
   "metadata": {},
   "source": [
    "# Writing Data in Neo4j"
   ]
  },
  {
   "cell_type": "code",
   "execution_count": null,
   "id": "d01d7a89",
   "metadata": {},
   "outputs": [
    {
     "name": "stderr",
     "output_type": "stream",
     "text": [
      "[Stage 26:===========================================>              (3 + 1) / 4]\r"
     ]
    },
    {
     "name": "stdout",
     "output_type": "stream",
     "text": [
      "10000 IPs wrote in Neo4j\n"
     ]
    },
    {
     "name": "stderr",
     "output_type": "stream",
     "text": [
      "                                                                                \r"
     ]
    }
   ],
   "source": [
    "# Add the code to write a graph from PySpark's DataFrames to Neo4j\n",
    "neo4j_url = \"bolt://neo4j-iteso:7687\"\n",
    "neo4j_user = \"neo4j\"\n",
    "neo4j_passwd = \"neo4j@1234\"\n",
    "\n",
    "\n",
    "vertices_df.write \\\n",
    "  .format(\"org.neo4j.spark.DataSource\") \\\n",
    "  .mode(\"Overwrite\") \\\n",
    "  .option(\"url\", neo4j_url) \\\n",
    "  .option(\"authentication.basic.username\", neo4j_user) \\\n",
    "  .option(\"authentication.basic.password\", neo4j_passwd) \\\n",
    "  .option(\"labels\", \":IPs\") \\\n",
    "  .option(\"node.keys\", \"ip\") \\\n",
    "  .save()\n",
    "\n",
    "#took 21 seconds\n",
    "print(f\"{vertices_df.count()} IPs wrote in Neo4j\")\n",
    "\n",
    "# outlier_connections_ip\n",
    "# benign_connections_ip\n",
    "# malicious_connections_ip\n",
    "\n",
    "\n",
    "\n"
   ]
  },
  {
   "cell_type": "code",
   "execution_count": null,
   "id": "3acaa3bb",
   "metadata": {},
   "outputs": [
    {
     "name": "stderr",
     "output_type": "stream",
     "text": [
      "                                                                                \r"
     ]
    },
    {
     "name": "stdout",
     "output_type": "stream",
     "text": [
      "23647 outlier edges wrote in Neo4j\n"
     ]
    }
   ],
   "source": [
    "#3 minutos\n",
    "outlier_connections_ip.write \\\n",
    "  .format(\"org.neo4j.spark.DataSource\") \\\n",
    "  .mode(\"Overwrite\") \\\n",
    "  .option(\"url\", neo4j_url) \\\n",
    "  .option(\"authentication.basic.username\", neo4j_user) \\\n",
    "  .option(\"authentication.basic.password\", neo4j_passwd) \\\n",
    "  .option(\"relationship\", \"OUTLIER_CONNECTION\") \\\n",
    "  .option(\"relationship.save.strategy\", \"keys\") \\\n",
    "  .option(\"relationship.source.labels\", \":IPs\") \\\n",
    "  .option(\"relationship.source.save.mode\", \"match\") \\\n",
    "  .option(\"relationship.source.node.keys\", \"src:ip\") \\\n",
    "  .option(\"relationship.target.labels\", \":IPs\") \\\n",
    "  .option(\"relationship.target.save.mode\", \"match\") \\\n",
    "  .option(\"relationship.target.node.keys\", \"dst:ip\") \\\n",
    "  .save()\n",
    "\n",
    "#.option(\"relationship.source.node.keys\", \"src:id\") format seems to take on column1InRelationship:ColumnInEdge\n",
    "\n",
    "print(f\"{outlier_connections_ip.count()} outlier edges wrote in Neo4j\")"
   ]
  },
  {
   "cell_type": "code",
   "execution_count": 16,
   "id": "aa93a3d9",
   "metadata": {},
   "outputs": [
    {
     "name": "stderr",
     "output_type": "stream",
     "text": [
      "                                                                                \r"
     ]
    },
    {
     "name": "stdout",
     "output_type": "stream",
     "text": [
      "51294 benign edges wrote in Neo4j\n"
     ]
    }
   ],
   "source": [
    "#minutos\n",
    "benign_connections_ip.write \\\n",
    "  .format(\"org.neo4j.spark.DataSource\") \\\n",
    "  .mode(\"Overwrite\") \\\n",
    "  .option(\"url\", neo4j_url) \\\n",
    "  .option(\"authentication.basic.username\", neo4j_user) \\\n",
    "  .option(\"authentication.basic.password\", neo4j_passwd) \\\n",
    "  .option(\"relationship\", \"BENIGN_CONNECTION\") \\\n",
    "  .option(\"relationship.save.strategy\", \"keys\") \\\n",
    "  .option(\"relationship.source.labels\", \":IPs\") \\\n",
    "  .option(\"relationship.source.save.mode\", \"match\") \\\n",
    "  .option(\"relationship.source.node.keys\", \"src:ip\") \\\n",
    "  .option(\"relationship.target.labels\", \":IPs\") \\\n",
    "  .option(\"relationship.target.save.mode\", \"match\") \\\n",
    "  .option(\"relationship.target.node.keys\", \"dst:ip\") \\\n",
    "  .save()\n",
    "\n",
    "#.option(\"relationship.source.node.keys\", \"src:id\") format seems to take on column1InRelationship:ColumnInEdge\n",
    "\n",
    "print(f\"{benign_connections_ip.count()} benign edges wrote in Neo4j\")"
   ]
  },
  {
   "cell_type": "code",
   "execution_count": 17,
   "id": "3814ee7e",
   "metadata": {},
   "outputs": [
    {
     "name": "stderr",
     "output_type": "stream",
     "text": [
      "                                                                                \r"
     ]
    },
    {
     "name": "stdout",
     "output_type": "stream",
     "text": [
      "25059 malicious edges wrote in Neo4j\n"
     ]
    }
   ],
   "source": [
    "malicious_connections_ip.write \\\n",
    "  .format(\"org.neo4j.spark.DataSource\") \\\n",
    "  .mode(\"Overwrite\") \\\n",
    "  .option(\"url\", neo4j_url) \\\n",
    "  .option(\"authentication.basic.username\", neo4j_user) \\\n",
    "  .option(\"authentication.basic.password\", neo4j_passwd) \\\n",
    "  .option(\"relationship\", \"MALICIOUS_CONNECTION\") \\\n",
    "  .option(\"relationship.save.strategy\", \"keys\") \\\n",
    "  .option(\"relationship.source.labels\", \":IPs\") \\\n",
    "  .option(\"relationship.source.save.mode\", \"match\") \\\n",
    "  .option(\"relationship.source.node.keys\", \"src:ip\") \\\n",
    "  .option(\"relationship.target.labels\", \":IPs\") \\\n",
    "  .option(\"relationship.target.save.mode\", \"match\") \\\n",
    "  .option(\"relationship.target.node.keys\", \"dst:ip\") \\\n",
    "  .save()\n",
    "\n",
    "#.option(\"relationship.source.node.keys\", \"src:id\") format seems to take on column1InRelationship:ColumnInEdge\n",
    "\n",
    "print(f\"{malicious_connections_ip.count()} malicious edges wrote in Neo4j\")"
   ]
  },
  {
   "cell_type": "markdown",
   "id": "f30287ea",
   "metadata": {},
   "source": [
    "# Read and Query Graphs with PySpark"
   ]
  },
  {
   "cell_type": "code",
   "execution_count": 20,
   "id": "03ca7b56",
   "metadata": {},
   "outputs": [
    {
     "name": "stdout",
     "output_type": "stream",
     "text": [
      "+----+-------------------------------------------------------------+----+\n",
      "|n.ip|r                                                            |m.ip|\n",
      "+----+-------------------------------------------------------------+----+\n",
      "|2659|{99103, MALICIOUS_CONNECTION, 18, 5299, 26, 17473, 7587, 6}  |3157|\n",
      "|2659|{91446, MALICIOUS_CONNECTION, 18, 9492, 24, 48039, 54369, 17}|3221|\n",
      "|2659|{75428, MALICIOUS_CONNECTION, 18, 712, 59, 9069, 30195, 6}   |436 |\n",
      "|2659|{65200, BENIGN_CONNECTION, 18, 9597, 21, 53974, 5253, 17}    |6998|\n",
      "|2659|{64969, BENIGN_CONNECTION, 18, 6685, 49, 41738, 3583, 6}     |73  |\n",
      "|2659|{58039, BENIGN_CONNECTION, 18, 2129, 9, 18071, 9968, 6}      |259 |\n",
      "|2659|{60525, BENIGN_CONNECTION, 18, 1214, 60, 58713, 21988, 17}   |2939|\n",
      "|2659|{48581, BENIGN_CONNECTION, 18, 9494, 16, 37973, 19994, 6}    |551 |\n",
      "|2659|{7402, OUTLIER_CONNECTION, 18, 8775, 27, 32649, 49840, 6}    |4261|\n",
      "+----+-------------------------------------------------------------+----+\n",
      "\n"
     ]
    }
   ],
   "source": [
    "# Add the code to read a data frame from Neo4J and run a simple query to verify \n",
    "\n",
    "cypher_df = spark.read \\\n",
    "    .format(\"org.neo4j.spark.DataSource\") \\\n",
    "    .option(\"url\", neo4j_url) \\\n",
    "    .option(\"authentication.basic.username\", neo4j_user) \\\n",
    "    .option(\"authentication.basic.password\", neo4j_passwd) \\\n",
    "    .option(\"query\",\n",
    "            \"\"\"\n",
    "            match (n:IPs{ip: 2659})-[r]->(m)\n",
    "            return n.ip, r, m.ip\n",
    "            \"\"\") \\\n",
    "    .load()\n",
    "\n",
    "cypher_df.show(truncate=False)"
   ]
  },
  {
   "cell_type": "code",
   "execution_count": null,
   "id": "9078a7dd",
   "metadata": {},
   "outputs": [],
   "source": [
    "sc.stop()"
   ]
  }
 ],
 "metadata": {
  "kernelspec": {
   "display_name": "Python 3 (ipykernel)",
   "language": "python",
   "name": "python3"
  },
  "language_info": {
   "codemirror_mode": {
    "name": "ipython",
    "version": 3
   },
   "file_extension": ".py",
   "mimetype": "text/x-python",
   "name": "python",
   "nbconvert_exporter": "python",
   "pygments_lexer": "ipython3",
   "version": "3.10.12"
  }
 },
 "nbformat": 4,
 "nbformat_minor": 5
}
