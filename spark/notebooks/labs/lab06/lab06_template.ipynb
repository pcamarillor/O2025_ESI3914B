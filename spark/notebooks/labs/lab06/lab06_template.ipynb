{
 "cells": [
  {
   "cell_type": "markdown",
   "id": "b92d9622",
   "metadata": {},
   "source": [
    "# <center> <img src=\"../../img/ITESOLogo.png\" alt=\"ITESO\" width=\"480\" height=\"130\"> </center>\n",
    "# <center> **Departamento de Electrónica, Sistemas e Informática** </center>\n",
    "---\n",
    "## <center> Computer Systems Engineering  </center>\n",
    "---\n",
    "### <center> Big Data Processing </center>\n",
    "---\n",
    "#### <center> **Autumn 2025** </center>\n",
    "---\n",
    "\n",
    "**Lab 05**: Data pipeline with Neo4j\n",
    "\n",
    "**Date**: October 2nd 2025\n",
    "\n",
    "**Student Name**: Juan Bernardo Orozco Quirarte\n",
    "\n",
    "**Professor**: Pablo Camarillo Ramirez"
   ]
  },
  {
   "cell_type": "markdown",
   "id": "7893c817",
   "metadata": {},
   "source": [
    "# Dataset description"
   ]
  },
  {
   "cell_type": "markdown",
   "id": "539f8632",
   "metadata": {},
   "source": [
    "## Dataset: car_sales_data.csv\n",
    "\n",
    "### Columnas\n",
    "- **Manufacturer**: fabricante del carro\n",
    "- **Model**: modelo del carro\n",
    "- **Engine_size**: tamaño del motor\n",
    "- **Fuel_tipe**: tipo de combustible\n",
    "- **Year_of_manufacture**: año de fabricación\n",
    "- **Mileage**: kilometraje\n",
    "- **Price**: precio\n",
    "\n",
    "### Nodos\n",
    "- **Car**: cada coche será un nodo\n",
    "- **Manufacturer**: cada fabricante será un nodo\n",
    "\n",
    "### Relaciones (Edges)\n",
    "- **MANUFACTURED_BY**: cada carro tiene un fabricante\n"
   ]
  },
  {
   "cell_type": "markdown",
   "id": "9b2e84c3",
   "metadata": {},
   "source": [
    "# Data ingestion"
   ]
  },
  {
   "cell_type": "code",
   "execution_count": 1,
   "id": "ed17a0b0",
   "metadata": {},
   "outputs": [
    {
     "name": "stderr",
     "output_type": "stream",
     "text": [
      "WARNING: Using incubator modules: jdk.incubator.vector\n",
      ":: loading settings :: url = jar:file:/opt/spark/jars/ivy-2.5.3.jar!/org/apache/ivy/core/settings/ivysettings.xml\n",
      "Ivy Default Cache set to: /root/.ivy2.5.2/cache\n",
      "The jars for the packages stored in: /root/.ivy2.5.2/jars\n",
      "org.neo4j#neo4j-connector-apache-spark_2.13 added as a dependency\n",
      ":: resolving dependencies :: org.apache.spark#spark-submit-parent-e5043d26-e160-4e9d-923a-6082f4bcdbc5;1.0\n",
      "\tconfs: [default]\n",
      "\tfound org.neo4j#neo4j-connector-apache-spark_2.13;5.3.10_for_spark_3 in central\n",
      "\tfound org.neo4j#neo4j-connector-apache-spark_2.13_common;5.3.10_for_spark_3 in central\n",
      "\tfound org.neo4j#caniuse-core;1.3.0 in central\n",
      "\tfound org.neo4j#caniuse-api;1.3.0 in central\n",
      "\tfound org.jetbrains.kotlin#kotlin-stdlib;2.1.20 in central\n",
      "\tfound org.jetbrains#annotations;13.0 in central\n",
      "\tfound org.neo4j#caniuse-neo4j-detection;1.3.0 in central\n",
      "\tfound org.neo4j.driver#neo4j-java-driver-slim;4.4.21 in central\n",
      "\tfound org.reactivestreams#reactive-streams;1.0.4 in central\n",
      "\tfound io.netty#netty-handler;4.1.127.Final in central\n",
      "\tfound io.netty#netty-common;4.1.127.Final in central\n",
      "\tfound io.netty#netty-resolver;4.1.127.Final in central\n",
      "\tfound io.netty#netty-buffer;4.1.127.Final in central\n",
      "\tfound io.netty#netty-transport;4.1.127.Final in central\n",
      "\tfound io.netty#netty-transport-native-unix-common;4.1.127.Final in central\n",
      "\tfound io.netty#netty-codec;4.1.127.Final in central\n",
      "\tfound io.netty#netty-tcnative-classes;2.0.73.Final in central\n",
      "\tfound io.projectreactor#reactor-core;3.6.11 in central\n",
      "\tfound org.neo4j#neo4j-cypher-dsl;2022.11.0 in central\n",
      "\tfound org.apiguardian#apiguardian-api;1.1.2 in central\n",
      "\tfound org.neo4j.connectors#commons-authn-spi;1.0.0-rc2 in central\n",
      "\tfound org.neo4j.connectors#commons-reauth-driver;1.0.0-rc2 in central\n",
      "\tfound org.slf4j#slf4j-api;2.0.17 in central\n",
      "\tfound org.neo4j.connectors#commons-authn-provided;1.0.0-rc2 in central\n",
      ":: resolution report :: resolve 590ms :: artifacts dl 26ms\n",
      "\t:: modules in use:\n",
      "\tio.netty#netty-buffer;4.1.127.Final from central in [default]\n",
      "\tio.netty#netty-codec;4.1.127.Final from central in [default]\n",
      "\tio.netty#netty-common;4.1.127.Final from central in [default]\n",
      "\tio.netty#netty-handler;4.1.127.Final from central in [default]\n",
      "\tio.netty#netty-resolver;4.1.127.Final from central in [default]\n",
      "\tio.netty#netty-tcnative-classes;2.0.73.Final from central in [default]\n",
      "\tio.netty#netty-transport;4.1.127.Final from central in [default]\n",
      "\tio.netty#netty-transport-native-unix-common;4.1.127.Final from central in [default]\n",
      "\tio.projectreactor#reactor-core;3.6.11 from central in [default]\n",
      "\torg.apiguardian#apiguardian-api;1.1.2 from central in [default]\n",
      "\torg.jetbrains#annotations;13.0 from central in [default]\n",
      "\torg.jetbrains.kotlin#kotlin-stdlib;2.1.20 from central in [default]\n",
      "\torg.neo4j#caniuse-api;1.3.0 from central in [default]\n",
      "\torg.neo4j#caniuse-core;1.3.0 from central in [default]\n",
      "\torg.neo4j#caniuse-neo4j-detection;1.3.0 from central in [default]\n",
      "\torg.neo4j#neo4j-connector-apache-spark_2.13;5.3.10_for_spark_3 from central in [default]\n",
      "\torg.neo4j#neo4j-connector-apache-spark_2.13_common;5.3.10_for_spark_3 from central in [default]\n",
      "\torg.neo4j#neo4j-cypher-dsl;2022.11.0 from central in [default]\n",
      "\torg.neo4j.connectors#commons-authn-provided;1.0.0-rc2 from central in [default]\n",
      "\torg.neo4j.connectors#commons-authn-spi;1.0.0-rc2 from central in [default]\n",
      "\torg.neo4j.connectors#commons-reauth-driver;1.0.0-rc2 from central in [default]\n",
      "\torg.neo4j.driver#neo4j-java-driver-slim;4.4.21 from central in [default]\n",
      "\torg.reactivestreams#reactive-streams;1.0.4 from central in [default]\n",
      "\torg.slf4j#slf4j-api;2.0.17 from central in [default]\n",
      "\t---------------------------------------------------------------------\n",
      "\t|                  |            modules            ||   artifacts   |\n",
      "\t|       conf       | number| search|dwnlded|evicted|| number|dwnlded|\n",
      "\t---------------------------------------------------------------------\n",
      "\t|      default     |   24  |   0   |   0   |   0   ||   24  |   0   |\n",
      "\t---------------------------------------------------------------------\n",
      ":: retrieving :: org.apache.spark#spark-submit-parent-e5043d26-e160-4e9d-923a-6082f4bcdbc5\n",
      "\tconfs: [default]\n",
      "\t0 artifacts copied, 24 already retrieved (0kB/18ms)\n",
      "25/10/05 22:41:21 WARN NativeCodeLoader: Unable to load native-hadoop library for your platform... using builtin-java classes where applicable\n",
      "Using Spark's default log4j profile: org/apache/spark/log4j2-defaults.properties\n",
      "Setting default log level to \"WARN\".\n",
      "To adjust logging level use sc.setLogLevel(newLevel). For SparkR, use setLogLevel(newLevel).\n"
     ]
    }
   ],
   "source": [
    "import findspark\n",
    "findspark.init()\n",
    "\n",
    "from pyspark.sql import SparkSession\n",
    "\n",
    "spark = SparkSession.builder \\\n",
    "    .appName(\"Examples on SparkSQL\") \\\n",
    "    .master(\"spark://spark-master:7077\") \\\n",
    "    .config(\"spark.jars.packages\", \"org.neo4j:neo4j-connector-apache-spark_2.13:5.3.10_for_spark_3\") \\\n",
    "    .config(\"spark.ui.port\", \"4040\") \\\n",
    "    .getOrCreate()\n",
    "\n",
    "sc = spark.sparkContext\n",
    "sc.setLogLevel(\"ERROR\")"
   ]
  },
  {
   "cell_type": "code",
   "execution_count": 2,
   "id": "a93cd621",
   "metadata": {},
   "outputs": [
    {
     "name": "stderr",
     "output_type": "stream",
     "text": [
      "[Stage 0:>                                                          (0 + 1) / 1]\r"
     ]
    },
    {
     "name": "stdout",
     "output_type": "stream",
     "text": [
      "+------------+----------+-----------+---------+-------------------+-------+-----+------+\n",
      "|Manufacturer|     Model|Engine_size|Fuel_tipe|Year_of_manufacture|Mileage|Price|car_id|\n",
      "+------------+----------+-----------+---------+-------------------+-------+-----+------+\n",
      "|        Ford|    Fiesta|        1.0|   Petrol|               2002| 127300| 3074|     0|\n",
      "|     Porsche|718 Cayman|        4.0|   Petrol|               2016|  57850|49704|     1|\n",
      "|        Ford|    Mondeo|        1.6|   Diesel|               2014|  39190|24072|     2|\n",
      "|      Toyota|      RAV4|        1.8|   Hybrid|               1988| 210814| 1705|     3|\n",
      "|          VW|      Polo|        1.0|   Petrol|               2006| 127869| 4101|     4|\n",
      "+------------+----------+-----------+---------+-------------------+-------+-----+------+\n",
      "only showing top 5 rows\n"
     ]
    },
    {
     "name": "stderr",
     "output_type": "stream",
     "text": [
      "                                                                                \r"
     ]
    }
   ],
   "source": [
    "# Build schema\n",
    "# Import your module\n",
    "from lib.bernardoorozco.spark_utils import SparkUtils\n",
    "from pyspark.sql.functions import monotonically_increasing_id\n",
    "\n",
    "cars_schema_columns = [ \n",
    "     (\"Manufacturer\", \"string\"), \n",
    "     (\"Model\", \"string\"),\n",
    "     (\"Engine_size\", \"float\"),\n",
    "     (\"Fuel_tipe\", \"string\"),\n",
    "     (\"Year_of_manufacture\", \"int\"),\n",
    "     (\"Mileage\", \"int\"),\n",
    "     (\"Price\", \"int\")\n",
    "]\n",
    "cars_schema = SparkUtils.generate_schema(cars_schema_columns)\n",
    "\n",
    "# Leer CSV\n",
    "df_cars = spark.read \\\n",
    "                .option(\"header\", \"true\") \\\n",
    "                .schema(cars_schema) \\\n",
    "                .csv(\"/opt/spark/work-dir/data/archive/car_sales_data.csv\")\n",
    "\n",
    "# Generar ID único para cada carro\n",
    "df_cars = df_cars.withColumn(\"car_id\", monotonically_increasing_id())\n",
    "\n",
    "df_cars.show(5)"
   ]
  },
  {
   "cell_type": "markdown",
   "id": "372e82d5",
   "metadata": {},
   "source": [
    "# Transformations"
   ]
  },
  {
   "cell_type": "code",
   "execution_count": 3,
   "id": "000b6d0d",
   "metadata": {},
   "outputs": [
    {
     "name": "stderr",
     "output_type": "stream",
     "text": [
      "                                                                                \r"
     ]
    },
    {
     "name": "stdout",
     "output_type": "stream",
     "text": [
      "+------+------+-----------+---------+-------------------+-------+-----+\n",
      "|car_id| Model|Engine_size|Fuel_tipe|Year_of_manufacture|Mileage|Price|\n",
      "+------+------+-----------+---------+-------------------+-------+-----+\n",
      "|    95|Passat|        1.4|   Diesel|               2010|  64359|15563|\n",
      "|   143|Passat|        2.0|   Petrol|               2013|  38210|25482|\n",
      "|   308| Prius|        1.0|   Hybrid|               2007|  61357|12446|\n",
      "|   406|Fiesta|        1.0|   Petrol|               2006| 113610| 4460|\n",
      "|   600|Mondeo|        1.8|   Diesel|               2014|  38215|25681|\n",
      "+------+------+-----------+---------+-------------------+-------+-----+\n",
      "only showing top 5 rows\n",
      "+------------+\n",
      "|Manufacturer|\n",
      "+------------+\n",
      "|         BMW|\n",
      "|          VW|\n",
      "|     Porsche|\n",
      "|      Toyota|\n",
      "|        Ford|\n",
      "+------------+\n",
      "\n",
      "+----+-------+\n",
      "|from|     to|\n",
      "+----+-------+\n",
      "|   0|   Ford|\n",
      "|   1|Porsche|\n",
      "|   2|   Ford|\n",
      "|   3| Toyota|\n",
      "|   4|     VW|\n",
      "+----+-------+\n",
      "only showing top 5 rows\n"
     ]
    }
   ],
   "source": [
    "# Add the code for your transformations to create nodes and edges DataFrames HERE\n",
    "from pyspark.sql.functions import col\n",
    "\n",
    "df_car_nodes=df_cars.select(\n",
    "    col(\"car_id\"),\n",
    "    col(\"Model\"),\n",
    "    col(\"Engine_size\"),\n",
    "    col(\"Fuel_tipe\"),\n",
    "    col(\"Year_of_manufacture\"),\n",
    "    col(\"Mileage\"),\n",
    "    col(\"Price\")\n",
    ").dropDuplicates().limit(10000)\n",
    "\n",
    "df_manufacturers_nodes = df_cars.select(col(\"Manufacturer\")).distinct()\n",
    "\n",
    "df_edges=df_cars.select(\n",
    "    col(\"car_id\").alias(\"from\"),\n",
    "    col(\"Manufacturer\").alias(\"to\")\n",
    ").limit(10000)\n",
    "\n",
    "df_car_nodes.show(n=5)\n",
    "df_manufacturers_nodes.show(n=5)\n",
    "df_edges.show(n=5)\n"
   ]
  },
  {
   "cell_type": "markdown",
   "id": "e3a68775",
   "metadata": {},
   "source": [
    "# Writing Data in Neo4j"
   ]
  },
  {
   "cell_type": "code",
   "execution_count": 4,
   "id": "d01d7a89",
   "metadata": {},
   "outputs": [
    {
     "name": "stderr",
     "output_type": "stream",
     "text": [
      "                                                                                \r"
     ]
    },
    {
     "name": "stdout",
     "output_type": "stream",
     "text": [
      "10000 car nodes wrote in Neo4j\n",
      "5 manufacturers nodes wrote in Neo4j\n"
     ]
    },
    {
     "name": "stderr",
     "output_type": "stream",
     "text": [
      "[Stage 28:>                                                         (0 + 1) / 1]\r"
     ]
    },
    {
     "name": "stdout",
     "output_type": "stream",
     "text": [
      "10000 MANUFACTURED_BY edges wrote in Neo4j\n"
     ]
    },
    {
     "name": "stderr",
     "output_type": "stream",
     "text": [
      "                                                                                \r"
     ]
    }
   ],
   "source": [
    "# Add the code to write a graph from PySpark's DataFrames to Neo4j\n",
    "neo4j_url = \"bolt://neo4j-iteso:7687\"\n",
    "neo4j_user = \"neo4j\"\n",
    "neo4j_passwd = \"neo4j@1234\"\n",
    "\n",
    "df_car_nodes.write \\\n",
    "  .format(\"org.neo4j.spark.DataSource\") \\\n",
    "  .mode(\"Overwrite\") \\\n",
    "  .option(\"url\", neo4j_url) \\\n",
    "  .option(\"authentication.basic.username\", neo4j_user) \\\n",
    "  .option(\"authentication.basic.password\", neo4j_passwd) \\\n",
    "  .option(\"labels\", \"Car\") \\\n",
    "  .option(\"node.keys\", \"car_id\") \\\n",
    "  .save()\n",
    "\n",
    "print(f\"{df_car_nodes.count()} car nodes wrote in Neo4j\")\n",
    "\n",
    "\n",
    "df_manufacturers_nodes.write \\\n",
    "  .format(\"org.neo4j.spark.DataSource\") \\\n",
    "  .mode(\"Overwrite\") \\\n",
    "  .option(\"url\", neo4j_url) \\\n",
    "  .option(\"authentication.basic.username\", neo4j_user) \\\n",
    "  .option(\"authentication.basic.password\", neo4j_passwd) \\\n",
    "  .option(\"labels\", \"Manufacturer\") \\\n",
    "  .option(\"node.keys\", \"Manufacturer\") \\\n",
    "  .save()\n",
    "\n",
    "print(f\"{df_manufacturers_nodes.count()} manufacturers nodes wrote in Neo4j\")\n",
    "\n",
    "df_edges.write \\\n",
    "    .format(\"org.neo4j.spark.DataSource\") \\\n",
    "    .mode(\"Overwrite\") \\\n",
    "    .option(\"url\", neo4j_url) \\\n",
    "    .option(\"authentication.basic.username\", neo4j_user) \\\n",
    "    .option(\"authentication.basic.password\", neo4j_passwd) \\\n",
    "    .option(\"relationship\", \"MANUFACTURED_BY\") \\\n",
    "    .option(\"relationship.save.strategy\", \"keys\") \\\n",
    "    .option(\"relationship.source.labels\", \":Car\") \\\n",
    "    .option(\"relationship.source.save.mode\", \"match\") \\\n",
    "    .option(\"relationship.source.node.keys\", \"from:car_id\") \\\n",
    "    .option(\"relationship.target.labels\", \":Manufacturer\") \\\n",
    "    .option(\"relationship.target.save.mode\", \"match\") \\\n",
    "    .option(\"relationship.target.node.keys\", \"to:Manufacturer\") \\\n",
    "    .save()\n",
    "\n",
    "\n",
    "print(f\"{df_edges.count()} MANUFACTURED_BY edges wrote in Neo4j\")"
   ]
  },
  {
   "cell_type": "markdown",
   "id": "f30287ea",
   "metadata": {},
   "source": [
    "# Read and Query Graphs with PySpark"
   ]
  },
  {
   "cell_type": "code",
   "execution_count": 9,
   "id": "03ca7b56",
   "metadata": {},
   "outputs": [
    {
     "name": "stdout",
     "output_type": "stream",
     "text": [
      "+---------+----+------------+\n",
      "|Car_Model|Year|Manufacturer|\n",
      "+---------+----+------------+\n",
      "|       M5|2000|         BMW|\n",
      "|       M5|2002|         BMW|\n",
      "|       Z4|1994|         BMW|\n",
      "|       M5|1993|         BMW|\n",
      "|       M5|2010|         BMW|\n",
      "|       Z4|2008|         BMW|\n",
      "|       M5|1989|         BMW|\n",
      "|       Z4|1999|         BMW|\n",
      "|       M5|2005|         BMW|\n",
      "|       Z4|2000|         BMW|\n",
      "+---------+----+------------+\n",
      "only showing top 10 rows\n"
     ]
    }
   ],
   "source": [
    "# Add the code to read a data frame from Neo4J and run a simple query to verify \n",
    "cypher_df = spark.read \\\n",
    "    .format(\"org.neo4j.spark.DataSource\") \\\n",
    "    .option(\"url\", neo4j_url) \\\n",
    "    .option(\"authentication.basic.username\", neo4j_user) \\\n",
    "    .option(\"authentication.basic.password\", neo4j_passwd) \\\n",
    "    .option(\"query\",\n",
    "            \"\"\"\n",
    "            MATCH (c:Car)-[r:MANUFACTURED_BY]->(m:Manufacturer)\n",
    "            RETURN c.Model AS Car_Model, c.Year_of_manufacture AS Year, m.Manufacturer AS Manufacturer\n",
    "            \"\"\") \\\n",
    "    .load()\n",
    "\n",
    "cypher_df.show(10)"
   ]
  },
  {
   "cell_type": "code",
   "execution_count": 12,
   "id": "572fcd78",
   "metadata": {},
   "outputs": [
    {
     "name": "stdout",
     "output_type": "stream",
     "text": [
      "+---------+----+------------+\n",
      "|Car_Model|Year|Manufacturer|\n",
      "+---------+----+------------+\n",
      "|    Yaris|2010|      Toyota|\n",
      "|    Yaris|2004|      Toyota|\n",
      "|    Yaris|2017|      Toyota|\n",
      "|    Prius|2013|      Toyota|\n",
      "|    Yaris|2018|      Toyota|\n",
      "|     RAV4|1998|      Toyota|\n",
      "|     RAV4|2019|      Toyota|\n",
      "|    Yaris|2018|      Toyota|\n",
      "|    Yaris|2007|      Toyota|\n",
      "|    Yaris|2001|      Toyota|\n",
      "+---------+----+------------+\n",
      "only showing top 10 rows\n"
     ]
    }
   ],
   "source": [
    "cypher_df2 = spark.read \\\n",
    "    .format(\"org.neo4j.spark.DataSource\") \\\n",
    "    .option(\"url\", neo4j_url) \\\n",
    "    .option(\"authentication.basic.username\", neo4j_user) \\\n",
    "    .option(\"authentication.basic.password\", neo4j_passwd) \\\n",
    "    .option(\"query\",\n",
    "            \"\"\"\n",
    "            MATCH (c:Car)-[r:MANUFACTURED_BY]->(m:Manufacturer)\n",
    "            WHERE m.Manufacturer IN [\"Toyota\"]\n",
    "            RETURN c.Model AS Car_Model, c.Year_of_manufacture AS Year, m.Manufacturer AS Manufacturer\n",
    "            \"\"\") \\\n",
    "    .load()\n",
    "\n",
    "cypher_df2.limit(20).show(10)"
   ]
  },
  {
   "cell_type": "code",
   "execution_count": 21,
   "id": "b6735f06",
   "metadata": {},
   "outputs": [
    {
     "name": "stdout",
     "output_type": "stream",
     "text": [
      "+---------+----+------+---------+-------+------------+\n",
      "|Car_Model|Year|  Fuel|c.Mileage|c.Price|Manufacturer|\n",
      "+---------+----+------+---------+-------+------------+\n",
      "|       Z4|2007|Petrol|   105271|  12046|         BMW|\n",
      "|       M5|2007|Petrol|    78470|  39655|         BMW|\n",
      "|       M5|2007|Petrol|    86927|  35075|         BMW|\n",
      "|       Z4|2007|Petrol|    48480|  16920|         BMW|\n",
      "|   Passat|2007|Diesel|    50734|  14863|          VW|\n",
      "|   Passat|2007|Diesel|    86556|  12424|          VW|\n",
      "|   Passat|2007|Diesel|   110459|   9207|          VW|\n",
      "|     Golf|2007|Petrol|   124107|   6339|          VW|\n",
      "|     Golf|2007|Diesel|    83934|   8954|          VW|\n",
      "|     Polo|2007|Petrol|    15348|  11757|          VW|\n",
      "+---------+----+------+---------+-------+------------+\n",
      "only showing top 10 rows\n"
     ]
    }
   ],
   "source": [
    "cypher_df3 = spark.read \\\n",
    "    .format(\"org.neo4j.spark.DataSource\") \\\n",
    "    .option(\"url\", neo4j_url) \\\n",
    "    .option(\"authentication.basic.username\", neo4j_user) \\\n",
    "    .option(\"authentication.basic.password\", neo4j_passwd) \\\n",
    "    .option(\"query\",\n",
    "            \"\"\"\n",
    "           MATCH (c:Car)-[r:MANUFACTURED_BY]->(m:Manufacturer)\n",
    "            WHERE c.Year_of_manufacture = 2007\n",
    "            RETURN c.Model AS Car_Model, c.Year_of_manufacture AS Year, c.Fuel_tipe AS Fuel, c.Mileage, c.Price, m.Manufacturer AS Manufacturer\n",
    "            \"\"\") \\\n",
    "    .load()\n",
    "\n",
    "cypher_df3.limit(20).show(10)"
   ]
  },
  {
   "cell_type": "code",
   "execution_count": 22,
   "id": "9078a7dd",
   "metadata": {},
   "outputs": [],
   "source": [
    "sc.stop()"
   ]
  }
 ],
 "metadata": {
  "kernelspec": {
   "display_name": "Python 3 (ipykernel)",
   "language": "python",
   "name": "python3"
  },
  "language_info": {
   "codemirror_mode": {
    "name": "ipython",
    "version": 3
   },
   "file_extension": ".py",
   "mimetype": "text/x-python",
   "name": "python",
   "nbconvert_exporter": "python",
   "pygments_lexer": "ipython3",
   "version": "3.10.12"
  }
 },
 "nbformat": 4,
 "nbformat_minor": 5
}
