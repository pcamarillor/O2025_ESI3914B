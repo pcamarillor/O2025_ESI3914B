{
 "cells": [
  {
   "cell_type": "markdown",
   "metadata": {},
   "source": [
    "# <center> <img src=\"../../img/ITESOLogo.png\" alt=\"ITESO\" width=\"480\" height=\"130\"> </center>\n",
    "# <center> **Departamento de Electrónica, Sistemas e Informática** </center>\n",
    "---\n",
    "## <center> Computer Systems Engineering  </center>\n",
    "---\n",
    "### <center> Big Data Processing </center>\n",
    "---\n",
    "#### <center> **Autumn 2025** </center>\n",
    "---\n",
    "\n",
    "**Lab 07**: Structured Streaming with Files \n",
    "\n",
    "**Date**: October 10th 2025\n",
    "\n",
    "**Student Name**: \n",
    "\n",
    "**Professor**: Pablo Camarillo Ramirez"
   ]
  },
  {
   "cell_type": "code",
   "execution_count": null,
   "metadata": {},
   "outputs": [],
   "source": [
    "import findspark\n",
    "findspark.init()\n",
    "\n",
    "from pyspark.sql import SparkSession\n",
    "\n",
    "spark = SparkSession.builder \\\n",
    "    .appName(\"Examples on Structured Streaming (files)\") \\\n",
    "    .master(\"spark://spark-master:7077\") \\\n",
    "    .config(\"spark.ui.port\", \"4040\") \\\n",
    "    .getOrCreate()\n",
    "\n",
    "sc = spark.sparkContext\n",
    "sc.setLogLevel(\"ERROR\")\n",
    "spark.conf.set(\"spark.sql.shuffle.partitions\", \"5\")"
   ]
  },
  {
   "cell_type": "code",
   "execution_count": null,
   "metadata": {},
   "outputs": [],
   "source": [
    "from pcamarillor.spark_utils import SparkUtils\n",
    "from pyspark.sql.types import StringType, StructType, StructField\n",
    "from pyspark.sql.functions import trim\n",
    "\n",
    "log_schema = SparkUtils.generate_schema([\n",
    "    (\"timestamp\", \"string\"),\n",
    "    (\"level\", \"string\"),\n",
    "    (\"message\", \"string\"),\n",
    "    (\"server\", \"string\")\n",
    "])\n",
    "\n",
    "logs_df = spark.readStream \\\n",
    "    .format(\"csv\") \\\n",
    "    .option(\"sep\", \"|\") \\\n",
    "    .schema(log_schema) \\\n",
    "    .load(\"/opt/spark/work-dir/data/logs/\")\n",
    "\n",
    "logs_df = logs_df.select(\n",
    "    trim(logs_df[\"timestamp\"]).alias(\"timestamp\"),\n",
    "    trim(logs_df[\"level\"]).alias(\"level\"),\n",
    "    trim(logs_df[\"message\"]).alias(\"message\"),\n",
    "    trim(logs_df[\"server\"]).alias(\"server\")\n",
    ")\n",
    "\n",
    "critical_errors = logs_df.filter(logs_df[\"message\"].contains(\"500\"))\n",
    "\n",
    "aggregated_errors = critical_errors.groupBy(\n",
    "    \"timestamp\", \"level\", \"message\", \"server\"\n",
    ").count()\n",
    "\n",
    "query = aggregated_errors.writeStream \\\n",
    "    .outputMode(\"complete\") \\\n",
    "    .format(\"console\") \\\n",
    "    .option(\"truncate\", False) \\\n",
    "    .start()\n",
    "\n",
    "query.awaitTermination(60)\n"
   ]
  },
  {
   "cell_type": "code",
   "execution_count": null,
   "metadata": {},
   "outputs": [],
   "source": []
  }
 ],
 "metadata": {
  "kernelspec": {
   "display_name": "Python 3 (ipykernel)",
   "language": "python",
   "name": "python3"
  },
  "language_info": {
   "codemirror_mode": {
    "name": "ipython",
    "version": 3
   },
   "file_extension": ".py",
   "mimetype": "text/x-python",
   "name": "python",
   "nbconvert_exporter": "python",
   "pygments_lexer": "ipython3",
   "version": "3.10.12"
  }
 },
 "nbformat": 4,
 "nbformat_minor": 4
}
