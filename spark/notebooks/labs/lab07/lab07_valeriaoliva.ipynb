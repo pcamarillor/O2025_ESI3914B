{
 "cells": [
  {
   "cell_type": "markdown",
   "id": "b92d9622",
   "metadata": {},
   "source": [
    "# <center> <img src=\"../../img/ITESOLogo.png\" alt=\"ITESO\" width=\"480\" height=\"130\"> </center>\n",
    "# <center> **Departamento de Electrónica, Sistemas e Informática** </center>\n",
    "---\n",
    "## <center> Computer Systems Engineering  </center>\n",
    "---\n",
    "### <center> Big Data Processing </center>\n",
    "---\n",
    "#### <center> **Autumn 2025** </center>\n",
    "---\n",
    "\n",
    "**Lab 07**: Structured Streaming with Files\n",
    "\n",
    "**Date**: October 10th 2025\n",
    "\n",
    "**Student Name**: Valeria Oliva Hdez\n",
    "\n",
    "**Professor**: Pablo Camarillo Ramirez"
   ]
  },
  {
   "cell_type": "markdown",
   "id": "28815f24-320c-4587-a942-c84e94a163d7",
   "metadata": {},
   "source": [
    "## **1. Create SparkSession**"
   ]
  },
  {
   "cell_type": "code",
   "execution_count": 1,
   "id": "fd533d88-0f7c-42c5-970b-abf6ece00995",
   "metadata": {},
   "outputs": [
    {
     "name": "stderr",
     "output_type": "stream",
     "text": [
      "WARNING: Using incubator modules: jdk.incubator.vector\n",
      "Using Spark's default log4j profile: org/apache/spark/log4j2-defaults.properties\n",
      "Setting default log level to \"WARN\".\n",
      "To adjust logging level use sc.setLogLevel(newLevel). For SparkR, use setLogLevel(newLevel).\n",
      "25/10/10 04:24:20 WARN NativeCodeLoader: Unable to load native-hadoop library for your platform... using builtin-java classes where applicable\n"
     ]
    }
   ],
   "source": [
    "import findspark\n",
    "findspark.init()\n",
    "\n",
    "from pyspark.sql import SparkSession\n",
    "\n",
    "spark = SparkSession.builder \\\n",
    "    .appName(\"Examples on Structured Streaming (files)\") \\\n",
    "    .master(\"spark://spark-master:7077\") \\\n",
    "    .config(\"spark.ui.port\", \"4040\") \\\n",
    "    .getOrCreate()\n",
    "\n",
    "sc = spark.sparkContext\n",
    "sc.setLogLevel(\"ERROR\")\n",
    "# Optimization (reduce the number of shuffle partitions)\n",
    "spark.conf.set(\"spark.sql.shuffle.partitions\", \"5\")"
   ]
  },
  {
   "cell_type": "markdown",
   "id": "ef09fc6e-9f8d-49e1-942f-e94f1004ca98",
   "metadata": {},
   "source": [
    "## **2. Create a data stream from files**"
   ]
  },
  {
   "cell_type": "code",
   "execution_count": 2,
   "id": "1f0af2ee-f1ac-47b8-bcc9-d9dc325d7a67",
   "metadata": {},
   "outputs": [
    {
     "name": "stderr",
     "output_type": "stream",
     "text": [
      "                                                                                "
     ]
    },
    {
     "name": "stdout",
     "output_type": "stream",
     "text": [
      "-------------------------------------------\n",
      "Batch: 0\n",
      "-------------------------------------------\n",
      "+------------------------------------------+-------+-----+\n",
      "|window                                    |action |count|\n",
      "+------------------------------------------+-------+-----+\n",
      "|{2025-10-10 04:24:40, 2025-10-10 04:24:50}|payment|2    |\n",
      "|{2025-10-10 04:24:50, 2025-10-10 04:25:00}|payment|5    |\n",
      "|{2025-10-10 04:24:40, 2025-10-10 04:24:50}|user   |3    |\n",
      "|{2025-10-10 04:24:50, 2025-10-10 04:25:00}|order  |2    |\n",
      "|{2025-10-10 04:24:50, 2025-10-10 04:25:00}|user   |3    |\n",
      "|{2025-10-10 04:24:40, 2025-10-10 04:24:50}|order  |4    |\n",
      "+------------------------------------------+-------+-----+\n",
      "\n"
     ]
    },
    {
     "name": "stderr",
     "output_type": "stream",
     "text": [
      "                                                                                "
     ]
    },
    {
     "name": "stdout",
     "output_type": "stream",
     "text": [
      "-------------------------------------------\n",
      "Batch: 1\n",
      "-------------------------------------------\n",
      "+------------------------------------------+-------+-----+\n",
      "|window                                    |action |count|\n",
      "+------------------------------------------+-------+-----+\n",
      "|{2025-10-10 04:25:00, 2025-10-10 04:25:10}|order  |4    |\n",
      "|{2025-10-10 04:25:00, 2025-10-10 04:25:10}|payment|2    |\n",
      "|{2025-10-10 04:25:10, 2025-10-10 04:25:20}|user   |2    |\n",
      "|{2025-10-10 04:25:00, 2025-10-10 04:25:10}|user   |4    |\n",
      "+------------------------------------------+-------+-----+\n",
      "\n"
     ]
    },
    {
     "name": "stderr",
     "output_type": "stream",
     "text": [
      "                                                                                "
     ]
    },
    {
     "name": "stdout",
     "output_type": "stream",
     "text": [
      "-------------------------------------------\n",
      "Batch: 2\n",
      "-------------------------------------------\n",
      "+------------------------------------------+-------+-----+\n",
      "|window                                    |action |count|\n",
      "+------------------------------------------+-------+-----+\n",
      "|{2025-10-10 04:25:10, 2025-10-10 04:25:20}|order  |4    |\n",
      "|{2025-10-10 04:25:10, 2025-10-10 04:25:20}|payment|5    |\n",
      "+------------------------------------------+-------+-----+\n",
      "\n"
     ]
    },
    {
     "name": "stderr",
     "output_type": "stream",
     "text": [
      "                                                                                "
     ]
    },
    {
     "name": "stdout",
     "output_type": "stream",
     "text": [
      "-------------------------------------------\n",
      "Batch: 3\n",
      "-------------------------------------------\n",
      "+------+------+-----+\n",
      "|window|action|count|\n",
      "+------+------+-----+\n",
      "+------+------+-----+\n",
      "\n"
     ]
    },
    {
     "data": {
      "text/plain": [
       "False"
      ]
     },
     "execution_count": 2,
     "metadata": {},
     "output_type": "execute_result"
    },
    {
     "name": "stderr",
     "output_type": "stream",
     "text": [
      "                                                                                "
     ]
    },
    {
     "name": "stdout",
     "output_type": "stream",
     "text": [
      "-------------------------------------------\n",
      "Batch: 4\n",
      "-------------------------------------------\n",
      "+------------------------------------------+-------+-----+\n",
      "|window                                    |action |count|\n",
      "+------------------------------------------+-------+-----+\n",
      "|{2025-10-10 04:25:20, 2025-10-10 04:25:30}|payment|3    |\n",
      "|{2025-10-10 04:25:20, 2025-10-10 04:25:30}|user   |2    |\n",
      "+------------------------------------------+-------+-----+\n",
      "\n"
     ]
    },
    {
     "name": "stderr",
     "output_type": "stream",
     "text": [
      "                                                                                "
     ]
    },
    {
     "name": "stdout",
     "output_type": "stream",
     "text": [
      "-------------------------------------------\n",
      "Batch: 5\n",
      "-------------------------------------------\n",
      "+------+------+-----+\n",
      "|window|action|count|\n",
      "+------+------+-----+\n",
      "+------+------+-----+\n",
      "\n"
     ]
    }
   ],
   "source": [
    "from valeriaoliva.spark_utils import SparkUtils\n",
    "from pyspark.sql.functions import col, to_timestamp, window\n",
    "\n",
    "logs_schema = SparkUtils.generate_schema([\n",
    "    (\"time\", \"string\"), \n",
    "    (\"level\", \"string\"), \n",
    "    (\"action\", \"string\"), \n",
    "    (\"event\", \"string\"), \n",
    "    (\"user\",\"string\") ])\n",
    "\n",
    "\n",
    "logs_df = spark.readStream \\\n",
    "            .format(\"json\") \\\n",
    "            .schema(logs_schema) \\\n",
    "            .load(\"/opt/spark/work-dir/data/logs\")\n",
    "\n",
    "logs_ts = logs_df.withColumn(\"ts\", to_timestamp(\"time\", \"yyyy-MM-dd'T'HH:mm:ssXXX\"))\n",
    "errors = logs_ts.filter(col(\"level\") == \"ERROR\")\n",
    "alerts = (errors.groupBy(window(col(\"ts\"), \"10 seconds\"), col(\"action\"))\n",
    "                .count()\n",
    "                .filter(col(\"count\") >= 2))\n",
    "\n",
    "query = alerts.writeStream \\\n",
    "            .outputMode(\"update\") \\\n",
    "            .format(\"console\") \\\n",
    "            .option(\"truncate\", False) \\\n",
    "            .start()\n",
    "\n",
    "query.awaitTermination(30) # Wait 30 seconds before closing the stream"
   ]
  },
  {
   "cell_type": "code",
   "execution_count": null,
   "id": "9078a7dd",
   "metadata": {},
   "outputs": [],
   "source": [
    "sc.stop()"
   ]
  },
  {
   "cell_type": "code",
   "execution_count": null,
   "id": "c5b0d563-96a3-4df6-a9db-6947479a3c69",
   "metadata": {},
   "outputs": [],
   "source": []
  }
 ],
 "metadata": {
  "kernelspec": {
   "display_name": "Python 3 (ipykernel)",
   "language": "python",
   "name": "python3"
  },
  "language_info": {
   "codemirror_mode": {
    "name": "ipython",
    "version": 3
   },
   "file_extension": ".py",
   "mimetype": "text/x-python",
   "name": "python",
   "nbconvert_exporter": "python",
   "pygments_lexer": "ipython3",
   "version": "3.10.12"
  }
 },
 "nbformat": 4,
 "nbformat_minor": 5
}
