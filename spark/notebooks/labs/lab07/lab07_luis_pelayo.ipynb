{
 "cells": [
  {
   "cell_type": "markdown",
   "metadata": {},
   "source": [
    "# <center> <img src=\"../../img/ITESOLogo.png\" alt=\"ITESO\" width=\"480\" height=\"130\"> </center>\n",
    "# <center> **Departamento de Electrónica, Sistemas e Informática** </center>\n",
    "---\n",
    "## <center> Computer Systems Engineering  </center>\n",
    "---\n",
    "### <center> Big Data Processing </center>\n",
    "---\n",
    "#### <center> **Autumn 2025** </center>\n",
    "---\n",
    "\n",
    "**Lab 07**: Structured Streaming with Files \n",
    "\n",
    "**Date**: October 10th 2025\n",
    "\n",
    "**Student Name**: Luis Antonio Pelayo Sierra\n",
    "\n",
    "**Professor**: Pablo Camarillo Ramirez"
   ]
  },
  {
   "cell_type": "code",
   "execution_count": 2,
   "metadata": {},
   "outputs": [
    {
     "name": "stderr",
     "output_type": "stream",
     "text": [
      "WARNING: Using incubator modules: jdk.incubator.vector\n",
      "Using Spark's default log4j profile: org/apache/spark/log4j2-defaults.properties\n",
      "Setting default log level to \"WARN\".\n",
      "To adjust logging level use sc.setLogLevel(newLevel). For SparkR, use setLogLevel(newLevel).\n",
      "25/10/10 01:28:29 WARN NativeCodeLoader: Unable to load native-hadoop library for your platform... using builtin-java classes where applicable\n"
     ]
    }
   ],
   "source": [
    "import findspark\n",
    "findspark.init()\n",
    "\n",
    "from pyspark.sql import SparkSession\n",
    "\n",
    "spark = SparkSession.builder \\\n",
    "    .appName(\"Structured Streaming with Files\") \\\n",
    "    .master(\"spark://spark-master:7077\") \\\n",
    "    .config(\"spark.ui.port\", \"4040\") \\\n",
    "    .getOrCreate()\n",
    "\n",
    "sc = spark.sparkContext\n",
    "sc.setLogLevel(\"ERROR\")"
   ]
  },
  {
   "cell_type": "code",
   "execution_count": 1,
   "metadata": {},
   "outputs": [
    {
     "name": "stdout",
     "output_type": "stream",
     "text": [
      "/opt/spark/work-dir\n"
     ]
    }
   ],
   "source": [
    "!pwd"
   ]
  },
  {
   "cell_type": "code",
   "execution_count": null,
   "metadata": {},
   "outputs": [
    {
     "name": "stdout",
     "output_type": "stream",
     "text": [
      "artifacts  data  datacar_service  examples  img  jars  labs  lib  libs\topt\n"
     ]
    }
   ],
   "source": [
    "!ls"
   ]
  },
  {
   "cell_type": "code",
   "execution_count": 5,
   "metadata": {},
   "outputs": [
    {
     "name": "stdout",
     "output_type": "stream",
     "text": [
      "[logger] Writing logs to: /opt/spark/work-dir/spark/data/logs\n",
      "[logger] Wrote 3 lines to log_1760059785.log\n",
      "[logger] Wrote 4 lines to log_1760059787.log\n",
      "[logger] Wrote 3 lines to log_1760059796.log\n",
      "[logger] Wrote 3 lines to log_1760059799.log\n",
      "[logger] Wrote 3 lines to log_1760059804.log\n",
      "[logger] Wrote 4 lines to log_1760059807.log\n",
      "[logger] Wrote 3 lines to log_1760059816.log\n",
      "[logger] Wrote 2 lines to log_1760059819.log\n",
      "[logger] Wrote 1 lines to log_1760059827.log\n",
      "[logger] Wrote 4 lines to log_1760059832.log\n",
      "[logger] Wrote 2 lines to log_1760059837.log\n",
      "[logger] Wrote 2 lines to log_1760059841.log\n"
     ]
    }
   ],
   "source": [
    "%run lib/luis_pelayo/logs.py"
   ]
  },
  {
   "cell_type": "code",
   "execution_count": 6,
   "metadata": {},
   "outputs": [
    {
     "data": {
      "text/plain": [
       "False"
      ]
     },
     "execution_count": 6,
     "metadata": {},
     "output_type": "execute_result"
    }
   ],
   "source": [
    "from luis_pelayo.spark_utils import SparkUtils\n",
    "from pyspark.sql.functions import split, col\n",
    "\n",
    "schema = SparkUtils.generate_schema([(\"Timestamp\", \"timestamp\"),\n",
    "                                        (\"Level\", \"string\"),\n",
    "                                        (\"Message\", \"string\"),\n",
    "                                        (\"Host\", \"string\")])\n",
    "\n",
    "logs = spark.readStream \\\n",
    "    .format(\"text\") \\\n",
    "    .load(\"/opt/spark/work-dir/data/logs/\")  \n",
    "\n",
    "logs_parsed = logs.select(split(col(\"value\"), \" \\\\| \").alias(\"fields\")).select(col(\"fields\").getItem(0).alias(\"Timestamp\").cast(\"timestamp\"),\n",
    "                                                                                col(\"fields\").getItem(1).alias(\"Level\"),\n",
    "                                                                                col(\"fields\").getItem(2).alias(\"Message\"),\n",
    "                                                                                col(\"fields\").getItem(3).alias(\"Host\"))\n",
    "\n",
    "logs_filtered = logs_parsed.filter((col(\"Level\").isin(\"ERROR\", \"CRITICAL\", \"WARNING\")))\n",
    "\n",
    "query = logs_filtered.writeStream \\\n",
    "                        .outputMode(\"append\") \\\n",
    "                        .format(\"console\") \\\n",
    "                        .option(\"truncate\", False) \\\n",
    "                        .start()\n",
    "\n",
    "query.awaitTermination(60)"
   ]
  },
  {
   "cell_type": "code",
   "execution_count": null,
   "metadata": {},
   "outputs": [],
   "source": [
    "sc.stop()"
   ]
  }
 ],
 "metadata": {
  "kernelspec": {
   "display_name": "Python 3 (ipykernel)",
   "language": "python",
   "name": "python3"
  },
  "language_info": {
   "codemirror_mode": {
    "name": "ipython",
    "version": 3
   },
   "file_extension": ".py",
   "mimetype": "text/x-python",
   "name": "python",
   "nbconvert_exporter": "python",
   "pygments_lexer": "ipython3",
   "version": "3.10.12"
  }
 },
 "nbformat": 4,
 "nbformat_minor": 4
}
