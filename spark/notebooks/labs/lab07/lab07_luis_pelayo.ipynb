{
 "cells": [
  {
   "cell_type": "markdown",
   "metadata": {},
   "source": [
    "# <center> <img src=\"../../img/ITESOLogo.png\" alt=\"ITESO\" width=\"480\" height=\"130\"> </center>\n",
    "# <center> **Departamento de Electrónica, Sistemas e Informática** </center>\n",
    "---\n",
    "## <center> Computer Systems Engineering  </center>\n",
    "---\n",
    "### <center> Big Data Processing </center>\n",
    "---\n",
    "#### <center> **Autumn 2025** </center>\n",
    "---\n",
    "\n",
    "**Lab 07**: Structured Streaming with Files \n",
    "\n",
    "**Date**: October 10th 2025\n",
    "\n",
    "**Student Name**: Luis Antonio Pelayo Sierra\n",
    "\n",
    "**Professor**: Pablo Camarillo Ramirez"
   ]
  },
  {
   "cell_type": "code",
   "execution_count": 1,
   "metadata": {},
   "outputs": [
    {
     "name": "stderr",
     "output_type": "stream",
     "text": [
      "WARNING: Using incubator modules: jdk.incubator.vector\n",
      "Using Spark's default log4j profile: org/apache/spark/log4j2-defaults.properties\n",
      "Setting default log level to \"WARN\".\n",
      "To adjust logging level use sc.setLogLevel(newLevel). For SparkR, use setLogLevel(newLevel).\n",
      "25/10/10 02:06:34 WARN NativeCodeLoader: Unable to load native-hadoop library for your platform... using builtin-java classes where applicable\n"
     ]
    }
   ],
   "source": [
    "import findspark\n",
    "findspark.init()\n",
    "\n",
    "from pyspark.sql import SparkSession\n",
    "\n",
    "spark = SparkSession.builder \\\n",
    "    .appName(\"Structured Streaming with Files\") \\\n",
    "    .master(\"spark://spark-master:7077\") \\\n",
    "    .config(\"spark.ui.port\", \"4040\") \\\n",
    "    .getOrCreate()\n",
    "\n",
    "sc = spark.sparkContext\n",
    "sc.setLogLevel(\"ERROR\")"
   ]
  },
  {
   "cell_type": "code",
   "execution_count": 2,
   "metadata": {},
   "outputs": [
    {
     "name": "stdout",
     "output_type": "stream",
     "text": [
      "/opt/spark/work-dir/labs/lab07\n"
     ]
    }
   ],
   "source": [
    "!pwd"
   ]
  },
  {
   "cell_type": "code",
   "execution_count": 6,
   "metadata": {},
   "outputs": [
    {
     "name": "stdout",
     "output_type": "stream",
     "text": [
      "artifacts  datacar_service  img   labs\tlibs  spark\n",
      "data\t   examples\t    jars  lib\topt\n"
     ]
    }
   ],
   "source": [
    "!ls ../../"
   ]
  },
  {
   "cell_type": "code",
   "execution_count": 4,
   "metadata": {},
   "outputs": [],
   "source": [
    "# import sys, subprocess\n",
    "# subprocess.Popen([sys.executable, \"../../lib/luis_pelayo/logs.py\"])"
   ]
  },
  {
   "cell_type": "code",
   "execution_count": 5,
   "metadata": {},
   "outputs": [
    {
     "name": "stderr",
     "output_type": "stream",
     "text": [
      "                                                                                "
     ]
    },
    {
     "name": "stdout",
     "output_type": "stream",
     "text": [
      "-------------------------------------------\n",
      "Batch: 0\n",
      "-------------------------------------------\n",
      "+-------------------+-----+-----------------------------------+------------+\n",
      "|Timestamp          |Level|Message                            |Host        |\n",
      "+-------------------+-----+-----------------------------------+------------+\n",
      "|2025-10-10 01:59:19|ERROR|503 Service Unavailable            |payment-node|\n",
      "|2025-10-10 01:59:19|ERROR|503 Service Unavailable            |auth-service|\n",
      "|2025-10-10 02:06:54|ERROR|502 Bad Gateway                    |cache-proxy |\n",
      "|2025-10-10 01:59:10|ERROR|Uncaught exception in worker thread|db-cluster  |\n",
      "|2025-10-10 01:58:38|ERROR|Timeout contacting upstream service|db-cluster  |\n",
      "+-------------------+-----+-----------------------------------+------------+\n",
      "\n",
      "-------------------------------------------\n",
      "Batch: 1\n",
      "-------------------------------------------\n",
      "+-------------------+--------+----------------------------+------------+\n",
      "|Timestamp          |Level   |Message                     |Host        |\n",
      "+-------------------+--------+----------------------------+------------+\n",
      "|2025-10-10 02:07:05|CRITICAL|Kernel panic in VM container|payment-node|\n",
      "+-------------------+--------+----------------------------+------------+\n",
      "\n",
      "-------------------------------------------\n",
      "Batch: 2\n",
      "-------------------------------------------\n",
      "+---------+-----+-------+----+\n",
      "|Timestamp|Level|Message|Host|\n",
      "+---------+-----+-------+----+\n",
      "+---------+-----+-------+----+\n",
      "\n"
     ]
    },
    {
     "data": {
      "text/plain": [
       "False"
      ]
     },
     "execution_count": 5,
     "metadata": {},
     "output_type": "execute_result"
    },
    {
     "name": "stdout",
     "output_type": "stream",
     "text": [
      "-------------------------------------------\n",
      "Batch: 3\n",
      "-------------------------------------------\n",
      "+-------------------+-----+--------------------+------------+\n",
      "|Timestamp          |Level|Message             |Host        |\n",
      "+-------------------+-----+--------------------+------------+\n",
      "|2025-10-10 02:07:22|ERROR|Transaction rollback|auth-service|\n",
      "|2025-10-10 02:07:22|ERROR|Transaction rollback|auth-service|\n",
      "+-------------------+-----+--------------------+------------+\n",
      "\n",
      "-------------------------------------------\n",
      "Batch: 4\n",
      "-------------------------------------------\n",
      "+-------------------+-----+-----------------------------------+------------+\n",
      "|Timestamp          |Level|Message                            |Host        |\n",
      "+-------------------+-----+-----------------------------------+------------+\n",
      "|2025-10-10 02:07:32|ERROR|Uncaught exception in worker thread|auth-service|\n",
      "+-------------------+-----+-----------------------------------+------------+\n",
      "\n",
      "-------------------------------------------\n",
      "Batch: 5\n",
      "-------------------------------------------\n",
      "+---------+-----+-------+----+\n",
      "|Timestamp|Level|Message|Host|\n",
      "+---------+-----+-------+----+\n",
      "+---------+-----+-------+----+\n",
      "\n",
      "-------------------------------------------\n",
      "Batch: 6\n",
      "-------------------------------------------\n",
      "+-------------------+--------+----------------------------+------------+\n",
      "|Timestamp          |Level   |Message                     |Host        |\n",
      "+-------------------+--------+----------------------------+------------+\n",
      "|2025-10-10 02:07:49|CRITICAL|Node out of sync with master|payment-node|\n",
      "+-------------------+--------+----------------------------+------------+\n",
      "\n"
     ]
    }
   ],
   "source": [
    "from luis_pelayo.spark_utils import SparkUtils\n",
    "from pyspark.sql.functions import split, col\n",
    "\n",
    "schema = SparkUtils.generate_schema([(\"Timestamp\", \"timestamp\"),\n",
    "                                        (\"Level\", \"string\"),\n",
    "                                        (\"Message\", \"string\"),\n",
    "                                        (\"Host\", \"string\")])\n",
    "\n",
    "logs = spark.readStream \\\n",
    "    .format(\"text\") \\\n",
    "    .load(\"/opt/spark/work-dir/data/logs/\")  \n",
    "\n",
    "logs_parsed = logs.select(split(col(\"value\"), \"\\\\s*\\\\|\\\\s*\").alias(\"fields\")).select(col(\"fields\").getItem(0).alias(\"Timestamp\").cast(\"timestamp\"),\n",
    "                                                                                col(\"fields\").getItem(1).alias(\"Level\"),\n",
    "                                                                                col(\"fields\").getItem(2).alias(\"Message\"),\n",
    "                                                                                col(\"fields\").getItem(3).alias(\"Host\"))\n",
    "\n",
    "logs_filtered = logs_parsed.filter((col(\"Level\").isin(\"ERROR\", \"CRITICAL\")))\n",
    "\n",
    "query = logs_filtered.writeStream \\\n",
    "                        .outputMode(\"append\") \\\n",
    "                        .format(\"console\") \\\n",
    "                        .option(\"truncate\", False) \\\n",
    "                        .start()\n",
    "\n",
    "query.awaitTermination(20)"
   ]
  },
  {
   "cell_type": "code",
   "execution_count": 7,
   "metadata": {},
   "outputs": [],
   "source": [
    "sc.stop()"
   ]
  },
  {
   "cell_type": "code",
   "execution_count": null,
   "metadata": {},
   "outputs": [],
   "source": []
  }
 ],
 "metadata": {
  "kernelspec": {
   "display_name": "Python 3 (ipykernel)",
   "language": "python",
   "name": "python3"
  },
  "language_info": {
   "codemirror_mode": {
    "name": "ipython",
    "version": 3
   },
   "file_extension": ".py",
   "mimetype": "text/x-python",
   "name": "python",
   "nbconvert_exporter": "python",
   "pygments_lexer": "ipython3",
   "version": "3.10.12"
  }
 },
 "nbformat": 4,
 "nbformat_minor": 4
}
