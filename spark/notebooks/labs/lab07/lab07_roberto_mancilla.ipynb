{
 "cells": [
  {
   "cell_type": "markdown",
   "metadata": {},
   "source": [
    "# <center> <img src=\"../../img/ITESOLogo.png\" alt=\"ITESO\" width=\"480\" height=\"130\"> </center>\n",
    "# <center> **Departamento de Electrónica, Sistemas e Informática** </center>\n",
    "---\n",
    "## <center> Computer Systems Engineering  </center>\n",
    "---\n",
    "### <center> Big Data Processing </center>\n",
    "---\n",
    "#### <center> **Autumn 2025** </center>\n",
    "---\n",
    "\n",
    "**Lab 07**: Structured Streaming with Files \n",
    "\n",
    "**Date**: October 10th 2025\n",
    "\n",
    "**Student Name**: Luis Roberto Chavez Mancilla\n",
    "\n",
    "**Professor**: Pablo Camarillo Ramirez"
   ]
  },
  {
   "cell_type": "markdown",
   "metadata": {},
   "source": [
    "# Create Spark Session"
   ]
  },
  {
   "cell_type": "code",
   "execution_count": 2,
   "metadata": {},
   "outputs": [],
   "source": [
    "import findspark\n",
    "findspark.init()\n",
    "\n",
    "from pyspark.sql import SparkSession\n",
    "\n",
    "spark = SparkSession.builder \\\n",
    "    .appName(\"Lab 07 - Structured Streaming\") \\\n",
    "    .master(\"spark://spark-master:7077\") \\\n",
    "    .config(\"spark.ui.port\", \"4040\") \\\n",
    "    .getOrCreate()\n",
    "\n",
    "sc = spark.sparkContext\n",
    "sc.setLogLevel(\"ERROR\")\n",
    "# Optimization (reduce the number of shuffle partitions)\n",
    "spark.conf.set(\"spark.sql.shuffle.partitions\", \"5\")"
   ]
  },
  {
   "cell_type": "markdown",
   "metadata": {},
   "source": [
    "### Install netcat utility"
   ]
  },
  {
   "cell_type": "code",
   "execution_count": 3,
   "metadata": {},
   "outputs": [
    {
     "name": "stdout",
     "output_type": "stream",
     "text": [
      "Get:1 http://security.ubuntu.com/ubuntu jammy-security InRelease [129 kB]\n",
      "Hit:2 http://archive.ubuntu.com/ubuntu jammy InRelease  \n",
      "Get:3 http://archive.ubuntu.com/ubuntu jammy-updates InRelease [128 kB]\n",
      "Get:4 http://security.ubuntu.com/ubuntu jammy-security/main amd64 Packages [3,425 kB]\n",
      "Get:5 http://archive.ubuntu.com/ubuntu jammy-backports InRelease [127 kB]\n",
      "Get:6 http://security.ubuntu.com/ubuntu jammy-security/restricted amd64 Packages [5,727 kB]\n",
      "Get:7 http://security.ubuntu.com/ubuntu jammy-security/universe amd64 Packages [1,276 kB]\n",
      "Get:8 http://archive.ubuntu.com/ubuntu jammy-updates/main amd64 Packages [3,750 kB]\n",
      "Get:9 http://archive.ubuntu.com/ubuntu jammy-updates/universe amd64 Packages [1,584 kB]\n",
      "Fetched 16.1 MB in 3s (6,052 kB/s)                         \n",
      "Reading package lists... Done\n",
      "Reading package lists... Done\n",
      "Building dependency tree... Done\n",
      "Reading state information... Done\n",
      "netcat is already the newest version (1.218-4ubuntu1).\n",
      "0 upgraded, 0 newly installed, 0 to remove and 21 not upgraded.\n"
     ]
    }
   ],
   "source": [
    "!apt-get update\n",
    "!apt-get install -y netcat"
   ]
  },
  {
   "cell_type": "markdown",
   "metadata": {},
   "source": [
    "### Generate random web logs\n",
    "En nuestro script que hicimos de producer se generan varios archivo de logs en una carpeta data.\n",
    "\n",
    "`python .\\spark\\notebooks\\lib\\robertoman\\producer.py`"
   ]
  },
  {
   "cell_type": "markdown",
   "metadata": {},
   "source": [
    "### Create schema"
   ]
  },
  {
   "cell_type": "code",
   "execution_count": 4,
   "metadata": {},
   "outputs": [],
   "source": [
    "from robertoman.spark_utils import SparkUtils\n",
    "\n",
    "logs_schema = SparkUtils.generate_schema(\n",
    "    [\n",
    "        (\"timestamp\", \"string\"),\n",
    "        (\"log_type\", \"string\"),\n",
    "        (\"message\", \"string\"),\n",
    "        (\"server\", \"string\"),\n",
    "    ]\n",
    ")"
   ]
  },
  {
   "cell_type": "markdown",
   "metadata": {},
   "source": [
    "Stream"
   ]
  },
  {
   "cell_type": "code",
   "execution_count": null,
   "metadata": {},
   "outputs": [],
   "source": [
    "from pyspark.sql.functions import split, col, to_timestamp, trim\n",
    "\n",
    "logs_df = (spark.readStream\n",
    "    .format(\"text\")\n",
    "    .option(\"maxFilesPerTrigger\", 1) #generar un batch por file >= 3 batches\n",
    "    .load(\"/opt/spark/work-dir/data/lab7_roberto\"))\n",
    "\n",
    "# ya que se dividieron por \"|\" cada elemento hay que usar \"\\s*\\|\\s*\" para que no considere los espacios del |\n",
    "parts = split(col(\"value\"), r\"\\s*\\|\\s*\") # columna\n",
    "parsed_logs_df = (logs_df.select(\n",
    "        to_timestamp(parts.getItem(0), \"yyyy-MM-dd HH:mm:ss\").alias(\"timestamp\"),\n",
    "        trim(parts.getItem(1)).alias(\"log_type\"),\n",
    "        parts.getItem(2).alias(\"message\"),\n",
    "        parts.getItem(3).alias(\"server\"),\n",
    "    ))"
   ]
  },
  {
   "attachments": {
    "image.png": {
     "image/png": "[encoded data removed]"
    }
   },
   "cell_type": "markdown",
   "metadata": {},
   "source": [
    "![image.png](attachment:image.png)"
   ]
  },
  {
   "cell_type": "markdown",
   "metadata": {},
   "source": [
    "### Filter critical errors"
   ]
  },
  {
   "cell_type": "code",
   "execution_count": 6,
   "metadata": {},
   "outputs": [],
   "source": [
    "critical_errors_df = parsed_logs_df.filter(\n",
    "    (col(\"log_type\") == \"ERROR\") & (col(\"message\").contains(\"500\"))\n",
    ")"
   ]
  },
  {
   "cell_type": "code",
   "execution_count": 10,
   "metadata": {},
   "outputs": [
    {
     "name": "stdout",
     "output_type": "stream",
     "text": [
      "-------------------------------------------\n",
      "Batch: 0\n",
      "-------------------------------------------\n",
      "+-------------------+--------+--------------------+-------------+\n",
      "|          timestamp|log_type|             message|       server|\n",
      "+-------------------+--------+--------------------+-------------+\n",
      "|2025-10-09 19:03:01|   ERROR|500 Internal Serv...|server-node-4|\n",
      "|2025-10-09 19:03:01|   ERROR|500 Internal Serv...|server-node-2|\n",
      "|2025-10-09 19:03:01|   ERROR|500 Internal Serv...|server-node-3|\n",
      "|2025-10-09 19:03:01|   ERROR|500 Internal Serv...|server-node-2|\n",
      "+-------------------+--------+--------------------+-------------+\n",
      "\n",
      "-------------------------------------------\n",
      "Batch: 1\n",
      "-------------------------------------------\n",
      "+-------------------+--------+--------------------+-------------+\n",
      "|          timestamp|log_type|             message|       server|\n",
      "+-------------------+--------+--------------------+-------------+\n",
      "|2025-10-09 19:03:04|   ERROR|500 Internal Serv...|server-node-3|\n",
      "|2025-10-09 19:03:04|   ERROR|500 Internal Serv...|server-node-4|\n",
      "|2025-10-09 19:03:04|   ERROR|500 Internal Serv...|server-node-1|\n",
      "|2025-10-09 19:03:04|   ERROR|500 Internal Serv...|server-node-1|\n",
      "|2025-10-09 19:03:04|   ERROR|500 Database conn...|server-node-1|\n",
      "+-------------------+--------+--------------------+-------------+\n",
      "\n",
      "-------------------------------------------\n",
      "Batch: 2\n",
      "-------------------------------------------\n",
      "+-------------------+--------+--------------------+-------------+\n",
      "|          timestamp|log_type|             message|       server|\n",
      "+-------------------+--------+--------------------+-------------+\n",
      "|2025-10-09 19:03:07|   ERROR|500 Internal Serv...|server-node-2|\n",
      "|2025-10-09 19:03:07|   ERROR|500 Internal Serv...|server-node-3|\n",
      "|2025-10-09 19:03:07|   ERROR|500 Internal Serv...|server-node-2|\n",
      "|2025-10-09 19:03:07|   ERROR|500 Internal Serv...|server-node-3|\n",
      "+-------------------+--------+--------------------+-------------+\n",
      "\n",
      "-------------------------------------------\n",
      "Batch: 3\n",
      "-------------------------------------------\n",
      "+-------------------+--------+--------------------+-------------+\n",
      "|          timestamp|log_type|             message|       server|\n",
      "+-------------------+--------+--------------------+-------------+\n",
      "|2025-10-09 19:03:10|   ERROR|500 Internal Serv...|server-node-1|\n",
      "|2025-10-09 19:03:10|   ERROR|500 Internal Serv...|server-node-2|\n",
      "|2025-10-09 19:03:10|   ERROR|500 Internal Serv...|server-node-1|\n",
      "|2025-10-09 19:03:10|   ERROR|500 Internal Serv...|server-node-4|\n",
      "+-------------------+--------+--------------------+-------------+\n",
      "\n"
     ]
    },
    {
     "data": {
      "text/plain": [
       "False"
      ]
     },
     "execution_count": 10,
     "metadata": {},
     "output_type": "execute_result"
    }
   ],
   "source": [
    "query = (\n",
    "    critical_errors_df.writeStream.outputMode(\"append\")\n",
    "    .format(\"console\") # sink en console\n",
    "    .start()\n",
    ")\n",
    "\n",
    "query.awaitTermination(20)"
   ]
  }
 ],
 "metadata": {
  "kernelspec": {
   "display_name": "Python 3 (ipykernel)",
   "language": "python",
   "name": "python3"
  },
  "language_info": {
   "codemirror_mode": {
    "name": "ipython",
    "version": 3
   },
   "file_extension": ".py",
   "mimetype": "text/x-python",
   "name": "python",
   "nbconvert_exporter": "python",
   "pygments_lexer": "ipython3",
   "version": "3.10.12"
  }
 },
 "nbformat": 4,
 "nbformat_minor": 2
}
