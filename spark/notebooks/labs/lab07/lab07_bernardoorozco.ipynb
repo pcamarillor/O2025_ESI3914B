{
 "cells": [
  {
   "cell_type": "markdown",
   "metadata": {},
   "source": [
    "# <center> <img src=\"../../img/ITESOLogo.png\" alt=\"ITESO\" width=\"480\" height=\"130\"> </center>\n",
    "# <center> **Departamento de Electrónica, Sistemas e Informática** </center>\n",
    "---\n",
    "## <center> Computer Systems Engineering  </center>\n",
    "---\n",
    "### <center> Big Data Processing </center>\n",
    "---\n",
    "#### <center> **Autumn 2025** </center>\n",
    "---\n",
    "\n",
    "**Lab 07**: Structured Streaming with Files \n",
    "\n",
    "**Date**: October 10th 2025\n",
    "\n",
    "**Student Name**: Juan Bernardo Orozco Quirarte\n",
    "\n",
    "**Professor**: Pablo Camarillo Ramirez"
   ]
  },
  {
   "cell_type": "markdown",
   "metadata": {},
   "source": [
    "### Create Spark Session"
   ]
  },
  {
   "cell_type": "code",
   "execution_count": 1,
   "metadata": {},
   "outputs": [
    {
     "name": "stderr",
     "output_type": "stream",
     "text": [
      "WARNING: Using incubator modules: jdk.incubator.vector\n",
      "Using Spark's default log4j profile: org/apache/spark/log4j2-defaults.properties\n",
      "Setting default log level to \"WARN\".\n",
      "To adjust logging level use sc.setLogLevel(newLevel). For SparkR, use setLogLevel(newLevel).\n",
      "25/10/09 01:55:26 WARN NativeCodeLoader: Unable to load native-hadoop library for your platform... using builtin-java classes where applicable\n"
     ]
    }
   ],
   "source": [
    "import findspark\n",
    "findspark.init()\n",
    "\n",
    "from pyspark.sql import SparkSession\n",
    "\n",
    "spark = SparkSession.builder \\\n",
    "    .appName(\"Examples on Structured Streaming (files)\") \\\n",
    "    .master(\"spark://spark-master:7077\") \\\n",
    "    .config(\"spark.ui.port\", \"4040\") \\\n",
    "    .getOrCreate()\n",
    "\n",
    "sc = spark.sparkContext\n",
    "sc.setLogLevel(\"ERROR\")\n",
    "# Optimization (reduce the number of shuffle partitions)\n",
    "spark.conf.set(\"spark.sql.shuffle.partitions\", \"5\")"
   ]
  },
  {
   "cell_type": "markdown",
   "metadata": {},
   "source": [
    "### Create Schema"
   ]
  },
  {
   "cell_type": "code",
   "execution_count": 2,
   "metadata": {},
   "outputs": [],
   "source": [
    "from bernardoorozco.spark_utils import SparkUtils\n",
    "\n",
    "logs_schema = SparkUtils.generate_schema([(\"user\", \"string\"), (\"timestamp\", \"string\"),(\"endpoint\", \"string\"),(\"status\",\"int\")])\n",
    "\n",
    "raw_df = spark.readStream \\\n",
    "            .format(\"json\") \\\n",
    "            .schema(logs_schema) \\\n",
    "            .load(\"/opt/spark/work-dir/data/logs/\")"
   ]
  },
  {
   "cell_type": "markdown",
   "metadata": {},
   "source": [
    "### Output"
   ]
  },
  {
   "cell_type": "code",
   "execution_count": 3,
   "metadata": {
    "scrolled": true
   },
   "outputs": [
    {
     "name": "stderr",
     "output_type": "stream",
     "text": [
      "                                                                                "
     ]
    },
    {
     "name": "stdout",
     "output_type": "stream",
     "text": [
      "-------------------------------------------\n",
      "Batch: 0\n",
      "-------------------------------------------\n",
      "+--------+--------------------+--------+------+\n",
      "|user    |timestamp           |endpoint|status|\n",
      "+--------+--------------------+--------+------+\n",
      "|Bernardo|08/10/2025, 19:55:44|/login  |404   |\n",
      "+--------+--------------------+--------+------+\n",
      "\n",
      "-------------------------------------------\n",
      "Batch: 1\n",
      "-------------------------------------------\n",
      "+-----+--------------------+--------+------+\n",
      "|user |timestamp           |endpoint|status|\n",
      "+-----+--------------------+--------+------+\n",
      "|Diego|08/10/2025, 19:55:49|/admin  |200   |\n",
      "+-----+--------------------+--------+------+\n",
      "\n",
      "-------------------------------------------\n",
      "Batch: 2\n",
      "-------------------------------------------\n",
      "+--------+--------------------+--------+------+\n",
      "|user    |timestamp           |endpoint|status|\n",
      "+--------+--------------------+--------+------+\n",
      "|Bernardo|08/10/2025, 19:55:54|/home   |502   |\n",
      "+--------+--------------------+--------+------+\n",
      "\n",
      "-------------------------------------------\n",
      "Batch: 3\n",
      "-------------------------------------------\n",
      "+----+--------------------+---------+------+\n",
      "|user|timestamp           |endpoint |status|\n",
      "+----+--------------------+---------+------+\n",
      "|Luis|08/10/2025, 19:55:59|/checkout|502   |\n",
      "+----+--------------------+---------+------+\n",
      "\n",
      "-------------------------------------------\n",
      "Batch: 4\n",
      "-------------------------------------------\n",
      "+----+--------------------+--------+------+\n",
      "|user|timestamp           |endpoint|status|\n",
      "+----+--------------------+--------+------+\n",
      "|Luis|08/10/2025, 19:56:04|/admin  |404   |\n",
      "+----+--------------------+--------+------+\n",
      "\n",
      "-------------------------------------------\n",
      "Batch: 5\n",
      "-------------------------------------------\n",
      "+----+--------------------+---------+------+\n",
      "|user|timestamp           |endpoint |status|\n",
      "+----+--------------------+---------+------+\n",
      "|Luis|08/10/2025, 19:56:09|/api/data|500   |\n",
      "+----+--------------------+---------+------+\n",
      "\n"
     ]
    },
    {
     "data": {
      "text/plain": [
       "False"
      ]
     },
     "execution_count": 3,
     "metadata": {},
     "output_type": "execute_result"
    },
    {
     "name": "stdout",
     "output_type": "stream",
     "text": [
      "-------------------------------------------\n",
      "Batch: 6\n",
      "-------------------------------------------\n",
      "+-----+--------------------+---------+------+\n",
      "|user |timestamp           |endpoint |status|\n",
      "+-----+--------------------+---------+------+\n",
      "|Pablo|08/10/2025, 19:56:14|/api/data|502   |\n",
      "+-----+--------------------+---------+------+\n",
      "\n",
      "-------------------------------------------\n",
      "Batch: 7\n",
      "-------------------------------------------\n",
      "+----+--------------------+--------+------+\n",
      "|user|timestamp           |endpoint|status|\n",
      "+----+--------------------+--------+------+\n",
      "|Luis|08/10/2025, 19:56:19|/admin  |200   |\n",
      "+----+--------------------+--------+------+\n",
      "\n"
     ]
    }
   ],
   "source": [
    "query = raw_df.writeStream \\\n",
    "    .outputMode(\"append\") \\\n",
    "    .format(\"console\") \\\n",
    "    .option(\"truncate\", False) \\\n",
    "    .start()\n",
    "\n",
    "query.awaitTermination(30)  # Espera 30 segundos para mostrar al menos 3 micro-batches"
   ]
  },
  {
   "cell_type": "code",
   "execution_count": 4,
   "metadata": {},
   "outputs": [],
   "source": [
    "sc.stop()"
   ]
  },
  {
   "cell_type": "code",
   "execution_count": null,
   "metadata": {},
   "outputs": [],
   "source": []
  }
 ],
 "metadata": {
  "kernelspec": {
   "display_name": "Python 3 (ipykernel)",
   "language": "python",
   "name": "python3"
  },
  "language_info": {
   "codemirror_mode": {
    "name": "ipython",
    "version": 3
   },
   "file_extension": ".py",
   "mimetype": "text/x-python",
   "name": "python",
   "nbconvert_exporter": "python",
   "pygments_lexer": "ipython3",
   "version": "3.10.12"
  }
 },
 "nbformat": 4,
 "nbformat_minor": 4
}
