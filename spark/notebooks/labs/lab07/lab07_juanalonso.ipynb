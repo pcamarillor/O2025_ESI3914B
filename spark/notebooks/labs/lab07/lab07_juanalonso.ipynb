{
 "cells": [
  {
   "cell_type": "markdown",
   "id": "91a87e38",
   "metadata": {},
   "source": [
    "# <center> <img src=\"../../img/ITESOLogo.png\" alt=\"ITESO\" width=\"480\" height=\"130\"> </center>\n",
    "# <center> **Departamento de Electrónica, Sistemas e Informática** </center>\n",
    "---\n",
    "## <center> Computer Systems Engineering  </center>\n",
    "---\n",
    "### <center> Big Data Processing </center>\n",
    "---\n",
    "#### <center> **Autumn 2025** </center>\n",
    "---\n",
    "\n",
    "**Lab 05**: Structured Streaming with Files\n",
    "\n",
    "**Date**: October 2nd 2025\n",
    "\n",
    "**Student Name**: Juan Alonso\n",
    "\n",
    "**Professor**: Pablo Camarillo Ramirez"
   ]
  },
  {
   "cell_type": "markdown",
   "id": "73e736ef",
   "metadata": {},
   "source": [
    "## Setup files"
   ]
  },
  {
   "cell_type": "markdown",
   "id": "dd2fa614",
   "metadata": {},
   "source": [
    "## Create Random Logs"
   ]
  },
  {
   "cell_type": "code",
   "execution_count": 1,
   "id": "0f1a3c0a",
   "metadata": {},
   "outputs": [
    {
     "name": "stdout",
     "output_type": "stream",
     "text": [
      "Creating log directory: /opt/spark/work-dir/data/juanalonso/logs\n",
      "[08:31:07] Wrote file: /opt/spark/work-dir/data/juanalonso/logs/logfile_20251010083107602950.txt\n"
     ]
    }
   ],
   "source": [
    "from juanalonso.producer import StreamLogProducer\n",
    "\n",
    "logs = StreamLogProducer()\n",
    "\n",
    "logs.entries_count = 100\n",
    "logs._write_file()"
   ]
  },
  {
   "cell_type": "code",
   "execution_count": 2,
   "id": "b35f0bf7",
   "metadata": {},
   "outputs": [
    {
     "name": "stdout",
     "output_type": "stream",
     "text": [
      "/opt/spark/work-dir\n",
      "logfile_20251010083107602950.txt\n",
      "2025-10-10 08:31:07 | INFO | User login successful | server-node-3\n",
      "2025-10-10 08:31:07 | ERROR | 404 Not Found | server-node-3\n",
      "2025-10-10 08:31:07 | INFO | Port Currently Listening | server-node-1\n",
      "2025-10-10 08:31:07 | INFO | Port Currently Listening | server-node-2\n",
      "2025-10-10 08:31:07 | INFO | API got 'GET' request | server-node-4\n",
      "2025-10-10 08:31:07 | WARN | Timeout, no response received | server-node-4\n",
      "2025-10-10 08:31:07 | INFO | Port Currently Listening | server-node-1\n",
      "2025-10-10 08:31:07 | INFO | API got 'GET' request | server-node-3\n",
      "2025-10-10 08:31:07 | INFO | Port Currently Listening | server-node-1\n",
      "2025-10-10 08:31:07 | WARN | Timeout, no response received | server-node-2\n",
      "2025-10-10 08:31:07 | INFO | API got 'GET' request | server-node-4\n",
      "2025-10-10 08:31:07 | ERROR | 500 Internal Server Error | server-node-4\n",
      "2025-10-10 08:31:07 | INFO | API got 'GET' request | server-node-1\n",
      "2025-10-10 08:31:07 | WARN | Timeout, no response received | server-node-1\n",
      "2025-10-10 08:31:07 | INFO | API got 'GET' request | server-node-2\n",
      "2025-10-10 08:31:07 | WARN | Timeout, no response received | server-node-3\n",
      "2025-10-10 08:31:07 | WARN | High CPU load detected | server-node-2\n",
      "2025-10-10 08:31:07 | INFO | User login successful | server-node-3\n",
      "2025-10-10 08:31:07 | INFO | User login successful | server-node-2\n",
      "2025-10-10 08:31:07 | WARN | Timeout, no response received | server-node-3\n",
      "2025-10-10 08:31:07 | INFO | User login successful | server-node-4\n",
      "2025-10-10 08:31:07 | INFO | Port Currently Listening | server-node-4\n",
      "2025-10-10 08:31:07 | INFO | Port Currently Listening | server-node-3\n",
      "2025-10-10 08:31:07 | WARN | Timeout, no response received | server-node-2\n",
      "2025-10-10 08:31:07 | WARN | Timeout, no response received | server-node-3\n",
      "2025-10-10 08:31:07 | INFO | API got 'GET' request | server-node-4\n",
      "2025-10-10 08:31:07 | INFO | Port Currently Listening | server-node-3\n",
      "2025-10-10 08:31:07 | INFO | API got 'GET' request | server-node-1\n",
      "2025-10-10 08:31:07 | INFO | Port Currently Listening | server-node-2\n",
      "2025-10-10 08:31:07 | INFO | Port Currently Listening | server-node-1\n",
      "2025-10-10 08:31:07 | INFO | User login successful | server-node-4\n",
      "2025-10-10 08:31:07 | WARN | Disk usage 85% | server-node-2\n",
      "2025-10-10 08:31:07 | WARN | Timeout, no response received | server-node-4\n",
      "2025-10-10 08:31:07 | INFO | Port Currently Listening | server-node-4\n",
      "2025-10-10 08:31:07 | INFO | User login successful | server-node-1\n",
      "2025-10-10 08:31:07 | WARN | High CPU load detected | server-node-2\n",
      "2025-10-10 08:31:07 | INFO | Port Currently Listening | server-node-2\n",
      "2025-10-10 08:31:07 | INFO | API got 'GET' request | server-node-3\n",
      "2025-10-10 08:31:07 | ERROR | 500 Internal Server Error | server-node-2\n",
      "2025-10-10 08:31:07 | INFO | User login successful | server-node-4\n",
      "2025-10-10 08:31:07 | INFO | User login successful | server-node-2\n",
      "2025-10-10 08:31:07 | INFO | Port Currently Listening | server-node-4\n",
      "2025-10-10 08:31:07 | WARN | Timeout, no response received | server-node-2\n",
      "2025-10-10 08:31:07 | INFO | Port Currently Listening | server-node-4\n",
      "2025-10-10 08:31:07 | INFO | API got 'GET' request | server-node-1\n",
      "2025-10-10 08:31:07 | WARN | High CPU load detected | server-node-1\n",
      "2025-10-10 08:31:07 | INFO | User login successful | server-node-1\n",
      "2025-10-10 08:31:07 | INFO | Port Currently Listening | server-node-2\n",
      "2025-10-10 08:31:07 | INFO | Port Currently Listening | server-node-1\n",
      "2025-10-10 08:31:07 | ERROR | 500 Internal Server Error | server-node-1\n",
      "2025-10-10 08:31:07 | INFO | Port Currently Listening | server-node-1\n",
      "2025-10-10 08:31:07 | INFO | API got 'GET' request | server-node-4\n",
      "2025-10-10 08:31:07 | WARN | High CPU load detected | server-node-2\n",
      "2025-10-10 08:31:07 | WARN | Disk usage 85% | server-node-3\n",
      "2025-10-10 08:31:07 | INFO | Port Currently Listening | server-node-4\n",
      "2025-10-10 08:31:07 | WARN | High CPU load detected | server-node-4\n",
      "2025-10-10 08:31:07 | INFO | User login successful | server-node-3\n",
      "2025-10-10 08:31:07 | ERROR | 401 Unauthorized | server-node-1\n",
      "2025-10-10 08:31:07 | WARN | Timeout, no response received | server-node-4\n",
      "2025-10-10 08:31:07 | INFO | API got 'GET' request | server-node-4\n",
      "2025-10-10 08:31:07 | WARN | Disk usage 85% | server-node-2\n",
      "2025-10-10 08:31:07 | INFO | User login successful | server-node-2\n",
      "2025-10-10 08:31:07 | ERROR | 404 Not Found | server-node-1\n",
      "2025-10-10 08:31:07 | WARN | Timeout, no response received | server-node-1\n",
      "2025-10-10 08:31:07 | WARN | Timeout, no response received | server-node-1\n",
      "2025-10-10 08:31:07 | INFO | Port Currently Listening | server-node-2\n",
      "2025-10-10 08:31:07 | INFO | API got 'GET' request | server-node-1\n",
      "2025-10-10 08:31:07 | WARN | Disk usage 85% | server-node-3\n",
      "2025-10-10 08:31:07 | WARN | Timeout, no response received | server-node-2\n",
      "2025-10-10 08:31:07 | WARN | Timeout, no response received | server-node-4\n",
      "2025-10-10 08:31:07 | ERROR | 500 Internal Server Error | server-node-3\n",
      "2025-10-10 08:31:07 | WARN | Timeout, no response received | server-node-3\n",
      "2025-10-10 08:31:07 | ERROR | 500 Internal Server Error | server-node-4\n",
      "2025-10-10 08:31:07 | WARN | Disk usage 85% | server-node-1\n",
      "2025-10-10 08:31:07 | ERROR | 401 Unauthorized | server-node-2\n",
      "2025-10-10 08:31:07 | INFO | API got 'GET' request | server-node-3\n",
      "2025-10-10 08:31:07 | INFO | User login successful | server-node-3\n",
      "2025-10-10 08:31:07 | INFO | User login successful | server-node-4\n",
      "2025-10-10 08:31:07 | ERROR | 401 Unauthorized | server-node-3\n",
      "2025-10-10 08:31:07 | INFO | Port Currently Listening | server-node-2\n",
      "2025-10-10 08:31:07 | WARN | High CPU load detected | server-node-2\n",
      "2025-10-10 08:31:07 | WARN | Disk usage 85% | server-node-3\n",
      "2025-10-10 08:31:07 | INFO | User login successful | server-node-3\n",
      "2025-10-10 08:31:07 | INFO | User login successful | server-node-2\n",
      "2025-10-10 08:31:07 | INFO | User login successful | server-node-3\n",
      "2025-10-10 08:31:07 | INFO | API got 'GET' request | server-node-1\n",
      "2025-10-10 08:31:07 | WARN | Timeout, no response received | server-node-1\n",
      "2025-10-10 08:31:07 | INFO | API got 'GET' request | server-node-2\n",
      "2025-10-10 08:31:07 | WARN | High CPU load detected | server-node-4\n",
      "2025-10-10 08:31:07 | INFO | User login successful | server-node-2\n",
      "2025-10-10 08:31:07 | INFO | User login successful | server-node-3\n",
      "2025-10-10 08:31:07 | WARN | High CPU load detected | server-node-1\n",
      "2025-10-10 08:31:07 | INFO | API got 'GET' request | server-node-3\n",
      "2025-10-10 08:31:07 | INFO | User login successful | server-node-3\n",
      "2025-10-10 08:31:07 | WARN | High CPU load detected | server-node-3\n",
      "2025-10-10 08:31:07 | WARN | High CPU load detected | server-node-2\n",
      "2025-10-10 08:31:07 | INFO | Port Currently Listening | server-node-4\n",
      "2025-10-10 08:31:07 | WARN | Timeout, no response received | server-node-1\n",
      "2025-10-10 08:31:07 | INFO | User login successful | server-node-1\n",
      "2025-10-10 08:31:07 | WARN | Timeout, no response received | server-node-4\n"
     ]
    }
   ],
   "source": [
    "!pwd\n",
    "!ls /opt/spark/work-dir/data/juanalonso//logs\n",
    "!cat /opt/spark/work-dir/data/juanalonso/logs/*"
   ]
  },
  {
   "cell_type": "markdown",
   "id": "cf4e7524",
   "metadata": {},
   "source": [
    "## Initialize Spark"
   ]
  },
  {
   "cell_type": "code",
   "execution_count": 3,
   "id": "e4658b59",
   "metadata": {},
   "outputs": [
    {
     "name": "stderr",
     "output_type": "stream",
     "text": [
      "WARNING: Using incubator modules: jdk.incubator.vector\n",
      "Using Spark's default log4j profile: org/apache/spark/log4j2-defaults.properties\n",
      "Setting default log level to \"WARN\".\n",
      "To adjust logging level use sc.setLogLevel(newLevel). For SparkR, use setLogLevel(newLevel).\n",
      "25/10/10 08:33:02 WARN NativeCodeLoader: Unable to load native-hadoop library for your platform... using builtin-java classes where applicable\n"
     ]
    }
   ],
   "source": [
    "import findspark\n",
    "findspark.init()\n",
    "\n",
    "from pyspark.sql import SparkSession\n",
    "spark = SparkSession.builder \\\n",
    "    .appName(\"Lab 07 - Structured Streaming with Files\") \\\n",
    "    .master(\"spark://spark-master:7077\") \\\n",
    "    .config(\"spark.ui.port\", \"4040\") \\\n",
    "    .getOrCreate()\n",
    "\n",
    "sc = spark.sparkContext\n",
    "sc.setLogLevel(\"ERROR\")\n",
    "spark.conf.set(\"spark.sql.shuffle.partitions\", \"5\")"
   ]
  },
  {
   "cell_type": "markdown",
   "id": "3fcdfcce",
   "metadata": {},
   "source": [
    "## Create Schema"
   ]
  },
  {
   "cell_type": "code",
   "execution_count": 4,
   "id": "29615331",
   "metadata": {},
   "outputs": [],
   "source": [
    "from pyspark.sql.functions import col, trim\n",
    "from juanalonso.spark_utils import SparkUtils\n",
    "\n",
    "logs_schema = SparkUtils.generate_schema([\n",
    "    (\"timestamp\", \"string\"),\n",
    "    (\"level\", \"string\"),\n",
    "    (\"message\", \"string\"),\n",
    "    (\"server\", \"string\")\n",
    "])"
   ]
  },
  {
   "cell_type": "markdown",
   "id": "9c099c5b",
   "metadata": {},
   "source": [
    "## Read stream with spark"
   ]
  },
  {
   "cell_type": "code",
   "execution_count": 8,
   "id": "b3f5d57f",
   "metadata": {},
   "outputs": [
    {
     "data": {
      "text/plain": [
       "DataFrame[value: string]"
      ]
     },
     "execution_count": 8,
     "metadata": {},
     "output_type": "execute_result"
    }
   ],
   "source": [
    "from pyspark.sql.functions import split\n",
    "\n",
    "logs_df = spark.readStream \\\n",
    "    .format(\"text\") \\\n",
    "    .load(\"/opt/spark/work-dir/data/juanalonso/logs\")\n",
    "\n",
    "parsed_logs_df = logs_df.select(\n",
    "    split(col(\"value\"), \" \\\\| \").alias(\"parsed\")\n",
    ").select(\n",
    "    col(\"parsed\")[0].alias(\"timestamp\"),\n",
    "    trim(col(\"parsed\")[1]).alias(\"level\"),\n",
    "    col(\"parsed\")[2].alias(\"message\"),\n",
    "    col(\"parsed\")[3].alias(\"server\")\n",
    ")\n",
    "\n",
    "logs_df"
   ]
  },
  {
   "cell_type": "markdown",
   "id": "ab050bcd",
   "metadata": {},
   "source": [
    "## Filter critical errors"
   ]
  },
  {
   "cell_type": "code",
   "execution_count": 9,
   "id": "d54f406b",
   "metadata": {},
   "outputs": [],
   "source": [
    "critical_errors_df = parsed_logs_df \\\n",
    "    .filter((col(\"level\") == \"ERROR\") & (col(\"message\").contains(\"500 Internal Server Error\")))"
   ]
  },
  {
   "cell_type": "markdown",
   "id": "0bbb2d3b",
   "metadata": {},
   "source": [
    "## Create queries"
   ]
  },
  {
   "cell_type": "code",
   "execution_count": 10,
   "id": "f51bdf88",
   "metadata": {},
   "outputs": [],
   "source": [
    "errors_count = critical_errors_df.groupBy(\"message\").count()\n",
    "errors_detailed = critical_errors_df.select(\"timestamp\", \"level\", \"message\", \"server\")"
   ]
  },
  {
   "cell_type": "markdown",
   "id": "1c010e0c",
   "metadata": {},
   "source": [
    "## Write streaming"
   ]
  },
  {
   "cell_type": "code",
   "execution_count": 11,
   "id": "00955fb2",
   "metadata": {},
   "outputs": [
    {
     "name": "stderr",
     "output_type": "stream",
     "text": [
      "                                                                                \r"
     ]
    },
    {
     "name": "stdout",
     "output_type": "stream",
     "text": [
      "-------------------------------------------\n",
      "Batch: 0\n",
      "-------------------------------------------\n",
      "+-------------------+-----+-------------------------+-------------+\n",
      "|timestamp          |level|message                  |server       |\n",
      "+-------------------+-----+-------------------------+-------------+\n",
      "|2025-10-10 08:31:07|ERROR|500 Internal Server Error|server-node-4|\n",
      "|2025-10-10 08:31:07|ERROR|500 Internal Server Error|server-node-2|\n",
      "|2025-10-10 08:31:07|ERROR|500 Internal Server Error|server-node-1|\n",
      "|2025-10-10 08:31:07|ERROR|500 Internal Server Error|server-node-3|\n",
      "|2025-10-10 08:31:07|ERROR|500 Internal Server Error|server-node-4|\n",
      "+-------------------+-----+-------------------------+-------------+\n",
      "\n"
     ]
    },
    {
     "name": "stderr",
     "output_type": "stream",
     "text": [
      "                                                                                \r"
     ]
    },
    {
     "name": "stdout",
     "output_type": "stream",
     "text": [
      "-------------------------------------------\n",
      "Batch: 0\n",
      "-------------------------------------------\n",
      "+-------------------------+-----+\n",
      "|message                  |count|\n",
      "+-------------------------+-----+\n",
      "|500 Internal Server Error|5    |\n",
      "+-------------------------+-----+\n",
      "\n"
     ]
    }
   ],
   "source": [
    "count = errors_count.writeStream \\\n",
    "    .outputMode(\"complete\") \\\n",
    "    .format(\"console\") \\\n",
    "    .option(\"truncate\", \"false\") \\\n",
    "    .start()\n",
    "\n",
    "query = errors_detailed.writeStream \\\n",
    "    .outputMode(\"append\") \\\n",
    "    .format(\"console\") \\\n",
    "    .option(\"truncate\", \"false\") \\\n",
    "    .start()\n",
    "\n",
    "count.awaitTermination(20)\n",
    "count.stop()\n",
    "\n",
    "query.awaitTermination(20)\n",
    "query.stop()\n"
   ]
  }
 ],
 "metadata": {
  "kernelspec": {
   "display_name": "Python 3 (ipykernel)",
   "language": "python",
   "name": "python3"
  },
  "language_info": {
   "codemirror_mode": {
    "name": "ipython",
    "version": 3
   },
   "file_extension": ".py",
   "mimetype": "text/x-python",
   "name": "python",
   "nbconvert_exporter": "python",
   "pygments_lexer": "ipython3",
   "version": "3.10.12"
  }
 },
 "nbformat": 4,
 "nbformat_minor": 5
}
