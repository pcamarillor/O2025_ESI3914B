{
 "cells": [
  {
   "cell_type": "markdown",
   "metadata": {},
   "source": [
    "# <center> <img src=\"../../img/ITESOLogo.png\" alt=\"ITESO\" width=\"480\" height=\"130\"> </center>\n",
    "# <center> **Departamento de Electrónica, Sistemas e Informática** </center>\n",
    "---\n",
    "## <center> Computer Systems Engineering  </center>\n",
    "---\n",
    "### <center> Big Data Processing </center>\n",
    "---\n",
    "#### <center> **Autumn 2025** </center>\n",
    "---\n",
    "\n",
    "**Lab 07**: Structured Streaming with Files \n",
    "\n",
    "**Date**: October 10th 2025\n",
    "\n",
    "**Student Name**: \n",
    "\n",
    "**Professor**: Pablo Camarillo Ramirez"
   ]
  },
  {
   "cell_type": "code",
   "execution_count": 2,
   "metadata": {},
   "outputs": [
    {
     "name": "stderr",
     "output_type": "stream",
     "text": [
      "WARNING: Using incubator modules: jdk.incubator.vector\n",
      "Using Spark's default log4j profile: org/apache/spark/log4j2-defaults.properties\n",
      "Setting default log level to \"WARN\".\n",
      "To adjust logging level use sc.setLogLevel(newLevel). For SparkR, use setLogLevel(newLevel).\n",
      "25/10/10 01:31:14 WARN NativeCodeLoader: Unable to load native-hadoop library for your platform... using builtin-java classes where applicable\n"
     ]
    }
   ],
   "source": [
    "import findspark\n",
    "findspark.init()\n",
    "\n",
    "from pyspark.sql import SparkSession\n",
    "\n",
    "spark = SparkSession.builder \\\n",
    "    .appName(\"Examples on Structured Streaming (files)\") \\\n",
    "    .master(\"spark://5cdecfe4c6d6:7077\") \\\n",
    "    .config(\"spark.ui.port\", \"4040\") \\\n",
    "    .getOrCreate()\n",
    "\n",
    "sc = spark.sparkContext\n",
    "sc.setLogLevel(\"ERROR\")\n",
    "# Optimization (reduce the number of shuffle partitions)\n",
    "spark.conf.set(\"spark.sql.shuffle.partitions\", \"5\")"
   ]
  },
  {
   "cell_type": "code",
   "execution_count": 21,
   "metadata": {},
   "outputs": [],
   "source": [
    "from pyspark.sql.functions import count\n",
    "from pyspark.sql.functions import lit, regexp_extract, col, window, when\n",
    "\n",
    "\n",
    "#i read from here\n",
    "df = spark.readStream.format(\"text\").load(\"/opt/spark/work-dir/data/server_logs\")\n",
    "\n",
    "#i create a new coulmn with just taking wahts in between the [] and get time stamp info\n",
    "#.strftime(\"%Y-%m-%d %H:%M:%S\")\n",
    "df_parsed = df.withColumn(\"level\", regexp_extract(col(\"value\"), r\"\\[(INFO|ERROR|DEBUG|WARNING)\\]\", 1)) \\\n",
    "    .withColumn(\"timestamp_str\", regexp_extract(col(\"value\"), r\"\\[(\\d{4}-\\d{2}-\\d{2} \\d{2}:\\d{2}:\\d{2})\\]\", 1)) \\\n",
    "    .withColumn(\"timestamp\", col(\"timestamp_str\").cast(\"timestamp\"))\n",
    "\n",
    "\n",
    "#i wnat to show delta difference between each time an error happens, and if they are happening really often i should give an alert of some kind\n",
    "errors = df_parsed.filter(col(\"level\") == \"ERROR\")\n",
    "\n",
    "windowed_counts = errors.groupBy(\n",
    "    window(col(\"timestamp\"), \"10 seconds\", \"5 seconds\")\n",
    ").agg(count(\"*\").alias(\"error_count\"))\n",
    "\n",
    "\n",
    "too_many_errors = 3\n",
    "alerts = windowed_counts.withColumn(\n",
    "    \"ALERT\",\n",
    "    when(col(\"error_count\") > too_many_errors, lit(\"Something is probably wrong bro\")).otherwise(lit(\"\"))\n",
    ")\n",
    "\n",
    "#here i print what i wanna show\n",
    "query = alerts.writeStream \\\n",
    "    .outputMode(\"update\") \\\n",
    "    .format(\"console\") \\\n",
    "    .start().awaitTermination(300)\n",
    "\n",
    "\n"
   ]
  }
 ],
 "metadata": {
  "kernelspec": {
   "display_name": "Python 3 (ipykernel)",
   "language": "python",
   "name": "python3"
  },
  "language_info": {
   "codemirror_mode": {
    "name": "ipython",
    "version": 3
   },
   "file_extension": ".py",
   "mimetype": "text/x-python",
   "name": "python",
   "nbconvert_exporter": "python",
   "pygments_lexer": "ipython3",
   "version": "3.10.12"
  }
 },
 "nbformat": 4,
 "nbformat_minor": 2
}
