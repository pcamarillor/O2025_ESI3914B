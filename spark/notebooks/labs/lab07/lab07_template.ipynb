{
 "cells": [
  {
   "cell_type": "markdown",
   "metadata": {},
   "source": [
    "# <center> <img src=\"../../img/ITESOLogo.png\" alt=\"ITESO\" width=\"480\" height=\"130\"> </center>\n",
    "# <center> **Departamento de Electrónica, Sistemas e Informática** </center>\n",
    "---\n",
    "## <center> Computer Systems Engineering  </center>\n",
    "---\n",
    "### <center> Big Data Processing </center>\n",
    "---\n",
    "#### <center> **Autumn 2025** </center>\n",
    "---\n",
    "\n",
    "**Lab 07**: Structured Streaming with Files \n",
    "\n",
    "**Date**: October 10th 2025\n",
    "\n",
    "**Student Name**: \n",
    "\n",
    "**Professor**: Pablo Camarillo Ramirez"
   ]
  },
  {
   "cell_type": "code",
   "execution_count": 1,
   "metadata": {},
   "outputs": [
    {
     "name": "stderr",
     "output_type": "stream",
     "text": [
      "WARNING: Using incubator modules: jdk.incubator.vector\n",
      "Using Spark's default log4j profile: org/apache/spark/log4j2-defaults.properties\n",
      "Setting default log level to \"WARN\".\n",
      "To adjust logging level use sc.setLogLevel(newLevel). For SparkR, use setLogLevel(newLevel).\n",
      "25/10/11 03:41:16 WARN NativeCodeLoader: Unable to load native-hadoop library for your platform... using builtin-java classes where applicable\n"
     ]
    }
   ],
   "source": [
    "import findspark\n",
    "findspark.init()\n",
    "\n",
    "from pyspark.sql import SparkSession\n",
    "\n",
    "spark = SparkSession.builder \\\n",
    "    .appName(\"Laboratorio7 Pablo Quintero\") \\\n",
    "    .master(\"spark://spark-master:7077\") \\\n",
    "    .config(\"spark.ui.port\", \"4040\") \\\n",
    "    .getOrCreate()\n",
    "\n",
    "sc = spark.sparkContext\n",
    "sc.setLogLevel(\"ERROR\")\n",
    "spark.conf.set(\"spark.sql.shuffle.partitions\", \"5\")"
   ]
  },
  {
   "cell_type": "code",
   "execution_count": null,
   "metadata": {},
   "outputs": [],
   "source": [
    "from pyspark.sql.functions import split, col, window, expr\n",
    "from pyspark.sql.types import StructType, StringType, IntegerType, TimestampType\n",
    "from pyspark.sql.functions import regexp_replace, to_timestamp\n",
    "\n",
    "schema = StructType() \\\n",
    "    .add(\"ip\", StringType()) \\\n",
    "    .add(\"dash1\", StringType()) \\\n",
    "    .add(\"dash2\", StringType()) \\\n",
    "    .add(\"timestamp_str\", StringType()) \\\n",
    "    .add(\"request\", StringType()) \\\n",
    "    .add(\"status\", IntegerType()) \\\n",
    "    .add(\"size\", IntegerType())\n",
    "\n",
    "\n",
    "lines = spark.readStream.format(\"socket\") \\\n",
    "    .option(\"host\", \"localhost\") \\\n",
    "    .option(\"port\", 9999) \\\n",
    "    .load()\n",
    "logs = lines.selectExpr(\"value as raw\") \\\n",
    "    .select(\n",
    "        split(col(\"raw\"), \" \")[0].alias(\"ip\"),\n",
    "        split(col(\"raw\"), \" \")[1].alias(\"dash1\"),\n",
    "        split(col(\"raw\"), \" \")[2].alias(\"dash2\"),\n",
    "        split(col(\"raw\"), \" \")[3].alias(\"timestamp_str\"),\n",
    "        split(col(\"raw\"), \"\\\"\")[1].alias(\"request\"),\n",
    "        split(col(\"raw\"), \" \")[-2].cast(\"integer\").alias(\"status\"),\n",
    "        split(col(\"raw\"), \" \")[-1].cast(\"integer\").alias(\"size\")\n",
    "    )\n",
    "\n",
    "logs = logs.withColumn(\"timestamp_str\", regexp_replace(\"timestamp_str\", r\"[\\[\\]]\", \"\"))\n",
    "logs = logs.withColumn(\"timestamp\", to_timestamp(\"timestamp_str\", \"yyyy-MM-dd HH:mm:ss\"))\n",
    "\n",
    "\n",
    "error500 = logs.filter(col(\"status\") == 500)\n",
    "\n",
    "errors_window = error500.groupBy(\n",
    "    window(col(\"timestamp\"), \"1 minute\"),\n",
    "    col(\"ip\")\n",
    ").count()\n",
    "\n",
    "\n",
    "critical_alerts = errors_window.filter(col(\"count\") >= 3)\n",
    "\n",
    "\n",
    "query = critical_alerts.writeStream \\\n",
    "    .outputMode(\"complete\") \\\n",
    "    .format(\"console\") \\\n",
    "    .option(\"truncate\", False) \\\n",
    "    .start()\n",
    "\n",
    "\n",
    "query.awaitTermination(30) "
   ]
  },
  {
   "cell_type": "code",
   "execution_count": null,
   "metadata": {},
   "outputs": [],
   "source": [
    "!python3 log_producer.py\n",
    "\n"
   ]
  },
  {
   "cell_type": "code",
   "execution_count": null,
   "metadata": {},
   "outputs": [],
   "source": []
  }
 ],
 "metadata": {
  "kernelspec": {
   "display_name": "Python 3 (ipykernel)",
   "language": "python",
   "name": "python3"
  },
  "language_info": {
   "codemirror_mode": {
    "name": "ipython",
    "version": 3
   },
   "file_extension": ".py",
   "mimetype": "text/x-python",
   "name": "python",
   "nbconvert_exporter": "python",
   "pygments_lexer": "ipython3",
   "version": "3.10.12"
  }
 },
 "nbformat": 4,
 "nbformat_minor": 4
}
