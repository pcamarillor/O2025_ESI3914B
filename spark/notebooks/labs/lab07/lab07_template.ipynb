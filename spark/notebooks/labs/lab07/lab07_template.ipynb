{
 "cells": [
  {
   "cell_type": "markdown",
   "metadata": {},
   "source": [
    "# <center> <img src=\"../../img/ITESOLogo.png\" alt=\"ITESO\" width=\"480\" height=\"130\"> </center>\n",
    "# <center> **Departamento de Electrónica, Sistemas e Informática** </center>\n",
    "---\n",
    "## <center> Computer Systems Engineering  </center>\n",
    "---\n",
    "### <center> Big Data Processing </center>\n",
    "---\n",
    "#### <center> **Autumn 2025** </center>\n",
    "---\n",
    "\n",
    "**Lab 07**: Structured Streaming with Files \n",
    "\n",
    "**Date**: October 10th 2025\n",
    "\n",
    "**Student Name**: \n",
    "\n",
    "**Professor**: Pablo Camarillo Ramirez"
   ]
  },
  {
   "cell_type": "code",
   "execution_count": 1,
   "metadata": {},
   "outputs": [
    {
     "name": "stderr",
     "output_type": "stream",
     "text": [
      "WARNING: Using incubator modules: jdk.incubator.vector\n",
      "Using Spark's default log4j profile: org/apache/spark/log4j2-defaults.properties\n",
      "Setting default log level to \"WARN\".\n",
      "To adjust logging level use sc.setLogLevel(newLevel). For SparkR, use setLogLevel(newLevel).\n",
      "25/10/10 05:01:07 WARN NativeCodeLoader: Unable to load native-hadoop library for your platform... using builtin-java classes where applicable\n"
     ]
    }
   ],
   "source": [
    "import findspark\n",
    "findspark.init()\n",
    "\n",
    "from pyspark.sql import SparkSession\n",
    "\n",
    "spark = SparkSession.builder \\\n",
    "    .appName(\"Examples on Structured Streaming (files)\") \\\n",
    "    .master(\"spark://spark-master:7077\") \\\n",
    "    .config(\"spark.ui.port\", \"4040\") \\\n",
    "    .getOrCreate()\n",
    "\n",
    "sc = spark.sparkContext\n",
    "sc.setLogLevel(\"ERROR\")\n",
    "# Optimization (reduce the number of shuffle partitions)\n",
    "spark.conf.set(\"spark.sql.shuffle.partitions\", \"5\")"
   ]
  },
  {
   "cell_type": "code",
   "execution_count": 7,
   "metadata": {},
   "outputs": [
    {
     "name": "stdout",
     "output_type": "stream",
     "text": [
      "/opt/spark/work-dir/labs/lab07\n"
     ]
    }
   ],
   "source": [
    "!pwd"
   ]
  },
  {
   "cell_type": "code",
   "execution_count": null,
   "metadata": {},
   "outputs": [
    {
     "name": "stderr",
     "output_type": "stream",
     "text": [
      "                                                                                "
     ]
    },
    {
     "name": "stdout",
     "output_type": "stream",
     "text": [
      "-------------------------------------------\n",
      "Batch: 0\n",
      "-------------------------------------------\n",
      "+--------------------+-------------------+--------------+-----------+\n",
      "|               value|          timestamp|      endpoint|status_code|\n",
      "+--------------------+-------------------+--------------+-----------+\n",
      "|2025-10-09 22:59:...|2025-10-09 22:59:52|/api/v1/upload|        404|\n",
      "|2025-10-09 22:59:...|2025-10-09 22:59:52|       /logout|        404|\n",
      "|2025-10-09 22:59:...|2025-10-09 22:59:52|    /dashboard|        503|\n",
      "|2025-10-09 22:59:...|2025-10-09 22:59:52|  /api/v1/data|        200|\n",
      "|2025-10-09 22:59:...|2025-10-09 22:59:52|       /logout|        503|\n",
      "|2025-10-09 22:59:...|2025-10-09 22:59:52|/api/v1/upload|        503|\n",
      "|2025-10-09 22:59:...|2025-10-09 22:59:52|       /logout|        503|\n",
      "|2025-10-09 22:59:...|2025-10-09 22:59:52|/api/v1/upload|        200|\n",
      "|2025-10-09 22:59:...|2025-10-09 22:59:52|  /api/v1/data|        500|\n",
      "|2025-10-09 22:59:...|2025-10-09 22:59:52|  /api/v1/data|        500|\n",
      "|2025-10-09 22:59:...|2025-10-09 22:59:52|    /dashboard|        503|\n",
      "|2025-10-09 22:59:...|2025-10-09 22:59:52|        /login|        500|\n",
      "|2025-10-09 22:59:...|2025-10-09 22:59:52|  /api/v1/data|        503|\n",
      "|2025-10-09 22:59:...|2025-10-09 22:59:52|/api/v1/upload|        200|\n",
      "|2025-10-09 22:59:...|2025-10-09 22:59:52|/api/v1/upload|        503|\n",
      "|2025-10-09 22:59:...|2025-10-09 22:59:52|        /login|        500|\n",
      "|2025-10-09 22:59:...|2025-10-09 22:59:52|       /logout|        200|\n",
      "|2025-10-09 22:59:...|2025-10-09 22:59:52|  /api/v1/data|        200|\n",
      "|2025-10-09 22:59:...|2025-10-09 22:59:52|       /logout|        503|\n",
      "|2025-10-09 22:59:...|2025-10-09 22:59:52|        /login|        404|\n",
      "+--------------------+-------------------+--------------+-----------+\n",
      "only showing top 20 rows\n"
     ]
    }
   ],
   "source": [
    "from pcamarillor.spark_utils import SparkUtils\n",
    "import re\n",
    "from pyspark.sql import SparkSession\n",
    "from pyspark.sql.functions import regexp_extract, col\n",
    "from pyspark.sql.types import StructType, StructField, StringType\n",
    "\n",
    "logs_schema = StructType([\n",
    "    StructField(\"value\", StringType(), True)\n",
    "])\n",
    "logs_df = spark.readStream \\\n",
    "    .format(\"text\") \\\n",
    "    .schema(logs_schema) \\\n",
    "    .load(\"/opt/spark/work-dir/data/custom-logs/\")\n",
    "logs_parsed_df = logs_df \\\n",
    "    .withColumn(\"timestamp\", regexp_extract(col(\"value\"), r\"^(\\S+ \\S+)\", 1)) \\\n",
    "    .withColumn(\"endpoint\", regexp_extract(col(\"value\"), r\"- (/\\S+)\", 1)) \\\n",
    "    .withColumn(\"status_code\", regexp_extract(col(\"value\"), r\"- (\\d{3})$\", 1))\n",
    "\n",
    "query = logs_parsed_df.writeStream \\\n",
    "            .outputMode(\"append\") \\\n",
    "            .format(\"console\") \\\n",
    "            .start()\n",
    "\n",
    "query.awaitTermination(30) # Wait 30 seconds before closing the stream"
   ]
  },
  {
   "cell_type": "code",
   "execution_count": null,
   "metadata": {},
   "outputs": [],
   "source": [
    "sc.stop()"
   ]
  }
 ],
 "metadata": {
  "kernelspec": {
   "display_name": "Python 3 (ipykernel)",
   "language": "python",
   "name": "python3"
  },
  "language_info": {
   "codemirror_mode": {
    "name": "ipython",
    "version": 3
   },
   "file_extension": ".py",
   "mimetype": "text/x-python",
   "name": "python",
   "nbconvert_exporter": "python",
   "pygments_lexer": "ipython3",
   "version": "3.10.12"
  }
 },
 "nbformat": 4,
 "nbformat_minor": 4
}
