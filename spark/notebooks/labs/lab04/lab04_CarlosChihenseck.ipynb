{
 "cells": [
  {
   "cell_type": "markdown",
   "id": "b92d9622",
   "metadata": {},
   "source": [
    "# <center> <img src=\"../../img/ITESOLogo.png\" alt=\"ITESO\" width=\"480\" height=\"130\"> </center>\n",
    "# <center> **Departamento de Electrónica, Sistemas e Informática** </center>\n",
    "---\n",
    "## <center> Computer Systems Engineering  </center>\n",
    "---\n",
    "### <center> Big Data Processing </center>\n",
    "---\n",
    "#### <center> **Autumn 2025** </center>\n",
    "---\n",
    "\n",
    "**Lab 04**: Data Unions & Joins Pipeline\n",
    "\n",
    "**Date**: September 23rd 2025\n",
    "\n",
    "**Student Name**:\n",
    "\n",
    "**Professor**: Pablo Camarillo Ramirez"
   ]
  },
  {
   "cell_type": "code",
   "execution_count": 1,
   "id": "ed17a0b0",
   "metadata": {},
   "outputs": [
    {
     "name": "stderr",
     "output_type": "stream",
     "text": [
      "WARNING: Using incubator modules: jdk.incubator.vector\n",
      "Using Spark's default log4j profile: org/apache/spark/log4j2-defaults.properties\n",
      "Setting default log level to \"WARN\".\n",
      "To adjust logging level use sc.setLogLevel(newLevel). For SparkR, use setLogLevel(newLevel).\n",
      "25/09/26 14:28:51 WARN NativeCodeLoader: Unable to load native-hadoop library for your platform... using builtin-java classes where applicable\n"
     ]
    }
   ],
   "source": [
    "import findspark\n",
    "findspark.init()\n",
    "\n",
    "from pyspark.sql import SparkSession\n",
    "\n",
    "spark = SparkSession.builder \\\n",
    "    .appName(\"Examples on SparkSQL\") \\\n",
    "    .master(\"spark://4c7cfe53bbf6:7077\") \\\n",
    "    .config(\"spark.ui.port\", \"4040\") \\\n",
    "    .getOrCreate()\n",
    "\n",
    "sc = spark.sparkContext\n",
    "sc.setLogLevel(\"ERROR\")"
   ]
  },
  {
   "cell_type": "code",
   "execution_count": 2,
   "id": "a93cd621",
   "metadata": {},
   "outputs": [],
   "source": [
    "from pcamarillor.spark_utils import SparkUtils\n",
    "from pyspark.sql.functions import get_json_object\n",
    "\n",
    "agencies_schema = SparkUtils.generate_schema([(\"agency_id\", \"string\"), (\"agency_info\", \"string\")])\n",
    "cars_schema = SparkUtils.generate_schema([(\"car_id\", \"int\"), (\"car_info\", \"string\")])\n",
    "customers_schema = SparkUtils.generate_schema([(\"customer_id\", \"int\"), (\"customer_info\", \"string\")])\n",
    "rental_cars_schema = SparkUtils.generate_schema([(\"rental_id\", \"int\"), (\"rental_info\", \"string\")])\n",
    "\n",
    "base_path = \"/opt/spark/work-dir/data/\"\n",
    "\n",
    "agencies_df = spark.read \\\n",
    "                .schema(agencies_schema) \\\n",
    "                .option(\"header\", \"true\") \\\n",
    "                .csv(base_path + \"car_service/agencies\")\n",
    "agencies_df = agencies_df.withColumn(\"agency_name\", get_json_object(agencies_df.agency_info, \"$.agency_name\"))\n",
    "\n",
    "\n",
    "cars_df = spark.read.option(\"header\", \"true\").schema(cars_schema).csv(base_path + \"car_service/cars\")\n",
    "\n",
    "brands_df = spark.read.option(\"header\", \"true\").schema(cars_schema).csv(base_path + \"car_service/brands\")\n",
    "\n",
    "customers_df = spark.read.option(\"header\", \"true\").schema(customers_schema).csv(base_path + \"car_service/customers\")\n",
    "\n",
    "rental_cars_df = spark.read.option(\"header\", \"true\").schema(rental_cars_schema).csv(base_path + \"car_service/rentals\")\n"
   ]
  },
  {
   "cell_type": "code",
   "execution_count": 3,
   "id": "bfce4802-eb83-4a04-ba7f-fe84ed661ca3",
   "metadata": {},
   "outputs": [],
   "source": [
    "agencies_df = agencies_df.withColumn(\"agency_name\", get_json_object(agencies_df.agency_info, \"$.agency_name\")).drop(\"agency_info\")\n",
    "cars_df = cars_df.withColumn(\"car_name\", get_json_object(cars_df.car_info, \"$.car_name\")).drop(\"car_info\")\n",
    "customers_df = customers_df.withColumn(\"customer_name\", get_json_object(customers_df.customer_info, \"$.customer_name\")).drop(\"customer_info\")\n",
    "\n",
    "rental_cars_df = rental_cars_df.withColumn(\"car_id\", get_json_object(rental_cars_df.rental_info, '$.car_id')) \\\n",
    "                            .withColumn(\"customer_id\", get_json_object(rental_cars_df.rental_info, '$.customer_id')) \\\n",
    "                            .withColumn(\"agency_id\", get_json_object(rental_cars_df.rental_info, '$.agency_id')) \\\n",
    "                            .drop(\"rental_info\")\n"
   ]
  },
  {
   "cell_type": "code",
   "execution_count": 4,
   "id": "dc46792a-4924-4337-9939-2ef56c8a7195",
   "metadata": {},
   "outputs": [
    {
     "name": "stderr",
     "output_type": "stream",
     "text": [
      "                                                                                "
     ]
    },
    {
     "name": "stdout",
     "output_type": "stream",
     "text": [
      "+---------+--------------------+---------------+-------------+\n",
      "|rental_id|            car_name|  customer_name|  agency_name|\n",
      "+---------+--------------------+---------------+-------------+\n",
      "|    11891|Wallace-Carlson M...| Margaret Jones|  NYC Rentals|\n",
      "|    11892|Grimes-Green Model 8|Albert Williams|LA Car Rental|\n",
      "|    11893|Stewart-Allen Mod...|  Caleb Fleming|      SF Cars|\n",
      "|    11894|  Campos PLC Model 4|  Andrew Butler|  NYC Rentals|\n",
      "|    11895|  Wagner LLC Model 1|  Kristin Potts|      SF Cars|\n",
      "+---------+--------------------+---------------+-------------+\n",
      "only showing top 5 rows\n"
     ]
    }
   ],
   "source": [
    "rental_cars_df = rental_cars_df.join(cars_df, on=\"car_id\", how=\"left\") \\\n",
    "                                .join(customers_df, on=\"customer_id\", how=\"left\") \\\n",
    "                                .join(agencies_df, on=\"agency_id\", how=\"left\") \\\n",
    "                                .drop(\"agency_id\", \"customer_id\", \"car_id\")\n",
    "\n",
    "rental_cars_df.show(5)"
   ]
  },
  {
   "cell_type": "code",
   "execution_count": 5,
   "id": "2ee1dc03-5a72-481f-a65b-e8d9ba4716e6",
   "metadata": {},
   "outputs": [
    {
     "name": "stderr",
     "output_type": "stream",
     "text": [
      "                                                                                "
     ]
    }
   ],
   "source": [
    "rental_cars_df.write \\\n",
    "            .partitionBy(\"agency_name\") \\\n",
    "            .mode(\"overwrite\") \\\n",
    "            .parquet(base_path + \"car_service/output/parquet\")"
   ]
  },
  {
   "cell_type": "code",
   "execution_count": 6,
   "id": "e70a2d8d-aaf2-470d-8a19-783b5ae9b9c4",
   "metadata": {},
   "outputs": [
    {
     "name": "stderr",
     "output_type": "stream",
     "text": [
      "                                                                                "
     ]
    }
   ],
   "source": [
    "rental_cars_df.write \\\n",
    "            .partitionBy(\"agency_name\") \\\n",
    "            .mode(\"overwrite\") \\\n",
    "            .option(\"header\", True) \\\n",
    "            .csv(base_path + \"car_service/output/csv\")\n"
   ]
  },
  {
   "cell_type": "code",
   "execution_count": 9,
   "id": "e17769e6-640b-4c86-a49a-66d84e2ca05f",
   "metadata": {
    "scrolled": true
   },
   "outputs": [
    {
     "name": "stdout",
     "output_type": "stream",
     "text": [
      "144K\t../../data/car_service/output/parquet\n"
     ]
    }
   ],
   "source": [
    "!du -sh ../../data/car_service/output/parquet"
   ]
  },
  {
   "cell_type": "code",
   "execution_count": 38,
   "id": "9078a7dd",
   "metadata": {},
   "outputs": [],
   "source": [
    "sc.stop()"
   ]
  },
  {
   "cell_type": "code",
   "execution_count": null,
   "id": "166bae89-bd51-477a-99b6-610ec0dbd66a",
   "metadata": {},
   "outputs": [],
   "source": []
  },
  {
   "cell_type": "code",
   "execution_count": null,
   "id": "0f94172d-00a2-4821-840e-4321aa3077ff",
   "metadata": {},
   "outputs": [],
   "source": []
  }
 ],
 "metadata": {
  "kernelspec": {
   "display_name": "Python 3 (ipykernel)",
   "language": "python",
   "name": "python3"
  },
  "language_info": {
   "codemirror_mode": {
    "name": "ipython",
    "version": 3
   },
   "file_extension": ".py",
   "mimetype": "text/x-python",
   "name": "python",
   "nbconvert_exporter": "python",
   "pygments_lexer": "ipython3",
   "version": "3.10.12"
  }
 },
 "nbformat": 4,
 "nbformat_minor": 5
}
