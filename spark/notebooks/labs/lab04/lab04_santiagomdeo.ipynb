{
 "cells": [
  {
   "cell_type": "markdown",
   "id": "b92d9622",
   "metadata": {},
   "source": [
    "# <center> <img src=\"../../img/ITESOLogo.png\" alt=\"ITESO\" width=\"480\" height=\"130\"> </center>\n",
    "# <center> **Departamento de Electrónica, Sistemas e Informática** </center>\n",
    "---\n",
    "## <center> Computer Systems Engineering  </center>\n",
    "---\n",
    "### <center> Big Data Processing </center>\n",
    "---\n",
    "#### <center> **Autumn 2025** </center>\n",
    "---\n",
    "\n",
    "**Lab 04**: Data Unions & Joins Pipeline\n",
    "\n",
    "**Date**: September 23rd 2025\n",
    "\n",
    "**Student Name**:\n",
    "\n",
    "**Professor**: Pablo Camarillo Ramirez"
   ]
  },
  {
   "cell_type": "code",
   "execution_count": 9,
   "id": "ed17a0b0",
   "metadata": {},
   "outputs": [],
   "source": [
    "import findspark\n",
    "findspark.init()\n",
    "\n",
    "from pyspark.sql import SparkSession\n",
    "\n",
    "spark = SparkSession.builder \\\n",
    "    .appName(\"Examples on data sources (Files)\") \\\n",
    "    .master(\"spark://f94b3bff623f:7077\") \\\n",
    "    .config(\"spark.ui.port\", \"4040\") \\\n",
    "    .getOrCreate()\n",
    "\n",
    "sc = spark.sparkContext\n",
    "sc.setLogLevel(\"ERROR\")"
   ]
  },
  {
   "cell_type": "code",
   "execution_count": 10,
   "id": "a93cd621",
   "metadata": {},
   "outputs": [
    {
     "name": "stdout",
     "output_type": "stream",
     "text": [
      "int\n",
      "string\n"
     ]
    }
   ],
   "source": [
    "from pyspark.sql.functions import get_json_object\n",
    "from pyspark.sql.functions import from_json\n",
    "from santiagomdeo.spark_utils import SparkUtils\n",
    "\n",
    "\n",
    "agencies_schema = SparkUtils.generate_schema([(\"agency_id\", \"int\"), (\"agency_info\", \"string\")])\n",
    "agencies_df = spark.read.option(\"header\", True).schema(agencies_schema).csv(\"/opt/spark/work-dir/data/car_service/agencies\")\n",
    "agencies_df2 = agencies_df.withColumn(\"agency_name\", get_json_object(agencies_df.agency_info, '$.agency_name'))\n",
    "agencies_df3 = agencies_df2.withColumn(\"city\", get_json_object(agencies_df2.agency_info, '$.city'))\n",
    "agencies_df4 = agencies_df3.drop(\"agency_info\")\n"
   ]
  },
  {
   "cell_type": "code",
   "execution_count": 11,
   "id": "64c498a7",
   "metadata": {},
   "outputs": [
    {
     "name": "stdout",
     "output_type": "stream",
     "text": [
      "int\n",
      "string\n"
     ]
    }
   ],
   "source": [
    "brands_schema = SparkUtils.generate_schema([(\"brand_id\", \"int\"), (\"brand_info\", \"string\")])\n",
    "brands_df = spark.read.option(\"header\", True).schema(brands_schema).csv(\"/opt/spark/work-dir/data/car_service/brands\")\n",
    "brands_df2 = brands_df.withColumn(\"brand_name\", get_json_object(brands_df.brand_info, '$.brand_name'))\n",
    "brands_df3 = brands_df2.withColumn(\"country\", get_json_object(brands_df2.brand_info, '$.country'))\n",
    "brands_df4 = brands_df3.drop(\"brand_info\")"
   ]
  },
  {
   "cell_type": "code",
   "execution_count": 12,
   "id": "8752d4be",
   "metadata": {},
   "outputs": [
    {
     "name": "stdout",
     "output_type": "stream",
     "text": [
      "int\n",
      "string\n"
     ]
    }
   ],
   "source": [
    "cars_schema = SparkUtils.generate_schema([(\"car_id\", \"int\"), (\"car_info\", \"string\")])\n",
    "cars_df = spark.read.option(\"header\", True).schema(cars_schema).csv(\"/opt/spark/work-dir/data/car_service/cars\")\n",
    "cars_df2 = cars_df.withColumn(\"car_name\", get_json_object(cars_df.car_info, '$.car_name'))\n",
    "cars_df3 = cars_df2.withColumn(\"brand_id\", get_json_object(cars_df2.car_info, '$.brand_id'))\n",
    "cars_df4 = cars_df3.withColumn(\"price_per_day\", get_json_object(cars_df2.car_info, '$.price_per_day'))\n",
    "cars_df5 = cars_df4.drop(\"car_info\")"
   ]
  },
  {
   "cell_type": "code",
   "execution_count": 13,
   "id": "60f95547",
   "metadata": {},
   "outputs": [
    {
     "name": "stdout",
     "output_type": "stream",
     "text": [
      "int\n",
      "string\n"
     ]
    }
   ],
   "source": [
    "customers_schema = SparkUtils.generate_schema([(\"customer_id\", \"int\"), (\"customer_info\", \"string\")])\n",
    "customers_df = spark.read.option(\"header\", True).schema(customers_schema).csv(\"/opt/spark/work-dir/data/car_service/customers\")\n",
    "customers_df2 = customers_df.withColumn(\"customer_name\", get_json_object(customers_df.customer_info, '$.customer_name'))\n",
    "customers_df3 = customers_df2.withColumn(\"city\", get_json_object(customers_df2.customer_info, '$.city'))\n",
    "customers_df4 = customers_df3.withColumn(\"age\", get_json_object(customers_df2.customer_info, '$.age'))\n",
    "customers_df5 = customers_df4.drop(\"customer_info\")"
   ]
  },
  {
   "cell_type": "code",
   "execution_count": 14,
   "id": "dd7fe095",
   "metadata": {},
   "outputs": [
    {
     "name": "stdout",
     "output_type": "stream",
     "text": [
      "int\n",
      "string\n"
     ]
    }
   ],
   "source": [
    "\n",
    "rentals_schema = SparkUtils.generate_schema([(\"rental_id\", \"int\"), (\"rental_info\", \"string\")])\n",
    "rentals_df = spark.read.option(\"header\", True).schema(rentals_schema).csv(\"/opt/spark/work-dir/data/car_service/rentals\")\n",
    "rentals_df2 = rentals_df.withColumn(\"car_id\", get_json_object(rentals_df.rental_info, '$.car_id'))\n",
    "rentals_df3 = rentals_df2.withColumn(\"customer_id\", get_json_object(rentals_df2.rental_info, '$.customer_id'))\n",
    "rentals_df4 = rentals_df3.withColumn(\"agency_id\", get_json_object(rentals_df2.rental_info, '$.agency_id'))\n",
    "rentals_df5 = rentals_df4.drop(\"rental_info\")"
   ]
  },
  {
   "cell_type": "markdown",
   "id": "987ea80a",
   "metadata": {},
   "source": [
    "### You need to generate one single dataframe using join operations and extracting columns from the json columns (using get_json_object) and using only one action (show()).\n"
   ]
  },
  {
   "cell_type": "code",
   "execution_count": 15,
   "id": "0aa24b95",
   "metadata": {},
   "outputs": [
    {
     "name": "stderr",
     "output_type": "stream",
     "text": [
      "                                                                                \r"
     ]
    },
    {
     "name": "stdout",
     "output_type": "stream",
     "text": [
      "+---------+--------------------+---------------+-------------+\n",
      "|rental_id|            car_name|  customer_name|  agency_name|\n",
      "+---------+--------------------+---------------+-------------+\n",
      "|    11891|Wallace-Carlson M...| Margaret Jones|  NYC Rentals|\n",
      "|    11892|Grimes-Green Model 8|Albert Williams|LA Car Rental|\n",
      "|    11893|Stewart-Allen Mod...|  Caleb Fleming|      SF Cars|\n",
      "|    11894|  Campos PLC Model 4|  Andrew Butler|  NYC Rentals|\n",
      "|    11895|  Wagner LLC Model 1|  Kristin Potts|      SF Cars|\n",
      "|    11896|Jones, Jefferson ...|   Jeremy Parks|LA Car Rental|\n",
      "|    11897|Lopez and Sons Mo...|    Terry Wells| Zapopan Auto|\n",
      "|    11898| Salazar Ltd Model 8|  Marc Williams|      SF Cars|\n",
      "|    11899|Villanueva PLC Mo...| Danny Williams|LA Car Rental|\n",
      "|    11900|Faulkner-Howard M...| Eric Owens PhD|      SF Cars|\n",
      "|    11901|Faulkner-Howard M...|    Laura Perry|  NYC Rentals|\n",
      "|    11902|Faulkner-Howard M...|     Paul Brown|  NYC Rentals|\n",
      "|    11903|Atkinson Ltd Mode...|Alexa Hernandez| Zapopan Auto|\n",
      "|    11904|Faulkner-Howard M...|   Jeremy Parks|      SF Cars|\n",
      "|    11905|Villanueva PLC Mo...|    Alyssa Reid|LA Car Rental|\n",
      "|    11906|Moon, Davis and L...| Eric Owens PhD|  NYC Rentals|\n",
      "|    11907|Alvarez-Davis Mod...|  Kristin Potts| Zapopan Auto|\n",
      "|    11908|Clayton-Cook Mode...|      Amy Ortiz|      SF Cars|\n",
      "|    11909| Salazar Ltd Model 8|  Laura Gregory|      SF Cars|\n",
      "|    11910| Salazar Ltd Model 8|      Jay Walsh|      SF Cars|\n",
      "+---------+--------------------+---------------+-------------+\n",
      "only showing top 20 rows\n"
     ]
    }
   ],
   "source": [
    "customer_reference = customers_df2.drop(\"customer_info\")\n",
    "car_reference = cars_df2.drop(\"car_info\")\n",
    "agency_reference = agencies_df2.drop(\"agency_info\")\n",
    "\n",
    "result = rentals_df5.join(car_reference, rentals_df5[\"car_id\"] == car_reference[\"car_id\"], \"left\").drop(\"car_id\") \\\n",
    "        .join(customer_reference, rentals_df5[\"customer_id\"] == customer_reference[\"customer_id\"], \"left\").drop(\"customer_id\") \\\n",
    "        .join(agency_reference, rentals_df5[\"agency_id\"] == agency_reference[\"agency_id\"], \"left\").drop(\"agency_id\")\n",
    "result.show()"
   ]
  },
  {
   "cell_type": "code",
   "execution_count": 16,
   "id": "9078a7dd",
   "metadata": {},
   "outputs": [],
   "source": [
    "sc.stop()"
   ]
  }
 ],
 "metadata": {
  "kernelspec": {
   "display_name": "Python 3 (ipykernel)",
   "language": "python",
   "name": "python3"
  },
  "language_info": {
   "codemirror_mode": {
    "name": "ipython",
    "version": 3
   },
   "file_extension": ".py",
   "mimetype": "text/x-python",
   "name": "python",
   "nbconvert_exporter": "python",
   "pygments_lexer": "ipython3",
   "version": "3.10.12"
  }
 },
 "nbformat": 4,
 "nbformat_minor": 5
}
