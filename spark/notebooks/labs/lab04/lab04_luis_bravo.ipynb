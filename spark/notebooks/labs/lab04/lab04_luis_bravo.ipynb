{
 "cells": [
  {
   "cell_type": "markdown",
   "id": "b92d9622",
   "metadata": {},
   "source": [
    "# <center> <img src=\"../../img/ITESOLogo.png\" alt=\"ITESO\" width=\"480\" height=\"130\"> </center>\n",
    "# <center> **Departamento de Electrónica, Sistemas e Informática** </center>\n",
    "---\n",
    "## <center> Computer Systems Engineering  </center>\n",
    "---\n",
    "### <center> Big Data Processing </center>\n",
    "---\n",
    "#### <center> **Autumn 2025** </center>\n",
    "---\n",
    "\n",
    "**Lab 04**: Data Unions & Joins Pipeline\n",
    "\n",
    "**Date**: September 23rd 2025\n",
    "\n",
    "**Student Name**: Luis Adrian Bravo Ramirez\n",
    "\n",
    "**Professor**: Pablo Camarillo Ramirez"
   ]
  },
  {
   "cell_type": "code",
   "execution_count": 1,
   "id": "ed17a0b0",
   "metadata": {},
   "outputs": [
    {
     "name": "stderr",
     "output_type": "stream",
     "text": [
      "WARNING: Using incubator modules: jdk.incubator.vector\n",
      "Using Spark's default log4j profile: org/apache/spark/log4j2-defaults.properties\n",
      "Setting default log level to \"WARN\".\n",
      "To adjust logging level use sc.setLogLevel(newLevel). For SparkR, use setLogLevel(newLevel).\n",
      "25/09/23 22:35:13 WARN NativeCodeLoader: Unable to load native-hadoop library for your platform... using builtin-java classes where applicable\n"
     ]
    }
   ],
   "source": [
    "import findspark\n",
    "findspark.init()\n",
    "\n",
    "from pyspark.sql import SparkSession\n",
    "\n",
    "spark = SparkSession.builder \\\n",
    "    .appName(\"Examples on SparkSQL\") \\\n",
    "    .master(\"spark://4f3c6067fdf1:7077\") \\\n",
    "    .config(\"spark.ui.port\", \"4040\") \\\n",
    "    .getOrCreate()\n",
    "\n",
    "sc = spark.sparkContext\n",
    "sc.setLogLevel(\"ERROR\")"
   ]
  },
  {
   "cell_type": "code",
   "execution_count": 2,
   "id": "1d0cc891",
   "metadata": {},
   "outputs": [
    {
     "name": "stdout",
     "output_type": "stream",
     "text": [
      "/opt/spark/work-dir\n"
     ]
    }
   ],
   "source": [
    "!pwd"
   ]
  },
  {
   "cell_type": "markdown",
   "id": "48841e3a",
   "metadata": {},
   "source": [
    "# Creating Agencies Dataframe"
   ]
  },
  {
   "cell_type": "code",
   "execution_count": 3,
   "id": "a93cd621",
   "metadata": {},
   "outputs": [],
   "source": [
    "from pyspark.sql.functions import get_json_object \n",
    "from luisbravor00.spark_utils import SparkUtils\n",
    "\n",
    "schema_agencies = SparkUtils.generate_schema([(\"agency_id\", \"int\"), (\"agency_info\", \"string\")])\n",
    "df_agencies = spark.read.schema(schema_agencies).option(\"header\", True).csv(\"/opt/spark/work-dir/data/car_service/agencies\")\n",
    "df_agencies = df_agencies.withColumn(\"agency_name\", get_json_object(df_agencies.agency_info, '$.agency_name'))"
   ]
  },
  {
   "cell_type": "markdown",
   "id": "93f6302f",
   "metadata": {},
   "source": [
    "# Creating Brands Dataframe"
   ]
  },
  {
   "cell_type": "code",
   "execution_count": 4,
   "id": "95c0dd45",
   "metadata": {},
   "outputs": [],
   "source": [
    "schema_brands = SparkUtils.generate_schema([(\"brand_id\", \"int\"), (\"brand_info\", \"string\")])\n",
    "df_brands = spark.read.schema(schema_brands).option(\"header\", True).csv(\"/opt/spark/work-dir/data/car_service/brands\")"
   ]
  },
  {
   "cell_type": "markdown",
   "id": "c7c0bef5",
   "metadata": {},
   "source": [
    "# Creating Cars Dataframe"
   ]
  },
  {
   "cell_type": "code",
   "execution_count": 5,
   "id": "3bf2f84f",
   "metadata": {},
   "outputs": [],
   "source": [
    "schema_cars = SparkUtils.generate_schema([(\"car_id\", \"int\"), (\"car_info\", \"string\")])\n",
    "df_cars = spark.read.schema(schema_cars).option(\"header\", True).csv(\"/opt/spark/work-dir/data/car_service/cars\")\n",
    "df_cars = df_cars.withColumn(\"car_name\", get_json_object(df_cars.car_info, '$.car_name'))"
   ]
  },
  {
   "cell_type": "markdown",
   "id": "c26b9a65",
   "metadata": {},
   "source": [
    "# Creating Customers Dataframe"
   ]
  },
  {
   "cell_type": "code",
   "execution_count": 6,
   "id": "60a6c535",
   "metadata": {},
   "outputs": [],
   "source": [
    "schema_customers = SparkUtils.generate_schema([(\"customer_id\", \"int\"), (\"customer_info\", \"string\")])\n",
    "df_customers = spark.read.schema(schema_customers).option(\"header\", True).csv(\"/opt/spark/work-dir/data/car_service/customers\")\n",
    "df_customers = df_customers.withColumn(\"customer_name\", get_json_object(df_customers.customer_info, '$.customer_name'))"
   ]
  },
  {
   "cell_type": "markdown",
   "id": "fb3d528c",
   "metadata": {},
   "source": [
    "# Creating Rentals Dataframe"
   ]
  },
  {
   "cell_type": "code",
   "execution_count": 7,
   "id": "b36a9409",
   "metadata": {},
   "outputs": [],
   "source": [
    "schema_rentals = SparkUtils.generate_schema([(\"rental_id\", \"int\"), (\"rental_info\", \"string\")])\n",
    "df_rentals = spark.read.schema(schema_rentals).option(\"header\", True).csv(\"/opt/spark/work-dir/data/car_service/rentals\")\n",
    "df_rentals = df_rentals \\\n",
    "    .withColumn(\"car_id\", get_json_object(df_rentals.rental_info, '$.car_id')) \\\n",
    "    .withColumn(\"customer_id\", get_json_object(df_rentals.rental_info, '$.customer_id')) \\\n",
    "    .withColumn(\"agency_id\", get_json_object(df_rentals.rental_info, '$.agency_id'))"
   ]
  },
  {
   "cell_type": "markdown",
   "id": "a97a53d0",
   "metadata": {},
   "source": [
    "# Obtaining final Dataframe\n"
   ]
  },
  {
   "cell_type": "code",
   "execution_count": 8,
   "id": "a988ec1a",
   "metadata": {},
   "outputs": [
    {
     "name": "stderr",
     "output_type": "stream",
     "text": [
      "                                                                                \r"
     ]
    },
    {
     "name": "stdout",
     "output_type": "stream",
     "text": [
      "+---------+-----------------------------------+-------------+---------------+\n",
      "|rental_id|car_name                           |agency_name  |customer_name  |\n",
      "+---------+-----------------------------------+-------------+---------------+\n",
      "|11891    |Wallace-Carlson Model 9            |NYC Rentals  |Margaret Jones |\n",
      "|11892    |Grimes-Green Model 8               |LA Car Rental|Albert Williams|\n",
      "|11893    |Stewart-Allen Model 5              |SF Cars      |Caleb Fleming  |\n",
      "|11894    |Campos PLC Model 4                 |NYC Rentals  |Andrew Butler  |\n",
      "|11895    |Wagner LLC Model 1                 |SF Cars      |Kristin Potts  |\n",
      "|11896    |Jones, Jefferson and Rivera Model 7|LA Car Rental|Jeremy Parks   |\n",
      "|11897    |Lopez and Sons Model 9             |Zapopan Auto |Terry Wells    |\n",
      "|11898    |Salazar Ltd Model 8                |SF Cars      |Marc Williams  |\n",
      "|11899    |Villanueva PLC Model 7             |LA Car Rental|Danny Williams |\n",
      "|11900    |Faulkner-Howard Model 5            |SF Cars      |Eric Owens PhD |\n",
      "|11901    |Faulkner-Howard Model 5            |NYC Rentals  |Laura Perry    |\n",
      "|11902    |Faulkner-Howard Model 5            |NYC Rentals  |Paul Brown     |\n",
      "|11903    |Atkinson Ltd Model 10              |Zapopan Auto |Alexa Hernandez|\n",
      "|11904    |Faulkner-Howard Model 5            |SF Cars      |Jeremy Parks   |\n",
      "|11905    |Villanueva PLC Model 7             |LA Car Rental|Alyssa Reid    |\n",
      "|11906    |Moon, Davis and Larsen Model 1     |NYC Rentals  |Eric Owens PhD |\n",
      "|11907    |Alvarez-Davis Model 3              |Zapopan Auto |Kristin Potts  |\n",
      "|11908    |Clayton-Cook Model 10              |SF Cars      |Amy Ortiz      |\n",
      "|11909    |Salazar Ltd Model 8                |SF Cars      |Laura Gregory  |\n",
      "|11910    |Salazar Ltd Model 8                |SF Cars      |Jay Walsh      |\n",
      "+---------+-----------------------------------+-------------+---------------+\n",
      "only showing top 20 rows\n"
     ]
    }
   ],
   "source": [
    "# Join all the dataframes\n",
    "df_final = df_rentals \\\n",
    "    .join(df_cars, on='car_id', how='left') \\\n",
    "    .join(df_agencies, on='agency_id', how='left') \\\n",
    "    .join(df_customers, on='customer_id', how='left') \\\n",
    "\n",
    "# Filter out the values (not needed)\n",
    "\n",
    "# Select the required columns\n",
    "df_final = df_final.select(\"rental_id\", \"car_name\", \"agency_name\", \"customer_name\")\n",
    "\n",
    "df_final.show(truncate=False)"
   ]
  },
  {
   "cell_type": "code",
   "execution_count": 9,
   "id": "9078a7dd",
   "metadata": {},
   "outputs": [],
   "source": [
    "sc.stop()"
   ]
  }
 ],
 "metadata": {
  "kernelspec": {
   "display_name": "Python 3 (ipykernel)",
   "language": "python",
   "name": "python3"
  },
  "language_info": {
   "codemirror_mode": {
    "name": "ipython",
    "version": 3
   },
   "file_extension": ".py",
   "mimetype": "text/x-python",
   "name": "python",
   "nbconvert_exporter": "python",
   "pygments_lexer": "ipython3",
   "version": "3.10.12"
  }
 },
 "nbformat": 4,
 "nbformat_minor": 5
}
