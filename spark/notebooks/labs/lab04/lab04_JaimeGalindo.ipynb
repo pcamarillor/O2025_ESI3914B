{
 "cells": [
  {
   "cell_type": "markdown",
   "id": "b92d9622",
   "metadata": {},
   "source": [
    "# <center> <img src=\"../../img/ITESOLogo.png\" alt=\"ITESO\" width=\"480\" height=\"130\"> </center>\n",
    "# <center> **Departamento de Electrónica, Sistemas e Informática** </center>\n",
    "---\n",
    "## <center> Computer Systems Engineering  </center>\n",
    "---\n",
    "### <center> Big Data Processing </center>\n",
    "---\n",
    "#### <center> **Autumn 2025** </center>\n",
    "---\n",
    "\n",
    "**Lab 04**: Data Unions & Joins Pipeline\n",
    "\n",
    "**Date**: September 23rd 2025\n",
    "\n",
    "**Student Name**: Jaime Enrique Galindo Villegas\n",
    "\n",
    "**Professor**: Pablo Camarillo Ramirez"
   ]
  },
  {
   "cell_type": "code",
   "execution_count": 32,
   "id": "ed17a0b0",
   "metadata": {},
   "outputs": [],
   "source": [
    "import findspark\n",
    "findspark.init()\n",
    "\n",
    "from pyspark.sql import SparkSession\n",
    "\n",
    "spark = SparkSession.builder \\\n",
    "    .appName(\"Examples on SparkSQL\") \\\n",
    "    .master(\"spark://9d7a5c0179a1:7077\") \\\n",
    "    .config(\"spark.ui.port\", \"4040\") \\\n",
    "    .getOrCreate()\n",
    "\n",
    "sc = spark.sparkContext\n",
    "sc.setLogLevel(\"ERROR\")"
   ]
  },
  {
   "cell_type": "code",
   "execution_count": 33,
   "id": "2a1ef53c",
   "metadata": {},
   "outputs": [
    {
     "name": "stdout",
     "output_type": "stream",
     "text": [
      "agencies  brands  cars\tcustomers  rentals\n"
     ]
    }
   ],
   "source": [
    "!ls /opt/spark/work-dir/data/car_service/"
   ]
  },
  {
   "cell_type": "code",
   "execution_count": 34,
   "id": "a93cd621",
   "metadata": {},
   "outputs": [],
   "source": [
    "# Build schema\n",
    "# Import your module\n",
    "from jaime_galindo.spark_utils import SparkUtils\n",
    "from pyspark.sql.functions import get_json_object\n"
   ]
  },
  {
   "cell_type": "code",
   "execution_count": 35,
   "id": "c409826a",
   "metadata": {},
   "outputs": [],
   "source": [
    "\n",
    "# Generar esquema\n",
    "schema_agencies = SparkUtils.generate_schema([(\"agency_id\", \"int\"), (\"agency_info\", \"string\")])\n",
    "\n",
    "# Generar df\n",
    "df_agencies = spark.read.schema(schema_agencies).option(\"header\", True).csv(\"/opt/spark/work-dir/data/car_service/agencies\")\n",
    "\n",
    "# Crear las nuevas columnas\n",
    "df_agencies = df_agencies.withColumn(\"agency_name\", get_json_object(df_agencies.agency_info, \"$.agency_name\")).drop(\"agency_info\")\n"
   ]
  },
  {
   "cell_type": "code",
   "execution_count": 36,
   "id": "ded0c258",
   "metadata": {},
   "outputs": [],
   "source": [
    "# Generar esquema\n",
    "schema_brands = SparkUtils.generate_schema([(\"brand_id\", \"int\"), (\"brand_info\", \"string\")])\n",
    "\n",
    "# Generar df\n",
    "df_brands = spark.read.schema(schema_brands).option(\"header\", True).csv(\"/opt/spark/work-dir/data/car_service/brands\")\n",
    "\n",
    "# Crear las nuevas columnas\n",
    "df_brands = df_brands.withColumn(\"brand_name\", get_json_object(df_brands.brand_info, \"$.brand_name\")).drop(\"brand_info\")\n"
   ]
  },
  {
   "cell_type": "code",
   "execution_count": 37,
   "id": "6c168616",
   "metadata": {},
   "outputs": [],
   "source": [
    "# Generar esquema\n",
    "schema_cars = SparkUtils.generate_schema([(\"car_id\", \"int\"), (\"car_info\", \"string\")])\n",
    "\n",
    "# Generar df\n",
    "df_cars = spark.read.schema(schema_cars).option(\"header\", True).csv(\"/opt/spark/work-dir/data/car_service/cars\")\n",
    "\n",
    "# Crear las nuevas columnas\n",
    "df_cars = df_cars.withColumn(\"car_name\", get_json_object(df_cars.car_info, \"$.car_name\")).drop(\"car_info\")\n"
   ]
  },
  {
   "cell_type": "code",
   "execution_count": 38,
   "id": "d4648836",
   "metadata": {},
   "outputs": [],
   "source": [
    "# Generar esquema\n",
    "schema_customers = SparkUtils.generate_schema([(\"customer_id\", \"int\"), (\"customer_info\", \"string\")])\n",
    "\n",
    "# Generar df\n",
    "df_customers = spark.read.schema(schema_customers).option(\"header\", True).csv(\"/opt/spark/work-dir/data/car_service/customers/\")\n",
    "\n",
    "# Crear las nuevas columnas\n",
    "df_customers = df_customers.withColumn(\"customer_name\", get_json_object(df_customers.customer_info, \"$.customer_name\")).drop(\"customer_info\")\n"
   ]
  },
  {
   "cell_type": "code",
   "execution_count": 39,
   "id": "c903cb91",
   "metadata": {},
   "outputs": [],
   "source": [
    "# Generar esquema\n",
    "schema_rentals = SparkUtils.generate_schema([(\"rental_id\", \"int\"), (\"rental_info\", \"string\")])\n",
    "\n",
    "# Generar df\n",
    "df_rentals = spark.read.schema(schema_rentals).option(\"header\", True).csv(\"/opt/spark/work-dir/data/car_service/rentals\")\n",
    "\n",
    "# Crear las nuevas columnas\n",
    "df_rentals = df_rentals.withColumn(\"car_id\", get_json_object(df_rentals.rental_info, \"$.car_id\"))\n",
    "df_rentals = df_rentals.withColumn(\"customer_id\", get_json_object(df_rentals.rental_info, \"$.customer_id\"))\n",
    "df_rentals = df_rentals.withColumn(\"agency_id\", get_json_object(df_rentals.rental_info, \"$.agency_id\"))\n",
    "df_rentals = df_rentals.drop(\"rental_info\")\n"
   ]
  },
  {
   "cell_type": "code",
   "execution_count": null,
   "id": "ca905345",
   "metadata": {},
   "outputs": [
    {
     "name": "stderr",
     "output_type": "stream",
     "text": [
      "                                                                                \r"
     ]
    },
    {
     "name": "stdout",
     "output_type": "stream",
     "text": [
      "+---------+-----------------------------------+---------------+-------------+\n",
      "|rental_id|car_name                           |customer_name  |agency_name  |\n",
      "+---------+-----------------------------------+---------------+-------------+\n",
      "|11891    |Wallace-Carlson Model 9            |Margaret Jones |NYC Rentals  |\n",
      "|11892    |Grimes-Green Model 8               |Albert Williams|LA Car Rental|\n",
      "|11893    |Stewart-Allen Model 5              |Caleb Fleming  |SF Cars      |\n",
      "|11894    |Campos PLC Model 4                 |Andrew Butler  |NYC Rentals  |\n",
      "|11895    |Wagner LLC Model 1                 |Kristin Potts  |SF Cars      |\n",
      "|11896    |Jones, Jefferson and Rivera Model 7|Jeremy Parks   |LA Car Rental|\n",
      "|11897    |Lopez and Sons Model 9             |Terry Wells    |Zapopan Auto |\n",
      "|11898    |Salazar Ltd Model 8                |Marc Williams  |SF Cars      |\n",
      "|11899    |Villanueva PLC Model 7             |Danny Williams |LA Car Rental|\n",
      "|11900    |Faulkner-Howard Model 5            |Eric Owens PhD |SF Cars      |\n",
      "|11901    |Faulkner-Howard Model 5            |Laura Perry    |NYC Rentals  |\n",
      "|11902    |Faulkner-Howard Model 5            |Paul Brown     |NYC Rentals  |\n",
      "|11903    |Atkinson Ltd Model 10              |Alexa Hernandez|Zapopan Auto |\n",
      "|11904    |Faulkner-Howard Model 5            |Jeremy Parks   |SF Cars      |\n",
      "|11905    |Villanueva PLC Model 7             |Alyssa Reid    |LA Car Rental|\n",
      "|11906    |Moon, Davis and Larsen Model 1     |Eric Owens PhD |NYC Rentals  |\n",
      "|11907    |Alvarez-Davis Model 3              |Kristin Potts  |Zapopan Auto |\n",
      "|11908    |Clayton-Cook Model 10              |Amy Ortiz      |SF Cars      |\n",
      "|11909    |Salazar Ltd Model 8                |Laura Gregory  |SF Cars      |\n",
      "|11910    |Salazar Ltd Model 8                |Jay Walsh      |SF Cars      |\n",
      "+---------+-----------------------------------+---------------+-------------+\n",
      "only showing top 20 rows\n"
     ]
    }
   ],
   "source": [
    "# Joins\n",
    "df_rentals = df_rentals.join(df_cars, on=\"car_id\", how=\"left\")\n",
    "df_rentals = df_rentals.join(df_customers, on=\"customer_id\", how=\"left\")\n",
    "df_rentals = df_rentals.join(df_agencies, on=\"agency_id\", how=\"left\")\n",
    "\n",
    "# Eliminar columnas extra\n",
    "df_rentals = df_rentals.drop(\"agency_id\", \"customer_id\", \"car_id\")\n",
    "\n",
    "df_rentals.show(truncate=False)"
   ]
  },
  {
   "cell_type": "code",
   "execution_count": 41,
   "id": "9078a7dd",
   "metadata": {},
   "outputs": [],
   "source": [
    "# sc.stop()\n"
   ]
  }
 ],
 "metadata": {
  "kernelspec": {
   "display_name": "Python 3 (ipykernel)",
   "language": "python",
   "name": "python3"
  },
  "language_info": {
   "codemirror_mode": {
    "name": "ipython",
    "version": 3
   },
   "file_extension": ".py",
   "mimetype": "text/x-python",
   "name": "python",
   "nbconvert_exporter": "python",
   "pygments_lexer": "ipython3",
   "version": "3.10.12"
  }
 },
 "nbformat": 4,
 "nbformat_minor": 5
}
