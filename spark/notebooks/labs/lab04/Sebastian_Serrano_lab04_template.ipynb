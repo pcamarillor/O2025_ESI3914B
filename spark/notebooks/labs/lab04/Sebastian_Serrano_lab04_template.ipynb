{
 "cells": [
  {
   "cell_type": "markdown",
   "id": "b92d9622",
   "metadata": {},
   "source": [
    "# <center> <img src=\"../../img/ITESOLogo.png\" alt=\"ITESO\" width=\"480\" height=\"130\"> </center>\n",
    "# <center> **Departamento de Electrónica, Sistemas e Informática** </center>\n",
    "---\n",
    "## <center> Computer Systems Engineering  </center>\n",
    "---\n",
    "### <center> Big Data Processing </center>\n",
    "---\n",
    "#### <center> **Autumn 2025** </center>\n",
    "---\n",
    "\n",
    "**Lab 04**: Data Unions & Joins Pipeline\n",
    "\n",
    "**Date**: September 23rd 2025\n",
    "\n",
    "**Student Name**:\n",
    "\n",
    "**Professor**: Pablo Camarillo Ramirez"
   ]
  },
  {
   "cell_type": "markdown",
   "id": "94d8bed1-d432-493c-b617-78bb6ef374dd",
   "metadata": {},
   "source": [
    "## Create Session"
   ]
  },
  {
   "cell_type": "code",
   "execution_count": 1,
   "id": "ed17a0b0",
   "metadata": {},
   "outputs": [
    {
     "name": "stderr",
     "output_type": "stream",
     "text": [
      "WARNING: Using incubator modules: jdk.incubator.vector\n",
      "Using Spark's default log4j profile: org/apache/spark/log4j2-defaults.properties\n",
      "Setting default log level to \"WARN\".\n",
      "To adjust logging level use sc.setLogLevel(newLevel). For SparkR, use setLogLevel(newLevel).\n",
      "25/09/26 14:23:26 WARN NativeCodeLoader: Unable to load native-hadoop library for your platform... using builtin-java classes where applicable\n"
     ]
    }
   ],
   "source": [
    "import findspark\n",
    "findspark.init()\n",
    "\n",
    "from pyspark.sql import SparkSession\n",
    "\n",
    "spark = SparkSession.builder \\\n",
    "    .appName(\"Examples on SparkSQL\") \\\n",
    "    .master(\"spark://22410cdc64b0:7077\") \\\n",
    "    .config(\"spark.ui.port\", \"4040\") \\\n",
    "    .getOrCreate()\n",
    "\n",
    "sc = spark.sparkContext\n",
    "sc.setLogLevel(\"ERROR\")"
   ]
  },
  {
   "cell_type": "markdown",
   "id": "fa6c5d06-b18b-4d76-b6ca-2d5de093a1e7",
   "metadata": {},
   "source": [
    "## Datasets"
   ]
  },
  {
   "cell_type": "code",
   "execution_count": 2,
   "id": "a93cd621",
   "metadata": {},
   "outputs": [],
   "source": [
    "from pcamarillor.spark_utils import SparkUtils\n",
    "from pyspark.sql.functions import col, get_json_object\n",
    "\n",
    "base_path = \"/opt/spark/work-dir/data/car_service/\"\n",
    "\n",
    "agencies_schema = SparkUtils.generate_schema([(\"agency_id\", \"string\"), (\"agency_info\", \"string\")])\n",
    "brands_schema   = SparkUtils.generate_schema([(\"brand_id\", \"string\"), (\"brand_info\", \"string\")])\n",
    "cars_schema     = SparkUtils.generate_schema([(\"car_id\", \"int\"),    (\"car_info\", \"string\")])\n",
    "customers_schema= SparkUtils.generate_schema([(\"customer_id\", \"int\"),(\"customer_info\", \"string\")])\n",
    "rentals_schema  = SparkUtils.generate_schema([(\"rental_id\", \"int\"), (\"rental_info\", \"string\")])\n",
    "\n",
    "agencies_df  = spark.read.schema(agencies_schema ).option(\"header\", \"true\").csv(base_path + \"agencies\")\n",
    "brands_df    = spark.read.schema(brands_schema   ).option(\"header\", \"true\").csv(base_path + \"brands\")\n",
    "cars_df      = spark.read.schema(cars_schema     ).option(\"header\", \"true\").csv(base_path + \"cars\")\n",
    "customers_df = spark.read.schema(customers_schema).option(\"header\", \"true\").csv(base_path + \"customers\")\n",
    "rentals_df   = spark.read.schema(rentals_schema  ).option(\"header\", \"true\").csv(base_path + \"rentals\")\n"
   ]
  },
  {
   "cell_type": "markdown",
   "id": "3bfb752f-8b60-496d-b790-88490619e21d",
   "metadata": {},
   "source": [
    "**Agencies**"
   ]
  },
  {
   "cell_type": "code",
   "execution_count": 3,
   "id": "d174fb27-aa17-4df6-a33c-5643d632ddcc",
   "metadata": {},
   "outputs": [
    {
     "name": "stderr",
     "output_type": "stream",
     "text": [
      "[Stage 0:>                                                          (0 + 1) / 1]"
     ]
    },
    {
     "name": "stdout",
     "output_type": "stream",
     "text": [
      "+---------+-----------------------------------------------------+\n",
      "|agency_id|agency_info                                          |\n",
      "+---------+-----------------------------------------------------+\n",
      "|1        |{'agency_name': 'NYC Rentals', 'city': 'New York'}   |\n",
      "|2        |{'agency_name': 'LA Car Rental', 'city': 'Londres'}  |\n",
      "|3        |{'agency_name': 'Zapopan Auto', 'city': 'Zapopan'}   |\n",
      "|4        |{'agency_name': 'SF Cars', 'city': 'San Francisco'}  |\n",
      "|5        |{'agency_name': 'Mexico Cars', 'city': 'Mexico City'}|\n",
      "+---------+-----------------------------------------------------+\n",
      "\n"
     ]
    },
    {
     "name": "stderr",
     "output_type": "stream",
     "text": [
      "                                                                                "
     ]
    }
   ],
   "source": [
    "agencies_df.show(truncate=False)"
   ]
  },
  {
   "cell_type": "markdown",
   "id": "a15ee88b-1aea-472b-ab38-6144e5b6f77f",
   "metadata": {},
   "source": [
    "**Brands**"
   ]
  },
  {
   "cell_type": "code",
   "execution_count": 4,
   "id": "ffc2ac1b-343c-472b-a70c-e0356339858e",
   "metadata": {},
   "outputs": [
    {
     "name": "stdout",
     "output_type": "stream",
     "text": [
      "+--------+-----------------------------------------------------+\n",
      "|brand_id|brand_info                                           |\n",
      "+--------+-----------------------------------------------------+\n",
      "|1       |{'brand_name': 'Mercedes-Benz', 'country': 'Germany'}|\n",
      "|2       |{'brand_name': 'BMW', 'country': 'Germany'}          |\n",
      "|3       |{'brand_name': 'Audi', 'country': 'Germany'}         |\n",
      "|4       |{'brand_name': 'Ford', 'country': 'US'}              |\n",
      "|5       |{'brand_name': 'BYD', 'country': 'China'}            |\n",
      "|6       |{'brand_name': 'Honda', 'country': 'Japan'}          |\n",
      "|7       |{'brand_name': 'Toyota', 'country': 'Japan'}         |\n",
      "+--------+-----------------------------------------------------+\n",
      "\n"
     ]
    }
   ],
   "source": [
    "brands_df.show(truncate=False)"
   ]
  },
  {
   "cell_type": "markdown",
   "id": "a70be9d7-f31a-4f9b-acad-d734cc1219bb",
   "metadata": {},
   "source": [
    "**Cars**"
   ]
  },
  {
   "cell_type": "code",
   "execution_count": 5,
   "id": "99e6e697-146f-456f-87e5-2036f354ebed",
   "metadata": {},
   "outputs": [
    {
     "name": "stdout",
     "output_type": "stream",
     "text": [
      "+------+----------------------------------------------------------------------------------------+\n",
      "|car_id|car_info                                                                                |\n",
      "+------+----------------------------------------------------------------------------------------+\n",
      "|1     |{'car_name': 'Chang-Fisher Model 7', 'brand_id': 5, 'price_per_day': 139}               |\n",
      "|2     |{'car_name': 'Sheppard-Tucker Model 4', 'brand_id': 6, 'price_per_day': 70}             |\n",
      "|3     |{'car_name': 'Faulkner-Howard Model 5', 'brand_id': 3, 'price_per_day': 53}             |\n",
      "|4     |{'car_name': 'Wagner LLC Model 1', 'brand_id': 5, 'price_per_day': 89}                  |\n",
      "|5     |{'car_name': 'Campos PLC Model 4', 'brand_id': 4, 'price_per_day': 112}                 |\n",
      "|6     |{'car_name': 'Archer-Patel Model 2', 'brand_id': 3, 'price_per_day': 55}                |\n",
      "|7     |{'car_name': 'Patrick, Barrera and Collins Model 6', 'brand_id': 6, 'price_per_day': 66}|\n",
      "|8     |{'car_name': 'Jones, Jefferson and Rivera Model 7', 'brand_id': 2, 'price_per_day': 115}|\n",
      "|9     |{'car_name': 'Garcia, Hamilton and Carr Model 5', 'brand_id': 6, 'price_per_day': 137}  |\n",
      "|10    |{'car_name': 'Levy Group Model 9', 'brand_id': 3, 'price_per_day': 93}                  |\n",
      "|11    |{'car_name': 'Grimes-Green Model 8', 'brand_id': 3, 'price_per_day': 150}               |\n",
      "|12    |{'car_name': 'Moon, Davis and Larsen Model 1', 'brand_id': 6, 'price_per_day': 100}     |\n",
      "|13    |{'car_name': 'Summers, Barnett and Smith Model 6', 'brand_id': 4, 'price_per_day': 139} |\n",
      "|14    |{'car_name': 'Clayton-Cook Model 10', 'brand_id': 6, 'price_per_day': 116}              |\n",
      "|15    |{'car_name': 'Nguyen, Harrell and Lee Model 6', 'brand_id': 2, 'price_per_day': 94}     |\n",
      "|16    |{'car_name': 'Walker, Pratt and Thomas Model 9', 'brand_id': 6, 'price_per_day': 192}   |\n",
      "|17    |{'car_name': 'West, Miller and Flores Model 5', 'brand_id': 1, 'price_per_day': 63}     |\n",
      "|18    |{'car_name': 'Bolton, Burns and Turner Model 10', 'brand_id': 6, 'price_per_day': 110}  |\n",
      "|19    |{'car_name': 'Mann-Kelley Model 3', 'brand_id': 2, 'price_per_day': 146}                |\n",
      "|20    |{'car_name': 'Harris, Lloyd and Payne Model 4', 'brand_id': 6, 'price_per_day': 96}     |\n",
      "+------+----------------------------------------------------------------------------------------+\n",
      "only showing top 20 rows\n"
     ]
    }
   ],
   "source": [
    "cars_df.show(truncate=False)"
   ]
  },
  {
   "cell_type": "markdown",
   "id": "4d07f3e2-3ce1-4fb6-b736-08a81c3ff8c0",
   "metadata": {},
   "source": [
    "**Customers**"
   ]
  },
  {
   "cell_type": "code",
   "execution_count": 6,
   "id": "9a90e293-3248-4aa7-b680-f0893c63cc31",
   "metadata": {},
   "outputs": [
    {
     "name": "stdout",
     "output_type": "stream",
     "text": [
      "+-----------+-------------------------------------------------------------------------+\n",
      "|customer_id|customer_info                                                            |\n",
      "+-----------+-------------------------------------------------------------------------+\n",
      "|1          |{'customer_name': 'Tiffany Riley', 'city': 'Monterrey', 'age': 32}       |\n",
      "|2          |{'customer_name': 'Matthew Davies', 'city': 'Monterrey', 'age': 36}      |\n",
      "|3          |{'customer_name': 'Rebecca Miller', 'city': 'Mexico City', 'age': 30}    |\n",
      "|4          |{'customer_name': 'Katelyn Mccoy', 'city': 'New York', 'age': 34}        |\n",
      "|5          |{'customer_name': 'Dana Dennis', 'city': 'Zapopan', 'age': 26}           |\n",
      "|6          |{'customer_name': 'Daniel Norton', 'city': 'Mexico City', 'age': 34}     |\n",
      "|7          |{'customer_name': 'Robert Garcia', 'city': 'Zapopan', 'age': 47}         |\n",
      "|8          |{'customer_name': 'Michael Williams', 'city': 'Monterrey', 'age': 33}    |\n",
      "|9          |{'customer_name': 'Susan Ferguson', 'city': 'San Francisco', 'age': 41}  |\n",
      "|10         |{'customer_name': 'Alyssa Reid', 'city': 'Mexico City', 'age': 40}       |\n",
      "|11         |{'customer_name': 'Laura Myers', 'city': 'Zapopan', 'age': 50}           |\n",
      "|12         |{'customer_name': 'William Johnson', 'city': 'Monterrey', 'age': 25}     |\n",
      "|13         |{'customer_name': 'Tyler Lopez', 'city': 'Mexico City', 'age': 21}       |\n",
      "|14         |{'customer_name': 'Daniel Owen', 'city': 'Mexico City', 'age': 47}       |\n",
      "|15         |{'customer_name': 'Allison Coleman', 'city': 'Zapopan', 'age': 33}       |\n",
      "|16         |{'customer_name': 'David Walker', 'city': 'Londres', 'age': 33}          |\n",
      "|17         |{'customer_name': 'Hayley White', 'city': 'Monterrey', 'age': 29}        |\n",
      "|18         |{'customer_name': 'Amanda Garcia', 'city': 'Zapopan', 'age': 20}         |\n",
      "|19         |{'customer_name': 'Christina Howard PhD', 'city': 'Monterrey', 'age': 22}|\n",
      "|20         |{'customer_name': 'Tamara Jackson', 'city': 'San Francisco', 'age': 29}  |\n",
      "+-----------+-------------------------------------------------------------------------+\n",
      "only showing top 20 rows\n"
     ]
    }
   ],
   "source": [
    "customers_df.show(truncate=False)"
   ]
  },
  {
   "cell_type": "markdown",
   "id": "4424d939-c2ee-46d6-9690-c8c2c225bc7d",
   "metadata": {},
   "source": [
    "**Rentals**"
   ]
  },
  {
   "cell_type": "code",
   "execution_count": 7,
   "id": "68fd598b-fe83-4e37-97b3-ff70092dfbf6",
   "metadata": {},
   "outputs": [
    {
     "name": "stdout",
     "output_type": "stream",
     "text": [
      "+---------+--------------------------------------------------+\n",
      "|rental_id|rental_info                                       |\n",
      "+---------+--------------------------------------------------+\n",
      "|11891    |{'car_id': 21, 'customer_id': 71, 'agency_id': 1} |\n",
      "|11892    |{'car_id': 11, 'customer_id': 52, 'agency_id': 2} |\n",
      "|11893    |{'car_id': 22, 'customer_id': 116, 'agency_id': 4}|\n",
      "|11894    |{'car_id': 5, 'customer_id': 107, 'agency_id': 1} |\n",
      "|11895    |{'car_id': 4, 'customer_id': 53, 'agency_id': 4}  |\n",
      "|11896    |{'car_id': 8, 'customer_id': 131, 'agency_id': 2} |\n",
      "|11897    |{'car_id': 23, 'customer_id': 66, 'agency_id': 3} |\n",
      "|11898    |{'car_id': 24, 'customer_id': 60, 'agency_id': 4} |\n",
      "|11899    |{'car_id': 27, 'customer_id': 92, 'agency_id': 2} |\n",
      "|11900    |{'car_id': 3, 'customer_id': 40, 'agency_id': 4}  |\n",
      "|11901    |{'car_id': 3, 'customer_id': 35, 'agency_id': 1}  |\n",
      "|11902    |{'car_id': 3, 'customer_id': 72, 'agency_id': 1}  |\n",
      "|11903    |{'car_id': 29, 'customer_id': 58, 'agency_id': 3} |\n",
      "|11904    |{'car_id': 3, 'customer_id': 131, 'agency_id': 4} |\n",
      "|11905    |{'car_id': 27, 'customer_id': 10, 'agency_id': 2} |\n",
      "|11906    |{'car_id': 12, 'customer_id': 40, 'agency_id': 1} |\n",
      "|11907    |{'car_id': 25, 'customer_id': 53, 'agency_id': 3} |\n",
      "|11908    |{'car_id': 14, 'customer_id': 153, 'agency_id': 4}|\n",
      "|11909    |{'car_id': 24, 'customer_id': 96, 'agency_id': 4} |\n",
      "|11910    |{'car_id': 24, 'customer_id': 151, 'agency_id': 4}|\n",
      "+---------+--------------------------------------------------+\n",
      "only showing top 20 rows\n"
     ]
    }
   ],
   "source": [
    "rentals_df.show(truncate=False)"
   ]
  },
  {
   "cell_type": "markdown",
   "id": "5b5b676d-f28e-4682-a882-9860796f5853",
   "metadata": {},
   "source": [
    "## Joins"
   ]
  },
  {
   "cell_type": "code",
   "execution_count": 8,
   "id": "f4024540-c02a-4c4f-98ef-aaff7f8531ca",
   "metadata": {},
   "outputs": [],
   "source": [
    "agencies_df = agencies_df.withColumn(\n",
    "    \"agency_name\", get_json_object(col(\"agency_info\"), \"$.agency_name\")\n",
    ").drop(\"agency_info\")\n",
    "\n",
    "cars_df = cars_df.withColumn(\n",
    "    \"car_name\", get_json_object(col(\"car_info\"), \"$.car_name\")\n",
    ").drop(\"car_info\")\n",
    "\n",
    "customers_df = customers_df.withColumn(\n",
    "    \"customer_name\", get_json_object(col(\"customer_info\"), \"$.customer_name\")\n",
    ").drop(\"customer_info\")\n",
    "\n",
    "rentals_df = rentals_df \\\n",
    "    .withColumn(\"car_id\",      get_json_object(col(\"rental_info\"), \"$.car_id\").cast(\"int\")) \\\n",
    "    .withColumn(\"customer_id\", get_json_object(col(\"rental_info\"), \"$.customer_id\").cast(\"int\")) \\\n",
    "    .withColumn(\"agency_id\",   get_json_object(col(\"rental_info\"), \"$.agency_id\").cast(\"string\")) \\\n",
    "    .drop(\"rental_info\")"
   ]
  },
  {
   "cell_type": "code",
   "execution_count": 10,
   "id": "19db256a-e937-4764-aa8e-ddaa177cd511",
   "metadata": {},
   "outputs": [
    {
     "name": "stdout",
     "output_type": "stream",
     "text": [
      "+---------+--------------------+-------------+---------------+\n",
      "|rental_id|            car_name|  agency_name|  customer_name|\n",
      "+---------+--------------------+-------------+---------------+\n",
      "|    11891|Wallace-Carlson M...|  NYC Rentals| Margaret Jones|\n",
      "|    11892|Grimes-Green Model 8|LA Car Rental|Albert Williams|\n",
      "|    11893|Stewart-Allen Mod...|      SF Cars|  Caleb Fleming|\n",
      "|    11894|  Campos PLC Model 4|  NYC Rentals|  Andrew Butler|\n",
      "|    11895|  Wagner LLC Model 1|      SF Cars|  Kristin Potts|\n",
      "+---------+--------------------+-------------+---------------+\n",
      "only showing top 5 rows\n"
     ]
    }
   ],
   "source": [
    "final_df = (rentals_df\n",
    "    .join(cars_df,      on=\"car_id\")\n",
    "    .join(agencies_df,  on=\"agency_id\")\n",
    "    .join(customers_df, on=\"customer_id\")\n",
    "    .select(\"rental_id\", \"car_name\", \"agency_name\", \"customer_name\")\n",
    ")\n",
    "\n",
    "final_df.show(5)"
   ]
  },
  {
   "cell_type": "code",
   "execution_count": null,
   "id": "c6e13470-7967-4a3c-bdef-bca1d6173a5e",
   "metadata": {},
   "outputs": [],
   "source": []
  }
 ],
 "metadata": {
  "kernelspec": {
   "display_name": "Python 3 (ipykernel)",
   "language": "python",
   "name": "python3"
  },
  "language_info": {
   "codemirror_mode": {
    "name": "ipython",
    "version": 3
   },
   "file_extension": ".py",
   "mimetype": "text/x-python",
   "name": "python",
   "nbconvert_exporter": "python",
   "pygments_lexer": "ipython3",
   "version": "3.10.12"
  }
 },
 "nbformat": 4,
 "nbformat_minor": 5
}
