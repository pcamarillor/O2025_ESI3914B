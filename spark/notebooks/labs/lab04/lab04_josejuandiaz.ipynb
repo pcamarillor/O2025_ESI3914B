{
 "cells": [
  {
   "cell_type": "markdown",
   "id": "b92d9622",
   "metadata": {},
   "source": [
    "# <center> <img src=\"../../img/ITESOLogo.png\" alt=\"ITESO\" width=\"480\" height=\"130\"> </center>\n",
    "# <center> **Departamento de Electrónica, Sistemas e Informática** </center>\n",
    "---\n",
    "## <center> Computer Systems Engineering  </center>\n",
    "---\n",
    "### <center> Big Data Processing </center>\n",
    "---\n",
    "#### <center> **Autumn 2025** </center>\n",
    "---\n",
    "\n",
    "**Lab 04**: Data Unions & Joins Pipeline\n",
    "\n",
    "**Date**: September 23rd 2025\n",
    "\n",
    "**Student Name**: José Juan Díaz Campos\n",
    "\n",
    "**Professor**: Pablo Camarillo Ramirez"
   ]
  },
  {
   "cell_type": "code",
   "execution_count": 1,
   "id": "ed17a0b0",
   "metadata": {},
   "outputs": [
    {
     "name": "stderr",
     "output_type": "stream",
     "text": [
      "WARNING: Using incubator modules: jdk.incubator.vector\n",
      "Using Spark's default log4j profile: org/apache/spark/log4j2-defaults.properties\n",
      "Setting default log level to \"WARN\".\n",
      "To adjust logging level use sc.setLogLevel(newLevel). For SparkR, use setLogLevel(newLevel).\n",
      "25/09/23 14:25:09 WARN NativeCodeLoader: Unable to load native-hadoop library for your platform... using builtin-java classes where applicable\n"
     ]
    }
   ],
   "source": [
    "import findspark\n",
    "findspark.init()\n",
    "\n",
    "from pyspark.sql import SparkSession\n",
    "from jjodiaz.spark_utils import SparkUtils\n",
    "from pyspark.sql.functions import get_json_object, col\n",
    "\n",
    "spark = SparkSession.builder \\\n",
    "    .appName(\"Examples on SparkSQL\") \\\n",
    "    .master(\"local[*]\") \\\n",
    "    .config(\"spark.ui.port\", \"4040\") \\\n",
    "    .getOrCreate()\n",
    "\n",
    "sc = spark.sparkContext\n",
    "sc.setLogLevel(\"ERROR\")"
   ]
  },
  {
   "cell_type": "markdown",
   "id": "74c6717f-c8ca-43b1-8217-e6043519394b",
   "metadata": {},
   "source": [
    "## Leer los csv"
   ]
  },
  {
   "cell_type": "code",
   "execution_count": 2,
   "id": "4e7c6b4a-dbc8-4136-8c1d-c67f28a8b411",
   "metadata": {},
   "outputs": [],
   "source": [
    "schema_agencies = SparkUtils.generate_schema([(\"agency_id\", \"int\"), (\"agency_info\", \"string\")])\n",
    "df_agencies = spark.read.schema(schema_agencies).option(\"header\", True).csv(\"/opt/spark/work-dir/data/car_service/agencies\")\n",
    "\n",
    "schema_brands = SparkUtils.generate_schema([(\"brand_id\", \"int\"), (\"brand_info\", \"string\")])\n",
    "df_brands = spark.read.schema(schema_brands).option(\"header\", True).csv(\"/opt/spark/work-dir/data/car_service/brands\")\n",
    "\n",
    "schema_cars = SparkUtils.generate_schema([(\"car_id\", \"int\"), (\"car_info\", \"string\")])\n",
    "df_cars = spark.read.schema(schema_cars).option(\"header\", True).csv(\"/opt/spark/work-dir/data/car_service/cars\")\n",
    "\n",
    "schema_customers = SparkUtils.generate_schema([(\"customer_id\", \"int\"), (\"customer_info\", \"string\")])\n",
    "df_customers = spark.read.schema(schema_customers).option(\"header\", True).csv(\"/opt/spark/work-dir/data/car_service/customers\")\n",
    "\n",
    "schema_rentals = SparkUtils.generate_schema([(\"rental_id\", \"int\"), (\"rental_info\", \"string\")])\n",
    "df_rentals = spark.read.schema(schema_rentals).option(\"header\", True).csv(\"/opt/spark/work-dir/data/car_service/rentals\")"
   ]
  },
  {
   "cell_type": "markdown",
   "id": "26eb639b-ac6c-4059-b93b-cabc43f73da1",
   "metadata": {},
   "source": [
    "## Hacer el join"
   ]
  },
  {
   "cell_type": "code",
   "execution_count": 3,
   "id": "ebf79c64-66b3-4fd2-8134-69ec2e19c807",
   "metadata": {},
   "outputs": [],
   "source": [
    "final_result = df_rentals \\\n",
    "    .withColumn(\"car_id\", get_json_object(col(\"rental_info\"), \"$.car_id\").cast(\"int\")) \\\n",
    "    .withColumn(\"customer_id\", get_json_object(col(\"rental_info\"), \"$.customer_id\").cast(\"int\")) \\\n",
    "    .withColumn(\"agency_id\", get_json_object(col(\"rental_info\"), \"$.agency_id\").cast(\"int\")) \\\n",
    "    .join(\n",
    "        df_cars.withColumn(\"car_name\", get_json_object(col(\"car_info\"), \"$.car_name\")),\n",
    "        \"car_id\", \n",
    "        \"inner\"\n",
    "    ) \\\n",
    "    .join(\n",
    "        df_customers.withColumn(\"customer_name\", get_json_object(col(\"customer_info\"), \"$.customer_name\")),\n",
    "        \"customer_id\", \n",
    "        \"inner\"\n",
    "    ) \\\n",
    "    .join(\n",
    "        df_agencies.withColumn(\"agency_name\", get_json_object(col(\"agency_info\"), \"$.agency_name\")),\n",
    "        \"agency_id\", \n",
    "        \"inner\"\n",
    "    ) \\\n",
    "    .select(\n",
    "        col(\"rental_id\"),\n",
    "        col(\"car_name\"),\n",
    "        col(\"agency_name\"),\n",
    "        col(\"customer_name\")\n",
    "    ) \\\n",
    "    .orderBy(\"rental_id\")\n"
   ]
  },
  {
   "cell_type": "code",
   "execution_count": 4,
   "id": "311e4d60-dc41-4b4b-93b8-56fbe4eeddb8",
   "metadata": {},
   "outputs": [
    {
     "name": "stderr",
     "output_type": "stream",
     "text": [
      "[Stage 3:>                                                          (0 + 7) / 7]"
     ]
    },
    {
     "name": "stdout",
     "output_type": "stream",
     "text": [
      "+---------+------------------------------------+-------------+----------------+\n",
      "|rental_id|car_name                            |agency_name  |customer_name   |\n",
      "+---------+------------------------------------+-------------+----------------+\n",
      "|0        |Grimes-Green Model 8                |SF Cars      |Laura Perry     |\n",
      "|1        |Wallace-Carlson Model 9             |SF Cars      |Melanie Patrick |\n",
      "|2        |Wagner LLC Model 1                  |NYC Rentals  |Theresa Estrada |\n",
      "|3        |Bolton, Burns and Turner Model 10   |LA Car Rental|Amanda Garcia   |\n",
      "|4        |Alvarez-Davis Model 3               |SF Cars      |Corey Cook      |\n",
      "|5        |Grimes-Green Model 8                |SF Cars      |Kyle Ramos      |\n",
      "|6        |Grimes-Green Model 8                |NYC Rentals  |Julie Chen      |\n",
      "|7        |Clayton-Cook Model 10               |LA Car Rental|Sarah Peterson  |\n",
      "|8        |Garcia, Hamilton and Carr Model 5   |SF Cars      |Jay Walsh       |\n",
      "|9        |Chang-Fisher Model 7                |LA Car Rental|Rebecca Stark   |\n",
      "|10       |Campos PLC Model 4                  |LA Car Rental|Michael Stewart |\n",
      "|11       |Myers, Thornton and Hill Model 1    |SF Cars      |Lorraine Garcia |\n",
      "|12       |Stewart-Allen Model 5               |LA Car Rental|Erica Jimenez   |\n",
      "|13       |Wagner LLC Model 1                  |Zapopan Auto |Margaret Jones  |\n",
      "|14       |Mann-Kelley Model 3                 |LA Car Rental|Jeremy Wood     |\n",
      "|15       |Bolton, Burns and Turner Model 10   |NYC Rentals  |Tracy Brown     |\n",
      "|16       |Patrick, Barrera and Collins Model 6|LA Car Rental|Nicholas Kline  |\n",
      "|17       |Alvarez-Davis Model 3               |NYC Rentals  |Dr. James Willis|\n",
      "|18       |Summers, Barnett and Smith Model 6  |LA Car Rental|Angela Jones    |\n",
      "|19       |Villanueva PLC Model 7              |Zapopan Auto |Jesse Sparks    |\n",
      "+---------+------------------------------------+-------------+----------------+\n",
      "only showing top 20 rows\n"
     ]
    },
    {
     "name": "stderr",
     "output_type": "stream",
     "text": [
      "                                                                                "
     ]
    }
   ],
   "source": [
    "final_result.show(20, truncate=False)"
   ]
  },
  {
   "cell_type": "code",
   "execution_count": null,
   "id": "9078a7dd",
   "metadata": {},
   "outputs": [],
   "source": [
    "sc.stop()"
   ]
  }
 ],
 "metadata": {
  "kernelspec": {
   "display_name": "Python 3 (ipykernel)",
   "language": "python",
   "name": "python3"
  },
  "language_info": {
   "codemirror_mode": {
    "name": "ipython",
    "version": 3
   },
   "file_extension": ".py",
   "mimetype": "text/x-python",
   "name": "python",
   "nbconvert_exporter": "python",
   "pygments_lexer": "ipython3",
   "version": "3.10.12"
  }
 },
 "nbformat": 4,
 "nbformat_minor": 5
}
