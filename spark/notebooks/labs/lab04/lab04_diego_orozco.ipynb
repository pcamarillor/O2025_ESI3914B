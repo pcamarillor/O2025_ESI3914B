{
 "cells": [
  {
   "cell_type": "markdown",
   "id": "b92d9622",
   "metadata": {},
   "source": [
    "# <center> <img src=\"../../img/ITESOLogo.png\" alt=\"ITESO\" width=\"480\" height=\"130\"> </center>\n",
    "# <center> **Departamento de Electrónica, Sistemas e Informática** </center>\n",
    "---\n",
    "## <center> Computer Systems Engineering  </center>\n",
    "---\n",
    "### <center> Big Data Processing </center>\n",
    "---\n",
    "#### <center> **Autumn 2025** </center>\n",
    "---\n",
    "\n",
    "**Lab 04**: Data Unions & Joins Pipeline\n",
    "\n",
    "**Date**: September 23rd 2025\n",
    "\n",
    "**Student Name**:\n",
    "\n",
    "**Professor**: Pablo Camarillo Ramirez"
   ]
  },
  {
   "cell_type": "code",
   "execution_count": 1,
   "id": "ed17a0b0",
   "metadata": {},
   "outputs": [
    {
     "name": "stderr",
     "output_type": "stream",
     "text": [
      "WARNING: Using incubator modules: jdk.incubator.vector\n",
      "Using Spark's default log4j profile: org/apache/spark/log4j2-defaults.properties\n",
      "Setting default log level to \"WARN\".\n",
      "To adjust logging level use sc.setLogLevel(newLevel). For SparkR, use setLogLevel(newLevel).\n",
      "25/09/25 23:19:06 WARN NativeCodeLoader: Unable to load native-hadoop library for your platform... using builtin-java classes where applicable\n"
     ]
    }
   ],
   "source": [
    "import findspark\n",
    "findspark.init()\n",
    "\n",
    "from pyspark.sql import SparkSession\n",
    "\n",
    "spark = SparkSession.builder \\\n",
    "    .appName(\"Examples on SparkSQL\") \\\n",
    "    .master(\"local[*]\") \\\n",
    "    .config(\"spark.ui.port\", \"4040\") \\\n",
    "    .getOrCreate()\n",
    "\n",
    "sc = spark.sparkContext\n",
    "sc.setLogLevel(\"ERROR\")"
   ]
  },
  {
   "cell_type": "code",
   "execution_count": 2,
   "id": "a93cd621",
   "metadata": {},
   "outputs": [
    {
     "name": "stderr",
     "output_type": "stream",
     "text": [
      "[Stage 0:>                                                          (0 + 1) / 1]\r"
     ]
    },
    {
     "name": "stdout",
     "output_type": "stream",
     "text": [
      "+---------+-----------------------------------------------------+\n",
      "|agency_id|agency_info                                          |\n",
      "+---------+-----------------------------------------------------+\n",
      "|1        |{'agency_name': 'NYC Rentals', 'city': 'New York'}   |\n",
      "|2        |{'agency_name': 'LA Car Rental', 'city': 'Londres'}  |\n",
      "|3        |{'agency_name': 'Zapopan Auto', 'city': 'Zapopan'}   |\n",
      "|4        |{'agency_name': 'SF Cars', 'city': 'San Francisco'}  |\n",
      "|5        |{'agency_name': 'Mexico Cars', 'city': 'Mexico City'}|\n",
      "+---------+-----------------------------------------------------+\n",
      "\n"
     ]
    },
    {
     "name": "stderr",
     "output_type": "stream",
     "text": [
      "                                                                                \r"
     ]
    }
   ],
   "source": [
    "# Build schema\n",
    "from diego_orozco.spark_utils import SparkUtils\n",
    "# Import your module\n",
    "\n",
    "schema_agencies = SparkUtils.generate_schema([(\"agency_id\", \"int\"), (\"agency_info\", \"string\")])\n",
    "\n",
    "df_agencies = spark.read.schema(schema_agencies).option(\"header\", True).csv(\"/opt/spark/work-dir/data/car_service/agencies\")\n",
    "df_agencies.show(truncate=False)\n"
   ]
  },
  {
   "cell_type": "code",
   "execution_count": 3,
   "id": "e9715785",
   "metadata": {},
   "outputs": [],
   "source": [
    "from pyspark.sql.functions import get_json_object\n",
    "\n",
    "df_agencies = df_agencies.withColumn(\"agency_info\", get_json_object(df_agencies.agency_info, '$.agency_name'))"
   ]
  },
  {
   "cell_type": "code",
   "execution_count": 4,
   "id": "169c12eb",
   "metadata": {},
   "outputs": [],
   "source": [
    "# Build schema\n",
    "from diego_orozco.spark_utils import SparkUtils\n",
    "# Import your module\n",
    "\n",
    "schema_brands = SparkUtils.generate_schema([(\"brands_id\", \"int\"), (\"brands_info\", \"string\")])\n",
    "\n",
    "df_brands = spark.read.schema(schema_brands).option(\"header\", True).csv(\"/opt/spark/work-dir/data/car_service/brands\")\n"
   ]
  },
  {
   "cell_type": "code",
   "execution_count": 5,
   "id": "ef47f653",
   "metadata": {},
   "outputs": [],
   "source": [
    "from pyspark.sql.functions import get_json_object\n",
    "\n",
    "df_brands = df_brands.withColumn(\"brands_info\", get_json_object(df_brands.brands_info, '$.brand_name'))"
   ]
  },
  {
   "cell_type": "code",
   "execution_count": 6,
   "id": "d766e1b8",
   "metadata": {},
   "outputs": [],
   "source": [
    "# Build schema\n",
    "from diego_orozco.spark_utils import SparkUtils\n",
    "# Import your module\n",
    "\n",
    "schema_cars = SparkUtils.generate_schema([(\"cars_id\", \"int\"), (\"cars_info\", \"string\")])\n",
    "\n",
    "df_cars = spark.read.schema(schema_cars).option(\"header\", True).csv(\"/opt/spark/work-dir/data/car_service/cars\")\n"
   ]
  },
  {
   "cell_type": "code",
   "execution_count": 7,
   "id": "4ca2c78c",
   "metadata": {},
   "outputs": [],
   "source": [
    "from pyspark.sql.functions import get_json_object\n",
    "\n",
    "df_cars = df_cars.withColumn(\"cars_info\", get_json_object(df_cars.cars_info, '$.car_name'))"
   ]
  },
  {
   "cell_type": "code",
   "execution_count": 8,
   "id": "5d638488",
   "metadata": {},
   "outputs": [],
   "source": [
    "# Build schema\n",
    "from diego_orozco.spark_utils import SparkUtils\n",
    "# Import your module\n",
    "\n",
    "schema_customers = SparkUtils.generate_schema([(\"customers_id\", \"int\"), (\"customers_info\", \"string\")])\n",
    "\n",
    "df_customers = spark.read.schema(schema_customers).option(\"header\", True).csv(\"/opt/spark/work-dir/data/car_service/customers\")\n"
   ]
  },
  {
   "cell_type": "code",
   "execution_count": 9,
   "id": "445da7c5",
   "metadata": {},
   "outputs": [],
   "source": [
    "from pyspark.sql.functions import get_json_object\n",
    "\n",
    "df_customers = df_customers.withColumn(\"customers_info\", get_json_object(df_customers.customers_info, '$.customer_name'))"
   ]
  },
  {
   "cell_type": "code",
   "execution_count": 10,
   "id": "dfce2833",
   "metadata": {},
   "outputs": [],
   "source": [
    "# Build schema\n",
    "from diego_orozco.spark_utils import SparkUtils\n",
    "# Import your module\n",
    "\n",
    "schema_rentals = SparkUtils.generate_schema([(\"rentals_id\", \"int\"), (\"rentals_info\", \"string\")])\n",
    "\n",
    "df_rentals = spark.read.schema(schema_rentals).option(\"header\", True).csv(\"/opt/spark/work-dir/data/car_service/rentals\")\n"
   ]
  },
  {
   "cell_type": "code",
   "execution_count": 11,
   "id": "4757b12b",
   "metadata": {},
   "outputs": [],
   "source": [
    "from pyspark.sql.functions import get_json_object\n",
    "\n",
    "df_rentals = df_rentals.withColumn(\"car_id\", get_json_object(df_rentals.rentals_info, '$.car_id'))\n",
    "df_rentals = df_rentals.withColumn(\"customer_id\", get_json_object(df_rentals.rentals_info, '$.customer_id'))\n",
    "df_rentals = df_rentals.withColumn(\"agency_id\", get_json_object(df_rentals.rentals_info, '$.agency_id'))\n",
    "df_rentals=df_rentals.drop(\"rentals_info\")"
   ]
  },
  {
   "cell_type": "code",
   "execution_count": 12,
   "id": "1ea0b0f2",
   "metadata": {},
   "outputs": [],
   "source": [
    "result = df_rentals.join(df_agencies, on=\"agency_id\", how=\"left\")\n",
    "result = result.join(df_customers, result[\"customer_id\"]==df_customers[\"customers_id\"], how=\"left\")\n",
    "result = result.join(df_cars, result[\"car_id\"]==df_cars[\"cars_id\"], how=\"left\")\n",
    "\n",
    "result=result.drop(\"agency_id\",\"customer_id\",\"customers_id\",\"car_id\", \"cars_id\")\n"
   ]
  },
  {
   "cell_type": "code",
   "execution_count": 13,
   "id": "840c43bb",
   "metadata": {},
   "outputs": [
    {
     "name": "stdout",
     "output_type": "stream",
     "text": [
      "+----------+-------------+---------------+--------------------+\n",
      "|rentals_id|  agency_info| customers_info|           cars_info|\n",
      "+----------+-------------+---------------+--------------------+\n",
      "|     11891|  NYC Rentals| Margaret Jones|Wallace-Carlson M...|\n",
      "|     11892|LA Car Rental|Albert Williams|Grimes-Green Model 8|\n",
      "|     11893|      SF Cars|  Caleb Fleming|Stewart-Allen Mod...|\n",
      "|     11894|  NYC Rentals|  Andrew Butler|  Campos PLC Model 4|\n",
      "|     11895|      SF Cars|  Kristin Potts|  Wagner LLC Model 1|\n",
      "|     11896|LA Car Rental|   Jeremy Parks|Jones, Jefferson ...|\n",
      "|     11897| Zapopan Auto|    Terry Wells|Lopez and Sons Mo...|\n",
      "|     11898|      SF Cars|  Marc Williams| Salazar Ltd Model 8|\n",
      "|     11899|LA Car Rental| Danny Williams|Villanueva PLC Mo...|\n",
      "|     11900|      SF Cars| Eric Owens PhD|Faulkner-Howard M...|\n",
      "|     11901|  NYC Rentals|    Laura Perry|Faulkner-Howard M...|\n",
      "|     11902|  NYC Rentals|     Paul Brown|Faulkner-Howard M...|\n",
      "|     11903| Zapopan Auto|Alexa Hernandez|Atkinson Ltd Mode...|\n",
      "|     11904|      SF Cars|   Jeremy Parks|Faulkner-Howard M...|\n",
      "|     11905|LA Car Rental|    Alyssa Reid|Villanueva PLC Mo...|\n",
      "|     11906|  NYC Rentals| Eric Owens PhD|Moon, Davis and L...|\n",
      "|     11907| Zapopan Auto|  Kristin Potts|Alvarez-Davis Mod...|\n",
      "|     11908|      SF Cars|      Amy Ortiz|Clayton-Cook Mode...|\n",
      "|     11909|      SF Cars|  Laura Gregory| Salazar Ltd Model 8|\n",
      "|     11910|      SF Cars|      Jay Walsh| Salazar Ltd Model 8|\n",
      "+----------+-------------+---------------+--------------------+\n",
      "only showing top 20 rows\n"
     ]
    }
   ],
   "source": [
    "result.show()"
   ]
  },
  {
   "cell_type": "code",
   "execution_count": 14,
   "id": "9078a7dd",
   "metadata": {},
   "outputs": [],
   "source": [
    "sc.stop()"
   ]
  }
 ],
 "metadata": {
  "kernelspec": {
   "display_name": "Python 3 (ipykernel)",
   "language": "python",
   "name": "python3"
  },
  "language_info": {
   "codemirror_mode": {
    "name": "ipython",
    "version": 3
   },
   "file_extension": ".py",
   "mimetype": "text/x-python",
   "name": "python",
   "nbconvert_exporter": "python",
   "pygments_lexer": "ipython3",
   "version": "3.10.12"
  }
 },
 "nbformat": 4,
 "nbformat_minor": 5
}
