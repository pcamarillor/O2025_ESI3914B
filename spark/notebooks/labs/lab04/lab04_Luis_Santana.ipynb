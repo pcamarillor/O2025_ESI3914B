{
 "cells": [
  {
   "cell_type": "markdown",
   "id": "b92d9622",
   "metadata": {},
   "source": [
    "# <center> <img src=\"../../img/ITESOLogo.png\" alt=\"ITESO\" width=\"480\" height=\"130\"> </center>\n",
    "# <center> **Departamento de Electrónica, Sistemas e Informática** </center>\n",
    "---\n",
    "## <center> Computer Systems Engineering  </center>\n",
    "---\n",
    "### <center> Big Data Processing </center>\n",
    "---\n",
    "#### <center> **Autumn 2025** </center>\n",
    "---\n",
    "\n",
    "**Lab 04**: Data Unions & Joins Pipeline\n",
    "\n",
    "**Date**: September 23rd 2025\n",
    "\n",
    "**Student Name**: Luis Angel Santana Hernandez\n",
    "\n",
    "**Professor**: Pablo Camarillo Ramirez"
   ]
  },
  {
   "cell_type": "code",
   "execution_count": 58,
   "id": "ed17a0b0",
   "metadata": {},
   "outputs": [],
   "source": [
    "import findspark\n",
    "findspark.init()\n",
    "\n",
    "from pyspark.sql import SparkSession\n",
    "\n",
    "spark = SparkSession.builder \\\n",
    "    .appName(\"Examples on SparkSQL\") \\\n",
    "    .master(\"spark://4dcc0176a67d:7077\") \\\n",
    "    .config(\"spark.ui.port\", \"4040\") \\\n",
    "    .getOrCreate()\n",
    "\n",
    "sc = spark.sparkContext\n",
    "sc.setLogLevel(\"ERROR\")"
   ]
  },
  {
   "cell_type": "code",
   "execution_count": 59,
   "id": "a93cd621",
   "metadata": {},
   "outputs": [
    {
     "name": "stderr",
     "output_type": "stream",
     "text": [
      "[Stage 0:>                                                          (0 + 1) / 1]\r"
     ]
    },
    {
     "name": "stdout",
     "output_type": "stream",
     "text": [
      "+---------+-----------------------------------------------------+\n",
      "|agency_id|agency_info                                          |\n",
      "+---------+-----------------------------------------------------+\n",
      "|1        |{'agency_name': 'NYC Rentals', 'city': 'New York'}   |\n",
      "|2        |{'agency_name': 'LA Car Rental', 'city': 'Londres'}  |\n",
      "|3        |{'agency_name': 'Zapopan Auto', 'city': 'Zapopan'}   |\n",
      "|4        |{'agency_name': 'SF Cars', 'city': 'San Francisco'}  |\n",
      "|5        |{'agency_name': 'Mexico Cars', 'city': 'Mexico City'}|\n",
      "+---------+-----------------------------------------------------+\n",
      "\n"
     ]
    },
    {
     "name": "stderr",
     "output_type": "stream",
     "text": [
      "                                                                                \r"
     ]
    }
   ],
   "source": [
    "# Build schema\n",
    "from luis_santana.spark_utils import SparkUtils\n",
    "# Import your module\n",
    "\n",
    "schema_agencies = SparkUtils.generate_schema([(\"agency_id\", \"int\"), (\"agency_info\", \"string\")])\n",
    "\n",
    "df_agencies = spark.read.schema(schema_agencies).option(\"header\", True).csv(\"/opt/spark/work-dir/data/car_service/agencies\")\n",
    "df_agencies.show(truncate=False)\n"
   ]
  },
  {
   "cell_type": "code",
   "execution_count": 60,
   "id": "c7fa0599",
   "metadata": {},
   "outputs": [
    {
     "name": "stdout",
     "output_type": "stream",
     "text": [
      "+--------+-----------------------------------------------------+\n",
      "|brand_id|brand_infos                                          |\n",
      "+--------+-----------------------------------------------------+\n",
      "|1       |{'brand_name': 'Mercedes-Benz', 'country': 'Germany'}|\n",
      "|2       |{'brand_name': 'BMW', 'country': 'Germany'}          |\n",
      "|3       |{'brand_name': 'Audi', 'country': 'Germany'}         |\n",
      "|4       |{'brand_name': 'Ford', 'country': 'US'}              |\n",
      "|5       |{'brand_name': 'BYD', 'country': 'China'}            |\n",
      "|6       |{'brand_name': 'Honda', 'country': 'Japan'}          |\n",
      "|7       |{'brand_name': 'Toyota', 'country': 'Japan'}         |\n",
      "+--------+-----------------------------------------------------+\n",
      "\n"
     ]
    }
   ],
   "source": [
    "schema_brands = SparkUtils.generate_schema([(\"brand_id\", \"int\"), (\"brand_infos\", \"string\")])\n",
    "df_brands = spark.read.schema(schema_brands).option(\"header\", True).csv(\"/opt/spark/work-dir/data/car_service/brands\")\n",
    "df_brands.show(truncate=False)"
   ]
  },
  {
   "cell_type": "code",
   "execution_count": 61,
   "id": "7a4a0b4f",
   "metadata": {},
   "outputs": [
    {
     "name": "stdout",
     "output_type": "stream",
     "text": [
      "+------+----------------------------------------------------------------------------------------+\n",
      "|car_id|car_info                                                                                |\n",
      "+------+----------------------------------------------------------------------------------------+\n",
      "|1     |{'car_name': 'Chang-Fisher Model 7', 'brand_id': 5, 'price_per_day': 139}               |\n",
      "|2     |{'car_name': 'Sheppard-Tucker Model 4', 'brand_id': 6, 'price_per_day': 70}             |\n",
      "|3     |{'car_name': 'Faulkner-Howard Model 5', 'brand_id': 3, 'price_per_day': 53}             |\n",
      "|4     |{'car_name': 'Wagner LLC Model 1', 'brand_id': 5, 'price_per_day': 89}                  |\n",
      "|5     |{'car_name': 'Campos PLC Model 4', 'brand_id': 4, 'price_per_day': 112}                 |\n",
      "|6     |{'car_name': 'Archer-Patel Model 2', 'brand_id': 3, 'price_per_day': 55}                |\n",
      "|7     |{'car_name': 'Patrick, Barrera and Collins Model 6', 'brand_id': 6, 'price_per_day': 66}|\n",
      "|8     |{'car_name': 'Jones, Jefferson and Rivera Model 7', 'brand_id': 2, 'price_per_day': 115}|\n",
      "|9     |{'car_name': 'Garcia, Hamilton and Carr Model 5', 'brand_id': 6, 'price_per_day': 137}  |\n",
      "|10    |{'car_name': 'Levy Group Model 9', 'brand_id': 3, 'price_per_day': 93}                  |\n",
      "|11    |{'car_name': 'Grimes-Green Model 8', 'brand_id': 3, 'price_per_day': 150}               |\n",
      "|12    |{'car_name': 'Moon, Davis and Larsen Model 1', 'brand_id': 6, 'price_per_day': 100}     |\n",
      "|13    |{'car_name': 'Summers, Barnett and Smith Model 6', 'brand_id': 4, 'price_per_day': 139} |\n",
      "|14    |{'car_name': 'Clayton-Cook Model 10', 'brand_id': 6, 'price_per_day': 116}              |\n",
      "|15    |{'car_name': 'Nguyen, Harrell and Lee Model 6', 'brand_id': 2, 'price_per_day': 94}     |\n",
      "|16    |{'car_name': 'Walker, Pratt and Thomas Model 9', 'brand_id': 6, 'price_per_day': 192}   |\n",
      "|17    |{'car_name': 'West, Miller and Flores Model 5', 'brand_id': 1, 'price_per_day': 63}     |\n",
      "|18    |{'car_name': 'Bolton, Burns and Turner Model 10', 'brand_id': 6, 'price_per_day': 110}  |\n",
      "|19    |{'car_name': 'Mann-Kelley Model 3', 'brand_id': 2, 'price_per_day': 146}                |\n",
      "|20    |{'car_name': 'Harris, Lloyd and Payne Model 4', 'brand_id': 6, 'price_per_day': 96}     |\n",
      "+------+----------------------------------------------------------------------------------------+\n",
      "only showing top 20 rows\n"
     ]
    }
   ],
   "source": [
    "schema_cars = SparkUtils.generate_schema([(\"car_id\", \"int\"), (\"car_info\", \"string\")])\n",
    "df_cars = spark.read.schema(schema_cars).option(\"header\", True).csv(\"/opt/spark/work-dir/data/car_service/cars\")\n",
    "df_cars.show(truncate=False)"
   ]
  },
  {
   "cell_type": "code",
   "execution_count": 62,
   "id": "50eac1b1",
   "metadata": {},
   "outputs": [
    {
     "name": "stdout",
     "output_type": "stream",
     "text": [
      "+-----------+-------------------------------------------------------------------------+\n",
      "|customer_id|customer_info                                                            |\n",
      "+-----------+-------------------------------------------------------------------------+\n",
      "|1          |{'customer_name': 'Tiffany Riley', 'city': 'Monterrey', 'age': 32}       |\n",
      "|2          |{'customer_name': 'Matthew Davies', 'city': 'Monterrey', 'age': 36}      |\n",
      "|3          |{'customer_name': 'Rebecca Miller', 'city': 'Mexico City', 'age': 30}    |\n",
      "|4          |{'customer_name': 'Katelyn Mccoy', 'city': 'New York', 'age': 34}        |\n",
      "|5          |{'customer_name': 'Dana Dennis', 'city': 'Zapopan', 'age': 26}           |\n",
      "|6          |{'customer_name': 'Daniel Norton', 'city': 'Mexico City', 'age': 34}     |\n",
      "|7          |{'customer_name': 'Robert Garcia', 'city': 'Zapopan', 'age': 47}         |\n",
      "|8          |{'customer_name': 'Michael Williams', 'city': 'Monterrey', 'age': 33}    |\n",
      "|9          |{'customer_name': 'Susan Ferguson', 'city': 'San Francisco', 'age': 41}  |\n",
      "|10         |{'customer_name': 'Alyssa Reid', 'city': 'Mexico City', 'age': 40}       |\n",
      "|11         |{'customer_name': 'Laura Myers', 'city': 'Zapopan', 'age': 50}           |\n",
      "|12         |{'customer_name': 'William Johnson', 'city': 'Monterrey', 'age': 25}     |\n",
      "|13         |{'customer_name': 'Tyler Lopez', 'city': 'Mexico City', 'age': 21}       |\n",
      "|14         |{'customer_name': 'Daniel Owen', 'city': 'Mexico City', 'age': 47}       |\n",
      "|15         |{'customer_name': 'Allison Coleman', 'city': 'Zapopan', 'age': 33}       |\n",
      "|16         |{'customer_name': 'David Walker', 'city': 'Londres', 'age': 33}          |\n",
      "|17         |{'customer_name': 'Hayley White', 'city': 'Monterrey', 'age': 29}        |\n",
      "|18         |{'customer_name': 'Amanda Garcia', 'city': 'Zapopan', 'age': 20}         |\n",
      "|19         |{'customer_name': 'Christina Howard PhD', 'city': 'Monterrey', 'age': 22}|\n",
      "|20         |{'customer_name': 'Tamara Jackson', 'city': 'San Francisco', 'age': 29}  |\n",
      "+-----------+-------------------------------------------------------------------------+\n",
      "only showing top 20 rows\n"
     ]
    }
   ],
   "source": [
    "schema_customers = SparkUtils.generate_schema([(\"customer_id\", \"int\"), (\"customer_info\", \"string\")])\n",
    "df_customers = spark.read.schema(schema_customers).option(\"header\", True).csv(\"/opt/spark/work-dir/data/car_service/customers\")\n",
    "df_customers.show(truncate=False)"
   ]
  },
  {
   "cell_type": "code",
   "execution_count": 63,
   "id": "198592ec",
   "metadata": {},
   "outputs": [
    {
     "name": "stdout",
     "output_type": "stream",
     "text": [
      "+---------+--------------------------------------------------+\n",
      "|rental_id|rental_info                                       |\n",
      "+---------+--------------------------------------------------+\n",
      "|11891    |{'car_id': 21, 'customer_id': 71, 'agency_id': 1} |\n",
      "|11892    |{'car_id': 11, 'customer_id': 52, 'agency_id': 2} |\n",
      "|11893    |{'car_id': 22, 'customer_id': 116, 'agency_id': 4}|\n",
      "|11894    |{'car_id': 5, 'customer_id': 107, 'agency_id': 1} |\n",
      "|11895    |{'car_id': 4, 'customer_id': 53, 'agency_id': 4}  |\n",
      "|11896    |{'car_id': 8, 'customer_id': 131, 'agency_id': 2} |\n",
      "|11897    |{'car_id': 23, 'customer_id': 66, 'agency_id': 3} |\n",
      "|11898    |{'car_id': 24, 'customer_id': 60, 'agency_id': 4} |\n",
      "|11899    |{'car_id': 27, 'customer_id': 92, 'agency_id': 2} |\n",
      "|11900    |{'car_id': 3, 'customer_id': 40, 'agency_id': 4}  |\n",
      "|11901    |{'car_id': 3, 'customer_id': 35, 'agency_id': 1}  |\n",
      "|11902    |{'car_id': 3, 'customer_id': 72, 'agency_id': 1}  |\n",
      "|11903    |{'car_id': 29, 'customer_id': 58, 'agency_id': 3} |\n",
      "|11904    |{'car_id': 3, 'customer_id': 131, 'agency_id': 4} |\n",
      "|11905    |{'car_id': 27, 'customer_id': 10, 'agency_id': 2} |\n",
      "|11906    |{'car_id': 12, 'customer_id': 40, 'agency_id': 1} |\n",
      "|11907    |{'car_id': 25, 'customer_id': 53, 'agency_id': 3} |\n",
      "|11908    |{'car_id': 14, 'customer_id': 153, 'agency_id': 4}|\n",
      "|11909    |{'car_id': 24, 'customer_id': 96, 'agency_id': 4} |\n",
      "|11910    |{'car_id': 24, 'customer_id': 151, 'agency_id': 4}|\n",
      "+---------+--------------------------------------------------+\n",
      "only showing top 20 rows\n"
     ]
    }
   ],
   "source": [
    "schema_rentals = SparkUtils.generate_schema([(\"rental_id\", \"int\"),(\"rental_info\", \"string\")])\n",
    "df_rentals = spark.read.schema(schema_rentals).option(\"header\", True).csv(\"/opt/spark/work-dir/data/car_service/rentals\")\n",
    "df_rentals.show(truncate=False)\n"
   ]
  },
  {
   "cell_type": "markdown",
   "id": "3677aff1",
   "metadata": {},
   "source": [
    "# Json Colums"
   ]
  },
  {
   "cell_type": "code",
   "execution_count": 64,
   "id": "72b39b26",
   "metadata": {},
   "outputs": [
    {
     "name": "stdout",
     "output_type": "stream",
     "text": [
      "+---------+-------------+-------------+\n",
      "|agency_id|agency_name  |city         |\n",
      "+---------+-------------+-------------+\n",
      "|1        |NYC Rentals  |New York     |\n",
      "|2        |LA Car Rental|Londres      |\n",
      "|3        |Zapopan Auto |Zapopan      |\n",
      "|4        |SF Cars      |San Francisco|\n",
      "|5        |Mexico Cars  |Mexico City  |\n",
      "+---------+-------------+-------------+\n",
      "\n"
     ]
    }
   ],
   "source": [
    "from pyspark.sql.functions import get_json_object\n",
    "agency_df = df_agencies.withColumn(\"agency_name\",get_json_object(\"agency_info\",\"$.agency_name\")) \\\n",
    "    .withColumn(\"city\",get_json_object(\"agency_info\",\"$.city\")) \n",
    "agency_df = agency_df.drop(\"agency_info\")\n",
    "\n",
    "agency_df.show(truncate=False)"
   ]
  },
  {
   "cell_type": "code",
   "execution_count": 65,
   "id": "38f01aab",
   "metadata": {},
   "outputs": [
    {
     "name": "stdout",
     "output_type": "stream",
     "text": [
      "+--------+-------------+-------+\n",
      "|brand_id|brand_name   |country|\n",
      "+--------+-------------+-------+\n",
      "|1       |Mercedes-Benz|Germany|\n",
      "|2       |BMW          |Germany|\n",
      "|3       |Audi         |Germany|\n",
      "|4       |Ford         |US     |\n",
      "|5       |BYD          |China  |\n",
      "|6       |Honda        |Japan  |\n",
      "|7       |Toyota       |Japan  |\n",
      "+--------+-------------+-------+\n",
      "\n"
     ]
    }
   ],
   "source": [
    "brands_df = df_brands.withColumn(\"brand_name\",get_json_object(\"brand_infos\",\"$.brand_name\")) \\\n",
    "    .withColumn(\"country\",get_json_object(\"brand_infos\",\"$.country\"))\n",
    "brands_df = brands_df.select(\"brand_id\",\"brand_name\",\"country\")\n",
    "brands_df.show(truncate=False)"
   ]
  },
  {
   "cell_type": "code",
   "execution_count": 66,
   "id": "b4afe498",
   "metadata": {},
   "outputs": [
    {
     "name": "stdout",
     "output_type": "stream",
     "text": [
      "+------+------------------------------------+--------+-------------+\n",
      "|car_id|car_name                            |brand_id|price_per_day|\n",
      "+------+------------------------------------+--------+-------------+\n",
      "|1     |Chang-Fisher Model 7                |5       |139          |\n",
      "|2     |Sheppard-Tucker Model 4             |6       |70           |\n",
      "|3     |Faulkner-Howard Model 5             |3       |53           |\n",
      "|4     |Wagner LLC Model 1                  |5       |89           |\n",
      "|5     |Campos PLC Model 4                  |4       |112          |\n",
      "|6     |Archer-Patel Model 2                |3       |55           |\n",
      "|7     |Patrick, Barrera and Collins Model 6|6       |66           |\n",
      "|8     |Jones, Jefferson and Rivera Model 7 |2       |115          |\n",
      "|9     |Garcia, Hamilton and Carr Model 5   |6       |137          |\n",
      "|10    |Levy Group Model 9                  |3       |93           |\n",
      "|11    |Grimes-Green Model 8                |3       |150          |\n",
      "|12    |Moon, Davis and Larsen Model 1      |6       |100          |\n",
      "|13    |Summers, Barnett and Smith Model 6  |4       |139          |\n",
      "|14    |Clayton-Cook Model 10               |6       |116          |\n",
      "|15    |Nguyen, Harrell and Lee Model 6     |2       |94           |\n",
      "|16    |Walker, Pratt and Thomas Model 9    |6       |192          |\n",
      "|17    |West, Miller and Flores Model 5     |1       |63           |\n",
      "|18    |Bolton, Burns and Turner Model 10   |6       |110          |\n",
      "|19    |Mann-Kelley Model 3                 |2       |146          |\n",
      "|20    |Harris, Lloyd and Payne Model 4     |6       |96           |\n",
      "+------+------------------------------------+--------+-------------+\n",
      "only showing top 20 rows\n"
     ]
    }
   ],
   "source": [
    "cars_df = df_cars.withColumn(\"car_name\",get_json_object(\"car_info\",\"$.car_name\")) \\\n",
    "    .withColumn(\"brand_id\",get_json_object(\"car_info\",\"$.brand_id\").cast(\"int\")) \\\n",
    "    .withColumn(\"price_per_day\",get_json_object(\"car_info\",\"$.price_per_day\").cast(\"int\")) \n",
    "cars_df = cars_df.select(\"car_id\",\"car_name\",\"brand_id\",\"price_per_day\")\n",
    "cars_df.show(truncate=False)"
   ]
  },
  {
   "cell_type": "code",
   "execution_count": 67,
   "id": "8a131dde",
   "metadata": {},
   "outputs": [
    {
     "name": "stdout",
     "output_type": "stream",
     "text": [
      "+-----------+--------------------+---+-------------+\n",
      "|customer_id|customer_name       |age|city         |\n",
      "+-----------+--------------------+---+-------------+\n",
      "|1          |Tiffany Riley       |32 |Monterrey    |\n",
      "|2          |Matthew Davies      |36 |Monterrey    |\n",
      "|3          |Rebecca Miller      |30 |Mexico City  |\n",
      "|4          |Katelyn Mccoy       |34 |New York     |\n",
      "|5          |Dana Dennis         |26 |Zapopan      |\n",
      "|6          |Daniel Norton       |34 |Mexico City  |\n",
      "|7          |Robert Garcia       |47 |Zapopan      |\n",
      "|8          |Michael Williams    |33 |Monterrey    |\n",
      "|9          |Susan Ferguson      |41 |San Francisco|\n",
      "|10         |Alyssa Reid         |40 |Mexico City  |\n",
      "|11         |Laura Myers         |50 |Zapopan      |\n",
      "|12         |William Johnson     |25 |Monterrey    |\n",
      "|13         |Tyler Lopez         |21 |Mexico City  |\n",
      "|14         |Daniel Owen         |47 |Mexico City  |\n",
      "|15         |Allison Coleman     |33 |Zapopan      |\n",
      "|16         |David Walker        |33 |Londres      |\n",
      "|17         |Hayley White        |29 |Monterrey    |\n",
      "|18         |Amanda Garcia       |20 |Zapopan      |\n",
      "|19         |Christina Howard PhD|22 |Monterrey    |\n",
      "|20         |Tamara Jackson      |29 |San Francisco|\n",
      "+-----------+--------------------+---+-------------+\n",
      "only showing top 20 rows\n"
     ]
    }
   ],
   "source": [
    "customer_df = df_customers.withColumn(\"customer_name\",get_json_object(\"customer_info\",\"$.customer_name\")) \\\n",
    "    .withColumn(\"age\",get_json_object(\"customer_info\",\"$.age\").cast(\"int\")) \\\n",
    "    .withColumn(\"city\",get_json_object(\"customer_info\",\"$.city\"))\n",
    "customer_df = customer_df.select(\"customer_id\",\"customer_name\",\"age\",\"city\")\n",
    "\n",
    "customer_df.show(truncate=False)"
   ]
  },
  {
   "cell_type": "code",
   "execution_count": 68,
   "id": "d2e7b7e9",
   "metadata": {},
   "outputs": [
    {
     "name": "stdout",
     "output_type": "stream",
     "text": [
      "+---------+------+-----------+---------+\n",
      "|rental_id|car_id|customer_id|agency_id|\n",
      "+---------+------+-----------+---------+\n",
      "|11891    |21    |71         |1        |\n",
      "|11892    |11    |52         |2        |\n",
      "|11893    |22    |116        |4        |\n",
      "|11894    |5     |107        |1        |\n",
      "|11895    |4     |53         |4        |\n",
      "|11896    |8     |131        |2        |\n",
      "|11897    |23    |66         |3        |\n",
      "|11898    |24    |60         |4        |\n",
      "|11899    |27    |92         |2        |\n",
      "|11900    |3     |40         |4        |\n",
      "|11901    |3     |35         |1        |\n",
      "|11902    |3     |72         |1        |\n",
      "|11903    |29    |58         |3        |\n",
      "|11904    |3     |131        |4        |\n",
      "|11905    |27    |10         |2        |\n",
      "|11906    |12    |40         |1        |\n",
      "|11907    |25    |53         |3        |\n",
      "|11908    |14    |153        |4        |\n",
      "|11909    |24    |96         |4        |\n",
      "|11910    |24    |151        |4        |\n",
      "+---------+------+-----------+---------+\n",
      "only showing top 20 rows\n"
     ]
    }
   ],
   "source": [
    "rental_df = df_rentals.withColumn(\"car_id\",get_json_object(\"rental_info\",\"$.car_id\").cast(\"int\")) \\\n",
    "    .withColumn(\"customer_id\",get_json_object(\"rental_info\",\"$.customer_id\").cast(\"int\")) \\\n",
    "    .withColumn(\"agency_id\",get_json_object(\"rental_info\",\"$.agency_id\").cast(\"int\"))\n",
    "rental_df = rental_df.select(\"rental_id\",\"car_id\",\"customer_id\",\"agency_id\")\n",
    "rental_df.show(truncate=False)"
   ]
  },
  {
   "cell_type": "markdown",
   "id": "00f87cf7",
   "metadata": {},
   "source": [
    "# join data"
   ]
  },
  {
   "cell_type": "code",
   "execution_count": 69,
   "id": "bd65f081",
   "metadata": {},
   "outputs": [],
   "source": [
    "data_car = cars_df.select(\"car_id\",\"car_name\")\n",
    "data_customer = customer_df.select(\"customer_id\",\"customer_name\")\n",
    "data_agency = agency_df.select(\"agency_id\",\"agency_name\")\n",
    "# data_car.show(truncate=False)\n",
    "#data_customer.show(truncate=False)\n",
    "# data_agency.show(truncate=False)\n"
   ]
  },
  {
   "cell_type": "code",
   "execution_count": 70,
   "id": "8e66ec90",
   "metadata": {},
   "outputs": [
    {
     "name": "stdout",
     "output_type": "stream",
     "text": [
      "+---------+-----------------------------------+---------------+-------------+\n",
      "|rental_id|car_name                           |customer_name  |agency_name  |\n",
      "+---------+-----------------------------------+---------------+-------------+\n",
      "|11891    |Wallace-Carlson Model 9            |Margaret Jones |NYC Rentals  |\n",
      "|11892    |Grimes-Green Model 8               |Albert Williams|LA Car Rental|\n",
      "|11893    |Stewart-Allen Model 5              |Caleb Fleming  |SF Cars      |\n",
      "|11894    |Campos PLC Model 4                 |Andrew Butler  |NYC Rentals  |\n",
      "|11895    |Wagner LLC Model 1                 |Kristin Potts  |SF Cars      |\n",
      "|11896    |Jones, Jefferson and Rivera Model 7|Jeremy Parks   |LA Car Rental|\n",
      "|11897    |Lopez and Sons Model 9             |Terry Wells    |Zapopan Auto |\n",
      "|11898    |Salazar Ltd Model 8                |Marc Williams  |SF Cars      |\n",
      "|11899    |Villanueva PLC Model 7             |Danny Williams |LA Car Rental|\n",
      "|11900    |Faulkner-Howard Model 5            |Eric Owens PhD |SF Cars      |\n",
      "|11901    |Faulkner-Howard Model 5            |Laura Perry    |NYC Rentals  |\n",
      "|11902    |Faulkner-Howard Model 5            |Paul Brown     |NYC Rentals  |\n",
      "|11903    |Atkinson Ltd Model 10              |Alexa Hernandez|Zapopan Auto |\n",
      "|11904    |Faulkner-Howard Model 5            |Jeremy Parks   |SF Cars      |\n",
      "|11905    |Villanueva PLC Model 7             |Alyssa Reid    |LA Car Rental|\n",
      "|11906    |Moon, Davis and Larsen Model 1     |Eric Owens PhD |NYC Rentals  |\n",
      "|11907    |Alvarez-Davis Model 3              |Kristin Potts  |Zapopan Auto |\n",
      "|11908    |Clayton-Cook Model 10              |Amy Ortiz      |SF Cars      |\n",
      "|11909    |Salazar Ltd Model 8                |Laura Gregory  |SF Cars      |\n",
      "|11910    |Salazar Ltd Model 8                |Jay Walsh      |SF Cars      |\n",
      "+---------+-----------------------------------+---------------+-------------+\n",
      "only showing top 20 rows\n"
     ]
    }
   ],
   "source": [
    "info = rental_df.join(data_car, rental_df.car_id == data_car.car_id)\n",
    "info = info.join(data_customer, info.customer_id == data_customer.customer_id)\n",
    "info = info.join(data_agency, info.agency_id == data_agency.agency_id)\n",
    "\n",
    "final = info.select(\"rental_id\",\"car_name\",\"customer_name\",\"agency_name\")\n",
    "final.show(truncate=False)"
   ]
  },
  {
   "cell_type": "markdown",
   "id": "01291c66",
   "metadata": {},
   "source": [
    "# the lazy way (optimising and not using show until the end for it to do it in only one action) "
   ]
  },
  {
   "cell_type": "code",
   "execution_count": 71,
   "id": "4147e9ab",
   "metadata": {},
   "outputs": [
    {
     "name": "stdout",
     "output_type": "stream",
     "text": [
      "+---------+-----------------------------------+---------------+-------------+\n",
      "|rental_id|car_name                           |customer_name  |agency_name  |\n",
      "+---------+-----------------------------------+---------------+-------------+\n",
      "|11891    |Wallace-Carlson Model 9            |Margaret Jones |NYC Rentals  |\n",
      "|11892    |Grimes-Green Model 8               |Albert Williams|LA Car Rental|\n",
      "|11893    |Stewart-Allen Model 5              |Caleb Fleming  |SF Cars      |\n",
      "|11894    |Campos PLC Model 4                 |Andrew Butler  |NYC Rentals  |\n",
      "|11895    |Wagner LLC Model 1                 |Kristin Potts  |SF Cars      |\n",
      "|11896    |Jones, Jefferson and Rivera Model 7|Jeremy Parks   |LA Car Rental|\n",
      "|11897    |Lopez and Sons Model 9             |Terry Wells    |Zapopan Auto |\n",
      "|11898    |Salazar Ltd Model 8                |Marc Williams  |SF Cars      |\n",
      "|11899    |Villanueva PLC Model 7             |Danny Williams |LA Car Rental|\n",
      "|11900    |Faulkner-Howard Model 5            |Eric Owens PhD |SF Cars      |\n",
      "|11901    |Faulkner-Howard Model 5            |Laura Perry    |NYC Rentals  |\n",
      "|11902    |Faulkner-Howard Model 5            |Paul Brown     |NYC Rentals  |\n",
      "|11903    |Atkinson Ltd Model 10              |Alexa Hernandez|Zapopan Auto |\n",
      "|11904    |Faulkner-Howard Model 5            |Jeremy Parks   |SF Cars      |\n",
      "|11905    |Villanueva PLC Model 7             |Alyssa Reid    |LA Car Rental|\n",
      "|11906    |Moon, Davis and Larsen Model 1     |Eric Owens PhD |NYC Rentals  |\n",
      "|11907    |Alvarez-Davis Model 3              |Kristin Potts  |Zapopan Auto |\n",
      "|11908    |Clayton-Cook Model 10              |Amy Ortiz      |SF Cars      |\n",
      "|11909    |Salazar Ltd Model 8                |Laura Gregory  |SF Cars      |\n",
      "|11910    |Salazar Ltd Model 8                |Jay Walsh      |SF Cars      |\n",
      "+---------+-----------------------------------+---------------+-------------+\n",
      "only showing top 20 rows\n"
     ]
    }
   ],
   "source": [
    "lazy_agency = df_agencies.withColumn(\"agency_name\",get_json_object(\"agency_info\",\"$.agency_name\"))\\\n",
    "    .select(\"agency_id\",\"agency_name\")\n",
    "\n",
    "lazy_car = df_cars.withColumn(\"car_name\",get_json_object(\"car_info\",\"$.car_name\"))\\\n",
    "    .select(\"car_id\",\"car_name\")\n",
    "\n",
    "lazy_customer = df_customers.withColumn(\"customer_name\",get_json_object(\"customer_info\",\"$.customer_name\"))\\\n",
    "    .select(\"customer_id\",\"customer_name\")\n",
    "\n",
    "lazy_rental = df_rentals.withColumn(\"car_id\",get_json_object(\"rental_info\",\"$.car_id\").cast(\"int\")) \\\n",
    "    .withColumn(\"customer_id\",get_json_object(\"rental_info\",\"$.customer_id\").cast(\"int\")) \\\n",
    "    .withColumn(\"agency_id\",get_json_object(\"rental_info\",\"$.agency_id\").cast(\"int\"))\\\n",
    "    .select(\"rental_id\",\"car_id\",\"customer_id\",\"agency_id\")\n",
    "\n",
    "final_lazy = lazy_rental.join(lazy_car, lazy_rental.car_id == lazy_car.car_id) \\\n",
    "    .join(lazy_customer, lazy_rental.customer_id == lazy_customer.customer_id) \\\n",
    "    .join(lazy_agency, lazy_rental.agency_id == lazy_agency.agency_id)\\\n",
    "    .select(\"rental_id\",\"car_name\",\"customer_name\",\"agency_name\")\n",
    "\n",
    "#lazy_agency.show(truncate=False)\n",
    "#lazy_car.show(truncate=False)\n",
    "#lazy_customer.show(truncate=False)\n",
    "#lazy_rental.show(truncate=False)\n",
    "final_lazy.show(truncate=False)\n",
    "        "
   ]
  },
  {
   "cell_type": "code",
   "execution_count": 72,
   "id": "9078a7dd",
   "metadata": {},
   "outputs": [],
   "source": [
    "sc.stop()"
   ]
  }
 ],
 "metadata": {
  "kernelspec": {
   "display_name": "Python 3 (ipykernel)",
   "language": "python",
   "name": "python3"
  },
  "language_info": {
   "codemirror_mode": {
    "name": "ipython",
    "version": 3
   },
   "file_extension": ".py",
   "mimetype": "text/x-python",
   "name": "python",
   "nbconvert_exporter": "python",
   "pygments_lexer": "ipython3",
   "version": "3.10.12"
  }
 },
 "nbformat": 4,
 "nbformat_minor": 5
}
