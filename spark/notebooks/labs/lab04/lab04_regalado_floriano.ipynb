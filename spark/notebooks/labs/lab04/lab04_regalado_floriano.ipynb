{
 "cells": [
  {
   "cell_type": "markdown",
   "id": "b92d9622",
   "metadata": {},
   "source": [
    "# <center> <img src=\"../../img/ITESOLogo.png\" alt=\"ITESO\" width=\"480\" height=\"130\"> </center>\n",
    "# <center> **Departamento de Electrónica, Sistemas e Informática** </center>\n",
    "---\n",
    "## <center> Computer Systems Engineering  </center>\n",
    "---\n",
    "### <center> Big Data Processing </center>\n",
    "---\n",
    "#### <center> **Autumn 2025** </center>\n",
    "---\n",
    "\n",
    "**Lab 04**: Data Unions & Joins Pipeline\n",
    "\n",
    "**Date**: September 23rd 2025\n",
    "\n",
    "**Student Name**:\n",
    "\n",
    "**Professor**: Pablo Camarillo Ramirez"
   ]
  },
  {
   "cell_type": "code",
   "execution_count": 1,
   "id": "ed17a0b0",
   "metadata": {},
   "outputs": [
    {
     "name": "stderr",
     "output_type": "stream",
     "text": [
      "WARNING: Using incubator modules: jdk.incubator.vector\n",
      "Using Spark's default log4j profile: org/apache/spark/log4j2-defaults.properties\n",
      "Setting default log level to \"WARN\".\n",
      "To adjust logging level use sc.setLogLevel(newLevel). For SparkR, use setLogLevel(newLevel).\n",
      "25/09/26 14:18:53 WARN NativeCodeLoader: Unable to load native-hadoop library for your platform... using builtin-java classes where applicable\n"
     ]
    }
   ],
   "source": [
    "import findspark\n",
    "findspark.init()\n",
    "\n",
    "from pyspark.sql import SparkSession\n",
    "\n",
    "spark = SparkSession.builder \\\n",
    "    .appName(\"Examples on SparkSQL\") \\\n",
    "    .master(\"spark://ffa1e8b58cd6:7077\") \\\n",
    "    .config(\"spark.ui.port\", \"4040\") \\\n",
    "    .getOrCreate()\n",
    "\n",
    "sc = spark.sparkContext\n",
    "sc.setLogLevel(\"ERROR\")"
   ]
  },
  {
   "cell_type": "code",
   "execution_count": 2,
   "id": "8ba8e079-93d6-4bc1-812f-892f2b69abef",
   "metadata": {},
   "outputs": [],
   "source": [
    "from regalado_floriano.spark_utils import SparkUtils"
   ]
  },
  {
   "cell_type": "code",
   "execution_count": 3,
   "id": "880a31f8-b492-4bc1-92fe-9de26e7ae99a",
   "metadata": {},
   "outputs": [],
   "source": [
    "from pyspark.sql.functions import col, from_json, get_json_object"
   ]
  },
  {
   "cell_type": "code",
   "execution_count": 4,
   "id": "a93cd621",
   "metadata": {},
   "outputs": [],
   "source": [
    "# Build schema\n",
    "# Import your module\n",
    "#prob lo haria diferente en el futuro\n",
    "schema_agencies = SparkUtils.generate_schema([(\"agency_id\", \"int\"), (\"agency_info\", \"string\")])\n",
    "schema_brands = SparkUtils.generate_schema([(\"brand_id\", \"int\"), (\"brand_info\", \"string\")])\n",
    "schema_cars = SparkUtils.generate_schema([(\"car_id\", \"int\"), (\"car_info\", \"string\")])\n",
    "schema_customers = SparkUtils.generate_schema([(\"customer_id\", \"int\"), (\"customer_info\", \"string\")])\n",
    "schema_rentals = SparkUtils.generate_schema([(\"rental_id\", \"int\"), (\"rental_info\", \"string\")])\n",
    "\n",
    "\n",
    "df_agencies = spark.read.schema(schema_agencies).option(\"header\", True).csv(\"/opt/spark/work-dir/data/car_service/agencies\")\n",
    "df_brands = spark.read.schema(schema_brands).option(\"header\", True).csv(\"/opt/spark/work-dir/data/car_service/brands\")\n",
    "df_cars = spark.read.schema(schema_cars).option(\"header\", True).csv(\"/opt/spark/work-dir/data/car_service/cars\")\n",
    "df_customers = spark.read.schema(schema_customers).option(\"header\", True).csv(\"/opt/spark/work-dir/data/car_service/customers\")\n",
    "df_rentals = spark.read.schema(schema_rentals).option(\"header\", True).csv(\"/opt/spark/work-dir/data/car_service/rentals\")\n",
    "\n"
   ]
  },
  {
   "cell_type": "code",
   "execution_count": 5,
   "id": "9078a7dd",
   "metadata": {},
   "outputs": [],
   "source": [
    "df_agency_names = df_agencies.select(df_agencies.agency_id, get_json_object( df_agencies.agency_info, \"$.agency_name\").alias(\"agency_name\") )\n",
    "df_car_names = df_cars.select(df_cars.car_id, get_json_object( df_cars.car_info, \"$.car_name\").alias(\"car_name\") )\n",
    "df_customer_names = df_customers.select(df_customers.customer_id, get_json_object(df_customers.customer_info, \"$.customer_name\").alias(\"customer_name\"))\n",
    "df_rental_keys = df_rentals.select(df_rentals.rental_id.alias(\"rental_id\"), \n",
    "                                   get_json_object(df_rentals.rental_info, \"$.car_id\").alias(\"car_id\"),  \n",
    "                                    get_json_object(df_rentals.rental_info, \"$.customer_id\").alias(\"customer_id\"),\n",
    "                                   get_json_object(df_rentals.rental_info, \"$.agency_id\").alias(\"agency_id\")\n",
    "                                  )\n",
    "\n"
   ]
  },
  {
   "cell_type": "code",
   "execution_count": 6,
   "id": "9739071a-99d4-4b69-ab7c-c5e509c60a88",
   "metadata": {},
   "outputs": [],
   "source": [
    "r1 = df_rental_keys.join( df_car_names, df_rental_keys[\"car_id\"] == df_car_names[\"car_id\"] , \"left\")\n",
    "r1 = r1.select( r1.rental_id, r1.customer_id, r1.agency_id, r1.car_name)\n",
    "r2 = r1.join(df_customer_names, r1[\"customer_id\"] == df_customer_names[\"customer_id\"], \"left\")\n",
    "r2 = r2.select( r2.rental_id, r2.customer_name, r2.agency_id, r2.car_name)\n",
    "r3 = r2.join(df_agency_names, r2[\"agency_id\"] == df_agency_names[\"agency_id\"], \"left\")\n",
    "r3 = r3.select( r3.rental_id, r3.car_name, r3.agency_name, r3.customer_name )\n",
    "\n"
   ]
  },
  {
   "cell_type": "code",
   "execution_count": null,
   "id": "563d68ca-545d-45e5-bcf6-14c2d4fc9d0d",
   "metadata": {},
   "outputs": [],
   "source": []
  },
  {
   "cell_type": "code",
   "execution_count": 7,
   "id": "26e1f68d-eb39-46cd-be01-703458e7683a",
   "metadata": {},
   "outputs": [
    {
     "name": "stderr",
     "output_type": "stream",
     "text": [
      "                                                                                "
     ]
    },
    {
     "name": "stdout",
     "output_type": "stream",
     "text": [
      "+---------+--------------------+-------------+---------------+\n",
      "|rental_id|            car_name|  agency_name|  customer_name|\n",
      "+---------+--------------------+-------------+---------------+\n",
      "|    11891|Wallace-Carlson M...|  NYC Rentals| Margaret Jones|\n",
      "|    11892|Grimes-Green Model 8|LA Car Rental|Albert Williams|\n",
      "|    11893|Stewart-Allen Mod...|      SF Cars|  Caleb Fleming|\n",
      "|    11894|  Campos PLC Model 4|  NYC Rentals|  Andrew Butler|\n",
      "|    11895|  Wagner LLC Model 1|      SF Cars|  Kristin Potts|\n",
      "|    11896|Jones, Jefferson ...|LA Car Rental|   Jeremy Parks|\n",
      "|    11897|Lopez and Sons Mo...| Zapopan Auto|    Terry Wells|\n",
      "|    11898| Salazar Ltd Model 8|      SF Cars|  Marc Williams|\n",
      "|    11899|Villanueva PLC Mo...|LA Car Rental| Danny Williams|\n",
      "|    11900|Faulkner-Howard M...|      SF Cars| Eric Owens PhD|\n",
      "|    11901|Faulkner-Howard M...|  NYC Rentals|    Laura Perry|\n",
      "|    11902|Faulkner-Howard M...|  NYC Rentals|     Paul Brown|\n",
      "|    11903|Atkinson Ltd Mode...| Zapopan Auto|Alexa Hernandez|\n",
      "|    11904|Faulkner-Howard M...|      SF Cars|   Jeremy Parks|\n",
      "|    11905|Villanueva PLC Mo...|LA Car Rental|    Alyssa Reid|\n",
      "|    11906|Moon, Davis and L...|  NYC Rentals| Eric Owens PhD|\n",
      "|    11907|Alvarez-Davis Mod...| Zapopan Auto|  Kristin Potts|\n",
      "|    11908|Clayton-Cook Mode...|      SF Cars|      Amy Ortiz|\n",
      "|    11909| Salazar Ltd Model 8|      SF Cars|  Laura Gregory|\n",
      "|    11910| Salazar Ltd Model 8|      SF Cars|      Jay Walsh|\n",
      "+---------+--------------------+-------------+---------------+\n",
      "only showing top 20 rows\n"
     ]
    }
   ],
   "source": [
    "r3.show()"
   ]
  },
  {
   "cell_type": "code",
   "execution_count": 52,
   "id": "35025d81-03eb-41c9-a07e-f02778cf0c6a",
   "metadata": {},
   "outputs": [],
   "source": [
    "r3.write \\\n",
    ".mode(\"overwrite\") \\\n",
    ".csv(\"./\" + \"car_service/output/csv\")"
   ]
  },
  {
   "cell_type": "code",
   "execution_count": 58,
   "id": "668dfb4a-22a1-4b05-90b2-dc87fd69effa",
   "metadata": {},
   "outputs": [],
   "source": [
    "r3.coalesce(1).write \\\n",
    ".mode(\"overwrite\") \\\n",
    "  .option(\"header\", \"true\") \\\n",
    ".csv(\"./\" + \"car_service/output/csv\")"
   ]
  },
  {
   "cell_type": "code",
   "execution_count": null,
   "id": "2476f2a6-f005-434e-b166-1c7cde237846",
   "metadata": {},
   "outputs": [],
   "source": [
    " sc.stop()"
   ]
  },
  {
   "cell_type": "code",
   "execution_count": 59,
   "id": "f5d7ed33-5113-4a7c-9623-4c258e385aa2",
   "metadata": {},
   "outputs": [
    {
     "name": "stdout",
     "output_type": "stream",
     "text": [
      "car_service/output/:\n",
      "csv  parquet\n",
      "\n",
      "car_service/output/csv:\n",
      "part-00000-6971c963-1dc8-4203-bb13-6ac9359ea7ba-c000.csv  _SUCCESS\n",
      "\n",
      "car_service/output/parquet:\n",
      "part-00000-b60c493a-99ea-42b4-85a5-1e45be80c0a8-c000.snappy.parquet  _SUCCESS\n",
      "part-00001-b60c493a-99ea-42b4-85a5-1e45be80c0a8-c000.snappy.parquet\n"
     ]
    }
   ],
   "source": [
    "!ls car_service/output/ -R"
   ]
  },
  {
   "cell_type": "code",
   "execution_count": 61,
   "id": "b2a48ac2-be9a-40cd-8c4b-7978f105eba4",
   "metadata": {},
   "outputs": [
    {
     "name": "stdout",
     "output_type": "stream",
     "text": [
      "/opt/spark/work-dir/labs/lab04\n"
     ]
    }
   ],
   "source": [
    "!pwd\n"
   ]
  },
  {
   "cell_type": "code",
   "execution_count": 63,
   "id": "03bb52cd-86b9-4334-965b-ede3c85e2c29",
   "metadata": {},
   "outputs": [
    {
     "name": "stdout",
     "output_type": "stream",
     "text": [
      "artifacts    lab04_regalado_floriano.ipynb  lab04_template.ipynb\n",
      "car_service  lab04ReportBi.png\n"
     ]
    }
   ],
   "source": [
    "!ls"
   ]
  },
  {
   "cell_type": "markdown",
   "id": "d8376c91-16f7-46bd-bf0e-a75964241324",
   "metadata": {},
   "source": [
    "# <center> <img src=\"../../img/lab04ReportBi.png\" alt=\"ITESO\" width=\"480\" height=\"130\"> </center> "
   ]
  },
  {
   "cell_type": "code",
   "execution_count": null,
   "id": "d3d5ec03-dc39-48b6-95d3-3cf7c142a135",
   "metadata": {},
   "outputs": [],
   "source": []
  }
 ],
 "metadata": {
  "kernelspec": {
   "display_name": "Python 3 (ipykernel)",
   "language": "python",
   "name": "python3"
  },
  "language_info": {
   "codemirror_mode": {
    "name": "ipython",
    "version": 3
   },
   "file_extension": ".py",
   "mimetype": "text/x-python",
   "name": "python",
   "nbconvert_exporter": "python",
   "pygments_lexer": "ipython3",
   "version": "3.10.12"
  }
 },
 "nbformat": 4,
 "nbformat_minor": 5
}
