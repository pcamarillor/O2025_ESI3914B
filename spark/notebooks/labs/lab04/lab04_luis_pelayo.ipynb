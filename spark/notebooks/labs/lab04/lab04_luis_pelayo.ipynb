{
 "cells": [
  {
   "cell_type": "markdown",
   "id": "b92d9622",
   "metadata": {},
   "source": [
    "# <center> <img src=\"../../img/ITESOLogo.png\" alt=\"ITESO\" width=\"480\" height=\"130\"> </center>\n",
    "# <center> **Departamento de Electrónica, Sistemas e Informática** </center>\n",
    "---\n",
    "## <center> Computer Systems Engineering  </center>\n",
    "---\n",
    "### <center> Big Data Processing </center>\n",
    "---\n",
    "#### <center> **Autumn 2025** </center>\n",
    "---\n",
    "\n",
    "**Lab 04**: Data Unions & Joins Pipeline\n",
    "\n",
    "**Date**: September 23rd 2025\n",
    "\n",
    "**Student Name**: Luis Antonio Pelayo Sierra\n",
    "\n",
    "**Professor**: Pablo Camarillo Ramirez"
   ]
  },
  {
   "cell_type": "code",
   "execution_count": 1,
   "id": "ed17a0b0",
   "metadata": {},
   "outputs": [
    {
     "name": "stderr",
     "output_type": "stream",
     "text": [
      "WARNING: Using incubator modules: jdk.incubator.vector\n",
      "Using Spark's default log4j profile: org/apache/spark/log4j2-defaults.properties\n",
      "Setting default log level to \"WARN\".\n",
      "To adjust logging level use sc.setLogLevel(newLevel). For SparkR, use setLogLevel(newLevel).\n",
      "25/09/25 22:42:01 WARN NativeCodeLoader: Unable to load native-hadoop library for your platform... using builtin-java classes where applicable\n"
     ]
    }
   ],
   "source": [
    "import findspark\n",
    "findspark.init()\n",
    "\n",
    "from pyspark.sql import SparkSession\n",
    "\n",
    "spark = SparkSession.builder \\\n",
    "    .appName(\"Examples on SparkSQL\") \\\n",
    "    .master(\"spark://91ddd48de745:7077\") \\\n",
    "    .config(\"spark.ui.port\", \"4040\") \\\n",
    "    .getOrCreate()\n",
    "\n",
    "sc = spark.sparkContext\n",
    "sc.setLogLevel(\"ERROR\")"
   ]
  },
  {
   "cell_type": "code",
   "execution_count": 2,
   "id": "906761d4-d038-4208-a0b6-c22124d4b3cd",
   "metadata": {},
   "outputs": [
    {
     "name": "stdout",
     "output_type": "stream",
     "text": [
      "agencies  brands  cars\tcar_service.zip  customers  rentals\n"
     ]
    }
   ],
   "source": [
    "!ls /opt/spark/work-dir/data/car_service"
   ]
  },
  {
   "cell_type": "code",
   "execution_count": 11,
   "id": "a93cd621",
   "metadata": {},
   "outputs": [
    {
     "name": "stdout",
     "output_type": "stream",
     "text": [
      "+---------+-----------------------------------------------------+\n",
      "|agency_id|agency_info                                          |\n",
      "+---------+-----------------------------------------------------+\n",
      "|1        |{'agency_name': 'NYC Rentals', 'city': 'New York'}   |\n",
      "|2        |{'agency_name': 'LA Car Rental', 'city': 'Londres'}  |\n",
      "|3        |{'agency_name': 'Zapopan Auto', 'city': 'Zapopan'}   |\n",
      "|4        |{'agency_name': 'SF Cars', 'city': 'San Francisco'}  |\n",
      "|5        |{'agency_name': 'Mexico Cars', 'city': 'Mexico City'}|\n",
      "+---------+-----------------------------------------------------+\n",
      "\n",
      "+--------+-----------------------------------------------------+\n",
      "|brand_id|brand_info                                           |\n",
      "+--------+-----------------------------------------------------+\n",
      "|1       |{'brand_name': 'Mercedes-Benz', 'country': 'Germany'}|\n",
      "|2       |{'brand_name': 'BMW', 'country': 'Germany'}          |\n",
      "|3       |{'brand_name': 'Audi', 'country': 'Germany'}         |\n",
      "|4       |{'brand_name': 'Ford', 'country': 'US'}              |\n",
      "|5       |{'brand_name': 'BYD', 'country': 'China'}            |\n",
      "|6       |{'brand_name': 'Honda', 'country': 'Japan'}          |\n",
      "|7       |{'brand_name': 'Toyota', 'country': 'Japan'}         |\n",
      "+--------+-----------------------------------------------------+\n",
      "\n",
      "+------+----------------------------------------------------------------------------------------+\n",
      "|car_id|car_info                                                                                |\n",
      "+------+----------------------------------------------------------------------------------------+\n",
      "|1     |{'car_name': 'Chang-Fisher Model 7', 'brand_id': 5, 'price_per_day': 139}               |\n",
      "|2     |{'car_name': 'Sheppard-Tucker Model 4', 'brand_id': 6, 'price_per_day': 70}             |\n",
      "|3     |{'car_name': 'Faulkner-Howard Model 5', 'brand_id': 3, 'price_per_day': 53}             |\n",
      "|4     |{'car_name': 'Wagner LLC Model 1', 'brand_id': 5, 'price_per_day': 89}                  |\n",
      "|5     |{'car_name': 'Campos PLC Model 4', 'brand_id': 4, 'price_per_day': 112}                 |\n",
      "|6     |{'car_name': 'Archer-Patel Model 2', 'brand_id': 3, 'price_per_day': 55}                |\n",
      "|7     |{'car_name': 'Patrick, Barrera and Collins Model 6', 'brand_id': 6, 'price_per_day': 66}|\n",
      "|8     |{'car_name': 'Jones, Jefferson and Rivera Model 7', 'brand_id': 2, 'price_per_day': 115}|\n",
      "|9     |{'car_name': 'Garcia, Hamilton and Carr Model 5', 'brand_id': 6, 'price_per_day': 137}  |\n",
      "|10    |{'car_name': 'Levy Group Model 9', 'brand_id': 3, 'price_per_day': 93}                  |\n",
      "|11    |{'car_name': 'Grimes-Green Model 8', 'brand_id': 3, 'price_per_day': 150}               |\n",
      "|12    |{'car_name': 'Moon, Davis and Larsen Model 1', 'brand_id': 6, 'price_per_day': 100}     |\n",
      "|13    |{'car_name': 'Summers, Barnett and Smith Model 6', 'brand_id': 4, 'price_per_day': 139} |\n",
      "|14    |{'car_name': 'Clayton-Cook Model 10', 'brand_id': 6, 'price_per_day': 116}              |\n",
      "|15    |{'car_name': 'Nguyen, Harrell and Lee Model 6', 'brand_id': 2, 'price_per_day': 94}     |\n",
      "|16    |{'car_name': 'Walker, Pratt and Thomas Model 9', 'brand_id': 6, 'price_per_day': 192}   |\n",
      "|17    |{'car_name': 'West, Miller and Flores Model 5', 'brand_id': 1, 'price_per_day': 63}     |\n",
      "|18    |{'car_name': 'Bolton, Burns and Turner Model 10', 'brand_id': 6, 'price_per_day': 110}  |\n",
      "|19    |{'car_name': 'Mann-Kelley Model 3', 'brand_id': 2, 'price_per_day': 146}                |\n",
      "|20    |{'car_name': 'Harris, Lloyd and Payne Model 4', 'brand_id': 6, 'price_per_day': 96}     |\n",
      "+------+----------------------------------------------------------------------------------------+\n",
      "only showing top 20 rows\n",
      "+-----------+-------------------------------------------------------------------------+\n",
      "|customer_id|customer_info                                                            |\n",
      "+-----------+-------------------------------------------------------------------------+\n",
      "|1          |{'customer_name': 'Tiffany Riley', 'city': 'Monterrey', 'age': 32}       |\n",
      "|2          |{'customer_name': 'Matthew Davies', 'city': 'Monterrey', 'age': 36}      |\n",
      "|3          |{'customer_name': 'Rebecca Miller', 'city': 'Mexico City', 'age': 30}    |\n",
      "|4          |{'customer_name': 'Katelyn Mccoy', 'city': 'New York', 'age': 34}        |\n",
      "|5          |{'customer_name': 'Dana Dennis', 'city': 'Zapopan', 'age': 26}           |\n",
      "|6          |{'customer_name': 'Daniel Norton', 'city': 'Mexico City', 'age': 34}     |\n",
      "|7          |{'customer_name': 'Robert Garcia', 'city': 'Zapopan', 'age': 47}         |\n",
      "|8          |{'customer_name': 'Michael Williams', 'city': 'Monterrey', 'age': 33}    |\n",
      "|9          |{'customer_name': 'Susan Ferguson', 'city': 'San Francisco', 'age': 41}  |\n",
      "|10         |{'customer_name': 'Alyssa Reid', 'city': 'Mexico City', 'age': 40}       |\n",
      "|11         |{'customer_name': 'Laura Myers', 'city': 'Zapopan', 'age': 50}           |\n",
      "|12         |{'customer_name': 'William Johnson', 'city': 'Monterrey', 'age': 25}     |\n",
      "|13         |{'customer_name': 'Tyler Lopez', 'city': 'Mexico City', 'age': 21}       |\n",
      "|14         |{'customer_name': 'Daniel Owen', 'city': 'Mexico City', 'age': 47}       |\n",
      "|15         |{'customer_name': 'Allison Coleman', 'city': 'Zapopan', 'age': 33}       |\n",
      "|16         |{'customer_name': 'David Walker', 'city': 'Londres', 'age': 33}          |\n",
      "|17         |{'customer_name': 'Hayley White', 'city': 'Monterrey', 'age': 29}        |\n",
      "|18         |{'customer_name': 'Amanda Garcia', 'city': 'Zapopan', 'age': 20}         |\n",
      "|19         |{'customer_name': 'Christina Howard PhD', 'city': 'Monterrey', 'age': 22}|\n",
      "|20         |{'customer_name': 'Tamara Jackson', 'city': 'San Francisco', 'age': 29}  |\n",
      "+-----------+-------------------------------------------------------------------------+\n",
      "only showing top 20 rows\n",
      "+---------+--------------------------------------------------+\n",
      "|rental_id|rental_info                                       |\n",
      "+---------+--------------------------------------------------+\n",
      "|11891    |{'car_id': 21, 'customer_id': 71, 'agency_id': 1} |\n",
      "|11892    |{'car_id': 11, 'customer_id': 52, 'agency_id': 2} |\n",
      "|11893    |{'car_id': 22, 'customer_id': 116, 'agency_id': 4}|\n",
      "|11894    |{'car_id': 5, 'customer_id': 107, 'agency_id': 1} |\n",
      "|11895    |{'car_id': 4, 'customer_id': 53, 'agency_id': 4}  |\n",
      "|11896    |{'car_id': 8, 'customer_id': 131, 'agency_id': 2} |\n",
      "|11897    |{'car_id': 23, 'customer_id': 66, 'agency_id': 3} |\n",
      "|11898    |{'car_id': 24, 'customer_id': 60, 'agency_id': 4} |\n",
      "|11899    |{'car_id': 27, 'customer_id': 92, 'agency_id': 2} |\n",
      "|11900    |{'car_id': 3, 'customer_id': 40, 'agency_id': 4}  |\n",
      "|11901    |{'car_id': 3, 'customer_id': 35, 'agency_id': 1}  |\n",
      "|11902    |{'car_id': 3, 'customer_id': 72, 'agency_id': 1}  |\n",
      "|11903    |{'car_id': 29, 'customer_id': 58, 'agency_id': 3} |\n",
      "|11904    |{'car_id': 3, 'customer_id': 131, 'agency_id': 4} |\n",
      "|11905    |{'car_id': 27, 'customer_id': 10, 'agency_id': 2} |\n",
      "|11906    |{'car_id': 12, 'customer_id': 40, 'agency_id': 1} |\n",
      "|11907    |{'car_id': 25, 'customer_id': 53, 'agency_id': 3} |\n",
      "|11908    |{'car_id': 14, 'customer_id': 153, 'agency_id': 4}|\n",
      "|11909    |{'car_id': 24, 'customer_id': 96, 'agency_id': 4} |\n",
      "|11910    |{'car_id': 24, 'customer_id': 151, 'agency_id': 4}|\n",
      "+---------+--------------------------------------------------+\n",
      "only showing top 20 rows\n"
     ]
    }
   ],
   "source": [
    "# Build schemas\n",
    "# Import your module\n",
    "from luis_pelayo.spark_utils import SparkUtils\n",
    "schema_agencies = SparkUtils.generate_schema([(\"agency_id\", \"int\"), (\"agency_info\", \"string\")])\n",
    "schema_brands = SparkUtils.generate_schema([(\"brand_id\", \"int\"), (\"brand_info\", \"string\")])\n",
    "schema_cars = SparkUtils.generate_schema([(\"car_id\", \"int\"), (\"car_info\", \"string\")])\n",
    "schema_customers = SparkUtils.generate_schema([(\"customer_id\", \"int\"), (\"customer_info\", \"string\")])\n",
    "schema_rentals = SparkUtils.generate_schema([(\"rental_id\", \"int\"), (\"rental_info\", \"string\")])\n",
    "\n",
    "df_agencies = spark.read.schema(schema_agencies).option(\"header\", True).csv(\"/opt/spark/work-dir/data/car_service/agencies\")\n",
    "df_brands = spark.read.schema(schema_brands).option(\"header\", True).csv(\"/opt/spark/work-dir/data/car_service/brands\")\n",
    "df_cars = spark.read.schema(schema_cars).option(\"header\", True).csv(\"/opt/spark/work-dir/data/car_service/cars\")\n",
    "df_customers = spark.read.schema(schema_customers).option(\"header\", True).csv(\"/opt/spark/work-dir/data/car_service/customers\")\n",
    "df_rentals = spark.read.schema(schema_rentals).option(\"header\", True).csv(\"/opt/spark/work-dir/data/car_service/rentals\")\n",
    "df_agencies.show(truncate=False)\n",
    "df_brands.show(truncate=False)\n",
    "df_cars.show(truncate=False)\n",
    "df_customers.show(truncate=False)\n",
    "df_rentals.show(truncate=False)\n"
   ]
  },
  {
   "cell_type": "markdown",
   "id": "aa19ffcd",
   "metadata": {},
   "source": [
    "You need to generate one single dataframe using join operations and extracting columns from the json columns (using get json object) and using only one action. (show())"
   ]
  },
  {
   "cell_type": "code",
   "execution_count": 13,
   "id": "9654b5bb-41ae-48b5-af4d-bae091fc7256",
   "metadata": {},
   "outputs": [
    {
     "name": "stdout",
     "output_type": "stream",
     "text": [
      "+---------+-------------+-------------+\n",
      "|agency_id|  agency_name|         city|\n",
      "+---------+-------------+-------------+\n",
      "|        1|  NYC Rentals|     New York|\n",
      "|        2|LA Car Rental|      Londres|\n",
      "|        3| Zapopan Auto|      Zapopan|\n",
      "|        4|      SF Cars|San Francisco|\n",
      "|        5|  Mexico Cars|  Mexico City|\n",
      "+---------+-------------+-------------+\n",
      "\n"
     ]
    }
   ],
   "source": [
    "from pyspark.sql.functions import get_json_object\n",
    "df_updated_agencies = df_agencies.withColumn(\"agency_name\",get_json_object(\"agency_info\",\"$.agency_name\")) \\\n",
    "                                .withColumn(\"city\",get_json_object(\"agency_info\",\"$.city\")) \\\n",
    "                                .drop(\"agency_info\")\n",
    "df_updated_agencies.show()"
   ]
  },
  {
   "cell_type": "code",
   "execution_count": 17,
   "id": "885b1ea0-1a32-4f4e-a8ee-0f5c771b40a0",
   "metadata": {},
   "outputs": [
    {
     "name": "stdout",
     "output_type": "stream",
     "text": [
      "+--------+-------------+-------+\n",
      "|brand_id|   brand_name|country|\n",
      "+--------+-------------+-------+\n",
      "|       1|Mercedes-Benz|Germany|\n",
      "|       2|          BMW|Germany|\n",
      "|       3|         Audi|Germany|\n",
      "|       4|         Ford|     US|\n",
      "|       5|          BYD|  China|\n",
      "|       6|        Honda|  Japan|\n",
      "|       7|       Toyota|  Japan|\n",
      "+--------+-------------+-------+\n",
      "\n"
     ]
    }
   ],
   "source": [
    "df_updated_brands = df_brands.withColumn(\"brand_name\",get_json_object(\"brand_info\",\"$.brand_name\")) \\\n",
    "                                .withColumn(\"country\",get_json_object(\"brand_info\",\"$.country\")) \\\n",
    "                                .drop(\"brand_info\")\n",
    "df_updated_brands.show()"
   ]
  },
  {
   "cell_type": "code",
   "execution_count": 34,
   "id": "edf54ed6-2fd9-4bf9-8678-d0fea3d95f7e",
   "metadata": {},
   "outputs": [
    {
     "name": "stdout",
     "output_type": "stream",
     "text": [
      "+------+--------------------+-------------+--------+-------------+-------+\n",
      "|car_id|            car_name|price_per_day|brand_id|   brand_name|country|\n",
      "+------+--------------------+-------------+--------+-------------+-------+\n",
      "|     1|Chang-Fisher Model 7|          139|       5|          BYD|  China|\n",
      "|     2|Sheppard-Tucker M...|           70|       6|        Honda|  Japan|\n",
      "|     3|Faulkner-Howard M...|           53|       3|         Audi|Germany|\n",
      "|     4|  Wagner LLC Model 1|           89|       5|          BYD|  China|\n",
      "|     5|  Campos PLC Model 4|          112|       4|         Ford|     US|\n",
      "|     6|Archer-Patel Model 2|           55|       3|         Audi|Germany|\n",
      "|     7|Patrick, Barrera ...|           66|       6|        Honda|  Japan|\n",
      "|     8|Jones, Jefferson ...|          115|       2|          BMW|Germany|\n",
      "|     9|Garcia, Hamilton ...|          137|       6|        Honda|  Japan|\n",
      "|    10|  Levy Group Model 9|           93|       3|         Audi|Germany|\n",
      "|    11|Grimes-Green Model 8|          150|       3|         Audi|Germany|\n",
      "|    12|Moon, Davis and L...|          100|       6|        Honda|  Japan|\n",
      "|    13|Summers, Barnett ...|          139|       4|         Ford|     US|\n",
      "|    14|Clayton-Cook Mode...|          116|       6|        Honda|  Japan|\n",
      "|    15|Nguyen, Harrell a...|           94|       2|          BMW|Germany|\n",
      "|    16|Walker, Pratt and...|          192|       6|        Honda|  Japan|\n",
      "|    17|West, Miller and ...|           63|       1|Mercedes-Benz|Germany|\n",
      "|    18|Bolton, Burns and...|          110|       6|        Honda|  Japan|\n",
      "|    19| Mann-Kelley Model 3|          146|       2|          BMW|Germany|\n",
      "|    20|Harris, Lloyd and...|           96|       6|        Honda|  Japan|\n",
      "+------+--------------------+-------------+--------+-------------+-------+\n",
      "only showing top 20 rows\n"
     ]
    }
   ],
   "source": [
    "df_updated_cars = df_cars.withColumn(\"car_name\",get_json_object(\"car_info\",\"$.car_name\")) \\\n",
    "                            .withColumn(\"brand_id\",get_json_object(\"car_info\",\"$.brand_id\").cast(\"int\")) \\\n",
    "                            .withColumn(\"price_per_day\",get_json_object(\"car_info\",\"$.price_per_day\").cast(\"int\")) \\\n",
    "                            .drop(\"car_info\")\n",
    "df_updated_cars = df_updated_cars.join(df_updated_brands, df_updated_cars.brand_id == df_updated_brands.brand_id).drop(df_updated_cars.brand_id)\n",
    "df_updated_cars.show()"
   ]
  },
  {
   "cell_type": "code",
   "execution_count": 18,
   "id": "d1df7234-e5f1-42d9-85c2-79feafbf7222",
   "metadata": {},
   "outputs": [
    {
     "name": "stdout",
     "output_type": "stream",
     "text": [
      "+-----------+--------------------+---+-------------+\n",
      "|customer_id|       customer_name|age|         city|\n",
      "+-----------+--------------------+---+-------------+\n",
      "|          1|       Tiffany Riley| 32|    Monterrey|\n",
      "|          2|      Matthew Davies| 36|    Monterrey|\n",
      "|          3|      Rebecca Miller| 30|  Mexico City|\n",
      "|          4|       Katelyn Mccoy| 34|     New York|\n",
      "|          5|         Dana Dennis| 26|      Zapopan|\n",
      "|          6|       Daniel Norton| 34|  Mexico City|\n",
      "|          7|       Robert Garcia| 47|      Zapopan|\n",
      "|          8|    Michael Williams| 33|    Monterrey|\n",
      "|          9|      Susan Ferguson| 41|San Francisco|\n",
      "|         10|         Alyssa Reid| 40|  Mexico City|\n",
      "|         11|         Laura Myers| 50|      Zapopan|\n",
      "|         12|     William Johnson| 25|    Monterrey|\n",
      "|         13|         Tyler Lopez| 21|  Mexico City|\n",
      "|         14|         Daniel Owen| 47|  Mexico City|\n",
      "|         15|     Allison Coleman| 33|      Zapopan|\n",
      "|         16|        David Walker| 33|      Londres|\n",
      "|         17|        Hayley White| 29|    Monterrey|\n",
      "|         18|       Amanda Garcia| 20|      Zapopan|\n",
      "|         19|Christina Howard PhD| 22|    Monterrey|\n",
      "|         20|      Tamara Jackson| 29|San Francisco|\n",
      "+-----------+--------------------+---+-------------+\n",
      "only showing top 20 rows\n"
     ]
    }
   ],
   "source": [
    "df_updated_customers = df_customers.withColumn(\"customer_name\",get_json_object(\"customer_info\",\"$.customer_name\")) \\\n",
    "                                    .withColumn(\"age\",get_json_object(\"customer_info\",\"$.age\").cast(\"int\")) \\\n",
    "                                    .withColumn(\"city\",get_json_object(\"customer_info\",\"$.city\")) \\\n",
    "                                    .drop(\"customer_info\")\n",
    "df_updated_customers.show()"
   ]
  },
  {
   "cell_type": "code",
   "execution_count": 20,
   "id": "60e3a431-5dc5-4f09-b48a-f58d12c3de13",
   "metadata": {},
   "outputs": [
    {
     "name": "stdout",
     "output_type": "stream",
     "text": [
      "+---------+------+-----------+---------+\n",
      "|rental_id|car_id|customer_id|agency_id|\n",
      "+---------+------+-----------+---------+\n",
      "|    11891|    21|         71|        1|\n",
      "|    11892|    11|         52|        2|\n",
      "|    11893|    22|        116|        4|\n",
      "|    11894|     5|        107|        1|\n",
      "|    11895|     4|         53|        4|\n",
      "|    11896|     8|        131|        2|\n",
      "|    11897|    23|         66|        3|\n",
      "|    11898|    24|         60|        4|\n",
      "|    11899|    27|         92|        2|\n",
      "|    11900|     3|         40|        4|\n",
      "|    11901|     3|         35|        1|\n",
      "|    11902|     3|         72|        1|\n",
      "|    11903|    29|         58|        3|\n",
      "|    11904|     3|        131|        4|\n",
      "|    11905|    27|         10|        2|\n",
      "|    11906|    12|         40|        1|\n",
      "|    11907|    25|         53|        3|\n",
      "|    11908|    14|        153|        4|\n",
      "|    11909|    24|         96|        4|\n",
      "|    11910|    24|        151|        4|\n",
      "+---------+------+-----------+---------+\n",
      "only showing top 20 rows\n"
     ]
    }
   ],
   "source": [
    "df_updated_rentals = df_rentals.withColumn(\"car_id\", get_json_object(df_rentals.rental_info, \"$.car_id\")) \\\n",
    "                .withColumn(\"customer_id\", get_json_object(df_rentals.rental_info, \"$.customer_id\")) \\\n",
    "                .withColumn(\"agency_id\", get_json_object(df_rentals.rental_info, \"$.agency_id\")) \\\n",
    "                .drop(\"rental_info\")\n",
    "df_updated_rentals.show()"
   ]
  },
  {
   "cell_type": "code",
   "execution_count": 35,
   "id": "e2f4ed3d-cb88-463c-a8b1-80fe3add4602",
   "metadata": {},
   "outputs": [
    {
     "name": "stderr",
     "output_type": "stream",
     "text": [
      "                                                                                "
     ]
    },
    {
     "name": "stdout",
     "output_type": "stream",
     "text": [
      "+---------+------+--------------------+-------------+--------+----------+-------+-----------+-----------------+---+-------------+---------+-------------+-------------+\n",
      "|rental_id|car_id|            car_name|price_per_day|brand_id|brand_name|country|customer_id|    customer_name|age|         city|agency_id|  agency_name|         city|\n",
      "+---------+------+--------------------+-------------+--------+----------+-------+-----------+-----------------+---+-------------+---------+-------------+-------------+\n",
      "|      785|     1|Chang-Fisher Model 7|          139|       5|       BYD|  China|         33|       Corey Cook| 35|    Monterrey|        4|      SF Cars|San Francisco|\n",
      "|      766|     1|Chang-Fisher Model 7|          139|       5|       BYD|  China|         96|    Laura Gregory| 25|      Londres|        2|LA Car Rental|      Londres|\n",
      "|      762|     1|Chang-Fisher Model 7|          139|       5|       BYD|  China|        149|      Blake Jones| 25|  Mexico City|        3| Zapopan Auto|      Zapopan|\n",
      "|      757|     1|Chang-Fisher Model 7|          139|       5|       BYD|  China|         69|   Nicholas Kline| 42|San Francisco|        1|  NYC Rentals|     New York|\n",
      "|      747|     1|Chang-Fisher Model 7|          139|       5|       BYD|  China|        157|    Melissa Flynn| 50|      Zapopan|        2|LA Car Rental|      Londres|\n",
      "|      735|     1|Chang-Fisher Model 7|          139|       5|       BYD|  China|         64|     Joseph Jones| 37|  Mexico City|        1|  NYC Rentals|     New York|\n",
      "|      672|     1|Chang-Fisher Model 7|          139|       5|       BYD|  China|        157|    Melissa Flynn| 50|      Zapopan|        4|      SF Cars|San Francisco|\n",
      "|      669|     1|Chang-Fisher Model 7|          139|       5|       BYD|  China|          9|   Susan Ferguson| 41|San Francisco|        4|      SF Cars|San Francisco|\n",
      "|      662|     1|Chang-Fisher Model 7|          139|       5|       BYD|  China|        130|  Raymond Navarro| 40|  Mexico City|        2|LA Car Rental|      Londres|\n",
      "|      654|     1|Chang-Fisher Model 7|          139|       5|       BYD|  China|         84|   Sherry Simpson| 43|  Mexico City|        2|LA Car Rental|      Londres|\n",
      "|      617|     1|Chang-Fisher Model 7|          139|       5|       BYD|  China|         75| Jenny Richardson| 36|    Monterrey|        2|LA Car Rental|      Londres|\n",
      "|      615|     1|Chang-Fisher Model 7|          139|       5|       BYD|  China|        127|  Jennifer Torres| 44|     New York|        2|LA Car Rental|      Londres|\n",
      "|      591|     1|Chang-Fisher Model 7|          139|       5|       BYD|  China|         35|      Laura Perry| 42|     New York|        4|      SF Cars|San Francisco|\n",
      "|      582|     1|Chang-Fisher Model 7|          139|       5|       BYD|  China|        121|     Jill Sherman| 23|  Mexico City|        4|      SF Cars|San Francisco|\n",
      "|      390|     1|Chang-Fisher Model 7|          139|       5|       BYD|  China|         18|    Amanda Garcia| 20|      Zapopan|        1|  NYC Rentals|     New York|\n",
      "|      381|     1|Chang-Fisher Model 7|          139|       5|       BYD|  China|         79|  Barbara Sanders| 24|  Mexico City|        2|LA Car Rental|      Londres|\n",
      "|      376|     1|Chang-Fisher Model 7|          139|       5|       BYD|  China|        111|Christian Johnson| 32|    Monterrey|        3| Zapopan Auto|      Zapopan|\n",
      "|      367|     1|Chang-Fisher Model 7|          139|       5|       BYD|  China|         51|   Hannah Wiggins| 19|     New York|        3| Zapopan Auto|      Zapopan|\n",
      "|      325|     1|Chang-Fisher Model 7|          139|       5|       BYD|  China|         31|     Lisa Baldwin| 31|San Francisco|        2|LA Car Rental|      Londres|\n",
      "|      258|     1|Chang-Fisher Model 7|          139|       5|       BYD|  China|        140|     Brian Cooper| 39|San Francisco|        3| Zapopan Auto|      Zapopan|\n",
      "+---------+------+--------------------+-------------+--------+----------+-------+-----------+-----------------+---+-------------+---------+-------------+-------------+\n",
      "only showing top 20 rows\n"
     ]
    }
   ],
   "source": [
    "df = df_updated_rentals.join(df_updated_cars, df_updated_rentals.car_id == df_updated_cars.car_id).drop(df_updated_rentals.car_id)\n",
    "df = df.join(df_updated_customers, df.customer_id == df_updated_customers.customer_id).drop(df.customer_id)\n",
    "df = df.join(df_updated_agencies, df.agency_id == df_updated_agencies.agency_id).drop(df.agency_id)\n",
    "df.show()"
   ]
  },
  {
   "cell_type": "markdown",
   "id": "db092b6c",
   "metadata": {},
   "source": [
    "# Solucion, un unico show() que muestre rental_id, car_name, customer_name y agency_name"
   ]
  },
  {
   "cell_type": "code",
   "execution_count": 36,
   "id": "0a5af07d-2fe8-408e-966f-7ff6de1a5b11",
   "metadata": {},
   "outputs": [
    {
     "name": "stderr",
     "output_type": "stream",
     "text": [
      "[Stage 51:=============================>                            (1 + 1) / 2]"
     ]
    },
    {
     "name": "stdout",
     "output_type": "stream",
     "text": [
      "+---------+--------------------+-----------------+-------------+\n",
      "|rental_id|            car_name|    customer_name|  agency_name|\n",
      "+---------+--------------------+-----------------+-------------+\n",
      "|      785|Chang-Fisher Model 7|       Corey Cook|      SF Cars|\n",
      "|      766|Chang-Fisher Model 7|    Laura Gregory|LA Car Rental|\n",
      "|      762|Chang-Fisher Model 7|      Blake Jones| Zapopan Auto|\n",
      "|      757|Chang-Fisher Model 7|   Nicholas Kline|  NYC Rentals|\n",
      "|      747|Chang-Fisher Model 7|    Melissa Flynn|LA Car Rental|\n",
      "|      735|Chang-Fisher Model 7|     Joseph Jones|  NYC Rentals|\n",
      "|      672|Chang-Fisher Model 7|    Melissa Flynn|      SF Cars|\n",
      "|      669|Chang-Fisher Model 7|   Susan Ferguson|      SF Cars|\n",
      "|      662|Chang-Fisher Model 7|  Raymond Navarro|LA Car Rental|\n",
      "|      654|Chang-Fisher Model 7|   Sherry Simpson|LA Car Rental|\n",
      "|      617|Chang-Fisher Model 7| Jenny Richardson|LA Car Rental|\n",
      "|      615|Chang-Fisher Model 7|  Jennifer Torres|LA Car Rental|\n",
      "|      591|Chang-Fisher Model 7|      Laura Perry|      SF Cars|\n",
      "|      582|Chang-Fisher Model 7|     Jill Sherman|      SF Cars|\n",
      "|      390|Chang-Fisher Model 7|    Amanda Garcia|  NYC Rentals|\n",
      "|      381|Chang-Fisher Model 7|  Barbara Sanders|LA Car Rental|\n",
      "|      376|Chang-Fisher Model 7|Christian Johnson| Zapopan Auto|\n",
      "|      367|Chang-Fisher Model 7|   Hannah Wiggins| Zapopan Auto|\n",
      "|      325|Chang-Fisher Model 7|     Lisa Baldwin|LA Car Rental|\n",
      "|      258|Chang-Fisher Model 7|     Brian Cooper| Zapopan Auto|\n",
      "+---------+--------------------+-----------------+-------------+\n",
      "only showing top 20 rows\n"
     ]
    },
    {
     "name": "stderr",
     "output_type": "stream",
     "text": [
      "                                                                                "
     ]
    }
   ],
   "source": [
    "df.select(\"rental_id\",\"car_name\",\"customer_name\",\"agency_name\").show()"
   ]
  },
  {
   "cell_type": "code",
   "execution_count": 1,
   "id": "9078a7dd",
   "metadata": {},
   "outputs": [
    {
     "ename": "NameError",
     "evalue": "name 'sc' is not defined",
     "output_type": "error",
     "traceback": [
      "\u001b[0;31m---------------------------------------------------------------------------\u001b[0m",
      "\u001b[0;31mNameError\u001b[0m                                 Traceback (most recent call last)",
      "Cell \u001b[0;32mIn[1], line 1\u001b[0m\n\u001b[0;32m----> 1\u001b[0m \u001b[43msc\u001b[49m\u001b[38;5;241m.\u001b[39mstop()\n",
      "\u001b[0;31mNameError\u001b[0m: name 'sc' is not defined"
     ]
    }
   ],
   "source": [
    "sc.stop()"
   ]
  }
 ],
 "metadata": {
  "kernelspec": {
   "display_name": "Python 3 (ipykernel)",
   "language": "python",
   "name": "python3"
  },
  "language_info": {
   "codemirror_mode": {
    "name": "ipython",
    "version": 3
   },
   "file_extension": ".py",
   "mimetype": "text/x-python",
   "name": "python",
   "nbconvert_exporter": "python",
   "pygments_lexer": "ipython3",
   "version": "3.10.12"
  }
 },
 "nbformat": 4,
 "nbformat_minor": 5
}
