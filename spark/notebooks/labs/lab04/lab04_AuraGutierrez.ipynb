{
 "cells": [
  {
   "cell_type": "markdown",
   "id": "b92d9622",
   "metadata": {},
   "source": [
    "# <center> <img src=\"../../img/ITESOLogo.png\" alt=\"ITESO\" width=\"480\" height=\"130\"> </center>\n",
    "# <center> **Departamento de Electrónica, Sistemas e Informática** </center>\n",
    "---\n",
    "## <center> Computer Systems Engineering  </center>\n",
    "---\n",
    "### <center> Big Data Processing </center>\n",
    "---\n",
    "#### <center> **Autumn 2025** </center>\n",
    "---\n",
    "\n",
    "**Lab 04**: Data Unions & Joins Pipeline\n",
    "\n",
    "**Date**: September 23rd 2025\n",
    "\n",
    "**Student Name**:\n",
    "\n",
    "**Professor**: Pablo Camarillo Ramirez"
   ]
  },
  {
   "cell_type": "code",
   "execution_count": 1,
   "id": "ed17a0b0",
   "metadata": {},
   "outputs": [
    {
     "name": "stderr",
     "output_type": "stream",
     "text": [
      "WARNING: Using incubator modules: jdk.incubator.vector\n",
      "Using Spark's default log4j profile: org/apache/spark/log4j2-defaults.properties\n",
      "Setting default log level to \"WARN\".\n",
      "To adjust logging level use sc.setLogLevel(newLevel). For SparkR, use setLogLevel(newLevel).\n",
      "25/09/25 00:47:08 WARN NativeCodeLoader: Unable to load native-hadoop library for your platform... using builtin-java classes where applicable\n"
     ]
    }
   ],
   "source": [
    "import findspark\n",
    "findspark.init()\n",
    "\n",
    "from pyspark.sql import SparkSession\n",
    "\n",
    "spark = SparkSession.builder \\\n",
    "    .appName(\"Examples on SparkSQL\") \\\n",
    "    .master(\"spark://b1ca502cde8a:7077\") \\\n",
    "    .config(\"spark.ui.port\", \"4040\") \\\n",
    "    .getOrCreate()\n",
    "\n",
    "sc = spark.sparkContext\n",
    "sc.setLogLevel(\"ERROR\")"
   ]
  },
  {
   "cell_type": "code",
   "execution_count": 20,
   "id": "a93cd621",
   "metadata": {},
   "outputs": [],
   "source": [
    "# Build schema\n",
    "from auragutierrez.spark_utils import SparkUtils\n",
    "\n",
    "schema_rentals = SparkUtils.generate_schema([(\"rental_id\", \"int\"), (\"rental_info\", \"string\")])\n",
    "df_rentals = spark.read.schema(schema_rentals).option(\"header\", True).csv(\"/opt/spark/work-dir/data/car_service/rentals\")\n",
    "\n",
    "schema_agencies = SparkUtils.generate_schema([(\"agency_id\", \"int\"), (\"agency_info\", \"string\")])\n",
    "df_agencies = spark.read.schema(schema_agencies).option(\"header\", True).csv(\"/opt/spark/work-dir/data/car_service/agencies\")\n",
    "\n",
    "schema_brands = SparkUtils.generate_schema([(\"brand_id\", \"int\"), (\"brand_info\", \"string\")])\n",
    "df_brands = spark.read.schema(schema_brands).option(\"header\", True).csv(\"/opt/spark/work-dir/data/car_service/brands\")\n",
    "\n",
    "schema_cars = SparkUtils.generate_schema([(\"car_id\", \"int\"), (\"car_info\", \"string\")])\n",
    "df_cars = spark.read.schema(schema_cars).option(\"header\", True).csv(\"/opt/spark/work-dir/data/car_service/cars\")\n",
    "\n",
    "schema_customers = SparkUtils.generate_schema([(\"customer_id\", \"int\"), (\"customer_info\", \"string\")])\n",
    "df_customers = spark.read.schema(schema_customers).option(\"header\", True).csv(\"/opt/spark/work-dir/data/car_service/customers\")"
   ]
  },
  {
   "cell_type": "code",
   "execution_count": 23,
   "id": "e6565a7f-f890-45fe-b1f6-7592efa74a75",
   "metadata": {},
   "outputs": [
    {
     "name": "stdout",
     "output_type": "stream",
     "text": [
      "+---------+------+-----------+---------+\n",
      "|rental_id|car_id|customer_id|agency_id|\n",
      "+---------+------+-----------+---------+\n",
      "|    11891|    21|         71|        1|\n",
      "|    11892|    11|         52|        2|\n",
      "|    11893|    22|        116|        4|\n",
      "|    11894|     5|        107|        1|\n",
      "|    11895|     4|         53|        4|\n",
      "+---------+------+-----------+---------+\n",
      "only showing top 5 rows\n"
     ]
    }
   ],
   "source": [
    "from pyspark.sql.functions import get_json_object, col\n",
    "\n",
    "df_rentals_ids = (df_rentals.withColumn(\"car_id\", get_json_object(\"rental_info\", \"$.car_id\"))\n",
    "                            .withColumn(\"customer_id\", get_json_object(\"rental_info\", \"$.customer_id\"))\n",
    "                            .withColumn(\"agency_id\", get_json_object(\"rental_info\", \"$.agency_id\"))\n",
    "                            .drop(\"rental_info\")\n",
    "                 )"
   ]
  },
  {
   "cell_type": "code",
   "execution_count": 25,
   "id": "7c433eb1-602d-4680-8d4e-39da1eb83eed",
   "metadata": {},
   "outputs": [
    {
     "name": "stdout",
     "output_type": "stream",
     "text": [
      "+---------+-----------+------+---------+--------------------+--------------------+--------------------+\n",
      "|agency_id|customer_id|car_id|rental_id|            car_info|       customer_info|         agency_info|\n",
      "+---------+-----------+------+---------+--------------------+--------------------+--------------------+\n",
      "|        1|         71|    21|    11891|{'car_name': 'Wal...|{'customer_name':...|{'agency_name': '...|\n",
      "|        2|         52|    11|    11892|{'car_name': 'Gri...|{'customer_name':...|{'agency_name': '...|\n",
      "|        4|        116|    22|    11893|{'car_name': 'Ste...|{'customer_name':...|{'agency_name': '...|\n",
      "|        1|        107|     5|    11894|{'car_name': 'Cam...|{'customer_name':...|{'agency_name': '...|\n",
      "|        4|         53|     4|    11895|{'car_name': 'Wag...|{'customer_name':...|{'agency_name': '...|\n",
      "+---------+-----------+------+---------+--------------------+--------------------+--------------------+\n",
      "only showing top 5 rows\n"
     ]
    }
   ],
   "source": [
    "df_rentals_join = (df_rentals_ids.join(df_cars, on=\"car_id\", how=\"left\")\n",
    "                     .join(df_customers, on=\"customer_id\", how=\"left\")\n",
    "                     .join(df_agencies, on=\"agency_id\", how=\"left\")\n",
    "            )"
   ]
  },
  {
   "cell_type": "code",
   "execution_count": 26,
   "id": "576fe3d4-33e0-44ce-8c8f-d11593896bcf",
   "metadata": {},
   "outputs": [],
   "source": [
    "import pyspark.sql.functions as F\n",
    "df_rentals_final = (df_rentals_join.select(\"rental_id\", \n",
    "                F.get_json_object(F.col(\"car_info\"), \"$.car_name\").alias(\"car_name\"),\n",
    "                F.get_json_object(F.col(\"agency_info\"), \"$.agency_name\").alias(\"agency_name\"),\n",
    "                F.get_json_object(F.col(\"customer_info\"), \"$.customer_name\").alias(\"customer_name\")))"
   ]
  },
  {
   "cell_type": "code",
   "execution_count": 27,
   "id": "9643957f-85aa-4360-860a-70bf13ff5d6e",
   "metadata": {},
   "outputs": [
    {
     "name": "stdout",
     "output_type": "stream",
     "text": [
      "+---------+--------------------+-------------+---------------+\n",
      "|rental_id|            car_name|  agency_name|  customer_name|\n",
      "+---------+--------------------+-------------+---------------+\n",
      "|    11891|Wallace-Carlson M...|  NYC Rentals| Margaret Jones|\n",
      "|    11892|Grimes-Green Model 8|LA Car Rental|Albert Williams|\n",
      "|    11893|Stewart-Allen Mod...|      SF Cars|  Caleb Fleming|\n",
      "|    11894|  Campos PLC Model 4|  NYC Rentals|  Andrew Butler|\n",
      "|    11895|  Wagner LLC Model 1|      SF Cars|  Kristin Potts|\n",
      "+---------+--------------------+-------------+---------------+\n",
      "only showing top 5 rows\n"
     ]
    }
   ],
   "source": [
    "df_rentals_final.show(n=5)"
   ]
  },
  {
   "cell_type": "code",
   "execution_count": 5,
   "id": "9078a7dd",
   "metadata": {},
   "outputs": [],
   "source": [
    "sc.stop()"
   ]
  }
 ],
 "metadata": {
  "kernelspec": {
   "display_name": "Python 3 (ipykernel)",
   "language": "python",
   "name": "python3"
  },
  "language_info": {
   "codemirror_mode": {
    "name": "ipython",
    "version": 3
   },
   "file_extension": ".py",
   "mimetype": "text/x-python",
   "name": "python",
   "nbconvert_exporter": "python",
   "pygments_lexer": "ipython3",
   "version": "3.10.12"
  }
 },
 "nbformat": 4,
 "nbformat_minor": 5
}
