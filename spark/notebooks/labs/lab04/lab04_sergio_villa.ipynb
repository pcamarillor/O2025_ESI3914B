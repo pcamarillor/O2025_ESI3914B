{
 "cells": [
  {
   "cell_type": "markdown",
   "id": "b92d9622",
   "metadata": {},
   "source": [
    "# <center> <img src=\"../../img/ITESOLogo.png\" alt=\"ITESO\" width=\"480\" height=\"130\"> </center>\n",
    "# <center> **Departamento de Electrónica, Sistemas e Informática** </center>\n",
    "---\n",
    "## <center> Computer Systems Engineering  </center>\n",
    "---\n",
    "### <center> Big Data Processing </center>\n",
    "---\n",
    "#### <center> **Autumn 2025** </center>\n",
    "---\n",
    "\n",
    "**Lab 04**: Data Unions & Joins Pipeline\n",
    "\n",
    "**Date**: September 23rd 2025\n",
    "\n",
    "**Student Name**:\n",
    "\n",
    "**Professor**: Pablo Camarillo Ramirez"
   ]
  },
  {
   "cell_type": "markdown",
   "id": "c2d7abe1-ed42-4915-86b2-782abd5fd9d1",
   "metadata": {},
   "source": [
    "## Create Spark session"
   ]
  },
  {
   "cell_type": "code",
   "execution_count": 1,
   "id": "ed17a0b0",
   "metadata": {},
   "outputs": [
    {
     "name": "stderr",
     "output_type": "stream",
     "text": [
      "WARNING: Using incubator modules: jdk.incubator.vector\n",
      "Using Spark's default log4j profile: org/apache/spark/log4j2-defaults.properties\n",
      "Setting default log level to \"WARN\".\n",
      "To adjust logging level use sc.setLogLevel(newLevel). For SparkR, use setLogLevel(newLevel).\n",
      "25/09/26 13:26:39 WARN NativeCodeLoader: Unable to load native-hadoop library for your platform... using builtin-java classes where applicable\n"
     ]
    }
   ],
   "source": [
    "import findspark\n",
    "findspark.init()\n",
    "\n",
    "from pyspark.sql import SparkSession\n",
    "\n",
    "spark = SparkSession.builder \\\n",
    "    .appName(\"Examples on SparkSQL\") \\\n",
    "    .master(\"spark://f0e377311925:7077\") \\\n",
    "    .config(\"spark.ui.port\", \"4040\") \\\n",
    "    .getOrCreate()\n",
    "\n",
    "sc = spark.sparkContext\n",
    "sc.setLogLevel(\"ERROR\")"
   ]
  },
  {
   "cell_type": "code",
   "execution_count": 5,
   "id": "bb8df795-32cb-4437-9dad-0f41ac547de2",
   "metadata": {},
   "outputs": [
    {
     "name": "stdout",
     "output_type": "stream",
     "text": [
      "/opt/spark/work-dir/labs/lab04\n"
     ]
    }
   ],
   "source": [
    "!pwd"
   ]
  },
  {
   "cell_type": "markdown",
   "id": "a83792d1-2d96-478f-a49b-bc0cc8954bbd",
   "metadata": {},
   "source": [
    "## Create data frames"
   ]
  },
  {
   "cell_type": "code",
   "execution_count": 3,
   "id": "a93cd621",
   "metadata": {},
   "outputs": [],
   "source": [
    "# Build schema\n",
    "# Import your module\n",
    "from sergiovillaa.spark_utils import SparkUtils\n",
    "from pyspark.sql.functions import get_json_object\n",
    "\n",
    "agencies_schema = SparkUtils.generate_schema([(\"agency_id\", \"string\"), (\"agency_info\", \"string\")])\n",
    "cars_schema = SparkUtils.generate_schema([(\"car_id\", \"int\"), (\"car_info\", \"string\")])\n",
    "customers_schema = SparkUtils.generate_schema([(\"customer_id\", \"int\"), (\"customer_info\", \"string\")])\n",
    "rental_cars_schema = SparkUtils.generate_schema([(\"rental_id\", \"int\"), (\"rental_info\", \"string\")])\n",
    "\n",
    "base_path = \"/opt/spark/work-dir/data/\"\n",
    "\n",
    "agencies_df = spark.read \\\n",
    "                .schema(agencies_schema) \\\n",
    "                .option(\"header\", \"true\") \\\n",
    "                .csv(base_path + \"car_service/car_service/agencies\")\n",
    "agencies_df = agencies_df.withColumn(\"agency_name\", get_json_object(agencies_df.agency_info, \"$.agency_name\"))\n",
    "\n",
    "\n",
    "cars_df = spark.read.option(\"header\", \"true\").schema(cars_schema).csv(base_path + \"car_service/car_service/cars\")\n",
    "\n",
    "brands_df = spark.read.option(\"header\", \"true\").schema(cars_schema).csv(base_path + \"car_service/car_service/brands\")\n",
    "\n",
    "customers_df = spark.read.option(\"header\", \"true\").schema(customers_schema).csv(base_path + \"car_service/car_service/customers\")\n",
    "\n",
    "rental_cars_df = spark.read.option(\"header\", \"true\").schema(rental_cars_schema).csv(base_path + \"car_service/car_service/rentals\")"
   ]
  },
  {
   "cell_type": "markdown",
   "id": "514a25ff-c433-42d3-a2ba-8eabed22ffd2",
   "metadata": {},
   "source": [
    "## Extract JSON info"
   ]
  },
  {
   "cell_type": "code",
   "execution_count": 4,
   "id": "85dab7fc-6bd7-4edd-97f4-2c5bf4672e11",
   "metadata": {},
   "outputs": [],
   "source": [
    "agencies_df = agencies_df.withColumn(\"agency_name\", get_json_object(agencies_df.agency_info, \"$.agency_name\")).drop(\"agency_info\")\n",
    "cars_df = cars_df.withColumn(\"car_name\", get_json_object(cars_df.car_info, \"$.car_name\")).drop(\"car_info\")\n",
    "customers_df = customers_df.withColumn(\"customer_name\", get_json_object(customers_df.customer_info, \"$.customer_name\")).drop(\"customer_info\")\n",
    "\n",
    "rental_cars_df = rental_cars_df.withColumn(\"car_id\", get_json_object(rental_cars_df.rental_info, '$.car_id')) \\\n",
    "                            .withColumn(\"customer_id\", get_json_object(rental_cars_df.rental_info, '$.customer_id')) \\\n",
    "                            .withColumn(\"agency_id\", get_json_object(rental_cars_df.rental_info, '$.agency_id')) \\\n",
    "                            .drop(\"rental_info\")"
   ]
  },
  {
   "cell_type": "markdown",
   "id": "518686be-8716-4b72-a92d-761456de20e2",
   "metadata": {},
   "source": [
    "## Join transformations"
   ]
  },
  {
   "cell_type": "code",
   "execution_count": 5,
   "id": "4f9c2328-fb66-4c72-9e27-912c08ccdb3b",
   "metadata": {},
   "outputs": [
    {
     "name": "stderr",
     "output_type": "stream",
     "text": [
      "                                                                                "
     ]
    },
    {
     "name": "stdout",
     "output_type": "stream",
     "text": [
      "+---------+--------------------+---------------+-------------+\n",
      "|rental_id|            car_name|  customer_name|  agency_name|\n",
      "+---------+--------------------+---------------+-------------+\n",
      "|    11891|Wallace-Carlson M...| Margaret Jones|  NYC Rentals|\n",
      "|    11892|Grimes-Green Model 8|Albert Williams|LA Car Rental|\n",
      "|    11893|Stewart-Allen Mod...|  Caleb Fleming|      SF Cars|\n",
      "|    11894|  Campos PLC Model 4|  Andrew Butler|  NYC Rentals|\n",
      "|    11895|  Wagner LLC Model 1|  Kristin Potts|      SF Cars|\n",
      "+---------+--------------------+---------------+-------------+\n",
      "only showing top 5 rows\n"
     ]
    }
   ],
   "source": [
    "rental_cars_df = rental_cars_df.join(cars_df, on=\"car_id\", how=\"left\") \\\n",
    "                                .join(customers_df, on=\"customer_id\", how=\"left\") \\\n",
    "                                .join(agencies_df, on=\"agency_id\", how=\"left\") \\\n",
    "                                .drop(\"agency_id\", \"customer_id\", \"car_id\")\n",
    "\n",
    "rental_cars_df.show(5)"
   ]
  },
  {
   "cell_type": "markdown",
   "id": "69169ab3-a6b1-4514-80a9-1041385adab3",
   "metadata": {},
   "source": [
    "## Persist data"
   ]
  },
  {
   "cell_type": "markdown",
   "id": "84a9c239-294e-47bc-9bba-783ef3461b40",
   "metadata": {},
   "source": [
    "### Parquet file"
   ]
  },
  {
   "cell_type": "code",
   "execution_count": 18,
   "id": "3cd22138-5ad9-4c2e-baab-4e7a03aea919",
   "metadata": {},
   "outputs": [
    {
     "name": "stdout",
     "output_type": "stream",
     "text": [
      "/opt/spark/work-dir/labs/lab04\n"
     ]
    }
   ],
   "source": [
    "!pwd"
   ]
  },
  {
   "cell_type": "code",
   "execution_count": 19,
   "id": "c5f847ca-3008-4277-90db-206e9631a5bd",
   "metadata": {},
   "outputs": [
    {
     "name": "stderr",
     "output_type": "stream",
     "text": [
      "                                                                                "
     ]
    }
   ],
   "source": [
    "rental_cars_df.write \\\n",
    "            .partitionBy(\"agency_name\") \\\n",
    "            .mode(\"overwrite\") \\\n",
    "            .parquet(base_path + \"car_service/car_service/output/parquet\")"
   ]
  },
  {
   "cell_type": "code",
   "execution_count": 28,
   "id": "4fbbce8d-a68b-4433-a4d7-5bf529903500",
   "metadata": {},
   "outputs": [
    {
     "name": "stdout",
     "output_type": "stream",
     "text": [
      "144K\t../../data/car_service/car_service/output/parquet\n"
     ]
    }
   ],
   "source": [
    "!du -sh ../../data/car_service/car_service/output/parquet"
   ]
  },
  {
   "cell_type": "markdown",
   "id": "8e2d6d5a-8749-4511-b71e-02d39ca5927e",
   "metadata": {},
   "source": [
    "### CSV files"
   ]
  },
  {
   "cell_type": "code",
   "execution_count": 29,
   "id": "9f87a68b-e8ba-40f2-ba3a-d006cd81a49c",
   "metadata": {},
   "outputs": [
    {
     "name": "stderr",
     "output_type": "stream",
     "text": [
      "                                                                                "
     ]
    }
   ],
   "source": [
    "rental_cars_df.write \\\n",
    "            .partitionBy(\"agency_name\") \\\n",
    "            .mode(\"overwrite\") \\\n",
    "            .option(\"header\", True) \\\n",
    "            .csv(base_path + \"car_service/car_service/output/csv\")"
   ]
  },
  {
   "cell_type": "code",
   "execution_count": 36,
   "id": "8489fe6a-de66-4e09-a28f-ad516ec13d72",
   "metadata": {},
   "outputs": [
    {
     "name": "stdout",
     "output_type": "stream",
     "text": [
      "'agency_name=LA Car Rental'  'agency_name=SF Cars'\t  _SUCCESS\n",
      "'agency_name=NYC Rentals'    'agency_name=Zapopan Auto'\n"
     ]
    }
   ],
   "source": [
    "!ls ../../data/car_service/car_service/output/csv"
   ]
  },
  {
   "cell_type": "code",
   "execution_count": 35,
   "id": "df64342d-031f-486d-a8c2-6d080dafcd7f",
   "metadata": {},
   "outputs": [
    {
     "name": "stdout",
     "output_type": "stream",
     "text": [
      "856K\t../../data/car_service/car_service/output/csv\n"
     ]
    }
   ],
   "source": [
    "!du -sh ../../data/car_service/car_service/output/csv"
   ]
  },
  {
   "cell_type": "code",
   "execution_count": 10,
   "id": "5210777c-578b-4061-87ed-462c56a7f27b",
   "metadata": {},
   "outputs": [
    {
     "name": "stderr",
     "output_type": "stream",
     "text": [
      "                                                                                "
     ]
    }
   ],
   "source": [
    "rental_cars_df.write \\\n",
    "            .mode(\"overwrite\") \\\n",
    "            .option(\"header\", True) \\\n",
    "            .csv(base_path + \"car_service/car_service/output/rentals/csv\")"
   ]
  },
  {
   "cell_type": "code",
   "execution_count": 11,
   "id": "408d7242-1708-4666-a921-6c17be9bbd12",
   "metadata": {},
   "outputs": [
    {
     "name": "stderr",
     "output_type": "stream",
     "text": [
      "                                                                                "
     ]
    }
   ],
   "source": [
    "rental_cars_df.write \\\n",
    "            .mode(\"overwrite\") \\\n",
    "            .parquet(base_path + \"car_service/car_service/output/rentals/parquet\")"
   ]
  },
  {
   "cell_type": "code",
   "execution_count": 12,
   "id": "99cfcee1-9337-42f5-94c7-4e658a1f6e16",
   "metadata": {},
   "outputs": [
    {
     "name": "stderr",
     "output_type": "stream",
     "text": [
      "[Stage 28:=============================>                            (1 + 1) / 2]"
     ]
    },
    {
     "name": "stdout",
     "output_type": "stream",
     "text": [
      "+---------+----------+----------+\n",
      "|  airline|max(price)|min(price)|\n",
      "+---------+----------+----------+\n",
      "|   Indigo|     31952|      1105|\n",
      "| SpiceJet|     34158|      1106|\n",
      "|Air_India|     90970|      1526|\n",
      "|  AirAsia|     31917|      1105|\n",
      "| GO_FIRST|     32803|      1105|\n",
      "|  Vistara|    123071|      1714|\n",
      "+---------+----------+----------+\n",
      "\n"
     ]
    },
    {
     "name": "stderr",
     "output_type": "stream",
     "text": [
      "                                                                                "
     ]
    }
   ],
   "source": [
    "airlines_schema_columns = [(\"index\", \"int\"), \n",
    "     (\"airline\", \"string\"), \n",
    "     (\"flight\", \"string\"),\n",
    "     (\"source_city\", \"string\"),\n",
    "     (\"departure_time\", \"string\"),\n",
    "     (\"stops\", \"string\"),\n",
    "     (\"arrival_time\", \"string\"),\n",
    "     (\"destination_city\", \"string\"),\n",
    "     (\"class\", \"string\"),\n",
    "     (\"duration\", \"float\"),\n",
    "     (\"days_left\", \"int\"),\n",
    "     (\"price\", \"int\")\n",
    "     ]\n",
    "airlines_schema = SparkUtils.generate_schema(airlines_schema_columns)\n",
    "\n",
    "df_airlines = spark.read \\\n",
    "                .option(\"header\", \"true\") \\\n",
    "                .schema(airlines_schema) \\\n",
    "                .csv(base_path + \"/airline/\")\n",
    "\n",
    "from pyspark.sql.functions import max, min\n",
    "df_airlines.groupBy(df_airlines.airline).agg(max(df_airlines.price), min(df_airlines.price)).show()"
   ]
  },
  {
   "cell_type": "code",
   "execution_count": 13,
   "id": "d1adaae6-2b1b-4cf9-bb64-00cc325cfe86",
   "metadata": {},
   "outputs": [
    {
     "name": "stderr",
     "output_type": "stream",
     "text": [
      "                                                                                "
     ]
    },
    {
     "data": {
      "text/plain": [
       "501"
      ]
     },
     "execution_count": 13,
     "metadata": {},
     "output_type": "execute_result"
    }
   ],
   "source": [
    "df_final = df_airlines.filter(df_airlines.price < 1500)\n",
    "df_final.count()"
   ]
  },
  {
   "cell_type": "code",
   "execution_count": 14,
   "id": "93fc3be6-3950-4da1-844d-da28b7dafb59",
   "metadata": {},
   "outputs": [
    {
     "name": "stderr",
     "output_type": "stream",
     "text": [
      "                                                                                "
     ]
    }
   ],
   "source": [
    "df_final.write \\\n",
    "              .option(\"header\", True) \\\n",
    "              .mode(\"overwrite\") \\\n",
    "              .csv(base_path + \"/airline/output/csv\")"
   ]
  },
  {
   "cell_type": "code",
   "execution_count": 7,
   "id": "9078a7dd",
   "metadata": {},
   "outputs": [],
   "source": [
    "sc.stop()"
   ]
  }
 ],
 "metadata": {
  "kernelspec": {
   "display_name": "Python 3 (ipykernel)",
   "language": "python",
   "name": "python3"
  },
  "language_info": {
   "codemirror_mode": {
    "name": "ipython",
    "version": 3
   },
   "file_extension": ".py",
   "mimetype": "text/x-python",
   "name": "python",
   "nbconvert_exporter": "python",
   "pygments_lexer": "ipython3",
   "version": "3.10.12"
  }
 },
 "nbformat": 4,
 "nbformat_minor": 5
}
