{
 "cells": [
  {
   "cell_type": "code",
   "execution_count": null,
   "id": "96a2fa30-f3c9-49be-ae75-52c4641407a7",
   "metadata": {},
   "outputs": [],
   "source": []
  }
 ],
 "metadata": {
  "kernelspec": {
   "display_name": "",
   "name": ""
  },
  "language_info": {
   "name": ""
  }
 },
 "nbformat": 4,
 "nbformat_minor": 5
}
