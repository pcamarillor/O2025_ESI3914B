{
 "cells": [
  {
   "cell_type": "markdown",
   "id": "9dcf71d3-f1b8-4a2d-bd23-24eba018b829",
   "metadata": {},
   "source": [
    "# <center> <img src=\"../../img/ITESOLogo.png\" alt=\"ITESO\" width=\"480\" height=\"130\"> </center>\n",
    "# <center> **Departamento de Electrónica, Sistemas e Informática** </center>\n",
    "---\n",
    "## <center> Computer Systems Engineering  </center>\n",
    "---\n",
    "### <center> Big Data Processing </center>\n",
    "---\n",
    "#### <center> **Autumn 2025** </center>\n",
    "---\n",
    "\n",
    "**Lab 04**: Data Unions & Joins Pipeline\n",
    "\n",
    "**Date**: September 23rd 2025\n",
    "\n",
    "**Student Name**: Antonia Hoerburger\n",
    "\n",
    "**Professor**: Pablo Camarillo Ramirez"
   ]
  },
  {
   "cell_type": "code",
   "execution_count": 1,
   "id": "6142f7b9-e9f9-4d9f-9bdf-24a009d10fa0",
   "metadata": {},
   "outputs": [
    {
     "name": "stderr",
     "output_type": "stream",
     "text": [
      "WARNING: Using incubator modules: jdk.incubator.vector\n",
      "Using Spark's default log4j profile: org/apache/spark/log4j2-defaults.properties\n",
      "Setting default log level to \"WARN\".\n",
      "To adjust logging level use sc.setLogLevel(newLevel). For SparkR, use setLogLevel(newLevel).\n",
      "25/09/26 13:07:46 WARN NativeCodeLoader: Unable to load native-hadoop library for your platform... using builtin-java classes where applicable\n"
     ]
    }
   ],
   "source": [
    "import findspark\n",
    "findspark.init()\n",
    "\n",
    "from pyspark.sql import SparkSession\n",
    "\n",
    "spark = SparkSession.builder \\\n",
    "    .appName(\"Examples on SparkSQL\") \\\n",
    "    .master(\"spark://aba0da925ac6:7077\") \\\n",
    "    .config(\"spark.ui.port\", \"4040\") \\\n",
    "    .getOrCreate()\n",
    "\n",
    "sc = spark.sparkContext\n",
    "sc.setLogLevel(\"ERROR\")"
   ]
  },
  {
   "cell_type": "code",
   "execution_count": 2,
   "id": "76abdb8c-ed3e-4020-9f0f-a95aee80157b",
   "metadata": {},
   "outputs": [],
   "source": [
    "from antoniahorburger.spark_utils import SparkUtils"
   ]
  },
  {
   "cell_type": "code",
   "execution_count": 3,
   "id": "011f0b9b-d64c-40e4-a239-1a693b2fbdbb",
   "metadata": {},
   "outputs": [
    {
     "name": "stdout",
     "output_type": "stream",
     "text": [
      "/opt/spark/work-dir/labs/lab04\n"
     ]
    }
   ],
   "source": [
    "!pwd"
   ]
  },
  {
   "cell_type": "code",
   "execution_count": 4,
   "id": "e6d66de4-ed64-4fce-8c29-a0bacf67dc36",
   "metadata": {},
   "outputs": [
    {
     "name": "stdout",
     "output_type": "stream",
     "text": [
      "agencies  brands  cars\tcustomers  rentals\n"
     ]
    }
   ],
   "source": [
    "!ls /opt/spark/work-dir/data/car_service/"
   ]
  },
  {
   "cell_type": "code",
   "execution_count": 5,
   "id": "1d506561-2618-4e48-b062-61e17e6b1723",
   "metadata": {},
   "outputs": [
    {
     "name": "stderr",
     "output_type": "stream",
     "text": [
      "[Stage 0:>                                                          (0 + 1) / 1]"
     ]
    },
    {
     "name": "stdout",
     "output_type": "stream",
     "text": [
      "+---------+--------------------+\n",
      "|agency_id|         agency_info|\n",
      "+---------+--------------------+\n",
      "|        1|{'agency_name': '...|\n",
      "|        2|{'agency_name': '...|\n",
      "|        3|{'agency_name': '...|\n",
      "|        4|{'agency_name': '...|\n",
      "|        5|{'agency_name': '...|\n",
      "+---------+--------------------+\n",
      "\n"
     ]
    },
    {
     "name": "stderr",
     "output_type": "stream",
     "text": [
      "                                                                                "
     ]
    }
   ],
   "source": [
    "agencies_schema = SparkUtils.generate_schema([(\"agency_id\", \"int\"), (\"agency_info\", \"string\")])\n",
    "agencies_df = spark.read.option(\"header\", True).schema(agencies_schema).csv(\"/opt/spark/work-dir/data/car_service/agencies\")\n",
    "agencies_df.show()"
   ]
  },
  {
   "cell_type": "code",
   "execution_count": 6,
   "id": "d46c6de9-a2b7-42c5-8909-5cacf42bbe50",
   "metadata": {},
   "outputs": [],
   "source": [
    "from pyspark.sql.functions import get_json_object\n",
    "\n",
    "agencies_schema = SparkUtils.generate_schema([(\"agency_id\", \"string\"), (\"agency_info\", \"string\")])\n",
    "cars_schema = SparkUtils.generate_schema([(\"car_id\", \"int\"), (\"car_info\", \"string\")])\n",
    "customers_schema = SparkUtils.generate_schema([(\"customer_id\", \"int\"), (\"customer_info\", \"string\")])\n",
    "rental_cars_schema = SparkUtils.generate_schema([(\"rental_id\", \"int\"), (\"rental_info\", \"string\")])\n",
    "\n",
    "base_path = \"/opt/spark/work-dir/data/\"\n",
    "\n",
    "agencies_df = spark.read \\\n",
    "                .schema(agencies_schema) \\\n",
    "                .option(\"header\", \"true\") \\\n",
    "                .csv(base_path + \"car_service/agencies\")\n",
    "agencies_df = agencies_df.withColumn(\"agency_name\", get_json_object(agencies_df.agency_info, \"$.agency_name\"))\n",
    "\n",
    "\n",
    "cars_df = spark.read.option(\"header\", \"true\").schema(cars_schema).csv(base_path + \"car_service/cars\")\n",
    "\n",
    "brands_df = spark.read.option(\"header\", \"true\").schema(cars_schema).csv(base_path + \"car_service/brands\")\n",
    "\n",
    "customers_df = spark.read.option(\"header\", \"true\").schema(customers_schema).csv(base_path + \"car_service/customers\")\n",
    "\n",
    "rental_cars_df = spark.read.option(\"header\", \"true\").schema(rental_cars_schema).csv(base_path + \"car_service/rentals\")"
   ]
  },
  {
   "cell_type": "code",
   "execution_count": 7,
   "id": "da4d80a2-4fe5-48d8-8732-3be3a8381eb7",
   "metadata": {},
   "outputs": [],
   "source": [
    "agencies_df = agencies_df.withColumn(\"agency_name\", get_json_object(agencies_df.agency_info, \"$.agency_name\")).drop(\"agency_info\")\n",
    "cars_df = cars_df.withColumn(\"car_name\", get_json_object(cars_df.car_info, \"$.car_name\")).drop(\"car_info\")\n",
    "customers_df = customers_df.withColumn(\"customer_name\", get_json_object(customers_df.customer_info, \"$.customer_name\")).drop(\"customer_info\")\n",
    "\n",
    "rental_cars_df = rental_cars_df.withColumn(\"car_id\", get_json_object(rental_cars_df.rental_info, '$.car_id')) \\\n",
    "                            .withColumn(\"customer_id\", get_json_object(rental_cars_df.rental_info, '$.customer_id')) \\\n",
    "                            .withColumn(\"agency_id\", get_json_object(rental_cars_df.rental_info, '$.agency_id')) \\\n",
    "                            .drop(\"rental_info\")"
   ]
  },
  {
   "cell_type": "code",
   "execution_count": 8,
   "id": "438e351a-5924-4ad1-8f31-074e0085feea",
   "metadata": {},
   "outputs": [
    {
     "name": "stderr",
     "output_type": "stream",
     "text": [
      "                                                                                "
     ]
    },
    {
     "name": "stdout",
     "output_type": "stream",
     "text": [
      "+---------+--------------------+---------------+-------------+\n",
      "|rental_id|            car_name|  customer_name|  agency_name|\n",
      "+---------+--------------------+---------------+-------------+\n",
      "|    11891|Wallace-Carlson M...| Margaret Jones|  NYC Rentals|\n",
      "|    11892|Grimes-Green Model 8|Albert Williams|LA Car Rental|\n",
      "|    11893|Stewart-Allen Mod...|  Caleb Fleming|      SF Cars|\n",
      "|    11894|  Campos PLC Model 4|  Andrew Butler|  NYC Rentals|\n",
      "|    11895|  Wagner LLC Model 1|  Kristin Potts|      SF Cars|\n",
      "+---------+--------------------+---------------+-------------+\n",
      "only showing top 5 rows\n"
     ]
    }
   ],
   "source": [
    "rental_cars_df = rental_cars_df.join(cars_df, on=\"car_id\", how=\"left\") \\\n",
    "                                .join(customers_df, on=\"customer_id\", how=\"left\") \\\n",
    "                                .join(agencies_df, on=\"agency_id\", how=\"left\") \\\n",
    "                                .drop(\"agency_id\", \"customer_id\", \"car_id\")\n",
    "\n",
    "rental_cars_df.show(5)"
   ]
  },
  {
   "cell_type": "code",
   "execution_count": 10,
   "id": "78002a82-2f4a-4ea4-9302-b347a6f951df",
   "metadata": {},
   "outputs": [
    {
     "name": "stdout",
     "output_type": "stream",
     "text": [
      "/opt/spark/work-dir/labs/lab04\n"
     ]
    }
   ],
   "source": [
    "!pwd"
   ]
  },
  {
   "cell_type": "code",
   "execution_count": 29,
   "id": "0e040306-ad8d-4525-8396-cd663b1410a2",
   "metadata": {},
   "outputs": [
    {
     "name": "stdout",
     "output_type": "stream",
     "text": [
      "1.1M\t/opt/spark/work-dir/data/car_service/rentals/\n"
     ]
    }
   ],
   "source": [
    "!du -sh /opt/spark/work-dir/data/car_service/rentals/"
   ]
  },
  {
   "cell_type": "code",
   "execution_count": 30,
   "id": "d000cbec-8a04-4409-ac46-4e39dff0e1ad",
   "metadata": {},
   "outputs": [
    {
     "name": "stderr",
     "output_type": "stream",
     "text": [
      "                                                                                "
     ]
    }
   ],
   "source": [
    "rental_cars_df.write \\\n",
    "            .mode(\"overwrite\") \\\n",
    "            .parquet(base_path + \"car_service/output/parquet\")"
   ]
  },
  {
   "cell_type": "code",
   "execution_count": 31,
   "id": "b11e1d60-fe80-4095-a166-fb9ec1eeea99",
   "metadata": {},
   "outputs": [
    {
     "name": "stdout",
     "output_type": "stream",
     "text": [
      "part-00000-d4a4f969-0fa3-491b-b6b5-06393114a66e-c000.snappy.parquet  _SUCCESS\n",
      "part-00001-d4a4f969-0fa3-491b-b6b5-06393114a66e-c000.snappy.parquet\n"
     ]
    }
   ],
   "source": [
    "!ls /opt/spark/work-dir/data/car_service/output/parquet/"
   ]
  },
  {
   "cell_type": "code",
   "execution_count": 32,
   "id": "694fc8f5-6588-4818-a804-aba6f07a9ce3",
   "metadata": {},
   "outputs": [
    {
     "name": "stdout",
     "output_type": "stream",
     "text": [
      "124K\t/opt/spark/work-dir/data/car_service/output/parquet/\n"
     ]
    }
   ],
   "source": [
    "!du -sh /opt/spark/work-dir/data/car_service/output/parquet/"
   ]
  },
  {
   "cell_type": "code",
   "execution_count": 33,
   "id": "791522d7-ea1c-4d21-ac5a-b344d8a13d46",
   "metadata": {},
   "outputs": [
    {
     "name": "stderr",
     "output_type": "stream",
     "text": [
      "                                                                                "
     ]
    }
   ],
   "source": [
    "rental_cars_df.write \\\n",
    "            .partitionBy(\"agency_name\") \\\n",
    "            .mode(\"overwrite\") \\\n",
    "            .parquet(base_path + \"car_service/output/parquet\")"
   ]
  },
  {
   "cell_type": "code",
   "execution_count": 34,
   "id": "9c415ba8-6263-4e93-bb55-abc645953933",
   "metadata": {},
   "outputs": [
    {
     "name": "stdout",
     "output_type": "stream",
     "text": [
      "'agency_name=LA Car Rental'  'agency_name=SF Cars'\t  _SUCCESS\n",
      "'agency_name=NYC Rentals'    'agency_name=Zapopan Auto'\n"
     ]
    }
   ],
   "source": [
    "!ls /opt/spark/work-dir/data/car_service/output/parquet/"
   ]
  },
  {
   "cell_type": "code",
   "execution_count": 35,
   "id": "7a5e67df-866c-44dd-8e65-cb9cae7737bf",
   "metadata": {},
   "outputs": [
    {
     "name": "stdout",
     "output_type": "stream",
     "text": [
      "144K\t/opt/spark/work-dir/data/car_service/output/parquet/\n"
     ]
    }
   ],
   "source": [
    "!du -sh /opt/spark/work-dir/data/car_service/output/parquet/"
   ]
  },
  {
   "cell_type": "code",
   "execution_count": 36,
   "id": "342cb49b-aedb-414f-b3a0-311c418007aa",
   "metadata": {},
   "outputs": [
    {
     "name": "stderr",
     "output_type": "stream",
     "text": [
      "                                                                                "
     ]
    }
   ],
   "source": [
    "rental_cars_df.write \\\n",
    "            .partitionBy(\"agency_name\") \\\n",
    "            .mode(\"overwrite\") \\\n",
    "            .option(\"header\", True) \\\n",
    "            .csv(base_path + \"car_service/output/csv\")"
   ]
  },
  {
   "cell_type": "code",
   "execution_count": 37,
   "id": "5cb36d51-abfa-47cc-a64c-ffd1e6cfdc08",
   "metadata": {},
   "outputs": [
    {
     "name": "stdout",
     "output_type": "stream",
     "text": [
      "856K\t/opt/spark/work-dir/data/car_service/output/csv\n"
     ]
    }
   ],
   "source": [
    "!du -sh /opt/spark/work-dir/data/car_service/output/csv"
   ]
  }
 ],
 "metadata": {
  "kernelspec": {
   "display_name": "Python 3 (ipykernel)",
   "language": "python",
   "name": "python3"
  },
  "language_info": {
   "codemirror_mode": {
    "name": "ipython",
    "version": 3
   },
   "file_extension": ".py",
   "mimetype": "text/x-python",
   "name": "python",
   "nbconvert_exporter": "python",
   "pygments_lexer": "ipython3",
   "version": "3.10.12"
  }
 },
 "nbformat": 4,
 "nbformat_minor": 5
}
