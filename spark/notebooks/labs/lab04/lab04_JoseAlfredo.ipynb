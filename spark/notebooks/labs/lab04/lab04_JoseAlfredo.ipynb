{
 "cells": [
  {
   "cell_type": "markdown",
   "id": "214a2327",
   "metadata": {},
   "source": [
    "Importar spark_utils.py"
   ]
  },
  {
   "cell_type": "code",
   "execution_count": null,
   "id": "b65bf505",
   "metadata": {
    "vscode": {
     "languageId": "plaintext"
    }
   },
   "outputs": [],
   "source": [
    "import sys\n",
    "sys.path.append('/home/usuario/02025_ESI3914B/spark/libs\n",
    "') \n",
    "from spark_utils import init_spark, load_json_data\n"
   ]
  },
  {
   "cell_type": "code",
   "execution_count": null,
   "id": "48d80033",
   "metadata": {
    "vscode": {
     "languageId": "plaintext"
    }
   },
   "outputs": [],
   "source": [
    "# Inicializar la sesión de Spark\n",
    "spark = init_spark()\n"
   ]
  },
  {
   "cell_type": "code",
   "execution_count": null,
   "id": "1963150a",
   "metadata": {
    "vscode": {
     "languageId": "plaintext"
    }
   },
   "outputs": [],
   "source": [
    "# Cargar los datasets desde los archivos JSON\n",
    "agencies_df = load_json_data(spark, \"path_to_your_data/agencies_file.json\")\n",
    "brands_df = load_json_data(spark, \"path_to_your_data/brands_file.json\")\n",
    "cars_df = load_json_data(spark, \"path_to_your_data/cars_file.json\")\n",
    "customers_df = load_json_data(spark, \"path_to_your_data/customers_file.json\")\n",
    "rentals_df = load_json_data(spark, \"path_to_your_data/rentals_file.json\")\n"
   ]
  },
  {
   "cell_type": "code",
   "execution_count": null,
   "id": "10985016",
   "metadata": {
    "vscode": {
     "languageId": "plaintext"
    }
   },
   "outputs": [],
   "source": [
    "from pyspark.sql import functions as F\n",
    "\n",
    "# Extraer información de las columnas JSON\n",
    "agencies_df = agencies_df.withColumn('agency_name', F.get_json_object('agency_info', '$.agency_name'))\\\n",
    "                         .withColumn('city', F.get_json_object('agency_info', '$.city'))\n",
    "\n",
    "brands_df = brands_df.withColumn('brand_name', F.get_json_object('brand_info', '$.brand_name'))\\\n",
    "                     .withColumn('country', F.get_json_object('brand_info', '$.country'))\n",
    "\n",
    "cars_df = cars_df.withColumn('car_name', F.get_json_object('car_info', '$.car_name'))\n",
    "\n",
    "customers_df = customers_df.withColumn('customer_name', F.get_json_object('customer_info', '$.customer_name'))\n"
   ]
  },
  {
   "cell_type": "code",
   "execution_count": null,
   "id": "11e5ddbb",
   "metadata": {
    "vscode": {
     "languageId": "plaintext"
    }
   },
   "outputs": [],
   "source": [
    "# Unir los dataframes basados en las relaciones entre ellos\n",
    "final_df = rentals_df.join(agencies_df, rentals_df.agency_id == agencies_df.agency_id) \\\n",
    "                     .join(cars_df, rentals_df.car_id == cars_df.car_id) \\\n",
    "                     .join(customers_df, rentals_df.customer_id == customers_df.customer_id) \\\n",
    "                     .join(brands_df, cars_df.car_id == brands_df.car_id)\n",
    "\n",
    "# Seleccionar las columnas necesarias para el dataframe final\n",
    "final_df = final_df.select('rental_id', 'car_name', 'agency_name', 'customer_name')\n"
   ]
  },
  {
   "cell_type": "code",
   "execution_count": null,
   "id": "d99671c2",
   "metadata": {
    "vscode": {
     "languageId": "plaintext"
    }
   },
   "outputs": [],
   "source": [
    "# Mostrar el dataframe final\n",
    "final_df.show()\n"
   ]
  }
 ],
 "metadata": {
  "language_info": {
   "name": "python"
  }
 },
 "nbformat": 4,
 "nbformat_minor": 5
}
