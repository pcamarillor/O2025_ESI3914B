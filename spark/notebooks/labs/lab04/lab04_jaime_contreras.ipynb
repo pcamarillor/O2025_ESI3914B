{
 "cells": [
  {
   "cell_type": "markdown",
   "id": "b92d9622",
   "metadata": {},
   "source": [
    "# <center> <img src=\"../../img/ITESOLogo.png\" alt=\"ITESO\" width=\"480\" height=\"130\"> </center>\n",
    "# <center> **Departamento de Electrónica, Sistemas e Informática** </center>\n",
    "---\n",
    "## <center> Computer Systems Engineering  </center>\n",
    "---\n",
    "### <center> Big Data Processing </center>\n",
    "---\n",
    "#### <center> **Autumn 2025** </center>\n",
    "---\n",
    "\n",
    "**Lab 04**: Data Unions & Joins Pipeline\n",
    "\n",
    "**Date**: September 23rd 2025\n",
    "\n",
    "**Student Name**: Jaime Antonio Contreras Barragan\n",
    "\n",
    "**Professor**: Pablo Camarillo Ramirez"
   ]
  },
  {
   "cell_type": "code",
   "execution_count": 26,
   "id": "ed17a0b0",
   "metadata": {},
   "outputs": [],
   "source": [
    "import findspark\n",
    "findspark.init()\n",
    "\n",
    "from pyspark.sql import SparkSession\n",
    "\n",
    "spark = SparkSession.builder \\\n",
    "    .appName(\"Examples on SparkSQL\") \\\n",
    "    .master(\"spark://75bb008a135c:7077\") \\\n",
    "    .config(\"spark.ui.port\", \"4040\") \\\n",
    "    .getOrCreate()\n",
    "\n",
    "sc = spark.sparkContext\n",
    "sc.setLogLevel(\"ERROR\")"
   ]
  },
  {
   "cell_type": "code",
   "execution_count": 27,
   "id": "a93cd621",
   "metadata": {},
   "outputs": [
    {
     "name": "stdout",
     "output_type": "stream",
     "text": [
      "+---------+-----------------------------------------------------+\n",
      "|agency_id|agency_info                                          |\n",
      "+---------+-----------------------------------------------------+\n",
      "|1        |{'agency_name': 'NYC Rentals', 'city': 'New York'}   |\n",
      "|2        |{'agency_name': 'LA Car Rental', 'city': 'Londres'}  |\n",
      "|3        |{'agency_name': 'Zapopan Auto', 'city': 'Zapopan'}   |\n",
      "|4        |{'agency_name': 'SF Cars', 'city': 'San Francisco'}  |\n",
      "|5        |{'agency_name': 'Mexico Cars', 'city': 'Mexico City'}|\n",
      "+---------+-----------------------------------------------------+\n",
      "\n",
      "+--------+-----------------------------------------------------+\n",
      "|brand_id|brand_info                                           |\n",
      "+--------+-----------------------------------------------------+\n",
      "|1       |{'brand_name': 'Mercedes-Benz', 'country': 'Germany'}|\n",
      "|2       |{'brand_name': 'BMW', 'country': 'Germany'}          |\n",
      "|3       |{'brand_name': 'Audi', 'country': 'Germany'}         |\n",
      "|4       |{'brand_name': 'Ford', 'country': 'US'}              |\n",
      "|5       |{'brand_name': 'BYD', 'country': 'China'}            |\n",
      "|6       |{'brand_name': 'Honda', 'country': 'Japan'}          |\n",
      "|7       |{'brand_name': 'Toyota', 'country': 'Japan'}         |\n",
      "+--------+-----------------------------------------------------+\n",
      "\n",
      "+------+----------------------------------------------------------------------------------------+\n",
      "|car_id|car_info                                                                                |\n",
      "+------+----------------------------------------------------------------------------------------+\n",
      "|1     |{'car_name': 'Chang-Fisher Model 7', 'brand_id': 5, 'price_per_day': 139}               |\n",
      "|2     |{'car_name': 'Sheppard-Tucker Model 4', 'brand_id': 6, 'price_per_day': 70}             |\n",
      "|3     |{'car_name': 'Faulkner-Howard Model 5', 'brand_id': 3, 'price_per_day': 53}             |\n",
      "|4     |{'car_name': 'Wagner LLC Model 1', 'brand_id': 5, 'price_per_day': 89}                  |\n",
      "|5     |{'car_name': 'Campos PLC Model 4', 'brand_id': 4, 'price_per_day': 112}                 |\n",
      "|6     |{'car_name': 'Archer-Patel Model 2', 'brand_id': 3, 'price_per_day': 55}                |\n",
      "|7     |{'car_name': 'Patrick, Barrera and Collins Model 6', 'brand_id': 6, 'price_per_day': 66}|\n",
      "|8     |{'car_name': 'Jones, Jefferson and Rivera Model 7', 'brand_id': 2, 'price_per_day': 115}|\n",
      "|9     |{'car_name': 'Garcia, Hamilton and Carr Model 5', 'brand_id': 6, 'price_per_day': 137}  |\n",
      "|10    |{'car_name': 'Levy Group Model 9', 'brand_id': 3, 'price_per_day': 93}                  |\n",
      "|11    |{'car_name': 'Grimes-Green Model 8', 'brand_id': 3, 'price_per_day': 150}               |\n",
      "|12    |{'car_name': 'Moon, Davis and Larsen Model 1', 'brand_id': 6, 'price_per_day': 100}     |\n",
      "|13    |{'car_name': 'Summers, Barnett and Smith Model 6', 'brand_id': 4, 'price_per_day': 139} |\n",
      "|14    |{'car_name': 'Clayton-Cook Model 10', 'brand_id': 6, 'price_per_day': 116}              |\n",
      "|15    |{'car_name': 'Nguyen, Harrell and Lee Model 6', 'brand_id': 2, 'price_per_day': 94}     |\n",
      "|16    |{'car_name': 'Walker, Pratt and Thomas Model 9', 'brand_id': 6, 'price_per_day': 192}   |\n",
      "|17    |{'car_name': 'West, Miller and Flores Model 5', 'brand_id': 1, 'price_per_day': 63}     |\n",
      "|18    |{'car_name': 'Bolton, Burns and Turner Model 10', 'brand_id': 6, 'price_per_day': 110}  |\n",
      "|19    |{'car_name': 'Mann-Kelley Model 3', 'brand_id': 2, 'price_per_day': 146}                |\n",
      "|20    |{'car_name': 'Harris, Lloyd and Payne Model 4', 'brand_id': 6, 'price_per_day': 96}     |\n",
      "+------+----------------------------------------------------------------------------------------+\n",
      "only showing top 20 rows\n",
      "+-----------+-------------------------------------------------------------------------+\n",
      "|customer_id|customer_info                                                            |\n",
      "+-----------+-------------------------------------------------------------------------+\n",
      "|1          |{'customer_name': 'Tiffany Riley', 'city': 'Monterrey', 'age': 32}       |\n",
      "|2          |{'customer_name': 'Matthew Davies', 'city': 'Monterrey', 'age': 36}      |\n",
      "|3          |{'customer_name': 'Rebecca Miller', 'city': 'Mexico City', 'age': 30}    |\n",
      "|4          |{'customer_name': 'Katelyn Mccoy', 'city': 'New York', 'age': 34}        |\n",
      "|5          |{'customer_name': 'Dana Dennis', 'city': 'Zapopan', 'age': 26}           |\n",
      "|6          |{'customer_name': 'Daniel Norton', 'city': 'Mexico City', 'age': 34}     |\n",
      "|7          |{'customer_name': 'Robert Garcia', 'city': 'Zapopan', 'age': 47}         |\n",
      "|8          |{'customer_name': 'Michael Williams', 'city': 'Monterrey', 'age': 33}    |\n",
      "|9          |{'customer_name': 'Susan Ferguson', 'city': 'San Francisco', 'age': 41}  |\n",
      "|10         |{'customer_name': 'Alyssa Reid', 'city': 'Mexico City', 'age': 40}       |\n",
      "|11         |{'customer_name': 'Laura Myers', 'city': 'Zapopan', 'age': 50}           |\n",
      "|12         |{'customer_name': 'William Johnson', 'city': 'Monterrey', 'age': 25}     |\n",
      "|13         |{'customer_name': 'Tyler Lopez', 'city': 'Mexico City', 'age': 21}       |\n",
      "|14         |{'customer_name': 'Daniel Owen', 'city': 'Mexico City', 'age': 47}       |\n",
      "|15         |{'customer_name': 'Allison Coleman', 'city': 'Zapopan', 'age': 33}       |\n",
      "|16         |{'customer_name': 'David Walker', 'city': 'Londres', 'age': 33}          |\n",
      "|17         |{'customer_name': 'Hayley White', 'city': 'Monterrey', 'age': 29}        |\n",
      "|18         |{'customer_name': 'Amanda Garcia', 'city': 'Zapopan', 'age': 20}         |\n",
      "|19         |{'customer_name': 'Christina Howard PhD', 'city': 'Monterrey', 'age': 22}|\n",
      "|20         |{'customer_name': 'Tamara Jackson', 'city': 'San Francisco', 'age': 29}  |\n",
      "+-----------+-------------------------------------------------------------------------+\n",
      "only showing top 20 rows\n",
      "+---------+--------------------------------------------------+\n",
      "|rental_id|rental_info                                       |\n",
      "+---------+--------------------------------------------------+\n",
      "|11891    |{'car_id': 21, 'customer_id': 71, 'agency_id': 1} |\n",
      "|11892    |{'car_id': 11, 'customer_id': 52, 'agency_id': 2} |\n",
      "|11893    |{'car_id': 22, 'customer_id': 116, 'agency_id': 4}|\n",
      "|11894    |{'car_id': 5, 'customer_id': 107, 'agency_id': 1} |\n",
      "|11895    |{'car_id': 4, 'customer_id': 53, 'agency_id': 4}  |\n",
      "|11896    |{'car_id': 8, 'customer_id': 131, 'agency_id': 2} |\n",
      "|11897    |{'car_id': 23, 'customer_id': 66, 'agency_id': 3} |\n",
      "|11898    |{'car_id': 24, 'customer_id': 60, 'agency_id': 4} |\n",
      "|11899    |{'car_id': 27, 'customer_id': 92, 'agency_id': 2} |\n",
      "|11900    |{'car_id': 3, 'customer_id': 40, 'agency_id': 4}  |\n",
      "|11901    |{'car_id': 3, 'customer_id': 35, 'agency_id': 1}  |\n",
      "|11902    |{'car_id': 3, 'customer_id': 72, 'agency_id': 1}  |\n",
      "|11903    |{'car_id': 29, 'customer_id': 58, 'agency_id': 3} |\n",
      "|11904    |{'car_id': 3, 'customer_id': 131, 'agency_id': 4} |\n",
      "|11905    |{'car_id': 27, 'customer_id': 10, 'agency_id': 2} |\n",
      "|11906    |{'car_id': 12, 'customer_id': 40, 'agency_id': 1} |\n",
      "|11907    |{'car_id': 25, 'customer_id': 53, 'agency_id': 3} |\n",
      "|11908    |{'car_id': 14, 'customer_id': 153, 'agency_id': 4}|\n",
      "|11909    |{'car_id': 24, 'customer_id': 96, 'agency_id': 4} |\n",
      "|11910    |{'car_id': 24, 'customer_id': 151, 'agency_id': 4}|\n",
      "+---------+--------------------------------------------------+\n",
      "only showing top 20 rows\n"
     ]
    }
   ],
   "source": [
    "# Build schema\n",
    "# Import your module\n",
    "from jaimodule.spark_utils import SparkUtils\n",
    "\n",
    "schema_agencies = SparkUtils.generate_schema([(\"agency_id\", \"int\"), (\"agency_info\", \"string\")])\n",
    "schema_brands = SparkUtils.generate_schema([(\"brand_id\", \"int\"), (\"brand_info\", \"string\")])\n",
    "schema_cars = SparkUtils.generate_schema([(\"car_id\", \"int\"), (\"car_info\", \"string\")])\n",
    "schema_customers = SparkUtils.generate_schema([(\"customer_id\", \"int\"), (\"customer_info\", \"string\")])\n",
    "schema_rentals = SparkUtils.generate_schema([(\"rental_id\", \"int\"), (\"rental_info\", \"string\")])\n",
    "\n",
    "df_agencies = spark.read.schema(schema_agencies).option(\"header\", True).csv(\"/opt/spark/work-dir/data/car_service/agencies\")\n",
    "df_agencies.show(truncate=False)\n",
    "df_brands = spark.read.schema(schema_brands).option(\"header\", True).csv(\"/opt/spark/work-dir/data/car_service/brands\")\n",
    "df_brands.show(truncate=False)\n",
    "df_cars = spark.read.schema(schema_cars).option(\"header\", True).csv(\"/opt/spark/work-dir/data/car_service/cars\")\n",
    "df_cars.show(truncate=False)\n",
    "df_customers = spark.read.schema(schema_customers).option(\"header\", True).csv(\"/opt/spark/work-dir/data/car_service/customers\")\n",
    "df_customers.show(truncate=False)\n",
    "df_rentals = spark.read.schema(schema_rentals).option(\"header\", True).csv(\"/opt/spark/work-dir/data/car_service/rentals\")\n",
    "df_rentals.show(truncate=False)\n",
    "\n"
   ]
  },
  {
   "cell_type": "code",
   "execution_count": 28,
   "id": "db4312f5-6faa-46bf-82b6-aba3dcb38b0f",
   "metadata": {},
   "outputs": [],
   "source": [
    "#agencies_df = agencies_df.withColumn('')"
   ]
  },
  {
   "cell_type": "code",
   "execution_count": 29,
   "id": "93653632-bd3f-4569-85b0-c4fe26a36ec3",
   "metadata": {},
   "outputs": [
    {
     "name": "stdout",
     "output_type": "stream",
     "text": [
      "+---------+-------------+-------------+\n",
      "|agency_id|  agency_name|         city|\n",
      "+---------+-------------+-------------+\n",
      "|        1|  NYC Rentals|     New York|\n",
      "|        2|LA Car Rental|      Londres|\n",
      "|        3| Zapopan Auto|      Zapopan|\n",
      "|        4|      SF Cars|San Francisco|\n",
      "|        5|  Mexico Cars|  Mexico City|\n",
      "+---------+-------------+-------------+\n",
      "\n"
     ]
    }
   ],
   "source": [
    "from pyspark.sql.functions import get_json_object\n",
    "df_agencies_v2 = df_agencies.withColumn(\"agency_name\",get_json_object(\"agency_info\",\"$.agency_name\")) \\\n",
    "                                .withColumn(\"city\",get_json_object(\"agency_info\",\"$.city\")) \\\n",
    "                                .drop(\"agency_info\")\n",
    "df_agencies_v2.show()"
   ]
  },
  {
   "cell_type": "code",
   "execution_count": null,
   "id": "5d2fe381-c69b-4d99-bc90-e2b233b1e739",
   "metadata": {},
   "outputs": [],
   "source": []
  },
  {
   "cell_type": "code",
   "execution_count": 71,
   "id": "6bf0e268-104a-4268-b5e9-729074eb119a",
   "metadata": {},
   "outputs": [
    {
     "name": "stdout",
     "output_type": "stream",
     "text": [
      "+--------+-------------+-------+\n",
      "|brand_id|   brand_name|country|\n",
      "+--------+-------------+-------+\n",
      "|       1|Mercedes-Benz|Germany|\n",
      "|       2|          BMW|Germany|\n",
      "|       3|         Audi|Germany|\n",
      "|       4|         Ford|     US|\n",
      "|       5|          BYD|  China|\n",
      "+--------+-------------+-------+\n",
      "only showing top 5 rows\n"
     ]
    }
   ],
   "source": [
    "df_brands_v2 = df_brands.withColumn(\"brand_name\",get_json_object(\"brand_info\",\"$.brand_name\")) \\\n",
    "                                .withColumn(\"country\",get_json_object(\"brand_info\",\"$.country\")) \\\n",
    "                                .drop(\"brand_info\")\n",
    "df_brands_v2.show(n=5)"
   ]
  },
  {
   "cell_type": "code",
   "execution_count": 72,
   "id": "b1cb7ca0-c314-48f3-97db-3fabe903d22c",
   "metadata": {},
   "outputs": [
    {
     "name": "stdout",
     "output_type": "stream",
     "text": [
      "+------+--------------------+-------------+--------+----------+-------+\n",
      "|car_id|            car_name|price_per_day|brand_id|brand_name|country|\n",
      "+------+--------------------+-------------+--------+----------+-------+\n",
      "|     1|Chang-Fisher Model 7|          139|       5|       BYD|  China|\n",
      "|     2|Sheppard-Tucker M...|           70|       6|     Honda|  Japan|\n",
      "|     3|Faulkner-Howard M...|           53|       3|      Audi|Germany|\n",
      "|     4|  Wagner LLC Model 1|           89|       5|       BYD|  China|\n",
      "|     5|  Campos PLC Model 4|          112|       4|      Ford|     US|\n",
      "+------+--------------------+-------------+--------+----------+-------+\n",
      "only showing top 5 rows\n"
     ]
    }
   ],
   "source": [
    "df_cars_v2 = df_cars.withColumn(\"car_name\",get_json_object(\"car_info\",\"$.car_name\")) \\\n",
    "                            .withColumn(\"brand_id\",get_json_object(\"car_info\",\"$.brand_id\").cast(\"int\")) \\\n",
    "                            .withColumn(\"price_per_day\",get_json_object(\"car_info\",\"$.price_per_day\").cast(\"int\")) \\\n",
    "                            .drop(\"car_info\")\n",
    "df_cars_v2 = df_cars_v2.join(df_brands_v2, df_cars_v2.brand_id == df_brands_v2.brand_id).drop(df_cars_v2.brand_id)\n",
    "df_cars_v2.show(n=5)"
   ]
  },
  {
   "cell_type": "code",
   "execution_count": 73,
   "id": "eaba95bc-aebe-4530-88b2-2534b178ae6a",
   "metadata": {},
   "outputs": [
    {
     "name": "stdout",
     "output_type": "stream",
     "text": [
      "+-----------+--------------+---+-----------+\n",
      "|customer_id| customer_name|age|       city|\n",
      "+-----------+--------------+---+-----------+\n",
      "|          1| Tiffany Riley| 32|  Monterrey|\n",
      "|          2|Matthew Davies| 36|  Monterrey|\n",
      "|          3|Rebecca Miller| 30|Mexico City|\n",
      "|          4| Katelyn Mccoy| 34|   New York|\n",
      "|          5|   Dana Dennis| 26|    Zapopan|\n",
      "+-----------+--------------+---+-----------+\n",
      "only showing top 5 rows\n"
     ]
    }
   ],
   "source": [
    "df_customers_v2 = df_customers.withColumn(\"customer_name\",get_json_object(\"customer_info\",\"$.customer_name\")) \\\n",
    "                                    .withColumn(\"age\",get_json_object(\"customer_info\",\"$.age\").cast(\"int\")) \\\n",
    "                                    .withColumn(\"city\",get_json_object(\"customer_info\",\"$.city\")) \\\n",
    "                                    .drop(\"customer_info\")\n",
    "df_customers_v2.show(n=5)"
   ]
  },
  {
   "cell_type": "code",
   "execution_count": 74,
   "id": "87bb2f13-f3ea-4b24-968a-80b69267947d",
   "metadata": {},
   "outputs": [
    {
     "name": "stdout",
     "output_type": "stream",
     "text": [
      "+---------+------+-----------+---------+\n",
      "|rental_id|car_id|customer_id|agency_id|\n",
      "+---------+------+-----------+---------+\n",
      "|    11891|    21|         71|        1|\n",
      "|    11892|    11|         52|        2|\n",
      "|    11893|    22|        116|        4|\n",
      "|    11894|     5|        107|        1|\n",
      "|    11895|     4|         53|        4|\n",
      "+---------+------+-----------+---------+\n",
      "only showing top 5 rows\n"
     ]
    }
   ],
   "source": [
    "df_rentals_v2 = df_rentals.withColumn(\"car_id\", get_json_object(df_rentals.rental_info, \"$.car_id\")) \\\n",
    "                .withColumn(\"customer_id\", get_json_object(df_rentals.rental_info, \"$.customer_id\")) \\\n",
    "                .withColumn(\"agency_id\", get_json_object(df_rentals.rental_info, \"$.agency_id\")) \\\n",
    "                .drop(\"rental_info\")\n",
    "df_rentals_v2.show(n=5)"
   ]
  },
  {
   "cell_type": "code",
   "execution_count": 69,
   "id": "6e08252c-38a9-4ba9-8ded-2e2e59d8cf26",
   "metadata": {},
   "outputs": [
    {
     "name": "stderr",
     "output_type": "stream",
     "text": [
      "                                                                                "
     ]
    },
    {
     "name": "stdout",
     "output_type": "stream",
     "text": [
      "+---------+------+--------------------+-------------+--------+----------+-------+-----------+--------------+---+-------------+---------+-------------+-------------+\n",
      "|rental_id|car_id|            car_name|price_per_day|brand_id|brand_name|country|customer_id| customer_name|age|         city|agency_id|  agency_name|         city|\n",
      "+---------+------+--------------------+-------------+--------+----------+-------+-----------+--------------+---+-------------+---------+-------------+-------------+\n",
      "|      785|     1|Chang-Fisher Model 7|          139|       5|       BYD|  China|         33|    Corey Cook| 35|    Monterrey|        4|      SF Cars|San Francisco|\n",
      "|      766|     1|Chang-Fisher Model 7|          139|       5|       BYD|  China|         96| Laura Gregory| 25|      Londres|        2|LA Car Rental|      Londres|\n",
      "|      762|     1|Chang-Fisher Model 7|          139|       5|       BYD|  China|        149|   Blake Jones| 25|  Mexico City|        3| Zapopan Auto|      Zapopan|\n",
      "|      757|     1|Chang-Fisher Model 7|          139|       5|       BYD|  China|         69|Nicholas Kline| 42|San Francisco|        1|  NYC Rentals|     New York|\n",
      "|      747|     1|Chang-Fisher Model 7|          139|       5|       BYD|  China|        157| Melissa Flynn| 50|      Zapopan|        2|LA Car Rental|      Londres|\n",
      "+---------+------+--------------------+-------------+--------+----------+-------+-----------+--------------+---+-------------+---------+-------------+-------------+\n",
      "only showing top 5 rows\n"
     ]
    }
   ],
   "source": [
    "df = df_rentals_v2.join(df_cars_v2, df_rentals_v2.car_id == df_cars_v2.car_id).drop(df_rentals_v2.car_id)\n",
    "df = df.join(df_customers_v2, df.customer_id == df_customers_v2.customer_id).drop(df.customer_id)\n",
    "df = df.join(df_agencies_v2, df.agency_id == df_agencies_v2.agency_id).drop(df.agency_id)\n",
    "df.show(n=5)"
   ]
  },
  {
   "cell_type": "markdown",
   "id": "2d2e68ae-86a1-46c7-bb92-72ef7960cef2",
   "metadata": {},
   "source": [
    "# Final DF"
   ]
  },
  {
   "cell_type": "code",
   "execution_count": 75,
   "id": "b111f943-42cf-4b06-9e5a-edeeaeb2d659",
   "metadata": {},
   "outputs": [
    {
     "name": "stderr",
     "output_type": "stream",
     "text": [
      "                                                                                "
     ]
    },
    {
     "name": "stdout",
     "output_type": "stream",
     "text": [
      "+---------+--------------------+-----------------+-------------+\n",
      "|rental_id|            car_name|    customer_name|  agency_name|\n",
      "+---------+--------------------+-----------------+-------------+\n",
      "|      785|Chang-Fisher Model 7|       Corey Cook|      SF Cars|\n",
      "|      766|Chang-Fisher Model 7|    Laura Gregory|LA Car Rental|\n",
      "|      762|Chang-Fisher Model 7|      Blake Jones| Zapopan Auto|\n",
      "|      757|Chang-Fisher Model 7|   Nicholas Kline|  NYC Rentals|\n",
      "|      747|Chang-Fisher Model 7|    Melissa Flynn|LA Car Rental|\n",
      "|      735|Chang-Fisher Model 7|     Joseph Jones|  NYC Rentals|\n",
      "|      672|Chang-Fisher Model 7|    Melissa Flynn|      SF Cars|\n",
      "|      669|Chang-Fisher Model 7|   Susan Ferguson|      SF Cars|\n",
      "|      662|Chang-Fisher Model 7|  Raymond Navarro|LA Car Rental|\n",
      "|      654|Chang-Fisher Model 7|   Sherry Simpson|LA Car Rental|\n",
      "|      617|Chang-Fisher Model 7| Jenny Richardson|LA Car Rental|\n",
      "|      615|Chang-Fisher Model 7|  Jennifer Torres|LA Car Rental|\n",
      "|      591|Chang-Fisher Model 7|      Laura Perry|      SF Cars|\n",
      "|      582|Chang-Fisher Model 7|     Jill Sherman|      SF Cars|\n",
      "|      390|Chang-Fisher Model 7|    Amanda Garcia|  NYC Rentals|\n",
      "|      381|Chang-Fisher Model 7|  Barbara Sanders|LA Car Rental|\n",
      "|      376|Chang-Fisher Model 7|Christian Johnson| Zapopan Auto|\n",
      "|      367|Chang-Fisher Model 7|   Hannah Wiggins| Zapopan Auto|\n",
      "|      325|Chang-Fisher Model 7|     Lisa Baldwin|LA Car Rental|\n",
      "|      258|Chang-Fisher Model 7|     Brian Cooper| Zapopan Auto|\n",
      "+---------+--------------------+-----------------+-------------+\n",
      "only showing top 20 rows\n"
     ]
    }
   ],
   "source": [
    "final_df=final_df.select(\"rental_id\",\"car_name\",\"customer_name\",\"agency_name\")\n",
    "final_df.show()"
   ]
  },
  {
   "cell_type": "markdown",
   "id": "44b0f617-f7fe-42b7-9a15-f4145e17a023",
   "metadata": {},
   "source": []
  },
  {
   "cell_type": "code",
   "execution_count": 64,
   "id": "9078a7dd",
   "metadata": {},
   "outputs": [
    {
     "name": "stdout",
     "output_type": "stream",
     "text": [
      "/opt/spark/work-dir/labs/lab04\n",
      "/opt/spark/work-dir/labs/lab04\n",
      "ls: cannot access 'data': No such file or directory\n"
     ]
    }
   ],
   "source": [
    "!pwd\n",
    "!cd ..\n",
    "!pwd\n",
    "!ls -l data"
   ]
  },
  {
   "cell_type": "markdown",
   "id": "ea5ad5e5-03e0-47d3-9d77-c11ee376c3eb",
   "metadata": {},
   "source": [
    "# Parquet file"
   ]
  },
  {
   "cell_type": "code",
   "execution_count": 65,
   "id": "bab8b710-8abc-4f7c-b6df-76fa92e4b61b",
   "metadata": {},
   "outputs": [
    {
     "name": "stdout",
     "output_type": "stream",
     "text": [
      "root\n",
      " |-- rental_id: integer (nullable = true)\n",
      " |-- car_name: string (nullable = true)\n",
      " |-- customer_name: string (nullable = true)\n",
      " |-- agency_name: string (nullable = true)\n",
      "\n"
     ]
    }
   ],
   "source": [
    "final_df.printSchema()"
   ]
  },
  {
   "cell_type": "code",
   "execution_count": 66,
   "id": "f142f817-3593-4c67-9b9a-7713ae312038",
   "metadata": {},
   "outputs": [
    {
     "name": "stderr",
     "output_type": "stream",
     "text": [
      "                                                                                "
     ]
    }
   ],
   "source": [
    "base_path = \"/opt/spark/work-dir/data/\"\n",
    "final_df.write \\\n",
    "            .partitionBy(\"agency_name\") \\\n",
    "            .mode(\"overwrite\") \\\n",
    "            .parquet( base_path + \"car_service/output/parquet\")"
   ]
  },
  {
   "cell_type": "code",
   "execution_count": 68,
   "id": "ceb52880-1c5d-43a2-87a7-0fe37bb0b1fb",
   "metadata": {},
   "outputs": [
    {
     "name": "stdout",
     "output_type": "stream",
     "text": [
      "total 0\n",
      "drwxr-xr-x 1 root root 4096 Sep 26 14:12 'agency_name=LA Car Rental'\n",
      "drwxr-xr-x 1 root root 4096 Sep 26 14:12 'agency_name=NYC Rentals'\n",
      "drwxr-xr-x 1 root root 4096 Sep 26 14:12 'agency_name=SF Cars'\n",
      "drwxr-xr-x 1 root root 4096 Sep 26 14:12 'agency_name=Zapopan Auto'\n",
      "-rw-r--r-- 1 root root    0 Sep 26 14:12  _SUCCESS\n",
      "112K\t/opt/spark/work-dir/data/car_service/output/parquet/\n"
     ]
    }
   ],
   "source": [
    "!ls -l /opt/spark/work-dir/data/car_service/output/parquet/\n",
    "!du -sh /opt/spark/work-dir/data/car_service/output/parquet/"
   ]
  },
  {
   "cell_type": "markdown",
   "id": "93cf0131-ca29-4e5d-ad2b-b9e7c9749299",
   "metadata": {},
   "source": [
    "# CSV files"
   ]
  },
  {
   "cell_type": "code",
   "execution_count": 77,
   "id": "6ef5eadd-f01e-4db9-b48e-d1bc21829f7f",
   "metadata": {},
   "outputs": [
    {
     "name": "stderr",
     "output_type": "stream",
     "text": [
      "                                                                                "
     ]
    }
   ],
   "source": [
    "final_df.write \\\n",
    "            .partitionBy(\"agency_name\") \\\n",
    "            .mode(\"overwrite\") \\\n",
    "            .option(\"header\", True) \\\n",
    "            .csv(base_path + \"car_service/output/csv\")"
   ]
  },
  {
   "cell_type": "code",
   "execution_count": 78,
   "id": "f120b6f3-0809-496d-b76c-124e28b2ed0d",
   "metadata": {},
   "outputs": [
    {
     "name": "stdout",
     "output_type": "stream",
     "text": [
      "832K\t/opt/spark/work-dir/data/car_service/output/csv/\n"
     ]
    }
   ],
   "source": [
    "!du -sh /opt/spark/work-dir/data/car_service/output/csv/"
   ]
  },
  {
   "attachments": {
    "f01e2d89-16a6-4b0a-953b-7e355b4cee6c.png": {
     "image/png": "[encoded data removed]"
    }
   },
   "cell_type": "markdown",
   "id": "f3c86856-9921-40cc-83b7-efc914ee4e6f",
   "metadata": {},
   "source": [
    "![powerbi.png](attachment:f01e2d89-16a6-4b0a-953b-7e355b4cee6c.png)"
   ]
  },
  {
   "cell_type": "code",
   "execution_count": 79,
   "id": "27c5cf02-8a0b-4a3f-b8dc-6eaaf8f19d64",
   "metadata": {},
   "outputs": [],
   "source": [
    "sc.stop()"
   ]
  },
  {
   "cell_type": "code",
   "execution_count": null,
   "id": "98647f67-cc0d-4dbf-a967-ce2a1fbae082",
   "metadata": {},
   "outputs": [],
   "source": []
  }
 ],
 "metadata": {
  "kernelspec": {
   "display_name": "Python 3 (ipykernel)",
   "language": "python",
   "name": "python3"
  },
  "language_info": {
   "codemirror_mode": {
    "name": "ipython",
    "version": 3
   },
   "file_extension": ".py",
   "mimetype": "text/x-python",
   "name": "python",
   "nbconvert_exporter": "python",
   "pygments_lexer": "ipython3",
   "version": "3.10.12"
  }
 },
 "nbformat": 4,
 "nbformat_minor": 5
}
