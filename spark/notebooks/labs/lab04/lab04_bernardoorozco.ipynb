{
 "cells": [
  {
   "cell_type": "markdown",
   "id": "b92d9622",
   "metadata": {},
   "source": [
    "# <center> <img src=\"../../img/ITESOLogo.png\" alt=\"ITESO\" width=\"480\" height=\"130\"> </center>\n",
    "# <center> **Departamento de Electrónica, Sistemas e Informática** </center>\n",
    "---\n",
    "## <center> Computer Systems Engineering  </center>\n",
    "---\n",
    "### <center> Big Data Processing </center>\n",
    "---\n",
    "#### <center> **Autumn 2025** </center>\n",
    "---\n",
    "\n",
    "**Lab 04**: Data Unions & Joins Pipeline\n",
    "\n",
    "**Date**: September 23rd 2025\n",
    "\n",
    "**Student Name**: Juan Bernardo Orozco Quirarte\n",
    "\n",
    "**Professor**: Pablo Camarillo Ramirez"
   ]
  },
  {
   "cell_type": "code",
   "execution_count": 27,
   "id": "ed17a0b0",
   "metadata": {},
   "outputs": [],
   "source": [
    "import findspark\n",
    "findspark.init()\n",
    "\n",
    "from pyspark.sql import SparkSession\n",
    "\n",
    "spark = SparkSession.builder \\\n",
    "    .appName(\"Examples on SparkSQL\") \\\n",
    "    .master(\"spark://7d7f1cd1d5d2:7077\") \\\n",
    "    .config(\"spark.ui.port\", \"4040\") \\\n",
    "    .getOrCreate()\n",
    "\n",
    "sc = spark.sparkContext\n",
    "sc.setLogLevel(\"ERROR\")"
   ]
  },
  {
   "cell_type": "markdown",
   "id": "8c5f4494",
   "metadata": {},
   "source": [
    "### Agencies"
   ]
  },
  {
   "cell_type": "code",
   "execution_count": 28,
   "id": "a93cd621",
   "metadata": {},
   "outputs": [
    {
     "name": "stdout",
     "output_type": "stream",
     "text": [
      "Agencies\n"
     ]
    },
    {
     "name": "stderr",
     "output_type": "stream",
     "text": [
      "[Stage 0:>                                                          (0 + 1) / 1]\r"
     ]
    },
    {
     "name": "stdout",
     "output_type": "stream",
     "text": [
      "+---------+-----------------------------------------------------+-------------+\n",
      "|agency_id|agency_info                                          |agency_name  |\n",
      "+---------+-----------------------------------------------------+-------------+\n",
      "|1        |{'agency_name': 'NYC Rentals', 'city': 'New York'}   |NYC Rentals  |\n",
      "|2        |{'agency_name': 'LA Car Rental', 'city': 'Londres'}  |LA Car Rental|\n",
      "|3        |{'agency_name': 'Zapopan Auto', 'city': 'Zapopan'}   |Zapopan Auto |\n",
      "|4        |{'agency_name': 'SF Cars', 'city': 'San Francisco'}  |SF Cars      |\n",
      "|5        |{'agency_name': 'Mexico Cars', 'city': 'Mexico City'}|Mexico Cars  |\n",
      "+---------+-----------------------------------------------------+-------------+\n",
      "\n"
     ]
    },
    {
     "name": "stderr",
     "output_type": "stream",
     "text": [
      "                                                                                \r"
     ]
    }
   ],
   "source": [
    "# Build schema\n",
    "# Import your module\n",
    "from lib.bernardoorozco.spark_utils import SparkUtils\n",
    "from pyspark.sql.functions import from_json\n",
    "from pyspark.sql.functions import get_json_object\n",
    "\n",
    "schema_agencies = SparkUtils.generate_schema([(\"agency_id\", \"int\"), (\"agency_info\", \"string\")])\n",
    "\n",
    "print(\"Agencies\")\n",
    "df_agencies = spark.read.schema(schema_agencies).option(\"header\", True).csv(\"/opt/spark/work-dir/data/car_service/agencies\")\n",
    "df_agencies = df_agencies.withColumn(\"agency_name\", get_json_object(\"agency_info\", \"$.agency_name\"))\n",
    "df_agencies.show(truncate=False)"
   ]
  },
  {
   "cell_type": "markdown",
   "id": "2fb8aa00",
   "metadata": {},
   "source": [
    "### Brands"
   ]
  },
  {
   "cell_type": "code",
   "execution_count": 29,
   "id": "34f16cb3",
   "metadata": {},
   "outputs": [
    {
     "name": "stdout",
     "output_type": "stream",
     "text": [
      "Brands\n",
      "+--------+-----------------------------------------------------+-------------+\n",
      "|brand_id|brand_info                                           |brand_name   |\n",
      "+--------+-----------------------------------------------------+-------------+\n",
      "|1       |{'brand_name': 'Mercedes-Benz', 'country': 'Germany'}|Mercedes-Benz|\n",
      "|2       |{'brand_name': 'BMW', 'country': 'Germany'}          |BMW          |\n",
      "|3       |{'brand_name': 'Audi', 'country': 'Germany'}         |Audi         |\n",
      "|4       |{'brand_name': 'Ford', 'country': 'US'}              |Ford         |\n",
      "|5       |{'brand_name': 'BYD', 'country': 'China'}            |BYD          |\n",
      "|6       |{'brand_name': 'Honda', 'country': 'Japan'}          |Honda        |\n",
      "|7       |{'brand_name': 'Toyota', 'country': 'Japan'}         |Toyota       |\n",
      "+--------+-----------------------------------------------------+-------------+\n",
      "\n"
     ]
    }
   ],
   "source": [
    "schema_brands = SparkUtils.generate_schema([(\"brand_id\", \"int\"), (\"brand_info\", \"string\")])\n",
    "\n",
    "print(\"Brands\")\n",
    "df_brands = spark.read.schema(schema_brands).option(\"header\", True).csv(\"/opt/spark/work-dir/data/car_service/brands\")\n",
    "df_brands = df_brands.withColumn(\"brand_name\", get_json_object(\"brand_info\", \"$.brand_name\"))\n",
    "df_brands.show(truncate=False)"
   ]
  },
  {
   "cell_type": "markdown",
   "id": "bb00bbca",
   "metadata": {},
   "source": [
    "### Cars"
   ]
  },
  {
   "cell_type": "code",
   "execution_count": 30,
   "id": "5a462bcf",
   "metadata": {},
   "outputs": [
    {
     "name": "stdout",
     "output_type": "stream",
     "text": [
      "Cars\n",
      "+------+----------------------------------------------------------------------------------------+------------------------------------+--------+-------------+\n",
      "|car_id|car_info                                                                                |car_name                            |brand_id|price_per_day|\n",
      "+------+----------------------------------------------------------------------------------------+------------------------------------+--------+-------------+\n",
      "|1     |{'car_name': 'Chang-Fisher Model 7', 'brand_id': 5, 'price_per_day': 139}               |Chang-Fisher Model 7                |5       |139          |\n",
      "|2     |{'car_name': 'Sheppard-Tucker Model 4', 'brand_id': 6, 'price_per_day': 70}             |Sheppard-Tucker Model 4             |6       |70           |\n",
      "|3     |{'car_name': 'Faulkner-Howard Model 5', 'brand_id': 3, 'price_per_day': 53}             |Faulkner-Howard Model 5             |3       |53           |\n",
      "|4     |{'car_name': 'Wagner LLC Model 1', 'brand_id': 5, 'price_per_day': 89}                  |Wagner LLC Model 1                  |5       |89           |\n",
      "|5     |{'car_name': 'Campos PLC Model 4', 'brand_id': 4, 'price_per_day': 112}                 |Campos PLC Model 4                  |4       |112          |\n",
      "|6     |{'car_name': 'Archer-Patel Model 2', 'brand_id': 3, 'price_per_day': 55}                |Archer-Patel Model 2                |3       |55           |\n",
      "|7     |{'car_name': 'Patrick, Barrera and Collins Model 6', 'brand_id': 6, 'price_per_day': 66}|Patrick, Barrera and Collins Model 6|6       |66           |\n",
      "|8     |{'car_name': 'Jones, Jefferson and Rivera Model 7', 'brand_id': 2, 'price_per_day': 115}|Jones, Jefferson and Rivera Model 7 |2       |115          |\n",
      "|9     |{'car_name': 'Garcia, Hamilton and Carr Model 5', 'brand_id': 6, 'price_per_day': 137}  |Garcia, Hamilton and Carr Model 5   |6       |137          |\n",
      "|10    |{'car_name': 'Levy Group Model 9', 'brand_id': 3, 'price_per_day': 93}                  |Levy Group Model 9                  |3       |93           |\n",
      "|11    |{'car_name': 'Grimes-Green Model 8', 'brand_id': 3, 'price_per_day': 150}               |Grimes-Green Model 8                |3       |150          |\n",
      "|12    |{'car_name': 'Moon, Davis and Larsen Model 1', 'brand_id': 6, 'price_per_day': 100}     |Moon, Davis and Larsen Model 1      |6       |100          |\n",
      "|13    |{'car_name': 'Summers, Barnett and Smith Model 6', 'brand_id': 4, 'price_per_day': 139} |Summers, Barnett and Smith Model 6  |4       |139          |\n",
      "|14    |{'car_name': 'Clayton-Cook Model 10', 'brand_id': 6, 'price_per_day': 116}              |Clayton-Cook Model 10               |6       |116          |\n",
      "|15    |{'car_name': 'Nguyen, Harrell and Lee Model 6', 'brand_id': 2, 'price_per_day': 94}     |Nguyen, Harrell and Lee Model 6     |2       |94           |\n",
      "|16    |{'car_name': 'Walker, Pratt and Thomas Model 9', 'brand_id': 6, 'price_per_day': 192}   |Walker, Pratt and Thomas Model 9    |6       |192          |\n",
      "|17    |{'car_name': 'West, Miller and Flores Model 5', 'brand_id': 1, 'price_per_day': 63}     |West, Miller and Flores Model 5     |1       |63           |\n",
      "|18    |{'car_name': 'Bolton, Burns and Turner Model 10', 'brand_id': 6, 'price_per_day': 110}  |Bolton, Burns and Turner Model 10   |6       |110          |\n",
      "|19    |{'car_name': 'Mann-Kelley Model 3', 'brand_id': 2, 'price_per_day': 146}                |Mann-Kelley Model 3                 |2       |146          |\n",
      "|20    |{'car_name': 'Harris, Lloyd and Payne Model 4', 'brand_id': 6, 'price_per_day': 96}     |Harris, Lloyd and Payne Model 4     |6       |96           |\n",
      "+------+----------------------------------------------------------------------------------------+------------------------------------+--------+-------------+\n",
      "only showing top 20 rows\n"
     ]
    }
   ],
   "source": [
    "schema_cars = SparkUtils.generate_schema([(\"car_id\", \"int\"), (\"car_info\", \"string\")])\n",
    "\n",
    "print(\"Cars\")\n",
    "df_cars = spark.read.schema(schema_cars).option(\"header\", True).csv(\"/opt/spark/work-dir/data/car_service/cars\")\n",
    "df_cars = (\n",
    "    df_cars\n",
    "    .withColumn(\"car_name\", get_json_object(\"car_info\", \"$.car_name\"))\n",
    "    .withColumn(\"brand_id\", get_json_object(\"car_info\", \"$.brand_id\").cast(\"int\"))\n",
    "    .withColumn(\"price_per_day\", get_json_object(\"car_info\", \"$.price_per_day\").cast(\"int\"))\n",
    ")\n",
    "df_cars.show(truncate=False)"
   ]
  },
  {
   "cell_type": "markdown",
   "id": "d55fd13f",
   "metadata": {},
   "source": [
    "### Customers"
   ]
  },
  {
   "cell_type": "code",
   "execution_count": 31,
   "id": "90a5424f",
   "metadata": {},
   "outputs": [
    {
     "name": "stdout",
     "output_type": "stream",
     "text": [
      "Customers\n",
      "+-----------+-------------------------------------------------------------------------+--------------------+\n",
      "|customer_id|customer_info                                                            |customer_name       |\n",
      "+-----------+-------------------------------------------------------------------------+--------------------+\n",
      "|1          |{'customer_name': 'Tiffany Riley', 'city': 'Monterrey', 'age': 32}       |Tiffany Riley       |\n",
      "|2          |{'customer_name': 'Matthew Davies', 'city': 'Monterrey', 'age': 36}      |Matthew Davies      |\n",
      "|3          |{'customer_name': 'Rebecca Miller', 'city': 'Mexico City', 'age': 30}    |Rebecca Miller      |\n",
      "|4          |{'customer_name': 'Katelyn Mccoy', 'city': 'New York', 'age': 34}        |Katelyn Mccoy       |\n",
      "|5          |{'customer_name': 'Dana Dennis', 'city': 'Zapopan', 'age': 26}           |Dana Dennis         |\n",
      "|6          |{'customer_name': 'Daniel Norton', 'city': 'Mexico City', 'age': 34}     |Daniel Norton       |\n",
      "|7          |{'customer_name': 'Robert Garcia', 'city': 'Zapopan', 'age': 47}         |Robert Garcia       |\n",
      "|8          |{'customer_name': 'Michael Williams', 'city': 'Monterrey', 'age': 33}    |Michael Williams    |\n",
      "|9          |{'customer_name': 'Susan Ferguson', 'city': 'San Francisco', 'age': 41}  |Susan Ferguson      |\n",
      "|10         |{'customer_name': 'Alyssa Reid', 'city': 'Mexico City', 'age': 40}       |Alyssa Reid         |\n",
      "|11         |{'customer_name': 'Laura Myers', 'city': 'Zapopan', 'age': 50}           |Laura Myers         |\n",
      "|12         |{'customer_name': 'William Johnson', 'city': 'Monterrey', 'age': 25}     |William Johnson     |\n",
      "|13         |{'customer_name': 'Tyler Lopez', 'city': 'Mexico City', 'age': 21}       |Tyler Lopez         |\n",
      "|14         |{'customer_name': 'Daniel Owen', 'city': 'Mexico City', 'age': 47}       |Daniel Owen         |\n",
      "|15         |{'customer_name': 'Allison Coleman', 'city': 'Zapopan', 'age': 33}       |Allison Coleman     |\n",
      "|16         |{'customer_name': 'David Walker', 'city': 'Londres', 'age': 33}          |David Walker        |\n",
      "|17         |{'customer_name': 'Hayley White', 'city': 'Monterrey', 'age': 29}        |Hayley White        |\n",
      "|18         |{'customer_name': 'Amanda Garcia', 'city': 'Zapopan', 'age': 20}         |Amanda Garcia       |\n",
      "|19         |{'customer_name': 'Christina Howard PhD', 'city': 'Monterrey', 'age': 22}|Christina Howard PhD|\n",
      "|20         |{'customer_name': 'Tamara Jackson', 'city': 'San Francisco', 'age': 29}  |Tamara Jackson      |\n",
      "+-----------+-------------------------------------------------------------------------+--------------------+\n",
      "only showing top 20 rows\n"
     ]
    }
   ],
   "source": [
    "schema_customers = SparkUtils.generate_schema([(\"customer_id\", \"int\"), (\"customer_info\", \"string\")])\n",
    "\n",
    "print(\"Customers\")\n",
    "df_customers = spark.read.schema(schema_customers).option(\"header\", True).csv(\"/opt/spark/work-dir/data/car_service/customers\")\n",
    "df_customers = df_customers.withColumn(\"customer_name\", get_json_object(\"customer_info\", \"$.customer_name\"))\n",
    "df_customers.show(truncate=False)"
   ]
  },
  {
   "cell_type": "markdown",
   "id": "c1fbe17c",
   "metadata": {},
   "source": [
    "### Rentals"
   ]
  },
  {
   "cell_type": "code",
   "execution_count": 32,
   "id": "4763d182",
   "metadata": {},
   "outputs": [
    {
     "name": "stdout",
     "output_type": "stream",
     "text": [
      "Rentals\n",
      "+---------+--------------------------------------------------+------+---------+-----------+\n",
      "|rental_id|rental_info                                       |car_id|agency_id|customer_id|\n",
      "+---------+--------------------------------------------------+------+---------+-----------+\n",
      "|11891    |{'car_id': 21, 'customer_id': 71, 'agency_id': 1} |21    |1        |71         |\n",
      "|11892    |{'car_id': 11, 'customer_id': 52, 'agency_id': 2} |11    |2        |52         |\n",
      "|11893    |{'car_id': 22, 'customer_id': 116, 'agency_id': 4}|22    |4        |116        |\n",
      "|11894    |{'car_id': 5, 'customer_id': 107, 'agency_id': 1} |5     |1        |107        |\n",
      "|11895    |{'car_id': 4, 'customer_id': 53, 'agency_id': 4}  |4     |4        |53         |\n",
      "|11896    |{'car_id': 8, 'customer_id': 131, 'agency_id': 2} |8     |2        |131        |\n",
      "|11897    |{'car_id': 23, 'customer_id': 66, 'agency_id': 3} |23    |3        |66         |\n",
      "|11898    |{'car_id': 24, 'customer_id': 60, 'agency_id': 4} |24    |4        |60         |\n",
      "|11899    |{'car_id': 27, 'customer_id': 92, 'agency_id': 2} |27    |2        |92         |\n",
      "|11900    |{'car_id': 3, 'customer_id': 40, 'agency_id': 4}  |3     |4        |40         |\n",
      "|11901    |{'car_id': 3, 'customer_id': 35, 'agency_id': 1}  |3     |1        |35         |\n",
      "|11902    |{'car_id': 3, 'customer_id': 72, 'agency_id': 1}  |3     |1        |72         |\n",
      "|11903    |{'car_id': 29, 'customer_id': 58, 'agency_id': 3} |29    |3        |58         |\n",
      "|11904    |{'car_id': 3, 'customer_id': 131, 'agency_id': 4} |3     |4        |131        |\n",
      "|11905    |{'car_id': 27, 'customer_id': 10, 'agency_id': 2} |27    |2        |10         |\n",
      "|11906    |{'car_id': 12, 'customer_id': 40, 'agency_id': 1} |12    |1        |40         |\n",
      "|11907    |{'car_id': 25, 'customer_id': 53, 'agency_id': 3} |25    |3        |53         |\n",
      "|11908    |{'car_id': 14, 'customer_id': 153, 'agency_id': 4}|14    |4        |153        |\n",
      "|11909    |{'car_id': 24, 'customer_id': 96, 'agency_id': 4} |24    |4        |96         |\n",
      "|11910    |{'car_id': 24, 'customer_id': 151, 'agency_id': 4}|24    |4        |151        |\n",
      "+---------+--------------------------------------------------+------+---------+-----------+\n",
      "only showing top 20 rows\n"
     ]
    }
   ],
   "source": [
    "schema_rentals = SparkUtils.generate_schema([(\"rental_id\", \"int\"), (\"rental_info\", \"string\")])\n",
    "\n",
    "print(\"Rentals\")\n",
    "df_rentals = spark.read.schema(schema_rentals).option(\"header\", True).csv(\"/opt/spark/work-dir/data/car_service/rentals\")\n",
    "df_rentals = (\n",
    "    df_rentals.withColumn(\"car_id\", get_json_object(\"rental_info\", \"$.car_id\").cast(\"int\")).withColumn(\"agency_id\", get_json_object(\"rental_info\", \"$.agency_id\").cast(\"int\")).withColumn(\"customer_id\", get_json_object(\"rental_info\", \"$.customer_id\").cast(\"int\"))\n",
    ")\n",
    "df_rentals.show(truncate=False)"
   ]
  },
  {
   "cell_type": "markdown",
   "id": "dc43fd53",
   "metadata": {},
   "source": [
    "### Join"
   ]
  },
  {
   "cell_type": "code",
   "execution_count": 33,
   "id": "91fa1590",
   "metadata": {},
   "outputs": [
    {
     "name": "stdout",
     "output_type": "stream",
     "text": [
      "+---------+-----------------------------------+-------------+-------------+---------------+\n",
      "|rental_id|car_name                           |brand_name   |agency_name  |customer_name  |\n",
      "+---------+-----------------------------------+-------------+-------------+---------------+\n",
      "|11891    |Wallace-Carlson Model 9            |Honda        |NYC Rentals  |Margaret Jones |\n",
      "|11892    |Grimes-Green Model 8               |Audi         |LA Car Rental|Albert Williams|\n",
      "|11893    |Stewart-Allen Model 5              |Honda        |SF Cars      |Caleb Fleming  |\n",
      "|11894    |Campos PLC Model 4                 |Ford         |NYC Rentals  |Andrew Butler  |\n",
      "|11895    |Wagner LLC Model 1                 |BYD          |SF Cars      |Kristin Potts  |\n",
      "|11896    |Jones, Jefferson and Rivera Model 7|BMW          |LA Car Rental|Jeremy Parks   |\n",
      "|11897    |Lopez and Sons Model 9             |BMW          |Zapopan Auto |Terry Wells    |\n",
      "|11898    |Salazar Ltd Model 8                |Mercedes-Benz|SF Cars      |Marc Williams  |\n",
      "|11899    |Villanueva PLC Model 7             |BYD          |LA Car Rental|Danny Williams |\n",
      "|11900    |Faulkner-Howard Model 5            |Audi         |SF Cars      |Eric Owens PhD |\n",
      "|11901    |Faulkner-Howard Model 5            |Audi         |NYC Rentals  |Laura Perry    |\n",
      "|11902    |Faulkner-Howard Model 5            |Audi         |NYC Rentals  |Paul Brown     |\n",
      "|11903    |Atkinson Ltd Model 10              |Ford         |Zapopan Auto |Alexa Hernandez|\n",
      "|11904    |Faulkner-Howard Model 5            |Audi         |SF Cars      |Jeremy Parks   |\n",
      "|11905    |Villanueva PLC Model 7             |BYD          |LA Car Rental|Alyssa Reid    |\n",
      "|11906    |Moon, Davis and Larsen Model 1     |Honda        |NYC Rentals  |Eric Owens PhD |\n",
      "|11907    |Alvarez-Davis Model 3              |Audi         |Zapopan Auto |Kristin Potts  |\n",
      "|11908    |Clayton-Cook Model 10              |Honda        |SF Cars      |Amy Ortiz      |\n",
      "|11909    |Salazar Ltd Model 8                |Mercedes-Benz|SF Cars      |Laura Gregory  |\n",
      "|11910    |Salazar Ltd Model 8                |Mercedes-Benz|SF Cars      |Jay Walsh      |\n",
      "+---------+-----------------------------------+-------------+-------------+---------------+\n",
      "only showing top 20 rows\n"
     ]
    }
   ],
   "source": [
    "df_final = (\n",
    "    df_rentals\n",
    "    .join(df_cars, \"car_id\", \"inner\")\n",
    "    .join(df_brands, \"brand_id\", \"inner\")\n",
    "    .join(df_agencies, \"agency_id\", \"inner\")\n",
    "    .join(df_customers, \"customer_id\", \"inner\")\n",
    "    .select(\"rental_id\",\"car_name\",\"brand_name\",\"agency_name\",\"customer_name\")\n",
    ")\n",
    "df_final.show(truncate=False)"
   ]
  },
  {
   "cell_type": "code",
   "execution_count": 34,
   "id": "9078a7dd",
   "metadata": {},
   "outputs": [],
   "source": [
    "sc.stop()"
   ]
  }
 ],
 "metadata": {
  "kernelspec": {
   "display_name": "Python 3 (ipykernel)",
   "language": "python",
   "name": "python3"
  },
  "language_info": {
   "codemirror_mode": {
    "name": "ipython",
    "version": 3
   },
   "file_extension": ".py",
   "mimetype": "text/x-python",
   "name": "python",
   "nbconvert_exporter": "python",
   "pygments_lexer": "ipython3",
   "version": "3.10.12"
  }
 },
 "nbformat": 4,
 "nbformat_minor": 5
}
