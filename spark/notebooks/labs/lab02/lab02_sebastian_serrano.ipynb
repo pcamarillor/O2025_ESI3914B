{
 "cells": [
  {
   "cell_type": "markdown",
   "id": "dfeec634",
   "metadata": {},
   "source": [
    "# <center> <img src=\"../../img/ITESOLogo.png\" alt=\"ITESO\" width=\"480\" height=\"130\"> </center>\n",
    "# <center> **Departamento de Electrónica, Sistemas e Informática** </center>\n",
    "---\n",
    "## <center> Program: Semestral  </center>\n",
    "---\n",
    "### <center> **Otoño 2025** </center>\n",
    "---\n",
    "\n",
    "**Lab 02**: Bank Account Manager\n",
    "\n",
    "**Date**: 02/09/2025\n",
    "\n",
    "**Student Name**: Vicente Sebastian Serrano Cabrera\n",
    "\n",
    "**Professor**: Pablo Camarillo Ramirez, PhD"
   ]
  },
  {
   "cell_type": "code",
   "execution_count": 16,
   "id": "b5c0ab6e-59cb-417f-8e9b-10d15e4c3ed0",
   "metadata": {},
   "outputs": [
    {
     "ename": "TypeError",
     "evalue": "BankAccount() takes no arguments",
     "output_type": "error",
     "traceback": [
      "\u001b[0;31m---------------------------------------------------------------------------\u001b[0m",
      "\u001b[0;31mTypeError\u001b[0m                                 Traceback (most recent call last)",
      "Cell \u001b[0;32mIn[16], line 3\u001b[0m\n\u001b[1;32m      1\u001b[0m \u001b[38;5;28;01mfrom\u001b[39;00m\u001b[38;5;250m \u001b[39m\u001b[38;5;21;01mModulo_Sebas\u001b[39;00m\u001b[38;5;21;01m.\u001b[39;00m\u001b[38;5;21;01mBankAccount\u001b[39;00m\u001b[38;5;250m \u001b[39m\u001b[38;5;28;01mimport\u001b[39;00m BankAccount\n\u001b[0;32m----> 3\u001b[0m cuenta \u001b[38;5;241m=\u001b[39m \u001b[43mBankAccount\u001b[49m\u001b[43m(\u001b[49m\u001b[38;5;241;43m1000\u001b[39;49m\u001b[43m)\u001b[49m\n\u001b[1;32m      4\u001b[0m cuenta\u001b[38;5;241m.\u001b[39mprocess(\u001b[38;5;124m\"\u001b[39m\u001b[38;5;124mdeposit\u001b[39m\u001b[38;5;124m\"\u001b[39m, \u001b[38;5;241m13\u001b[39m)\n\u001b[1;32m      5\u001b[0m cuenta\u001b[38;5;241m.\u001b[39mprocess(\u001b[38;5;124m\"\u001b[39m\u001b[38;5;124mwithdraw\u001b[39m\u001b[38;5;124m\"\u001b[39m, \u001b[38;5;241m717\u001b[39m)\n",
      "\u001b[0;31mTypeError\u001b[0m: BankAccount() takes no arguments"
     ]
    }
   ],
   "source": [
    "from Modulo_Sebas.BankAccount import BankAccount\n",
    "\n",
    "cuenta = BankAccount(1000)\n",
    "cuenta.process(\"deposit\", 13)\n",
    "cuenta.process(\"withdraw\", 717)\n",
    "print(cuenta.process(\"get_balance\"))\n"
   ]
  },
  {
   "cell_type": "code",
   "execution_count": null,
   "id": "e6565804-dabd-42e9-b9b8-39d8ceae8555",
   "metadata": {},
   "outputs": [],
   "source": []
  }
 ],
 "metadata": {
  "kernelspec": {
   "display_name": "Python 3 (ipykernel)",
   "language": "python",
   "name": "python3"
  },
  "language_info": {
   "codemirror_mode": {
    "name": "ipython",
    "version": 3
   },
   "file_extension": ".py",
   "mimetype": "text/x-python",
   "name": "python",
   "nbconvert_exporter": "python",
   "pygments_lexer": "ipython3",
   "version": "3.10.12"
  }
 },
 "nbformat": 4,
 "nbformat_minor": 5
}
