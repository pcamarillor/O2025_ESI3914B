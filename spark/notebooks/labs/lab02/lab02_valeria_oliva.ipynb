{
 "cells": [
  {
   "cell_type": "markdown",
   "id": "eb024999-6e67-4b57-af8e-5a3b0393ce92",
   "metadata": {},
   "source": [
    "# <center> <img src=\"../../img/ITESOLogo.png\" alt=\"ITESO\" width=\"480\" height=\"130\"> </center>\n",
    "# <center> **Departamento de Electrónica, Sistemas e Informática** </center>\n",
    "---\n",
    "## <center> Program: Procesamiento de datos masivos  </center>\n",
    "---\n",
    "### <center> **Autumn 2025** </center>\n",
    "---\n",
    "\n",
    "**Lab 02**: Bank Account Manager\n",
    "\n",
    "**Date**: 03 / 09 / 2025\n",
    "\n",
    "**Student Name**: Ana Valeria Oliva Hernández\n",
    "\n",
    "**Professor**: Pablo Camarillo Ramirez, PhD"
   ]
  },
  {
   "cell_type": "code",
   "execution_count": 1,
   "id": "46127ad1-5c1a-4c53-8f6e-0473de03135f",
   "metadata": {},
   "outputs": [
    {
     "name": "stdout",
     "output_type": "stream",
     "text": [
      "* Su balance es: $ 1000\n",
      "* Su depósito de $ 200 ha sido realizado con éxito. \n",
      " Su balance es: $ 1200\n",
      "* Su retiro de $ 700 ha sido realizado con éxito. \n",
      " Su balance es: $ 500\n",
      "* No hay fondos suficientes.\n"
     ]
    }
   ],
   "source": [
    "from valeriaoliva.utils import BankAccount\n",
    "\n",
    "account = BankAccount(1000)\n",
    "print (account.process(\"get_balance\"))\n",
    "\n",
    "print (account.process(\"deposit\", 200))\n",
    "\n",
    "print (account.process(\"withdraw\", 700))\n",
    "\n",
    "print (account.process(\"withdraw\", 1000))\n"
   ]
  },
  {
   "cell_type": "code",
   "execution_count": null,
   "id": "5cc3a080-38e7-4980-9e28-e0b227ce1f61",
   "metadata": {},
   "outputs": [],
   "source": []
  }
 ],
 "metadata": {
  "kernelspec": {
   "display_name": "Python 3 (ipykernel)",
   "language": "python",
   "name": "python3"
  },
  "language_info": {
   "codemirror_mode": {
    "name": "ipython",
    "version": 3
   },
   "file_extension": ".py",
   "mimetype": "text/x-python",
   "name": "python",
   "nbconvert_exporter": "python",
   "pygments_lexer": "ipython3",
   "version": "3.10.12"
  }
 },
 "nbformat": 4,
 "nbformat_minor": 5
}
