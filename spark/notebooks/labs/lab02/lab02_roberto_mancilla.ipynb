{
 "cells": [
  {
   "cell_type": "markdown",
   "id": "dfeec634",
   "metadata": {},
   "source": [
    "# <center> <img src=\"../../img/ITESOLogo.png\" alt=\"ITESO\" width=\"480\" height=\"130\"> </center>\n",
    "# <center> **Departamento de Electrónica, Sistemas e Informática** </center>\n",
    "---\n",
    "## <center> Program: _Add your program's name here_  </center>\n",
    "---\n",
    "### <center> **Autumn 2025** </center>\n",
    "---\n",
    "\n",
    "**Lab 02**:\n",
    "\n",
    "**Date**:\n",
    "\n",
    "**Student Name**:\n",
    "\n",
    "**Professor**: Pablo Camarillo Ramirez, PhD"
   ]
  },
  {
   "cell_type": "code",
   "execution_count": 3,
   "id": "34cb4ad3",
   "metadata": {},
   "outputs": [],
   "source": [
    "from lib.robertoman.bank import BankAccount"
   ]
  },
  {
   "cell_type": "markdown",
   "id": "fc860790",
   "metadata": {},
   "source": [
    "Creamos una instacia para hacer la prueba de la implementacion de la clase"
   ]
  },
  {
   "cell_type": "code",
   "execution_count": 4,
   "id": "0bff7001",
   "metadata": {},
   "outputs": [
    {
     "name": "stdout",
     "output_type": "stream",
     "text": [
      "Deposited 333.00. New balance: 8110.77\n",
      "Error executing operation -> deposit: The amount of the deposit must be bigger than 0\n",
      "Deposited 99.00. New balance: 8209.77\n",
      "Current balance: 8209.77\n",
      "Withdrew 666.00. New balance: 7543.77\n",
      "Current balance: 7543.77\n"
     ]
    },
    {
     "data": {
      "text/plain": [
       "7543.77"
      ]
     },
     "execution_count": 4,
     "metadata": {},
     "output_type": "execute_result"
    }
   ],
   "source": [
    "account_one = BankAccount(7777.77)\n",
    "account_one.process(\"deposit\", 333)\n",
    "account_one.process(\"deposit\", -333)\n",
    "account_one.process(\"deposit\", 99)\n",
    "account_one.process(\"get_balance\")\n",
    "account_one.process(\"withdraw\", 666)\n",
    "account_one.process(\"get_balance\")"
   ]
  }
 ],
 "metadata": {
  "kernelspec": {
   "display_name": "Python 3 (ipykernel)",
   "language": "python",
   "name": "python3"
  },
  "language_info": {
   "codemirror_mode": {
    "name": "ipython",
    "version": 3
   },
   "file_extension": ".py",
   "mimetype": "text/x-python",
   "name": "python",
   "nbconvert_exporter": "python",
   "pygments_lexer": "ipython3",
   "version": "3.10.12"
  }
 },
 "nbformat": 4,
 "nbformat_minor": 5
}
