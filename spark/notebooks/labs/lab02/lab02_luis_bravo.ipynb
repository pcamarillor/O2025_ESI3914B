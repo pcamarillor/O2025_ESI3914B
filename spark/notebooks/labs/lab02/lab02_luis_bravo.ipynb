{
 "cells": [
  {
   "cell_type": "markdown",
   "id": "efe220df",
   "metadata": {},
   "source": [
    "# <center> <img src=\"../../img/ITESOLogo.png\" alt=\"ITESO\" width=\"480\" height=\"130\"> </center>\n",
    "# <center> **Departamento de Electrónica, Sistemas e Informática** </center>\n",
    "---\n",
    "## <center> Program: _Add your program's name here_  </center>\n",
    "---\n",
    "### <center> **Autumn 2025** </center>\n",
    "---\n",
    "\n",
    "**Lab 02**: Bank Account Manager\n",
    "\n",
    "**Date**: 02/09/2025\n",
    "\n",
    "**Student Name**: Luis Adrian Bravo Ramirez\n",
    "\n",
    "**Professor**: Pablo Camarillo Ramirez, PhD"
   ]
  },
  {
   "cell_type": "code",
   "execution_count": 1,
   "id": "6ab1c724",
   "metadata": {},
   "outputs": [],
   "source": [
    "# Import my module on general/luisbravor00\n",
    "from luisbravor00.bank_account_manager import BankAccount"
   ]
  },
  {
   "cell_type": "code",
   "execution_count": 2,
   "id": "6b975522",
   "metadata": {},
   "outputs": [
    {
     "name": "stdout",
     "output_type": "stream",
     "text": [
      "Your account balance: $1000.00\n",
      "Your account balance: $1013.00\n",
      "Your account balance: $296.00\n"
     ]
    }
   ],
   "source": [
    "# Create an instance of the BankAccountManager class\n",
    "account = BankAccount(1000)\n",
    "account.process(\"get_balance\")\n",
    "account.process(\"deposit\", 13)   # Balance should be 1013\n",
    "account.process(\"get_balance\")\n",
    "account.process(\"withdraw\", 717) # Balance should be 296\n",
    "account.process(\"get_balance\")\n"
   ]
  },
  {
   "cell_type": "code",
   "execution_count": 3,
   "id": "10a46384",
   "metadata": {},
   "outputs": [
    {
     "ename": "ValueError",
     "evalue": "Cannot deposit negative quantities.",
     "output_type": "error",
     "traceback": [
      "\u001b[0;31m---------------------------------------------------------------------------\u001b[0m",
      "\u001b[0;31mValueError\u001b[0m                                Traceback (most recent call last)",
      "Cell \u001b[0;32mIn[3], line 2\u001b[0m\n\u001b[1;32m      1\u001b[0m \u001b[38;5;66;03m# Injecting error (deposit)\u001b[39;00m\n\u001b[0;32m----> 2\u001b[0m \u001b[43maccount\u001b[49m\u001b[38;5;241;43m.\u001b[39;49m\u001b[43mprocess\u001b[49m\u001b[43m(\u001b[49m\u001b[38;5;124;43m\"\u001b[39;49m\u001b[38;5;124;43mdeposit\u001b[39;49m\u001b[38;5;124;43m\"\u001b[39;49m\u001b[43m,\u001b[49m\u001b[43m \u001b[49m\u001b[38;5;241;43m-\u001b[39;49m\u001b[38;5;241;43m10\u001b[39;49m\u001b[43m)\u001b[49m  \u001b[38;5;66;03m# Should print \"Can't deposit negative quantities.\"\u001b[39;00m\n",
      "File \u001b[0;32m/opt/spark/work-dir/lib/luisbravor00/bank_account_manager.py:24\u001b[0m, in \u001b[0;36mBankAccount.process\u001b[0;34m(self, operation, quantity)\u001b[0m\n\u001b[1;32m     22\u001b[0m     \u001b[38;5;28mself\u001b[39m\u001b[38;5;241m.\u001b[39moperations[operation]()\n\u001b[1;32m     23\u001b[0m \u001b[38;5;28;01melse\u001b[39;00m:\n\u001b[0;32m---> 24\u001b[0m     \u001b[38;5;28;43mself\u001b[39;49m\u001b[38;5;241;43m.\u001b[39;49m\u001b[43moperations\u001b[49m\u001b[43m[\u001b[49m\u001b[43moperation\u001b[49m\u001b[43m]\u001b[49m\u001b[43m(\u001b[49m\u001b[43mquantity\u001b[49m\u001b[43m)\u001b[49m\n",
      "File \u001b[0;32m/opt/spark/work-dir/lib/luisbravor00/bank_account_manager.py:28\u001b[0m, in \u001b[0;36mBankAccount.__deposit\u001b[0;34m(self, quantity)\u001b[0m\n\u001b[1;32m     26\u001b[0m \u001b[38;5;28;01mdef\u001b[39;00m\u001b[38;5;250m \u001b[39m\u001b[38;5;21m__deposit\u001b[39m(\u001b[38;5;28mself\u001b[39m, quantity:\u001b[38;5;28mfloat\u001b[39m):\n\u001b[1;32m     27\u001b[0m     \u001b[38;5;28;01mif\u001b[39;00m quantity \u001b[38;5;241m<\u001b[39m \u001b[38;5;241m0.0\u001b[39m:\n\u001b[0;32m---> 28\u001b[0m         \u001b[38;5;28;01mraise\u001b[39;00m \u001b[38;5;167;01mValueError\u001b[39;00m(\u001b[38;5;124m\"\u001b[39m\u001b[38;5;124mCannot deposit negative quantities.\u001b[39m\u001b[38;5;124m\"\u001b[39m)\n\u001b[1;32m     29\u001b[0m     \u001b[38;5;28mself\u001b[39m\u001b[38;5;241m.\u001b[39mbalance \u001b[38;5;241m+\u001b[39m\u001b[38;5;241m=\u001b[39m quantity\n",
      "\u001b[0;31mValueError\u001b[0m: Cannot deposit negative quantities."
     ]
    }
   ],
   "source": [
    "# Injecting error (deposit)\n",
    "account.process(\"deposit\", -10)  # Should print \"Can't deposit negative quantities.\"\n"
   ]
  },
  {
   "cell_type": "code",
   "execution_count": 4,
   "id": "48c5ebe9",
   "metadata": {},
   "outputs": [
    {
     "ename": "ValueError",
     "evalue": "Insufficient funds. Try again with another quantity.",
     "output_type": "error",
     "traceback": [
      "\u001b[0;31m---------------------------------------------------------------------------\u001b[0m",
      "\u001b[0;31mValueError\u001b[0m                                Traceback (most recent call last)",
      "Cell \u001b[0;32mIn[4], line 2\u001b[0m\n\u001b[1;32m      1\u001b[0m \u001b[38;5;66;03m# Injecting error (withdraw)\u001b[39;00m\n\u001b[0;32m----> 2\u001b[0m \u001b[43maccount\u001b[49m\u001b[38;5;241;43m.\u001b[39;49m\u001b[43mprocess\u001b[49m\u001b[43m(\u001b[49m\u001b[38;5;124;43m\"\u001b[39;49m\u001b[38;5;124;43mwithdraw\u001b[39;49m\u001b[38;5;124;43m\"\u001b[39;49m\u001b[43m,\u001b[49m\u001b[43m \u001b[49m\u001b[38;5;241;43m500\u001b[39;49m\u001b[43m)\u001b[49m \u001b[38;5;66;03m# Should print \"Insufficient funds\"\u001b[39;00m\n",
      "File \u001b[0;32m/opt/spark/work-dir/lib/luisbravor00/bank_account_manager.py:24\u001b[0m, in \u001b[0;36mBankAccount.process\u001b[0;34m(self, operation, quantity)\u001b[0m\n\u001b[1;32m     22\u001b[0m     \u001b[38;5;28mself\u001b[39m\u001b[38;5;241m.\u001b[39moperations[operation]()\n\u001b[1;32m     23\u001b[0m \u001b[38;5;28;01melse\u001b[39;00m:\n\u001b[0;32m---> 24\u001b[0m     \u001b[38;5;28;43mself\u001b[39;49m\u001b[38;5;241;43m.\u001b[39;49m\u001b[43moperations\u001b[49m\u001b[43m[\u001b[49m\u001b[43moperation\u001b[49m\u001b[43m]\u001b[49m\u001b[43m(\u001b[49m\u001b[43mquantity\u001b[49m\u001b[43m)\u001b[49m\n",
      "File \u001b[0;32m/opt/spark/work-dir/lib/luisbravor00/bank_account_manager.py:35\u001b[0m, in \u001b[0;36mBankAccount.__withdraw\u001b[0;34m(self, quantity)\u001b[0m\n\u001b[1;32m     32\u001b[0m current_balance \u001b[38;5;241m=\u001b[39m \u001b[38;5;28mself\u001b[39m\u001b[38;5;241m.\u001b[39mbalance\n\u001b[1;32m     34\u001b[0m \u001b[38;5;28;01mif\u001b[39;00m current_balance \u001b[38;5;241m<\u001b[39m quantity:\n\u001b[0;32m---> 35\u001b[0m     \u001b[38;5;28;01mraise\u001b[39;00m \u001b[38;5;167;01mValueError\u001b[39;00m(\u001b[38;5;124m\"\u001b[39m\u001b[38;5;124mInsufficient funds. Try again with another quantity.\u001b[39m\u001b[38;5;124m\"\u001b[39m)\n\u001b[1;32m     36\u001b[0m \u001b[38;5;28;01melif\u001b[39;00m quantity \u001b[38;5;241m<\u001b[39m \u001b[38;5;241m0.0\u001b[39m:\n\u001b[1;32m     37\u001b[0m     \u001b[38;5;28;01mraise\u001b[39;00m \u001b[38;5;167;01mValueError\u001b[39;00m(\u001b[38;5;124m\"\u001b[39m\u001b[38;5;124mCannot withdraw negative quantities.\u001b[39m\u001b[38;5;124m\"\u001b[39m)\n",
      "\u001b[0;31mValueError\u001b[0m: Insufficient funds. Try again with another quantity."
     ]
    }
   ],
   "source": [
    "# Injecting error (withdraw)\n",
    "account.process(\"withdraw\", 500) # Should print \"Insufficient funds\""
   ]
  },
  {
   "cell_type": "code",
   "execution_count": 5,
   "id": "10084688",
   "metadata": {},
   "outputs": [
    {
     "ename": "ValueError",
     "evalue": "Cannot withdraw negative quantities.",
     "output_type": "error",
     "traceback": [
      "\u001b[0;31m---------------------------------------------------------------------------\u001b[0m",
      "\u001b[0;31mValueError\u001b[0m                                Traceback (most recent call last)",
      "Cell \u001b[0;32mIn[5], line 1\u001b[0m\n\u001b[0;32m----> 1\u001b[0m \u001b[43maccount\u001b[49m\u001b[38;5;241;43m.\u001b[39;49m\u001b[43mprocess\u001b[49m\u001b[43m(\u001b[49m\u001b[38;5;124;43m\"\u001b[39;49m\u001b[38;5;124;43mwithdraw\u001b[39;49m\u001b[38;5;124;43m\"\u001b[39;49m\u001b[43m,\u001b[49m\u001b[43m \u001b[49m\u001b[38;5;241;43m-\u001b[39;49m\u001b[38;5;241;43m100\u001b[39;49m\u001b[43m)\u001b[49m\n",
      "File \u001b[0;32m/opt/spark/work-dir/lib/luisbravor00/bank_account_manager.py:24\u001b[0m, in \u001b[0;36mBankAccount.process\u001b[0;34m(self, operation, quantity)\u001b[0m\n\u001b[1;32m     22\u001b[0m     \u001b[38;5;28mself\u001b[39m\u001b[38;5;241m.\u001b[39moperations[operation]()\n\u001b[1;32m     23\u001b[0m \u001b[38;5;28;01melse\u001b[39;00m:\n\u001b[0;32m---> 24\u001b[0m     \u001b[38;5;28;43mself\u001b[39;49m\u001b[38;5;241;43m.\u001b[39;49m\u001b[43moperations\u001b[49m\u001b[43m[\u001b[49m\u001b[43moperation\u001b[49m\u001b[43m]\u001b[49m\u001b[43m(\u001b[49m\u001b[43mquantity\u001b[49m\u001b[43m)\u001b[49m\n",
      "File \u001b[0;32m/opt/spark/work-dir/lib/luisbravor00/bank_account_manager.py:37\u001b[0m, in \u001b[0;36mBankAccount.__withdraw\u001b[0;34m(self, quantity)\u001b[0m\n\u001b[1;32m     35\u001b[0m     \u001b[38;5;28;01mraise\u001b[39;00m \u001b[38;5;167;01mValueError\u001b[39;00m(\u001b[38;5;124m\"\u001b[39m\u001b[38;5;124mInsufficient funds. Try again with another quantity.\u001b[39m\u001b[38;5;124m\"\u001b[39m)\n\u001b[1;32m     36\u001b[0m \u001b[38;5;28;01melif\u001b[39;00m quantity \u001b[38;5;241m<\u001b[39m \u001b[38;5;241m0.0\u001b[39m:\n\u001b[0;32m---> 37\u001b[0m     \u001b[38;5;28;01mraise\u001b[39;00m \u001b[38;5;167;01mValueError\u001b[39;00m(\u001b[38;5;124m\"\u001b[39m\u001b[38;5;124mCannot withdraw negative quantities.\u001b[39m\u001b[38;5;124m\"\u001b[39m)\n\u001b[1;32m     39\u001b[0m \u001b[38;5;28mself\u001b[39m\u001b[38;5;241m.\u001b[39mbalance \u001b[38;5;241m-\u001b[39m\u001b[38;5;241m=\u001b[39m quantity\n",
      "\u001b[0;31mValueError\u001b[0m: Cannot withdraw negative quantities."
     ]
    }
   ],
   "source": [
    "account.process(\"withdraw\", -100)"
   ]
  },
  {
   "cell_type": "code",
   "execution_count": 6,
   "id": "6e39a834",
   "metadata": {},
   "outputs": [
    {
     "name": "stdout",
     "output_type": "stream",
     "text": [
      "Your account balance: $296.00\n",
      "Your account balance: $0.00\n",
      "Your account balance: $1000.00\n",
      "Your account balance: $1000.00\n"
     ]
    }
   ],
   "source": [
    "account.process(\"get_balance\")   # Balance should be 296\n",
    "account.process(\"withdraw\", 296) # Balance should be 0\n",
    "account.process(\"get_balance\")   \n",
    "account.process(\"deposit\", 1000) # Balance should return to 1000\n",
    "account.process(\"get_balance\")  \n",
    "account.process() "
   ]
  }
 ],
 "metadata": {
  "kernelspec": {
   "display_name": "Python 3 (ipykernel)",
   "language": "python",
   "name": "python3"
  },
  "language_info": {
   "codemirror_mode": {
    "name": "ipython",
    "version": 3
   },
   "file_extension": ".py",
   "mimetype": "text/x-python",
   "name": "python",
   "nbconvert_exporter": "python",
   "pygments_lexer": "ipython3",
   "version": "3.10.12"
  }
 },
 "nbformat": 4,
 "nbformat_minor": 5
}
