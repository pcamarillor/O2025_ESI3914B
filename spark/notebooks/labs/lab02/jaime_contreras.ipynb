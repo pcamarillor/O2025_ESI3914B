{
 "cells": [
  {
   "cell_type": "markdown",
   "id": "dfeec634",
   "metadata": {},
   "source": [
    "# <center> <img src=\"../../img/ITESOLogo.png\" alt=\"ITESO\" width=\"480\" height=\"130\"> </center>\n",
    "# <center> **Departamento de Electrónica, Sistemas e Informática** </center>\n",
    "---\n",
    "## <center> Program: _Add your program's name here_  </center>\n",
    "---\n",
    "### <center> **Autumn 2025** </center>\n",
    "---\n",
    "\n",
    "**Lab 02**:Bank Account Manager\n",
    "\n",
    "**Date**:02/09/2025\n",
    "\n",
    "**Student Name**:Jaime Contreras Barragan\n",
    "\n",
    "**Professor**: Pablo Camarillo Ramirez, PhD"
   ]
  },
  {
   "cell_type": "code",
   "execution_count": null,
   "id": "cef10cd0",
   "metadata": {},
   "outputs": [
    {
     "name": "stdout",
     "output_type": "stream",
     "text": [
      "154\n"
     ]
    }
   ],
   "source": [
    "from general.utils import add, substract\n",
    "\n",
    "operations = {\n",
    "    'add':add,\n",
    "    'substract':substract,\n",
    "    'get_balance':\n",
    "}\n",
    "print(operations['add'](56,98))\n"
   ]
  },
  {
   "cell_type": "code",
   "execution_count": null,
   "id": "0c8d0d7c",
   "metadata": {},
   "outputs": [
    {
     "name": "stdout",
     "output_type": "stream",
     "text": [
      "Saldo: 1000\n",
      "Dinero Retirado: 100\n",
      "Saldo: 900\n",
      "Nuevo saldo: 1100\n",
      "No puedes retirar negativo o 0\n"
     ]
    }
   ],
   "source": [
    "from jaimodule.utils import BankAccount\n",
    "accout = BankAccount(1000)\n",
    "accout.process(\"get_balance\")\n",
    "accout.withdraw(100)\n",
    "accout.get_balance()\n",
    "accout.deposit(200)\n",
    "accout.withdraw(-20)\n",
    "\n"
   ]
  }
 ],
 "metadata": {
  "kernelspec": {
   "display_name": "Python 3 (ipykernel)",
   "language": "python",
   "name": "python3"
  }
 },
 "nbformat": 4,
 "nbformat_minor": 5
}
