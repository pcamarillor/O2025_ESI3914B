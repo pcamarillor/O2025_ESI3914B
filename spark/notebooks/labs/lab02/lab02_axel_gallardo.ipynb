{
 "cells": [
  {
   "cell_type": "markdown",
   "id": "b92d9622",
   "metadata": {},
   "source": [
    "# <center> <img src=\"../../img/ITESOLogo.png\" alt=\"ITESO\" width=\"480\" height=\"130\"> </center>\n",
    "# <center> **Departamento de Electrónica, Sistemas e Informática** </center>\n",
    "---\n",
    "## <center> Program: _procesamiento de datos masivos_  </center>\n",
    "---\n",
    "### <center> **Autumn 2025** </center>\n",
    "---\n",
    "\n",
    "**Lab 02**\n",
    "\n",
    "**Date**: 02/09/2025\n",
    "\n",
    "**Student Name**:Axel Gallardo\n",
    "\n",
    "**Professor**: Pablo Camarillo Ramirez "
   ]
  },
  {
   "cell_type": "markdown",
   "id": "7418ee96",
   "metadata": {},
   "source": [
    "Implementacion de modulo"
   ]
  },
  {
   "cell_type": "code",
   "execution_count": null,
   "id": "a5ed3aa5",
   "metadata": {},
   "outputs": [],
   "source": [
    "from axelgallardo.bank_account import BankAccount\n",
    "\n",
    "account = BankAccount(1000)\n",
    "\n",
    "print(account.process(\"deposit\", 200))   # 1200\n",
    "print(account.process(\"withdraw\", 300))  # 900\n",
    "print(account.process(\"get_balance\"))    # 900"
   ]
  }
 ],
 "metadata": {
  "kernelspec": {
   "display_name": "Python 3",
   "language": "python",
   "name": "python3"
  },
  "language_info": {
   "codemirror_mode": {
    "name": "ipython",
    "version": 3
   },
   "file_extension": ".py",
   "mimetype": "text/x-python",
   "name": "python",
   "nbconvert_exporter": "python",
   "pygments_lexer": "ipython3",
   "version": "3.13.7"
  }
 },
 "nbformat": 4,
 "nbformat_minor": 5
}
