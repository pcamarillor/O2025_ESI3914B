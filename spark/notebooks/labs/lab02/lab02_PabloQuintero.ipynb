{
 "cells": [
  {
   "cell_type": "markdown",
   "id": "dfeec634",
   "metadata": {},
   "source": [
    "# <center> <img src=\"../../img/ITESOLogo.png\" alt=\"ITESO\" width=\"480\" height=\"130\"> </center>\n",
    "# <center> **Departamento de Electrónica, Sistemas e Informática** </center>\n",
    "---\n",
    "## <center> Program: _Add your program's name here_  </center>\n",
    "---\n",
    "### <center> **Autumn 2025** </center>\n",
    "---\n",
    "\n",
    "**Lab 02**:\n",
    "\n",
    "**Date**: 02/09/2025\n",
    "\n",
    "**Student Name**: Pablo Quintero\n",
    "\n",
    "**Professor**: Pablo Camarillo Ramirez, PhD"
   ]
  },
  {
   "cell_type": "code",
   "execution_count": 7,
   "id": "194aaa21",
   "metadata": {},
   "outputs": [
    {
     "ename": "ModuleNotFoundError",
     "evalue": "No module named 'spark'",
     "output_type": "error",
     "traceback": [
      "\u001b[31m---------------------------------------------------------------------------\u001b[39m",
      "\u001b[31mModuleNotFoundError\u001b[39m                       Traceback (most recent call last)",
      "\u001b[36mCell\u001b[39m\u001b[36m \u001b[39m\u001b[32mIn[7]\u001b[39m\u001b[32m, line 6\u001b[39m\n\u001b[32m      2\u001b[39m \u001b[38;5;28;01mimport\u001b[39;00m\u001b[38;5;250m \u001b[39m\u001b[34;01mos\u001b[39;00m\n\u001b[32m      4\u001b[39m sys.path.append(os.path.abspath(\u001b[33m\"\u001b[39m\u001b[33m../../../lib/PabloQuintero\u001b[39m\u001b[33m\"\u001b[39m))\n\u001b[32m----> \u001b[39m\u001b[32m6\u001b[39m \u001b[38;5;28;01mfrom\u001b[39;00m\u001b[38;5;250m \u001b[39m\u001b[34;01mspark\u001b[39;00m\u001b[34;01m.\u001b[39;00m\u001b[34;01mnotebooks\u001b[39;00m\u001b[34;01m.\u001b[39;00m\u001b[34;01mlib\u001b[39;00m\u001b[34;01m.\u001b[39;00m\u001b[34;01mPabloQuintero\u001b[39;00m\u001b[34;01m.\u001b[39;00m\u001b[34;01mbank_account\u001b[39;00m\u001b[38;5;250m \u001b[39m\u001b[38;5;28;01mimport\u001b[39;00m BankAccount\n\u001b[32m      8\u001b[39m account = BankAccount(\u001b[32m1000\u001b[39m)\n\u001b[32m     10\u001b[39m \u001b[38;5;28mprint\u001b[39m(\u001b[33m\"\u001b[39m\u001b[33mSaldo inicial:\u001b[39m\u001b[33m\"\u001b[39m, account.get_balance())\n",
      "\u001b[31mModuleNotFoundError\u001b[39m: No module named 'spark'"
     ]
    }
   ],
   "source": [
    "import sys\n",
    "import os\n",
    "\n",
    "sys.path.append(os.path.abspath(\"../../../lib/PabloQuintero\"))\n",
    "\n",
    "from spark.notebooks.lib.PabloQuintero.bank_account import BankAccount\n",
    "\n",
    "account = BankAccount(1000)\n",
    "\n",
    "print(\"Saldo inicial:\", account.get_balance())\n",
    "\n",
    "# Depositar\n",
    "account.process(\"deposit\", 200)\n",
    "print(\"Después de depositar 200:\", account.get_balance())\n",
    "\n",
    "# Retirar\n",
    "account.process(\"withdraw\", 500)\n",
    "print(\"Después de retirar 500:\", account.get_balance())\n",
    "\n",
    "# Consultar saldo\n",
    "print(\"Saldo final:\", account.process(\"get_balance\"))"
   ]
  }
 ],
 "metadata": {
  "kernelspec": {
   "display_name": "Python 3",
   "language": "python",
   "name": "python3"
  },
  "language_info": {
   "codemirror_mode": {
    "name": "ipython",
    "version": 3
   },
   "file_extension": ".py",
   "mimetype": "text/x-python",
   "name": "python",
   "nbconvert_exporter": "python",
   "pygments_lexer": "ipython3",
   "version": "3.12.2"
  }
 },
 "nbformat": 4,
 "nbformat_minor": 5
}
