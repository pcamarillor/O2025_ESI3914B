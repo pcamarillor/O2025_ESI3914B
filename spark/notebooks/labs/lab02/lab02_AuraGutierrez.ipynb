{
 "cells": [
  {
   "cell_type": "markdown",
   "id": "dfeec634",
   "metadata": {},
   "source": [
    "# <center> <img src=\"../../img/ITESOLogo.png\" alt=\"ITESO\" width=\"480\" height=\"130\"> </center>\n",
    "# <center> **Departamento de Electrónica, Sistemas e Informática** </center>\n",
    "---\n",
    "## <center> Program: _Add your program's name here_  </center>\n",
    "---\n",
    "### <center> **Autumn 2025** </center>\n",
    "---\n",
    "\n",
    "**Lab 02**:\n",
    "\n",
    "**Date**:\n",
    "\n",
    "**Student Name**:\n",
    "\n",
    "**Professor**: Pablo Camarillo Ramirez, PhD"
   ]
  },
  {
   "cell_type": "code",
   "execution_count": 1,
   "id": "04295b38-381d-470d-82c8-695bcc741454",
   "metadata": {},
   "outputs": [],
   "source": [
    "from general.utils import Circle"
   ]
  },
  {
   "cell_type": "code",
   "execution_count": 1,
   "id": "404bc6bc-daac-41c2-a47f-ce5e3e952259",
   "metadata": {},
   "outputs": [
    {
     "name": "stdout",
     "output_type": "stream",
     "text": [
      "154\n"
     ]
    }
   ],
   "source": [
    "from general.utils import add, subtract\n",
    "\n",
    "operations = {\n",
    "    'add': add,\n",
    "    'subtract': subtract\n",
    "}\n",
    "\n",
    "print(operations['add'](56, 98))"
   ]
  },
  {
   "cell_type": "code",
   "execution_count": 1,
   "id": "505f1014-49b6-4c59-96cf-eadc95a8cb20",
   "metadata": {},
   "outputs": [
    {
     "name": "stdout",
     "output_type": "stream",
     "text": [
      "Depositadp: 200, Nuevo balance: 1200\n",
      "Retirado: 500, Nuevo balance: 700\n",
      "Balance actual: 700\n"
     ]
    }
   ],
   "source": [
    "from auragutierrez.utils2 import BankAccount\n",
    "\n",
    "account = BankAccount(1000)\n",
    "\n",
    "print(account.process(\"deposit\", 200))\n",
    "print(account.process(\"withdraw\", 500))\n",
    "print(account.process(\"get_balance\"))\n"
   ]
  },
  {
   "cell_type": "code",
   "execution_count": null,
   "id": "35a5328d-ea67-4e40-8549-d38fdd1c6643",
   "metadata": {},
   "outputs": [],
   "source": []
  }
 ],
 "metadata": {
  "kernelspec": {
   "display_name": "Python 3 (ipykernel)",
   "language": "python",
   "name": "python3"
  },
  "language_info": {
   "codemirror_mode": {
    "name": "ipython",
    "version": 3
   },
   "file_extension": ".py",
   "mimetype": "text/x-python",
   "name": "python",
   "nbconvert_exporter": "python",
   "pygments_lexer": "ipython3",
   "version": "3.10.12"
  }
 },
 "nbformat": 4,
 "nbformat_minor": 5
}
