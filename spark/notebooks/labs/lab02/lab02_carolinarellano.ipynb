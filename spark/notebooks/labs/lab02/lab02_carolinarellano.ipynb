{
 "cells": [
  {
   "cell_type": "markdown",
   "id": "dfeec634",
   "metadata": {},
   "source": [
    "# <center> <img src=\"../../img/ITESOLogo.png\" alt=\"ITESO\" width=\"480\" height=\"130\"> </center>\n",
    "# <center> **Departamento de Electrónica, Sistemas e Informática** </center>\n",
    "---\n",
    "## <center> Program: _Big Data_  </center>\n",
    "---\n",
    "### <center> **Autumn 2025** </center>\n",
    "---\n",
    "\n",
    "**Lab 02**:\n",
    "\n",
    "**Date**: 2025-09-15\n",
    "**Student Name**: Carolina Arellano\n",
    "\n",
    "**Professor**: Pablo Camarillo Ramirez, PhD"
   ]
  },
  {
   "cell_type": "code",
   "execution_count": 9,
   "id": "ba8a8523",
   "metadata": {
    "scrolled": true
   },
   "outputs": [
    {
     "name": "stdout",
     "output_type": "stream",
     "text": [
      "Account created with initial balance: $1000\n",
      "Deposited: $13\n",
      "Deposited: $56.23\n",
      "Withdrew: $717\n",
      "Withdrew: $9.67\n",
      "Deposited: $27.03\n",
      "Your current balance is: $369.59\n"
     ]
    }
   ],
   "source": [
    "from carolinarellano.utils import BankAccount\n",
    "\n",
    "account = BankAccount(1000)\n",
    "account.process(\"deposit\", 13)\n",
    "account.process(\"DEPOSit\", 56.23)\n",
    "account.process(\"withdraw\", 717)\n",
    "account.process(\"WITHDRAW\", 9.67)\n",
    "account.process(\"Deposit\", 27.029)\n",
    "\n",
    "account.get_balance()"
   ]
  },
  {
   "cell_type": "code",
   "execution_count": null,
   "id": "f6258511-806d-47d8-9ca2-96c36506817c",
   "metadata": {},
   "outputs": [],
   "source": []
  }
 ],
 "metadata": {
  "kernelspec": {
   "display_name": "Python 3 (ipykernel)",
   "language": "python",
   "name": "python3"
  },
  "language_info": {
   "codemirror_mode": {
    "name": "ipython",
    "version": 3
   },
   "file_extension": ".py",
   "mimetype": "text/x-python",
   "name": "python",
   "nbconvert_exporter": "python",
   "pygments_lexer": "ipython3",
   "version": "3.10.12"
  }
 },
 "nbformat": 4,
 "nbformat_minor": 5
}
