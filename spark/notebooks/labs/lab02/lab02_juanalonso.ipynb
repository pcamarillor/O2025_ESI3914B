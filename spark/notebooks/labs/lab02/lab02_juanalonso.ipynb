{
 "cells": [
  {
   "cell_type": "markdown",
   "id": "dfeec634",
   "metadata": {},
   "source": [
    "# <center> <img src=\"../../img/ITESOLogo.png\" alt=\"ITESO\" width=\"480\" height=\"130\"> </center>\n",
    "# <center> **Departamento de Electrónica, Sistemas e Informática** </center>\n",
    "---\n",
    "## <center> Program: Lab 02 - Bank Account Manager  </center>\n",
    "---\n",
    "### <center> **Autumn 2025** </center>\n",
    "---\n",
    "\n",
    "**Lab XX**: 02\n",
    "\n",
    "**Date**: 09 / 02 / 2025\n",
    "\n",
    "**Student Name**: Juan Carlos Alonso Gonzalez\n",
    "\n",
    "**Professor**: Pablo Camarillo Ramirez, PhD"
   ]
  },
  {
   "cell_type": "code",
   "execution_count": 42,
   "id": "96838c4c",
   "metadata": {},
   "outputs": [],
   "source": [
    "import importlib, lib.juanalonso.bank_class as bank_class\n",
    "\n",
    "bank_class = importlib.reload(bank_class)\n",
    "BankAccount = bank_class.BankAccount"
   ]
  },
  {
   "cell_type": "code",
   "execution_count": 48,
   "id": "afd3dbf2",
   "metadata": {},
   "outputs": [
    {
     "name": "stdout",
     "output_type": "stream",
     "text": [
      "Bank account balance with id: 6\n",
      " Current balance: $296.0\n"
     ]
    }
   ],
   "source": [
    "account = BankAccount(1000)\n",
    "\n",
    "# Error handling test:\n",
    "# account.process(\"depoit\", 13) -- Unknown Operation\n",
    "# account.process(\"deposit\", -13) -- Deposit amount must be positive\n",
    "# account.process(\"withdraw\", 9999999999) -- Insufficient funds\n",
    "#account.process(\"withdraw\", -13) -- Withdraw amount must be positive\n",
    "\n",
    "account.process(\"deposit\", 13)\n",
    "account.process(\"withdraw\", 717)\n",
    "account.process(\"get_balance\")\n",
    "\n",
    "print(account) "
   ]
  }
 ],
 "metadata": {
  "kernelspec": {
   "display_name": "Python 3 (ipykernel)",
   "language": "python",
   "name": "python3"
  }
 },
 "nbformat": 4,
 "nbformat_minor": 5
}
