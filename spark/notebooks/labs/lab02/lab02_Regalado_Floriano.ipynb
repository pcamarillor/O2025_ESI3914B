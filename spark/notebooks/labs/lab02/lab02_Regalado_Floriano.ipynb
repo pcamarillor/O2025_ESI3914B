{
 "cells": [
  {
   "cell_type": "markdown",
   "id": "dfeec634",
   "metadata": {},
   "source": [
    "# <center> <img src=\"../../img/ITESOLogo.png\" alt=\"ITESO\" width=\"480\" height=\"130\"> </center>\n",
    "# <center> **Departamento de Electrónica, Sistemas e Informática** </center>\n",
    "---\n",
    "## <center> Program: _Add your program's name here_  </center>\n",
    "---\n",
    "### <center> **Autumn 2025** </center>\n",
    "---\n",
    "\n",
    "**Lab 02**:\n",
    "\n",
    "**Date**:\n",
    "\n",
    "**Student Name**:\n",
    "\n",
    "**Professor**: Pablo Camarillo Ramirez, PhD"
   ]
  },
  {
   "cell_type": "code",
   "execution_count": 1,
   "id": "e5d782a1-0da4-4240-ae63-e54955d0f3a7",
   "metadata": {},
   "outputs": [
    {
     "ename": "ModuleNotFoundError",
     "evalue": "No module named 'BankAccount'",
     "output_type": "error",
     "traceback": [
      "\u001b[0;31m---------------------------------------------------------------------------\u001b[0m",
      "\u001b[0;31mModuleNotFoundError\u001b[0m                       Traceback (most recent call last)",
      "Cell \u001b[0;32mIn[1], line 1\u001b[0m\n\u001b[0;32m----> 1\u001b[0m \u001b[38;5;28;01mfrom\u001b[39;00m\u001b[38;5;250m \u001b[39m\u001b[38;5;21;01mBankAccount\u001b[39;00m\u001b[38;5;250m \u001b[39m\u001b[38;5;28;01mimport\u001b[39;00m BankAccount\n",
      "\u001b[0;31mModuleNotFoundError\u001b[0m: No module named 'BankAccount'"
     ]
    }
   ],
   "source": [
    "from BankAccount import BankAccount"
   ]
  },
  {
   "cell_type": "code",
   "execution_count": 3,
   "id": "622679cd-25e9-4f53-83d0-4f9df4a63a2d",
   "metadata": {},
   "outputs": [],
   "source": [
    "import general.utils"
   ]
  },
  {
   "cell_type": "code",
   "execution_count": 4,
   "id": "0207c5ab-5403-457f-91a2-f79e4772e20b",
   "metadata": {},
   "outputs": [
    {
     "ename": "SyntaxError",
     "evalue": "invalid syntax (BankAccount.py, line 42)",
     "output_type": "error",
     "traceback": [
      "Traceback \u001b[0;36m(most recent call last)\u001b[0m:\n",
      "\u001b[0m  File \u001b[1;32m/usr/local/lib/python3.10/dist-packages/IPython/core/interactiveshell.py:3579\u001b[0m in \u001b[1;35mrun_code\u001b[0m\n    exec(code_obj, self.user_global_ns, self.user_ns)\u001b[0m\n",
      "\u001b[0;36m  Cell \u001b[0;32mIn[4], line 1\u001b[0;36m\n\u001b[0;31m    import regalado_floriano.BankAccount\u001b[0;36m\n",
      "\u001b[0;36m  File \u001b[0;32m/opt/spark/work-dir/lib/regalado_floriano/BankAccount.py:42\u001b[0;36m\u001b[0m\n\u001b[0;31m    \"deposit\": (lambda x: self.store += x),\u001b[0m\n\u001b[0m                                     ^\u001b[0m\n\u001b[0;31mSyntaxError\u001b[0m\u001b[0;31m:\u001b[0m invalid syntax\n"
     ]
    }
   ],
   "source": [
    "import regalado_floriano.BankAccount"
   ]
  },
  {
   "cell_type": "code",
   "execution_count": null,
   "id": "fb2c2042-77d2-4943-b73a-20348af40edc",
   "metadata": {},
   "outputs": [],
   "source": []
  }
 ],
 "metadata": {
  "kernelspec": {
   "display_name": "Python 3 (ipykernel)",
   "language": "python",
   "name": "python3"
  },
  "language_info": {
   "codemirror_mode": {
    "name": "ipython",
    "version": 3
   },
   "file_extension": ".py",
   "mimetype": "text/x-python",
   "name": "python",
   "nbconvert_exporter": "python",
   "pygments_lexer": "ipython3",
   "version": "3.10.12"
  }
 },
 "nbformat": 4,
 "nbformat_minor": 5
}
