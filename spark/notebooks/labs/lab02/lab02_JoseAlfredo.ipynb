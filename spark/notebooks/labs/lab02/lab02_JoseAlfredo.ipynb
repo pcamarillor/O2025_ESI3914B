{
 "cells": [
  {
   "cell_type": "code",
   "execution_count": null,
   "id": "9f5ec5c1",
   "metadata": {
    "vscode": {
     "languageId": "plaintext"
    }
   },
   "outputs": [],
   "source": [
    "# Importamos la clase BankAccount desde el módulo creado\n",
    "from module_JoseAlfredo.bank_account import BankAccount\n",
    "\n",
    "# Crear una cuenta con un saldo inicial de 1000\n",
    "cuenta = BankAccount(1000)\n",
    "\n",
    "# Procesar una operación de depósito\n",
    "cuenta.procesar(\"depositar\", 200)\n",
    "\n",
    "# Procesar una operación de retiro\n",
    "cuenta.procesar(\"retirar\", 500)\n",
    "\n",
    "# Ver el balance\n",
    "cuenta.procesar(\"ver_balance\")\n"
   ]
  }
 ],
 "metadata": {
  "language_info": {
   "name": "python"
  }
 },
 "nbformat": 4,
 "nbformat_minor": 5
}
