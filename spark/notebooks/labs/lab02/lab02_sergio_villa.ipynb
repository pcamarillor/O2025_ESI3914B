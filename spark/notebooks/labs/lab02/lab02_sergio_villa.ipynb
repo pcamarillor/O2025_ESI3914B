{
 "cells": [
  {
   "cell_type": "markdown",
   "id": "dfeec634",
   "metadata": {},
   "source": [
    "# <center> <img src=\"../../img/ITESOLogo.png\" alt=\"ITESO\" width=\"480\" height=\"130\"> </center>\n",
    "# <center> **Departamento de Electrónica, Sistemas e Informática** </center>\n",
    "---\n",
    "## <center> Program: _Add your program's name here_  </center>\n",
    "---\n",
    "### <center> **Autumn 2025** </center>\n",
    "---\n",
    "\n",
    "**Lab 02**:\n",
    "\n",
    "**Date**: 02/09/2025\n",
    "\n",
    "**Student Name**: Sergio Villa Rodríguez\n",
    "\n",
    "**Professor**: Pablo Camarillo Ramirez, PhD"
   ]
  },
  {
   "cell_type": "code",
   "execution_count": 1,
   "id": "9bdfddc8-1d0d-4d7b-9745-24599f0650d8",
   "metadata": {},
   "outputs": [],
   "source": [
    "from sergiovillaa.utils2 import BankAccount"
   ]
  },
  {
   "cell_type": "code",
   "execution_count": 2,
   "id": "59d00688-8aac-4e9b-a828-ba416477f7b9",
   "metadata": {},
   "outputs": [
    {
     "name": "stdout",
     "output_type": "stream",
     "text": [
      "1013\n",
      "296\n"
     ]
    }
   ],
   "source": [
    "account = BankAccount(1000)\n",
    "\n",
    "account.process(\"deposit\", 13)\n",
    "\n",
    "account.process(\"withdraw\", 717)"
   ]
  },
  {
   "cell_type": "code",
   "execution_count": null,
   "id": "def1d5c0-7697-46af-b464-ba6b38e060c0",
   "metadata": {},
   "outputs": [],
   "source": []
  }
 ],
 "metadata": {
  "kernelspec": {
   "display_name": "Python 3 (ipykernel)",
   "language": "python",
   "name": "python3"
  },
  "language_info": {
   "codemirror_mode": {
    "name": "ipython",
    "version": 3
   },
   "file_extension": ".py",
   "mimetype": "text/x-python",
   "name": "python",
   "nbconvert_exporter": "python",
   "pygments_lexer": "ipython3",
   "version": "3.10.12"
  }
 },
 "nbformat": 4,
 "nbformat_minor": 5
}
