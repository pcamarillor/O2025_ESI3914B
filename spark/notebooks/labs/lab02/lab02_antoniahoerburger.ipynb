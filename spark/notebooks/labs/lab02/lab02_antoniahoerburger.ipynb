{
 "cells": [
  {
   "cell_type": "code",
   "execution_count": 28,
   "id": "e52b8b11-73ab-4a49-99e4-9a6f59189f39",
   "metadata": {},
   "outputs": [],
   "source": [
    "from antoniahorburger.utils2 import BankAccount"
   ]
  },
  {
   "cell_type": "code",
   "execution_count": 29,
   "id": "414e5001-7bcf-4f23-b3eb-93d2d3e3affd",
   "metadata": {},
   "outputs": [],
   "source": [
    "account = BankAccount(1000)"
   ]
  },
  {
   "cell_type": "code",
   "execution_count": 30,
   "id": "c1f2eb0e-082e-4764-b3e3-4e3630ff7977",
   "metadata": {},
   "outputs": [
    {
     "data": {
      "text/plain": [
       "842"
      ]
     },
     "execution_count": 30,
     "metadata": {},
     "output_type": "execute_result"
    }
   ],
   "source": [
    "account.process(\"deposit\", 13)\n",
    "account.process(\"withdraw\", 171)\n",
    "account.process(\"get_balance\")"
   ]
  },
  {
   "cell_type": "code",
   "execution_count": null,
   "id": "db0f6ab8-33bf-43a0-a676-713e5102650d",
   "metadata": {},
   "outputs": [],
   "source": []
  },
  {
   "cell_type": "code",
   "execution_count": null,
   "id": "8e6b2ee6-c4d5-4346-a400-834c9b863ce1",
   "metadata": {},
   "outputs": [],
   "source": []
  }
 ],
 "metadata": {
  "kernelspec": {
   "display_name": "Python 3 (ipykernel)",
   "language": "python",
   "name": "python3"
  },
  "language_info": {
   "codemirror_mode": {
    "name": "ipython",
    "version": 3
   },
   "file_extension": ".py",
   "mimetype": "text/x-python",
   "name": "python",
   "nbconvert_exporter": "python",
   "pygments_lexer": "ipython3",
   "version": "3.10.12"
  }
 },
 "nbformat": 4,
 "nbformat_minor": 5
}
