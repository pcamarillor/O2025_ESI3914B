{
 "cells": [
  {
   "cell_type": "markdown",
   "id": "dfeec634",
   "metadata": {},
   "source": [
    "# <center> <img src=\"../../img/ITESOLogo.png\" alt=\"ITESO\" width=\"480\" height=\"130\"> </center>\n",
    "# <center> **Departamento de Electrónica, Sistemas e Informática** </center>\n",
    "---\n",
    "## <center> Program: Procesamiento de datos masivos  </center>\n",
    "---\n",
    "### <center> **Autumn 2025** </center>\n",
    "---\n",
    "\n",
    "**Lab 02**: Bank Account Manager\n",
    "\n",
    "**Date**: Sep 02, 2025\n",
    "\n",
    "**Student Name**: Axel Leonardo Fernandez Albarran\n",
    "\n",
    "**Professor**: Pablo Camarillo Ramirez, PhD"
   ]
  },
  {
   "cell_type": "markdown",
   "id": "0f89ca44",
   "metadata": {},
   "source": [
    "# Primero importamos nuestro modulo"
   ]
  },
  {
   "cell_type": "code",
   "execution_count": null,
   "id": "4b9ac90d",
   "metadata": {},
   "outputs": [],
   "source": [
    "from axel_fernandez.utils import BankAccount"
   ]
  },
  {
   "cell_type": "markdown",
   "id": "cfeeb596",
   "metadata": {},
   "source": [
    "# Creamos nuestra cuenta de banco"
   ]
  },
  {
   "cell_type": "code",
   "execution_count": null,
   "id": "60f61fae",
   "metadata": {},
   "outputs": [],
   "source": [
    "bank1 = BankAccount(\"Axel\")\n",
    "bank2 = BankAccount(\"Maria\", 100)\n",
    "\n",
    "print(bank1.__repr__())\n",
    "print(bank2.__repr__())"
   ]
  },
  {
   "cell_type": "markdown",
   "id": "e49395f2",
   "metadata": {},
   "source": [
    "# Realizamos ciertas operaciones con la estructura de datos con funciones"
   ]
  },
  {
   "cell_type": "code",
   "execution_count": null,
   "id": "f39e8e83",
   "metadata": {},
   "outputs": [],
   "source": [
    "\n",
    "# Process different operations\n",
    "print(bank1.__repr__())\n",
    "bank1.process(\"deposit\", 500)  # Deposit 500\n",
    "print(f\"Balance: {bank1.process('balance')}\")  # Get balance\n",
    "bank1.process(\"withdraw\", 200)  # Withdraw 200\n",
    "print(f\"Balance: {bank1.process('balance')}\")  # Get balance"
   ]
  }
 ],
 "metadata": {
  "kernelspec": {
   "display_name": "Python 3 (ipykernel)",
   "language": "python",
   "name": "python3"
  },
  "language_info": {
   "codemirror_mode": {
    "name": "ipython",
    "version": 3
   },
   "file_extension": ".py",
   "mimetype": "text/x-python",
   "name": "python",
   "nbconvert_exporter": "python",
   "pygments_lexer": "ipython3",
   "version": "3.10.12"
  }
 },
 "nbformat": 4,
 "nbformat_minor": 5
}
