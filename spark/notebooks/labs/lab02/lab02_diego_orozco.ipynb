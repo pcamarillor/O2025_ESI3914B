{
 "cells": [
  {
   "cell_type": "markdown",
   "id": "dfeec634",
   "metadata": {},
   "source": [
    "# <center> <img src=\"../../img/ITESOLogo.png\" alt=\"ITESO\" width=\"480\" height=\"130\"> </center>\n",
    "# <center> **Departamento de Electrónica, Sistemas e Informática** </center>\n",
    "---\n",
    "## <center> Program: Ing. Sistemas Computacionales  </center>\n",
    "---\n",
    "### <center> **Autumn 2025** </center>\n",
    "---\n",
    "\n",
    "**Lab 02**: Bank Account Manager\n",
    "\n",
    "**Date**: 2/Sep/25\n",
    "\n",
    "**Student Name**: Diego Orozco Alvarado\n",
    "\n",
    "**Professor**: Pablo Camarillo Ramirez, PhD"
   ]
  },
  {
   "cell_type": "code",
   "execution_count": 6,
   "id": "2d029649",
   "metadata": {},
   "outputs": [
    {
     "name": "stdout",
     "output_type": "stream",
     "text": [
      "cantidad actualizada\n",
      "BankAccount amount='1013'\n",
      "cantidad actualizada\n",
      "BankAccount amount='296'\n",
      "\n",
      "Pruebas de excepciones:\n",
      "cantidad debe ser mayor a 0\n",
      "Fondos insuficientes\n",
      "cantidad debe ser mayor a 0\n"
     ]
    },
    {
     "data": {
      "text/plain": [
       "296"
      ]
     },
     "execution_count": 6,
     "metadata": {},
     "output_type": "execute_result"
    }
   ],
   "source": [
    "from diego_orozco.utils import BankAccount\n",
    "\n",
    "account = BankAccount(1000)\n",
    "account.process(\"deposit\", 13)\n",
    "\n",
    "account.process(\"withdraw\", 717)\n",
    "\n",
    "print(f\"\\nPruebas de excepciones:\")\n",
    "account.process(\"deposit\", -10)\n",
    "account.process(\"withdraw\", 1000)\n",
    "account.process(\"withdraw\", -1000)"
   ]
  }
 ],
 "metadata": {
  "kernelspec": {
   "display_name": "Python 3 (ipykernel)",
   "language": "python",
   "name": "python3"
  },
  "language_info": {
   "codemirror_mode": {
    "name": "ipython",
    "version": 3
   },
   "file_extension": ".py",
   "mimetype": "text/x-python",
   "name": "python",
   "nbconvert_exporter": "python",
   "pygments_lexer": "ipython3",
   "version": "3.10.12"
  }
 },
 "nbformat": 4,
 "nbformat_minor": 5
}
