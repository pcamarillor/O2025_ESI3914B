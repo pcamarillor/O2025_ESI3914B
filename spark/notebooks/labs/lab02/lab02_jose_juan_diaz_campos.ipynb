{
 "cells": [
  {
   "cell_type": "markdown",
   "id": "dfeec634",
   "metadata": {},
   "source": [
    "# <center> <img src=\"../../img/ITESOLogo.png\" alt=\"ITESO\" width=\"480\" height=\"130\"> </center>\n",
    "# <center> **Departamento de Electrónica, Sistemas e Informática** </center>\n",
    "---\n",
    "## <center> Program: PROCESAMIENTO DE DATOS MASIVOS  </center>\n",
    "---\n",
    "### <center> **Autumn 2025** </center>\n",
    "---\n",
    "\n",
    "**Lab 01**: Playlist analyzer\n",
    "\n",
    "**Date**: 02/09/2025\n",
    "\n",
    "**Student Name**: José Juan Díaz Campos\n",
    "\n",
    "**Professor**: Pablo Camarillo Ramirez "
   ]
  },
  {
   "cell_type": "code",
   "execution_count": 2,
   "id": "a2b8446c",
   "metadata": {},
   "outputs": [
    {
     "name": "stdout",
     "output_type": "stream",
     "text": [
      "Deposited $13. New balance: $1013\n",
      "Withdrew $717. New balance: $296\n",
      "Operations dictionary: {'deposit': <bound method BankAccount._deposit of BankAccount(296)>, 'withdraw': <bound method BankAccount._withdraw of BankAccount(296)>, 'get_balance': <bound method BankAccount._get_balance of BankAccount(296)>}\n",
      "Available operations: ['deposit', 'withdraw', 'get_balance']\n"
     ]
    }
   ],
   "source": [
    "from jjodiaz.bank_account import BankAccount\n",
    "account = BankAccount(1000)\n",
    "account.process(\"deposit\", 13)\n",
    "account.process(\"withdraw\", 717)\n",
    "\n",
    "print(\"Operations dictionary:\", account.operations)\n",
    "print(\"Available operations:\", account.get_available_operations())\n"
   ]
  },
  {
   "cell_type": "code",
   "execution_count": null,
   "id": "964525a9-1009-4f0a-97e6-cad7a1fa4289",
   "metadata": {},
   "outputs": [],
   "source": []
  }
 ],
 "metadata": {
  "kernelspec": {
   "display_name": "Python 3 (ipykernel)",
   "language": "python",
   "name": "python3"
  },
  "language_info": {
   "codemirror_mode": {
    "name": "ipython",
    "version": 3
   },
   "file_extension": ".py",
   "mimetype": "text/x-python",
   "name": "python",
   "nbconvert_exporter": "python",
   "pygments_lexer": "ipython3",
   "version": "3.10.12"
  }
 },
 "nbformat": 4,
 "nbformat_minor": 5
}
