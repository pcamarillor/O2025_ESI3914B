{
 "cells": [
  {
   "cell_type": "markdown",
   "id": "b92d9622",
   "metadata": {},
   "source": [
    "# <center> <img src=\"../../img/ITESOLogo.png\" alt=\"ITESO\" width=\"480\" height=\"130\"> </center>\n",
    "# <center> **Departamento de Electrónica, Sistemas e Informática** </center>\n",
    "---\n",
    "## <center> Computer Systems Engineering  </center>\n",
    "---\n",
    "### <center> Big Data Processing </center>\n",
    "---\n",
    "#### <center> **Autumn 2025** </center>\n",
    "---\n",
    "\n",
    "**Lab 03**: Data Cleaning and Transformation Pipeline\n",
    "\n",
    "**Date**: September 18th 2025\n",
    "\n",
    "**Student Name**: Juan Bernardo Orozco Quirarte\n",
    "\n",
    "**Professor**: Pablo Camarillo Ramirez"
   ]
  },
  {
   "cell_type": "markdown",
   "id": "f11f6429",
   "metadata": {},
   "source": [
    "### Find Spark Installation"
   ]
  },
  {
   "cell_type": "code",
   "execution_count": 1,
   "id": "86d0c511",
   "metadata": {},
   "outputs": [],
   "source": [
    "import findspark\n",
    "findspark.init()"
   ]
  },
  {
   "cell_type": "markdown",
   "id": "5f62febc",
   "metadata": {},
   "source": [
    "### Create Spark Session"
   ]
  },
  {
   "cell_type": "code",
   "execution_count": 2,
   "id": "d30ba9a3",
   "metadata": {},
   "outputs": [
    {
     "name": "stderr",
     "output_type": "stream",
     "text": [
      "WARNING: Using incubator modules: jdk.incubator.vector\n",
      "Using Spark's default log4j profile: org/apache/spark/log4j2-defaults.properties\n",
      "Setting default log level to \"WARN\".\n",
      "To adjust logging level use sc.setLogLevel(newLevel). For SparkR, use setLogLevel(newLevel).\n",
      "25/09/20 17:54:36 WARN NativeCodeLoader: Unable to load native-hadoop library for your platform... using builtin-java classes where applicable\n"
     ]
    }
   ],
   "source": [
    "from pyspark.sql import SparkSession\n",
    "\n",
    "spark = SparkSession.builder \\\n",
    "    .appName(\"Examples on data sources (Files)\") \\\n",
    "    .master(\"spark://7d7f1cd1d5d2:7077\") \\\n",
    "    .config(\"spark.ui.port\", \"4040\") \\\n",
    "    .getOrCreate()\n",
    "\n",
    "sc = spark.sparkContext\n",
    "sc.setLogLevel(\"ERROR\")"
   ]
  },
  {
   "cell_type": "markdown",
   "id": "5b24792f",
   "metadata": {},
   "source": [
    "### Define Schema"
   ]
  },
  {
   "cell_type": "code",
   "execution_count": 3,
   "id": "11947bbd",
   "metadata": {},
   "outputs": [
    {
     "data": {
      "text/plain": [
       "StructType([StructField('index', IntegerType(), True), StructField('airline', StringType(), True), StructField('flight', StringType(), True), StructField('source_city', StringType(), True), StructField('departure_time', StringType(), True), StructField('stops', StringType(), True), StructField('arrival_time', StringType(), True), StructField('destination_city', StringType(), True), StructField('class', StringType(), True), StructField('duration', FloatType(), True), StructField('days_left', IntegerType(), True), StructField('price', IntegerType(), True)])"
      ]
     },
     "execution_count": 3,
     "metadata": {},
     "output_type": "execute_result"
    }
   ],
   "source": [
    "from lib.bernardoorozco.spark_utils import SparkUtils\n",
    "airlines_schema_columns = [(\"index\", \"int\"), \n",
    "     (\"airline\", \"string\"), \n",
    "     (\"flight\", \"string\"),\n",
    "     (\"source_city\", \"string\"),\n",
    "     (\"departure_time\", \"string\"),\n",
    "     (\"stops\", \"string\"),\n",
    "     (\"arrival_time\", \"string\"),\n",
    "     (\"destination_city\", \"string\"),\n",
    "     (\"class\", \"string\"),\n",
    "     (\"duration\", \"float\"),\n",
    "     (\"days_left\", \"int\"),\n",
    "     (\"price\", \"int\")\n",
    "     ]\n",
    "airlines_schema = SparkUtils.generate_schema(airlines_schema_columns)\n",
    "airlines_schema"
   ]
  },
  {
   "cell_type": "markdown",
   "id": "6813829f",
   "metadata": {},
   "source": [
    "### Load CSV"
   ]
  },
  {
   "cell_type": "code",
   "execution_count": 4,
   "id": "39c023bc",
   "metadata": {},
   "outputs": [
    {
     "name": "stderr",
     "output_type": "stream",
     "text": [
      "[Stage 0:>                                                          (0 + 1) / 1]\r"
     ]
    },
    {
     "name": "stdout",
     "output_type": "stream",
     "text": [
      "+-----+--------+-------+-----------+--------------+-----+-------------+----------------+-------+--------+---------+-----+\n",
      "|index| airline| flight|source_city|departure_time|stops| arrival_time|destination_city|  class|duration|days_left|price|\n",
      "+-----+--------+-------+-----------+--------------+-----+-------------+----------------+-------+--------+---------+-----+\n",
      "|    0|SpiceJet|SG-8709|      Delhi|       Evening| zero|        Night|          Mumbai|Economy|    2.17|        1| 5953|\n",
      "|    1|SpiceJet|SG-8157|      Delhi| Early_Morning| zero|      Morning|          Mumbai|Economy|    2.33|        1| 5953|\n",
      "|    2| AirAsia| I5-764|      Delhi| Early_Morning| zero|Early_Morning|          Mumbai|Economy|    2.17|        1| 5956|\n",
      "|    3| Vistara| UK-995|      Delhi|       Morning| zero|    Afternoon|          Mumbai|Economy|    2.25|        1| 5955|\n",
      "|    4| Vistara| UK-963|      Delhi|       Morning| zero|      Morning|          Mumbai|Economy|    2.33|        1| 5955|\n",
      "+-----+--------+-------+-----------+--------------+-----+-------------+----------------+-------+--------+---------+-----+\n",
      "only showing top 5 rows\n"
     ]
    },
    {
     "name": "stderr",
     "output_type": "stream",
     "text": [
      "                                                                                \r"
     ]
    }
   ],
   "source": [
    "df_airlines = spark.read \\\n",
    "                .option(\"header\", \"true\") \\\n",
    "                .schema(airlines_schema) \\\n",
    "                .csv(\"/opt/spark/work-dir/data/archive/airlines_flights_data.csv\")\n",
    "\n",
    "df_airlines.show(n=5)"
   ]
  },
  {
   "cell_type": "markdown",
   "id": "d78faf85",
   "metadata": {},
   "source": [
    "### Drop unnecessary columns. Count how many null values the dataset has before/after the cleaning process."
   ]
  },
  {
   "cell_type": "code",
   "execution_count": 5,
   "id": "08aff0ee",
   "metadata": {},
   "outputs": [
    {
     "name": "stderr",
     "output_type": "stream",
     "text": [
      "                                                                                \r"
     ]
    },
    {
     "name": "stdout",
     "output_type": "stream",
     "text": [
      "number of records before cleaning: 300153\n"
     ]
    },
    {
     "name": "stderr",
     "output_type": "stream",
     "text": [
      "[Stage 4:=============================>                             (1 + 1) / 2]\r"
     ]
    },
    {
     "name": "stdout",
     "output_type": "stream",
     "text": [
      "+-----+-------+------+-----------+--------------+-----+------------+----------------+-----+--------+---------+-----+\n",
      "|index|airline|flight|source_city|departure_time|stops|arrival_time|destination_city|class|duration|days_left|price|\n",
      "+-----+-------+------+-----------+--------------+-----+------------+----------------+-----+--------+---------+-----+\n",
      "|    0|      0|     0|          0|             0|    0|           0|               0|    0|       0|        0|    0|\n",
      "+-----+-------+------+-----------+--------------+-----+------------+----------------+-----+--------+---------+-----+\n",
      "\n"
     ]
    },
    {
     "name": "stderr",
     "output_type": "stream",
     "text": [
      "                                                                                \r"
     ]
    }
   ],
   "source": [
    "from pyspark.sql.functions import trim, col, count, isnull, when\n",
    "print(f\"number of records before cleaning: {df_airlines.count()}\")\n",
    "df_airlines.select([count(when(col(c).isNull(), c)).alias(c) for c in df_airlines.columns]).show()\n"
   ]
  },
  {
   "cell_type": "code",
   "execution_count": 6,
   "id": "15cebc21",
   "metadata": {},
   "outputs": [
    {
     "name": "stderr",
     "output_type": "stream",
     "text": [
      "                                                                                \r"
     ]
    },
    {
     "name": "stdout",
     "output_type": "stream",
     "text": [
      "Numer of records after cleaning: 300153\n"
     ]
    },
    {
     "name": "stderr",
     "output_type": "stream",
     "text": [
      "[Stage 10:=============================>                            (1 + 1) / 2]\r"
     ]
    },
    {
     "name": "stdout",
     "output_type": "stream",
     "text": [
      "+-------+-----------+--------------+-----+------------+----------------+--------+-----+\n",
      "|airline|source_city|departure_time|stops|arrival_time|destination_city|duration|price|\n",
      "+-------+-----------+--------------+-----+------------+----------------+--------+-----+\n",
      "|      0|          0|             0|    0|           0|               0|       0|    0|\n",
      "+-------+-----------+--------------+-----+------------+----------------+--------+-----+\n",
      "\n"
     ]
    },
    {
     "name": "stderr",
     "output_type": "stream",
     "text": [
      "                                                                                \r"
     ]
    }
   ],
   "source": [
    "df_clean = df_airlines.drop(\"index\", \"flight\", \"class\", \"days_left\")    # We are not going to use this columns\n",
    "\n",
    "for c in df_clean.columns:\n",
    "    if dict(df_clean.dtypes)[c] == \"string\":\n",
    "        df_clean = df_clean.withColumn(c, trim(col(c)))   # Trim of string columns\n",
    "\n",
    "df_clean=df_clean.dropna()  # Drop null columns if exists\n",
    "\n",
    "print(f\"Numer of records after cleaning: {df_clean.count()}\")\n",
    "df_clean.select([count(when(col(c).isNull(), c)).alias(c) for c in df_clean.columns]).show()"
   ]
  },
  {
   "cell_type": "markdown",
   "id": "fbd3e655",
   "metadata": {},
   "source": [
    "### Normalize categorical values: map “zero” → 0, “one” → 1, etc. in stops."
   ]
  },
  {
   "cell_type": "code",
   "execution_count": 7,
   "id": "963bc8a1",
   "metadata": {},
   "outputs": [
    {
     "name": "stderr",
     "output_type": "stream",
     "text": [
      "[Stage 13:=============================>                            (1 + 1) / 2]\r"
     ]
    },
    {
     "name": "stdout",
     "output_type": "stream",
     "text": [
      "+-----------+\n",
      "|      stops|\n",
      "+-----------+\n",
      "|two_or_more|\n",
      "|        one|\n",
      "|       zero|\n",
      "+-----------+\n",
      "\n"
     ]
    },
    {
     "name": "stderr",
     "output_type": "stream",
     "text": [
      "                                                                                \r"
     ]
    }
   ],
   "source": [
    "df_clean.select(\"stops\").distinct().show()  # Not normalized"
   ]
  },
  {
   "cell_type": "code",
   "execution_count": 8,
   "id": "10ea9208",
   "metadata": {},
   "outputs": [
    {
     "name": "stderr",
     "output_type": "stream",
     "text": [
      "[Stage 16:=============================>                            (1 + 1) / 2]\r"
     ]
    },
    {
     "name": "stdout",
     "output_type": "stream",
     "text": [
      "+-----+\n",
      "|stops|\n",
      "+-----+\n",
      "|    1|\n",
      "|    2|\n",
      "|    0|\n",
      "+-----+\n",
      "\n"
     ]
    },
    {
     "name": "stderr",
     "output_type": "stream",
     "text": [
      "                                                                                \r"
     ]
    }
   ],
   "source": [
    "df_clean=df_clean.withColumn(\"stops\", when(col(\"stops\") == \"zero\", 0).when(col(\"stops\") == \"one\", 1).when(col(\"stops\") == \"two_or_more\", 2))\n",
    "df_clean.select(\"stops\").distinct().show()  # Normalized"
   ]
  },
  {
   "cell_type": "markdown",
   "id": "85357cae",
   "metadata": {},
   "source": [
    "### Create a new column called route: “Delhi → Mumbai” from source_city and destination_city."
   ]
  },
  {
   "cell_type": "code",
   "execution_count": 9,
   "id": "a8b58805",
   "metadata": {},
   "outputs": [
    {
     "name": "stdout",
     "output_type": "stream",
     "text": [
      "+--------+-----------+--------------+-----+-------------+----------------+--------+-----+---------------+\n",
      "| airline|source_city|departure_time|stops| arrival_time|destination_city|duration|price|          route|\n",
      "+--------+-----------+--------------+-----+-------------+----------------+--------+-----+---------------+\n",
      "|SpiceJet|      Delhi|       Evening|    0|        Night|          Mumbai|    2.17| 5953|Delhi -> Mumbai|\n",
      "|SpiceJet|      Delhi| Early_Morning|    0|      Morning|          Mumbai|    2.33| 5953|Delhi -> Mumbai|\n",
      "| AirAsia|      Delhi| Early_Morning|    0|Early_Morning|          Mumbai|    2.17| 5956|Delhi -> Mumbai|\n",
      "| Vistara|      Delhi|       Morning|    0|    Afternoon|          Mumbai|    2.25| 5955|Delhi -> Mumbai|\n",
      "| Vistara|      Delhi|       Morning|    0|      Morning|          Mumbai|    2.33| 5955|Delhi -> Mumbai|\n",
      "+--------+-----------+--------------+-----+-------------+----------------+--------+-----+---------------+\n",
      "only showing top 5 rows\n"
     ]
    }
   ],
   "source": [
    "from pyspark.sql.functions import concat_ws\n",
    "df_clean = df_clean.withColumn(\"route\", concat_ws(\" -> \", col(\"source_city\"), col(\"destination_city\")))\n",
    "df_clean.show(5)"
   ]
  },
  {
   "cell_type": "markdown",
   "id": "f1dca035",
   "metadata": {},
   "source": [
    "### Transform departure_time and arrival_time to numerical categories (Morning, Afternoon, etc.), then encode as numbers (0=Early_Morning, 1=Morning, etc.)."
   ]
  },
  {
   "cell_type": "code",
   "execution_count": 10,
   "id": "629de8a6",
   "metadata": {},
   "outputs": [
    {
     "name": "stderr",
     "output_type": "stream",
     "text": [
      "                                                                                \r"
     ]
    },
    {
     "name": "stdout",
     "output_type": "stream",
     "text": [
      "+--------------+\n",
      "|departure_time|\n",
      "+--------------+\n",
      "|       Evening|\n",
      "|       Morning|\n",
      "|    Late_Night|\n",
      "|     Afternoon|\n",
      "| Early_Morning|\n",
      "|         Night|\n",
      "+--------------+\n",
      "\n"
     ]
    },
    {
     "name": "stderr",
     "output_type": "stream",
     "text": [
      "[Stage 23:=============================>                            (1 + 1) / 2]\r"
     ]
    },
    {
     "name": "stdout",
     "output_type": "stream",
     "text": [
      "+-------------+\n",
      "| arrival_time|\n",
      "+-------------+\n",
      "|      Evening|\n",
      "|      Morning|\n",
      "|   Late_Night|\n",
      "|    Afternoon|\n",
      "|Early_Morning|\n",
      "|        Night|\n",
      "+-------------+\n",
      "\n"
     ]
    },
    {
     "name": "stderr",
     "output_type": "stream",
     "text": [
      "                                                                                \r"
     ]
    }
   ],
   "source": [
    "df_clean.select(\"departure_time\").distinct().show()\n",
    "df_clean.select(\"arrival_time\").distinct().show()"
   ]
  },
  {
   "cell_type": "code",
   "execution_count": 11,
   "id": "b0a909f7",
   "metadata": {},
   "outputs": [],
   "source": [
    "df_clean = df_clean.withColumn(\n",
    "    \"departure_time\",\n",
    "    when(col(\"departure_time\") == \"Early_Morning\", 0).when(col(\"departure_time\") == \"Morning\", 1)\n",
    "    .when(col(\"departure_time\") == \"Afternoon\", 2).when(col(\"departure_time\") == \"Evening\", 3)\n",
    "    .when(col(\"departure_time\") == \"Night\", 4).when(col(\"departure_time\") == \"Late_Night\", 5)\n",
    ")\n",
    "\n",
    "df_clean = df_clean.withColumn(\n",
    "    \"arrival_time\", when(col(\"arrival_time\") == \"Early_Morning\", 0) .when(col(\"arrival_time\") == \"Morning\", 1)\n",
    "    .when(col(\"arrival_time\") == \"Afternoon\", 2).when(col(\"arrival_time\") == \"Evening\", 3)\n",
    "    .when(col(\"arrival_time\") == \"Night\", 4).when(col(\"arrival_time\") == \"Late_Night\", 5)\n",
    ")"
   ]
  },
  {
   "cell_type": "code",
   "execution_count": 12,
   "id": "d3273e3a",
   "metadata": {},
   "outputs": [
    {
     "name": "stderr",
     "output_type": "stream",
     "text": [
      "                                                                                \r"
     ]
    },
    {
     "name": "stdout",
     "output_type": "stream",
     "text": [
      "+--------------+\n",
      "|departure_time|\n",
      "+--------------+\n",
      "|             1|\n",
      "|             3|\n",
      "|             5|\n",
      "|             4|\n",
      "|             2|\n",
      "|             0|\n",
      "+--------------+\n",
      "\n"
     ]
    },
    {
     "name": "stderr",
     "output_type": "stream",
     "text": [
      "[Stage 29:=============================>                            (1 + 1) / 2]\r"
     ]
    },
    {
     "name": "stdout",
     "output_type": "stream",
     "text": [
      "+------------+\n",
      "|arrival_time|\n",
      "+------------+\n",
      "|           1|\n",
      "|           3|\n",
      "|           5|\n",
      "|           4|\n",
      "|           2|\n",
      "|           0|\n",
      "+------------+\n",
      "\n"
     ]
    },
    {
     "name": "stderr",
     "output_type": "stream",
     "text": [
      "                                                                                \r"
     ]
    }
   ],
   "source": [
    "df_clean.select(\"departure_time\").distinct().show()\n",
    "df_clean.select(\"arrival_time\").distinct().show()"
   ]
  },
  {
   "cell_type": "markdown",
   "id": "cb7b7030",
   "metadata": {},
   "source": [
    "### Add a new column is_expensive: when(price > 6000, True).otherwise(False)."
   ]
  },
  {
   "cell_type": "code",
   "execution_count": 13,
   "id": "920b0bf4",
   "metadata": {},
   "outputs": [
    {
     "name": "stdout",
     "output_type": "stream",
     "text": [
      "+--------+-----------+--------------+-----+------------+----------------+--------+-----+---------------+------------+\n",
      "| airline|source_city|departure_time|stops|arrival_time|destination_city|duration|price|          route|is_expensive|\n",
      "+--------+-----------+--------------+-----+------------+----------------+--------+-----+---------------+------------+\n",
      "|SpiceJet|      Delhi|             3|    0|           4|          Mumbai|    2.17| 5953|Delhi -> Mumbai|       false|\n",
      "|SpiceJet|      Delhi|             0|    0|           1|          Mumbai|    2.33| 5953|Delhi -> Mumbai|       false|\n",
      "| AirAsia|      Delhi|             0|    0|           0|          Mumbai|    2.17| 5956|Delhi -> Mumbai|       false|\n",
      "| Vistara|      Delhi|             1|    0|           2|          Mumbai|    2.25| 5955|Delhi -> Mumbai|       false|\n",
      "| Vistara|      Delhi|             1|    0|           1|          Mumbai|    2.33| 5955|Delhi -> Mumbai|       false|\n",
      "+--------+-----------+--------------+-----+------------+----------------+--------+-----+---------------+------------+\n",
      "only showing top 5 rows\n"
     ]
    }
   ],
   "source": [
    "df_clean=df_clean.withColumn(\"is_expensive\", when(col(\"price\")>6000, True).otherwise(False))\n",
    "df_clean.show(5)"
   ]
  },
  {
   "cell_type": "markdown",
   "id": "7a5ccc1f",
   "metadata": {},
   "source": [
    "### Get the average price per airline."
   ]
  },
  {
   "cell_type": "code",
   "execution_count": 14,
   "id": "307d53b8",
   "metadata": {},
   "outputs": [
    {
     "name": "stderr",
     "output_type": "stream",
     "text": [
      "[Stage 33:=============================>                            (1 + 1) / 2]\r"
     ]
    },
    {
     "name": "stdout",
     "output_type": "stream",
     "text": [
      "+---------+------------------+\n",
      "|  airline|         avg_price|\n",
      "+---------+------------------+\n",
      "|   Indigo| 5324.216303339517|\n",
      "| SpiceJet| 6179.278881367218|\n",
      "|Air_India| 23507.01911190229|\n",
      "|  AirAsia|4091.0727419555224|\n",
      "| GO_FIRST| 5652.007595045959|\n",
      "|  Vistara| 30396.53630170735|\n",
      "+---------+------------------+\n",
      "\n"
     ]
    },
    {
     "name": "stderr",
     "output_type": "stream",
     "text": [
      "                                                                                \r"
     ]
    }
   ],
   "source": [
    "from pyspark.sql.functions import avg\n",
    "df_clean.groupBy(\"airline\").agg(avg(\"price\").alias(\"avg_price\")).show()"
   ]
  },
  {
   "cell_type": "markdown",
   "id": "6cc9562f",
   "metadata": {},
   "source": [
    "### Average duration per route."
   ]
  },
  {
   "cell_type": "code",
   "execution_count": 15,
   "id": "c2af9e22",
   "metadata": {},
   "outputs": [
    {
     "name": "stderr",
     "output_type": "stream",
     "text": [
      "[Stage 36:=============================>                            (1 + 1) / 2]\r"
     ]
    },
    {
     "name": "stdout",
     "output_type": "stream",
     "text": [
      "+--------------------+------------------+\n",
      "|               route|      avg_duration|\n",
      "+--------------------+------------------+\n",
      "|    Delhi -> Chennai|12.433964745763944|\n",
      "|  Hyderabad -> Delhi|10.829816602522587|\n",
      "|   Mumbai -> Chennai|12.665900287564627|\n",
      "|Hyderabad -> Kolkata|13.535322410033165|\n",
      "| Hyderabad -> Mumbai|11.962923295795918|\n",
      "| Mumbai -> Bangalore|11.612022516178817|\n",
      "|    Delhi -> Kolkata| 12.73596614766045|\n",
      "|   Mumbai -> Kolkata|12.836848115489666|\n",
      "|Bangalore -> Kolkata|13.099143404859825|\n",
      "| Mumbai -> Hyderabad|13.263310412247066|\n",
      "|    Kolkata -> Delhi| 11.60498857561711|\n",
      "|Hyderabad -> Chennai|13.293238468912078|\n",
      "|     Delhi -> Mumbai|10.367774213738123|\n",
      "|   Kolkata -> Mumbai|12.991932481150478|\n",
      "|     Mumbai -> Delhi|  9.81805726844943|\n",
      "|Kolkata -> Hyderabad|13.853107514948396|\n",
      "|Bangalore -> Chennai|14.480207509137166|\n",
      "|  Bangalore -> Delhi|  9.77995566082195|\n",
      "|Bangalore -> Hyde...|14.162432783513621|\n",
      "|Hyderabad -> Bang...| 12.09331678643705|\n",
      "+--------------------+------------------+\n",
      "only showing top 20 rows\n"
     ]
    },
    {
     "name": "stderr",
     "output_type": "stream",
     "text": [
      "                                                                                \r"
     ]
    }
   ],
   "source": [
    "df_clean.groupBy(\"route\").agg(avg(\"duration\").alias(\"avg_duration\")).show()"
   ]
  },
  {
   "cell_type": "markdown",
   "id": "550ad6e9",
   "metadata": {},
   "source": [
    "### Minimum and maximum price per airline."
   ]
  },
  {
   "cell_type": "code",
   "execution_count": 16,
   "id": "57df8681",
   "metadata": {},
   "outputs": [
    {
     "name": "stderr",
     "output_type": "stream",
     "text": [
      "[Stage 39:=============================>                            (1 + 1) / 2]\r"
     ]
    },
    {
     "name": "stdout",
     "output_type": "stream",
     "text": [
      "+---------+---------+---------+\n",
      "|  airline|min_price|max_price|\n",
      "+---------+---------+---------+\n",
      "|   Indigo|     1105|    31952|\n",
      "| SpiceJet|     1106|    34158|\n",
      "|Air_India|     1526|    90970|\n",
      "|  AirAsia|     1105|    31917|\n",
      "| GO_FIRST|     1105|    32803|\n",
      "|  Vistara|     1714|   123071|\n",
      "+---------+---------+---------+\n",
      "\n"
     ]
    },
    {
     "name": "stderr",
     "output_type": "stream",
     "text": [
      "                                                                                \r"
     ]
    }
   ],
   "source": [
    "from pyspark.sql.functions import min, max\n",
    "df_clean.groupBy(\"airline\").agg(min(\"price\").alias(\"min_price\"), max(\"price\").alias(\"max_price\")).show()"
   ]
  },
  {
   "cell_type": "markdown",
   "id": "2d916dff",
   "metadata": {},
   "source": [
    "### Count flights by departure_time category."
   ]
  },
  {
   "cell_type": "code",
   "execution_count": 17,
   "id": "709a34e7",
   "metadata": {},
   "outputs": [
    {
     "name": "stderr",
     "output_type": "stream",
     "text": [
      "[Stage 42:=============================>                            (1 + 1) / 2]\r"
     ]
    },
    {
     "name": "stdout",
     "output_type": "stream",
     "text": [
      "+--------------+-----+\n",
      "|departure_time|count|\n",
      "+--------------+-----+\n",
      "|             1|71146|\n",
      "|             3|65102|\n",
      "|             5| 1306|\n",
      "|             4|48015|\n",
      "|             2|47794|\n",
      "|             0|66790|\n",
      "+--------------+-----+\n",
      "\n"
     ]
    },
    {
     "name": "stderr",
     "output_type": "stream",
     "text": [
      "                                                                                \r"
     ]
    }
   ],
   "source": [
    "df_clean.groupBy(\"departure_time\").count().show()"
   ]
  },
  {
   "cell_type": "code",
   "execution_count": 18,
   "id": "07251a7c",
   "metadata": {},
   "outputs": [],
   "source": [
    "sc.stop()"
   ]
  }
 ],
 "metadata": {
  "kernelspec": {
   "display_name": "Python 3 (ipykernel)",
   "language": "python",
   "name": "python3"
  },
  "language_info": {
   "codemirror_mode": {
    "name": "ipython",
    "version": 3
   },
   "file_extension": ".py",
   "mimetype": "text/x-python",
   "name": "python",
   "nbconvert_exporter": "python",
   "pygments_lexer": "ipython3",
   "version": "3.10.12"
  }
 },
 "nbformat": 4,
 "nbformat_minor": 5
}
