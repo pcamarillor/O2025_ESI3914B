{
 "cells": [
  {
   "cell_type": "markdown",
   "id": "b92d9622",
   "metadata": {},
   "source": [
    "# <center> <img src=\"../../img/ITESOLogo.png\" alt=\"ITESO\" width=\"480\" height=\"130\"> </center>\n",
    "# <center> **Departamento de Electrónica, Sistemas e Informática** </center>\n",
    "---\n",
    "## <center> Computer Systems Engineering  </center>\n",
    "---\n",
    "### <center> Big Data Processing </center>\n",
    "---\n",
    "#### <center> **Autumn 2025** </center>\n",
    "---\n",
    "\n",
    "**Lab 03**: Data Cleaning and Transformation Pipeline\n",
    "\n",
    "**Date**: September 19th 2025\n",
    "\n",
    "**Student Name**: Luis Adrian Bravo Ramirez\n",
    "\n",
    "**Professor**: Pablo Camarillo Ramirez"
   ]
  },
  {
   "cell_type": "markdown",
   "id": "05da2e5a",
   "metadata": {},
   "source": [
    "# Find the PySpark Installation & Create SparkSession"
   ]
  },
  {
   "cell_type": "code",
   "execution_count": 1,
   "id": "83ce46b4",
   "metadata": {},
   "outputs": [],
   "source": [
    "import findspark\n",
    "findspark.init()"
   ]
  },
  {
   "cell_type": "code",
   "execution_count": 2,
   "id": "dd1c5c02",
   "metadata": {},
   "outputs": [
    {
     "name": "stderr",
     "output_type": "stream",
     "text": [
      "WARNING: Using incubator modules: jdk.incubator.vector\n",
      "Using Spark's default log4j profile: org/apache/spark/log4j2-defaults.properties\n",
      "Setting default log level to \"WARN\".\n",
      "To adjust logging level use sc.setLogLevel(newLevel). For SparkR, use setLogLevel(newLevel).\n",
      "25/09/19 15:02:03 WARN NativeCodeLoader: Unable to load native-hadoop library for your platform... using builtin-java classes where applicable\n"
     ]
    }
   ],
   "source": [
    "from pyspark.sql import SparkSession\n",
    "\n",
    "spark = SparkSession.builder \\\n",
    "    .appName(\"Examples on data sources (Files)\") \\\n",
    "    .master(\"spark://4f3c6067fdf1:7077\") \\\n",
    "    .config(\"spark.ui.port\", \"4040\") \\\n",
    "    .getOrCreate()\n",
    "\n",
    "sc = spark.sparkContext\n",
    "sc.setLogLevel(\"ERROR\")"
   ]
  },
  {
   "cell_type": "markdown",
   "id": "dbd71b77",
   "metadata": {},
   "source": [
    "# Define the Schema & Load CSV"
   ]
  },
  {
   "cell_type": "code",
   "execution_count": 3,
   "id": "f6721e18",
   "metadata": {},
   "outputs": [
    {
     "data": {
      "text/plain": [
       "StructType([StructField('index', IntegerType(), True), StructField('airline', StringType(), True), StructField('flight', StringType(), True), StructField('source_city', StringType(), True), StructField('departure_time', StringType(), True), StructField('stops', StringType(), True), StructField('arrival_time', StringType(), True), StructField('destination_city', StringType(), True), StructField('class', StringType(), True), StructField('duration', FloatType(), True), StructField('days_left', IntegerType(), True), StructField('price', IntegerType(), True)])"
      ]
     },
     "execution_count": 3,
     "metadata": {},
     "output_type": "execute_result"
    }
   ],
   "source": [
    "from pcamarillor.spark_utils import SparkUtils\n",
    "airlines_schema_columns = [(\"index\", \"int\"), \n",
    "     (\"airline\", \"string\"), \n",
    "     (\"flight\", \"string\"),\n",
    "     (\"source_city\", \"string\"),\n",
    "     (\"departure_time\", \"string\"),\n",
    "     (\"stops\", \"string\"),\n",
    "     (\"arrival_time\", \"string\"),\n",
    "     (\"destination_city\", \"string\"),\n",
    "     (\"class\", \"string\"),\n",
    "     (\"duration\", \"float\"),\n",
    "     (\"days_left\", \"int\"),\n",
    "     (\"price\", \"int\")\n",
    "     ]\n",
    "airlines_schema = SparkUtils.generate_schema(airlines_schema_columns)\n",
    "airlines_schema"
   ]
  },
  {
   "cell_type": "code",
   "execution_count": 4,
   "id": "7ce5989e",
   "metadata": {},
   "outputs": [
    {
     "name": "stderr",
     "output_type": "stream",
     "text": [
      "[Stage 0:>                                                          (0 + 1) / 1]\r"
     ]
    },
    {
     "name": "stdout",
     "output_type": "stream",
     "text": [
      "+-----+--------+-------+-----------+--------------+-----+-------------+----------------+-------+--------+---------+-----+\n",
      "|index| airline| flight|source_city|departure_time|stops| arrival_time|destination_city|  class|duration|days_left|price|\n",
      "+-----+--------+-------+-----------+--------------+-----+-------------+----------------+-------+--------+---------+-----+\n",
      "|    0|SpiceJet|SG-8709|      Delhi|       Evening| zero|        Night|          Mumbai|Economy|    2.17|        1| 5953|\n",
      "|    1|SpiceJet|SG-8157|      Delhi| Early_Morning| zero|      Morning|          Mumbai|Economy|    2.33|        1| 5953|\n",
      "|    2| AirAsia| I5-764|      Delhi| Early_Morning| zero|Early_Morning|          Mumbai|Economy|    2.17|        1| 5956|\n",
      "|    3| Vistara| UK-995|      Delhi|       Morning| zero|    Afternoon|          Mumbai|Economy|    2.25|        1| 5955|\n",
      "|    4| Vistara| UK-963|      Delhi|       Morning| zero|      Morning|          Mumbai|Economy|    2.33|        1| 5955|\n",
      "|    5| Vistara| UK-945|      Delhi|       Morning| zero|    Afternoon|          Mumbai|Economy|    2.33|        1| 5955|\n",
      "|    6| Vistara| UK-927|      Delhi|       Morning| zero|      Morning|          Mumbai|Economy|    2.08|        1| 6060|\n",
      "|    7| Vistara| UK-951|      Delhi|     Afternoon| zero|      Evening|          Mumbai|Economy|    2.17|        1| 6060|\n",
      "|    8|GO_FIRST| G8-334|      Delhi| Early_Morning| zero|      Morning|          Mumbai|Economy|    2.17|        1| 5954|\n",
      "|    9|GO_FIRST| G8-336|      Delhi|     Afternoon| zero|      Evening|          Mumbai|Economy|    2.25|        1| 5954|\n",
      "+-----+--------+-------+-----------+--------------+-----+-------------+----------------+-------+--------+---------+-----+\n",
      "only showing top 10 rows\n"
     ]
    },
    {
     "name": "stderr",
     "output_type": "stream",
     "text": [
      "                                                                                \r"
     ]
    }
   ],
   "source": [
    "df_airlines = spark.read \\\n",
    "                .option(\"header\", \"true\") \\\n",
    "                .schema(airlines_schema) \\\n",
    "                .csv(\"/opt/spark/work-dir/data/airline/\")\n",
    "\n",
    "df_airlines.show(n=10)"
   ]
  },
  {
   "cell_type": "markdown",
   "id": "c05a2b5a",
   "metadata": {},
   "source": [
    "# Data Cleaning, Columns Creations and Transformation\n",
    "\n",
    "- Drop unnecessary columns. Count how many null values dataset have before/after\n",
    "cleaning process."
   ]
  },
  {
   "cell_type": "code",
   "execution_count": 6,
   "id": "6dd7d09a",
   "metadata": {},
   "outputs": [
    {
     "name": "stdout",
     "output_type": "stream",
     "text": [
      "Number of records before cleaning: 300153\n"
     ]
    },
    {
     "name": "stderr",
     "output_type": "stream",
     "text": [
      "                                                                                \r"
     ]
    },
    {
     "name": "stdout",
     "output_type": "stream",
     "text": [
      "+-----+-------+------+-----------+--------------+-----+------------+----------------+-----+--------+---------+-----+\n",
      "|index|airline|flight|source_city|departure_time|stops|arrival_time|destination_city|class|duration|days_left|price|\n",
      "+-----+-------+------+-----------+--------------+-----+------------+----------------+-----+--------+---------+-----+\n",
      "|    0|      0|     0|          0|             0|    0|           0|               0|    0|       0|        0|    0|\n",
      "+-----+-------+------+-----------+--------------+-----+------------+----------------+-----+--------+---------+-----+\n",
      "\n"
     ]
    },
    {
     "name": "stderr",
     "output_type": "stream",
     "text": [
      "                                                                                \r"
     ]
    },
    {
     "name": "stdout",
     "output_type": "stream",
     "text": [
      "\n",
      "Number of records after cleaning with trim & dropna: 300153\n",
      "\n"
     ]
    },
    {
     "name": "stderr",
     "output_type": "stream",
     "text": [
      "[Stage 28:=============================>                            (1 + 1) / 2]\r"
     ]
    },
    {
     "name": "stdout",
     "output_type": "stream",
     "text": [
      "+-----+---------+-------+-----------+--------------+-----+------------+----------------+-------+--------+---------+-----+\n",
      "|index|  airline| flight|source_city|departure_time|stops|arrival_time|destination_city|  class|duration|days_left|price|\n",
      "+-----+---------+-------+-----------+--------------+-----+------------+----------------+-------+--------+---------+-----+\n",
      "|    1| SpiceJet|SG-8157|      Delhi| Early_Morning| zero|     Morning|          Mumbai|Economy|    2.33|        1| 5953|\n",
      "|    3|  Vistara| UK-995|      Delhi|       Morning| zero|   Afternoon|          Mumbai|Economy|    2.25|        1| 5955|\n",
      "|    5|  Vistara| UK-945|      Delhi|       Morning| zero|   Afternoon|          Mumbai|Economy|    2.33|        1| 5955|\n",
      "|    6|  Vistara| UK-927|      Delhi|       Morning| zero|     Morning|          Mumbai|Economy|    2.08|        1| 6060|\n",
      "|    9| GO_FIRST| G8-336|      Delhi|     Afternoon| zero|     Evening|          Mumbai|Economy|    2.25|        1| 5954|\n",
      "|   12|   Indigo|6E-5001|      Delhi| Early_Morning| zero|     Morning|          Mumbai|Economy|    2.17|        1| 5955|\n",
      "|   13|   Indigo|6E-6202|      Delhi|       Morning| zero|   Afternoon|          Mumbai|Economy|    2.17|        1| 5955|\n",
      "|   15|   Indigo|6E-6278|      Delhi|       Morning| zero|     Morning|          Mumbai|Economy|    2.33|        1| 5955|\n",
      "|   16|Air_India| AI-887|      Delhi| Early_Morning| zero|     Morning|          Mumbai|Economy|    2.08|        1| 5955|\n",
      "|   17|Air_India| AI-665|      Delhi| Early_Morning| zero|     Morning|          Mumbai|Economy|    2.17|        1| 5955|\n",
      "+-----+---------+-------+-----------+--------------+-----+------------+----------------+-------+--------+---------+-----+\n",
      "only showing top 10 rows\n"
     ]
    },
    {
     "name": "stderr",
     "output_type": "stream",
     "text": [
      "                                                                                \r"
     ]
    }
   ],
   "source": [
    "from pyspark.sql.functions import trim, col, count, isnull, when\n",
    "\n",
    "# Get number of null values for each column before cleaning \n",
    "print(f\"Number of records before cleaning: {df_airlines.count()}\")\n",
    "df_airlines.select([count(when(isnull(c[0]) | col(c[0]).isNull(), c[0])).alias(c[0]) for c in airlines_schema_columns]).show()\n",
    "\n",
    "# Perform data cleaning with trim (column by column)\n",
    "airlines_clean = df_airlines \\\n",
    "        .dropDuplicates([\"index\"]) \\\n",
    "        .withColumn(\"airline\", trim(\"airline\")) \\\n",
    "        .withColumn(\"source_city\", trim(\"source_city\")) \\\n",
    "        .withColumn(\"destination_city\", trim(\"destination_city\")) \\\n",
    "        .filter(col(\"price\").isNotNull())\n",
    "\n",
    "# Perform data cleaning with dropna (make sure that it erases null values)\n",
    "airlines_clean = airlines_clean.dropna()\n",
    "\n",
    "print(f\"\\nNumber of records after cleaning with trim & dropna: {airlines_clean.count()}\\n\")\n",
    "\n",
    "airlines_clean.show(n=10)"
   ]
  },
  {
   "cell_type": "markdown",
   "id": "19d66c1c",
   "metadata": {},
   "source": [
    "- Normalize categorical values: map ”zero” → 0, ”one” → 1, etc. in stops."
   ]
  },
  {
   "cell_type": "code",
   "execution_count": 7,
   "id": "42d172c8",
   "metadata": {},
   "outputs": [
    {
     "name": "stderr",
     "output_type": "stream",
     "text": [
      "                                                                                \r"
     ]
    },
    {
     "name": "stdout",
     "output_type": "stream",
     "text": [
      "+-----+---------+-------+-----------+--------------+-----+------------+----------------+-------+--------+---------+-----+\n",
      "|index|  airline| flight|source_city|departure_time|stops|arrival_time|destination_city|  class|duration|days_left|price|\n",
      "+-----+---------+-------+-----------+--------------+-----+------------+----------------+-------+--------+---------+-----+\n",
      "|    1| SpiceJet|SG-8157|      Delhi| Early_Morning|    0|     Morning|          Mumbai|Economy|    2.33|        1| 5953|\n",
      "|    3|  Vistara| UK-995|      Delhi|       Morning|    0|   Afternoon|          Mumbai|Economy|    2.25|        1| 5955|\n",
      "|    5|  Vistara| UK-945|      Delhi|       Morning|    0|   Afternoon|          Mumbai|Economy|    2.33|        1| 5955|\n",
      "|    6|  Vistara| UK-927|      Delhi|       Morning|    0|     Morning|          Mumbai|Economy|    2.08|        1| 6060|\n",
      "|    9| GO_FIRST| G8-336|      Delhi|     Afternoon|    0|     Evening|          Mumbai|Economy|    2.25|        1| 5954|\n",
      "|   12|   Indigo|6E-5001|      Delhi| Early_Morning|    0|     Morning|          Mumbai|Economy|    2.17|        1| 5955|\n",
      "|   13|   Indigo|6E-6202|      Delhi|       Morning|    0|   Afternoon|          Mumbai|Economy|    2.17|        1| 5955|\n",
      "|   15|   Indigo|6E-6278|      Delhi|       Morning|    0|     Morning|          Mumbai|Economy|    2.33|        1| 5955|\n",
      "|   16|Air_India| AI-887|      Delhi| Early_Morning|    0|     Morning|          Mumbai|Economy|    2.08|        1| 5955|\n",
      "|   17|Air_India| AI-665|      Delhi| Early_Morning|    0|     Morning|          Mumbai|Economy|    2.17|        1| 5955|\n",
      "|   19|  AirAsia| I5-747|      Delhi|       Evening|    1|     Morning|          Mumbai|Economy|   16.33|        1| 5949|\n",
      "|   20| GO_FIRST| G8-266|      Delhi| Early_Morning|    1|     Evening|          Mumbai|Economy|   11.75|        1| 5954|\n",
      "|   22| GO_FIRST| G8-103|      Delhi|       Evening|    1|     Morning|          Mumbai|Economy|   15.67|        1| 5954|\n",
      "|   26|   Indigo|6E-2046|      Delhi|       Evening|    0|     Evening|          Mumbai|Economy|    2.17|        1| 6585|\n",
      "|   27|  AirAsia| I5-744|      Delhi|       Morning|    1|   Afternoon|          Mumbai|Economy|    5.83|        1| 8869|\n",
      "|   28| SpiceJet|SG-8169|      Delhi|       Evening|    0|       Night|          Mumbai|Economy|    2.33|        1|10260|\n",
      "|   31|   Indigo|6E-2373|      Delhi|     Afternoon|    1|     Evening|          Mumbai|Economy|     6.0|        1|10838|\n",
      "|   34|  Vistara| UK-819|      Delhi|     Afternoon|    1|     Morning|          Mumbai|Economy|    18.0|        1|12150|\n",
      "|   35|  Vistara| UK-801|      Delhi|       Morning|    1|     Morning|          Mumbai|Economy|   23.17|        1|12150|\n",
      "|   37|Air_India| AI-453|      Delhi| Early_Morning|    1|   Afternoon|          Mumbai|Economy|    8.83|        1|11900|\n",
      "+-----+---------+-------+-----------+--------------+-----+------------+----------------+-------+--------+---------+-----+\n",
      "only showing top 20 rows\n"
     ]
    },
    {
     "name": "stderr",
     "output_type": "stream",
     "text": [
      "[Stage 36:=============================>                            (1 + 1) / 2]\r"
     ]
    },
    {
     "name": "stdout",
     "output_type": "stream",
     "text": [
      "+-----+\n",
      "|stops|\n",
      "+-----+\n",
      "|    1|\n",
      "|    2|\n",
      "|    0|\n",
      "+-----+\n",
      "\n"
     ]
    },
    {
     "name": "stderr",
     "output_type": "stream",
     "text": [
      "                                                                                \r"
     ]
    }
   ],
   "source": [
    "from pyspark.sql.functions import when, lit\n",
    "\n",
    "airlines_clean = airlines_clean.withColumn(\n",
    "    \"stops\",\n",
    "    when(col(\"stops\") == \"zero\", lit(0))\n",
    "    .when(col(\"stops\") == \"one\", lit(1))\n",
    "    .otherwise(lit(2))\n",
    ")\n",
    "\n",
    "airlines_clean.show(n=20)\n",
    "\n",
    "airlines_clean.select(\"stops\").distinct().show()\n"
   ]
  },
  {
   "cell_type": "markdown",
   "id": "b63eaf3e",
   "metadata": {},
   "source": [
    "- Create a new column called route: ”Delhi → Mumbai” from source city and\n",
    "destination city."
   ]
  },
  {
   "cell_type": "code",
   "execution_count": 8,
   "id": "5536d322",
   "metadata": {},
   "outputs": [
    {
     "name": "stderr",
     "output_type": "stream",
     "text": [
      "                                                                                \r"
     ]
    },
    {
     "name": "stdout",
     "output_type": "stream",
     "text": [
      "+-----+---------+-------+-----------+--------------+-----+------------+----------------+-------+--------+---------+-----+---------------+\n",
      "|index|  airline| flight|source_city|departure_time|stops|arrival_time|destination_city|  class|duration|days_left|price|          route|\n",
      "+-----+---------+-------+-----------+--------------+-----+------------+----------------+-------+--------+---------+-----+---------------+\n",
      "|    1| SpiceJet|SG-8157|      Delhi| Early_Morning|    0|     Morning|          Mumbai|Economy|    2.33|        1| 5953|Delhi -> Mumbai|\n",
      "|    3|  Vistara| UK-995|      Delhi|       Morning|    0|   Afternoon|          Mumbai|Economy|    2.25|        1| 5955|Delhi -> Mumbai|\n",
      "|    5|  Vistara| UK-945|      Delhi|       Morning|    0|   Afternoon|          Mumbai|Economy|    2.33|        1| 5955|Delhi -> Mumbai|\n",
      "|    6|  Vistara| UK-927|      Delhi|       Morning|    0|     Morning|          Mumbai|Economy|    2.08|        1| 6060|Delhi -> Mumbai|\n",
      "|    9| GO_FIRST| G8-336|      Delhi|     Afternoon|    0|     Evening|          Mumbai|Economy|    2.25|        1| 5954|Delhi -> Mumbai|\n",
      "|   12|   Indigo|6E-5001|      Delhi| Early_Morning|    0|     Morning|          Mumbai|Economy|    2.17|        1| 5955|Delhi -> Mumbai|\n",
      "|   13|   Indigo|6E-6202|      Delhi|       Morning|    0|   Afternoon|          Mumbai|Economy|    2.17|        1| 5955|Delhi -> Mumbai|\n",
      "|   15|   Indigo|6E-6278|      Delhi|       Morning|    0|     Morning|          Mumbai|Economy|    2.33|        1| 5955|Delhi -> Mumbai|\n",
      "|   16|Air_India| AI-887|      Delhi| Early_Morning|    0|     Morning|          Mumbai|Economy|    2.08|        1| 5955|Delhi -> Mumbai|\n",
      "|   17|Air_India| AI-665|      Delhi| Early_Morning|    0|     Morning|          Mumbai|Economy|    2.17|        1| 5955|Delhi -> Mumbai|\n",
      "+-----+---------+-------+-----------+--------------+-----+------------+----------------+-------+--------+---------+-----+---------------+\n",
      "only showing top 10 rows\n"
     ]
    },
    {
     "name": "stderr",
     "output_type": "stream",
     "text": [
      "[Stage 45:=============================>                            (1 + 1) / 2]\r"
     ]
    },
    {
     "name": "stdout",
     "output_type": "stream",
     "text": [
      "+--------------------+\n",
      "|               route|\n",
      "+--------------------+\n",
      "|    Delhi -> Chennai|\n",
      "|  Hyderabad -> Delhi|\n",
      "|    Chennai -> Delhi|\n",
      "|   Mumbai -> Chennai|\n",
      "|Hyderabad -> Kolkata|\n",
      "| Hyderabad -> Mumbai|\n",
      "| Mumbai -> Bangalore|\n",
      "|    Delhi -> Kolkata|\n",
      "|   Mumbai -> Kolkata|\n",
      "|Bangalore -> Kolkata|\n",
      "+--------------------+\n",
      "only showing top 10 rows\n"
     ]
    },
    {
     "name": "stderr",
     "output_type": "stream",
     "text": [
      "                                                                                \r"
     ]
    }
   ],
   "source": [
    "from pyspark.sql.functions import concat_ws\n",
    "\n",
    "airlines_clean =  airlines_clean.withColumn(\n",
    "    \"route\",\n",
    "    concat_ws(\" -> \", col(\"source_city\"), col(\"destination_city\"))\n",
    ")\n",
    "\n",
    "airlines_clean.show(n=10)\n",
    "\n",
    "airlines_clean.select(\"route\").distinct().show(n=10)"
   ]
  },
  {
   "cell_type": "markdown",
   "id": "8d7066a7",
   "metadata": {},
   "source": [
    "- Transform departure time and arrival time to numerical category (Morning,\n",
    "Afternoon, etc.), then encode as numbers (0=Early Morning, 1=Morning, etc.)"
   ]
  },
  {
   "cell_type": "code",
   "execution_count": 9,
   "id": "ff127f28",
   "metadata": {},
   "outputs": [
    {
     "name": "stderr",
     "output_type": "stream",
     "text": [
      "                                                                                \r"
     ]
    },
    {
     "name": "stdout",
     "output_type": "stream",
     "text": [
      "+-----+---------+-------+-----------+--------------+-----+------------+----------------+-------+--------+---------+-----+---------------+\n",
      "|index|  airline| flight|source_city|departure_time|stops|arrival_time|destination_city|  class|duration|days_left|price|          route|\n",
      "+-----+---------+-------+-----------+--------------+-----+------------+----------------+-------+--------+---------+-----+---------------+\n",
      "|    1| SpiceJet|SG-8157|      Delhi|             0|    0|           1|          Mumbai|Economy|    2.33|        1| 5953|Delhi -> Mumbai|\n",
      "|    3|  Vistara| UK-995|      Delhi|             1|    0|           2|          Mumbai|Economy|    2.25|        1| 5955|Delhi -> Mumbai|\n",
      "|    5|  Vistara| UK-945|      Delhi|             1|    0|           2|          Mumbai|Economy|    2.33|        1| 5955|Delhi -> Mumbai|\n",
      "|    6|  Vistara| UK-927|      Delhi|             1|    0|           1|          Mumbai|Economy|    2.08|        1| 6060|Delhi -> Mumbai|\n",
      "|    9| GO_FIRST| G8-336|      Delhi|             2|    0|           3|          Mumbai|Economy|    2.25|        1| 5954|Delhi -> Mumbai|\n",
      "|   12|   Indigo|6E-5001|      Delhi|             0|    0|           1|          Mumbai|Economy|    2.17|        1| 5955|Delhi -> Mumbai|\n",
      "|   13|   Indigo|6E-6202|      Delhi|             1|    0|           2|          Mumbai|Economy|    2.17|        1| 5955|Delhi -> Mumbai|\n",
      "|   15|   Indigo|6E-6278|      Delhi|             1|    0|           1|          Mumbai|Economy|    2.33|        1| 5955|Delhi -> Mumbai|\n",
      "|   16|Air_India| AI-887|      Delhi|             0|    0|           1|          Mumbai|Economy|    2.08|        1| 5955|Delhi -> Mumbai|\n",
      "|   17|Air_India| AI-665|      Delhi|             0|    0|           1|          Mumbai|Economy|    2.17|        1| 5955|Delhi -> Mumbai|\n",
      "+-----+---------+-------+-----------+--------------+-----+------------+----------------+-------+--------+---------+-----+---------------+\n",
      "only showing top 10 rows\n"
     ]
    },
    {
     "name": "stderr",
     "output_type": "stream",
     "text": [
      "                                                                                \r"
     ]
    },
    {
     "name": "stdout",
     "output_type": "stream",
     "text": [
      "+--------------+\n",
      "|departure_time|\n",
      "+--------------+\n",
      "|             1|\n",
      "|             3|\n",
      "|             5|\n",
      "|             4|\n",
      "|             2|\n",
      "|             0|\n",
      "+--------------+\n",
      "\n"
     ]
    },
    {
     "name": "stderr",
     "output_type": "stream",
     "text": [
      "[Stage 60:=============================>                            (1 + 1) / 2]\r"
     ]
    },
    {
     "name": "stdout",
     "output_type": "stream",
     "text": [
      "+------------+\n",
      "|arrival_time|\n",
      "+------------+\n",
      "|           1|\n",
      "|           3|\n",
      "|           5|\n",
      "|           4|\n",
      "|           2|\n",
      "|           0|\n",
      "+------------+\n",
      "\n"
     ]
    },
    {
     "name": "stderr",
     "output_type": "stream",
     "text": [
      "                                                                                \r"
     ]
    }
   ],
   "source": [
    "airlines_clean = airlines_clean.withColumn(\n",
    "    \"departure_time\",\n",
    "    when(col(\"departure_time\") == \"Early_Morning\", 0)\n",
    "    .when(col(\"departure_time\") == \"Morning\", 1)\n",
    "    .when(col(\"departure_time\") == \"Afternoon\", 2)\n",
    "    .when(col(\"departure_time\") == \"Evening\", 3)\n",
    "    .when(col(\"departure_time\") == \"Night\", 4)\n",
    "    .when(col(\"departure_time\") == \"Late_Night\", 5)\n",
    ").withColumn(\n",
    "    \"arrival_time\",\n",
    "    when(col(\"arrival_time\") == \"Early_Morning\", 0)\n",
    "    .when(col(\"arrival_time\") == \"Morning\", 1)\n",
    "    .when(col(\"arrival_time\") == \"Afternoon\", 2)\n",
    "    .when(col(\"arrival_time\") == \"Evening\", 3)\n",
    "    .when(col(\"arrival_time\") == \"Night\", 4)\n",
    "    .when(col(\"arrival_time\") == \"Late_Night\", 5)\n",
    ")\n",
    "\n",
    "airlines_clean.show(n=10)\n",
    "\n",
    "airlines_clean.select(\"departure_time\").distinct().show()\n",
    "airlines_clean.select(\"arrival_time\").distinct().show()"
   ]
  },
  {
   "cell_type": "markdown",
   "id": "ad6a4cb8",
   "metadata": {},
   "source": [
    "- Add a new column is expensive: when(price > 6000, True).otherwise(False)."
   ]
  },
  {
   "cell_type": "code",
   "execution_count": 10,
   "id": "cff24594",
   "metadata": {},
   "outputs": [
    {
     "name": "stderr",
     "output_type": "stream",
     "text": [
      "[Stage 64:=============================>                            (1 + 1) / 2]\r"
     ]
    },
    {
     "name": "stdout",
     "output_type": "stream",
     "text": [
      "+-----+---------+-------+-----------+--------------+-----+------------+----------------+-------+--------+---------+-----+---------------+------------+\n",
      "|index|  airline| flight|source_city|departure_time|stops|arrival_time|destination_city|  class|duration|days_left|price|          route|is_expensive|\n",
      "+-----+---------+-------+-----------+--------------+-----+------------+----------------+-------+--------+---------+-----+---------------+------------+\n",
      "|    1| SpiceJet|SG-8157|      Delhi|             0|    0|           1|          Mumbai|Economy|    2.33|        1| 5953|Delhi -> Mumbai|       false|\n",
      "|    3|  Vistara| UK-995|      Delhi|             1|    0|           2|          Mumbai|Economy|    2.25|        1| 5955|Delhi -> Mumbai|       false|\n",
      "|    5|  Vistara| UK-945|      Delhi|             1|    0|           2|          Mumbai|Economy|    2.33|        1| 5955|Delhi -> Mumbai|       false|\n",
      "|    6|  Vistara| UK-927|      Delhi|             1|    0|           1|          Mumbai|Economy|    2.08|        1| 6060|Delhi -> Mumbai|        true|\n",
      "|    9| GO_FIRST| G8-336|      Delhi|             2|    0|           3|          Mumbai|Economy|    2.25|        1| 5954|Delhi -> Mumbai|       false|\n",
      "|   12|   Indigo|6E-5001|      Delhi|             0|    0|           1|          Mumbai|Economy|    2.17|        1| 5955|Delhi -> Mumbai|       false|\n",
      "|   13|   Indigo|6E-6202|      Delhi|             1|    0|           2|          Mumbai|Economy|    2.17|        1| 5955|Delhi -> Mumbai|       false|\n",
      "|   15|   Indigo|6E-6278|      Delhi|             1|    0|           1|          Mumbai|Economy|    2.33|        1| 5955|Delhi -> Mumbai|       false|\n",
      "|   16|Air_India| AI-887|      Delhi|             0|    0|           1|          Mumbai|Economy|    2.08|        1| 5955|Delhi -> Mumbai|       false|\n",
      "|   17|Air_India| AI-665|      Delhi|             0|    0|           1|          Mumbai|Economy|    2.17|        1| 5955|Delhi -> Mumbai|       false|\n",
      "|   19|  AirAsia| I5-747|      Delhi|             3|    1|           1|          Mumbai|Economy|   16.33|        1| 5949|Delhi -> Mumbai|       false|\n",
      "|   20| GO_FIRST| G8-266|      Delhi|             0|    1|           3|          Mumbai|Economy|   11.75|        1| 5954|Delhi -> Mumbai|       false|\n",
      "|   22| GO_FIRST| G8-103|      Delhi|             3|    1|           1|          Mumbai|Economy|   15.67|        1| 5954|Delhi -> Mumbai|       false|\n",
      "|   26|   Indigo|6E-2046|      Delhi|             3|    0|           3|          Mumbai|Economy|    2.17|        1| 6585|Delhi -> Mumbai|        true|\n",
      "|   27|  AirAsia| I5-744|      Delhi|             1|    1|           2|          Mumbai|Economy|    5.83|        1| 8869|Delhi -> Mumbai|        true|\n",
      "|   28| SpiceJet|SG-8169|      Delhi|             3|    0|           4|          Mumbai|Economy|    2.33|        1|10260|Delhi -> Mumbai|        true|\n",
      "|   31|   Indigo|6E-2373|      Delhi|             2|    1|           3|          Mumbai|Economy|     6.0|        1|10838|Delhi -> Mumbai|        true|\n",
      "|   34|  Vistara| UK-819|      Delhi|             2|    1|           1|          Mumbai|Economy|    18.0|        1|12150|Delhi -> Mumbai|        true|\n",
      "|   35|  Vistara| UK-801|      Delhi|             1|    1|           1|          Mumbai|Economy|   23.17|        1|12150|Delhi -> Mumbai|        true|\n",
      "|   37|Air_India| AI-453|      Delhi|             0|    1|           2|          Mumbai|Economy|    8.83|        1|11900|Delhi -> Mumbai|        true|\n",
      "+-----+---------+-------+-----------+--------------+-----+------------+----------------+-------+--------+---------+-----+---------------+------------+\n",
      "only showing top 20 rows\n"
     ]
    },
    {
     "name": "stderr",
     "output_type": "stream",
     "text": [
      "                                                                                \r"
     ]
    }
   ],
   "source": [
    "airlines_clean = airlines_clean.withColumn(\n",
    "    \"is_expensive\",\n",
    "    when(col(\"price\") > 6000, lit(True)).otherwise(lit(False))\n",
    ")\n",
    "\n",
    "airlines_clean.show()"
   ]
  },
  {
   "cell_type": "markdown",
   "id": "d823f75a",
   "metadata": {},
   "source": [
    "# Aggregations\n",
    "\n",
    "- Get the average price per airline"
   ]
  },
  {
   "cell_type": "code",
   "execution_count": 15,
   "id": "7358b6b8",
   "metadata": {},
   "outputs": [
    {
     "name": "stderr",
     "output_type": "stream",
     "text": [
      "[Stage 79:=============================>                            (1 + 1) / 2]\r"
     ]
    },
    {
     "name": "stdout",
     "output_type": "stream",
     "text": [
      "+---------+------------------+\n",
      "|  airline|     Average Price|\n",
      "+---------+------------------+\n",
      "|   Indigo| 5324.216303339517|\n",
      "| SpiceJet| 6179.278881367218|\n",
      "|Air_India| 23507.01911190229|\n",
      "|  AirAsia|4091.0727419555224|\n",
      "| GO_FIRST| 5652.007595045959|\n",
      "|  Vistara| 30396.53630170735|\n",
      "+---------+------------------+\n",
      "\n"
     ]
    },
    {
     "name": "stderr",
     "output_type": "stream",
     "text": [
      "                                                                                \r"
     ]
    }
   ],
   "source": [
    "from pyspark.sql.functions import col, avg\n",
    "\n",
    "airlines_clean.groupBy(col('airline')).agg(avg(col('price')).alias(\"Average Price\")).show()"
   ]
  },
  {
   "cell_type": "markdown",
   "id": "344b0713",
   "metadata": {},
   "source": [
    "- Average duration per route"
   ]
  },
  {
   "cell_type": "code",
   "execution_count": 18,
   "id": "55133344",
   "metadata": {},
   "outputs": [
    {
     "name": "stderr",
     "output_type": "stream",
     "text": [
      "[Stage 90:=============================>                            (1 + 1) / 2]\r"
     ]
    },
    {
     "name": "stdout",
     "output_type": "stream",
     "text": [
      "+--------------------+------------------+\n",
      "|               route|  Average Duration|\n",
      "+--------------------+------------------+\n",
      "|    Delhi -> Chennai|12.433964745763944|\n",
      "|  Hyderabad -> Delhi|10.829816602522587|\n",
      "|    Chennai -> Delhi|  11.1493744312541|\n",
      "|   Mumbai -> Chennai|12.665900287564627|\n",
      "|Hyderabad -> Kolkata|13.535322410033165|\n",
      "| Hyderabad -> Mumbai|11.962923295795918|\n",
      "| Mumbai -> Bangalore|11.612022516178817|\n",
      "|    Delhi -> Kolkata| 12.73596614766045|\n",
      "|   Mumbai -> Kolkata|12.836848115489666|\n",
      "|Bangalore -> Kolkata|13.099143404859825|\n",
      "| Mumbai -> Hyderabad|13.263310412247066|\n",
      "|    Kolkata -> Delhi| 11.60498857561711|\n",
      "|Hyderabad -> Chennai|13.293238468912078|\n",
      "|  Chennai -> Kolkata|14.515774035955694|\n",
      "|     Delhi -> Mumbai|10.367774213738123|\n",
      "|   Kolkata -> Mumbai|12.991932481150478|\n",
      "|     Mumbai -> Delhi|  9.81805726844943|\n",
      "|Kolkata -> Hyderabad|13.853107514948396|\n",
      "|Chennai -> Bangalore|13.952593563812163|\n",
      "|   Chennai -> Mumbai|12.374656244132625|\n",
      "+--------------------+------------------+\n",
      "only showing top 20 rows\n"
     ]
    },
    {
     "name": "stderr",
     "output_type": "stream",
     "text": [
      "                                                                                \r"
     ]
    }
   ],
   "source": [
    "airlines_clean.groupBy(col('route')).agg(avg(col('duration')).alias(\"Average Duration\")).show()"
   ]
  },
  {
   "cell_type": "markdown",
   "id": "bd012728",
   "metadata": {},
   "source": [
    "- Minimum and maximum price per airline"
   ]
  },
  {
   "cell_type": "code",
   "execution_count": 19,
   "id": "4ff6b75d",
   "metadata": {},
   "outputs": [
    {
     "name": "stderr",
     "output_type": "stream",
     "text": [
      "[Stage 96:=============================>                            (1 + 1) / 2]\r"
     ]
    },
    {
     "name": "stdout",
     "output_type": "stream",
     "text": [
      "+---------+---------+---------+\n",
      "|  airline|Min Price|Max Price|\n",
      "+---------+---------+---------+\n",
      "|   Indigo|     1105|    31952|\n",
      "| SpiceJet|     1106|    34158|\n",
      "|Air_India|     1526|    90970|\n",
      "|  AirAsia|     1105|    31917|\n",
      "| GO_FIRST|     1105|    32803|\n",
      "|  Vistara|     1714|   123071|\n",
      "+---------+---------+---------+\n",
      "\n"
     ]
    },
    {
     "name": "stderr",
     "output_type": "stream",
     "text": [
      "                                                                                \r"
     ]
    }
   ],
   "source": [
    "from pyspark.sql.functions import min, max\n",
    "\n",
    "airlines_clean.groupBy(col('airline')).agg(\n",
    "    min('price').alias('Min Price'),\n",
    "    max('price').alias('Max Price')\n",
    ").show()"
   ]
  },
  {
   "cell_type": "markdown",
   "id": "572e7513",
   "metadata": {},
   "source": [
    "- Count flights by departure time category"
   ]
  },
  {
   "cell_type": "code",
   "execution_count": 22,
   "id": "830e020d",
   "metadata": {},
   "outputs": [
    {
     "name": "stderr",
     "output_type": "stream",
     "text": [
      "[Stage 108:============================>                            (1 + 1) / 2]\r"
     ]
    },
    {
     "name": "stdout",
     "output_type": "stream",
     "text": [
      "+--------------+-----+\n",
      "|departure_time|count|\n",
      "+--------------+-----+\n",
      "|             5| 1306|\n",
      "|             2|47794|\n",
      "|             4|48015|\n",
      "|             3|65102|\n",
      "|             0|66790|\n",
      "|             1|71146|\n",
      "+--------------+-----+\n",
      "\n"
     ]
    },
    {
     "name": "stderr",
     "output_type": "stream",
     "text": [
      "                                                                                \r"
     ]
    }
   ],
   "source": [
    "airlines_clean.groupBy(col('departure_time')).count().orderBy(col('count')).show()"
   ]
  }
 ],
 "metadata": {
  "kernelspec": {
   "display_name": "Python 3 (ipykernel)",
   "language": "python",
   "name": "python3"
  },
  "language_info": {
   "codemirror_mode": {
    "name": "ipython",
    "version": 3
   },
   "file_extension": ".py",
   "mimetype": "text/x-python",
   "name": "python",
   "nbconvert_exporter": "python",
   "pygments_lexer": "ipython3",
   "version": "3.10.12"
  }
 },
 "nbformat": 4,
 "nbformat_minor": 5
}
