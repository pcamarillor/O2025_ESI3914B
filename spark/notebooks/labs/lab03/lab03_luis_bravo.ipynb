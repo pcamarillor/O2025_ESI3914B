{
 "cells": [
  {
   "cell_type": "markdown",
   "id": "b92d9622",
   "metadata": {},
   "source": [
    "# <center> <img src=\"../../img/ITESOLogo.png\" alt=\"ITESO\" width=\"480\" height=\"130\"> </center>\n",
    "# <center> **Departamento de Electrónica, Sistemas e Informática** </center>\n",
    "---\n",
    "## <center> Computer Systems Engineering  </center>\n",
    "---\n",
    "### <center> Big Data Processing </center>\n",
    "---\n",
    "#### <center> **Autumn 2025** </center>\n",
    "---\n",
    "\n",
    "**Lab 03**: Data Cleaning and Transformation Pipeline\n",
    "\n",
    "**Date**: September 19th 2025\n",
    "\n",
    "**Student Name**: Luis Adrian Bravo Ramirez\n",
    "\n",
    "**Professor**: Pablo Camarillo Ramirez"
   ]
  },
  {
   "cell_type": "markdown",
   "id": "05da2e5a",
   "metadata": {},
   "source": [
    "# Find the PySpark Installation & Create SparkSession"
   ]
  },
  {
   "cell_type": "code",
   "execution_count": 1,
   "id": "83ce46b4",
   "metadata": {},
   "outputs": [],
   "source": [
    "import findspark\n",
    "findspark.init()"
   ]
  },
  {
   "cell_type": "code",
   "execution_count": 2,
   "id": "dd1c5c02",
   "metadata": {},
   "outputs": [
    {
     "name": "stderr",
     "output_type": "stream",
     "text": [
      "WARNING: Using incubator modules: jdk.incubator.vector\n",
      "Using Spark's default log4j profile: org/apache/spark/log4j2-defaults.properties\n",
      "Setting default log level to \"WARN\".\n",
      "To adjust logging level use sc.setLogLevel(newLevel). For SparkR, use setLogLevel(newLevel).\n",
      "25/09/19 14:18:58 WARN NativeCodeLoader: Unable to load native-hadoop library for your platform... using builtin-java classes where applicable\n"
     ]
    }
   ],
   "source": [
    "from pyspark.sql import SparkSession\n",
    "\n",
    "spark = SparkSession.builder \\\n",
    "    .appName(\"Examples on data sources (Files)\") \\\n",
    "    .master(\"spark://4f3c6067fdf1:7077\") \\\n",
    "    .config(\"spark.ui.port\", \"4040\") \\\n",
    "    .getOrCreate()\n",
    "\n",
    "sc = spark.sparkContext\n",
    "sc.setLogLevel(\"ERROR\")"
   ]
  },
  {
   "cell_type": "markdown",
   "id": "dbd71b77",
   "metadata": {},
   "source": [
    "# Define the Schema & Load CSV"
   ]
  },
  {
   "cell_type": "code",
   "execution_count": 3,
   "id": "f6721e18",
   "metadata": {},
   "outputs": [
    {
     "data": {
      "text/plain": [
       "StructType([StructField('index', IntegerType(), True), StructField('airline', StringType(), True), StructField('flight', StringType(), True), StructField('source_city', StringType(), True), StructField('departure_time', StringType(), True), StructField('stops', StringType(), True), StructField('arrival_time', StringType(), True), StructField('destination_city', StringType(), True), StructField('class', StringType(), True), StructField('duration', FloatType(), True), StructField('days_left', IntegerType(), True), StructField('price', IntegerType(), True)])"
      ]
     },
     "execution_count": 3,
     "metadata": {},
     "output_type": "execute_result"
    }
   ],
   "source": [
    "from pcamarillor.spark_utils import SparkUtils\n",
    "airlines_schema_columns = [(\"index\", \"int\"), \n",
    "     (\"airline\", \"string\"), \n",
    "     (\"flight\", \"string\"),\n",
    "     (\"source_city\", \"string\"),\n",
    "     (\"departure_time\", \"string\"),\n",
    "     (\"stops\", \"string\"),\n",
    "     (\"arrival_time\", \"string\"),\n",
    "     (\"destination_city\", \"string\"),\n",
    "     (\"class\", \"string\"),\n",
    "     (\"duration\", \"float\"),\n",
    "     (\"days_left\", \"int\"),\n",
    "     (\"price\", \"int\")\n",
    "     ]\n",
    "airlines_schema = SparkUtils.generate_schema(airlines_schema_columns)\n",
    "airlines_schema"
   ]
  },
  {
   "cell_type": "code",
   "execution_count": 18,
   "id": "7ce5989e",
   "metadata": {},
   "outputs": [
    {
     "name": "stdout",
     "output_type": "stream",
     "text": [
      "+-----+--------+-------+-----------+--------------+-----+-------------+----------------+-------+--------+---------+-----+\n",
      "|index| airline| flight|source_city|departure_time|stops| arrival_time|destination_city|  class|duration|days_left|price|\n",
      "+-----+--------+-------+-----------+--------------+-----+-------------+----------------+-------+--------+---------+-----+\n",
      "|    0|SpiceJet|SG-8709|      Delhi|       Evening| zero|        Night|          Mumbai|Economy|    2.17|        1| 5953|\n",
      "|    1|SpiceJet|SG-8157|      Delhi| Early_Morning| zero|      Morning|          Mumbai|Economy|    2.33|        1| 5953|\n",
      "|    2| AirAsia| I5-764|      Delhi| Early_Morning| zero|Early_Morning|          Mumbai|Economy|    2.17|        1| 5956|\n",
      "|    3| Vistara| UK-995|      Delhi|       Morning| zero|    Afternoon|          Mumbai|Economy|    2.25|        1| 5955|\n",
      "|    4| Vistara| UK-963|      Delhi|       Morning| zero|      Morning|          Mumbai|Economy|    2.33|        1| 5955|\n",
      "|    5| Vistara| UK-945|      Delhi|       Morning| zero|    Afternoon|          Mumbai|Economy|    2.33|        1| 5955|\n",
      "|    6| Vistara| UK-927|      Delhi|       Morning| zero|      Morning|          Mumbai|Economy|    2.08|        1| 6060|\n",
      "|    7| Vistara| UK-951|      Delhi|     Afternoon| zero|      Evening|          Mumbai|Economy|    2.17|        1| 6060|\n",
      "|    8|GO_FIRST| G8-334|      Delhi| Early_Morning| zero|      Morning|          Mumbai|Economy|    2.17|        1| 5954|\n",
      "|    9|GO_FIRST| G8-336|      Delhi|     Afternoon| zero|      Evening|          Mumbai|Economy|    2.25|        1| 5954|\n",
      "+-----+--------+-------+-----------+--------------+-----+-------------+----------------+-------+--------+---------+-----+\n",
      "only showing top 10 rows\n"
     ]
    }
   ],
   "source": [
    "df_airlines = spark.read \\\n",
    "                .option(\"header\", \"true\") \\\n",
    "                .schema(airlines_schema) \\\n",
    "                .csv(\"/opt/spark/work-dir/data/airline/\")\n",
    "\n",
    "df_airlines.show(n=10)"
   ]
  },
  {
   "cell_type": "markdown",
   "id": "c05a2b5a",
   "metadata": {},
   "source": [
    "# Data Cleaning, Columns Creations and Transformation\n",
    "\n",
    "- Drop unnecessary columns. Count how many null values dataset have before/after\n",
    "cleaning process."
   ]
  },
  {
   "cell_type": "code",
   "execution_count": 19,
   "id": "6dd7d09a",
   "metadata": {},
   "outputs": [
    {
     "name": "stdout",
     "output_type": "stream",
     "text": [
      "Number of records before cleaning: 300153\n"
     ]
    },
    {
     "name": "stderr",
     "output_type": "stream",
     "text": [
      "                                                                                \r"
     ]
    },
    {
     "name": "stdout",
     "output_type": "stream",
     "text": [
      "+-----+-------+------+-----------+--------------+-----+------------+----------------+-----+--------+---------+-----+\n",
      "|index|airline|flight|source_city|departure_time|stops|arrival_time|destination_city|class|duration|days_left|price|\n",
      "+-----+-------+------+-----------+--------------+-----+------------+----------------+-----+--------+---------+-----+\n",
      "|    0|      0|     0|          0|             0|    0|           0|               0|    0|       0|        0|    0|\n",
      "+-----+-------+------+-----------+--------------+-----+------------+----------------+-----+--------+---------+-----+\n",
      "\n"
     ]
    },
    {
     "name": "stderr",
     "output_type": "stream",
     "text": [
      "                                                                                \r"
     ]
    },
    {
     "name": "stdout",
     "output_type": "stream",
     "text": [
      "\n",
      "Number of records after cleaning with trim & dropna: 300153\n",
      "\n"
     ]
    },
    {
     "name": "stderr",
     "output_type": "stream",
     "text": [
      "[Stage 93:=============================>                            (1 + 1) / 2]\r"
     ]
    },
    {
     "name": "stdout",
     "output_type": "stream",
     "text": [
      "+-----+---------+-------+-----------+--------------+-----+------------+----------------+-------+--------+---------+-----+\n",
      "|index|  airline| flight|source_city|departure_time|stops|arrival_time|destination_city|  class|duration|days_left|price|\n",
      "+-----+---------+-------+-----------+--------------+-----+------------+----------------+-------+--------+---------+-----+\n",
      "|    1| SpiceJet|SG-8157|      Delhi| Early_Morning| zero|     Morning|          Mumbai|Economy|    2.33|        1| 5953|\n",
      "|    3|  Vistara| UK-995|      Delhi|       Morning| zero|   Afternoon|          Mumbai|Economy|    2.25|        1| 5955|\n",
      "|    5|  Vistara| UK-945|      Delhi|       Morning| zero|   Afternoon|          Mumbai|Economy|    2.33|        1| 5955|\n",
      "|    6|  Vistara| UK-927|      Delhi|       Morning| zero|     Morning|          Mumbai|Economy|    2.08|        1| 6060|\n",
      "|    9| GO_FIRST| G8-336|      Delhi|     Afternoon| zero|     Evening|          Mumbai|Economy|    2.25|        1| 5954|\n",
      "|   12|   Indigo|6E-5001|      Delhi| Early_Morning| zero|     Morning|          Mumbai|Economy|    2.17|        1| 5955|\n",
      "|   13|   Indigo|6E-6202|      Delhi|       Morning| zero|   Afternoon|          Mumbai|Economy|    2.17|        1| 5955|\n",
      "|   15|   Indigo|6E-6278|      Delhi|       Morning| zero|     Morning|          Mumbai|Economy|    2.33|        1| 5955|\n",
      "|   16|Air_India| AI-887|      Delhi| Early_Morning| zero|     Morning|          Mumbai|Economy|    2.08|        1| 5955|\n",
      "|   17|Air_India| AI-665|      Delhi| Early_Morning| zero|     Morning|          Mumbai|Economy|    2.17|        1| 5955|\n",
      "+-----+---------+-------+-----------+--------------+-----+------------+----------------+-------+--------+---------+-----+\n",
      "only showing top 10 rows\n"
     ]
    },
    {
     "name": "stderr",
     "output_type": "stream",
     "text": [
      "                                                                                \r"
     ]
    }
   ],
   "source": [
    "from pyspark.sql.functions import trim, col, count, isnull, when\n",
    "\n",
    "# Get number of null values for each column before cleaning \n",
    "print(f\"Number of records before cleaning: {df_airlines.count()}\")\n",
    "df_airlines.select([count(when(isnull(c[0]) | col(c[0]).isNull(), c[0])).alias(c[0]) for c in airlines_schema_columns]).show()\n",
    "\n",
    "# Perform data cleaning with trim (column by column)\n",
    "airlines_clean = df_airlines \\\n",
    "        .dropDuplicates([\"index\"]) \\\n",
    "        .withColumn(\"airline\", trim(\"airline\")) \\\n",
    "        .withColumn(\"source_city\", trim(\"source_city\")) \\\n",
    "        .withColumn(\"destination_city\", trim(\"destination_city\")) \\\n",
    "        .filter(col(\"price\").isNotNull())\n",
    "\n",
    "# Perform data cleaning with dropna (make sure that it erases null values)\n",
    "airlines_clean = airlines_clean.dropna()\n",
    "\n",
    "print(f\"\\nNumber of records after cleaning with trim & dropna: {airlines_clean.count()}\\n\")\n",
    "\n",
    "airlines_clean.show(n=10)"
   ]
  },
  {
   "cell_type": "markdown",
   "id": "19d66c1c",
   "metadata": {},
   "source": [
    "- Normalize categorical values: map ”zero” → 0, ”one” → 1, etc. in stops."
   ]
  },
  {
   "cell_type": "code",
   "execution_count": 20,
   "id": "42d172c8",
   "metadata": {},
   "outputs": [
    {
     "name": "stderr",
     "output_type": "stream",
     "text": [
      "                                                                                \r"
     ]
    },
    {
     "name": "stdout",
     "output_type": "stream",
     "text": [
      "+-----+---------+-------+-----------+--------------+-----+------------+----------------+-------+--------+---------+-----+\n",
      "|index|  airline| flight|source_city|departure_time|stops|arrival_time|destination_city|  class|duration|days_left|price|\n",
      "+-----+---------+-------+-----------+--------------+-----+------------+----------------+-------+--------+---------+-----+\n",
      "|    1| SpiceJet|SG-8157|      Delhi| Early_Morning|    0|     Morning|          Mumbai|Economy|    2.33|        1| 5953|\n",
      "|    3|  Vistara| UK-995|      Delhi|       Morning|    0|   Afternoon|          Mumbai|Economy|    2.25|        1| 5955|\n",
      "|    5|  Vistara| UK-945|      Delhi|       Morning|    0|   Afternoon|          Mumbai|Economy|    2.33|        1| 5955|\n",
      "|    6|  Vistara| UK-927|      Delhi|       Morning|    0|     Morning|          Mumbai|Economy|    2.08|        1| 6060|\n",
      "|    9| GO_FIRST| G8-336|      Delhi|     Afternoon|    0|     Evening|          Mumbai|Economy|    2.25|        1| 5954|\n",
      "|   12|   Indigo|6E-5001|      Delhi| Early_Morning|    0|     Morning|          Mumbai|Economy|    2.17|        1| 5955|\n",
      "|   13|   Indigo|6E-6202|      Delhi|       Morning|    0|   Afternoon|          Mumbai|Economy|    2.17|        1| 5955|\n",
      "|   15|   Indigo|6E-6278|      Delhi|       Morning|    0|     Morning|          Mumbai|Economy|    2.33|        1| 5955|\n",
      "|   16|Air_India| AI-887|      Delhi| Early_Morning|    0|     Morning|          Mumbai|Economy|    2.08|        1| 5955|\n",
      "|   17|Air_India| AI-665|      Delhi| Early_Morning|    0|     Morning|          Mumbai|Economy|    2.17|        1| 5955|\n",
      "|   19|  AirAsia| I5-747|      Delhi|       Evening|    1|     Morning|          Mumbai|Economy|   16.33|        1| 5949|\n",
      "|   20| GO_FIRST| G8-266|      Delhi| Early_Morning|    1|     Evening|          Mumbai|Economy|   11.75|        1| 5954|\n",
      "|   22| GO_FIRST| G8-103|      Delhi|       Evening|    1|     Morning|          Mumbai|Economy|   15.67|        1| 5954|\n",
      "|   26|   Indigo|6E-2046|      Delhi|       Evening|    0|     Evening|          Mumbai|Economy|    2.17|        1| 6585|\n",
      "|   27|  AirAsia| I5-744|      Delhi|       Morning|    1|   Afternoon|          Mumbai|Economy|    5.83|        1| 8869|\n",
      "|   28| SpiceJet|SG-8169|      Delhi|       Evening|    0|       Night|          Mumbai|Economy|    2.33|        1|10260|\n",
      "|   31|   Indigo|6E-2373|      Delhi|     Afternoon|    1|     Evening|          Mumbai|Economy|     6.0|        1|10838|\n",
      "|   34|  Vistara| UK-819|      Delhi|     Afternoon|    1|     Morning|          Mumbai|Economy|    18.0|        1|12150|\n",
      "|   35|  Vistara| UK-801|      Delhi|       Morning|    1|     Morning|          Mumbai|Economy|   23.17|        1|12150|\n",
      "|   37|Air_India| AI-453|      Delhi| Early_Morning|    1|   Afternoon|          Mumbai|Economy|    8.83|        1|11900|\n",
      "+-----+---------+-------+-----------+--------------+-----+------------+----------------+-------+--------+---------+-----+\n",
      "only showing top 20 rows\n"
     ]
    },
    {
     "name": "stderr",
     "output_type": "stream",
     "text": [
      "[Stage 101:============================>                            (1 + 1) / 2]\r"
     ]
    },
    {
     "name": "stdout",
     "output_type": "stream",
     "text": [
      "+-----+\n",
      "|stops|\n",
      "+-----+\n",
      "|    1|\n",
      "|    3|\n",
      "|    0|\n",
      "+-----+\n",
      "\n"
     ]
    },
    {
     "name": "stderr",
     "output_type": "stream",
     "text": [
      "                                                                                \r"
     ]
    }
   ],
   "source": [
    "from pyspark.sql.functions import when, lit\n",
    "\n",
    "airlines_clean = airlines_clean.withColumn(\n",
    "    \"stops\",\n",
    "    when(col(\"stops\") == \"zero\", lit(0))\n",
    "    .when(col(\"stops\") == \"one\", lit(1))\n",
    "    .when(col(\"stops\") == \"two\", lit(2))\n",
    "    .otherwise(lit(3))\n",
    ")\n",
    "\n",
    "airlines_clean.show(n=20)\n",
    "\n",
    "airlines_clean.select(\"stops\").distinct().show()\n"
   ]
  },
  {
   "cell_type": "markdown",
   "id": "b63eaf3e",
   "metadata": {},
   "source": [
    "- Create a new column called route: ”Delhi → Mumbai” from source city and\n",
    "destination city."
   ]
  },
  {
   "cell_type": "code",
   "execution_count": null,
   "id": "5536d322",
   "metadata": {},
   "outputs": [],
   "source": []
  },
  {
   "cell_type": "markdown",
   "id": "8d7066a7",
   "metadata": {},
   "source": [
    "- Transform departure time and arrival time to numerical category (Morning,\n",
    "Afternoon, etc.), then encode as numbers (0=Early Morning, 1=Morning, etc.)"
   ]
  },
  {
   "cell_type": "code",
   "execution_count": null,
   "id": "ff127f28",
   "metadata": {},
   "outputs": [],
   "source": []
  },
  {
   "cell_type": "markdown",
   "id": "ad6a4cb8",
   "metadata": {},
   "source": [
    "- Add a new column is expensive: when(price > 6000, True).otherwise(False)."
   ]
  },
  {
   "cell_type": "code",
   "execution_count": null,
   "id": "cff24594",
   "metadata": {},
   "outputs": [],
   "source": []
  },
  {
   "cell_type": "markdown",
   "id": "d823f75a",
   "metadata": {},
   "source": [
    "# Aggregations\n",
    "\n",
    "- Get the average price per airline"
   ]
  },
  {
   "cell_type": "code",
   "execution_count": null,
   "id": "7358b6b8",
   "metadata": {},
   "outputs": [],
   "source": []
  },
  {
   "cell_type": "markdown",
   "id": "344b0713",
   "metadata": {},
   "source": [
    "- Average duration per route"
   ]
  },
  {
   "cell_type": "code",
   "execution_count": null,
   "id": "55133344",
   "metadata": {},
   "outputs": [],
   "source": []
  },
  {
   "cell_type": "markdown",
   "id": "bd012728",
   "metadata": {},
   "source": [
    "- Minimum and maximum price per airline"
   ]
  },
  {
   "cell_type": "code",
   "execution_count": null,
   "id": "4ff6b75d",
   "metadata": {},
   "outputs": [],
   "source": []
  },
  {
   "cell_type": "markdown",
   "id": "572e7513",
   "metadata": {},
   "source": [
    "- Count flights by departure time category"
   ]
  },
  {
   "cell_type": "code",
   "execution_count": null,
   "id": "830e020d",
   "metadata": {},
   "outputs": [],
   "source": []
  }
 ],
 "metadata": {
  "kernelspec": {
   "display_name": "Python 3 (ipykernel)",
   "language": "python",
   "name": "python3"
  },
  "language_info": {
   "codemirror_mode": {
    "name": "ipython",
    "version": 3
   },
   "file_extension": ".py",
   "mimetype": "text/x-python",
   "name": "python",
   "nbconvert_exporter": "python",
   "pygments_lexer": "ipython3",
   "version": "3.10.12"
  }
 },
 "nbformat": 4,
 "nbformat_minor": 5
}
