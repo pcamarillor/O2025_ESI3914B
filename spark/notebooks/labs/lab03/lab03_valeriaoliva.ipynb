{
 "cells": [
  {
   "cell_type": "markdown",
   "id": "b92d9622",
   "metadata": {},
   "source": [
    "# <center> <img src=\"../../img/ITESOLogo.png\" alt=\"ITESO\" width=\"480\" height=\"130\"> </center>\n",
    "# <center> **Departamento de Electrónica, Sistemas e Informática** </center>\n",
    "---\n",
    "## <center> Computer Systems Engineering  </center>\n",
    "---\n",
    "### <center> Big Data Processing </center>\n",
    "---\n",
    "#### <center> **Autumn 2025** </center>\n",
    "---\n",
    "\n",
    "**Lab 03**: Data Cleaning and Transformation Pipeline\n",
    "\n",
    "**Date**: September 19th 2025\n",
    "\n",
    "**Student Name**: Ana Valeria Oliva Hernández\n",
    "\n",
    "**Professor**: Pablo Camarillo Ramirez\n",
    "\n",
    "---"
   ]
  },
  {
   "cell_type": "markdown",
   "id": "c7948195-06e3-4f99-a296-3a77d88379c9",
   "metadata": {},
   "source": [
    "### **Description**\n",
    "\n",
    "Create a Data pipeline in a Jupyter Notebook to perform **transformations** of the Airlines dataset from Kaggle\n",
    "\n",
    "---"
   ]
  },
  {
   "cell_type": "markdown",
   "id": "1577da55-31e3-475a-926e-7b43413d0d50",
   "metadata": {},
   "source": [
    "### **- Find the PySpark Installation and Create SparkSession**"
   ]
  },
  {
   "cell_type": "code",
   "execution_count": 1,
   "id": "02744622-e8ad-4aee-b7ed-8bbf71e9c5d0",
   "metadata": {},
   "outputs": [
    {
     "name": "stderr",
     "output_type": "stream",
     "text": [
      "WARNING: Using incubator modules: jdk.incubator.vector\n",
      "Using Spark's default log4j profile: org/apache/spark/log4j2-defaults.properties\n",
      "Setting default log level to \"WARN\".\n",
      "To adjust logging level use sc.setLogLevel(newLevel). For SparkR, use setLogLevel(newLevel).\n",
      "25/09/19 18:11:04 WARN NativeCodeLoader: Unable to load native-hadoop library for your platform... using builtin-java classes where applicable\n"
     ]
    }
   ],
   "source": [
    "import findspark\n",
    "findspark.init()\n",
    "\n",
    "from pyspark.sql import SparkSession\n",
    "\n",
    "spark = SparkSession.builder \\\n",
    "    .appName(\"Examples on data sources (Files)\") \\\n",
    "    .master(\"spark://265c3f081fa3:7077\") \\\n",
    "    .config(\"spark.ui.port\", \"4040\") \\\n",
    "    .getOrCreate()\n",
    "\n",
    "sc = spark.sparkContext\n",
    "sc.setLogLevel(\"ERROR\")"
   ]
  },
  {
   "cell_type": "markdown",
   "id": "f8d7b685-d9e3-4ec0-9411-5ad6fa1a03c8",
   "metadata": {},
   "source": [
    "### **- Define the schema**"
   ]
  },
  {
   "cell_type": "code",
   "execution_count": 2,
   "id": "ff655f07-848c-4a46-8db0-d9e456d50781",
   "metadata": {},
   "outputs": [
    {
     "data": {
      "text/plain": [
       "StructType([StructField('index', IntegerType(), True), StructField('airline', StringType(), True), StructField('flight', StringType(), True), StructField('source_city', StringType(), True), StructField('departure_time', StringType(), True), StructField('stops', StringType(), True), StructField('arrival_time', StringType(), True), StructField('destination_city', StringType(), True), StructField('class', StringType(), True), StructField('duration', FloatType(), True), StructField('days_left', IntegerType(), True), StructField('price', IntegerType(), True)])"
      ]
     },
     "execution_count": 2,
     "metadata": {},
     "output_type": "execute_result"
    }
   ],
   "source": [
    "from valeriaoliva.spark_utils import SparkUtils\n",
    "airlines_schema_columns = [(\"index\", \"int\"), \n",
    "     (\"airline\", \"string\"), \n",
    "     (\"flight\", \"string\"),\n",
    "     (\"source_city\", \"string\"),\n",
    "     (\"departure_time\", \"string\"),\n",
    "     (\"stops\", \"string\"),\n",
    "     (\"arrival_time\", \"string\"),\n",
    "     (\"destination_city\", \"string\"),\n",
    "     (\"class\", \"string\"),\n",
    "     (\"duration\", \"float\"),\n",
    "     (\"days_left\", \"int\"),\n",
    "     (\"price\", \"int\")\n",
    "     ]\n",
    "airlines_schema = SparkUtils.generate_schema(airlines_schema_columns)\n",
    "airlines_schema"
   ]
  },
  {
   "cell_type": "markdown",
   "id": "5592d9f4-b349-4e87-ba60-4e241a57b1c8",
   "metadata": {},
   "source": [
    "### **- Load CSV**"
   ]
  },
  {
   "cell_type": "code",
   "execution_count": 3,
   "id": "7f8f6f41-62b8-4531-a8ae-87f8cb68c288",
   "metadata": {},
   "outputs": [
    {
     "name": "stderr",
     "output_type": "stream",
     "text": [
      "[Stage 0:>                                                          (0 + 1) / 1]"
     ]
    },
    {
     "name": "stdout",
     "output_type": "stream",
     "text": [
      "+-----+--------+-------+-----------+--------------+-----+-------------+----------------+-------+--------+---------+-----+\n",
      "|index| airline| flight|source_city|departure_time|stops| arrival_time|destination_city|  class|duration|days_left|price|\n",
      "+-----+--------+-------+-----------+--------------+-----+-------------+----------------+-------+--------+---------+-----+\n",
      "|    0|SpiceJet|SG-8709|      Delhi|       Evening| zero|        Night|          Mumbai|Economy|    2.17|        1| 5953|\n",
      "|    1|SpiceJet|SG-8157|      Delhi| Early_Morning| zero|      Morning|          Mumbai|Economy|    2.33|        1| 5953|\n",
      "|    2| AirAsia| I5-764|      Delhi| Early_Morning| zero|Early_Morning|          Mumbai|Economy|    2.17|        1| 5956|\n",
      "|    3| Vistara| UK-995|      Delhi|       Morning| zero|    Afternoon|          Mumbai|Economy|    2.25|        1| 5955|\n",
      "|    4| Vistara| UK-963|      Delhi|       Morning| zero|      Morning|          Mumbai|Economy|    2.33|        1| 5955|\n",
      "+-----+--------+-------+-----------+--------------+-----+-------------+----------------+-------+--------+---------+-----+\n",
      "only showing top 5 rows\n"
     ]
    },
    {
     "name": "stderr",
     "output_type": "stream",
     "text": [
      "                                                                                "
     ]
    }
   ],
   "source": [
    "df_airlines = spark.read \\\n",
    "                .option(\"header\", \"true\") \\\n",
    "                .schema(airlines_schema) \\\n",
    "                .csv(\"/opt/spark/work-dir/data/airline/\")\n",
    "\n",
    "df_airlines.show(n=5)"
   ]
  },
  {
   "cell_type": "markdown",
   "id": "e67d8a33-a4fc-4891-a041-75446c4cc4f6",
   "metadata": {},
   "source": [
    "### **- Import required pyspark functions**"
   ]
  },
  {
   "cell_type": "code",
   "execution_count": 4,
   "id": "8ec109da-8389-4723-922d-5560a1d87b48",
   "metadata": {},
   "outputs": [],
   "source": [
    "from pyspark.sql.functions import trim, col, count, isnull, when, concat_ws, lit"
   ]
  },
  {
   "cell_type": "markdown",
   "id": "044fc405-d5c4-4674-80c1-5b955f47db95",
   "metadata": {},
   "source": [
    "### **- Drop unnecessary columns and count how many null values dataset have before/after cleaning process**"
   ]
  },
  {
   "cell_type": "code",
   "execution_count": 5,
   "id": "ba1efee6-2749-490f-ba99-f3b0a4779d55",
   "metadata": {},
   "outputs": [
    {
     "name": "stderr",
     "output_type": "stream",
     "text": [
      "                                                                                "
     ]
    },
    {
     "name": "stdout",
     "output_type": "stream",
     "text": [
      "number of records before cleaning: 300153\n"
     ]
    },
    {
     "name": "stderr",
     "output_type": "stream",
     "text": [
      "                                                                                "
     ]
    },
    {
     "name": "stdout",
     "output_type": "stream",
     "text": [
      "+-----+-------+------+-----------+--------------+-----+------------+----------------+-----+--------+---------+-----+\n",
      "|index|airline|flight|source_city|departure_time|stops|arrival_time|destination_city|class|duration|days_left|price|\n",
      "+-----+-------+------+-----------+--------------+-----+------------+----------------+-----+--------+---------+-----+\n",
      "|    0|      0|     0|          0|             0|    0|           0|               0|    0|       0|        0|    0|\n",
      "+-----+-------+------+-----------+--------------+-----+------------+----------------+-----+--------+---------+-----+\n",
      "\n"
     ]
    },
    {
     "name": "stderr",
     "output_type": "stream",
     "text": [
      "                                                                                "
     ]
    },
    {
     "name": "stdout",
     "output_type": "stream",
     "text": [
      "number of records after cleaning with dropna: 300153\n"
     ]
    },
    {
     "name": "stderr",
     "output_type": "stream",
     "text": [
      "[Stage 10:=============================>                            (1 + 1) / 2]"
     ]
    },
    {
     "name": "stdout",
     "output_type": "stream",
     "text": [
      "+-----+-------+------+-----------+--------------+-----+------------+----------------+-----+--------+---------+-----+\n",
      "|index|airline|flight|source_city|departure_time|stops|arrival_time|destination_city|class|duration|days_left|price|\n",
      "+-----+-------+------+-----------+--------------+-----+------------+----------------+-----+--------+---------+-----+\n",
      "|    0|      0|     0|          0|             0|    0|           0|               0|    0|       0|        0|    0|\n",
      "+-----+-------+------+-----------+--------------+-----+------------+----------------+-----+--------+---------+-----+\n",
      "\n"
     ]
    },
    {
     "name": "stderr",
     "output_type": "stream",
     "text": [
      "                                                                                "
     ]
    }
   ],
   "source": [
    "print(f\"number of records before cleaning: {df_airlines.count()}\")\n",
    "# Get number of null values for each column before cleaning \n",
    "df_airlines.select([count(when(isnull(c[0]) | col(c[0]).isNull(), c[0])).alias(c[0]) for c in airlines_schema_columns]).show()\n",
    "\n",
    "# Perform data cleaning using dropna()\n",
    "airlines_clean = df_airlines.dropna()\n",
    "print(f\"number of records after cleaning with dropna: {airlines_clean.count()}\")\n",
    "airlines_clean.select([count(when(isnull(c[0]) | col(c[0]).isNull(), c[0])).alias(c[0]) for c in airlines_schema_columns]).show()\n",
    "\n",
    "#Rename dataframe\n",
    "df = airlines_clean"
   ]
  },
  {
   "cell_type": "markdown",
   "id": "70fc8206-e087-4ac2-a774-f1f0092763db",
   "metadata": {},
   "source": [
    "### **- Normalize categorical values: map ”zero”→0, ”one”→1, etc. in stops**"
   ]
  },
  {
   "cell_type": "code",
   "execution_count": 6,
   "id": "d1ee58e6-d543-46b5-a3eb-f6fcc32deed7",
   "metadata": {},
   "outputs": [
    {
     "name": "stdout",
     "output_type": "stream",
     "text": [
      "+-----+--------+-------+-----------+--------------+-----+-------------+----------------+-------+--------+---------+-----+-------------+\n",
      "|index| airline| flight|source_city|departure_time|stops| arrival_time|destination_city|  class|duration|days_left|price|stops_numeric|\n",
      "+-----+--------+-------+-----------+--------------+-----+-------------+----------------+-------+--------+---------+-----+-------------+\n",
      "|    0|SpiceJet|SG-8709|      Delhi|       Evening| zero|        Night|          Mumbai|Economy|    2.17|        1| 5953|            0|\n",
      "|    1|SpiceJet|SG-8157|      Delhi| Early_Morning| zero|      Morning|          Mumbai|Economy|    2.33|        1| 5953|            0|\n",
      "|    2| AirAsia| I5-764|      Delhi| Early_Morning| zero|Early_Morning|          Mumbai|Economy|    2.17|        1| 5956|            0|\n",
      "|    3| Vistara| UK-995|      Delhi|       Morning| zero|    Afternoon|          Mumbai|Economy|    2.25|        1| 5955|            0|\n",
      "|    4| Vistara| UK-963|      Delhi|       Morning| zero|      Morning|          Mumbai|Economy|    2.33|        1| 5955|            0|\n",
      "+-----+--------+-------+-----------+--------------+-----+-------------+----------------+-------+--------+---------+-----+-------------+\n",
      "only showing top 5 rows\n"
     ]
    }
   ],
   "source": [
    "airlines_t1 = df.withColumn(\"stops_numeric\",\n",
    "                                        when(df.stops == \"zero\", lit(0))\n",
    "                                        .when(df.stops == \"one\", lit(1))\n",
    "                                        .otherwise(lit(2)))\n",
    "airlines_t1.show(5)"
   ]
  },
  {
   "cell_type": "markdown",
   "id": "f265d4bf-def8-437f-beed-945527a5c0de",
   "metadata": {},
   "source": [
    "### **- Create a new column called route: ”Delhi→Mumbai” from source city and destination city**"
   ]
  },
  {
   "cell_type": "code",
   "execution_count": 7,
   "id": "6c8ef717-ea6a-4cb2-a345-303ee62d722f",
   "metadata": {},
   "outputs": [
    {
     "name": "stdout",
     "output_type": "stream",
     "text": [
      "+-----+--------+-------+-----------+--------------+-----+-------------+----------------+-------+--------+---------+-----+---------------+\n",
      "|index| airline| flight|source_city|departure_time|stops| arrival_time|destination_city|  class|duration|days_left|price|          route|\n",
      "+-----+--------+-------+-----------+--------------+-----+-------------+----------------+-------+--------+---------+-----+---------------+\n",
      "|    0|SpiceJet|SG-8709|      Delhi|       Evening| zero|        Night|          Mumbai|Economy|    2.17|        1| 5953|Delhi -> Mumbai|\n",
      "|    1|SpiceJet|SG-8157|      Delhi| Early_Morning| zero|      Morning|          Mumbai|Economy|    2.33|        1| 5953|Delhi -> Mumbai|\n",
      "|    2| AirAsia| I5-764|      Delhi| Early_Morning| zero|Early_Morning|          Mumbai|Economy|    2.17|        1| 5956|Delhi -> Mumbai|\n",
      "|    3| Vistara| UK-995|      Delhi|       Morning| zero|    Afternoon|          Mumbai|Economy|    2.25|        1| 5955|Delhi -> Mumbai|\n",
      "|    4| Vistara| UK-963|      Delhi|       Morning| zero|      Morning|          Mumbai|Economy|    2.33|        1| 5955|Delhi -> Mumbai|\n",
      "+-----+--------+-------+-----------+--------------+-----+-------------+----------------+-------+--------+---------+-----+---------------+\n",
      "only showing top 5 rows\n"
     ]
    }
   ],
   "source": [
    "airlines_t2 = df.withColumn(\"route\",\n",
    "                            concat_ws(\" -> \", \"source_city\", \"destination_city\"))\n",
    "airlines_t2.show(5)"
   ]
  },
  {
   "cell_type": "markdown",
   "id": "f4d3c093-e3d9-494b-8eac-738f4e627a46",
   "metadata": {},
   "source": [
    "### **- Transform departure time and arrival time to numerical category (Morning, Afternoon, etc.), then encode as numbers (0=Early Morning, 1=Morning, etc.)**"
   ]
  },
  {
   "cell_type": "code",
   "execution_count": 9,
   "id": "0c0b4e39-0dd0-4f86-9e7e-c4827d3277ec",
   "metadata": {},
   "outputs": [
    {
     "name": "stderr",
     "output_type": "stream",
     "text": [
      "[Stage 16:=============================>                            (1 + 1) / 2]"
     ]
    },
    {
     "name": "stdout",
     "output_type": "stream",
     "text": [
      "+-------------+\n",
      "| arrival_time|\n",
      "+-------------+\n",
      "|      Evening|\n",
      "|      Morning|\n",
      "|   Late_Night|\n",
      "|    Afternoon|\n",
      "|Early_Morning|\n",
      "|        Night|\n",
      "+-------------+\n",
      "\n"
     ]
    },
    {
     "name": "stderr",
     "output_type": "stream",
     "text": [
      "                                                                                "
     ]
    }
   ],
   "source": [
    "# Show distinct categories in arrival_time\n",
    "df.select(\"arrival_time\").distinct().show()"
   ]
  },
  {
   "cell_type": "code",
   "execution_count": 10,
   "id": "fd450675-80b6-477d-a5a8-058acf2ec1a1",
   "metadata": {},
   "outputs": [
    {
     "name": "stdout",
     "output_type": "stream",
     "text": [
      "+-----+--------+-------+-----------+--------------+-----+-------------+----------------+-------+--------+---------+-----+--------------------+\n",
      "|index| airline| flight|source_city|departure_time|stops| arrival_time|destination_city|  class|duration|days_left|price|arrival_time_numeric|\n",
      "+-----+--------+-------+-----------+--------------+-----+-------------+----------------+-------+--------+---------+-----+--------------------+\n",
      "|    0|SpiceJet|SG-8709|      Delhi|       Evening| zero|        Night|          Mumbai|Economy|    2.17|        1| 5953|                   4|\n",
      "|    1|SpiceJet|SG-8157|      Delhi| Early_Morning| zero|      Morning|          Mumbai|Economy|    2.33|        1| 5953|                   1|\n",
      "|    2| AirAsia| I5-764|      Delhi| Early_Morning| zero|Early_Morning|          Mumbai|Economy|    2.17|        1| 5956|                   0|\n",
      "|    3| Vistara| UK-995|      Delhi|       Morning| zero|    Afternoon|          Mumbai|Economy|    2.25|        1| 5955|                   2|\n",
      "|    4| Vistara| UK-963|      Delhi|       Morning| zero|      Morning|          Mumbai|Economy|    2.33|        1| 5955|                   1|\n",
      "|    5| Vistara| UK-945|      Delhi|       Morning| zero|    Afternoon|          Mumbai|Economy|    2.33|        1| 5955|                   2|\n",
      "|    6| Vistara| UK-927|      Delhi|       Morning| zero|      Morning|          Mumbai|Economy|    2.08|        1| 6060|                   1|\n",
      "|    7| Vistara| UK-951|      Delhi|     Afternoon| zero|      Evening|          Mumbai|Economy|    2.17|        1| 6060|                   3|\n",
      "+-----+--------+-------+-----------+--------------+-----+-------------+----------------+-------+--------+---------+-----+--------------------+\n",
      "only showing top 8 rows\n"
     ]
    }
   ],
   "source": [
    "airlines_t3 = df.withColumn(\"arrival_time_numeric\",\n",
    "                                        when(df.arrival_time == \"Early_Morning\", lit(0))\n",
    "                                        .when(df.arrival_time == \"Morning\", lit(1))\n",
    "                                        .when(df.arrival_time == \"Afternoon\", lit(2))\n",
    "                                        .when(df.arrival_time == \"Evening\", lit(3))\n",
    "                                        .when(df.arrival_time == \"Night\", lit(4))\n",
    "                                        .when(df.arrival_time == \"Late_Night\", lit(5))\n",
    "                                       )\n",
    "airlines_t3.show(8)"
   ]
  },
  {
   "cell_type": "code",
   "execution_count": 11,
   "id": "a5e2d292-7fb9-4e1c-803c-6bbb1c2dc25c",
   "metadata": {},
   "outputs": [
    {
     "name": "stderr",
     "output_type": "stream",
     "text": [
      "[Stage 20:=============================>                            (1 + 1) / 2]"
     ]
    },
    {
     "name": "stdout",
     "output_type": "stream",
     "text": [
      "+--------------+\n",
      "|departure_time|\n",
      "+--------------+\n",
      "|       Evening|\n",
      "|       Morning|\n",
      "|    Late_Night|\n",
      "|     Afternoon|\n",
      "| Early_Morning|\n",
      "|         Night|\n",
      "+--------------+\n",
      "\n"
     ]
    },
    {
     "name": "stderr",
     "output_type": "stream",
     "text": [
      "                                                                                "
     ]
    }
   ],
   "source": [
    "# Show distinct categories in departure_time\n",
    "df.select(\"departure_time\").distinct().show()"
   ]
  },
  {
   "cell_type": "code",
   "execution_count": 12,
   "id": "4635cb63-caa2-4577-ac5f-2e8aade7e066",
   "metadata": {},
   "outputs": [
    {
     "name": "stdout",
     "output_type": "stream",
     "text": [
      "+-----+--------+-------+-----------+--------------+-----+-------------+----------------+-------+--------+---------+-----+----------------------+\n",
      "|index| airline| flight|source_city|departure_time|stops| arrival_time|destination_city|  class|duration|days_left|price|departure_time_numeric|\n",
      "+-----+--------+-------+-----------+--------------+-----+-------------+----------------+-------+--------+---------+-----+----------------------+\n",
      "|    0|SpiceJet|SG-8709|      Delhi|       Evening| zero|        Night|          Mumbai|Economy|    2.17|        1| 5953|                     3|\n",
      "|    1|SpiceJet|SG-8157|      Delhi| Early_Morning| zero|      Morning|          Mumbai|Economy|    2.33|        1| 5953|                     0|\n",
      "|    2| AirAsia| I5-764|      Delhi| Early_Morning| zero|Early_Morning|          Mumbai|Economy|    2.17|        1| 5956|                     0|\n",
      "|    3| Vistara| UK-995|      Delhi|       Morning| zero|    Afternoon|          Mumbai|Economy|    2.25|        1| 5955|                     1|\n",
      "|    4| Vistara| UK-963|      Delhi|       Morning| zero|      Morning|          Mumbai|Economy|    2.33|        1| 5955|                     1|\n",
      "|    5| Vistara| UK-945|      Delhi|       Morning| zero|    Afternoon|          Mumbai|Economy|    2.33|        1| 5955|                     1|\n",
      "|    6| Vistara| UK-927|      Delhi|       Morning| zero|      Morning|          Mumbai|Economy|    2.08|        1| 6060|                     1|\n",
      "|    7| Vistara| UK-951|      Delhi|     Afternoon| zero|      Evening|          Mumbai|Economy|    2.17|        1| 6060|                     2|\n",
      "+-----+--------+-------+-----------+--------------+-----+-------------+----------------+-------+--------+---------+-----+----------------------+\n",
      "only showing top 8 rows\n"
     ]
    }
   ],
   "source": [
    "airlines_t4 = df.withColumn(\"departure_time_numeric\",\n",
    "                                        when(df.departure_time == \"Early_Morning\", lit(0))\n",
    "                                        .when(df.departure_time == \"Morning\", lit(1))\n",
    "                                        .when(df.departure_time == \"Afternoon\", lit(2))\n",
    "                                        .when(df.departure_time == \"Evening\", lit(3))\n",
    "                                        .when(df.departure_time == \"Night\", lit(4))\n",
    "                                        .when(df.departure_time == \"Late_Night\", lit(5))\n",
    "                                       )\n",
    "airlines_t4.show(8)"
   ]
  },
  {
   "cell_type": "markdown",
   "id": "a0713f4f-39cc-42e7-a5f9-17139f97f52d",
   "metadata": {},
   "source": [
    "### **- Add a new column is expensive: when(price > 6000, True).otherwise(False)**"
   ]
  },
  {
   "cell_type": "code",
   "execution_count": 13,
   "id": "dd4c3738-4797-43ff-a1fc-6a36dceba0d1",
   "metadata": {},
   "outputs": [
    {
     "name": "stdout",
     "output_type": "stream",
     "text": [
      "+-----+--------+-------+-----------+--------------+-----+-------------+----------------+-------+--------+---------+-----+------------+\n",
      "|index| airline| flight|source_city|departure_time|stops| arrival_time|destination_city|  class|duration|days_left|price|is_expensive|\n",
      "+-----+--------+-------+-----------+--------------+-----+-------------+----------------+-------+--------+---------+-----+------------+\n",
      "|    0|SpiceJet|SG-8709|      Delhi|       Evening| zero|        Night|          Mumbai|Economy|    2.17|        1| 5953|       false|\n",
      "|    1|SpiceJet|SG-8157|      Delhi| Early_Morning| zero|      Morning|          Mumbai|Economy|    2.33|        1| 5953|       false|\n",
      "|    2| AirAsia| I5-764|      Delhi| Early_Morning| zero|Early_Morning|          Mumbai|Economy|    2.17|        1| 5956|       false|\n",
      "|    3| Vistara| UK-995|      Delhi|       Morning| zero|    Afternoon|          Mumbai|Economy|    2.25|        1| 5955|       false|\n",
      "|    4| Vistara| UK-963|      Delhi|       Morning| zero|      Morning|          Mumbai|Economy|    2.33|        1| 5955|       false|\n",
      "|    5| Vistara| UK-945|      Delhi|       Morning| zero|    Afternoon|          Mumbai|Economy|    2.33|        1| 5955|       false|\n",
      "|    6| Vistara| UK-927|      Delhi|       Morning| zero|      Morning|          Mumbai|Economy|    2.08|        1| 6060|        true|\n",
      "|    7| Vistara| UK-951|      Delhi|     Afternoon| zero|      Evening|          Mumbai|Economy|    2.17|        1| 6060|        true|\n",
      "+-----+--------+-------+-----------+--------------+-----+-------------+----------------+-------+--------+---------+-----+------------+\n",
      "only showing top 8 rows\n"
     ]
    }
   ],
   "source": [
    "airlines_t5 = df.withColumn(\"is_expensive\",\n",
    "                   when(col(\"price\") > 6000, lit(True)).otherwise(lit(False))\n",
    "                  )\n",
    "airlines_t5.show(8)"
   ]
  },
  {
   "cell_type": "markdown",
   "id": "e0768a7b-b447-4d7c-b4bd-56535b89e1ad",
   "metadata": {},
   "source": [
    "### **In addition, the Notebook should contain also the result of the following *aggregations*:**"
   ]
  },
  {
   "cell_type": "markdown",
   "id": "7091a6fc-f1e0-4fb9-a012-3dd7f35ce5d1",
   "metadata": {},
   "source": [
    "### **- Import required pyspark functions**"
   ]
  },
  {
   "cell_type": "code",
   "execution_count": 14,
   "id": "a88927bf-8144-4e1c-a42a-cc5388d9fc94",
   "metadata": {},
   "outputs": [],
   "source": [
    "from pyspark.sql.functions import avg, round, min, max"
   ]
  },
  {
   "cell_type": "markdown",
   "id": "8043b50c-414c-4a37-be0d-f50158f7bf63",
   "metadata": {},
   "source": [
    "### **- Get the average price per airline**"
   ]
  },
  {
   "cell_type": "code",
   "execution_count": 15,
   "id": "96595833-3675-42e1-bb0f-b08e570cadfd",
   "metadata": {},
   "outputs": [
    {
     "name": "stderr",
     "output_type": "stream",
     "text": [
      "[Stage 25:=============================>                            (1 + 1) / 2]"
     ]
    },
    {
     "name": "stdout",
     "output_type": "stream",
     "text": [
      "+---------+---------+\n",
      "|  airline|avg_price|\n",
      "+---------+---------+\n",
      "|   Indigo|  5324.22|\n",
      "| SpiceJet|  6179.28|\n",
      "|Air_India| 23507.02|\n",
      "|  AirAsia|  4091.07|\n",
      "| GO_FIRST|  5652.01|\n",
      "|  Vistara| 30396.54|\n",
      "+---------+---------+\n",
      "\n"
     ]
    },
    {
     "name": "stderr",
     "output_type": "stream",
     "text": [
      "                                                                                "
     ]
    }
   ],
   "source": [
    "airlines_a1 = df.groupBy(\"airline\").agg(\n",
    "    round(avg(\"price\"),2).alias(\"avg_price\"))\n",
    "airlines_a1.show()"
   ]
  },
  {
   "cell_type": "markdown",
   "id": "718f80b0-dcae-4f63-8453-09ddc4740d33",
   "metadata": {},
   "source": [
    "### **- Average duration per route**"
   ]
  },
  {
   "cell_type": "code",
   "execution_count": 18,
   "id": "86210b0c-ef8d-4d53-a9f3-bdc820ac6cd3",
   "metadata": {},
   "outputs": [
    {
     "name": "stderr",
     "output_type": "stream",
     "text": [
      "[Stage 31:=============================>                            (1 + 1) / 2]"
     ]
    },
    {
     "name": "stdout",
     "output_type": "stream",
     "text": [
      "+--------------------+------------+\n",
      "|               route|avg_duration|\n",
      "+--------------------+------------+\n",
      "|    Delhi -> Chennai|       12.43|\n",
      "|  Hyderabad -> Delhi|       10.83|\n",
      "|   Mumbai -> Chennai|       12.67|\n",
      "|Hyderabad -> Kolkata|       13.54|\n",
      "| Hyderabad -> Mumbai|       11.96|\n",
      "| Mumbai -> Bangalore|       11.61|\n",
      "|    Delhi -> Kolkata|       12.74|\n",
      "|   Mumbai -> Kolkata|       12.84|\n",
      "|Bangalore -> Kolkata|        13.1|\n",
      "| Mumbai -> Hyderabad|       13.26|\n",
      "|    Kolkata -> Delhi|        11.6|\n",
      "|Hyderabad -> Chennai|       13.29|\n",
      "|     Delhi -> Mumbai|       10.37|\n",
      "|   Kolkata -> Mumbai|       12.99|\n",
      "|     Mumbai -> Delhi|        9.82|\n",
      "|Kolkata -> Hyderabad|       13.85|\n",
      "|Bangalore -> Chennai|       14.48|\n",
      "|  Bangalore -> Delhi|        9.78|\n",
      "|Bangalore -> Hyde...|       14.16|\n",
      "|Hyderabad -> Bang...|       12.09|\n",
      "+--------------------+------------+\n",
      "only showing top 20 rows\n"
     ]
    },
    {
     "name": "stderr",
     "output_type": "stream",
     "text": [
      "                                                                                "
     ]
    }
   ],
   "source": [
    "airlines_a2 = airlines_t2.groupBy(\"route\").agg(\n",
    "    round(avg(\"duration\"),2).alias(\"avg_duration\"))\n",
    "airlines_a2.show()"
   ]
  },
  {
   "cell_type": "markdown",
   "id": "4649d603-7e5e-45c9-9038-f3a0ae07dcbd",
   "metadata": {},
   "source": [
    "### **- Minimum and maximum price per airline**"
   ]
  },
  {
   "cell_type": "code",
   "execution_count": 23,
   "id": "a454cc3b-58b5-4c7b-81c7-07170eb95655",
   "metadata": {},
   "outputs": [
    {
     "name": "stderr",
     "output_type": "stream",
     "text": [
      "[Stage 37:=============================>                            (1 + 1) / 2]"
     ]
    },
    {
     "name": "stdout",
     "output_type": "stream",
     "text": [
      "+---------+---------+---------+\n",
      "|  airline|min_price|max_price|\n",
      "+---------+---------+---------+\n",
      "|   Indigo|     1105|    31952|\n",
      "| SpiceJet|     1106|    34158|\n",
      "|Air_India|     1526|    90970|\n",
      "|  AirAsia|     1105|    31917|\n",
      "| GO_FIRST|     1105|    32803|\n",
      "|  Vistara|     1714|   123071|\n",
      "+---------+---------+---------+\n",
      "\n"
     ]
    },
    {
     "name": "stderr",
     "output_type": "stream",
     "text": [
      "                                                                                "
     ]
    }
   ],
   "source": [
    "airlines_a3 = df.groupBy(\"airline\").agg(\n",
    "    min(\"price\").alias(\"min_price\"), max(\"price\").alias(\"max_price\"))\n",
    "airlines_a3.show()"
   ]
  },
  {
   "cell_type": "markdown",
   "id": "7658b414-22b7-40ab-bb16-39bce1eaea42",
   "metadata": {},
   "source": [
    "### **- Count flights by departure time category**"
   ]
  },
  {
   "cell_type": "code",
   "execution_count": 27,
   "id": "50f2ad1f-ffe3-49bd-b216-36a53a0994ce",
   "metadata": {},
   "outputs": [
    {
     "name": "stderr",
     "output_type": "stream",
     "text": [
      "[Stage 49:=============================>                            (1 + 1) / 2]"
     ]
    },
    {
     "name": "stdout",
     "output_type": "stream",
     "text": [
      "+----------------------+-----+\n",
      "|departure_time_numeric|count|\n",
      "+----------------------+-----+\n",
      "|                     0|66790|\n",
      "|                     1|71146|\n",
      "|                     2|47794|\n",
      "|                     3|65102|\n",
      "|                     4|48015|\n",
      "|                     5| 1306|\n",
      "+----------------------+-----+\n",
      "\n"
     ]
    },
    {
     "name": "stderr",
     "output_type": "stream",
     "text": [
      "                                                                                "
     ]
    }
   ],
   "source": [
    "airlines_a4 = airlines_t4.groupBy(\"departure_time_numeric\").count().orderBy(\"departure_time_numeric\")\n",
    "airlines_a4.show()"
   ]
  },
  {
   "cell_type": "markdown",
   "id": "df1fa161-a381-4ebc-a75c-0efc71ec0066",
   "metadata": {},
   "source": [
    "### **- Stop SparkContext**"
   ]
  },
  {
   "cell_type": "code",
   "execution_count": 28,
   "id": "168a36d5-a382-4027-8f5b-c427811a9740",
   "metadata": {},
   "outputs": [],
   "source": [
    "sc.stop()"
   ]
  },
  {
   "cell_type": "code",
   "execution_count": null,
   "id": "adab5a10-7ddf-4001-9b82-a7c1b0c54ee3",
   "metadata": {},
   "outputs": [],
   "source": []
  }
 ],
 "metadata": {
  "kernelspec": {
   "display_name": "Python 3 (ipykernel)",
   "language": "python",
   "name": "python3"
  },
  "language_info": {
   "codemirror_mode": {
    "name": "ipython",
    "version": 3
   },
   "file_extension": ".py",
   "mimetype": "text/x-python",
   "name": "python",
   "nbconvert_exporter": "python",
   "pygments_lexer": "ipython3",
   "version": "3.10.12"
  }
 },
 "nbformat": 4,
 "nbformat_minor": 5
}
