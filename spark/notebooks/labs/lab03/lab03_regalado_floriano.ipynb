{
 "cells": [
  {
   "cell_type": "markdown",
   "id": "b92d9622",
   "metadata": {},
   "source": [
    "## <center> <img src=\"../../img/ITESOLogo.png\" alt=\"ITESO\" width=\"480\" height=\"130\"> </center>\n",
    "# <center> **Departamento de Electrónica, Sistemas e Informática** </center>\n",
    "---\n",
    "## <center> Computer Systems Engineering  </center>\n",
    "---\n",
    "### <center> Big Data Processing </center>\n",
    "---\n",
    "#### <center> **Autumn 2025** </center>\n",
    "---\n",
    "\n",
    "**Lab 03**: Data Cleaning and Transformation Pipeline\n",
    "\n",
    "**Date**: September 18th 2025\n",
    "\n",
    "**Student Name**:\n",
    "\n",
    "**Professor**: Pablo Camarillo Ramirez"
   ]
  },
  {
   "cell_type": "code",
   "execution_count": 1,
   "id": "47407475-a79d-4ce1-a25f-49ada3a9ad25",
   "metadata": {},
   "outputs": [],
   "source": [
    "import findspark\n",
    "findspark.init()"
   ]
  },
  {
   "cell_type": "code",
   "execution_count": 2,
   "id": "141411a9-605b-452a-8082-932dcfc62b38",
   "metadata": {},
   "outputs": [],
   "source": [
    "import pyspark \n"
   ]
  },
  {
   "cell_type": "code",
   "execution_count": 3,
   "id": "81bf3933-3109-46c9-9a94-031486862e8c",
   "metadata": {},
   "outputs": [
    {
     "name": "stderr",
     "output_type": "stream",
     "text": [
      "WARNING: Using incubator modules: jdk.incubator.vector\n",
      "Using Spark's default log4j profile: org/apache/spark/log4j2-defaults.properties\n",
      "Setting default log level to \"WARN\".\n",
      "To adjust logging level use sc.setLogLevel(newLevel). For SparkR, use setLogLevel(newLevel).\n",
      "25/09/19 19:48:30 WARN NativeCodeLoader: Unable to load native-hadoop library for your platform... using builtin-java classes where applicable\n"
     ]
    }
   ],
   "source": [
    "from pyspark.sql import SparkSession\n",
    "spark = SparkSession.builder \\\n",
    ".appName(\"Examples on SparkSQL\") \\\n",
    ".master(\"spark://cb6c8cd9dfa2:7077\") \\\n",
    ".config(\"spark.ui.port\", \"4040\") \\\n",
    ".getOrCreate()\n",
    "sc = spark.sparkContext\n"
   ]
  },
  {
   "cell_type": "code",
   "execution_count": 4,
   "id": "9e668736-e1a4-4e65-afa1-073b1c9246aa",
   "metadata": {},
   "outputs": [],
   "source": [
    "from regalado_floriano.spark_utils import SparkUtils"
   ]
  },
  {
   "cell_type": "code",
   "execution_count": 35,
   "id": "4c47cf68-0b07-47e1-8dec-97338c17f4c8",
   "metadata": {},
   "outputs": [
    {
     "name": "stdout",
     "output_type": "stream",
     "text": [
      "[('index', 'int'), ('airline', 'string'), ('flight', 'string'), ('source_city', 'string'), ('departure_time', 'string'), ('stops', 'string'), ('arrival_time', 'string'), ('destination_city', 'string'), ('class', 'string'), ('duration', 'float'), ('days_left', 'int'), ('price', 'int')]\n"
     ]
    },
    {
     "data": {
      "text/plain": [
       "StructType([StructField('index', IntegerType(), True), StructField('airline', StringType(), True), StructField('flight', StringType(), True), StructField('source_city', StringType(), True), StructField('departure_time', StringType(), True), StructField('stops', StringType(), True), StructField('arrival_time', StringType(), True), StructField('destination_city', StringType(), True), StructField('class', StringType(), True), StructField('duration', FloatType(), True), StructField('days_left', IntegerType(), True), StructField('price', IntegerType(), True)])"
      ]
     },
     "execution_count": 35,
     "metadata": {},
     "output_type": "execute_result"
    }
   ],
   "source": [
    "names = \"index,airline,flight,source_city,departure_time,stops,arrival_time,destination_city,class,duration,days_left,price\"\n",
    "names = (names.split(\",\"))\n",
    "types = (\"int\" + \" string\"*8 + \" float int int\" ).split()\n",
    "nameTypes = zip(names, types)\n",
    "\n",
    "nt = [ (x[0], x[1]) for x in zip(names,types)]\n",
    "schema = SparkUtils.generate_schema(nt)\n",
    "schema\n"
   ]
  },
  {
   "cell_type": "code",
   "execution_count": 36,
   "id": "5e3ca289-0297-4e75-a109-5e57919af40d",
   "metadata": {},
   "outputs": [],
   "source": [
    "airlines_schema = schema"
   ]
  },
  {
   "cell_type": "code",
   "execution_count": 38,
   "id": "5b1495c7-f3db-409e-8a44-cc5b6bed9240",
   "metadata": {},
   "outputs": [
    {
     "name": "stdout",
     "output_type": "stream",
     "text": [
      "+-----+--------+-------+-----------+--------------+-----+-------------+----------------+-------+--------+---------+-----+\n",
      "|index| airline| flight|source_city|departure_time|stops| arrival_time|destination_city|  class|duration|days_left|price|\n",
      "+-----+--------+-------+-----------+--------------+-----+-------------+----------------+-------+--------+---------+-----+\n",
      "|    0|SpiceJet|SG-8709|      Delhi|       Evening| zero|        Night|          Mumbai|Economy|    2.17|        1| 5953|\n",
      "|    1|SpiceJet|SG-8157|      Delhi| Early_Morning| zero|      Morning|          Mumbai|Economy|    2.33|        1| 5953|\n",
      "|    2| AirAsia| I5-764|      Delhi| Early_Morning| zero|Early_Morning|          Mumbai|Economy|    2.17|        1| 5956|\n",
      "|    3| Vistara| UK-995|      Delhi|       Morning| zero|    Afternoon|          Mumbai|Economy|    2.25|        1| 5955|\n",
      "|    4| Vistara| UK-963|      Delhi|       Morning| zero|      Morning|          Mumbai|Economy|    2.33|        1| 5955|\n",
      "+-----+--------+-------+-----------+--------------+-----+-------------+----------------+-------+--------+---------+-----+\n",
      "only showing top 5 rows\n"
     ]
    }
   ],
   "source": [
    "\n",
    "airlines_schema = schema\n",
    "df_airlines = spark.read \\\n",
    ".option(\"header\", \"true\") \\\n",
    ".schema(airlines_schema) \\\n",
    ".csv(\"/opt/spark/work-dir/data/airline/\")\n",
    "df_airlines.show(n=5)"
   ]
  },
  {
   "cell_type": "code",
   "execution_count": 39,
   "id": "a8a496de-8b47-4eac-bcdc-63fd305f4385",
   "metadata": {},
   "outputs": [],
   "source": [
    "from pyspark.sql.functions import col, create_map, lit\n",
    "from itertools import chain"
   ]
  },
  {
   "cell_type": "code",
   "execution_count": 40,
   "id": "3661dfa3-1511-4a27-b9e8-68b028e6ec95",
   "metadata": {},
   "outputs": [],
   "source": [
    "numberMap = {\n",
    "    \"zero\": 0,\n",
    "    \"one\": 1,\n",
    "    \"two\": 2,\n",
    "    \"three\": 3,\n",
    "    \"four\": 4,\n",
    "    \"five\": 5,\n",
    "    \"six\": 6,\n",
    "    \"seven\": 7,\n",
    "    \"eight\": 8,\n",
    "    \"nine\": 9,\n",
    "    \"ten\": 10}\n",
    "mapping_expr = create_map([lit(x) for x in chain(*numberMap.items())])\n"
   ]
  },
  {
   "cell_type": "code",
   "execution_count": 43,
   "id": "f4f76c1c-3336-45dd-8b2f-a315d36de1dc",
   "metadata": {},
   "outputs": [],
   "source": [
    "normal = df_airlines.withColumn(\"stops\", mapping_expr[col(\"stops\")] ) "
   ]
  },
  {
   "cell_type": "code",
   "execution_count": 45,
   "id": "6ec641a1-bcfc-4f53-ab54-ce52d3dc12b5",
   "metadata": {},
   "outputs": [
    {
     "name": "stdout",
     "output_type": "stream",
     "text": [
      "+-----+--------+-------+-----------+--------------+-----+-------------+----------------+-------+--------+---------+-----+\n",
      "|index| airline| flight|source_city|departure_time|stops| arrival_time|destination_city|  class|duration|days_left|price|\n",
      "+-----+--------+-------+-----------+--------------+-----+-------------+----------------+-------+--------+---------+-----+\n",
      "|    0|SpiceJet|SG-8709|      Delhi|       Evening|    0|        Night|          Mumbai|Economy|    2.17|        1| 5953|\n",
      "|    1|SpiceJet|SG-8157|      Delhi| Early_Morning|    0|      Morning|          Mumbai|Economy|    2.33|        1| 5953|\n",
      "|    2| AirAsia| I5-764|      Delhi| Early_Morning|    0|Early_Morning|          Mumbai|Economy|    2.17|        1| 5956|\n",
      "|    3| Vistara| UK-995|      Delhi|       Morning|    0|    Afternoon|          Mumbai|Economy|    2.25|        1| 5955|\n",
      "|    4| Vistara| UK-963|      Delhi|       Morning|    0|      Morning|          Mumbai|Economy|    2.33|        1| 5955|\n",
      "|    5| Vistara| UK-945|      Delhi|       Morning|    0|    Afternoon|          Mumbai|Economy|    2.33|        1| 5955|\n",
      "|    6| Vistara| UK-927|      Delhi|       Morning|    0|      Morning|          Mumbai|Economy|    2.08|        1| 6060|\n",
      "|    7| Vistara| UK-951|      Delhi|     Afternoon|    0|      Evening|          Mumbai|Economy|    2.17|        1| 6060|\n",
      "|    8|GO_FIRST| G8-334|      Delhi| Early_Morning|    0|      Morning|          Mumbai|Economy|    2.17|        1| 5954|\n",
      "|    9|GO_FIRST| G8-336|      Delhi|     Afternoon|    0|      Evening|          Mumbai|Economy|    2.25|        1| 5954|\n",
      "+-----+--------+-------+-----------+--------------+-----+-------------+----------------+-------+--------+---------+-----+\n",
      "only showing top 10 rows\n"
     ]
    }
   ],
   "source": [
    "normal.show(n=10)"
   ]
  },
  {
   "cell_type": "code",
   "execution_count": 47,
   "id": "e15747c3-57a8-4677-8c53-84a3214ad08d",
   "metadata": {},
   "outputs": [],
   "source": [
    "has_expensive = normal.withColumn(\"expensive\", col(\"price\") > 6000  )"
   ]
  },
  {
   "cell_type": "code",
   "execution_count": 48,
   "id": "052c9c73-304a-4c0a-9e0c-f034d4450a91",
   "metadata": {},
   "outputs": [
    {
     "name": "stdout",
     "output_type": "stream",
     "text": [
      "+-----+---------+-------+-----------+--------------+-----+-------------+----------------+-------+--------+---------+-----+---------+\n",
      "|index|  airline| flight|source_city|departure_time|stops| arrival_time|destination_city|  class|duration|days_left|price|expensive|\n",
      "+-----+---------+-------+-----------+--------------+-----+-------------+----------------+-------+--------+---------+-----+---------+\n",
      "|    0| SpiceJet|SG-8709|      Delhi|       Evening|    0|        Night|          Mumbai|Economy|    2.17|        1| 5953|    false|\n",
      "|    1| SpiceJet|SG-8157|      Delhi| Early_Morning|    0|      Morning|          Mumbai|Economy|    2.33|        1| 5953|    false|\n",
      "|    2|  AirAsia| I5-764|      Delhi| Early_Morning|    0|Early_Morning|          Mumbai|Economy|    2.17|        1| 5956|    false|\n",
      "|    3|  Vistara| UK-995|      Delhi|       Morning|    0|    Afternoon|          Mumbai|Economy|    2.25|        1| 5955|    false|\n",
      "|    4|  Vistara| UK-963|      Delhi|       Morning|    0|      Morning|          Mumbai|Economy|    2.33|        1| 5955|    false|\n",
      "|    5|  Vistara| UK-945|      Delhi|       Morning|    0|    Afternoon|          Mumbai|Economy|    2.33|        1| 5955|    false|\n",
      "|    6|  Vistara| UK-927|      Delhi|       Morning|    0|      Morning|          Mumbai|Economy|    2.08|        1| 6060|     true|\n",
      "|    7|  Vistara| UK-951|      Delhi|     Afternoon|    0|      Evening|          Mumbai|Economy|    2.17|        1| 6060|     true|\n",
      "|    8| GO_FIRST| G8-334|      Delhi| Early_Morning|    0|      Morning|          Mumbai|Economy|    2.17|        1| 5954|    false|\n",
      "|    9| GO_FIRST| G8-336|      Delhi|     Afternoon|    0|      Evening|          Mumbai|Economy|    2.25|        1| 5954|    false|\n",
      "|   10| GO_FIRST| G8-392|      Delhi|     Afternoon|    0|      Evening|          Mumbai|Economy|    2.25|        1| 5954|    false|\n",
      "|   11| GO_FIRST| G8-338|      Delhi|       Morning|    0|    Afternoon|          Mumbai|Economy|    2.33|        1| 5954|    false|\n",
      "|   12|   Indigo|6E-5001|      Delhi| Early_Morning|    0|      Morning|          Mumbai|Economy|    2.17|        1| 5955|    false|\n",
      "|   13|   Indigo|6E-6202|      Delhi|       Morning|    0|    Afternoon|          Mumbai|Economy|    2.17|        1| 5955|    false|\n",
      "|   14|   Indigo| 6E-549|      Delhi|     Afternoon|    0|      Evening|          Mumbai|Economy|    2.25|        1| 5955|    false|\n",
      "|   15|   Indigo|6E-6278|      Delhi|       Morning|    0|      Morning|          Mumbai|Economy|    2.33|        1| 5955|    false|\n",
      "|   16|Air_India| AI-887|      Delhi| Early_Morning|    0|      Morning|          Mumbai|Economy|    2.08|        1| 5955|    false|\n",
      "|   17|Air_India| AI-665|      Delhi| Early_Morning|    0|      Morning|          Mumbai|Economy|    2.17|        1| 5955|    false|\n",
      "|   18|  AirAsia| I5-747|      Delhi|       Evening|    1|Early_Morning|          Mumbai|Economy|   12.25|        1| 5949|    false|\n",
      "|   19|  AirAsia| I5-747|      Delhi|       Evening|    1|      Morning|          Mumbai|Economy|   16.33|        1| 5949|    false|\n",
      "+-----+---------+-------+-----------+--------------+-----+-------------+----------------+-------+--------+---------+-----+---------+\n",
      "only showing top 20 rows\n"
     ]
    }
   ],
   "source": [
    "has_expensive.show(n=20)"
   ]
  },
  {
   "cell_type": "code",
   "execution_count": 57,
   "id": "b31d0bf2-710d-43a9-8c97-556b320e4075",
   "metadata": {},
   "outputs": [],
   "source": [
    "from pyspark.sql.functions import col, concat, lit,concat_ws\n"
   ]
  },
  {
   "cell_type": "code",
   "execution_count": 60,
   "id": "0b539341-d287-4ef2-91d1-dc229b0a03af",
   "metadata": {},
   "outputs": [],
   "source": [
    "has_route = has_expensive.withColumn(\"route\", concat_ws( \"→\", col(\"source_city\")  , col(\"destination_city\") ) )"
   ]
  },
  {
   "cell_type": "code",
   "execution_count": 61,
   "id": "57a1bec4-0d71-408f-a7c7-ddbe35d7fb28",
   "metadata": {},
   "outputs": [
    {
     "name": "stdout",
     "output_type": "stream",
     "text": [
      "+-----+--------+-------+-----------+--------------+-----+-------------+----------------+-------+--------+---------+-----+---------+------------+\n",
      "|index| airline| flight|source_city|departure_time|stops| arrival_time|destination_city|  class|duration|days_left|price|expensive|       route|\n",
      "+-----+--------+-------+-----------+--------------+-----+-------------+----------------+-------+--------+---------+-----+---------+------------+\n",
      "|    0|SpiceJet|SG-8709|      Delhi|       Evening|    0|        Night|          Mumbai|Economy|    2.17|        1| 5953|    false|Delhi→Mumbai|\n",
      "|    1|SpiceJet|SG-8157|      Delhi| Early_Morning|    0|      Morning|          Mumbai|Economy|    2.33|        1| 5953|    false|Delhi→Mumbai|\n",
      "|    2| AirAsia| I5-764|      Delhi| Early_Morning|    0|Early_Morning|          Mumbai|Economy|    2.17|        1| 5956|    false|Delhi→Mumbai|\n",
      "|    3| Vistara| UK-995|      Delhi|       Morning|    0|    Afternoon|          Mumbai|Economy|    2.25|        1| 5955|    false|Delhi→Mumbai|\n",
      "|    4| Vistara| UK-963|      Delhi|       Morning|    0|      Morning|          Mumbai|Economy|    2.33|        1| 5955|    false|Delhi→Mumbai|\n",
      "+-----+--------+-------+-----------+--------------+-----+-------------+----------------+-------+--------+---------+-----+---------+------------+\n",
      "only showing top 5 rows\n"
     ]
    }
   ],
   "source": [
    "has_route.show(n=5)"
   ]
  },
  {
   "cell_type": "code",
   "execution_count": 89,
   "id": "7670bdd2-2981-4297-866d-a5a64c445796",
   "metadata": {},
   "outputs": [],
   "source": [
    "numberMap = {\n",
    "    \"Early_Morning\": 0,\n",
    "    \"Morning\": 1,\n",
    "    \"Early_Noon\": 2,\n",
    "    \"Noon\": 3,\n",
    "    \"Early_Afternoon\": 4,\n",
    "    \"Afternoon\": 5,\n",
    "    \"Early_Evening\": 6,\n",
    "    \"Evening\": 7,\n",
    "    \"Early_Night\": 8,\n",
    "    \"Night\": 9,\n",
    "    \"Late_Night\":10,\n",
    "    \"Midnight\": 11}\n",
    "mapping_expr = create_map([lit(x) for x in chain(*numberMap.items())])\n"
   ]
  },
  {
   "cell_type": "code",
   "execution_count": 95,
   "id": "2d0e5c37-1450-45c6-8703-38113831bc8f",
   "metadata": {},
   "outputs": [],
   "source": [
    "norm_departures = has_route.withColumn(\"departure_time\", mapping_expr[col(\"departure_time\")] ) \n",
    "norm_departures = has_route.withColumn(\"arrival_time\", mapping_expr[col(\"departure_time\")] ) "
   ]
  },
  {
   "cell_type": "code",
   "execution_count": 96,
   "id": "55155dad-8b86-4853-a4c4-65f1bd440a7a",
   "metadata": {},
   "outputs": [
    {
     "name": "stdout",
     "output_type": "stream",
     "text": [
      "+-----+--------+-------+-----------+--------------+-----+------------+----------------+-------+--------+---------+-----+---------+------------+\n",
      "|index| airline| flight|source_city|departure_time|stops|arrival_time|destination_city|  class|duration|days_left|price|expensive|       route|\n",
      "+-----+--------+-------+-----------+--------------+-----+------------+----------------+-------+--------+---------+-----+---------+------------+\n",
      "|    0|SpiceJet|SG-8709|      Delhi|       Evening|    0|           7|          Mumbai|Economy|    2.17|        1| 5953|    false|Delhi→Mumbai|\n",
      "|    1|SpiceJet|SG-8157|      Delhi| Early_Morning|    0|           0|          Mumbai|Economy|    2.33|        1| 5953|    false|Delhi→Mumbai|\n",
      "|    2| AirAsia| I5-764|      Delhi| Early_Morning|    0|           0|          Mumbai|Economy|    2.17|        1| 5956|    false|Delhi→Mumbai|\n",
      "|    3| Vistara| UK-995|      Delhi|       Morning|    0|           1|          Mumbai|Economy|    2.25|        1| 5955|    false|Delhi→Mumbai|\n",
      "|    4| Vistara| UK-963|      Delhi|       Morning|    0|           1|          Mumbai|Economy|    2.33|        1| 5955|    false|Delhi→Mumbai|\n",
      "|    5| Vistara| UK-945|      Delhi|       Morning|    0|           1|          Mumbai|Economy|    2.33|        1| 5955|    false|Delhi→Mumbai|\n",
      "|    6| Vistara| UK-927|      Delhi|       Morning|    0|           1|          Mumbai|Economy|    2.08|        1| 6060|     true|Delhi→Mumbai|\n",
      "|    7| Vistara| UK-951|      Delhi|     Afternoon|    0|           5|          Mumbai|Economy|    2.17|        1| 6060|     true|Delhi→Mumbai|\n",
      "|    8|GO_FIRST| G8-334|      Delhi| Early_Morning|    0|           0|          Mumbai|Economy|    2.17|        1| 5954|    false|Delhi→Mumbai|\n",
      "|    9|GO_FIRST| G8-336|      Delhi|     Afternoon|    0|           5|          Mumbai|Economy|    2.25|        1| 5954|    false|Delhi→Mumbai|\n",
      "+-----+--------+-------+-----------+--------------+-----+------------+----------------+-------+--------+---------+-----+---------+------------+\n",
      "only showing top 10 rows\n"
     ]
    }
   ],
   "source": [
    "norm_departures.show(n=10)"
   ]
  },
  {
   "cell_type": "code",
   "execution_count": null,
   "id": "3c365e8c-7a61-4f1e-8be8-6464a98b3e66",
   "metadata": {},
   "outputs": [],
   "source": []
  }
 ],
 "metadata": {
  "kernelspec": {
   "display_name": "Python 3 (ipykernel)",
   "language": "python",
   "name": "python3"
  },
  "language_info": {
   "codemirror_mode": {
    "name": "ipython",
    "version": 3
   },
   "file_extension": ".py",
   "mimetype": "text/x-python",
   "name": "python",
   "nbconvert_exporter": "python",
   "pygments_lexer": "ipython3",
   "version": "3.10.12"
  }
 },
 "nbformat": 4,
 "nbformat_minor": 5
}
