{
 "cells": [
  {
   "cell_type": "markdown",
   "id": "b92d9622",
   "metadata": {},
   "source": [
    "## <center> <img src=\"../../img/ITESOLogo.png\" alt=\"ITESO\" width=\"480\" height=\"130\"> </center>\n",
    "# <center> **Departamento de Electrónica, Sistemas e Informática** </center>\n",
    "---\n",
    "## <center> Computer Systems Engineering  </center>\n",
    "---\n",
    "### <center> Big Data Processing </center>\n",
    "---\n",
    "#### <center> **Autumn 2025** </center>\n",
    "---\n",
    "\n",
    "**Lab 03**: Data Cleaning and Transformation Pipeline\n",
    "\n",
    "**Date**: September 18th 2025\n",
    "\n",
    "**Student Name**:\n",
    "\n",
    "**Professor**: Pablo Camarillo Ramirez"
   ]
  },
  {
   "cell_type": "code",
   "execution_count": 1,
   "id": "47407475-a79d-4ce1-a25f-49ada3a9ad25",
   "metadata": {},
   "outputs": [],
   "source": [
    "import findspark\n",
    "findspark.init()"
   ]
  },
  {
   "cell_type": "code",
   "execution_count": 2,
   "id": "141411a9-605b-452a-8082-932dcfc62b38",
   "metadata": {},
   "outputs": [],
   "source": [
    "import pyspark \n"
   ]
  },
  {
   "cell_type": "code",
   "execution_count": 3,
   "id": "81bf3933-3109-46c9-9a94-031486862e8c",
   "metadata": {},
   "outputs": [
    {
     "name": "stderr",
     "output_type": "stream",
     "text": [
      "WARNING: Using incubator modules: jdk.incubator.vector\n",
      "Using Spark's default log4j profile: org/apache/spark/log4j2-defaults.properties\n",
      "Setting default log level to \"WARN\".\n",
      "To adjust logging level use sc.setLogLevel(newLevel). For SparkR, use setLogLevel(newLevel).\n",
      "25/09/19 19:48:30 WARN NativeCodeLoader: Unable to load native-hadoop library for your platform... using builtin-java classes where applicable\n"
     ]
    }
   ],
   "source": [
    "from pyspark.sql import SparkSession\n",
    "spark = SparkSession.builder \\\n",
    ".appName(\"Examples on SparkSQL\") \\\n",
    ".master(\"spark://cb6c8cd9dfa2:7077\") \\\n",
    ".config(\"spark.ui.port\", \"4040\") \\\n",
    ".getOrCreate()\n",
    "sc = spark.sparkContext\n"
   ]
  },
  {
   "cell_type": "code",
   "execution_count": 4,
   "id": "9e668736-e1a4-4e65-afa1-073b1c9246aa",
   "metadata": {},
   "outputs": [],
   "source": [
    "from regalado_floriano.spark_utils import SparkUtils"
   ]
  },
  {
   "cell_type": "code",
   "execution_count": 35,
   "id": "4c47cf68-0b07-47e1-8dec-97338c17f4c8",
   "metadata": {},
   "outputs": [
    {
     "name": "stdout",
     "output_type": "stream",
     "text": [
      "[('index', 'int'), ('airline', 'string'), ('flight', 'string'), ('source_city', 'string'), ('departure_time', 'string'), ('stops', 'string'), ('arrival_time', 'string'), ('destination_city', 'string'), ('class', 'string'), ('duration', 'float'), ('days_left', 'int'), ('price', 'int')]\n"
     ]
    },
    {
     "data": {
      "text/plain": [
       "StructType([StructField('index', IntegerType(), True), StructField('airline', StringType(), True), StructField('flight', StringType(), True), StructField('source_city', StringType(), True), StructField('departure_time', StringType(), True), StructField('stops', StringType(), True), StructField('arrival_time', StringType(), True), StructField('destination_city', StringType(), True), StructField('class', StringType(), True), StructField('duration', FloatType(), True), StructField('days_left', IntegerType(), True), StructField('price', IntegerType(), True)])"
      ]
     },
     "execution_count": 35,
     "metadata": {},
     "output_type": "execute_result"
    }
   ],
   "source": [
    "names = \"index,airline,flight,source_city,departure_time,stops,arrival_time,destination_city,class,duration,days_left,price\"\n",
    "names = (names.split(\",\"))\n",
    "types = (\"int\" + \" string\"*8 + \" float int int\" ).split()\n",
    "nameTypes = zip(names, types)\n",
    "\n",
    "nt = [ (x[0], x[1]) for x in zip(names,types)]\n",
    "schema = SparkUtils.generate_schema(nt)\n",
    "schema\n"
   ]
  },
  {
   "cell_type": "code",
   "execution_count": 36,
   "id": "5e3ca289-0297-4e75-a109-5e57919af40d",
   "metadata": {},
   "outputs": [],
   "source": [
    "airlines_schema = schema"
   ]
  },
  {
   "cell_type": "code",
   "execution_count": 38,
   "id": "5b1495c7-f3db-409e-8a44-cc5b6bed9240",
   "metadata": {},
   "outputs": [
    {
     "name": "stdout",
     "output_type": "stream",
     "text": [
      "+-----+--------+-------+-----------+--------------+-----+-------------+----------------+-------+--------+---------+-----+\n",
      "|index| airline| flight|source_city|departure_time|stops| arrival_time|destination_city|  class|duration|days_left|price|\n",
      "+-----+--------+-------+-----------+--------------+-----+-------------+----------------+-------+--------+---------+-----+\n",
      "|    0|SpiceJet|SG-8709|      Delhi|       Evening| zero|        Night|          Mumbai|Economy|    2.17|        1| 5953|\n",
      "|    1|SpiceJet|SG-8157|      Delhi| Early_Morning| zero|      Morning|          Mumbai|Economy|    2.33|        1| 5953|\n",
      "|    2| AirAsia| I5-764|      Delhi| Early_Morning| zero|Early_Morning|          Mumbai|Economy|    2.17|        1| 5956|\n",
      "|    3| Vistara| UK-995|      Delhi|       Morning| zero|    Afternoon|          Mumbai|Economy|    2.25|        1| 5955|\n",
      "|    4| Vistara| UK-963|      Delhi|       Morning| zero|      Morning|          Mumbai|Economy|    2.33|        1| 5955|\n",
      "+-----+--------+-------+-----------+--------------+-----+-------------+----------------+-------+--------+---------+-----+\n",
      "only showing top 5 rows\n"
     ]
    }
   ],
   "source": [
    "\n",
    "airlines_schema = schema\n",
    "df_airlines = spark.read \\\n",
    ".option(\"header\", \"true\") \\\n",
    ".schema(airlines_schema) \\\n",
    ".csv(\"/opt/spark/work-dir/data/airline/\")\n",
    "df_airlines.show(n=5)"
   ]
  },
  {
   "cell_type": "code",
   "execution_count": 39,
   "id": "a8a496de-8b47-4eac-bcdc-63fd305f4385",
   "metadata": {},
   "outputs": [],
   "source": [
    "from pyspark.sql.functions import col, create_map, lit\n",
    "from itertools import chain"
   ]
  },
  {
   "cell_type": "code",
   "execution_count": 40,
   "id": "3661dfa3-1511-4a27-b9e8-68b028e6ec95",
   "metadata": {},
   "outputs": [],
   "source": [
    "numberMap = {\n",
    "    \"zero\": 0,\n",
    "    \"one\": 1,\n",
    "    \"two\": 2,\n",
    "    \"three\": 3,\n",
    "    \"four\": 4,\n",
    "    \"five\": 5,\n",
    "    \"six\": 6,\n",
    "    \"seven\": 7,\n",
    "    \"eight\": 8,\n",
    "    \"nine\": 9,\n",
    "    \"ten\": 10}\n",
    "mapping_expr = create_map([lit(x) for x in chain(*numberMap.items())])\n"
   ]
  },
  {
   "cell_type": "code",
   "execution_count": 43,
   "id": "f4f76c1c-3336-45dd-8b2f-a315d36de1dc",
   "metadata": {},
   "outputs": [],
   "source": [
    "normal = df_airlines.withColumn(\"stops\", mapping_expr[col(\"stops\")] ) "
   ]
  },
  {
   "cell_type": "code",
   "execution_count": 44,
   "id": "6ec641a1-bcfc-4f53-ab54-ce52d3dc12b5",
   "metadata": {},
   "outputs": [
    {
     "name": "stdout",
     "output_type": "stream",
     "text": [
      "+-----+--------+-------+-----------+--------------+-----+-------------+----------------+-------+--------+---------+-----+\n",
      "|index| airline| flight|source_city|departure_time|stops| arrival_time|destination_city|  class|duration|days_left|price|\n",
      "+-----+--------+-------+-----------+--------------+-----+-------------+----------------+-------+--------+---------+-----+\n",
      "|    0|SpiceJet|SG-8709|      Delhi|       Evening|    0|        Night|          Mumbai|Economy|    2.17|        1| 5953|\n",
      "|    1|SpiceJet|SG-8157|      Delhi| Early_Morning|    0|      Morning|          Mumbai|Economy|    2.33|        1| 5953|\n",
      "|    2| AirAsia| I5-764|      Delhi| Early_Morning|    0|Early_Morning|          Mumbai|Economy|    2.17|        1| 5956|\n",
      "|    3| Vistara| UK-995|      Delhi|       Morning|    0|    Afternoon|          Mumbai|Economy|    2.25|        1| 5955|\n",
      "|    4| Vistara| UK-963|      Delhi|       Morning|    0|      Morning|          Mumbai|Economy|    2.33|        1| 5955|\n",
      "+-----+--------+-------+-----------+--------------+-----+-------------+----------------+-------+--------+---------+-----+\n",
      "only showing top 5 rows\n"
     ]
    }
   ],
   "source": [
    "normal.show(n=5)"
   ]
  },
  {
   "cell_type": "code",
   "execution_count": null,
   "id": "e15747c3-57a8-4677-8c53-84a3214ad08d",
   "metadata": {},
   "outputs": [],
   "source": []
  }
 ],
 "metadata": {
  "kernelspec": {
   "display_name": "Python 3 (ipykernel)",
   "language": "python",
   "name": "python3"
  },
  "language_info": {
   "codemirror_mode": {
    "name": "ipython",
    "version": 3
   },
   "file_extension": ".py",
   "mimetype": "text/x-python",
   "name": "python",
   "nbconvert_exporter": "python",
   "pygments_lexer": "ipython3",
   "version": "3.10.12"
  }
 },
 "nbformat": 4,
 "nbformat_minor": 5
}
