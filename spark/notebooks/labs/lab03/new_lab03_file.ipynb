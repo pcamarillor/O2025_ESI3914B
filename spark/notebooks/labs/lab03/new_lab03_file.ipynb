{
 "cells": [
  {
   "cell_type": "code",
   "execution_count": null,
   "id": "5fbb0649",
   "metadata": {},
   "outputs": [],
   "source": [
    "#testcode"
   ]
  }
 ],
 "metadata": {
  "kernelspec": {
   "display_name": "Python 3",
   "language": "python",
   "name": "python3"
  },
  "language_info": {
   "name": "python",
   "version": "3.12.2"
  }
 },
 "nbformat": 4,
 "nbformat_minor": 5
}
