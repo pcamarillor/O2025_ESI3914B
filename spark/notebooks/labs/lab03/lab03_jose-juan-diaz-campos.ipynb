{
 "cells": [
  {
   "cell_type": "markdown",
   "id": "b92d9622",
   "metadata": {},
   "source": [
    "# <center> <img src=\"../../img/ITESOLogo.png\" alt=\"ITESO\" width=\"480\" height=\"130\"> </center>\n",
    "# <center> **Departamento de Electrónica, Sistemas e Informática** </center>\n",
    "---\n",
    "## <center> Computer Systems Engineering  </center>\n",
    "---\n",
    "### <center> Big Data Processing </center>\n",
    "---\n",
    "#### <center> **Autumn 2025** </center>\n",
    "---\n",
    "\n",
    "**Lab 03**: Data Cleaning and Transformation Pipeline\n",
    "\n",
    "**Date**: September 18th 2025\n",
    "\n",
    "**Student Name**: José Juan Díaz Campos\n",
    "\n",
    "**Professor**: Pablo Camarillo Ramirez"
   ]
  },
  {
   "cell_type": "code",
   "execution_count": 1,
   "id": "adb2ef40-8813-4eb8-8f60-30080dc8ef70",
   "metadata": {},
   "outputs": [
    {
     "name": "stderr",
     "output_type": "stream",
     "text": [
      "WARNING: Using incubator modules: jdk.incubator.vector\n",
      "Using Spark's default log4j profile: org/apache/spark/log4j2-defaults.properties\n",
      "Setting default log level to \"WARN\".\n",
      "To adjust logging level use sc.setLogLevel(newLevel). For SparkR, use setLogLevel(newLevel).\n",
      "25/09/19 15:08:42 WARN NativeCodeLoader: Unable to load native-hadoop library for your platform... using builtin-java classes where applicable\n",
      "25/09/19 15:08:43 WARN Utils: Service 'SparkUI' could not bind on port 4040. Attempting port 4041.\n",
      "25/09/19 15:08:43 WARN Utils: Service 'SparkUI' could not bind on port 4041. Attempting port 4042.\n"
     ]
    }
   ],
   "source": [
    "import findspark\n",
    "findspark.init()\n",
    "from pyspark.sql import SparkSession\n",
    "from pyspark.sql.functions import col, lit, when, trim, count, isnull, concat_ws, avg, min as spark_min, max as spark_max\n",
    "from jjodiaz.spark_utils import SparkUtils\n",
    "spark = SparkSession.builder \\\n",
    "    .appName(\"Lab03\") \\\n",
    "    .master(\"local[*]\") \\\n",
    "    .config(\"spark.ui.port\", \"4040\") \\\n",
    "    .getOrCreate()\n",
    "sc = spark.sparkContext\n",
    "sc.setLogLevel(\"ERROR\")"
   ]
  },
  {
   "cell_type": "code",
   "execution_count": 2,
   "id": "653a4317-8b32-43be-8e47-50b2cb73ba1c",
   "metadata": {},
   "outputs": [],
   "source": [
    "airlines_schema_columns = [(\"index\", \"int\"), \n",
    "     (\"airline\", \"string\"), \n",
    "     (\"flight\", \"string\"),\n",
    "     (\"source_city\", \"string\"),\n",
    "     (\"departure_time\", \"string\"),\n",
    "     (\"stops\", \"string\"),\n",
    "     (\"arrival_time\", \"string\"),\n",
    "     (\"destination_city\", \"string\"),\n",
    "     (\"class\", \"string\"),\n",
    "     (\"duration\", \"float\"),\n",
    "     (\"days_left\", \"int\"),\n",
    "     (\"price\", \"int\")\n",
    "     ]\n",
    "airlines_schema = SparkUtils.generate_schema(airlines_schema_columns)"
   ]
  },
  {
   "cell_type": "code",
   "execution_count": 3,
   "id": "098c922f-b3cd-493f-a11d-f0a68516477a",
   "metadata": {},
   "outputs": [],
   "source": [
    "df_airlines = spark.read \\\n",
    "                .option(\"header\", \"true\") \\\n",
    "                .schema(airlines_schema) \\\n",
    "                .csv(\"/opt/spark/work-dir/data/airline/\")"
   ]
  },
  {
   "cell_type": "markdown",
   "id": "c0c734f9-7361-4ce0-88d4-2054c43fb89b",
   "metadata": {},
   "source": [
    "# 1. Drop unnecessary columns. Count how many null values the dataset has before/after the cleaning process"
   ]
  },
  {
   "cell_type": "code",
   "execution_count": 4,
   "id": "3c9c3777-0552-460c-b30c-ac52d63e32a7",
   "metadata": {},
   "outputs": [
    {
     "name": "stdout",
     "output_type": "stream",
     "text": [
      "\n",
      " Nulos antes de hacer limpieza\n"
     ]
    },
    {
     "name": "stderr",
     "output_type": "stream",
     "text": [
      "[Stage 0:>                                                          (0 + 6) / 6]"
     ]
    },
    {
     "name": "stdout",
     "output_type": "stream",
     "text": [
      "+-----+-------+------+-----------+--------------+-----+------------+----------------+-----+--------+---------+-----+\n",
      "|index|airline|flight|source_city|departure_time|stops|arrival_time|destination_city|class|duration|days_left|price|\n",
      "+-----+-------+------+-----------+--------------+-----+------------+----------------+-----+--------+---------+-----+\n",
      "|    0|      0|     0|          0|             0|    0|           0|               0|    0|       0|        0|    0|\n",
      "+-----+-------+------+-----------+--------------+-----+------------+----------------+-----+--------+---------+-----+\n",
      "\n"
     ]
    },
    {
     "name": "stderr",
     "output_type": "stream",
     "text": [
      "                                                                                "
     ]
    }
   ],
   "source": [
    "print(\"\\n Nulos antes de hacer limpieza\")\n",
    "df_airlines.select([count(when(isnull(c[0]) | col(c[0]).isNull(), c[0])).alias(c[0]) for c in airlines_schema_columns]).show()"
   ]
  },
  {
   "cell_type": "markdown",
   "id": "71270519-d7af-472d-abcb-ac030a39078f",
   "metadata": {},
   "source": [
    "## Limpieza de datos"
   ]
  },
  {
   "cell_type": "code",
   "execution_count": 5,
   "id": "11d71b44-6025-432e-b48c-bb0ebe772d84",
   "metadata": {},
   "outputs": [
    {
     "name": "stderr",
     "output_type": "stream",
     "text": [
      "                                                                                "
     ]
    },
    {
     "name": "stdout",
     "output_type": "stream",
     "text": [
      "Numero de registros después de limpiar: 4123\n",
      "\n",
      " Nulos después de limpiar\n"
     ]
    },
    {
     "name": "stderr",
     "output_type": "stream",
     "text": [
      "[Stage 9:>                                                          (0 + 6) / 6]"
     ]
    },
    {
     "name": "stdout",
     "output_type": "stream",
     "text": [
      "+-------+------+-----------+--------------+-----+------------+----------------+--------+---------+-----+\n",
      "|airline|flight|source_city|departure_time|stops|arrival_time|destination_city|duration|days_left|price|\n",
      "+-------+------+-----------+--------------+-----+------------+----------------+--------+---------+-----+\n",
      "|      0|     0|          0|             0|    0|           0|               0|       0|        0|    0|\n",
      "+-------+------+-----------+--------------+-----+------------+----------------+--------+---------+-----+\n",
      "\n"
     ]
    },
    {
     "name": "stderr",
     "output_type": "stream",
     "text": [
      "                                                                                "
     ]
    }
   ],
   "source": [
    "df_cleaned = df_airlines.drop(\"index\", \"class\")\n",
    "df_cleaned = df_cleaned \\\n",
    "    .dropDuplicates([\"flight\", \"source_city\", \"destination_city\", \"departure_time\"]) \\\n",
    "    .withColumn(\"airline\", trim(col(\"airline\"))) \\\n",
    "    .withColumn(\"source_city\", trim(col(\"source_city\"))) \\\n",
    "    .withColumn(\"destination_city\", trim(col(\"destination_city\"))) \\\n",
    "    .withColumn(\"departure_time\", trim(col(\"departure_time\"))) \\\n",
    "    .withColumn(\"arrival_time\", trim(col(\"arrival_time\"))) \\\n",
    "    .withColumn(\"stops\", trim(col(\"stops\"))) \\\n",
    "    .dropna(subset=[\"price\", \"duration\"])\n",
    "\n",
    "print(f\"Numero de registros después de limpiar: {df_cleaned.count()}\")\n",
    "\n",
    "remaining_columns = [(\"airline\", \"string\"), (\"flight\", \"string\"), (\"source_city\", \"string\"), \n",
    "                    (\"departure_time\", \"string\"), (\"stops\", \"string\"), (\"arrival_time\", \"string\"),\n",
    "                    (\"destination_city\", \"string\"), (\"duration\", \"float\"), (\"days_left\", \"int\"), (\"price\", \"int\")]\n",
    "\n",
    "print(\"\\n Nulos después de limpiar\")\n",
    "df_cleaned.select([count(when(isnull(c[0]) | col(c[0]).isNull(), c[0])).alias(c[0]) for c in remaining_columns]).show()\n"
   ]
  },
  {
   "cell_type": "markdown",
   "id": "22f919a7-31ec-4112-8ed0-8fc93d45c0bb",
   "metadata": {},
   "source": [
    "# 2. NORMALIZE CATEGORICAL VALUES (stops column)"
   ]
  },
  {
   "cell_type": "code",
   "execution_count": 6,
   "id": "571b42a6-693f-400d-bd22-b428219664cb",
   "metadata": {},
   "outputs": [
    {
     "name": "stdout",
     "output_type": "stream",
     "text": [
      "Valores normalizados:\n"
     ]
    },
    {
     "name": "stderr",
     "output_type": "stream",
     "text": [
      "[Stage 15:>                                                         (0 + 6) / 6]"
     ]
    },
    {
     "name": "stdout",
     "output_type": "stream",
     "text": [
      "+-----------+----------------+\n",
      "|      stops|stops_normalized|\n",
      "+-----------+----------------+\n",
      "|       zero|               0|\n",
      "|two_or_more|               2|\n",
      "|        one|               1|\n",
      "+-----------+----------------+\n",
      "\n"
     ]
    },
    {
     "name": "stderr",
     "output_type": "stream",
     "text": [
      "                                                                                "
     ]
    }
   ],
   "source": [
    "df_transformed = df_cleaned.withColumn(\n",
    "    \"stops_normalized\",\n",
    "    when(col(\"stops\") == \"zero\", lit(0))\n",
    "    .when(col(\"stops\") == \"one\", lit(1))\n",
    "    .when(col(\"stops\") == \"two_or_more\", lit(2))\n",
    "    .otherwise(lit(0))\n",
    ")\n",
    "\n",
    "print(\"Valores normalizados:\")\n",
    "df_transformed.select(\"stops\", \"stops_normalized\").distinct().show()\n"
   ]
  },
  {
   "cell_type": "markdown",
   "id": "90324664-ba40-4719-bfbb-33926766d220",
   "metadata": {},
   "source": [
    "# 3. CREATE ROUTE COLUMN"
   ]
  },
  {
   "cell_type": "code",
   "execution_count": 7,
   "id": "501f788d-69cf-4d2d-b0c3-5751b0b05165",
   "metadata": {},
   "outputs": [
    {
     "name": "stdout",
     "output_type": "stream",
     "text": [
      "+-----------+----------------+-----------------+\n",
      "|source_city|destination_city|            route|\n",
      "+-----------+----------------+-----------------+\n",
      "|      Delhi|          Mumbai|   Delhi → Mumbai|\n",
      "|      Delhi|       Bangalore|Delhi → Bangalore|\n",
      "|      Delhi|         Kolkata|  Delhi → Kolkata|\n",
      "|      Delhi|         Kolkata|  Delhi → Kolkata|\n",
      "|      Delhi|         Kolkata|  Delhi → Kolkata|\n",
      "+-----------+----------------+-----------------+\n",
      "only showing top 5 rows\n"
     ]
    },
    {
     "name": "stderr",
     "output_type": "stream",
     "text": [
      "                                                                                "
     ]
    }
   ],
   "source": [
    "df_transformed = df_transformed.withColumn(\n",
    "    \"route\",\n",
    "    concat_ws(\" → \", col(\"source_city\"), col(\"destination_city\"))\n",
    ")\n",
    "\n",
    "df_transformed.select(\"source_city\", \"destination_city\", \"route\").show(5)"
   ]
  },
  {
   "cell_type": "markdown",
   "id": "111d7363-abf9-4fe0-9548-b53abd1436f6",
   "metadata": {},
   "source": [
    "# 4. TRANSFORM TIME CATEGORIES TO NUMERICAL"
   ]
  },
  {
   "cell_type": "code",
   "execution_count": 8,
   "id": "1453b042-1b87-42e8-9986-0dd29bb7e4d4",
   "metadata": {},
   "outputs": [
    {
     "name": "stdout",
     "output_type": "stream",
     "text": [
      "Categorías de salida:\n"
     ]
    },
    {
     "name": "stderr",
     "output_type": "stream",
     "text": [
      "                                                                                "
     ]
    },
    {
     "name": "stdout",
     "output_type": "stream",
     "text": [
      "+--------------+\n",
      "|departure_time|\n",
      "+--------------+\n",
      "|       Evening|\n",
      "|       Morning|\n",
      "|    Late_Night|\n",
      "|     Afternoon|\n",
      "| Early_Morning|\n",
      "|         Night|\n",
      "+--------------+\n",
      "\n",
      "y las de llegada:\n",
      "+-------------+\n",
      "| arrival_time|\n",
      "+-------------+\n",
      "|      Evening|\n",
      "|      Morning|\n",
      "|   Late_Night|\n",
      "|    Afternoon|\n",
      "|Early_Morning|\n",
      "|        Night|\n",
      "+-------------+\n",
      "\n"
     ]
    }
   ],
   "source": [
    "#para ver cuáles hay\n",
    "print(\"Categorías de salida:\")\n",
    "df_transformed.select(\"departure_time\").distinct().show()\n",
    "print(\"y las de llegada:\")\n",
    "df_transformed.select(\"arrival_time\").distinct().show()\n"
   ]
  },
  {
   "cell_type": "code",
   "execution_count": 12,
   "id": "628baf9e-e627-4dd3-b51e-8a378cbd58e0",
   "metadata": {},
   "outputs": [
    {
     "name": "stdout",
     "output_type": "stream",
     "text": [
      "+--------------+----------------------+------------+--------------------+\n",
      "|departure_time|departure_time_encoded|arrival_time|arrival_time_encoded|\n",
      "+--------------+----------------------+------------+--------------------+\n",
      "|       Evening|                     3|  Late_Night|                   5|\n",
      "|       Evening|                     3|       Night|                   4|\n",
      "|       Evening|                     3|     Evening|                   3|\n",
      "|       Evening|                     3|       Night|                   4|\n",
      "|     Afternoon|                     2|       Night|                   4|\n",
      "|       Morning|                     1|   Afternoon|                   2|\n",
      "| Early_Morning|                     0|   Afternoon|                   2|\n",
      "| Early_Morning|                     0|     Morning|                   1|\n",
      "|     Afternoon|                     2|       Night|                   4|\n",
      "|       Evening|                     3|  Late_Night|                   5|\n",
      "|       Evening|                     3|     Evening|                   3|\n",
      "| Early_Morning|                     0|   Afternoon|                   2|\n",
      "| Early_Morning|                     0|     Morning|                   1|\n",
      "| Early_Morning|                     0|     Evening|                   3|\n",
      "|       Morning|                     1|     Evening|                   3|\n",
      "+--------------+----------------------+------------+--------------------+\n",
      "only showing top 15 rows\n"
     ]
    }
   ],
   "source": [
    "df_transformed = df_transformed.withColumn(\n",
    "    \"departure_time_encoded\",\n",
    "    when(col(\"departure_time\") == \"Early_Morning\", lit(0))\n",
    "    .when(col(\"departure_time\") == \"Morning\", lit(1))\n",
    "    .when(col(\"departure_time\") == \"Afternoon\", lit(2))\n",
    "    .when(col(\"departure_time\") == \"Evening\", lit(3))\n",
    "    .when(col(\"departure_time\") == \"Night\", lit(4))\n",
    "    .when(col(\"departure_time\") == \"Late_Night\", lit(5))\n",
    "    .otherwise(lit(1))\n",
    ")\n",
    "\n",
    "df_transformed = df_transformed.withColumn(\n",
    "    \"arrival_time_encoded\",\n",
    "    when(col(\"arrival_time\") == \"Early_Morning\", lit(0))\n",
    "    .when(col(\"arrival_time\") == \"Morning\", lit(1))\n",
    "    .when(col(\"arrival_time\") == \"Afternoon\", lit(2))\n",
    "    .when(col(\"arrival_time\") == \"Evening\", lit(3))\n",
    "    .when(col(\"arrival_time\") == \"Night\", lit(4))\n",
    "    .when(col(\"arrival_time\") == \"Late_Night\", lit(5))\n",
    "    .otherwise(lit(1))\n",
    ")\n",
    "\n",
    "df_transformed.select(\"departure_time\", \"departure_time_encoded\", \"arrival_time\", \"arrival_time_encoded\").show(15)\n"
   ]
  },
  {
   "cell_type": "markdown",
   "id": "c0620e4a-4d16-44d5-8fb4-ca72319bdcfb",
   "metadata": {},
   "source": [
    "# 5. ADDING IS_EXPENSIVE COLUMN"
   ]
  },
  {
   "cell_type": "code",
   "execution_count": 13,
   "id": "733b1eb5-f3ba-4f9f-95f4-e8984d88d613",
   "metadata": {},
   "outputs": [
    {
     "name": "stdout",
     "output_type": "stream",
     "text": [
      "+-----+------------+\n",
      "|price|is_expensive|\n",
      "+-----+------------+\n",
      "|10838|        true|\n",
      "| 7425|        true|\n",
      "|12990|        true|\n",
      "|19080|        true|\n",
      "|27848|        true|\n",
      "+-----+------------+\n",
      "only showing top 5 rows\n"
     ]
    }
   ],
   "source": [
    "df_final = df_transformed.withColumn(\n",
    "    \"is_expensive\",\n",
    "    when(col(\"price\") > 6000, lit(True)).otherwise(lit(False))\n",
    ")\n",
    "\n",
    "df_final.select(\"price\", \"is_expensive\").show(5)"
   ]
  },
  {
   "cell_type": "markdown",
   "id": "94611843-45c9-4f7e-939f-c1077a33710c",
   "metadata": {},
   "source": [
    "## ejercicios adicionales"
   ]
  },
  {
   "cell_type": "markdown",
   "id": "906a35de-bce7-4e56-a015-51fadb1bdf22",
   "metadata": {},
   "source": [
    "### 1.- Get the average price per airline."
   ]
  },
  {
   "cell_type": "code",
   "execution_count": 14,
   "id": "106bd76c-50df-4988-8ab6-e5b1eee217cc",
   "metadata": {},
   "outputs": [
    {
     "name": "stderr",
     "output_type": "stream",
     "text": [
      "[Stage 51:>                                                         (0 + 6) / 6]"
     ]
    },
    {
     "name": "stdout",
     "output_type": "stream",
     "text": [
      "+---------+------------------+\n",
      "|  airline|         avg_price|\n",
      "+---------+------------------+\n",
      "|  Vistara|13709.642140468228|\n",
      "|Air_India|11584.251428571428|\n",
      "| SpiceJet| 9228.326666666666|\n",
      "|   Indigo|  8896.01954887218|\n",
      "| GO_FIRST| 7985.393846153846|\n",
      "|  AirAsia| 7285.683783783784|\n",
      "+---------+------------------+\n",
      "\n"
     ]
    },
    {
     "name": "stderr",
     "output_type": "stream",
     "text": [
      "                                                                                "
     ]
    }
   ],
   "source": [
    "df_final.groupBy(\"airline\") \\\n",
    "    .agg(avg(\"price\").alias(\"avg_price\")) \\\n",
    "    .orderBy(\"avg_price\", ascending=False) \\\n",
    "    .show()"
   ]
  },
  {
   "cell_type": "markdown",
   "id": "ac347ad5-5ce6-4e36-9bcc-e6f643514980",
   "metadata": {},
   "source": [
    "## 2.- Average duration per route."
   ]
  },
  {
   "cell_type": "code",
   "execution_count": 15,
   "id": "43871dc2-3ce4-4520-a253-6f775d997cf3",
   "metadata": {},
   "outputs": [
    {
     "name": "stdout",
     "output_type": "stream",
     "text": [
      "+--------------------+------------------+\n",
      "|               route|      avg_duration|\n",
      "+--------------------+------------------+\n",
      "|     Delhi → Chennai|13.048781719304584|\n",
      "|   Delhi → Hyderabad| 11.53473051079733|\n",
      "|  Mumbai → Hyderabad|11.424469708493262|\n",
      "| Bangalore → Chennai|11.419871799456768|\n",
      "|   Delhi → Bangalore|10.858125003054738|\n",
      "|    Kolkata → Mumbai|10.853272715481845|\n",
      "|     Delhi → Kolkata|10.811735547278538|\n",
      "|Bangalore → Hyder...|10.474117649536506|\n",
      "|   Kolkata → Chennai|10.409512194191537|\n",
      "| Bangalore → Kolkata|10.375442167528632|\n",
      "|      Delhi → Mumbai| 9.871555554425274|\n",
      "|    Mumbai → Kolkata| 9.736030147303289|\n",
      "|    Mumbai → Chennai| 9.661085263703221|\n",
      "| Kolkata → Hyderabad| 9.593652177893597|\n",
      "|  Mumbai → Bangalore| 9.572197811944145|\n",
      "| Kolkata → Bangalore| 9.566460183236451|\n",
      "|   Chennai → Kolkata| 9.419603970971439|\n",
      "| Hyderabad → Kolkata| 9.280714291428763|\n",
      "|     Kolkata → Delhi| 9.049345243544806|\n",
      "|   Bangalore → Delhi|  8.86369999885559|\n",
      "+--------------------+------------------+\n",
      "only showing top 20 rows\n"
     ]
    }
   ],
   "source": [
    "df_final.groupBy(\"route\") \\\n",
    "    .agg(avg(\"duration\").alias(\"avg_duration\")) \\\n",
    "    .orderBy(\"avg_duration\", ascending=False) \\\n",
    "    .show()"
   ]
  },
  {
   "cell_type": "markdown",
   "id": "6aaef3fa-b26f-4dc1-95a7-a48387c69f77",
   "metadata": {},
   "source": [
    "## 3.- Minimum and maximum price per airline."
   ]
  },
  {
   "cell_type": "code",
   "execution_count": 16,
   "id": "7c4c4296-f0c5-4adb-a4e3-9a8977de5437",
   "metadata": {},
   "outputs": [
    {
     "name": "stderr",
     "output_type": "stream",
     "text": [
      "[Stage 63:===================>                                      (2 + 4) / 6]"
     ]
    },
    {
     "name": "stdout",
     "output_type": "stream",
     "text": [
      "+---------+---------+---------+\n",
      "|  airline|min_price|max_price|\n",
      "+---------+---------+---------+\n",
      "|  AirAsia|     1443|    31497|\n",
      "|Air_India|     1830|    44025|\n",
      "| GO_FIRST|     1105|    32803|\n",
      "|   Indigo|     1105|    30786|\n",
      "| SpiceJet|     2126|    26181|\n",
      "|  Vistara|     4263|   114434|\n",
      "+---------+---------+---------+\n",
      "\n"
     ]
    },
    {
     "name": "stderr",
     "output_type": "stream",
     "text": [
      "                                                                                "
     ]
    }
   ],
   "source": [
    "df_final.groupBy(\"airline\") \\\n",
    "    .agg(\n",
    "        spark_min(\"price\").alias(\"min_price\"),\n",
    "        spark_max(\"price\").alias(\"max_price\")\n",
    "    ) \\\n",
    "    .orderBy(\"airline\") \\\n",
    "    .show()"
   ]
  },
  {
   "cell_type": "markdown",
   "id": "cc392836-a8c9-4ffc-a7a2-5801d749a94f",
   "metadata": {},
   "source": [
    "## 4.- Count flights by departure_time category."
   ]
  },
  {
   "cell_type": "code",
   "execution_count": 17,
   "id": "f5e4459d-17be-442f-b209-380d8a25bbf7",
   "metadata": {},
   "outputs": [
    {
     "name": "stdout",
     "output_type": "stream",
     "text": [
      "+--------------+------------+\n",
      "|departure_time|flight_count|\n",
      "+--------------+------------+\n",
      "| Early_Morning|         947|\n",
      "|       Evening|         935|\n",
      "|       Morning|         863|\n",
      "|     Afternoon|         750|\n",
      "|         Night|         583|\n",
      "|    Late_Night|          45|\n",
      "+--------------+------------+\n",
      "\n"
     ]
    }
   ],
   "source": [
    "df_final.groupBy(\"departure_time\") \\\n",
    "    .agg(count(\"*\").alias(\"flight_count\")) \\\n",
    "    .orderBy(\"flight_count\", ascending=False) \\\n",
    "    .show()"
   ]
  }
 ],
 "metadata": {
  "kernelspec": {
   "display_name": "Python 3 (ipykernel)",
   "language": "python",
   "name": "python3"
  },
  "language_info": {
   "codemirror_mode": {
    "name": "ipython",
    "version": 3
   },
   "file_extension": ".py",
   "mimetype": "text/x-python",
   "name": "python",
   "nbconvert_exporter": "python",
   "pygments_lexer": "ipython3",
   "version": "3.10.12"
  }
 },
 "nbformat": 4,
 "nbformat_minor": 5
}
