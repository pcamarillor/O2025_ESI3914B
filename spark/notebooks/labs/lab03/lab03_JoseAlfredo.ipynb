{
 "cells": [
  {
   "cell_type": "markdown",
   "id": "81eca845",
   "metadata": {},
   "source": [
    "Parte 1: Importar librerías y cargar el dataset"
   ]
  },
  {
   "cell_type": "code",
   "execution_count": null,
   "id": "efb9c761",
   "metadata": {
    "vscode": {
     "languageId": "plaintext"
    }
   },
   "outputs": [],
   "source": [
    "# Importar librerías necesarias\n",
    "import pandas as pd\n",
    "import numpy as np\n",
    "\n",
    "# Cargar el dataset desde la ruta correcta\n",
    "file_path = 'notebooks/data/Airline/airlines_flights_data.csv'\n",
    "df = pd.read_csv(file_path)\n",
    "\n",
    "# Ver las primeras filas del dataset\n",
    "df.head()\n"
   ]
  },
  {
   "cell_type": "markdown",
   "id": "c66dc4c0",
   "metadata": {},
   "source": [
    "Parte 2: Eliminar columnas innecesarias"
   ]
  },
  {
   "cell_type": "code",
   "execution_count": null,
   "id": "cd95fe16",
   "metadata": {
    "vscode": {
     "languageId": "plaintext"
    }
   },
   "outputs": [],
   "source": [
    "# Ver todas las columnas del dataset\n",
    "print(\"Columnas antes de eliminar:\")\n",
    "print(df.columns)\n",
    "\n",
    "# Eliminar las columnas innecesarias\n",
    "df.drop(['columna1', 'columna2'], axis=1, inplace=True)  # Reemplaza con las columnas que deseas eliminar\n",
    "\n",
    "# Ver las primeras filas del dataset después de eliminar columnas\n",
    "df.head()\n"
   ]
  },
  {
   "cell_type": "markdown",
   "id": "ff1ba11f",
   "metadata": {},
   "source": [
    "Parte 3: Contar valores nulos antes y después de limpiar el dataset"
   ]
  },
  {
   "cell_type": "markdown",
   "id": "8096a356",
   "metadata": {},
   "source": [
    "# Contar los valores nulos antes de limpiar\n",
    "print(\"\\nValores nulos antes de limpiar:\")\n",
    "print(df.isnull().sum())\n",
    "\n",
    "# Limpiar valores nulos\n",
    "df.dropna(inplace=True)  # Eliminar filas con valores nulos\n",
    "\n",
    "# Contar los valores nulos después de limpiar\n",
    "print(\"\\nValores nulos después de limpiar:\")\n",
    "print(df.isnull().sum())\n"
   ]
  },
  {
   "cell_type": "markdown",
   "id": "29041ad1",
   "metadata": {},
   "source": [
    "Parte 4: Normalizar los valores en la columna 'stops'"
   ]
  },
  {
   "cell_type": "code",
   "execution_count": null,
   "id": "00d7d7be",
   "metadata": {
    "vscode": {
     "languageId": "plaintext"
    }
   },
   "outputs": [],
   "source": [
    "# Normalizar la columna 'stops'\n",
    "df['stops'] = df['stops'].map({'zero': 0, 'one': 1, 'two': 2, 'three': 3, 'four': 4})\n",
    "\n",
    "# Ver las primeras filas del dataset después de normalizar la columna 'stops'\n",
    "df.head()\n"
   ]
  },
  {
   "cell_type": "markdown",
   "id": "8d7ac6c3",
   "metadata": {},
   "source": [
    "Parte 5: Crear la nueva columna 'route'"
   ]
  },
  {
   "cell_type": "code",
   "execution_count": null,
   "id": "0210a5d9",
   "metadata": {
    "vscode": {
     "languageId": "plaintext"
    }
   },
   "outputs": [],
   "source": [
    "# Crear la nueva columna 'route'\n",
    "df['route'] = df['source_city'] + ' → ' + df['destination_city']\n",
    "\n",
    "# Ver las primeras filas del dataset con la nueva columna 'route'\n",
    "df.head()\n"
   ]
  },
  {
   "cell_type": "markdown",
   "id": "ecd56c95",
   "metadata": {},
   "source": [
    "Parte 6: Convertir 'departure_time' y 'arrival_time' en categorías"
   ]
  },
  {
   "cell_type": "code",
   "execution_count": null,
   "id": "558a137c",
   "metadata": {
    "vscode": {
     "languageId": "plaintext"
    }
   },
   "outputs": [],
   "source": [
    "# Función para asignar categorías de tiempo\n",
    "def time_of_day(hour):\n",
    "    if 0 <= hour < 6:\n",
    "        return 'Early_Morning'\n",
    "    elif 6 <= hour < 12:\n",
    "        return 'Morning'\n",
    "    elif 12 <= hour < 18:\n",
    "        return 'Afternoon'\n",
    "    elif 18 <= hour < 24:\n",
    "        return 'Evening'\n",
    "\n",
    "# Convertir departure_time y arrival_time en horas y luego en categorías\n",
    "df['departure_time'] = df['departure_time'].apply(lambda x: time_of_day(int(x.split(\":\")[0])))  # Si departure_time está en formato \"HH:MM\"\n",
    "df['arrival_time'] = df['arrival_time'].apply(lambda x: time_of_day(int(x.split(\":\")[0])))  # Lo mismo para arrival_time\n",
    "\n",
    "# Asignar números a las categorías\n",
    "time_dict = {'Early_Morning': 0, 'Morning': 1, 'Afternoon': 2, 'Evening': 3}\n",
    "df['departure_time'] = df['departure_time'].map(time_dict)\n",
    "df['arrival_time'] = df['arrival_time'].map(time_dict)\n",
    "\n",
    "# Ver las primeras filas del dataset con las nuevas categorías\n",
    "df.head()\n"
   ]
  },
  {
   "cell_type": "markdown",
   "id": "e864672b",
   "metadata": {},
   "source": [
    "Parte 7: Crear la columna 'is_expensive'"
   ]
  },
  {
   "cell_type": "code",
   "execution_count": null,
   "id": "7c317790",
   "metadata": {
    "vscode": {
     "languageId": "plaintext"
    }
   },
   "outputs": [],
   "source": [
    "# Agregar la columna 'is_expensive'\n",
    "df['is_expensive'] = df['price'].apply(lambda x: True if x > 6000 else False)\n",
    "\n",
    "# Ver las primeras filas del dataset con la nueva columna 'is_expensive'\n",
    "df.head()\n"
   ]
  },
  {
   "cell_type": "markdown",
   "id": "ab5d3d60",
   "metadata": {},
   "source": [
    "Parte 8: Agregaciones"
   ]
  },
  {
   "cell_type": "code",
   "execution_count": null,
   "id": "4b004ce5",
   "metadata": {
    "vscode": {
     "languageId": "plaintext"
    }
   },
   "outputs": [],
   "source": [
    "# Promedio de precio por aerolínea\n",
    "average_price_per_airline = df.groupby('airline')['price'].mean()\n",
    "print(\"\\nPromedio de precio por aerolínea:\")\n",
    "print(average_price_per_airline)\n"
   ]
  },
  {
   "cell_type": "code",
   "execution_count": null,
   "id": "daba0ec1",
   "metadata": {
    "vscode": {
     "languageId": "plaintext"
    }
   },
   "outputs": [],
   "source": [
    "# Promedio de duración por ruta\n",
    "average_duration_per_route = df.groupby('route')['duration'].mean()\n",
    "print(\"\\nPromedio de duración por ruta:\")\n",
    "print(average_duration_per_route)\n"
   ]
  },
  {
   "cell_type": "code",
   "execution_count": null,
   "id": "908807ca",
   "metadata": {
    "vscode": {
     "languageId": "plaintext"
    }
   },
   "outputs": [],
   "source": [
    "# Precio mínimo y máximo por aerolínea\n",
    "min_price_per_airline = df.groupby('airline')['price'].min()\n",
    "max_price_per_airline = df.groupby('airline')['price'].max()\n",
    "\n",
    "print(\"\\nPrecio mínimo por aerolínea:\")\n",
    "print(min_price_per_airline)\n",
    "\n",
    "print(\"\\nPrecio máximo por aerolínea:\")\n",
    "print(max_price_per_airline)\n"
   ]
  },
  {
   "cell_type": "code",
   "execution_count": null,
   "id": "b1e5fb8d",
   "metadata": {
    "vscode": {
     "languageId": "plaintext"
    }
   },
   "outputs": [],
   "source": [
    "# Contar vuelos por categoría de departure_time\n",
    "flights_by_departure_time = df['departure_time'].value_counts()\n",
    "print(\"\\nConteo de vuelos por categoría de departure_time:\")\n",
    "print(flights_by_departure_time)\n"
   ]
  },
  {
   "cell_type": "markdown",
   "id": "4154525a",
   "metadata": {},
   "source": [
    "Conclusión del flujo de trabajo"
   ]
  },
  {
   "cell_type": "code",
   "execution_count": null,
   "id": "df52789a",
   "metadata": {
    "vscode": {
     "languageId": "plaintext"
    }
   },
   "outputs": [],
   "source": [
    "# Ver las primeras filas del dataframe final\n",
    "df.head()\n"
   ]
  },
  {
   "cell_type": "markdown",
   "id": "f378117d",
   "metadata": {},
   "source": [
    "Nombre del alumno: José Alfredo Calvillo Gómez 733630."
   ]
  }
 ],
 "metadata": {
  "language_info": {
   "name": "python"
  }
 },
 "nbformat": 4,
 "nbformat_minor": 5
}
