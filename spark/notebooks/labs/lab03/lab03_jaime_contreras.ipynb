{
 "cells": [
  {
   "cell_type": "markdown",
   "id": "b92d9622",
   "metadata": {},
   "source": [
    "# <center> <img src=\"../../img/ITESOLogo.png\" alt=\"ITESO\" width=\"480\" height=\"130\"> </center>\n",
    "# <center> **Departamento de Electrónica, Sistemas e Informática** </center>\n",
    "---\n",
    "## <center> Computer Systems Engineering  </center>\n",
    "---\n",
    "### <center> Big Data Processing </center>\n",
    "---\n",
    "#### <center> **Autumn 2025** </center>\n",
    "---\n",
    "\n",
    "**Lab 03**: Data Cleaning and Transformation Pipeline\n",
    "\n",
    "**Date**: September 18th 2025\n",
    "\n",
    "**Student Name**:Jaime Antonio Contreras Barragan \n",
    "\n",
    "**Professor**: Pablo Camarillo Ramirez"
   ]
  },
  {
   "cell_type": "code",
   "execution_count": 2,
   "id": "cec092ec-0632-43c0-a84e-48d4eca44aca",
   "metadata": {},
   "outputs": [],
   "source": [
    "import findspark\n",
    "findspark.init()"
   ]
  },
  {
   "cell_type": "markdown",
   "id": "09c09c4b-e973-4ebd-be4d-21f54bf9a280",
   "metadata": {},
   "source": [
    "# Create SparkSession"
   ]
  },
  {
   "cell_type": "code",
   "execution_count": 3,
   "id": "c1832fb2-c858-418a-adeb-e6d8ee2095c7",
   "metadata": {},
   "outputs": [
    {
     "name": "stderr",
     "output_type": "stream",
     "text": [
      "WARNING: Using incubator modules: jdk.incubator.vector\n",
      "Using Spark's default log4j profile: org/apache/spark/log4j2-defaults.properties\n",
      "Setting default log level to \"WARN\".\n",
      "To adjust logging level use sc.setLogLevel(newLevel). For SparkR, use setLogLevel(newLevel).\n",
      "25/09/21 22:20:02 WARN NativeCodeLoader: Unable to load native-hadoop library for your platform... using builtin-java classes where applicable\n"
     ]
    }
   ],
   "source": [
    "from pyspark.sql import SparkSession\n",
    "\n",
    "spark = SparkSession.builder \\\n",
    "    .appName(\"Examples on data sources (Files)\") \\\n",
    "    .master(\"spark://75bb008a135c:7077\") \\\n",
    "    .config(\"spark.ui.port\", \"4040\") \\\n",
    "    .getOrCreate()\n",
    "\n",
    "sc = spark.sparkContext\n",
    "sc.setLogLevel(\"ERROR\")"
   ]
  },
  {
   "cell_type": "markdown",
   "id": "8eff8055-1efa-45b7-a08e-f043a6e7b2a0",
   "metadata": {},
   "source": [
    "# Define schema"
   ]
  },
  {
   "cell_type": "code",
   "execution_count": 7,
   "id": "d4d91909-e8f9-4308-a5cf-3fea235bae83",
   "metadata": {},
   "outputs": [
    {
     "data": {
      "text/plain": [
       "StructType([StructField('index', IntegerType(), True), StructField('airline', StringType(), True), StructField('flight', StringType(), True), StructField('source_city', StringType(), True), StructField('departure_time', StringType(), True), StructField('stops', StringType(), True), StructField('arrival_time', StringType(), True), StructField('destination_city', StringType(), True), StructField('class', StringType(), True), StructField('duration', FloatType(), True), StructField('days_left', IntegerType(), True), StructField('price', IntegerType(), True)])"
      ]
     },
     "execution_count": 7,
     "metadata": {},
     "output_type": "execute_result"
    }
   ],
   "source": [
    "from jaimodule.spark_utils import SparkUtils\n",
    "airlines_schema_columns = [(\"index\", \"int\"), \n",
    "     (\"airline\", \"string\"), \n",
    "     (\"flight\", \"string\"),\n",
    "     (\"source_city\", \"string\"),\n",
    "     (\"departure_time\", \"string\"),\n",
    "     (\"stops\", \"string\"),\n",
    "     (\"arrival_time\", \"string\"),\n",
    "     (\"destination_city\", \"string\"),\n",
    "     (\"class\", \"string\"),\n",
    "     (\"duration\", \"float\"),\n",
    "     (\"days_left\", \"int\"),\n",
    "     (\"price\", \"int\")\n",
    "     ]\n",
    "airlines_schema = SparkUtils.generate_schema(airlines_schema_columns)\n",
    "airlines_schema "
   ]
  },
  {
   "cell_type": "markdown",
   "id": "5aaf90e5-5ee5-4a5f-b634-ed5c1d824c65",
   "metadata": {},
   "source": [
    "# Load CSV"
   ]
  },
  {
   "cell_type": "code",
   "execution_count": 39,
   "id": "e2e93643-f6af-402b-a553-cf4fa7f953ca",
   "metadata": {},
   "outputs": [],
   "source": [
    "df_airlines = spark.read \\\n",
    "                .option(\"header\", \"true\") \\\n",
    "                .schema(airlines_schema) \\\n",
    "                .csv(\"/opt/spark/work-dir/data/airline/\")\n"
   ]
  },
  {
   "cell_type": "markdown",
   "id": "90a927b6-b25a-4114-90ad-131be314fa7a",
   "metadata": {},
   "source": [
    "# Data Cleaning"
   ]
  },
  {
   "cell_type": "code",
   "execution_count": 40,
   "id": "d4ad3726-1298-49d8-9201-d007689716e1",
   "metadata": {},
   "outputs": [
    {
     "name": "stderr",
     "output_type": "stream",
     "text": [
      "                                                                                "
     ]
    },
    {
     "name": "stdout",
     "output_type": "stream",
     "text": [
      "number of records before cleaning: 300153\n"
     ]
    },
    {
     "name": "stderr",
     "output_type": "stream",
     "text": [
      "                                                                                "
     ]
    },
    {
     "name": "stdout",
     "output_type": "stream",
     "text": [
      "+-----+-------+------+-----------+--------------+-----+------------+----------------+-----+--------+---------+-----+\n",
      "|index|airline|flight|source_city|departure_time|stops|arrival_time|destination_city|class|duration|days_left|price|\n",
      "+-----+-------+------+-----------+--------------+-----+------------+----------------+-----+--------+---------+-----+\n",
      "|    0|      0|     0|          0|             0|    0|           0|               0|    0|       0|        0|    0|\n",
      "+-----+-------+------+-----------+--------------+-----+------------+----------------+-----+--------+---------+-----+\n",
      "\n"
     ]
    },
    {
     "name": "stderr",
     "output_type": "stream",
     "text": [
      "                                                                                "
     ]
    },
    {
     "name": "stdout",
     "output_type": "stream",
     "text": [
      "number of records after cleaning with trim: 300153\n"
     ]
    },
    {
     "name": "stderr",
     "output_type": "stream",
     "text": [
      "                                                                                "
     ]
    },
    {
     "name": "stdout",
     "output_type": "stream",
     "text": [
      "+-----+-------+------+-----------+--------------+-----+------------+----------------+-----+--------+---------+-----+\n",
      "|index|airline|flight|source_city|departure_time|stops|arrival_time|destination_city|class|duration|days_left|price|\n",
      "+-----+-------+------+-----------+--------------+-----+------------+----------------+-----+--------+---------+-----+\n",
      "|    0|      0|     0|          0|             0|    0|           0|               0|    0|       0|        0|    0|\n",
      "+-----+-------+------+-----------+--------------+-----+------------+----------------+-----+--------+---------+-----+\n",
      "\n"
     ]
    },
    {
     "name": "stderr",
     "output_type": "stream",
     "text": [
      "                                                                                "
     ]
    },
    {
     "name": "stdout",
     "output_type": "stream",
     "text": [
      "number of records after cleaning with dropna: 300153\n"
     ]
    },
    {
     "name": "stderr",
     "output_type": "stream",
     "text": [
      "[Stage 71:=============================>                            (1 + 1) / 2]"
     ]
    },
    {
     "name": "stdout",
     "output_type": "stream",
     "text": [
      "+-----+-------+------+-----------+--------------+-----+------------+----------------+-----+--------+---------+-----+\n",
      "|index|airline|flight|source_city|departure_time|stops|arrival_time|destination_city|class|duration|days_left|price|\n",
      "+-----+-------+------+-----------+--------------+-----+------------+----------------+-----+--------+---------+-----+\n",
      "|    0|      0|     0|          0|             0|    0|           0|               0|    0|       0|        0|    0|\n",
      "+-----+-------+------+-----------+--------------+-----+------------+----------------+-----+--------+---------+-----+\n",
      "\n"
     ]
    },
    {
     "name": "stderr",
     "output_type": "stream",
     "text": [
      "                                                                                "
     ]
    }
   ],
   "source": [
    "from pyspark.sql.functions import trim, col, count, isnull, when\n",
    "print(f\"number of records before cleaning: {df_airlines.count()}\")\n",
    "# Get number of null values for each column before cleaning \n",
    "df_airlines.select([count(when(isnull(c[0]) | col(c[0]).isNull(), c[0])).alias(c[0]) for c in airlines_schema_columns]).show()\n",
    "\n",
    "# Perform data cleaning with trim (column by column)\n",
    "airlines_clean = df_airlines \\\n",
    "        .dropDuplicates([\"index\"]) \\\n",
    "        .withColumn(\"airline\", trim(\"airline\")) \\\n",
    "        .withColumn(\"source_city\", trim(\"source_city\")) \\\n",
    "        .withColumn(\"destination_city\", trim(\"destination_city\")) \\\n",
    "        .filter(col(\"price\").isNotNull())\n",
    "\n",
    "# Simply using dropna()\n",
    "airlines_clean_v2 = df_airlines.dropna()\n",
    "\n",
    "print(f\"number of records after cleaning with trim: {airlines_clean.count()}\")\n",
    "airlines_clean.select([count(when(isnull(c[0]) | col(c[0]).isNull(), c[0])).alias(c[0]) for c in airlines_schema_columns]).show()\n",
    "\n",
    "print(f\"number of records after cleaning with dropna: {airlines_clean_v2.count()}\")\n",
    "airlines_clean_v2.select([count(when(isnull(c[0]) | col(c[0]).isNull(), c[0])).alias(c[0]) for c in airlines_schema_columns]).show()"
   ]
  },
  {
   "cell_type": "markdown",
   "id": "c8e3c0d2-c66f-472d-8421-37ab9b2da4dc",
   "metadata": {},
   "source": [
    "# MAPING STOPS"
   ]
  },
  {
   "cell_type": "code",
   "execution_count": 41,
   "id": "fcfccb6b-63eb-4759-a442-c8ad384eb509",
   "metadata": {},
   "outputs": [
    {
     "name": "stdout",
     "output_type": "stream",
     "text": [
      "+-----+--------+-------+-----------+--------------+-----+-------------+----------------+-------+--------+---------+-----+\n",
      "|index| airline| flight|source_city|departure_time|stops| arrival_time|destination_city|  class|duration|days_left|price|\n",
      "+-----+--------+-------+-----------+--------------+-----+-------------+----------------+-------+--------+---------+-----+\n",
      "|    0|SpiceJet|SG-8709|      Delhi|       Evening|    0|        Night|          Mumbai|Economy|    2.17|        1| 5953|\n",
      "|    1|SpiceJet|SG-8157|      Delhi| Early_Morning|    0|      Morning|          Mumbai|Economy|    2.33|        1| 5953|\n",
      "|    2| AirAsia| I5-764|      Delhi| Early_Morning|    0|Early_Morning|          Mumbai|Economy|    2.17|        1| 5956|\n",
      "|    3| Vistara| UK-995|      Delhi|       Morning|    0|    Afternoon|          Mumbai|Economy|    2.25|        1| 5955|\n",
      "|    4| Vistara| UK-963|      Delhi|       Morning|    0|      Morning|          Mumbai|Economy|    2.33|        1| 5955|\n",
      "+-----+--------+-------+-----------+--------------+-----+-------------+----------------+-------+--------+---------+-----+\n",
      "only showing top 5 rows\n"
     ]
    }
   ],
   "source": [
    "from pyspark.sql.functions import when, lit\n",
    "# Perform the 1st transformation\n",
    "airlines_t1 = airlines_clean_v2.withColumn(\"stops\",\n",
    "                                           when(airlines_clean_v2.stops == \"zero\", lit(0))\n",
    "                                           .when(airlines_clean_v2.stops == \"one\", lit(1))\n",
    "                                           .when(airlines_clean_v2.stops == \"two_or_more\", lit(2))\n",
    "                                          ) \n",
    "airlines_t1.show(n=5)"
   ]
  },
  {
   "cell_type": "markdown",
   "id": "95f8b982-0759-4d4b-97f3-63051a5f13de",
   "metadata": {},
   "source": [
    "# New Column Route"
   ]
  },
  {
   "cell_type": "code",
   "execution_count": 42,
   "id": "8afb7709-0b0e-4731-8de9-1d4a0e7a42c0",
   "metadata": {},
   "outputs": [
    {
     "name": "stdout",
     "output_type": "stream",
     "text": [
      "+-----+--------+-------+-----------+--------------+-----+-------------+----------------+-------+--------+---------+-----+------------+\n",
      "|index| airline| flight|source_city|departure_time|stops| arrival_time|destination_city|  class|duration|days_left|price|       route|\n",
      "+-----+--------+-------+-----------+--------------+-----+-------------+----------------+-------+--------+---------+-----+------------+\n",
      "|    0|SpiceJet|SG-8709|      Delhi|       Evening|    0|        Night|          Mumbai|Economy|    2.17|        1| 5953|Delhi→Mumbai|\n",
      "|    1|SpiceJet|SG-8157|      Delhi| Early_Morning|    0|      Morning|          Mumbai|Economy|    2.33|        1| 5953|Delhi→Mumbai|\n",
      "|    2| AirAsia| I5-764|      Delhi| Early_Morning|    0|Early_Morning|          Mumbai|Economy|    2.17|        1| 5956|Delhi→Mumbai|\n",
      "|    3| Vistara| UK-995|      Delhi|       Morning|    0|    Afternoon|          Mumbai|Economy|    2.25|        1| 5955|Delhi→Mumbai|\n",
      "|    4| Vistara| UK-963|      Delhi|       Morning|    0|      Morning|          Mumbai|Economy|    2.33|        1| 5955|Delhi→Mumbai|\n",
      "+-----+--------+-------+-----------+--------------+-----+-------------+----------------+-------+--------+---------+-----+------------+\n",
      "only showing top 5 rows\n"
     ]
    }
   ],
   "source": [
    "from pyspark.sql.functions import concat_ws\n",
    "\n",
    "airlines_clean_v3 = airlines_t1.withColumn(\"route\",\n",
    "                                           concat_ws(\"→\",col(\"source_city\"),col(\"destination_city\")))\n",
    "airlines_clean_v3.show(n=5)\n",
    "\n",
    "                                "
   ]
  },
  {
   "cell_type": "markdown",
   "id": "f6b16300-991d-41bb-9d9f-8261e5a9a4b1",
   "metadata": {},
   "source": [
    "# Departure and Arrival to numerical"
   ]
  },
  {
   "cell_type": "code",
   "execution_count": 43,
   "id": "463614a7-3a0b-4018-bc18-04fea1e3528a",
   "metadata": {},
   "outputs": [
    {
     "name": "stderr",
     "output_type": "stream",
     "text": [
      "                                                                                "
     ]
    },
    {
     "name": "stdout",
     "output_type": "stream",
     "text": [
      "+--------------+\n",
      "|departure_time|\n",
      "+--------------+\n",
      "|       Evening|\n",
      "|       Morning|\n",
      "|    Late_Night|\n",
      "|     Afternoon|\n",
      "| Early_Morning|\n",
      "|         Night|\n",
      "+--------------+\n",
      "\n"
     ]
    },
    {
     "name": "stderr",
     "output_type": "stream",
     "text": [
      "[Stage 79:=============================>                            (1 + 1) / 2]"
     ]
    },
    {
     "name": "stdout",
     "output_type": "stream",
     "text": [
      "+-------------+\n",
      "| arrival_time|\n",
      "+-------------+\n",
      "|      Evening|\n",
      "|      Morning|\n",
      "|   Late_Night|\n",
      "|    Afternoon|\n",
      "|Early_Morning|\n",
      "|        Night|\n",
      "+-------------+\n",
      "\n"
     ]
    },
    {
     "name": "stderr",
     "output_type": "stream",
     "text": [
      "                                                                                "
     ]
    }
   ],
   "source": [
    "airlines_clean_v3.select(\"departure_time\").distinct().show()\n",
    "airlines_clean_v3.select(\"arrival_time\").distinct().show()"
   ]
  },
  {
   "cell_type": "code",
   "execution_count": 44,
   "id": "778d41f3-5862-4cd9-876e-b385edb3051d",
   "metadata": {},
   "outputs": [
    {
     "name": "stdout",
     "output_type": "stream",
     "text": [
      "+-----+--------+-------+-----------+--------------+-----+-------------+----------------+-------+--------+---------+-----+------------+\n",
      "|index| airline| flight|source_city|departure_time|stops| arrival_time|destination_city|  class|duration|days_left|price|       route|\n",
      "+-----+--------+-------+-----------+--------------+-----+-------------+----------------+-------+--------+---------+-----+------------+\n",
      "|    0|SpiceJet|SG-8709|      Delhi|             3|    0|        Night|          Mumbai|Economy|    2.17|        1| 5953|Delhi→Mumbai|\n",
      "|    1|SpiceJet|SG-8157|      Delhi|             0|    0|      Morning|          Mumbai|Economy|    2.33|        1| 5953|Delhi→Mumbai|\n",
      "|    2| AirAsia| I5-764|      Delhi|             0|    0|Early_Morning|          Mumbai|Economy|    2.17|        1| 5956|Delhi→Mumbai|\n",
      "|    3| Vistara| UK-995|      Delhi|             1|    0|    Afternoon|          Mumbai|Economy|    2.25|        1| 5955|Delhi→Mumbai|\n",
      "|    4| Vistara| UK-963|      Delhi|             1|    0|      Morning|          Mumbai|Economy|    2.33|        1| 5955|Delhi→Mumbai|\n",
      "+-----+--------+-------+-----------+--------------+-----+-------------+----------------+-------+--------+---------+-----+------------+\n",
      "only showing top 5 rows\n",
      "+-----+--------+-------+-----------+--------------+-----+------------+----------------+-------+--------+---------+-----+------------+\n",
      "|index| airline| flight|source_city|departure_time|stops|arrival_time|destination_city|  class|duration|days_left|price|       route|\n",
      "+-----+--------+-------+-----------+--------------+-----+------------+----------------+-------+--------+---------+-----+------------+\n",
      "|    0|SpiceJet|SG-8709|      Delhi|             3|    0|           4|          Mumbai|Economy|    2.17|        1| 5953|Delhi→Mumbai|\n",
      "|    1|SpiceJet|SG-8157|      Delhi|             0|    0|           1|          Mumbai|Economy|    2.33|        1| 5953|Delhi→Mumbai|\n",
      "|    2| AirAsia| I5-764|      Delhi|             0|    0|           0|          Mumbai|Economy|    2.17|        1| 5956|Delhi→Mumbai|\n",
      "|    3| Vistara| UK-995|      Delhi|             1|    0|           2|          Mumbai|Economy|    2.25|        1| 5955|Delhi→Mumbai|\n",
      "|    4| Vistara| UK-963|      Delhi|             1|    0|           1|          Mumbai|Economy|    2.33|        1| 5955|Delhi→Mumbai|\n",
      "+-----+--------+-------+-----------+--------------+-----+------------+----------------+-------+--------+---------+-----+------------+\n",
      "only showing top 5 rows\n"
     ]
    }
   ],
   "source": [
    "\n",
    "airlines_t1 = airlines_clean_v3 .withColumn(\"departure_time\",\n",
    "                                            when(airlines_clean_v3.departure_time == \"Early_Morning\", lit(0)).when(airlines_clean_v3.departure_time == \"Morning\", lit(1))\n",
    "                                            .when(airlines_clean_v3.departure_time == \"Afternoon\", lit(2)).when(airlines_clean_v3.departure_time == \"Evening\", lit(3))\n",
    "                                            .when(airlines_clean_v3.departure_time == \"Night\", lit(4)).when(airlines_clean_v3.departure_time == \"Late_Night\", lit(5))\n",
    ") \n",
    "airlines_t1.show(n=5)\n",
    "airlines_t1 = airlines_t1 .withColumn(\"arrival_time\",\n",
    "                                            when(airlines_t1.arrival_time == \"Early_Morning\", lit(0)).when(airlines_t1.arrival_time == \"Morning\", lit(1))\n",
    "                                            .when(airlines_t1.arrival_time == \"Afternoon\", lit(2)).when(airlines_t1.arrival_time == \"Evening\", lit(3))\n",
    "                                            .when(airlines_t1.arrival_time == \"Night\", lit(4)).when(airlines_t1.arrival_time == \"Late_Night\", lit(5))\n",
    ") \n",
    "airlines_t1.show(n=5)"
   ]
  },
  {
   "cell_type": "markdown",
   "id": "d8b227b6-79cd-4f39-bcae-6ccc40931acb",
   "metadata": {},
   "source": [
    "# Expensive column"
   ]
  },
  {
   "cell_type": "code",
   "execution_count": 45,
   "id": "69e4f778-3b6c-4000-93da-36842a6f3444",
   "metadata": {},
   "outputs": [
    {
     "name": "stdout",
     "output_type": "stream",
     "text": [
      "+-----+--------+-------+-----------+--------------+-----+------------+----------------+-------+--------+---------+-----+------------+------------+\n",
      "|index| airline| flight|source_city|departure_time|stops|arrival_time|destination_city|  class|duration|days_left|price|       route|is_expensive|\n",
      "+-----+--------+-------+-----------+--------------+-----+------------+----------------+-------+--------+---------+-----+------------+------------+\n",
      "|    0|SpiceJet|SG-8709|      Delhi|             3|    0|           4|          Mumbai|Economy|    2.17|        1| 5953|Delhi→Mumbai|       false|\n",
      "|    1|SpiceJet|SG-8157|      Delhi|             0|    0|           1|          Mumbai|Economy|    2.33|        1| 5953|Delhi→Mumbai|       false|\n",
      "|    2| AirAsia| I5-764|      Delhi|             0|    0|           0|          Mumbai|Economy|    2.17|        1| 5956|Delhi→Mumbai|       false|\n",
      "|    3| Vistara| UK-995|      Delhi|             1|    0|           2|          Mumbai|Economy|    2.25|        1| 5955|Delhi→Mumbai|       false|\n",
      "|    4| Vistara| UK-963|      Delhi|             1|    0|           1|          Mumbai|Economy|    2.33|        1| 5955|Delhi→Mumbai|       false|\n",
      "+-----+--------+-------+-----------+--------------+-----+------------+----------------+-------+--------+---------+-----+------------+------------+\n",
      "only showing top 5 rows\n"
     ]
    }
   ],
   "source": [
    "airlines_t1 = airlines_t1 .withColumn(\"is_expensive\",when(col(\"price\")>6000,True).otherwise(False))\n",
    "airlines_t1.show(n=5)"
   ]
  },
  {
   "cell_type": "markdown",
   "id": "eaadc172-fcd6-4b16-aa7c-264630fa65e5",
   "metadata": {},
   "source": [
    "# Get the average price per airline."
   ]
  },
  {
   "cell_type": "code",
   "execution_count": 48,
   "id": "7ceec6a0-c266-42b1-8b45-ee5d1137d8b7",
   "metadata": {},
   "outputs": [
    {
     "name": "stderr",
     "output_type": "stream",
     "text": [
      "[Stage 88:=============================>                            (1 + 1) / 2]"
     ]
    },
    {
     "name": "stdout",
     "output_type": "stream",
     "text": [
      "+---------+------------------+\n",
      "|  airline|         avg_price|\n",
      "+---------+------------------+\n",
      "|   Indigo| 5324.216303339517|\n",
      "| SpiceJet| 6179.278881367218|\n",
      "|Air_India| 23507.01911190229|\n",
      "|  AirAsia|4091.0727419555224|\n",
      "| GO_FIRST| 5652.007595045959|\n",
      "|  Vistara| 30396.53630170735|\n",
      "+---------+------------------+\n",
      "\n"
     ]
    },
    {
     "name": "stderr",
     "output_type": "stream",
     "text": [
      "                                                                                "
     ]
    }
   ],
   "source": [
    "from pyspark.sql.functions import avg\n",
    "\n",
    "airlines_t1.groupBy(\"airline\").agg(avg(\"price\").alias(\"avg_price\")).show()"
   ]
  },
  {
   "cell_type": "markdown",
   "id": "78c0088e-cb0b-4a6a-a1eb-5e4b7a7ca0be",
   "metadata": {},
   "source": [
    "# Average duration per route.\n",
    "\n"
   ]
  },
  {
   "cell_type": "code",
   "execution_count": 49,
   "id": "a28e65dd-8577-4b78-88db-6c5c61c677d7",
   "metadata": {},
   "outputs": [
    {
     "name": "stderr",
     "output_type": "stream",
     "text": [
      "[Stage 91:=============================>                            (1 + 1) / 2]"
     ]
    },
    {
     "name": "stdout",
     "output_type": "stream",
     "text": [
      "+-------------------+------------------+\n",
      "|              route|      avg_duration|\n",
      "+-------------------+------------------+\n",
      "|      Kolkata→Delhi| 11.60498857561711|\n",
      "|     Kolkata→Mumbai|12.991932481150478|\n",
      "|     Mumbai→Chennai|12.665900287564627|\n",
      "|    Kolkata→Chennai|14.774181563782903|\n",
      "|   Hyderabad→Mumbai|11.962923295795918|\n",
      "|    Delhi→Hyderabad|12.518350118710492|\n",
      "|      Delhi→Kolkata| 12.73596614766045|\n",
      "|  Bangalore→Kolkata|13.099143404859825|\n",
      "|       Mumbai→Delhi|  9.81805726844943|\n",
      "|  Kolkata→Bangalore| 13.79294687524098|\n",
      "|   Bangalore→Mumbai| 10.90507225639642|\n",
      "|  Bangalore→Chennai|14.480207509137166|\n",
      "|       Delhi→Mumbai|10.367774213738123|\n",
      "|      Delhi→Chennai|12.433964745763944|\n",
      "|  Hyderabad→Chennai|13.293238468912078|\n",
      "|   Mumbai→Bangalore|11.612022516178817|\n",
      "|    Bangalore→Delhi|  9.77995566082195|\n",
      "|    Hyderabad→Delhi|10.829816602522587|\n",
      "|Hyderabad→Bangalore| 12.09331678643705|\n",
      "|     Mumbai→Kolkata|12.836848115489666|\n",
      "+-------------------+------------------+\n",
      "only showing top 20 rows\n"
     ]
    },
    {
     "name": "stderr",
     "output_type": "stream",
     "text": [
      "                                                                                "
     ]
    }
   ],
   "source": [
    "airlines_t1.groupBy(\"route\").agg(avg(\"duration\").alias(\"avg_duration\")).show()"
   ]
  },
  {
   "cell_type": "markdown",
   "id": "3c791592-83f5-4a59-90dd-587bfe96d46c",
   "metadata": {},
   "source": [
    "# Minimum and maximum price per airline."
   ]
  },
  {
   "cell_type": "code",
   "execution_count": 52,
   "id": "73200503-b308-4746-b4f2-a755d029de5b",
   "metadata": {},
   "outputs": [
    {
     "name": "stderr",
     "output_type": "stream",
     "text": [
      "[Stage 97:=============================>                            (1 + 1) / 2]"
     ]
    },
    {
     "name": "stdout",
     "output_type": "stream",
     "text": [
      "+---------+----+------+\n",
      "|  airline| min|   max|\n",
      "+---------+----+------+\n",
      "|   Indigo|1105| 31952|\n",
      "| SpiceJet|1106| 34158|\n",
      "|Air_India|1526| 90970|\n",
      "|  AirAsia|1105| 31917|\n",
      "| GO_FIRST|1105| 32803|\n",
      "|  Vistara|1714|123071|\n",
      "+---------+----+------+\n",
      "\n"
     ]
    },
    {
     "name": "stderr",
     "output_type": "stream",
     "text": [
      "                                                                                "
     ]
    }
   ],
   "source": [
    "from pyspark.sql.functions import min, max\n",
    "\n",
    "airlines_t1.groupBy(\"airline\").agg(min(\"price\").alias(\"min\"),max(\"price\").alias(\"max\")).show()"
   ]
  },
  {
   "cell_type": "markdown",
   "id": "ec3b5b04-c4cc-4351-b56d-92aa54499bcf",
   "metadata": {},
   "source": [
    "# Count flights by departure_time category."
   ]
  },
  {
   "cell_type": "code",
   "execution_count": 54,
   "id": "920700cb-d0b6-4405-853b-ff86c2c42ca5",
   "metadata": {},
   "outputs": [
    {
     "name": "stderr",
     "output_type": "stream",
     "text": [
      "[Stage 103:============================>                            (1 + 1) / 2]"
     ]
    },
    {
     "name": "stdout",
     "output_type": "stream",
     "text": [
      "+--------------+-----+\n",
      "|departure_time|count|\n",
      "+--------------+-----+\n",
      "|             0|66790|\n",
      "|             1|71146|\n",
      "|             2|47794|\n",
      "|             3|65102|\n",
      "|             4|48015|\n",
      "|             5| 1306|\n",
      "+--------------+-----+\n",
      "\n"
     ]
    },
    {
     "name": "stderr",
     "output_type": "stream",
     "text": [
      "                                                                                "
     ]
    }
   ],
   "source": [
    "airlines_t1.groupBy(\"departure_time\").count().orderBy(\"departure_time\").show()"
   ]
  },
  {
   "cell_type": "code",
   "execution_count": null,
   "id": "79b4a67a-451e-4426-9091-584323ebf6b7",
   "metadata": {},
   "outputs": [],
   "source": []
  }
 ],
 "metadata": {
  "kernelspec": {
   "display_name": "Python 3 (ipykernel)",
   "language": "python",
   "name": "python3"
  },
  "language_info": {
   "codemirror_mode": {
    "name": "ipython",
    "version": 3
   },
   "file_extension": ".py",
   "mimetype": "text/x-python",
   "name": "python",
   "nbconvert_exporter": "python",
   "pygments_lexer": "ipython3",
   "version": "3.10.12"
  }
 },
 "nbformat": 4,
 "nbformat_minor": 5
}
