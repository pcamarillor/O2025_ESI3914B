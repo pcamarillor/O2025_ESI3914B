{
 "cells": [
  {
   "cell_type": "markdown",
   "id": "4709fc87-0b34-47fb-a5e7-b9bd38017628",
   "metadata": {},
   "source": [
    "# <center> <img src=\"../img/ITESOLogo.png\" alt=\"ITESO\" width=\"480\" height=\"130\"> </center>\n",
    "# <center> **Departamento de Electrónica, Sistemas e Informática** </center>\n",
    "---\n",
    "## <center> **Big Data** </center>\n",
    "---\n",
    "### <center> **Autumn 2025** </center>\n",
    "---\n",
    "### <center> **Examples on Spark Data Sources (Files) and Transformations** </center>\n",
    "---\n",
    "**Profesor**: Pablo Camarillo Ramirez"
   ]
  },
  {
   "cell_type": "markdown",
   "id": "00ee9414-047b-4e02-bdd4-d6cccbd95fe8",
   "metadata": {},
   "source": [
    "# Find the PySpark Installation"
   ]
  },
  {
   "cell_type": "code",
   "execution_count": 1,
   "id": "67fc5687-97e7-4271-85ca-5dcb73af0125",
   "metadata": {},
   "outputs": [],
   "source": [
    "import findspark\n",
    "findspark.init()"
   ]
  },
  {
   "cell_type": "markdown",
   "id": "1c842680-7e40-4f97-ac50-7b616906aad0",
   "metadata": {},
   "source": [
    "# Create SparkSession"
   ]
  },
  {
   "cell_type": "code",
   "execution_count": 2,
   "id": "ec7eed84-7203-4370-8745-2bc6b9d03d6f",
   "metadata": {},
   "outputs": [
    {
     "name": "stderr",
     "output_type": "stream",
     "text": [
      "WARNING: Using incubator modules: jdk.incubator.vector\n",
      "25/09/30 15:08:12 WARN NativeCodeLoader: Unable to load native-hadoop library for your platform... using builtin-java classes where applicable\n",
      "Using Spark's default log4j profile: org/apache/spark/log4j2-defaults.properties\n",
      "Setting default log level to \"WARN\".\n",
      "To adjust logging level use sc.setLogLevel(newLevel). For SparkR, use setLogLevel(newLevel).\n"
     ]
    }
   ],
   "source": [
    "from pyspark.sql import SparkSession\n",
    "\n",
    "spark = SparkSession.builder \\\n",
    "    .appName(\"Examples on data sources (Files)\") \\\n",
    "    .master(\"spark://22410cdc64b0:7077\") \\\n",
    "    .config(\"spark.jars\", \"/opt/spark/work-dir/jars/postgresql-42.7.8.jar\") \\\n",
    "    .config(\"spark.ui.port\", \"4040\") \\\n",
    "    .getOrCreate()\n",
    "\n",
    "sc = spark.sparkContext\n",
    "sc.setLogLevel(\"ERROR\")"
   ]
  },
  {
   "cell_type": "markdown",
   "id": "e1df1849-12f4-42a4-87da-ffe700372099",
   "metadata": {},
   "source": [
    "## Define the schema"
   ]
  },
  {
   "cell_type": "code",
   "execution_count": 3,
   "id": "561e18fe-cf8b-4c8a-b880-3b3688aa7150",
   "metadata": {},
   "outputs": [
    {
     "data": {
      "text/plain": [
       "StructType([StructField('index', IntegerType(), True), StructField('airline', StringType(), True), StructField('flight', StringType(), True), StructField('source_city', StringType(), True), StructField('departure_time', StringType(), True), StructField('stops', StringType(), True), StructField('arrival_time', StringType(), True), StructField('destination_city', StringType(), True), StructField('class', StringType(), True), StructField('duration', FloatType(), True), StructField('days_left', IntegerType(), True), StructField('price', IntegerType(), True)])"
      ]
     },
     "execution_count": 3,
     "metadata": {},
     "output_type": "execute_result"
    }
   ],
   "source": [
    "from pcamarillor.spark_utils import SparkUtils\n",
    "airlines_schema_columns = [(\"index\", \"int\"), \n",
    "     (\"airline\", \"string\"), \n",
    "     (\"flight\", \"string\"),\n",
    "     (\"source_city\", \"string\"),\n",
    "     (\"departure_time\", \"string\"),\n",
    "     (\"stops\", \"string\"),\n",
    "     (\"arrival_time\", \"string\"),\n",
    "     (\"destination_city\", \"string\"),\n",
    "     (\"class\", \"string\"),\n",
    "     (\"duration\", \"float\"),\n",
    "     (\"days_left\", \"int\"),\n",
    "     (\"price\", \"int\")\n",
    "     ]\n",
    "airlines_schema = SparkUtils.generate_schema(airlines_schema_columns)\n",
    "airlines_schema"
   ]
  },
  {
   "cell_type": "markdown",
   "id": "f4cf8a04-2a73-493b-aba7-b9dcf3d9d8f6",
   "metadata": {},
   "source": [
    "## Load CSV"
   ]
  },
  {
   "cell_type": "code",
   "execution_count": 4,
   "id": "c855212e-8d69-41b3-8b0a-619a84260789",
   "metadata": {},
   "outputs": [
    {
     "name": "stderr",
     "output_type": "stream",
     "text": [
      "[Stage 0:>                                                          (0 + 1) / 1]"
     ]
    },
    {
     "name": "stdout",
     "output_type": "stream",
     "text": [
      "+-----+--------+-------+-----------+--------------+-----+-------------+----------------+-------+--------+---------+-----+\n",
      "|index| airline| flight|source_city|departure_time|stops| arrival_time|destination_city|  class|duration|days_left|price|\n",
      "+-----+--------+-------+-----------+--------------+-----+-------------+----------------+-------+--------+---------+-----+\n",
      "|    0|SpiceJet|SG-8709|      Delhi|       Evening| zero|        Night|          Mumbai|Economy|    2.17|        1| 5953|\n",
      "|    1|SpiceJet|SG-8157|      Delhi| Early_Morning| zero|      Morning|          Mumbai|Economy|    2.33|        1| 5953|\n",
      "|    2| AirAsia| I5-764|      Delhi| Early_Morning| zero|Early_Morning|          Mumbai|Economy|    2.17|        1| 5956|\n",
      "|    3| Vistara| UK-995|      Delhi|       Morning| zero|    Afternoon|          Mumbai|Economy|    2.25|        1| 5955|\n",
      "|    4| Vistara| UK-963|      Delhi|       Morning| zero|      Morning|          Mumbai|Economy|    2.33|        1| 5955|\n",
      "+-----+--------+-------+-----------+--------------+-----+-------------+----------------+-------+--------+---------+-----+\n",
      "only showing top 5 rows\n"
     ]
    },
    {
     "name": "stderr",
     "output_type": "stream",
     "text": [
      "                                                                                "
     ]
    }
   ],
   "source": [
    "df_airlines = spark.read \\\n",
    "                .option(\"header\", \"true\") \\\n",
    "                .schema(airlines_schema) \\\n",
    "                .csv(\"/opt/spark/work-dir/data/airlines/directory/airlines_flights_data.csv\")\n",
    "\n",
    "df_airlines.show(n=5)"
   ]
  },
  {
   "cell_type": "markdown",
   "id": "20fb1646-057b-42c7-9d51-62f9c4ca2b92",
   "metadata": {},
   "source": [
    "## Data Cleaning"
   ]
  },
  {
   "cell_type": "code",
   "execution_count": 5,
   "id": "ed5ab2d9-9c81-4c10-8e88-c7eb5c13bbf2",
   "metadata": {},
   "outputs": [
    {
     "name": "stderr",
     "output_type": "stream",
     "text": [
      "                                                                                "
     ]
    },
    {
     "name": "stdout",
     "output_type": "stream",
     "text": [
      "number of records before cleaning: 300153\n"
     ]
    },
    {
     "name": "stderr",
     "output_type": "stream",
     "text": [
      "                                                                                "
     ]
    },
    {
     "name": "stdout",
     "output_type": "stream",
     "text": [
      "+-----+-------+------+-----------+--------------+-----+------------+----------------+-----+--------+---------+-----+\n",
      "|index|airline|flight|source_city|departure_time|stops|arrival_time|destination_city|class|duration|days_left|price|\n",
      "+-----+-------+------+-----------+--------------+-----+------------+----------------+-----+--------+---------+-----+\n",
      "|    0|      0|     0|          0|             0|    0|           0|               0|    0|       0|        0|    0|\n",
      "+-----+-------+------+-----------+--------------+-----+------------+----------------+-----+--------+---------+-----+\n",
      "\n"
     ]
    },
    {
     "name": "stderr",
     "output_type": "stream",
     "text": [
      "                                                                                "
     ]
    },
    {
     "name": "stdout",
     "output_type": "stream",
     "text": [
      "number of records after cleaning with trim: 300153\n"
     ]
    },
    {
     "name": "stderr",
     "output_type": "stream",
     "text": [
      "                                                                                "
     ]
    },
    {
     "name": "stdout",
     "output_type": "stream",
     "text": [
      "+-----+-------+------+-----------+--------------+-----+------------+----------------+-----+--------+---------+-----+\n",
      "|index|airline|flight|source_city|departure_time|stops|arrival_time|destination_city|class|duration|days_left|price|\n",
      "+-----+-------+------+-----------+--------------+-----+------------+----------------+-----+--------+---------+-----+\n",
      "|    0|      0|     0|          0|             0|    0|           0|               0|    0|       0|        0|    0|\n",
      "+-----+-------+------+-----------+--------------+-----+------------+----------------+-----+--------+---------+-----+\n",
      "\n"
     ]
    },
    {
     "name": "stderr",
     "output_type": "stream",
     "text": [
      "                                                                                "
     ]
    },
    {
     "name": "stdout",
     "output_type": "stream",
     "text": [
      "number of records after cleaning with dropna: 300153\n"
     ]
    },
    {
     "name": "stderr",
     "output_type": "stream",
     "text": [
      "[Stage 22:=============================>                            (1 + 1) / 2]"
     ]
    },
    {
     "name": "stdout",
     "output_type": "stream",
     "text": [
      "+-----+-------+------+-----------+--------------+-----+------------+----------------+-----+--------+---------+-----+\n",
      "|index|airline|flight|source_city|departure_time|stops|arrival_time|destination_city|class|duration|days_left|price|\n",
      "+-----+-------+------+-----------+--------------+-----+------------+----------------+-----+--------+---------+-----+\n",
      "|    0|      0|     0|          0|             0|    0|           0|               0|    0|       0|        0|    0|\n",
      "+-----+-------+------+-----------+--------------+-----+------------+----------------+-----+--------+---------+-----+\n",
      "\n"
     ]
    },
    {
     "name": "stderr",
     "output_type": "stream",
     "text": [
      "                                                                                "
     ]
    }
   ],
   "source": [
    "from pyspark.sql.functions import trim, col, count, isnull, when\n",
    "print(f\"number of records before cleaning: {df_airlines.count()}\")\n",
    "# Get number of null values for each column before cleaning \n",
    "df_airlines.select([count(when(isnull(c[0]) | col(c[0]).isNull(), c[0])).alias(c[0]) for c in airlines_schema_columns]).show()\n",
    "\n",
    "# Perform data cleaning with trim (column by column)\n",
    "airlines_clean = df_airlines \\\n",
    "        .dropDuplicates([\"index\"]) \\\n",
    "        .withColumn(\"airline\", trim(\"airline\")) \\\n",
    "        .withColumn(\"source_city\", trim(\"source_city\")) \\\n",
    "        .withColumn(\"destination_city\", trim(\"destination_city\")) \\\n",
    "        .filter(col(\"price\").isNotNull())\n",
    "\n",
    "# Simply using dropna()\n",
    "airlines_clean_v2 = df_airlines.dropna()\n",
    "\n",
    "print(f\"number of records after cleaning with trim: {airlines_clean.count()}\")\n",
    "airlines_clean.select([count(when(isnull(c[0]) | col(c[0]).isNull(), c[0])).alias(c[0]) for c in airlines_schema_columns]).show()\n",
    "\n",
    "print(f\"number of records after cleaning with dropna: {airlines_clean_v2.count()}\")\n",
    "airlines_clean_v2.select([count(when(isnull(c[0]) | col(c[0]).isNull(), c[0])).alias(c[0]) for c in airlines_schema_columns]).show()"
   ]
  },
  {
   "cell_type": "markdown",
   "id": "5213dd15-3ccb-48f4-bbb9-c733bef3df41",
   "metadata": {},
   "source": [
    "## Create columns"
   ]
  },
  {
   "cell_type": "code",
   "execution_count": 6,
   "id": "b8309134-aee8-4a5f-851a-6f5019530e2a",
   "metadata": {},
   "outputs": [
    {
     "name": "stdout",
     "output_type": "stream",
     "text": [
      "+-----+--------+-------+-----------+--------------+-----+------------+----------------+-------+--------+---------+-----+-------------+\n",
      "|index| airline| flight|source_city|departure_time|stops|arrival_time|destination_city|  class|duration|days_left|price|stops_numeric|\n",
      "+-----+--------+-------+-----------+--------------+-----+------------+----------------+-------+--------+---------+-----+-------------+\n",
      "|    0|SpiceJet|SG-8709|      Delhi|       Evening| zero|       Night|          Mumbai|Economy|    2.17|        1| 5953|            0|\n",
      "+-----+--------+-------+-----------+--------------+-----+------------+----------------+-------+--------+---------+-----+-------------+\n",
      "only showing top 1 row\n"
     ]
    }
   ],
   "source": [
    "from pyspark.sql.functions import when, lit\n",
    "\n",
    "airlines_t1 = airlines_clean_v2.withColumn(\n",
    "    \"stops_numeric\",\n",
    "    when(airlines_clean_v2.stops == \"zero\", lit(0))\n",
    "    .when(airlines_clean_v2.stops == \"one\", lit(1))\n",
    "    .when(airlines_clean_v2.stops == \"two_or_more\", lit(2))\n",
    ")\n",
    "\n",
    "airlines_t1.show(n=1)\n"
   ]
  },
  {
   "cell_type": "markdown",
   "id": "03e5fa75-a66c-4c65-bc39-8b5fade64a2c",
   "metadata": {},
   "source": [
    "## Create a new column called route"
   ]
  },
  {
   "cell_type": "code",
   "execution_count": 7,
   "id": "3e0c4af6-4f1a-4e9f-9571-328ef095e90b",
   "metadata": {},
   "outputs": [
    {
     "name": "stdout",
     "output_type": "stream",
     "text": [
      "+-----------+----------------+--------------+\n",
      "|source_city|destination_city|         route|\n",
      "+-----------+----------------+--------------+\n",
      "|      Delhi|          Mumbai|Delhi → Mumbai|\n",
      "|      Delhi|          Mumbai|Delhi → Mumbai|\n",
      "|      Delhi|          Mumbai|Delhi → Mumbai|\n",
      "|      Delhi|          Mumbai|Delhi → Mumbai|\n",
      "|      Delhi|          Mumbai|Delhi → Mumbai|\n",
      "+-----------+----------------+--------------+\n",
      "only showing top 5 rows\n"
     ]
    }
   ],
   "source": [
    "from pyspark.sql.functions import concat_ws\n",
    "\n",
    "airlines_t2 = airlines_t1.withColumn(\n",
    "    \"route\",\n",
    "    concat_ws(\" → \", \"source_city\", \"destination_city\")\n",
    ")\n",
    "\n",
    "airlines_t2.select(\"source_city\", \"destination_city\", \"route\").show(5)\n"
   ]
  },
  {
   "cell_type": "markdown",
   "id": "70d23066-92b8-4360-b61e-b6465973e435",
   "metadata": {},
   "source": [
    "## Transform departure_time and arrival_time"
   ]
  },
  {
   "cell_type": "code",
   "execution_count": 8,
   "id": "bddc5070-cc64-4e21-8710-af2ac7c246f6",
   "metadata": {},
   "outputs": [
    {
     "name": "stdout",
     "output_type": "stream",
     "text": [
      "+--------------+--------------+-------------+------------+\n",
      "|departure_time|departure_code| arrival_time|arrival_code|\n",
      "+--------------+--------------+-------------+------------+\n",
      "|       Evening|             3|        Night|           4|\n",
      "| Early_Morning|             0|      Morning|           1|\n",
      "| Early_Morning|             0|Early_Morning|           0|\n",
      "|       Morning|             1|    Afternoon|           2|\n",
      "|       Morning|             1|      Morning|           1|\n",
      "+--------------+--------------+-------------+------------+\n",
      "only showing top 5 rows\n"
     ]
    }
   ],
   "source": [
    "from pyspark.sql.functions import when, col\n",
    "\n",
    "airlines_t3 = airlines_t2.withColumn(\n",
    "    \"departure_code\",\n",
    "    when(col(\"departure_time\") == \"Early_Morning\", 0)\n",
    "    .when(col(\"departure_time\") == \"Morning\", 1)\n",
    "    .when(col(\"departure_time\") == \"Afternoon\", 2)\n",
    "    .when(col(\"departure_time\") == \"Evening\", 3)\n",
    "    .when(col(\"departure_time\") == \"Night\", 4)\n",
    ")\n",
    "\n",
    "airlines_t3 = airlines_t3.withColumn(\n",
    "    \"arrival_code\",\n",
    "    when(col(\"arrival_time\") == \"Early_Morning\", 0)\n",
    "    .when(col(\"arrival_time\") == \"Morning\", 1)\n",
    "    .when(col(\"arrival_time\") == \"Afternoon\", 2)\n",
    "    .when(col(\"arrival_time\") == \"Evening\", 3)\n",
    "    .when(col(\"arrival_time\") == \"Night\", 4)\n",
    ")\n",
    "\n",
    "airlines_t3.select(\"departure_time\", \"departure_code\", \"arrival_time\", \"arrival_code\").show(5)\n"
   ]
  },
  {
   "cell_type": "markdown",
   "id": "c8845cd7-f52a-4733-be52-bad5b669fb56",
   "metadata": {},
   "source": [
    "## Add a new column is_expensive"
   ]
  },
  {
   "cell_type": "code",
   "execution_count": 9,
   "id": "c29795f6-7de1-42b3-931b-6266df923e1b",
   "metadata": {},
   "outputs": [
    {
     "name": "stdout",
     "output_type": "stream",
     "text": [
      "+-----+------------+\n",
      "|price|is_expensive|\n",
      "+-----+------------+\n",
      "| 5953|       false|\n",
      "| 5953|       false|\n",
      "| 5956|       false|\n",
      "| 5955|       false|\n",
      "| 5955|       false|\n",
      "+-----+------------+\n",
      "only showing top 5 rows\n"
     ]
    }
   ],
   "source": [
    "from pyspark.sql.functions import when, col\n",
    "\n",
    "airlines_t4 = airlines_t3.withColumn(\n",
    "    \"is_expensive\",\n",
    "    when(col(\"price\") > 6000, True).otherwise(False)\n",
    ")\n",
    "\n",
    "airlines_t4.select(\"price\", \"is_expensive\").show(5)\n"
   ]
  },
  {
   "cell_type": "markdown",
   "id": "3eb212a0-18a5-45f6-b3cd-5a71e451d824",
   "metadata": {},
   "source": [
    "## PostgreSQL"
   ]
  },
  {
   "cell_type": "code",
   "execution_count": 10,
   "id": "c74f61d6-fd52-4560-b575-ac7c6848a7e7",
   "metadata": {},
   "outputs": [
    {
     "name": "stderr",
     "output_type": "stream",
     "text": [
      "[Stage 29:=============================>                            (1 + 1) / 2]"
     ]
    },
    {
     "name": "stdout",
     "output_type": "stream",
     "text": [
      "DataFrame successfully written into a PosgreSQL DB !\n"
     ]
    },
    {
     "name": "stderr",
     "output_type": "stream",
     "text": [
      "                                                                                "
     ]
    }
   ],
   "source": [
    "jdbc_url = \"jdbc:postgresql://postgres-iteso:5432/postgres\"\n",
    "table_name = \"airlines_transformed\"\n",
    "\n",
    "airlines_t4.write \\\n",
    "    .format(\"jdbc\") \\\n",
    "    .option(\"url\", jdbc_url) \\\n",
    "    .option(\"dbtable\", table_name) \\\n",
    "    .option(\"user\", \"postgres\") \\\n",
    "    .option(\"password\", \"Admin@1234\") \\\n",
    "    .option(\"driver\", \"org.postgresql.Driver\") \\\n",
    "    .mode(\"overwrite\") \\\n",
    "    .save()\n",
    "\n",
    "print(\"DataFrame successfully written into a PosgreSQL DB !\")"
   ]
  },
  {
   "cell_type": "code",
   "execution_count": 11,
   "id": "a40183ef-26a9-49f4-b423-4b496cad75e3",
   "metadata": {},
   "outputs": [
    {
     "name": "stdout",
     "output_type": "stream",
     "text": [
      "root\n",
      " |-- index: integer (nullable = true)\n",
      " |-- airline: string (nullable = true)\n",
      " |-- flight: string (nullable = true)\n",
      " |-- source_city: string (nullable = true)\n",
      " |-- departure_time: string (nullable = true)\n",
      " |-- stops: string (nullable = true)\n",
      " |-- arrival_time: string (nullable = true)\n",
      " |-- destination_city: string (nullable = true)\n",
      " |-- class: string (nullable = true)\n",
      " |-- duration: float (nullable = true)\n",
      " |-- days_left: integer (nullable = true)\n",
      " |-- price: integer (nullable = true)\n",
      " |-- stops_numeric: integer (nullable = true)\n",
      " |-- route: string (nullable = true)\n",
      " |-- departure_code: integer (nullable = true)\n",
      " |-- arrival_code: integer (nullable = true)\n",
      " |-- is_expensive: boolean (nullable = true)\n",
      "\n",
      "+-----+--------+-------+-----------+--------------+-----+-------------+----------------+-------+--------+---------+-----+-------------+--------------+--------------+------------+------------+\n",
      "|index|airline |flight |source_city|departure_time|stops|arrival_time |destination_city|class  |duration|days_left|price|stops_numeric|route         |departure_code|arrival_code|is_expensive|\n",
      "+-----+--------+-------+-----------+--------------+-----+-------------+----------------+-------+--------+---------+-----+-------------+--------------+--------------+------------+------------+\n",
      "|0    |SpiceJet|SG-8709|Delhi      |Evening       |zero |Night        |Mumbai          |Economy|2.17    |1        |5953 |0            |Delhi → Mumbai|3             |4           |false       |\n",
      "|1    |SpiceJet|SG-8157|Delhi      |Early_Morning |zero |Morning      |Mumbai          |Economy|2.33    |1        |5953 |0            |Delhi → Mumbai|0             |1           |false       |\n",
      "|2    |AirAsia |I5-764 |Delhi      |Early_Morning |zero |Early_Morning|Mumbai          |Economy|2.17    |1        |5956 |0            |Delhi → Mumbai|0             |0           |false       |\n",
      "|3    |Vistara |UK-995 |Delhi      |Morning       |zero |Afternoon    |Mumbai          |Economy|2.25    |1        |5955 |0            |Delhi → Mumbai|1             |2           |false       |\n",
      "|4    |Vistara |UK-963 |Delhi      |Morning       |zero |Morning      |Mumbai          |Economy|2.33    |1        |5955 |0            |Delhi → Mumbai|1             |1           |false       |\n",
      "+-----+--------+-------+-----------+--------------+-----+-------------+----------------+-------+--------+---------+-----+-------------+--------------+--------------+------------+------------+\n",
      "only showing top 5 rows\n"
     ]
    }
   ],
   "source": [
    "jdbc_url = \"jdbc:postgresql://postgres-iteso:5432/postgres\"\n",
    "db_properties = {\n",
    "      \"user\": \"postgres\",      \n",
    "      \"password\": \"Admin@1234\",\n",
    "      \"driver\": \"org.postgresql.Driver\"\n",
    "  }\n",
    "\n",
    "df = spark.read \\\n",
    "    .jdbc(url=jdbc_url, table=table_name, properties=db_properties)\n",
    "\n",
    "df.printSchema()\n",
    "df.show(5, truncate=False)"
   ]
  },
  {
   "cell_type": "markdown",
   "id": "8d053417-a0c5-4fae-8e09-2c68d97d31d0",
   "metadata": {},
   "source": [
    "## Get the average price per airline"
   ]
  },
  {
   "cell_type": "code",
   "execution_count": 12,
   "id": "516aecaa-6661-4f0b-8354-6ecb1b58a909",
   "metadata": {},
   "outputs": [
    {
     "name": "stderr",
     "output_type": "stream",
     "text": [
      "[Stage 31:=============================>                            (1 + 1) / 2]"
     ]
    },
    {
     "name": "stdout",
     "output_type": "stream",
     "text": [
      "+---------+------------------+\n",
      "|  airline|         avg_price|\n",
      "+---------+------------------+\n",
      "|   Indigo| 5324.216303339517|\n",
      "| SpiceJet| 6179.278881367218|\n",
      "|Air_India| 23507.01911190229|\n",
      "|  AirAsia|4091.0727419555224|\n",
      "| GO_FIRST| 5652.007595045959|\n",
      "|  Vistara| 30396.53630170735|\n",
      "+---------+------------------+\n",
      "\n"
     ]
    },
    {
     "name": "stderr",
     "output_type": "stream",
     "text": [
      "                                                                                "
     ]
    }
   ],
   "source": [
    "from pyspark.sql.functions import avg, min, max, count\n",
    "\n",
    "airlines_t4.groupBy(\"airline\") \\\n",
    "           .agg(avg(\"price\").alias(\"avg_price\")) \\\n",
    "           .show()\n"
   ]
  },
  {
   "cell_type": "markdown",
   "id": "27428f9f-cc1d-4d39-a0f6-df90be223952",
   "metadata": {},
   "source": [
    "## Average duration per route"
   ]
  },
  {
   "cell_type": "code",
   "execution_count": 13,
   "id": "62393bbc-eba1-4c42-a756-4fc7aa50f7ae",
   "metadata": {},
   "outputs": [
    {
     "name": "stderr",
     "output_type": "stream",
     "text": [
      "[Stage 34:=============================>                            (1 + 1) / 2]"
     ]
    },
    {
     "name": "stdout",
     "output_type": "stream",
     "text": [
      "+--------------------+------------------+\n",
      "|               route|      avg_duration|\n",
      "+--------------------+------------------+\n",
      "|Hyderabad → Banga...| 12.09331678643705|\n",
      "|    Mumbai → Kolkata|12.836848115489666|\n",
      "|    Mumbai → Chennai|12.665900287564627|\n",
      "|  Mumbai → Hyderabad|13.263310412247066|\n",
      "|  Mumbai → Bangalore|11.612022516178817|\n",
      "|   Bangalore → Delhi|  9.77995566082195|\n",
      "| Kolkata → Bangalore| 13.79294687524098|\n",
      "|   Hyderabad → Delhi|10.829816602522587|\n",
      "| Bangalore → Chennai|14.480207509137166|\n",
      "|  Bangalore → Mumbai| 10.90507225639642|\n",
      "|      Mumbai → Delhi|  9.81805726844943|\n",
      "|  Hyderabad → Mumbai|11.962923295795918|\n",
      "|   Kolkata → Chennai|14.774181563782903|\n",
      "| Kolkata → Hyderabad|13.853107514948396|\n",
      "|   Delhi → Bangalore| 10.35412503844018|\n",
      "|      Delhi → Mumbai|10.367774213738123|\n",
      "| Hyderabad → Chennai|13.293238468912078|\n",
      "|Bangalore → Hyder...|14.162432783513621|\n",
      "|     Kolkata → Delhi| 11.60498857561711|\n",
      "|   Delhi → Hyderabad|12.518350118710492|\n",
      "+--------------------+------------------+\n",
      "only showing top 20 rows\n"
     ]
    },
    {
     "name": "stderr",
     "output_type": "stream",
     "text": [
      "                                                                                "
     ]
    }
   ],
   "source": [
    "airlines_t4.groupBy(\"route\") \\\n",
    "           .agg(avg(\"duration\").alias(\"avg_duration\")) \\\n",
    "           .show()\n"
   ]
  },
  {
   "cell_type": "markdown",
   "id": "47bfe9f5-a3f1-46f7-8dae-3a9b03c4b18c",
   "metadata": {},
   "source": [
    "## Minimum and maximum price per airline."
   ]
  },
  {
   "cell_type": "code",
   "execution_count": 14,
   "id": "7b886b2f-c850-4255-a79c-e5ece7be6119",
   "metadata": {},
   "outputs": [
    {
     "name": "stderr",
     "output_type": "stream",
     "text": [
      "[Stage 37:=============================>                            (1 + 1) / 2]"
     ]
    },
    {
     "name": "stdout",
     "output_type": "stream",
     "text": [
      "+---------+---------+---------+\n",
      "|  airline|min_price|max_price|\n",
      "+---------+---------+---------+\n",
      "|   Indigo|     1105|    31952|\n",
      "| SpiceJet|     1106|    34158|\n",
      "|Air_India|     1526|    90970|\n",
      "|  AirAsia|     1105|    31917|\n",
      "| GO_FIRST|     1105|    32803|\n",
      "|  Vistara|     1714|   123071|\n",
      "+---------+---------+---------+\n",
      "\n"
     ]
    },
    {
     "name": "stderr",
     "output_type": "stream",
     "text": [
      "                                                                                "
     ]
    }
   ],
   "source": [
    "airlines_t4.groupBy(\"airline\") \\\n",
    "           .agg(\n",
    "               min(\"price\").alias(\"min_price\"),\n",
    "               max(\"price\").alias(\"max_price\")\n",
    "           ).show()\n"
   ]
  },
  {
   "cell_type": "markdown",
   "id": "9e569956-5a81-48c9-b965-d919afe28846",
   "metadata": {},
   "source": [
    "## Count flights by departure_time category"
   ]
  },
  {
   "cell_type": "code",
   "execution_count": 15,
   "id": "42cf8760-e508-4341-9788-181895d0fff8",
   "metadata": {},
   "outputs": [
    {
     "name": "stderr",
     "output_type": "stream",
     "text": [
      "[Stage 40:=============================>                            (1 + 1) / 2]"
     ]
    },
    {
     "name": "stdout",
     "output_type": "stream",
     "text": [
      "+--------------+-----+\n",
      "|departure_code|count|\n",
      "+--------------+-----+\n",
      "|          NULL| 1306|\n",
      "|             1|71146|\n",
      "|             3|65102|\n",
      "|             4|48015|\n",
      "|             2|47794|\n",
      "|             0|66790|\n",
      "+--------------+-----+\n",
      "\n"
     ]
    },
    {
     "name": "stderr",
     "output_type": "stream",
     "text": [
      "                                                                                "
     ]
    }
   ],
   "source": [
    "airlines_t4.groupBy(\"departure_code\") \\\n",
    "           .count() \\\n",
    "           .show()\n"
   ]
  },
  {
   "cell_type": "code",
   "execution_count": 16,
   "id": "b58f4400-6ee4-47c7-b94f-289ed1a79a23",
   "metadata": {},
   "outputs": [],
   "source": [
    "sc.stop()"
   ]
  }
 ],
 "metadata": {
  "kernelspec": {
   "display_name": "Python 3 (ipykernel)",
   "language": "python",
   "name": "python3"
  },
  "language_info": {
   "codemirror_mode": {
    "name": "ipython",
    "version": 3
   },
   "file_extension": ".py",
   "mimetype": "text/x-python",
   "name": "python",
   "nbconvert_exporter": "python",
   "pygments_lexer": "ipython3",
   "version": "3.10.12"
  }
 },
 "nbformat": 4,
 "nbformat_minor": 5
}
