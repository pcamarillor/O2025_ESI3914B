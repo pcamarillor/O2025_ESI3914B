{
 "cells": [
  {
   "cell_type": "markdown",
   "id": "b92d9622",
   "metadata": {},
   "source": [
    "# <center> <img src=\"../../img/ITESOLogo.png\" alt=\"ITESO\" width=\"480\" height=\"130\"> </center>\n",
    "# <center> **Departamento de Electrónica, Sistemas e Informática** </center>\n",
    "---\n",
    "## <center> Computer Systems Engineering  </center>\n",
    "---\n",
    "### <center> Big Data Processing </center>\n",
    "---\n",
    "#### <center> **Autumn 2025** </center>\n",
    "---\n",
    "\n",
    "**Lab 03**: Data Cleaning and Transformation Pipeline\n",
    "\n",
    "**Date**: September 18th 2025\n",
    "\n",
    "**Student Name**: Luis Roberto Chávez Mancilla\n",
    "\n",
    "**Professor**: Pablo Camarillo Ramirez"
   ]
  },
  {
   "cell_type": "markdown",
   "id": "e90454e6",
   "metadata": {},
   "source": [
    "## Find Spark Installation"
   ]
  },
  {
   "cell_type": "code",
   "execution_count": 180,
   "id": "795fe589",
   "metadata": {},
   "outputs": [],
   "source": [
    "import findspark\n",
    "findspark.init()"
   ]
  },
  {
   "cell_type": "markdown",
   "id": "a7dc1125",
   "metadata": {},
   "source": [
    "## Create SparkSession"
   ]
  },
  {
   "cell_type": "code",
   "execution_count": 181,
   "id": "c95fadeb",
   "metadata": {},
   "outputs": [],
   "source": [
    "from pyspark.sql import SparkSession\n",
    "\n",
    "spark = SparkSession.builder \\\n",
    "    .appName(\"Examples on data sources (Files)\") \\\n",
    "    .master(\"spark://9835fefe4923:7077\") \\\n",
    "    .config(\"spark.ui.port\", \"4040\") \\\n",
    "    .getOrCreate()\n",
    "\n",
    "sc = spark.sparkContext\n",
    "sc.setLogLevel(\"ERROR\")"
   ]
  },
  {
   "cell_type": "markdown",
   "id": "99d5f978",
   "metadata": {},
   "source": [
    "## Define the schema"
   ]
  },
  {
   "cell_type": "code",
   "execution_count": 182,
   "id": "b81aee5b",
   "metadata": {},
   "outputs": [
    {
     "data": {
      "text/plain": [
       "StructType([StructField('index', IntegerType(), True), StructField('airline', StringType(), True), StructField('flight', StringType(), True), StructField('source_city', StringType(), True), StructField('departure_time', StringType(), True), StructField('stops', StringType(), True), StructField('arrival_time', StringType(), True), StructField('destination_city', StringType(), True), StructField('class', StringType(), True), StructField('duration', FloatType(), True), StructField('days_left', IntegerType(), True), StructField('price', IntegerType(), True)])"
      ]
     },
     "execution_count": 182,
     "metadata": {},
     "output_type": "execute_result"
    }
   ],
   "source": [
    "from robertoman.spark_utils import SparkUtils\n",
    "\n",
    "airlines_schema_columns = [\n",
    "    (\"index\", \"int\"),\n",
    "    (\"airline\", \"string\"),\n",
    "    (\"flight\", \"string\"),\n",
    "    (\"source_city\", \"string\"),\n",
    "    (\"departure_time\", \"string\"),\n",
    "    (\"stops\", \"string\"),\n",
    "    (\"arrival_time\", \"string\"),\n",
    "    (\"destination_city\", \"string\"),\n",
    "    (\"class\", \"string\"),\n",
    "    (\"duration\", \"float\"),\n",
    "    (\"days_left\", \"int\"),\n",
    "    (\"price\", \"int\"),\n",
    "]\n",
    "airlines_schema = SparkUtils.generate_schema(airlines_schema_columns)\n",
    "airlines_schema"
   ]
  },
  {
   "cell_type": "markdown",
   "id": "6e02f87f",
   "metadata": {},
   "source": [
    "## Load CSV"
   ]
  },
  {
   "cell_type": "code",
   "execution_count": 183,
   "id": "b638cfa7",
   "metadata": {},
   "outputs": [
    {
     "name": "stderr",
     "output_type": "stream",
     "text": [
      "[Stage 0:>                                                          (0 + 1) / 1]\r"
     ]
    },
    {
     "name": "stdout",
     "output_type": "stream",
     "text": [
      "+-----+--------+-------+-----------+--------------+-----+-------------+----------------+-------+--------+---------+-----+\n",
      "|index| airline| flight|source_city|departure_time|stops| arrival_time|destination_city|  class|duration|days_left|price|\n",
      "+-----+--------+-------+-----------+--------------+-----+-------------+----------------+-------+--------+---------+-----+\n",
      "|    0|SpiceJet|SG-8709|      Delhi|       Evening| zero|        Night|          Mumbai|Economy|    2.17|        1| 5953|\n",
      "|    1|SpiceJet|SG-8157|      Delhi| Early_Morning| zero|      Morning|          Mumbai|Economy|    2.33|        1| 5953|\n",
      "|    2| AirAsia| I5-764|      Delhi| Early_Morning| zero|Early_Morning|          Mumbai|Economy|    2.17|        1| 5956|\n",
      "|    3| Vistara| UK-995|      Delhi|       Morning| zero|    Afternoon|          Mumbai|Economy|    2.25|        1| 5955|\n",
      "|    4| Vistara| UK-963|      Delhi|       Morning| zero|      Morning|          Mumbai|Economy|    2.33|        1| 5955|\n",
      "+-----+--------+-------+-----------+--------------+-----+-------------+----------------+-------+--------+---------+-----+\n",
      "only showing top 5 rows\n"
     ]
    },
    {
     "name": "stderr",
     "output_type": "stream",
     "text": [
      "                                                                                \r"
     ]
    }
   ],
   "source": [
    "df_airlines = (\n",
    "    spark.read.option(\"header\", \"true\")\n",
    "    .schema(airlines_schema)\n",
    "    .csv(\"/opt/spark/work-dir/data/airline/\")\n",
    ")\n",
    "\n",
    "df_airlines.show(n=5)"
   ]
  },
  {
   "cell_type": "markdown",
   "id": "81ab0d11",
   "metadata": {},
   "source": [
    "## Data Cleanning\n",
    "- Drop unnecessary columns. Count how many null values the dataset has before/after the cleaning process."
   ]
  },
  {
   "cell_type": "code",
   "execution_count": 184,
   "id": "05b45f2f",
   "metadata": {},
   "outputs": [
    {
     "name": "stderr",
     "output_type": "stream",
     "text": [
      "[Stage 1:=============================>                             (1 + 1) / 2]\r"
     ]
    },
    {
     "name": "stdout",
     "output_type": "stream",
     "text": [
      "+-----+-------+------+-----------+--------------+-----+------------+----------------+-----+--------+---------+-----+\n",
      "|index|airline|flight|source_city|departure_time|stops|arrival_time|destination_city|class|duration|days_left|price|\n",
      "+-----+-------+------+-----------+--------------+-----+------------+----------------+-----+--------+---------+-----+\n",
      "|    0|      0|     0|          0|             0|    0|           0|               0|    0|       0|        0|    0|\n",
      "+-----+-------+------+-----------+--------------+-----+------------+----------------+-----+--------+---------+-----+\n",
      "\n"
     ]
    },
    {
     "name": "stderr",
     "output_type": "stream",
     "text": [
      "                                                                                \r"
     ]
    }
   ],
   "source": [
    "from pyspark.sql.functions import trim, col, count, isnull, when\n",
    "\n",
    "# Show null values in each column\n",
    "df_airlines.select(\n",
    "    [count(when(col(c).isNull(), c)).alias(c) for c in df_airlines.columns]\n",
    ").show()"
   ]
  },
  {
   "cell_type": "code",
   "execution_count": 185,
   "id": "1f9377b6",
   "metadata": {},
   "outputs": [
    {
     "name": "stderr",
     "output_type": "stream",
     "text": [
      "[Stage 4:=============================>                             (1 + 1) / 2]\r"
     ]
    },
    {
     "name": "stdout",
     "output_type": "stream",
     "text": [
      "Records after cleaning: 300153\n"
     ]
    },
    {
     "name": "stderr",
     "output_type": "stream",
     "text": [
      "                                                                                \r"
     ]
    }
   ],
   "source": [
    "print(f\"Records after cleaning: {df_airlines.count()}\")"
   ]
  },
  {
   "cell_type": "code",
   "execution_count": 186,
   "id": "bb926ea5",
   "metadata": {},
   "outputs": [
    {
     "name": "stderr",
     "output_type": "stream",
     "text": [
      "[Stage 7:=============================>                             (1 + 1) / 2]\r"
     ]
    },
    {
     "name": "stdout",
     "output_type": "stream",
     "text": [
      "Records after cleaning: 300153\n"
     ]
    },
    {
     "name": "stderr",
     "output_type": "stream",
     "text": [
      "                                                                                \r"
     ]
    }
   ],
   "source": [
    "airlines_df_clean = (\n",
    "    df_airlines.dropDuplicates([\"index\"])\n",
    "    .withColumn(\"airline\", trim(\"airline\"))\n",
    "    .withColumn(\"source_city\", trim(\"source_city\"))\n",
    "    .withColumn(\"destination_city\", trim(\"destination_city\"))\n",
    "    .filter(col(\"price\").isNotNull())\n",
    ")\n",
    "airlines_df_clean = df_airlines.dropna()\n",
    "\n",
    "print(f\"Records after cleaning: {df_airlines.count()}\")"
   ]
  },
  {
   "cell_type": "markdown",
   "id": "7bb8f96b",
   "metadata": {},
   "source": [
    "- Normalize categorical values: map “zero” → 0, “one” → 1, etc. in stops."
   ]
  },
  {
   "cell_type": "code",
   "execution_count": 187,
   "id": "a324a2a6",
   "metadata": {},
   "outputs": [
    {
     "name": "stderr",
     "output_type": "stream",
     "text": [
      "                                                                                \r"
     ]
    },
    {
     "name": "stdout",
     "output_type": "stream",
     "text": [
      "+-----------+\n",
      "|      stops|\n",
      "+-----------+\n",
      "|two_or_more|\n",
      "|        one|\n",
      "|       zero|\n",
      "+-----------+\n",
      "\n",
      "+-----+--------+-------+-----------+--------------+-----+-------------+----------------+-------+--------+---------+-----+\n",
      "|index| airline| flight|source_city|departure_time|stops| arrival_time|destination_city|  class|duration|days_left|price|\n",
      "+-----+--------+-------+-----------+--------------+-----+-------------+----------------+-------+--------+---------+-----+\n",
      "|    0|SpiceJet|SG-8709|      Delhi|       Evening|    0|        Night|          Mumbai|Economy|    2.17|        1| 5953|\n",
      "|    1|SpiceJet|SG-8157|      Delhi| Early_Morning|    0|      Morning|          Mumbai|Economy|    2.33|        1| 5953|\n",
      "|    2| AirAsia| I5-764|      Delhi| Early_Morning|    0|Early_Morning|          Mumbai|Economy|    2.17|        1| 5956|\n",
      "|    3| Vistara| UK-995|      Delhi|       Morning|    0|    Afternoon|          Mumbai|Economy|    2.25|        1| 5955|\n",
      "|    4| Vistara| UK-963|      Delhi|       Morning|    0|      Morning|          Mumbai|Economy|    2.33|        1| 5955|\n",
      "|    5| Vistara| UK-945|      Delhi|       Morning|    0|    Afternoon|          Mumbai|Economy|    2.33|        1| 5955|\n",
      "|    6| Vistara| UK-927|      Delhi|       Morning|    0|      Morning|          Mumbai|Economy|    2.08|        1| 6060|\n",
      "+-----+--------+-------+-----------+--------------+-----+-------------+----------------+-------+--------+---------+-----+\n",
      "only showing top 7 rows\n"
     ]
    }
   ],
   "source": [
    "from pyspark.sql.functions import when, col\n",
    "\n",
    "#mostrar los unique values para poder normalizar los valores.\n",
    "airlines_df_clean.select(\"stops\").distinct().show()\n",
    "\n",
    "airline_categorical = airlines_df_clean.withColumn(\n",
    "    \"stops\",\n",
    "    when(col(\"stops\") == \"zero\", 0)\n",
    "    .when(col(\"stops\") == \"one\", 1)\n",
    "    .when(col(\"stops\") == \"two_or_more\", 2),\n",
    ")\n",
    "\n",
    "airline_categorical.show(n=7)"
   ]
  },
  {
   "cell_type": "markdown",
   "id": "97472e2b",
   "metadata": {},
   "source": [
    "- Create a new column called route: “Delhi → Mumbai” from source_city and destination_city."
   ]
  },
  {
   "cell_type": "code",
   "execution_count": 188,
   "id": "0f7da2b7",
   "metadata": {},
   "outputs": [
    {
     "name": "stdout",
     "output_type": "stream",
     "text": [
      "+-----+--------+-------+-----------+--------------+-----+-------------+----------------+-------+--------+---------+-----+--------------+\n",
      "|index|airline |flight |source_city|departure_time|stops|arrival_time |destination_city|class  |duration|days_left|price|route         |\n",
      "+-----+--------+-------+-----------+--------------+-----+-------------+----------------+-------+--------+---------+-----+--------------+\n",
      "|0    |SpiceJet|SG-8709|Delhi      |Evening       |zero |Night        |Mumbai          |Economy|2.17    |1        |5953 |Delhi → Mumbai|\n",
      "|1    |SpiceJet|SG-8157|Delhi      |Early_Morning |zero |Morning      |Mumbai          |Economy|2.33    |1        |5953 |Delhi → Mumbai|\n",
      "|2    |AirAsia |I5-764 |Delhi      |Early_Morning |zero |Early_Morning|Mumbai          |Economy|2.17    |1        |5956 |Delhi → Mumbai|\n",
      "|3    |Vistara |UK-995 |Delhi      |Morning       |zero |Afternoon    |Mumbai          |Economy|2.25    |1        |5955 |Delhi → Mumbai|\n",
      "|4    |Vistara |UK-963 |Delhi      |Morning       |zero |Morning      |Mumbai          |Economy|2.33    |1        |5955 |Delhi → Mumbai|\n",
      "|5    |Vistara |UK-945 |Delhi      |Morning       |zero |Afternoon    |Mumbai          |Economy|2.33    |1        |5955 |Delhi → Mumbai|\n",
      "|6    |Vistara |UK-927 |Delhi      |Morning       |zero |Morning      |Mumbai          |Economy|2.08    |1        |6060 |Delhi → Mumbai|\n",
      "|7    |Vistara |UK-951 |Delhi      |Afternoon     |zero |Evening      |Mumbai          |Economy|2.17    |1        |6060 |Delhi → Mumbai|\n",
      "|8    |GO_FIRST|G8-334 |Delhi      |Early_Morning |zero |Morning      |Mumbai          |Economy|2.17    |1        |5954 |Delhi → Mumbai|\n",
      "|9    |GO_FIRST|G8-336 |Delhi      |Afternoon     |zero |Evening      |Mumbai          |Economy|2.25    |1        |5954 |Delhi → Mumbai|\n",
      "+-----+--------+-------+-----------+--------------+-----+-------------+----------------+-------+--------+---------+-----+--------------+\n",
      "only showing top 10 rows\n"
     ]
    }
   ],
   "source": [
    "from pyspark.sql.functions import concat_ws\n",
    "\n",
    "airline_routes = airlines_df_clean.withColumn(\n",
    "    \"route\", concat_ws(\" → \", col(\"source_city\"), col(\"destination_city\"))\n",
    ")\n",
    "\n",
    "airline_routes.show(n=10, truncate=False)"
   ]
  },
  {
   "cell_type": "markdown",
   "id": "62420bf2",
   "metadata": {},
   "source": [
    "- Transform departure_time and arrival_time to numerical categories (Morning, Afternoon, etc.), then encode as numbers (0=Early_Morning, 1=Morning, etc.)."
   ]
  },
  {
   "cell_type": "code",
   "execution_count": 189,
   "metadata": {},
   "outputs": [
    {
     "name": "stderr",
     "output_type": "stream",
     "text": [
      "                                                                                \r"
     ]
    },
    {
     "name": "stdout",
     "output_type": "stream",
     "text": [
      "+--------------+\n",
      "|departure_time|\n",
      "+--------------+\n",
      "|       Evening|\n",
      "|       Morning|\n",
      "|    Late_Night|\n",
      "|     Afternoon|\n",
      "| Early_Morning|\n",
      "|         Night|\n",
      "+--------------+\n",
      "\n"
     ]
    },
    {
     "name": "stderr",
     "output_type": "stream",
     "text": [
      "[Stage 18:=============================>                            (1 + 1) / 2]\r"
     ]
    },
    {
     "name": "stdout",
     "output_type": "stream",
     "text": [
      "+-------------+\n",
      "| arrival_time|\n",
      "+-------------+\n",
      "|      Evening|\n",
      "|      Morning|\n",
      "|   Late_Night|\n",
      "|    Afternoon|\n",
      "|Early_Morning|\n",
      "|        Night|\n",
      "+-------------+\n",
      "\n"
     ]
    },
    {
     "name": "stderr",
     "output_type": "stream",
     "text": [
      "                                                                                \r"
     ]
    }
   ],
   "source": [
    "# ver los distintos\n",
    "airlines_df_clean.select(\"departure_time\").distinct().show()\n",
    "airlines_df_clean.select(\"arrival_time\").distinct().show()"
   ]
  },
  {
   "cell_type": "code",
   "execution_count": 190,
   "id": "58cd0f09",
   "metadata": {},
   "outputs": [
    {
     "name": "stdout",
     "output_type": "stream",
     "text": [
      "+-----+--------+-------+-----------+--------------+-----+------------+----------------+-------+--------+---------+-----+\n",
      "|index| airline| flight|source_city|departure_time|stops|arrival_time|destination_city|  class|duration|days_left|price|\n",
      "+-----+--------+-------+-----------+--------------+-----+------------+----------------+-------+--------+---------+-----+\n",
      "|    0|SpiceJet|SG-8709|      Delhi|             3| zero|           3|          Mumbai|Economy|    2.17|        1| 5953|\n",
      "|    1|SpiceJet|SG-8157|      Delhi|             0| zero|           1|          Mumbai|Economy|    2.33|        1| 5953|\n",
      "|    2| AirAsia| I5-764|      Delhi|             0| zero|           0|          Mumbai|Economy|    2.17|        1| 5956|\n",
      "|    3| Vistara| UK-995|      Delhi|             1| zero|           2|          Mumbai|Economy|    2.25|        1| 5955|\n",
      "|    4| Vistara| UK-963|      Delhi|             1| zero|           1|          Mumbai|Economy|    2.33|        1| 5955|\n",
      "|    5| Vistara| UK-945|      Delhi|             1| zero|           2|          Mumbai|Economy|    2.33|        1| 5955|\n",
      "|    6| Vistara| UK-927|      Delhi|             1| zero|           1|          Mumbai|Economy|    2.08|        1| 6060|\n",
      "|    7| Vistara| UK-951|      Delhi|             2| zero|           3|          Mumbai|Economy|    2.17|        1| 6060|\n",
      "|    8|GO_FIRST| G8-334|      Delhi|             0| zero|           1|          Mumbai|Economy|    2.17|        1| 5954|\n",
      "|    9|GO_FIRST| G8-336|      Delhi|             2| zero|           3|          Mumbai|Economy|    2.25|        1| 5954|\n",
      "+-----+--------+-------+-----------+--------------+-----+------------+----------------+-------+--------+---------+-----+\n",
      "only showing top 10 rows\n"
     ]
    }
   ],
   "source": [
    "airlines_df_clean = airlines_df_clean.withColumn(\"departure_time\", \n",
    "    when(col(\"departure_time\") == \"Early_Morning\", 0)\n",
    "    .when(col(\"departure_time\") == \"Morning\", 1)\n",
    "    .when(col(\"departure_time\") == \"Afternoon\", 2)\n",
    "    .otherwise(3)\n",
    ")\n",
    "\n",
    "airlines_df_clean = airlines_df_clean.withColumn(\"arrival_time\", \n",
    "    when(col(\"arrival_time\") == \"Early_Morning\", 0)\n",
    "    .when(col(\"arrival_time\") == \"Morning\", 1)\n",
    "    .when(col(\"arrival_time\") == \"Afternoon\", 2)\n",
    "    .otherwise(3)\n",
    ")\n",
    "\n",
    "airlines_df_clean.show(n=10)"
   ]
  },
  {
   "cell_type": "markdown",
   "id": "4f0dd67a",
   "metadata": {},
   "source": [
    "- Add a new column is_expensive: when(price > 6000, True).otherwise(False)."
   ]
  },
  {
   "cell_type": "code",
   "execution_count": 191,
   "id": "b2a449e0",
   "metadata": {},
   "outputs": [
    {
     "name": "stdout",
     "output_type": "stream",
     "text": [
      "+-----+--------+-----+------------+\n",
      "|index|airline |price|is_expensive|\n",
      "+-----+--------+-----+------------+\n",
      "|0    |SpiceJet|5953 |false       |\n",
      "|1    |SpiceJet|5953 |false       |\n",
      "|2    |AirAsia |5956 |false       |\n",
      "|3    |Vistara |5955 |false       |\n",
      "|4    |Vistara |5955 |false       |\n",
      "|5    |Vistara |5955 |false       |\n",
      "|6    |Vistara |6060 |true        |\n",
      "|7    |Vistara |6060 |true        |\n",
      "|8    |GO_FIRST|5954 |false       |\n",
      "|9    |GO_FIRST|5954 |false       |\n",
      "+-----+--------+-----+------------+\n",
      "only showing top 10 rows\n"
     ]
    }
   ],
   "source": [
    "\n",
    "airlines_is_expensive = airlines_df_clean.withColumn(\n",
    "    \"is_expensive\",\n",
    "    when(col(\"price\") > 6000, True).otherwise(False)\n",
    ")\n",
    "\n",
    "airlines_is_expensive.select(\"index\",\"airline\",\"price\", \"is_expensive\").show(10, truncate=False)\n"
   ]
  },
  {
   "cell_type": "markdown",
   "id": "eb26c92a",
   "metadata": {},
   "source": [
    "- Get the average price per airline."
   ]
  },
  {
   "cell_type": "code",
   "execution_count": 192,
   "id": "3ed273bc",
   "metadata": {},
   "outputs": [
    {
     "name": "stderr",
     "output_type": "stream",
     "text": [
      "[Stage 23:=============================>                            (1 + 1) / 2]\r"
     ]
    },
    {
     "name": "stdout",
     "output_type": "stream",
     "text": [
      "+---------+------------------+\n",
      "|airline  |avg_price         |\n",
      "+---------+------------------+\n",
      "|Indigo   |5324.216303339517 |\n",
      "|SpiceJet |6179.278881367218 |\n",
      "|Air_India|23507.01911190229 |\n",
      "|AirAsia  |4091.0727419555224|\n",
      "|GO_FIRST |5652.007595045959 |\n",
      "|Vistara  |30396.53630170735 |\n",
      "+---------+------------------+\n",
      "\n"
     ]
    },
    {
     "name": "stderr",
     "output_type": "stream",
     "text": [
      "                                                                                \r"
     ]
    }
   ],
   "source": [
    "from pyspark.sql.functions import avg\n",
    "\n",
    "airlines_df_clean.groupBy(\"airline\").agg(\n",
    "    avg(\"price\").alias(\"avg_price\")\n",
    ").show(truncate=False)\n"
   ]
  },
  {
   "cell_type": "markdown",
   "id": "86d8da5a",
   "metadata": {},
   "source": [
    "- Average duration per route."
   ]
  },
  {
   "cell_type": "code",
   "execution_count": 193,
   "id": "44bc3c97",
   "metadata": {},
   "outputs": [
    {
     "name": "stderr",
     "output_type": "stream",
     "text": [
      "[Stage 26:=============================>                            (1 + 1) / 2]\r"
     ]
    },
    {
     "name": "stdout",
     "output_type": "stream",
     "text": [
      "+---------------------+------------------+\n",
      "|route                |avg_duration      |\n",
      "+---------------------+------------------+\n",
      "|Kolkata → Chennai    |14.774181563782903|\n",
      "|Chennai → Kolkata    |14.515774035955694|\n",
      "|Bangalore → Chennai  |14.480207509137166|\n",
      "|Bangalore → Hyderabad|14.162432783513621|\n",
      "|Chennai → Bangalore  |13.952593563812163|\n",
      "|Kolkata → Hyderabad  |13.853107514948396|\n",
      "|Kolkata → Bangalore  |13.79294687524098 |\n",
      "|Hyderabad → Kolkata  |13.535322410033165|\n",
      "|Hyderabad → Chennai  |13.293238468912078|\n",
      "|Mumbai → Hyderabad   |13.263310412247066|\n",
      "|Chennai → Hyderabad  |13.153984931732971|\n",
      "|Bangalore → Kolkata  |13.099143404859825|\n",
      "|Kolkata → Mumbai     |12.991932481150478|\n",
      "|Mumbai → Kolkata     |12.836848115489666|\n",
      "|Delhi → Kolkata      |12.73596614766045 |\n",
      "|Mumbai → Chennai     |12.665900287564627|\n",
      "|Delhi → Hyderabad    |12.518350118710492|\n",
      "|Delhi → Chennai      |12.433964745763944|\n",
      "|Chennai → Mumbai     |12.374656244132625|\n",
      "|Hyderabad → Bangalore|12.09331678643705 |\n",
      "+---------------------+------------------+\n",
      "only showing top 20 rows\n"
     ]
    },
    {
     "name": "stderr",
     "output_type": "stream",
     "text": [
      "                                                                                \r"
     ]
    }
   ],
   "source": [
    "airline_routes.groupBy(\"route\").agg(avg(\"duration\").alias(\"avg_duration\")).orderBy(\n",
    "    col(\"avg_duration\").desc()\n",
    ").show(truncate=False)"
   ]
  },
  {
   "cell_type": "markdown",
   "id": "203960cb",
   "metadata": {},
   "source": [
    "- Minimum and maximum price per airline."
   ]
  },
  {
   "cell_type": "code",
   "execution_count": 194,
   "id": "79d7bbca",
   "metadata": {},
   "outputs": [
    {
     "name": "stderr",
     "output_type": "stream",
     "text": [
      "[Stage 29:=============================>                            (1 + 1) / 2]\r"
     ]
    },
    {
     "name": "stdout",
     "output_type": "stream",
     "text": [
      "+---------+---------+---------+\n",
      "|airline  |min_price|max_price|\n",
      "+---------+---------+---------+\n",
      "|Indigo   |1105     |31952    |\n",
      "|SpiceJet |1106     |34158    |\n",
      "|Air_India|1526     |90970    |\n",
      "|AirAsia  |1105     |31917    |\n",
      "|GO_FIRST |1105     |32803    |\n",
      "|Vistara  |1714     |123071   |\n",
      "+---------+---------+---------+\n",
      "\n"
     ]
    },
    {
     "name": "stderr",
     "output_type": "stream",
     "text": [
      "                                                                                \r"
     ]
    }
   ],
   "source": [
    "from pyspark.sql.functions import min, max\n",
    "\n",
    "airlines_df_clean.groupBy(\"airline\").agg(\n",
    "    min(\"price\").alias(\"min_price\"),\n",
    "    max(\"price\").alias(\"max_price\")\n",
    ").show(truncate=False)\n"
   ]
  },
  {
   "cell_type": "markdown",
   "id": "31e42025",
   "metadata": {},
   "source": [
    "- Count flights by departure_time category."
   ]
  },
  {
   "cell_type": "code",
   "execution_count": 195,
   "id": "ad427a7e",
   "metadata": {},
   "outputs": [
    {
     "name": "stderr",
     "output_type": "stream",
     "text": [
      "[Stage 32:=============================>                            (1 + 1) / 2]\r"
     ]
    },
    {
     "name": "stdout",
     "output_type": "stream",
     "text": [
      "+--------------+-----+\n",
      "|departure_time|count|\n",
      "+--------------+-----+\n",
      "|Evening       |65102|\n",
      "|Morning       |71146|\n",
      "|Late_Night    |1306 |\n",
      "|Afternoon     |47794|\n",
      "|Early_Morning |66790|\n",
      "|Night         |48015|\n",
      "+--------------+-----+\n",
      "\n"
     ]
    },
    {
     "name": "stderr",
     "output_type": "stream",
     "text": [
      "                                                                                \r"
     ]
    }
   ],
   "source": [
    "df_airlines.groupBy(\"departure_time\").count().show(truncate=False)"
   ]
  },
  {
   "cell_type": "markdown",
   "id": "5cf44882",
   "metadata": {},
   "source": [
    "## Stop"
   ]
  },
  {
   "cell_type": "code",
   "execution_count": 196,
   "id": "bdbdeceb",
   "metadata": {},
   "outputs": [],
   "source": [
    "sc.stop()"
   ]
  }
 ],
 "metadata": {
  "kernelspec": {
   "display_name": "Python 3 (ipykernel)",
   "language": "python",
   "name": "python3"
  },
  "language_info": {
   "codemirror_mode": {
    "name": "ipython",
    "version": 3
   },
   "file_extension": ".py",
   "mimetype": "text/x-python",
   "name": "python",
   "nbconvert_exporter": "python",
   "pygments_lexer": "ipython3",
   "version": "3.10.12"
  }
 },
 "nbformat": 4,
 "nbformat_minor": 5
}
