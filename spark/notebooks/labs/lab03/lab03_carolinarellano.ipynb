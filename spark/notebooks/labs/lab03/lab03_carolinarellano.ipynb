{
 "cells": [
  {
   "cell_type": "markdown",
   "id": "87c2727f",
   "metadata": {},
   "source": [
    "# <center> <img src=\"../../img/ITESOLogo.png\" alt=\"ITESO\" width=\"480\" height=\"130\"> </center>\n",
    "# <center> **Departamento de Electrónica, Sistemas e Informática** </center>\n",
    "---\n",
    "## <center> Computer Systems Engineering  </center>\n",
    "---\n",
    "### <center> Big Data Processing </center>\n",
    "---\n",
    "#### <center> **Autumn 2025** </center>\n",
    "---\n",
    "\n",
    "**Lab 03**: Data Cleaning and Transformation Pipeline\n",
    "\n",
    "**Date**: September 18th 2025\n",
    "\n",
    "**Student Name**: Ana Carolina Arellano Valdez\n",
    "\n",
    "**Professor**: Pablo Camarillo Ramirez"
   ]
  },
  {
   "cell_type": "code",
   "execution_count": 3,
   "id": "8c773abd",
   "metadata": {},
   "outputs": [],
   "source": [
    "import findspark\n",
    "findspark.init()"
   ]
  },
  {
   "cell_type": "code",
   "execution_count": 4,
   "id": "f179b39a",
   "metadata": {},
   "outputs": [],
   "source": [
    "from pyspark.sql import SparkSession\n",
    "\n",
    "spark = SparkSession.builder \\\n",
    "    .appName(\"Lab 03: Data Cleaning and Transformation Pipeline\") \\\n",
    "    .master(\"spark://2b8212f158e8:7077\") \\\n",
    "    .config(\"spark.ui.port\", \"4040\") \\\n",
    "    .getOrCreate()\n",
    "\n",
    "sc = spark.sparkContext\n",
    "sc.setLogLevel(\"ERROR\")"
   ]
  },
  {
   "cell_type": "markdown",
   "id": "13d60944",
   "metadata": {},
   "source": [
    "### Delete unnecessary columns"
   ]
  },
  {
   "cell_type": "code",
   "execution_count": null,
   "id": "dd733fc8",
   "metadata": {},
   "outputs": [],
   "source": []
  },
  {
   "cell_type": "markdown",
   "id": "0e332b99",
   "metadata": {},
   "source": [
    "### Normalize categorical values: map “zero” → 0, “one” → 1, etc. in stops"
   ]
  },
  {
   "cell_type": "code",
   "execution_count": null,
   "id": "b401dbda",
   "metadata": {},
   "outputs": [],
   "source": []
  },
  {
   "cell_type": "markdown",
   "id": "0723298d",
   "metadata": {},
   "source": [
    "### Create a new column called route: “Delhi → Mumbai” from source_city and destination_city"
   ]
  },
  {
   "cell_type": "code",
   "execution_count": null,
   "id": "d675d900",
   "metadata": {},
   "outputs": [],
   "source": []
  },
  {
   "cell_type": "markdown",
   "id": "c0de90f4",
   "metadata": {},
   "source": [
    "### Transform departure_time and arrival_time to numerical categories (Morning, Afternoon, etc.), then encode as numbers (0=Early_Morning, 1=Morning, etc.)"
   ]
  },
  {
   "cell_type": "code",
   "execution_count": null,
   "id": "4e6454f6",
   "metadata": {},
   "outputs": [],
   "source": []
  },
  {
   "cell_type": "markdown",
   "id": "fcc5ee69",
   "metadata": {},
   "source": [
    "### Add a new column is_expensive: when(price > 6000, True).otherwise(False)"
   ]
  },
  {
   "cell_type": "code",
   "execution_count": null,
   "id": "64e566ee",
   "metadata": {},
   "outputs": [],
   "source": []
  },
  {
   "cell_type": "markdown",
   "id": "0bf255eb",
   "metadata": {},
   "source": [
    "### Get the average price per airline"
   ]
  },
  {
   "cell_type": "code",
   "execution_count": null,
   "id": "c11d8678",
   "metadata": {},
   "outputs": [],
   "source": []
  },
  {
   "cell_type": "markdown",
   "id": "15318fa2",
   "metadata": {},
   "source": [
    "### Average price per route"
   ]
  },
  {
   "cell_type": "code",
   "execution_count": null,
   "id": "8da18f52",
   "metadata": {},
   "outputs": [],
   "source": []
  },
  {
   "cell_type": "markdown",
   "id": "6df4306c",
   "metadata": {},
   "source": [
    "### Minimum and maximum price per airline"
   ]
  },
  {
   "cell_type": "code",
   "execution_count": null,
   "id": "c413d62a",
   "metadata": {},
   "outputs": [],
   "source": []
  },
  {
   "cell_type": "markdown",
   "id": "d11612a0",
   "metadata": {},
   "source": [
    "### Count flights by departure_time category"
   ]
  },
  {
   "cell_type": "code",
   "execution_count": null,
   "id": "1a7141f7",
   "metadata": {},
   "outputs": [],
   "source": []
  }
 ],
 "metadata": {
  "kernelspec": {
   "display_name": "Python 3 (ipykernel)",
   "language": "python",
   "name": "python3"
  },
  "language_info": {
   "codemirror_mode": {
    "name": "ipython",
    "version": 3
   },
   "file_extension": ".py",
   "mimetype": "text/x-python",
   "name": "python",
   "nbconvert_exporter": "python",
   "pygments_lexer": "ipython3",
   "version": "3.10.12"
  }
 },
 "nbformat": 4,
 "nbformat_minor": 5
}
