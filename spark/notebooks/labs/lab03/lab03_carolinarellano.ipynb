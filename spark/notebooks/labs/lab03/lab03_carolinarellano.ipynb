{
 "cells": [
  {
   "cell_type": "markdown",
   "id": "87c2727f",
   "metadata": {},
   "source": [
    "# <center> <img src=\"../../img/ITESOLogo.png\" alt=\"ITESO\" width=\"480\" height=\"130\"> </center>\n",
    "# <center> **Departamento de Electrónica, Sistemas e Informática** </center>\n",
    "---\n",
    "## <center> Computer Systems Engineering  </center>\n",
    "---\n",
    "### <center> Big Data Processing </center>\n",
    "---\n",
    "#### <center> **Autumn 2025** </center>\n",
    "---\n",
    "\n",
    "**Lab 03**: Data Cleaning and Transformation Pipeline\n",
    "\n",
    "**Date**: September 18th 2025\n",
    "\n",
    "**Student Name**: Ana Carolina Arellano Valdez\n",
    "\n",
    "**Professor**: Pablo Camarillo Ramirez"
   ]
  },
  {
   "cell_type": "code",
   "execution_count": 46,
   "id": "8c773abd",
   "metadata": {},
   "outputs": [],
   "source": [
    "import findspark\n",
    "findspark.init()"
   ]
  },
  {
   "cell_type": "code",
   "execution_count": 47,
   "id": "f179b39a",
   "metadata": {},
   "outputs": [],
   "source": [
    "from pyspark.sql import SparkSession\n",
    "\n",
    "spark = SparkSession.builder \\\n",
    "    .appName(\"Lab 03: Data Cleaning and Transformation Pipeline\") \\\n",
    "    .master(\"spark://2b8212f158e8:7077\") \\\n",
    "    .config(\"spark.ui.port\", \"4040\") \\\n",
    "    .getOrCreate()\n",
    "\n",
    "sc = spark.sparkContext\n",
    "sc.setLogLevel(\"ERROR\")"
   ]
  },
  {
   "cell_type": "code",
   "execution_count": 48,
   "id": "4bf6a391",
   "metadata": {},
   "outputs": [
    {
     "data": {
      "text/plain": [
       "StructType([StructField('index', IntegerType(), True), StructField('airline', StringType(), True), StructField('flight', StringType(), True), StructField('source_city', StringType(), True), StructField('departure_time', StringType(), True), StructField('stops', StringType(), True), StructField('arrival_time', StringType(), True), StructField('destination_city', StringType(), True), StructField('class', StringType(), True), StructField('duration', FloatType(), True), StructField('days_left', IntegerType(), True), StructField('price', IntegerType(), True)])"
      ]
     },
     "execution_count": 48,
     "metadata": {},
     "output_type": "execute_result"
    }
   ],
   "source": [
    "from carolinarellano.spark_utils import SparkUtils\n",
    "airlines_schema_columns = [(\"index\", \"int\"), \n",
    "     (\"airline\", \"string\"), \n",
    "     (\"flight\", \"string\"),\n",
    "     (\"source_city\", \"string\"),\n",
    "     (\"departure_time\", \"string\"),\n",
    "     (\"stops\", \"string\"),\n",
    "     (\"arrival_time\", \"string\"),\n",
    "     (\"destination_city\", \"string\"),\n",
    "     (\"class\", \"string\"),\n",
    "     (\"duration\", \"float\"),\n",
    "     (\"days_left\", \"int\"),\n",
    "     (\"price\", \"int\")\n",
    "     ]\n",
    "airlines_schema = SparkUtils.generate_schema(airlines_schema_columns)\n",
    "airlines_schema"
   ]
  },
  {
   "cell_type": "code",
   "execution_count": 49,
   "id": "bd637154",
   "metadata": {},
   "outputs": [
    {
     "name": "stdout",
     "output_type": "stream",
     "text": [
      "+-----+--------+-------+-----------+--------------+-----+-------------+----------------+-------+--------+---------+-----+\n",
      "|index| airline| flight|source_city|departure_time|stops| arrival_time|destination_city|  class|duration|days_left|price|\n",
      "+-----+--------+-------+-----------+--------------+-----+-------------+----------------+-------+--------+---------+-----+\n",
      "|    0|SpiceJet|SG-8709|      Delhi|       Evening| zero|        Night|          Mumbai|Economy|    2.17|        1| 5953|\n",
      "|    1|SpiceJet|SG-8157|      Delhi| Early_Morning| zero|      Morning|          Mumbai|Economy|    2.33|        1| 5953|\n",
      "|    2| AirAsia| I5-764|      Delhi| Early_Morning| zero|Early_Morning|          Mumbai|Economy|    2.17|        1| 5956|\n",
      "|    3| Vistara| UK-995|      Delhi|       Morning| zero|    Afternoon|          Mumbai|Economy|    2.25|        1| 5955|\n",
      "|    4| Vistara| UK-963|      Delhi|       Morning| zero|      Morning|          Mumbai|Economy|    2.33|        1| 5955|\n",
      "|    5| Vistara| UK-945|      Delhi|       Morning| zero|    Afternoon|          Mumbai|Economy|    2.33|        1| 5955|\n",
      "|    6| Vistara| UK-927|      Delhi|       Morning| zero|      Morning|          Mumbai|Economy|    2.08|        1| 6060|\n",
      "+-----+--------+-------+-----------+--------------+-----+-------------+----------------+-------+--------+---------+-----+\n",
      "only showing top 7 rows\n"
     ]
    },
    {
     "name": "stderr",
     "output_type": "stream",
     "text": [
      "                                                                                \r"
     ]
    }
   ],
   "source": [
    "df_airlines = spark.read \\\n",
    "                .option(\"header\", \"true\") \\\n",
    "                .schema(airlines_schema) \\\n",
    "                .csv(\"/opt/spark/work-dir/data/airline/\")\n",
    "\n",
    "df_airlines.show(n=7)"
   ]
  },
  {
   "cell_type": "code",
   "execution_count": 50,
   "id": "1d15f65e",
   "metadata": {},
   "outputs": [
    {
     "name": "stderr",
     "output_type": "stream",
     "text": [
      "                                                                                \r"
     ]
    },
    {
     "name": "stdout",
     "output_type": "stream",
     "text": [
      "number of records before cleaning: 300153\n"
     ]
    },
    {
     "name": "stderr",
     "output_type": "stream",
     "text": [
      "                                                                                \r"
     ]
    },
    {
     "name": "stdout",
     "output_type": "stream",
     "text": [
      "+-----+-------+------+-----------+--------------+-----+------------+----------------+-----+--------+---------+-----+\n",
      "|index|airline|flight|source_city|departure_time|stops|arrival_time|destination_city|class|duration|days_left|price|\n",
      "+-----+-------+------+-----------+--------------+-----+------------+----------------+-----+--------+---------+-----+\n",
      "|    0|      0|     0|          0|             0|    0|           0|               0|    0|       0|        0|    0|\n",
      "+-----+-------+------+-----------+--------------+-----+------------+----------------+-----+--------+---------+-----+\n",
      "\n"
     ]
    },
    {
     "name": "stderr",
     "output_type": "stream",
     "text": [
      "                                                                                \r"
     ]
    },
    {
     "name": "stdout",
     "output_type": "stream",
     "text": [
      "number of records after cleaning with trim: 300153\n"
     ]
    },
    {
     "name": "stderr",
     "output_type": "stream",
     "text": [
      "                                                                                \r"
     ]
    },
    {
     "name": "stdout",
     "output_type": "stream",
     "text": [
      "+-----+-------+------+-----------+--------------+-----+------------+----------------+-----+--------+---------+-----+\n",
      "|index|airline|flight|source_city|departure_time|stops|arrival_time|destination_city|class|duration|days_left|price|\n",
      "+-----+-------+------+-----------+--------------+-----+------------+----------------+-----+--------+---------+-----+\n",
      "|    0|      0|     0|          0|             0|    0|           0|               0|    0|       0|        0|    0|\n",
      "+-----+-------+------+-----------+--------------+-----+------------+----------------+-----+--------+---------+-----+\n",
      "\n"
     ]
    },
    {
     "name": "stderr",
     "output_type": "stream",
     "text": [
      "                                                                                \r"
     ]
    },
    {
     "name": "stdout",
     "output_type": "stream",
     "text": [
      "number of records after cleaning with dropna: 300153\n"
     ]
    },
    {
     "name": "stderr",
     "output_type": "stream",
     "text": [
      "[Stage 228:============================>                            (1 + 1) / 2]\r"
     ]
    },
    {
     "name": "stdout",
     "output_type": "stream",
     "text": [
      "+-----+-------+------+-----------+--------------+-----+------------+----------------+-----+--------+---------+-----+\n",
      "|index|airline|flight|source_city|departure_time|stops|arrival_time|destination_city|class|duration|days_left|price|\n",
      "+-----+-------+------+-----------+--------------+-----+------------+----------------+-----+--------+---------+-----+\n",
      "|    0|      0|     0|          0|             0|    0|           0|               0|    0|       0|        0|    0|\n",
      "+-----+-------+------+-----------+--------------+-----+------------+----------------+-----+--------+---------+-----+\n",
      "\n"
     ]
    },
    {
     "name": "stderr",
     "output_type": "stream",
     "text": [
      "                                                                                \r"
     ]
    }
   ],
   "source": [
    "from pyspark.sql.functions import trim, col, count, isnull, when\n",
    "print(f\"number of records before cleaning: {df_airlines.count()}\")\n",
    "# Get number of null values for each column before cleaning \n",
    "df_airlines.select([count(when(isnull(c[0]) | col(c[0]).isNull(), c[0])).alias(c[0]) for c in airlines_schema_columns]).show()\n",
    "\n",
    "# Perform data cleaning with trim (column by column)\n",
    "airlines_clean = df_airlines \\\n",
    "        .dropDuplicates([\"index\"]) \\\n",
    "        .withColumn(\"airline\", trim(\"airline\")) \\\n",
    "        .withColumn(\"source_city\", trim(\"source_city\")) \\\n",
    "        .withColumn(\"destination_city\", trim(\"destination_city\")) \\\n",
    "        .filter(col(\"price\").isNotNull())\n",
    "\n",
    "# Simply using dropna()\n",
    "airlines_clean_v2 = df_airlines.dropna()\n",
    "\n",
    "print(f\"number of records after cleaning with trim: {airlines_clean.count()}\")\n",
    "airlines_clean.select([count(when(isnull(c[0]) | col(c[0]).isNull(), c[0])).alias(c[0]) for c in airlines_schema_columns]).show()\n",
    "\n",
    "print(f\"number of records after cleaning with dropna: {airlines_clean_v2.count()}\")\n",
    "airlines_clean_v2.select([count(when(isnull(c[0]) | col(c[0]).isNull(), c[0])).alias(c[0]) for c in airlines_schema_columns]).show()"
   ]
  },
  {
   "cell_type": "markdown",
   "id": "13d60944",
   "metadata": {},
   "source": [
    "### Delete unnecessary columns"
   ]
  },
  {
   "cell_type": "code",
   "execution_count": 56,
   "id": "dd733fc8",
   "metadata": {},
   "outputs": [
    {
     "name": "stderr",
     "output_type": "stream",
     "text": [
      "[Stage 249:============================>                            (1 + 1) / 2]\r"
     ]
    },
    {
     "name": "stdout",
     "output_type": "stream",
     "text": [
      "+--------+-----------+----------------+-------+--------+-----+-----+--------------+------------+\n",
      "| airline|source_city|destination_city|  class|duration|price|stops|departure_time|arrival_time|\n",
      "+--------+-----------+----------------+-------+--------+-----+-----+--------------+------------+\n",
      "|SpiceJet|      Delhi|          Mumbai|Economy|    2.33| 5953| zero| Early_Morning|     Morning|\n",
      "| Vistara|      Delhi|          Mumbai|Economy|    2.25| 5955| zero|       Morning|   Afternoon|\n",
      "| Vistara|      Delhi|          Mumbai|Economy|    2.33| 5955| zero|       Morning|   Afternoon|\n",
      "| Vistara|      Delhi|          Mumbai|Economy|    2.08| 6060| zero|       Morning|     Morning|\n",
      "|GO_FIRST|      Delhi|          Mumbai|Economy|    2.25| 5954| zero|     Afternoon|     Evening|\n",
      "|  Indigo|      Delhi|          Mumbai|Economy|    2.17| 5955| zero| Early_Morning|     Morning|\n",
      "|  Indigo|      Delhi|          Mumbai|Economy|    2.17| 5955| zero|       Morning|   Afternoon|\n",
      "+--------+-----------+----------------+-------+--------+-----+-----+--------------+------------+\n",
      "only showing top 7 rows\n"
     ]
    },
    {
     "name": "stderr",
     "output_type": "stream",
     "text": [
      "                                                                                \r"
     ]
    }
   ],
   "source": [
    "# Necessary columns\n",
    "necessary_columns = [\"airline\", \"source_city\", \"destination_city\", \"class\", \"duration\", \"price\", \"stops\", \"departure_time\", \"arrival_time\"]\n",
    "airlines_final = airlines_clean.select(necessary_columns)\n",
    "airlines_final.show(n=7)"
   ]
  },
  {
   "cell_type": "markdown",
   "id": "0e332b99",
   "metadata": {},
   "source": [
    "### Normalize categorical values: map “zero” → 0, “one” → 1, etc. in stops"
   ]
  },
  {
   "cell_type": "code",
   "execution_count": 57,
   "id": "b401dbda",
   "metadata": {},
   "outputs": [
    {
     "name": "stdout",
     "output_type": "stream",
     "text": [
      "Unique values in stops column:\n"
     ]
    },
    {
     "name": "stderr",
     "output_type": "stream",
     "text": [
      "                                                                                \r"
     ]
    },
    {
     "name": "stdout",
     "output_type": "stream",
     "text": [
      "+-----------+\n",
      "|      stops|\n",
      "+-----------+\n",
      "|two_or_more|\n",
      "|        one|\n",
      "|       zero|\n",
      "+-----------+\n",
      "\n"
     ]
    },
    {
     "name": "stderr",
     "output_type": "stream",
     "text": [
      "[Stage 258:============================>                            (1 + 1) / 2]\r"
     ]
    },
    {
     "name": "stdout",
     "output_type": "stream",
     "text": [
      "+--------+-----------+----------------+-------+--------+-----+-----+--------------+------------+\n",
      "| airline|source_city|destination_city|  class|duration|price|stops|departure_time|arrival_time|\n",
      "+--------+-----------+----------------+-------+--------+-----+-----+--------------+------------+\n",
      "|SpiceJet|      Delhi|          Mumbai|Economy|    2.33| 5953|    0| Early_Morning|     Morning|\n",
      "| Vistara|      Delhi|          Mumbai|Economy|    2.25| 5955|    0|       Morning|   Afternoon|\n",
      "| Vistara|      Delhi|          Mumbai|Economy|    2.33| 5955|    0|       Morning|   Afternoon|\n",
      "| Vistara|      Delhi|          Mumbai|Economy|    2.08| 6060|    0|       Morning|     Morning|\n",
      "|GO_FIRST|      Delhi|          Mumbai|Economy|    2.25| 5954|    0|     Afternoon|     Evening|\n",
      "|  Indigo|      Delhi|          Mumbai|Economy|    2.17| 5955|    0| Early_Morning|     Morning|\n",
      "|  Indigo|      Delhi|          Mumbai|Economy|    2.17| 5955|    0|       Morning|   Afternoon|\n",
      "+--------+-----------+----------------+-------+--------+-----+-----+--------------+------------+\n",
      "only showing top 7 rows\n"
     ]
    },
    {
     "name": "stderr",
     "output_type": "stream",
     "text": [
      "                                                                                \r"
     ]
    }
   ],
   "source": [
    "from pyspark.sql.functions import when, col\n",
    "from pyspark.sql.types import IntegerType\n",
    "\n",
    "print(\"Unique values in stops column:\")\n",
    "airlines_final.select(\"stops\").distinct().show()\n",
    "\n",
    "airlines_final = airlines_final.withColumn(\"stops\", \n",
    "    when(col(\"stops\") == \"zero\", 0)\n",
    "    .when(col(\"stops\") == \"one\", 1)\n",
    "    .when(col(\"stops\") == \"two_or_more\", 2)\n",
    "    .otherwise(col(\"stops\").cast(IntegerType()))\n",
    ")\n",
    "\n",
    "airlines_final.show(n=7)"
   ]
  },
  {
   "cell_type": "markdown",
   "id": "0723298d",
   "metadata": {},
   "source": [
    "### Create a new column called route: “Delhi → Mumbai” from source_city and destination_city"
   ]
  },
  {
   "cell_type": "code",
   "execution_count": 58,
   "id": "d675d900",
   "metadata": {},
   "outputs": [
    {
     "name": "stderr",
     "output_type": "stream",
     "text": [
      "[Stage 261:============================>                            (1 + 1) / 2]\r"
     ]
    },
    {
     "name": "stdout",
     "output_type": "stream",
     "text": [
      "+--------+-----------+----------------+-------+--------+-----+-----+--------------+------------+----------------------+\n",
      "|airline |source_city|destination_city|class  |duration|price|stops|departure_time|arrival_time|Route: Delhi -> Mumbai|\n",
      "+--------+-----------+----------------+-------+--------+-----+-----+--------------+------------+----------------------+\n",
      "|SpiceJet|Delhi      |Mumbai          |Economy|2.33    |5953 |0    |Early_Morning |Morning     |1                     |\n",
      "|Vistara |Delhi      |Mumbai          |Economy|2.25    |5955 |0    |Morning       |Afternoon   |1                     |\n",
      "|Vistara |Delhi      |Mumbai          |Economy|2.33    |5955 |0    |Morning       |Afternoon   |1                     |\n",
      "|Vistara |Delhi      |Mumbai          |Economy|2.08    |6060 |0    |Morning       |Morning     |1                     |\n",
      "|GO_FIRST|Delhi      |Mumbai          |Economy|2.25    |5954 |0    |Afternoon     |Evening     |1                     |\n",
      "+--------+-----------+----------------+-------+--------+-----+-----+--------------+------------+----------------------+\n",
      "only showing top 5 rows\n"
     ]
    },
    {
     "name": "stderr",
     "output_type": "stream",
     "text": [
      "                                                                                \r"
     ]
    }
   ],
   "source": [
    "from pyspark.sql.functions import col, concat_ws\n",
    "\n",
    "airlines_final = airlines_final.withColumn(\n",
    "    \"Route: Delhi -> Mumbai\",\n",
    "    when(\n",
    "        (col(\"source_city\") == \"Delhi\") & (col(\"destination_city\") == \"Mumbai\"), 1\n",
    "    ).otherwise(0)\n",
    ")\n",
    "\n",
    "# Show the result\n",
    "airlines_final.show(n=5, truncate=False)"
   ]
  },
  {
   "cell_type": "markdown",
   "id": "c0de90f4",
   "metadata": {},
   "source": [
    "### Transform departure_time and arrival_time to numerical categories (Morning, Afternoon, etc.), then encode as numbers (0=Early_Morning, 1=Morning, etc.)"
   ]
  },
  {
   "cell_type": "code",
   "execution_count": 60,
   "id": "4e6454f6",
   "metadata": {},
   "outputs": [
    {
     "name": "stderr",
     "output_type": "stream",
     "text": [
      "[Stage 264:============================>                            (1 + 1) / 2]\r"
     ]
    },
    {
     "name": "stdout",
     "output_type": "stream",
     "text": [
      "+--------+-----------+----------------+-------+--------+-----+-----+--------------+------------+----------------------+\n",
      "| airline|source_city|destination_city|  class|duration|price|stops|departure_time|arrival_time|Route: Delhi -> Mumbai|\n",
      "+--------+-----------+----------------+-------+--------+-----+-----+--------------+------------+----------------------+\n",
      "|SpiceJet|      Delhi|          Mumbai|Economy|    2.33| 5953|    0|             0|           1|                     1|\n",
      "| Vistara|      Delhi|          Mumbai|Economy|    2.25| 5955|    0|             1|           2|                     1|\n",
      "| Vistara|      Delhi|          Mumbai|Economy|    2.33| 5955|    0|             1|           2|                     1|\n",
      "| Vistara|      Delhi|          Mumbai|Economy|    2.08| 6060|    0|             1|           1|                     1|\n",
      "|GO_FIRST|      Delhi|          Mumbai|Economy|    2.25| 5954|    0|             2|           3|                     1|\n",
      "|  Indigo|      Delhi|          Mumbai|Economy|    2.17| 5955|    0|             0|           1|                     1|\n",
      "|  Indigo|      Delhi|          Mumbai|Economy|    2.17| 5955|    0|             1|           2|                     1|\n",
      "+--------+-----------+----------------+-------+--------+-----+-----+--------------+------------+----------------------+\n",
      "only showing top 7 rows\n"
     ]
    },
    {
     "name": "stderr",
     "output_type": "stream",
     "text": [
      "                                                                                \r"
     ]
    }
   ],
   "source": [
    "airlines_final = airlines_final.withColumn(\"departure_time\", \n",
    "    when(col(\"departure_time\") == \"Early_Morning\", 0)\n",
    "    .when(col(\"departure_time\") == \"Morning\", 1)\n",
    "    .when(col(\"departure_time\") == \"Afternoon\", 2)\n",
    "    .otherwise(3)\n",
    ")\n",
    "\n",
    "airlines_final = airlines_final.withColumn(\"arrival_time\", \n",
    "    when(col(\"arrival_time\") == \"Early_Morning\", 0)\n",
    "    .when(col(\"arrival_time\") == \"Morning\", 1)\n",
    "    .when(col(\"arrival_time\") == \"Afternoon\", 2)\n",
    "    .otherwise(3)\n",
    ")\n",
    "\n",
    "airlines_final.show(n=7)"
   ]
  },
  {
   "cell_type": "markdown",
   "id": "fcc5ee69",
   "metadata": {},
   "source": [
    "### Add a new column is_expensive: when(price > 6000, True).otherwise(False)"
   ]
  },
  {
   "cell_type": "code",
   "execution_count": 61,
   "id": "64e566ee",
   "metadata": {},
   "outputs": [
    {
     "name": "stderr",
     "output_type": "stream",
     "text": [
      "[Stage 267:============================>                            (1 + 1) / 2]\r"
     ]
    },
    {
     "name": "stdout",
     "output_type": "stream",
     "text": [
      "+--------+-----------+----------------+-------+--------+-----+-----+--------------+------------+----------------------+------------+\n",
      "| airline|source_city|destination_city|  class|duration|price|stops|departure_time|arrival_time|Route: Delhi -> Mumbai|is_expensive|\n",
      "+--------+-----------+----------------+-------+--------+-----+-----+--------------+------------+----------------------+------------+\n",
      "|SpiceJet|      Delhi|          Mumbai|Economy|    2.33| 5953|    0|             0|           1|                     1|           1|\n",
      "| Vistara|      Delhi|          Mumbai|Economy|    2.25| 5955|    0|             1|           2|                     1|           1|\n",
      "| Vistara|      Delhi|          Mumbai|Economy|    2.33| 5955|    0|             1|           2|                     1|           1|\n",
      "| Vistara|      Delhi|          Mumbai|Economy|    2.08| 6060|    0|             1|           1|                     1|           1|\n",
      "|GO_FIRST|      Delhi|          Mumbai|Economy|    2.25| 5954|    0|             2|           3|                     1|           1|\n",
      "|  Indigo|      Delhi|          Mumbai|Economy|    2.17| 5955|    0|             0|           1|                     1|           1|\n",
      "|  Indigo|      Delhi|          Mumbai|Economy|    2.17| 5955|    0|             1|           2|                     1|           1|\n",
      "+--------+-----------+----------------+-------+--------+-----+-----+--------------+------------+----------------------+------------+\n",
      "only showing top 7 rows\n"
     ]
    },
    {
     "name": "stderr",
     "output_type": "stream",
     "text": [
      "                                                                                \r"
     ]
    }
   ],
   "source": [
    "airlines_final = airlines_final.withColumn(\"is_expensive\", \n",
    "    when(col(\"price\") > 600, 1).otherwise(0)\n",
    ")\n",
    "\n",
    "airlines_final.show(n=7)"
   ]
  },
  {
   "cell_type": "markdown",
   "id": "0bf255eb",
   "metadata": {},
   "source": [
    "### Get the average price per airline"
   ]
  },
  {
   "cell_type": "code",
   "execution_count": 64,
   "id": "c11d8678",
   "metadata": {},
   "outputs": [
    {
     "name": "stderr",
     "output_type": "stream",
     "text": [
      "[Stage 276:============================>                            (1 + 1) / 2]\r"
     ]
    },
    {
     "name": "stdout",
     "output_type": "stream",
     "text": [
      "+---------+------------------+\n",
      "|airline  |average_price     |\n",
      "+---------+------------------+\n",
      "|Indigo   |5324.216303339517 |\n",
      "|SpiceJet |6179.278881367218 |\n",
      "|Air_India|23507.01911190229 |\n",
      "|AirAsia  |4091.0727419555224|\n",
      "|GO_FIRST |5652.007595045959 |\n",
      "|Vistara  |30396.53630170735 |\n",
      "+---------+------------------+\n",
      "\n"
     ]
    },
    {
     "name": "stderr",
     "output_type": "stream",
     "text": [
      "                                                                                \r"
     ]
    }
   ],
   "source": [
    "average_price_by_airline = airlines_final.groupBy(\"airline\").avg(\"price\").withColumnRenamed(\"avg(price)\", \"average_price\")\n",
    "average_price_by_airline.show(n=10, truncate=False)"
   ]
  },
  {
   "cell_type": "markdown",
   "id": "15318fa2",
   "metadata": {},
   "source": [
    "### Average price per route"
   ]
  },
  {
   "cell_type": "code",
   "execution_count": 65,
   "id": "8da18f52",
   "metadata": {},
   "outputs": [
    {
     "name": "stderr",
     "output_type": "stream",
     "text": [
      "[Stage 284:============================>                            (1 + 1) / 2]\r"
     ]
    },
    {
     "name": "stdout",
     "output_type": "stream",
     "text": [
      "+-----------+----------------+------------------+\n",
      "|source_city|destination_city|average_price     |\n",
      "+-----------+----------------+------------------+\n",
      "|Chennai    |Bangalore       |25081.85045433544 |\n",
      "|Delhi      |Hyderabad       |17347.288379073758|\n",
      "|Kolkata    |Chennai         |23660.36104013227 |\n",
      "|Chennai    |Kolkata         |22669.93240727481 |\n",
      "|Bangalore  |Kolkata         |23500.061228560033|\n",
      "|Delhi      |Chennai         |19369.881354359924|\n",
      "|Mumbai     |Kolkata         |22379.146722742422|\n",
      "|Chennai    |Mumbai          |22765.849646605267|\n",
      "|Hyderabad  |Mumbai          |20080.865759141496|\n",
      "|Hyderabad  |Kolkata         |20823.89320145236 |\n",
      "+-----------+----------------+------------------+\n",
      "only showing top 10 rows\n"
     ]
    },
    {
     "name": "stderr",
     "output_type": "stream",
     "text": [
      "                                                                                \r"
     ]
    }
   ],
   "source": [
    "average_price_per_route = airlines_final.groupBy(\"source_city\", \"destination_city\").avg(\"price\").withColumnRenamed(\"avg(price)\", \"average_price\")\n",
    "average_price_per_route.show(n=10, truncate=False)"
   ]
  },
  {
   "cell_type": "markdown",
   "id": "6df4306c",
   "metadata": {},
   "source": [
    "### Minimum and maximum price per airline"
   ]
  },
  {
   "cell_type": "code",
   "execution_count": 71,
   "id": "c413d62a",
   "metadata": {},
   "outputs": [
    {
     "name": "stderr",
     "output_type": "stream",
     "text": [
      "[Stage 308:============================>                            (1 + 1) / 2]\r"
     ]
    },
    {
     "name": "stdout",
     "output_type": "stream",
     "text": [
      "+---------+---------+---------+\n",
      "|airline  |max_price|min_price|\n",
      "+---------+---------+---------+\n",
      "|Indigo   |31952    |1105     |\n",
      "|SpiceJet |34158    |1106     |\n",
      "|Air_India|90970    |1526     |\n",
      "|AirAsia  |31917    |1105     |\n",
      "|GO_FIRST |32803    |1105     |\n",
      "|Vistara  |123071   |1714     |\n",
      "+---------+---------+---------+\n",
      "\n"
     ]
    },
    {
     "name": "stderr",
     "output_type": "stream",
     "text": [
      "                                                                                \r"
     ]
    }
   ],
   "source": [
    "from pyspark.sql.functions import max, min\n",
    "\n",
    "max_and_min_price = airlines_final.groupBy(\"airline\").agg(\n",
    "    max(\"price\").alias(\"max_price\"),\n",
    "    min(\"price\").alias(\"min_price\")\n",
    ")\n",
    "max_and_min_price.show(n=10, truncate=False)"
   ]
  },
  {
   "cell_type": "markdown",
   "id": "d11612a0",
   "metadata": {},
   "source": [
    "### Count flights by departure_time category"
   ]
  },
  {
   "cell_type": "code",
   "execution_count": 74,
   "id": "1a7141f7",
   "metadata": {},
   "outputs": [
    {
     "name": "stderr",
     "output_type": "stream",
     "text": [
      "[Stage 318:============================>                            (1 + 1) / 2]\r"
     ]
    },
    {
     "name": "stdout",
     "output_type": "stream",
     "text": [
      "+--------------+-----+\n",
      "|departure_time|count|\n",
      "+--------------+-----+\n",
      "|       Evening|65102|\n",
      "|       Morning|71146|\n",
      "|    Late_Night| 1306|\n",
      "|     Afternoon|47794|\n",
      "| Early_Morning|66790|\n",
      "+--------------+-----+\n",
      "only showing top 5 rows\n"
     ]
    },
    {
     "name": "stderr",
     "output_type": "stream",
     "text": [
      "                                                                                \r"
     ]
    }
   ],
   "source": [
    "flights_by_departure = df_airlines.groupBy(\"departure_time\").count()\n",
    "\n",
    "flights_by_departure.show(n=5)"
   ]
  },
  {
   "cell_type": "code",
   "execution_count": 75,
   "id": "da18cf20",
   "metadata": {},
   "outputs": [],
   "source": [
    "sc.stop()"
   ]
  }
 ],
 "metadata": {
  "kernelspec": {
   "display_name": "Python 3 (ipykernel)",
   "language": "python",
   "name": "python3"
  },
  "language_info": {
   "codemirror_mode": {
    "name": "ipython",
    "version": 3
   },
   "file_extension": ".py",
   "mimetype": "text/x-python",
   "name": "python",
   "nbconvert_exporter": "python",
   "pygments_lexer": "ipython3",
   "version": "3.10.12"
  }
 },
 "nbformat": 4,
 "nbformat_minor": 5
}
