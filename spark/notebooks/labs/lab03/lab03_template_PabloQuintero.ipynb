{
 "cells": [
  {
   "cell_type": "markdown",
   "id": "b92d9622",
   "metadata": {},
   "source": [
    "# <center> <img src=\"../../img/ITESOLogo.png\" alt=\"ITESO\" width=\"480\" height=\"130\"> </center>\n",
    "# <center> **Departamento de Electrónica, Sistemas e Informática** </center>\n",
    "---\n",
    "## <center> Computer Systems Engineering  </center>\n",
    "---\n",
    "### <center> Big Data Processing </center>\n",
    "---\n",
    "#### <center> **Autumn 2025** </center>\n",
    "---\n",
    "\n",
    "**Lab 03**: Data Cleaning and Transformation Pipeline\n",
    "\n",
    "**Date**: September 18th 2025\n",
    "\n",
    "**Student Name**: PabloQuinteroCorona\n",
    "\n",
    "**Professor**: Pablo Camarillo Ramirez"
   ]
  },
  {
   "cell_type": "code",
   "execution_count": 1,
   "id": "0b9e70cc-8acb-4135-9b30-a1580c006e6e",
   "metadata": {},
   "outputs": [],
   "source": [
    "import findspark\n",
    "findspark.init()"
   ]
  },
  {
   "cell_type": "code",
   "execution_count": 2,
   "id": "4156e56e-53cf-4f7e-a717-16148c2c8a3f",
   "metadata": {},
   "outputs": [
    {
     "name": "stderr",
     "output_type": "stream",
     "text": [
      "WARNING: Using incubator modules: jdk.incubator.vector\n",
      "Using Spark's default log4j profile: org/apache/spark/log4j2-defaults.properties\n",
      "Setting default log level to \"WARN\".\n",
      "To adjust logging level use sc.setLogLevel(newLevel). For SparkR, use setLogLevel(newLevel).\n",
      "25/09/22 05:00:47 WARN NativeCodeLoader: Unable to load native-hadoop library for your platform... using builtin-java classes where applicable\n"
     ]
    }
   ],
   "source": [
    "from pyspark.sql import SparkSession\n",
    "\n",
    "spark = SparkSession.builder \\\n",
    "    .appName(\"Lab03PabloQuintero\") \\\n",
    "    .master(\"spark://f5f576f1e425:7077\") \\\n",
    "    .config(\"spark.ui.port\", \"4040\") \\\n",
    "    .getOrCreate()\n",
    "\n",
    "sc = spark.sparkContext\n",
    "sc.setLogLevel(\"ERROR\")"
   ]
  },
  {
   "cell_type": "code",
   "execution_count": 3,
   "id": "c4bebf95-2254-493e-8f82-88b1b08fba56",
   "metadata": {},
   "outputs": [
    {
     "data": {
      "text/plain": [
       "StructType([StructField('index', IntegerType(), True), StructField('airline', StringType(), True), StructField('flight', StringType(), True), StructField('source_city', StringType(), True), StructField('departure_time', StringType(), True), StructField('stops', StringType(), True), StructField('arrival_time', StringType(), True), StructField('destination_city', StringType(), True), StructField('class', StringType(), True), StructField('duration', FloatType(), True), StructField('days_left', IntegerType(), True), StructField('price', IntegerType(), True)])"
      ]
     },
     "execution_count": 3,
     "metadata": {},
     "output_type": "execute_result"
    }
   ],
   "source": [
    "from PabloQuintero.spark_utils import SparkUtils\n",
    "airlines_schema_columns = [(\"index\", \"int\"), \n",
    "     (\"airline\", \"string\"), \n",
    "     (\"flight\", \"string\"),\n",
    "     (\"source_city\", \"string\"),\n",
    "     (\"departure_time\", \"string\"),\n",
    "     (\"stops\", \"string\"),\n",
    "     (\"arrival_time\", \"string\"),\n",
    "     (\"destination_city\", \"string\"),\n",
    "     (\"class\", \"string\"),\n",
    "     (\"duration\", \"float\"),\n",
    "     (\"days_left\", \"int\"),\n",
    "     (\"price\", \"int\")\n",
    "     ]\n",
    "airlines_schema = SparkUtils.generate_schema(airlines_schema_columns)\n",
    "airlines_schema"
   ]
  },
  {
   "cell_type": "code",
   "execution_count": 4,
   "id": "dd66bdf4-d5a1-4610-a146-b5ba796f7387",
   "metadata": {},
   "outputs": [
    {
     "name": "stderr",
     "output_type": "stream",
     "text": [
      "[Stage 0:>                                                          (0 + 1) / 1]"
     ]
    },
    {
     "name": "stdout",
     "output_type": "stream",
     "text": [
      "+-----+--------+-------+-----------+--------------+-----+-------------+----------------+-------+--------+---------+-----+\n",
      "|index| airline| flight|source_city|departure_time|stops| arrival_time|destination_city|  class|duration|days_left|price|\n",
      "+-----+--------+-------+-----------+--------------+-----+-------------+----------------+-------+--------+---------+-----+\n",
      "|    0|SpiceJet|SG-8709|      Delhi|       Evening| zero|        Night|          Mumbai|Economy|    2.17|        1| 5953|\n",
      "|    1|SpiceJet|SG-8157|      Delhi| Early_Morning| zero|      Morning|          Mumbai|Economy|    2.33|        1| 5953|\n",
      "|    2| AirAsia| I5-764|      Delhi| Early_Morning| zero|Early_Morning|          Mumbai|Economy|    2.17|        1| 5956|\n",
      "|    3| Vistara| UK-995|      Delhi|       Morning| zero|    Afternoon|          Mumbai|Economy|    2.25|        1| 5955|\n",
      "|    4| Vistara| UK-963|      Delhi|       Morning| zero|      Morning|          Mumbai|Economy|    2.33|        1| 5955|\n",
      "+-----+--------+-------+-----------+--------------+-----+-------------+----------------+-------+--------+---------+-----+\n",
      "only showing top 5 rows\n"
     ]
    },
    {
     "name": "stderr",
     "output_type": "stream",
     "text": [
      "                                                                                "
     ]
    }
   ],
   "source": [
    "df_airlines = spark.read \\\n",
    "                .option(\"header\", \"true\") \\\n",
    "                .schema(airlines_schema) \\\n",
    "                .csv(\"/opt/spark/work-dir/data/airline/directory\")\n",
    "\n",
    "df_airlines.show(n=5)\n",
    "#Aqui te muestra como esta el csv compuesto a la hora de correrlo"
   ]
  },
  {
   "cell_type": "code",
   "execution_count": 5,
   "id": "105ce8f5-3bd5-4590-84f6-d88648da5d8f",
   "metadata": {},
   "outputs": [
    {
     "name": "stdout",
     "output_type": "stream",
     "text": [
      "Columnas borrada\n",
      "root\n",
      " |-- airline: string (nullable = true)\n",
      " |-- source_city: string (nullable = true)\n",
      " |-- destination_city: string (nullable = true)\n",
      " |-- departure_time: string (nullable = true)\n",
      " |-- arrival_time: string (nullable = true)\n",
      " |-- stops: string (nullable = true)\n",
      " |-- duration: float (nullable = true)\n",
      " |-- price: integer (nullable = true)\n",
      "\n"
     ]
    }
   ],
   "source": [
    "df_clean = df_airlines.select(\"airline\", \"source_city\", \"destination_city\", \n",
    "                              \"departure_time\", \"arrival_time\", \"stops\", \n",
    "                              \"duration\", \"price\")\n",
    "print(\"Columnas borrada\")\n",
    "df_clean.printSchema()\n",
    "#Te muestra las celda que no necesitas y te muestra su esquema"
   ]
  },
  {
   "cell_type": "code",
   "execution_count": 6,
   "id": "fdec53e0-c6dd-45c1-bd16-283452dac163",
   "metadata": {},
   "outputs": [
    {
     "name": "stderr",
     "output_type": "stream",
     "text": [
      "[Stage 1:=============================>                             (1 + 1) / 2]"
     ]
    },
    {
     "name": "stdout",
     "output_type": "stream",
     "text": [
      "+-------+-----------+----------------+--------------+------------+-----+--------+-----+\n",
      "|airline|source_city|destination_city|departure_time|arrival_time|stops|duration|price|\n",
      "+-------+-----------+----------------+--------------+------------+-----+--------+-----+\n",
      "|      0|          0|               0|             0|           0|    0|       0|    0|\n",
      "+-------+-----------+----------------+--------------+------------+-----+--------+-----+\n",
      "\n"
     ]
    },
    {
     "name": "stderr",
     "output_type": "stream",
     "text": [
      "                                                                                "
     ]
    }
   ],
   "source": [
    "#Revisa los valores nulos\n",
    "from pyspark.sql.functions import col, sum, when, col, concat, lit\n",
    "df_clean.select([sum(col(c).isNull().cast(\"int\")).alias(c) for c in df_clean.columns]).show()\n",
    "\n"
   ]
  },
  {
   "cell_type": "code",
   "execution_count": 7,
   "id": "baa1c1d3-dc68-4a3d-9b88-2452c493dae4",
   "metadata": {},
   "outputs": [
    {
     "name": "stdout",
     "output_type": "stream",
     "text": [
      "stops normalizado\n"
     ]
    },
    {
     "name": "stderr",
     "output_type": "stream",
     "text": [
      "[Stage 4:=============================>                             (1 + 1) / 2]"
     ]
    },
    {
     "name": "stdout",
     "output_type": "stream",
     "text": [
      "+-----------+---------+\n",
      "|      stops|stops_num|\n",
      "+-----------+---------+\n",
      "|       zero|        0|\n",
      "|        one|        1|\n",
      "|two_or_more|     NULL|\n",
      "+-----------+---------+\n",
      "\n"
     ]
    },
    {
     "name": "stderr",
     "output_type": "stream",
     "text": [
      "                                                                                "
     ]
    }
   ],
   "source": [
    "#Columa stop\n",
    "df_clean = df_clean.withColumn(\n",
    "    \"stops_num\",\n",
    "    when(col(\"stops\") == \"zero\", 0)\n",
    "    .when(col(\"stops\") == \"one\", 1)\n",
    "    .when(col(\"stops\") == \"two\", 2)\n",
    "    .when(col(\"stops\") == \"three\", 3)\n",
    "    .otherwise(None)\n",
    ")\n",
    "\n",
    "print(\"stops normalizado\")\n",
    "df_clean.select(\"stops\", \"stops_num\").distinct().show()"
   ]
  },
  {
   "cell_type": "code",
   "execution_count": 8,
   "id": "e0acc666-8bb6-4df7-97fc-f6822c64fde2",
   "metadata": {},
   "outputs": [
    {
     "name": "stdout",
     "output_type": "stream",
     "text": [
      "+--------------+\n",
      "|         route|\n",
      "+--------------+\n",
      "|Delhi → Mumbai|\n",
      "|Delhi → Mumbai|\n",
      "|Delhi → Mumbai|\n",
      "|Delhi → Mumbai|\n",
      "|Delhi → Mumbai|\n",
      "+--------------+\n",
      "only showing top 5 rows\n"
     ]
    }
   ],
   "source": [
    "df_clean = df_clean.withColumn(\n",
    "    \"route\",\n",
    "    concat(col(\"source_city\"), lit(\" → \"), col(\"destination_city\"))\n",
    ")\n",
    "df_clean.select(\"route\").show(5)"
   ]
  },
  {
   "cell_type": "code",
   "execution_count": 12,
   "id": "074bb4e7-b20f-4622-9f9d-a31c05e0b90f",
   "metadata": {},
   "outputs": [
    {
     "name": "stdout",
     "output_type": "stream",
     "text": [
      "+--------------+-------------+\n",
      "|departure_time| arrival_time|\n",
      "+--------------+-------------+\n",
      "|       Evening|        Night|\n",
      "| Early_Morning|      Morning|\n",
      "| Early_Morning|Early_Morning|\n",
      "|       Morning|    Afternoon|\n",
      "|       Morning|      Morning|\n",
      "+--------------+-------------+\n",
      "only showing top 5 rows\n"
     ]
    }
   ],
   "source": [
    "df_clean = df_clean.withColumn(\n",
    "    \"departure_gate\",\n",
    "    when(col(\"departure_time\").contains(\"AM\"), 1)  # mañana\n",
    "    .when(col(\"departure_time\").contains(\"PM\"), 2)  # tarde/noche\n",
    "    .otherwise(0)  # early morning (si no detecta)\n",
    ")\n",
    "\n",
    "df_clean = df_clean.withColumn(\n",
    "    \"arrival_hub\",\n",
    "    when(col(\"arrival_time\").contains(\"AM\"), 1)\n",
    "    .when(col(\"arrival_time\").contains(\"PM\"), 2)\n",
    "    .otherwise(0)\n",
    ")\n",
    "df_clean.select(\"departure_time\",\"arrival_time\").show(5)\n"
   ]
  },
  {
   "cell_type": "code",
   "execution_count": 13,
   "id": "5cc8209f-ce6f-4c75-9672-2fff63a9d7f1",
   "metadata": {},
   "outputs": [
    {
     "name": "stdout",
     "output_type": "stream",
     "text": [
      "+-----+------------+\n",
      "|price|is_expensive|\n",
      "+-----+------------+\n",
      "| 5953|       false|\n",
      "| 5953|       false|\n",
      "| 5956|       false|\n",
      "| 5955|       false|\n",
      "| 5955|       false|\n",
      "+-----+------------+\n",
      "only showing top 5 rows\n"
     ]
    }
   ],
   "source": [
    "df_clean = df_clean.withColumn(\n",
    "    \"is_expensive\",\n",
    "    when(col(\"price\") > 6000, True).otherwise(False)\n",
    ")\n",
    "\n",
    "df_clean.select(\"price\", \"is_expensive\").show(5)\n"
   ]
  },
  {
   "cell_type": "code",
   "execution_count": 14,
   "id": "639f925e-0d28-464f-9815-a36fdd0a80cb",
   "metadata": {},
   "outputs": [
    {
     "name": "stderr",
     "output_type": "stream",
     "text": [
      "                                                                                "
     ]
    },
    {
     "name": "stdout",
     "output_type": "stream",
     "text": [
      "+---------+------------------+\n",
      "|  airline|        avg(price)|\n",
      "+---------+------------------+\n",
      "|   Indigo| 5324.216303339517|\n",
      "| SpiceJet| 6179.278881367218|\n",
      "|Air_India| 23507.01911190229|\n",
      "|  AirAsia|4091.0727419555224|\n",
      "| GO_FIRST| 5652.007595045959|\n",
      "|  Vistara| 30396.53630170735|\n",
      "+---------+------------------+\n",
      "\n"
     ]
    },
    {
     "name": "stderr",
     "output_type": "stream",
     "text": [
      "                                                                                "
     ]
    },
    {
     "name": "stdout",
     "output_type": "stream",
     "text": [
      "+--------------------+------------------+\n",
      "|               route|     avg(duration)|\n",
      "+--------------------+------------------+\n",
      "|Hyderabad → Banga...| 12.09331678643705|\n",
      "|    Mumbai → Kolkata|12.836848115489666|\n",
      "|    Mumbai → Chennai|12.665900287564627|\n",
      "|  Mumbai → Hyderabad|13.263310412247066|\n",
      "|  Mumbai → Bangalore|11.612022516178817|\n",
      "|   Bangalore → Delhi|  9.77995566082195|\n",
      "| Kolkata → Bangalore| 13.79294687524098|\n",
      "|   Hyderabad → Delhi|10.829816602522587|\n",
      "| Bangalore → Chennai|14.480207509137166|\n",
      "|  Bangalore → Mumbai| 10.90507225639642|\n",
      "|      Mumbai → Delhi|  9.81805726844943|\n",
      "|  Hyderabad → Mumbai|11.962923295795918|\n",
      "|   Kolkata → Chennai|14.774181563782903|\n",
      "| Kolkata → Hyderabad|13.853107514948396|\n",
      "|   Delhi → Bangalore| 10.35412503844018|\n",
      "|      Delhi → Mumbai|10.367774213738123|\n",
      "| Hyderabad → Chennai|13.293238468912078|\n",
      "|Bangalore → Hyder...|14.162432783513621|\n",
      "|     Kolkata → Delhi| 11.60498857561711|\n",
      "|   Delhi → Hyderabad|12.518350118710492|\n",
      "+--------------------+------------------+\n",
      "only showing top 20 rows\n"
     ]
    },
    {
     "name": "stderr",
     "output_type": "stream",
     "text": [
      "                                                                                "
     ]
    },
    {
     "name": "stdout",
     "output_type": "stream",
     "text": [
      "+---------+----------+\n",
      "|  airline|max(price)|\n",
      "+---------+----------+\n",
      "|   Indigo|     31952|\n",
      "| SpiceJet|     34158|\n",
      "|Air_India|     90970|\n",
      "|  AirAsia|     31917|\n",
      "| GO_FIRST|     32803|\n",
      "|  Vistara|    123071|\n",
      "+---------+----------+\n",
      "\n",
      "+--------------+-----+\n",
      "|departure_time|count|\n",
      "+--------------+-----+\n",
      "|       Evening|65102|\n",
      "|       Morning|71146|\n",
      "|    Late_Night| 1306|\n",
      "|     Afternoon|47794|\n",
      "| Early_Morning|66790|\n",
      "|         Night|48015|\n",
      "+--------------+-----+\n",
      "\n"
     ]
    }
   ],
   "source": [
    "# Promedios de cada seccion\n",
    "df_clean.groupBy(\"airline\").avg(\"price\").show()\n",
    "df_clean.groupBy(\"route\").avg(\"duration\").show()\n",
    "df_clean.groupBy(\"airline\").agg({\"price\": \"min\", \"price\": \"max\"}).show()\n",
    "df_clean.groupBy(\"departure_time\").count().show()\n"
   ]
  },
  {
   "cell_type": "code",
   "execution_count": null,
   "id": "ff3d553b-1a1a-49cc-beec-1665380f4dfd",
   "metadata": {},
   "outputs": [],
   "source": []
  }
 ],
 "metadata": {
  "kernelspec": {
   "display_name": "Python 3",
   "language": "python",
   "name": "python3"
  },
  "language_info": {
   "codemirror_mode": {
    "name": "ipython",
    "version": 3
   },
   "file_extension": ".py",
   "mimetype": "text/x-python",
   "name": "python",
   "nbconvert_exporter": "python",
   "pygments_lexer": "ipython3",
   "version": "3.13.2"
  }
 },
 "nbformat": 4,
 "nbformat_minor": 5
}
