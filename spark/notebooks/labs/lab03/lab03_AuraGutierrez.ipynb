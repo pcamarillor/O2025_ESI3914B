{
 "cells": [
  {
   "cell_type": "markdown",
   "id": "b92d9622",
   "metadata": {},
   "source": [
    "# <center> <img src=\"../../img/ITESOLogo.png\" alt=\"ITESO\" width=\"480\" height=\"130\"> </center>\n",
    "# <center> **Departamento de Electrónica, Sistemas e Informática** </center>\n",
    "---\n",
    "## <center> Computer Systems Engineering  </center>\n",
    "---\n",
    "### <center> Big Data Processing </center>\n",
    "---\n",
    "#### <center> **Autumn 2025** </center>\n",
    "---\n",
    "\n",
    "**Lab 03**: Data Cleaning and Transformation Pipeline\n",
    "\n",
    "**Date**: September 18th 2025\n",
    "\n",
    "**Student Name**: Aura Melina Gutierrez Jimenez (Ing. Sistemas Computacionales)\n",
    "\n",
    "**Professor**: Pablo Camarillo Ramirez"
   ]
  },
  {
   "cell_type": "code",
   "execution_count": 1,
   "id": "65fc8ea0-cfd6-4bc9-87ab-660bce0bf8ab",
   "metadata": {},
   "outputs": [],
   "source": [
    "import findspark\n",
    "findspark.init()"
   ]
  },
  {
   "cell_type": "code",
   "execution_count": 2,
   "id": "4934dfde-58c4-4642-84d2-fc0546d1ee42",
   "metadata": {},
   "outputs": [
    {
     "name": "stderr",
     "output_type": "stream",
     "text": [
      "WARNING: Using incubator modules: jdk.incubator.vector\n",
      "Using Spark's default log4j profile: org/apache/spark/log4j2-defaults.properties\n",
      "Setting default log level to \"WARN\".\n",
      "To adjust logging level use sc.setLogLevel(newLevel). For SparkR, use setLogLevel(newLevel).\n",
      "25/09/19 14:19:26 WARN NativeCodeLoader: Unable to load native-hadoop library for your platform... using builtin-java classes where applicable\n"
     ]
    }
   ],
   "source": [
    "from pyspark.sql import SparkSession\n",
    "\n",
    "spark = SparkSession.builder \\\n",
    "    .appName(\"Examples on data sources (Files)\") \\\n",
    "    .master(\"spark://b1ca502cde8a:7077\") \\\n",
    "    .config(\"spark.ui.port\", \"4040\") \\\n",
    "    .getOrCreate()\n",
    "\n",
    "sc = spark.sparkContext\n",
    "sc.setLogLevel(\"ERROR\")"
   ]
  },
  {
   "cell_type": "code",
   "execution_count": 3,
   "id": "c545bcf0-8960-462f-8b45-0ea0c0df3c34",
   "metadata": {},
   "outputs": [
    {
     "data": {
      "text/plain": [
       "StructType([StructField('index', IntegerType(), True), StructField('airline', StringType(), True), StructField('flight', StringType(), True), StructField('source_city', StringType(), True), StructField('departure_time', StringType(), True), StructField('stops', StringType(), True), StructField('arrival_time', StringType(), True), StructField('destination_city', StringType(), True), StructField('class', StringType(), True), StructField('duration', FloatType(), True), StructField('days_left', IntegerType(), True), StructField('price', IntegerType(), True)])"
      ]
     },
     "execution_count": 3,
     "metadata": {},
     "output_type": "execute_result"
    }
   ],
   "source": [
    "from pcamarillor.spark_utils import SparkUtils\n",
    "airlines_schema_columns = [(\"index\", \"int\"), \n",
    "     (\"airline\", \"string\"), \n",
    "     (\"flight\", \"string\"),\n",
    "     (\"source_city\", \"string\"),\n",
    "     (\"departure_time\", \"string\"),\n",
    "     (\"stops\", \"string\"),\n",
    "     (\"arrival_time\", \"string\"),\n",
    "     (\"destination_city\", \"string\"),\n",
    "     (\"class\", \"string\"),\n",
    "     (\"duration\", \"float\"),\n",
    "     (\"days_left\", \"int\"),\n",
    "     (\"price\", \"int\")\n",
    "     ]\n",
    "airlines_schema = SparkUtils.generate_schema(airlines_schema_columns)\n",
    "airlines_schema"
   ]
  },
  {
   "cell_type": "code",
   "execution_count": 4,
   "id": "6afcb32b-18c5-4b88-a546-2849300595b4",
   "metadata": {},
   "outputs": [
    {
     "name": "stderr",
     "output_type": "stream",
     "text": [
      "[Stage 0:>                                                          (0 + 1) / 1]"
     ]
    },
    {
     "name": "stdout",
     "output_type": "stream",
     "text": [
      "+-----+--------+-------+-----------+--------------+-----+-------------+----------------+-------+--------+---------+-----+\n",
      "|index| airline| flight|source_city|departure_time|stops| arrival_time|destination_city|  class|duration|days_left|price|\n",
      "+-----+--------+-------+-----------+--------------+-----+-------------+----------------+-------+--------+---------+-----+\n",
      "|    0|SpiceJet|SG-8709|      Delhi|       Evening| zero|        Night|          Mumbai|Economy|    2.17|        1| 5953|\n",
      "|    1|SpiceJet|SG-8157|      Delhi| Early_Morning| zero|      Morning|          Mumbai|Economy|    2.33|        1| 5953|\n",
      "|    2| AirAsia| I5-764|      Delhi| Early_Morning| zero|Early_Morning|          Mumbai|Economy|    2.17|        1| 5956|\n",
      "|    3| Vistara| UK-995|      Delhi|       Morning| zero|    Afternoon|          Mumbai|Economy|    2.25|        1| 5955|\n",
      "|    4| Vistara| UK-963|      Delhi|       Morning| zero|      Morning|          Mumbai|Economy|    2.33|        1| 5955|\n",
      "+-----+--------+-------+-----------+--------------+-----+-------------+----------------+-------+--------+---------+-----+\n",
      "only showing top 5 rows\n"
     ]
    },
    {
     "name": "stderr",
     "output_type": "stream",
     "text": [
      "                                                                                "
     ]
    }
   ],
   "source": [
    "df_airlines = spark.read \\\n",
    "                .option(\"header\", \"true\") \\\n",
    "                .schema(airlines_schema) \\\n",
    "                .csv(\"/opt/spark/work-dir/data/airline/\")\n",
    "\n",
    "df_airlines.show(n=5)"
   ]
  },
  {
   "cell_type": "markdown",
   "id": "7b0eda3f-e467-42ff-8433-2160eacd68d1",
   "metadata": {},
   "source": [
    "## Drop unnecessary columns."
   ]
  },
  {
   "cell_type": "code",
   "execution_count": 5,
   "id": "2899f774-3287-4cef-a270-c3d3c592ce5b",
   "metadata": {},
   "outputs": [],
   "source": [
    "df_airlines = df_airlines.drop(\"flight\", \"days_left\")"
   ]
  },
  {
   "cell_type": "markdown",
   "id": "379da5e7-5103-4988-9672-0b0c5f21d9ef",
   "metadata": {},
   "source": [
    "## Count how many null values the dataset has before/after the cleaning process."
   ]
  },
  {
   "cell_type": "code",
   "execution_count": 7,
   "id": "43a1656e-2f33-4293-93c1-d8d41ce058c2",
   "metadata": {},
   "outputs": [
    {
     "name": "stderr",
     "output_type": "stream",
     "text": [
      "                                                                                "
     ]
    },
    {
     "name": "stdout",
     "output_type": "stream",
     "text": [
      "Number of records before cleaning: 300153\n"
     ]
    },
    {
     "name": "stderr",
     "output_type": "stream",
     "text": [
      "                                                                                "
     ]
    },
    {
     "name": "stdout",
     "output_type": "stream",
     "text": [
      "+-----+-------+-----------+--------------+-----+------------+----------------+-----+--------+-----+\n",
      "|index|airline|source_city|departure_time|stops|arrival_time|destination_city|class|duration|price|\n",
      "+-----+-------+-----------+--------------+-----+------------+----------------+-----+--------+-----+\n",
      "|    0|      0|          0|             0|    0|           0|               0|    0|       0|    0|\n",
      "+-----+-------+-----------+--------------+-----+------------+----------------+-----+--------+-----+\n",
      "\n"
     ]
    },
    {
     "name": "stderr",
     "output_type": "stream",
     "text": [
      "                                                                                "
     ]
    },
    {
     "name": "stdout",
     "output_type": "stream",
     "text": [
      "Number of records after cleaning: 300153\n"
     ]
    },
    {
     "name": "stderr",
     "output_type": "stream",
     "text": [
      "[Stage 13:=============================>                            (1 + 1) / 2]"
     ]
    },
    {
     "name": "stdout",
     "output_type": "stream",
     "text": [
      "+-----+-------+-----------+--------------+-----+------------+----------------+-----+--------+-----+\n",
      "|index|airline|source_city|departure_time|stops|arrival_time|destination_city|class|duration|price|\n",
      "+-----+-------+-----------+--------------+-----+------------+----------------+-----+--------+-----+\n",
      "|    0|      0|          0|             0|    0|           0|               0|    0|       0|    0|\n",
      "+-----+-------+-----------+--------------+-----+------------+----------------+-----+--------+-----+\n",
      "\n"
     ]
    },
    {
     "name": "stderr",
     "output_type": "stream",
     "text": [
      "                                                                                "
     ]
    }
   ],
   "source": [
    "from pyspark.sql.functions import col, when, count, isnull\n",
    "# Get number of null values before cleaning\n",
    "print(\"Number of records before cleaning:\", df_airlines.count())\n",
    "df_airlines.select([count(when(isnull(col(c.name)), c.name)).alias(c.name) for c in df_airlines.schema]).show()\n",
    "\n",
    "# Clean the dataset\n",
    "airlines_clean = df_airlines.dropna()\n",
    "\n",
    "# Get number of null values after cleaning\n",
    "print(\"Number of records after cleaning:\", airlines_clean.count())\n",
    "airlines_clean.select([count(when(isnull(col(c.name)), c.name)).alias(c.name) for c in airlines_clean.schema]).show()"
   ]
  },
  {
   "cell_type": "code",
   "execution_count": null,
   "id": "44dbf1b0-6333-4e2e-a0d9-ca37fad03b69",
   "metadata": {},
   "outputs": [],
   "source": []
  }
 ],
 "metadata": {
  "kernelspec": {
   "display_name": "Python 3 (ipykernel)",
   "language": "python",
   "name": "python3"
  },
  "language_info": {
   "codemirror_mode": {
    "name": "ipython",
    "version": 3
   },
   "file_extension": ".py",
   "mimetype": "text/x-python",
   "name": "python",
   "nbconvert_exporter": "python",
   "pygments_lexer": "ipython3",
   "version": "3.10.12"
  }
 },
 "nbformat": 4,
 "nbformat_minor": 5
}
