{
 "cells": [
  {
   "cell_type": "markdown",
   "id": "b92d9622",
   "metadata": {},
   "source": [
    "# <center> <img src=\"../../img/ITESOLogo.png\" alt=\"ITESO\" width=\"480\" height=\"130\"> </center>\n",
    "# <center> **Departamento de Electrónica, Sistemas e Informática** </center>\n",
    "---\n",
    "## <center> Computer Systems Engineering  </center>\n",
    "---\n",
    "### <center> Big Data Processing </center>\n",
    "---\n",
    "#### <center> **Autumn 2025** </center>\n",
    "---\n",
    "\n",
    "**Lab 03**: Data Cleaning and Transformation Pipeline\n",
    "\n",
    "**Date**: September 18th 2025\n",
    "\n",
    "**Student Name**: Aura Melina Gutierrez Jimenez (Ing. Sistemas Computacionales)\n",
    "\n",
    "**Professor**: Pablo Camarillo Ramirez"
   ]
  },
  {
   "cell_type": "code",
   "execution_count": 8,
   "id": "65fc8ea0-cfd6-4bc9-87ab-660bce0bf8ab",
   "metadata": {},
   "outputs": [],
   "source": [
    "import findspark\n",
    "findspark.init()"
   ]
  },
  {
   "cell_type": "code",
   "execution_count": 9,
   "id": "4934dfde-58c4-4642-84d2-fc0546d1ee42",
   "metadata": {},
   "outputs": [],
   "source": [
    "from pyspark.sql import SparkSession\n",
    "\n",
    "spark = SparkSession.builder \\\n",
    "    .appName(\"Examples on data sources (Files)\") \\\n",
    "    .master(\"spark://b1ca502cde8a:7077\") \\\n",
    "    .config(\"spark.ui.port\", \"4040\") \\\n",
    "    .getOrCreate()\n",
    "\n",
    "sc = spark.sparkContext\n",
    "sc.setLogLevel(\"ERROR\")"
   ]
  },
  {
   "cell_type": "code",
   "execution_count": 10,
   "id": "c545bcf0-8960-462f-8b45-0ea0c0df3c34",
   "metadata": {},
   "outputs": [
    {
     "data": {
      "text/plain": [
       "StructType([StructField('index', IntegerType(), True), StructField('airline', StringType(), True), StructField('flight', StringType(), True), StructField('source_city', StringType(), True), StructField('departure_time', StringType(), True), StructField('stops', StringType(), True), StructField('arrival_time', StringType(), True), StructField('destination_city', StringType(), True), StructField('class', StringType(), True), StructField('duration', FloatType(), True), StructField('days_left', IntegerType(), True), StructField('price', IntegerType(), True)])"
      ]
     },
     "execution_count": 10,
     "metadata": {},
     "output_type": "execute_result"
    }
   ],
   "source": [
    "from pcamarillor.spark_utils import SparkUtils\n",
    "airlines_schema_columns = [(\"index\", \"int\"), \n",
    "     (\"airline\", \"string\"), \n",
    "     (\"flight\", \"string\"),\n",
    "     (\"source_city\", \"string\"),\n",
    "     (\"departure_time\", \"string\"),\n",
    "     (\"stops\", \"string\"),\n",
    "     (\"arrival_time\", \"string\"),\n",
    "     (\"destination_city\", \"string\"),\n",
    "     (\"class\", \"string\"),\n",
    "     (\"duration\", \"float\"),\n",
    "     (\"days_left\", \"int\"),\n",
    "     (\"price\", \"int\")\n",
    "     ]\n",
    "airlines_schema = SparkUtils.generate_schema(airlines_schema_columns)\n",
    "airlines_schema"
   ]
  },
  {
   "cell_type": "code",
   "execution_count": 11,
   "id": "6afcb32b-18c5-4b88-a546-2849300595b4",
   "metadata": {},
   "outputs": [
    {
     "name": "stderr",
     "output_type": "stream",
     "text": [
      "[Stage 0:>                                                          (0 + 1) / 1]"
     ]
    },
    {
     "name": "stdout",
     "output_type": "stream",
     "text": [
      "+-----+--------+-------+-----------+--------------+-----+-------------+----------------+-------+--------+---------+-----+\n",
      "|index| airline| flight|source_city|departure_time|stops| arrival_time|destination_city|  class|duration|days_left|price|\n",
      "+-----+--------+-------+-----------+--------------+-----+-------------+----------------+-------+--------+---------+-----+\n",
      "|    0|SpiceJet|SG-8709|      Delhi|       Evening| zero|        Night|          Mumbai|Economy|    2.17|        1| 5953|\n",
      "|    1|SpiceJet|SG-8157|      Delhi| Early_Morning| zero|      Morning|          Mumbai|Economy|    2.33|        1| 5953|\n",
      "|    2| AirAsia| I5-764|      Delhi| Early_Morning| zero|Early_Morning|          Mumbai|Economy|    2.17|        1| 5956|\n",
      "|    3| Vistara| UK-995|      Delhi|       Morning| zero|    Afternoon|          Mumbai|Economy|    2.25|        1| 5955|\n",
      "|    4| Vistara| UK-963|      Delhi|       Morning| zero|      Morning|          Mumbai|Economy|    2.33|        1| 5955|\n",
      "+-----+--------+-------+-----------+--------------+-----+-------------+----------------+-------+--------+---------+-----+\n",
      "only showing top 5 rows\n"
     ]
    },
    {
     "name": "stderr",
     "output_type": "stream",
     "text": [
      "                                                                                "
     ]
    }
   ],
   "source": [
    "df_airlines = spark.read \\\n",
    "                .option(\"header\", \"true\") \\\n",
    "                .schema(airlines_schema) \\\n",
    "                .csv(\"/opt/spark/work-dir/data/airline/\")\n",
    "\n",
    "df_airlines.show(n=5)"
   ]
  },
  {
   "cell_type": "markdown",
   "id": "7b0eda3f-e467-42ff-8433-2160eacd68d1",
   "metadata": {},
   "source": [
    "## Drop unnecessary columns."
   ]
  },
  {
   "cell_type": "code",
   "execution_count": 12,
   "id": "2899f774-3287-4cef-a270-c3d3c592ce5b",
   "metadata": {},
   "outputs": [],
   "source": [
    "df_airlines = df_airlines.drop(\"flight\", \"days_left\")"
   ]
  },
  {
   "cell_type": "markdown",
   "id": "379da5e7-5103-4988-9672-0b0c5f21d9ef",
   "metadata": {},
   "source": [
    "## Count how many null values the dataset has before/after the cleaning process."
   ]
  },
  {
   "cell_type": "code",
   "execution_count": 13,
   "id": "43a1656e-2f33-4293-93c1-d8d41ce058c2",
   "metadata": {},
   "outputs": [
    {
     "name": "stderr",
     "output_type": "stream",
     "text": [
      "                                                                                "
     ]
    },
    {
     "name": "stdout",
     "output_type": "stream",
     "text": [
      "Number of records before cleaning: 300153\n"
     ]
    },
    {
     "name": "stderr",
     "output_type": "stream",
     "text": [
      "                                                                                "
     ]
    },
    {
     "name": "stdout",
     "output_type": "stream",
     "text": [
      "+-----+-------+-----------+--------------+-----+------------+----------------+-----+--------+-----+\n",
      "|index|airline|source_city|departure_time|stops|arrival_time|destination_city|class|duration|price|\n",
      "+-----+-------+-----------+--------------+-----+------------+----------------+-----+--------+-----+\n",
      "|    0|      0|          0|             0|    0|           0|               0|    0|       0|    0|\n",
      "+-----+-------+-----------+--------------+-----+------------+----------------+-----+--------+-----+\n",
      "\n"
     ]
    },
    {
     "name": "stderr",
     "output_type": "stream",
     "text": [
      "                                                                                "
     ]
    },
    {
     "name": "stdout",
     "output_type": "stream",
     "text": [
      "Number of records after cleaning: 300153\n"
     ]
    },
    {
     "name": "stderr",
     "output_type": "stream",
     "text": [
      "[Stage 10:=============================>                            (1 + 1) / 2]"
     ]
    },
    {
     "name": "stdout",
     "output_type": "stream",
     "text": [
      "+-----+-------+-----------+--------------+-----+------------+----------------+-----+--------+-----+\n",
      "|index|airline|source_city|departure_time|stops|arrival_time|destination_city|class|duration|price|\n",
      "+-----+-------+-----------+--------------+-----+------------+----------------+-----+--------+-----+\n",
      "|    0|      0|          0|             0|    0|           0|               0|    0|       0|    0|\n",
      "+-----+-------+-----------+--------------+-----+------------+----------------+-----+--------+-----+\n",
      "\n"
     ]
    },
    {
     "name": "stderr",
     "output_type": "stream",
     "text": [
      "                                                                                "
     ]
    }
   ],
   "source": [
    "from pyspark.sql.functions import col, when, count, isnull\n",
    "\n",
    "print(\"Number of records before cleaning:\", df_airlines.count())\n",
    "df_airlines.select([count(when(isnull(col(c.name)), c.name)).alias(c.name) for c in df_airlines.schema]).show()\n",
    "\n",
    "airlines_clean = df_airlines.dropna()\n",
    "\n",
    "print(\"Number of records after cleaning:\", airlines_clean.count())\n",
    "airlines_clean.select([count(when(isnull(col(c.name)), c.name)).alias(c.name) for c in airlines_clean.schema]).show()"
   ]
  },
  {
   "cell_type": "markdown",
   "id": "9fb9afce-b9d4-45ad-bba8-7daf24fade23",
   "metadata": {},
   "source": [
    "## Normalize categorical values: map “zero” → 0, “one” → 1, etc. in stops."
   ]
  },
  {
   "cell_type": "code",
   "execution_count": 22,
   "id": "1f3a5207-dc30-471e-aee2-2ad5846f904c",
   "metadata": {},
   "outputs": [
    {
     "name": "stdout",
     "output_type": "stream",
     "text": [
      "+-----+--------+-----------+--------------+-----+-------------+----------------+-------+--------+-----+\n",
      "|index| airline|source_city|departure_time|stops| arrival_time|destination_city|  class|duration|price|\n",
      "+-----+--------+-----------+--------------+-----+-------------+----------------+-------+--------+-----+\n",
      "|    0|SpiceJet|      Delhi|       Evening|    0|        Night|          Mumbai|Economy|    2.17| 5953|\n",
      "|    1|SpiceJet|      Delhi| Early_Morning|    0|      Morning|          Mumbai|Economy|    2.33| 5953|\n",
      "|    2| AirAsia|      Delhi| Early_Morning|    0|Early_Morning|          Mumbai|Economy|    2.17| 5956|\n",
      "|    3| Vistara|      Delhi|       Morning|    0|    Afternoon|          Mumbai|Economy|    2.25| 5955|\n",
      "|    4| Vistara|      Delhi|       Morning|    0|      Morning|          Mumbai|Economy|    2.33| 5955|\n",
      "+-----+--------+-----------+--------------+-----+-------------+----------------+-------+--------+-----+\n",
      "only showing top 5 rows\n"
     ]
    }
   ],
   "source": [
    "from pyspark.sql.functions import lower, lit\n",
    "df_transformed = airlines_clean.withColumn(\"stops\",\n",
    "                                           when(lower(col(\"stops\")) == \"zero\", lit(0))\n",
    "                                           .when(lower(col(\"stops\")) == \"one\", lit(1))\n",
    "                                           .otherwise(None))\n",
    "df_transformed.show(n=5)"
   ]
  },
  {
   "cell_type": "markdown",
   "id": "3d97487f-45f4-418e-a6a6-cb95e2f05a02",
   "metadata": {},
   "source": [
    "## Create a new column called route: “Delhi → Mumbai” from source_city and destination_city"
   ]
  },
  {
   "cell_type": "code",
   "execution_count": 24,
   "id": "0bfb4fc4-322c-409e-8d3b-c2d5cb1f74b9",
   "metadata": {},
   "outputs": [
    {
     "name": "stdout",
     "output_type": "stream",
     "text": [
      "+-----+--------+-----------+--------------+-----+-------------+----------------+-------+--------+-----+---------------+\n",
      "|index| airline|source_city|departure_time|stops| arrival_time|destination_city|  class|duration|price|          route|\n",
      "+-----+--------+-----------+--------------+-----+-------------+----------------+-------+--------+-----+---------------+\n",
      "|    0|SpiceJet|      Delhi|       Evening| zero|        Night|          Mumbai|Economy|    2.17| 5953|Delhi -> Mumbai|\n",
      "|    1|SpiceJet|      Delhi| Early_Morning| zero|      Morning|          Mumbai|Economy|    2.33| 5953|Delhi -> Mumbai|\n",
      "|    2| AirAsia|      Delhi| Early_Morning| zero|Early_Morning|          Mumbai|Economy|    2.17| 5956|Delhi -> Mumbai|\n",
      "|    3| Vistara|      Delhi|       Morning| zero|    Afternoon|          Mumbai|Economy|    2.25| 5955|Delhi -> Mumbai|\n",
      "|    4| Vistara|      Delhi|       Morning| zero|      Morning|          Mumbai|Economy|    2.33| 5955|Delhi -> Mumbai|\n",
      "+-----+--------+-----------+--------------+-----+-------------+----------------+-------+--------+-----+---------------+\n",
      "only showing top 5 rows\n"
     ]
    }
   ],
   "source": [
    "from pyspark.sql.functions import concat_ws\n",
    "df_transformed = df_transformed.withColumn(\"route\", concat_ws(\" -> \", col(\"source_city\"), col(\"destination_city\")))\n",
    "df_transformed.show(n=5)"
   ]
  },
  {
   "cell_type": "markdown",
   "id": "d6ae4f14-be40-47b1-86b9-fd07dd70dd8c",
   "metadata": {},
   "source": [
    "## Transform departure_time and arrival_time to numerical categories (Morning, Afternoon, etc.), then encode as numbers (0=Early_Morning, 1=Morning, etc.)."
   ]
  },
  {
   "cell_type": "code",
   "execution_count": 25,
   "id": "c6254cfe-fa01-48cc-8def-77041929d604",
   "metadata": {},
   "outputs": [
    {
     "name": "stdout",
     "output_type": "stream",
     "text": [
      "+-----+--------+-----------+--------------+-----+------------+----------------+-------+--------+-----+---------------+\n",
      "|index| airline|source_city|departure_time|stops|arrival_time|destination_city|  class|duration|price|          route|\n",
      "+-----+--------+-----------+--------------+-----+------------+----------------+-------+--------+-----+---------------+\n",
      "|    0|SpiceJet|      Delhi|             3| zero|           4|          Mumbai|Economy|    2.17| 5953|Delhi -> Mumbai|\n",
      "|    1|SpiceJet|      Delhi|             0| zero|           1|          Mumbai|Economy|    2.33| 5953|Delhi -> Mumbai|\n",
      "|    2| AirAsia|      Delhi|             0| zero|           0|          Mumbai|Economy|    2.17| 5956|Delhi -> Mumbai|\n",
      "|    3| Vistara|      Delhi|             1| zero|           2|          Mumbai|Economy|    2.25| 5955|Delhi -> Mumbai|\n",
      "|    4| Vistara|      Delhi|             1| zero|           1|          Mumbai|Economy|    2.33| 5955|Delhi -> Mumbai|\n",
      "+-----+--------+-----------+--------------+-----+------------+----------------+-------+--------+-----+---------------+\n",
      "only showing top 5 rows\n"
     ]
    }
   ],
   "source": [
    "df_transformed = df_transformed.withColumn(\"departure_time\",\n",
    "                                           when(lower(col(\"departure_time\")) == \"early_morning\", 0)\n",
    "                                           .when(lower(col(\"departure_time\")) == \"morning\", 1)\n",
    "                                           .when(lower(col(\"departure_time\")) == \"afternoon\", 2)\n",
    "                                           .when(lower(col(\"departure_time\")) == \"evening\", 3)\n",
    "                                           .when(lower(col(\"departure_time\")) == \"night\", 4)\n",
    "                                           .otherwise(None))\n",
    "df_transformed = df_transformed.withColumn(\"arrival_time\",\n",
    "                                           when(lower(col(\"arrival_time\")) == \"early_morning\", 0)\n",
    "                                           .when(lower(col(\"arrival_time\")) == \"morning\", 1)\n",
    "                                           .when(lower(col(\"arrival_time\")) == \"afternoon\", 2)\n",
    "                                           .when(lower(col(\"arrival_time\")) == \"evening\", 3)\n",
    "                                           .when(lower(col(\"arrival_time\")) == \"night\", 4)\n",
    "                                           .otherwise(None))\n",
    "df_transformed.show(n=5)"
   ]
  },
  {
   "cell_type": "markdown",
   "id": "04892771-596b-46ae-9081-bd8898b4d763",
   "metadata": {},
   "source": [
    "## Add a new column is_expensive: when(price > 6000, True).otherwise(False)."
   ]
  },
  {
   "cell_type": "code",
   "execution_count": 27,
   "id": "14521488-f96a-4165-b567-4d49fb8fbfe4",
   "metadata": {},
   "outputs": [
    {
     "name": "stdout",
     "output_type": "stream",
     "text": [
      "+-----+--------+-----------+--------------+-----+------------+----------------+-------+--------+-----+---------------+------------+\n",
      "|index| airline|source_city|departure_time|stops|arrival_time|destination_city|  class|duration|price|          route|is_expensive|\n",
      "+-----+--------+-----------+--------------+-----+------------+----------------+-------+--------+-----+---------------+------------+\n",
      "|    0|SpiceJet|      Delhi|             3| zero|           4|          Mumbai|Economy|    2.17| 5953|Delhi -> Mumbai|       false|\n",
      "|    1|SpiceJet|      Delhi|             0| zero|           1|          Mumbai|Economy|    2.33| 5953|Delhi -> Mumbai|       false|\n",
      "|    2| AirAsia|      Delhi|             0| zero|           0|          Mumbai|Economy|    2.17| 5956|Delhi -> Mumbai|       false|\n",
      "|    3| Vistara|      Delhi|             1| zero|           2|          Mumbai|Economy|    2.25| 5955|Delhi -> Mumbai|       false|\n",
      "|    4| Vistara|      Delhi|             1| zero|           1|          Mumbai|Economy|    2.33| 5955|Delhi -> Mumbai|       false|\n",
      "+-----+--------+-----------+--------------+-----+------------+----------------+-------+--------+-----+---------------+------------+\n",
      "only showing top 5 rows\n"
     ]
    }
   ],
   "source": [
    "df_transformed = df_transformed.withColumn(\"is_expensive\", when(col(\"price\") > 6000, lit(True)).otherwise(False))\n",
    "df_transformed.show(n=5)"
   ]
  },
  {
   "cell_type": "markdown",
   "id": "51495a36-ebf4-4c48-bc97-1afd115bcb4b",
   "metadata": {},
   "source": [
    "## Get the average price per airline."
   ]
  },
  {
   "cell_type": "code",
   "execution_count": 29,
   "id": "9a5b880c-934b-408e-b5cd-799f9337e114",
   "metadata": {},
   "outputs": [
    {
     "name": "stderr",
     "output_type": "stream",
     "text": [
      "[Stage 22:=============================>                            (1 + 1) / 2]"
     ]
    },
    {
     "name": "stdout",
     "output_type": "stream",
     "text": [
      "+---------+------------------+\n",
      "|  airline|         avg_price|\n",
      "+---------+------------------+\n",
      "|  Vistara| 30396.53630170735|\n",
      "|Air_India| 23507.01911190229|\n",
      "| SpiceJet| 6179.278881367218|\n",
      "| GO_FIRST| 5652.007595045959|\n",
      "|   Indigo| 5324.216303339517|\n",
      "|  AirAsia|4091.0727419555224|\n",
      "+---------+------------------+\n",
      "\n"
     ]
    },
    {
     "name": "stderr",
     "output_type": "stream",
     "text": [
      "                                                                                "
     ]
    }
   ],
   "source": [
    "from pyspark.sql.functions import avg\n",
    "df_transformed.groupBy(\"airline\").agg(avg(\"price\").alias(\"avg_price\")).orderBy(col(\"avg_price\").desc()).show()"
   ]
  },
  {
   "cell_type": "markdown",
   "id": "72309b35-a27e-4c95-83e1-8bd5d2b76c99",
   "metadata": {},
   "source": [
    "## Average duration per route"
   ]
  },
  {
   "cell_type": "code",
   "execution_count": 30,
   "id": "77ef06f8-2181-46bd-96db-009cd776e3ef",
   "metadata": {},
   "outputs": [
    {
     "name": "stderr",
     "output_type": "stream",
     "text": [
      "[Stage 25:=============================>                            (1 + 1) / 2]"
     ]
    },
    {
     "name": "stdout",
     "output_type": "stream",
     "text": [
      "+--------------------+------------------+\n",
      "|               route|      avg_duration|\n",
      "+--------------------+------------------+\n",
      "|  Kolkata -> Chennai|14.774181563782903|\n",
      "|  Chennai -> Kolkata|14.515774035955694|\n",
      "|Bangalore -> Chennai|14.480207509137166|\n",
      "|Bangalore -> Hyde...|14.162432783513621|\n",
      "|Chennai -> Bangalore|13.952593563812163|\n",
      "|Kolkata -> Hyderabad|13.853107514948396|\n",
      "|Kolkata -> Bangalore| 13.79294687524098|\n",
      "|Hyderabad -> Kolkata|13.535322410033165|\n",
      "|Hyderabad -> Chennai|13.293238468912078|\n",
      "| Mumbai -> Hyderabad|13.263310412247066|\n",
      "|Chennai -> Hyderabad|13.153984931732971|\n",
      "|Bangalore -> Kolkata|13.099143404859825|\n",
      "|   Kolkata -> Mumbai|12.991932481150478|\n",
      "|   Mumbai -> Kolkata|12.836848115489666|\n",
      "|    Delhi -> Kolkata| 12.73596614766045|\n",
      "|   Mumbai -> Chennai|12.665900287564627|\n",
      "|  Delhi -> Hyderabad|12.518350118710492|\n",
      "|    Delhi -> Chennai|12.433964745763944|\n",
      "|   Chennai -> Mumbai|12.374656244132625|\n",
      "|Hyderabad -> Bang...| 12.09331678643705|\n",
      "+--------------------+------------------+\n",
      "only showing top 20 rows\n"
     ]
    },
    {
     "name": "stderr",
     "output_type": "stream",
     "text": [
      "                                                                                "
     ]
    }
   ],
   "source": [
    "df_transformed.groupBy(\"route\").agg(avg(\"duration\").alias(\"avg_duration\")).orderBy(col(\"avg_duration\").desc()).show()"
   ]
  },
  {
   "cell_type": "markdown",
   "id": "75330519-a8ce-4786-a33a-62d82e3328ef",
   "metadata": {},
   "source": [
    "## Minimum and maximum price per airline."
   ]
  },
  {
   "cell_type": "code",
   "execution_count": 34,
   "id": "711f3080-bc71-4456-8180-2170a4fff693",
   "metadata": {},
   "outputs": [
    {
     "name": "stderr",
     "output_type": "stream",
     "text": [
      "[Stage 31:=============================>                            (1 + 1) / 2]"
     ]
    },
    {
     "name": "stdout",
     "output_type": "stream",
     "text": [
      "+---------+---------+---------+\n",
      "|  airline|min_price|max_price|\n",
      "+---------+---------+---------+\n",
      "|   Indigo|     1105|    31952|\n",
      "| SpiceJet|     1106|    34158|\n",
      "|Air_India|     1526|    90970|\n",
      "|  AirAsia|     1105|    31917|\n",
      "| GO_FIRST|     1105|    32803|\n",
      "|  Vistara|     1714|   123071|\n",
      "+---------+---------+---------+\n",
      "\n"
     ]
    },
    {
     "name": "stderr",
     "output_type": "stream",
     "text": [
      "                                                                                "
     ]
    }
   ],
   "source": [
    "from pyspark.sql.functions import min, max, col\n",
    "\n",
    "df_transformed.groupBy(\"airline\").agg(min(col(\"price\")).alias(\"min_price\"),max(col(\"price\")).alias(\"max_price\")).show()"
   ]
  },
  {
   "cell_type": "markdown",
   "id": "815178cd-fe1e-40dd-8960-8444c1560272",
   "metadata": {},
   "source": [
    "## Count flights by departure_time category."
   ]
  },
  {
   "cell_type": "code",
   "execution_count": 37,
   "id": "e0a98b20-90aa-4839-a186-a4c24e7659e1",
   "metadata": {},
   "outputs": [
    {
     "name": "stderr",
     "output_type": "stream",
     "text": [
      "[Stage 34:=============================>                            (1 + 1) / 2]"
     ]
    },
    {
     "name": "stdout",
     "output_type": "stream",
     "text": [
      "+--------------+------------+\n",
      "|departure_time|flight_count|\n",
      "+--------------+------------+\n",
      "|          NULL|           0|\n",
      "|             0|       66790|\n",
      "|             1|       71146|\n",
      "|             2|       47794|\n",
      "|             3|       65102|\n",
      "|             4|       48015|\n",
      "+--------------+------------+\n",
      "\n"
     ]
    },
    {
     "name": "stderr",
     "output_type": "stream",
     "text": [
      "                                                                                "
     ]
    }
   ],
   "source": [
    "df_transformed.groupBy(\"departure_time\").agg(count(\"departure_time\").alias(\"flight_count\")).orderBy(\"departure_time\").show()"
   ]
  },
  {
   "cell_type": "code",
   "execution_count": null,
   "id": "cafe11f2-3af5-4ee2-865f-93c1c8070e96",
   "metadata": {},
   "outputs": [],
   "source": []
  }
 ],
 "metadata": {
  "kernelspec": {
   "display_name": "Python 3 (ipykernel)",
   "language": "python",
   "name": "python3"
  },
  "language_info": {
   "codemirror_mode": {
    "name": "ipython",
    "version": 3
   },
   "file_extension": ".py",
   "mimetype": "text/x-python",
   "name": "python",
   "nbconvert_exporter": "python",
   "pygments_lexer": "ipython3",
   "version": "3.10.12"
  }
 },
 "nbformat": 4,
 "nbformat_minor": 5
}
