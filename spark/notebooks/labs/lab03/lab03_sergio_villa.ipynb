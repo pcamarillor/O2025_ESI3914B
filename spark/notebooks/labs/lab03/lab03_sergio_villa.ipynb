{
 "cells": [
  {
   "cell_type": "markdown",
   "id": "b92d9622",
   "metadata": {},
   "source": [
    "# <center> <img src=\"../../img/ITESOLogo.png\" alt=\"ITESO\" width=\"480\" height=\"130\"> </center>\n",
    "# <center> **Departamento de Electrónica, Sistemas e Informática** </center>\n",
    "---\n",
    "## <center> Computer Systems Engineering  </center>\n",
    "---\n",
    "### <center> Big Data Processing </center>\n",
    "---\n",
    "#### <center> **Autumn 2025** </center>\n",
    "---\n",
    "\n",
    "**Lab 03**: Data Cleaning and Transformation Pipeline\n",
    "\n",
    "**Date**: September 18th 2025\n",
    "\n",
    "**Student Name**: Sergio Villa Rodríguez\n",
    "\n",
    "**Professor**: Pablo Camarillo Ramirez"
   ]
  },
  {
   "cell_type": "markdown",
   "id": "b1c54a4d-a32d-429a-9d89-84fc37d9c724",
   "metadata": {},
   "source": [
    "## Find PySpark Installation"
   ]
  },
  {
   "cell_type": "code",
   "execution_count": 1,
   "id": "c6ceb406-53d8-45c7-a9fb-75b0410d10fb",
   "metadata": {},
   "outputs": [],
   "source": [
    "import findspark\n",
    "findspark.init()"
   ]
  },
  {
   "cell_type": "markdown",
   "id": "f64b2e25-ecfb-4c3f-8ba3-c893b833d1dc",
   "metadata": {},
   "source": [
    "## Create Spark Session"
   ]
  },
  {
   "cell_type": "code",
   "execution_count": 2,
   "id": "e1c083a4-38a9-4b6e-8903-12180285d30b",
   "metadata": {},
   "outputs": [
    {
     "name": "stderr",
     "output_type": "stream",
     "text": [
      "WARNING: Using incubator modules: jdk.incubator.vector\n",
      "Using Spark's default log4j profile: org/apache/spark/log4j2-defaults.properties\n",
      "Setting default log level to \"WARN\".\n",
      "To adjust logging level use sc.setLogLevel(newLevel). For SparkR, use setLogLevel(newLevel).\n",
      "25/09/20 19:29:11 WARN NativeCodeLoader: Unable to load native-hadoop library for your platform... using builtin-java classes where applicable\n"
     ]
    }
   ],
   "source": [
    "from pyspark.sql import SparkSession\n",
    "\n",
    "spark = SparkSession.builder \\\n",
    "    .appName(\"Examples on data sources (Files)\") \\\n",
    "    .master(\"spark://f0e377311925:7077\") \\\n",
    "    .config(\"spark.ui.port\", \"4040\") \\\n",
    "    .getOrCreate()\n",
    "\n",
    "sc = spark.sparkContext\n",
    "sc.setLogLevel(\"ERROR\")"
   ]
  },
  {
   "cell_type": "markdown",
   "id": "f6118fc4-6345-45f9-a69a-b5e268ea5364",
   "metadata": {},
   "source": [
    "## Define the schema"
   ]
  },
  {
   "cell_type": "code",
   "execution_count": 3,
   "id": "4087670b-9b9e-4832-ad4b-c0a9e49b4117",
   "metadata": {},
   "outputs": [
    {
     "data": {
      "text/plain": [
       "StructType([StructField('index', IntegerType(), True), StructField('airline', StringType(), True), StructField('flight', StringType(), True), StructField('source_city', StringType(), True), StructField('departure_time', StringType(), True), StructField('stops', StringType(), True), StructField('arrival_time', StringType(), True), StructField('destination_city', StringType(), True), StructField('class', StringType(), True), StructField('duration', FloatType(), True), StructField('days_left', IntegerType(), True), StructField('price', IntegerType(), True)])"
      ]
     },
     "execution_count": 3,
     "metadata": {},
     "output_type": "execute_result"
    }
   ],
   "source": [
    "from sergiovillaa.spark_utils import SparkUtils\n",
    "airlines_schema_columns = [(\"index\", \"int\"), \n",
    "     (\"airline\", \"string\"), \n",
    "     (\"flight\", \"string\"),\n",
    "     (\"source_city\", \"string\"),\n",
    "     (\"departure_time\", \"string\"),\n",
    "     (\"stops\", \"string\"),\n",
    "     (\"arrival_time\", \"string\"),\n",
    "     (\"destination_city\", \"string\"),\n",
    "     (\"class\", \"string\"),\n",
    "     (\"duration\", \"float\"),\n",
    "     (\"days_left\", \"int\"),\n",
    "     (\"price\", \"int\")\n",
    "     ]\n",
    "airlines_schema = SparkUtils.generate_schema(airlines_schema_columns)\n",
    "airlines_schema"
   ]
  },
  {
   "cell_type": "markdown",
   "id": "c61f0589-3a92-4b6b-80fe-5df6b15b916f",
   "metadata": {},
   "source": [
    "## Load CSV"
   ]
  },
  {
   "cell_type": "code",
   "execution_count": 4,
   "id": "2434604e-a6d8-4121-a65b-1fe3a69435d4",
   "metadata": {},
   "outputs": [
    {
     "name": "stderr",
     "output_type": "stream",
     "text": [
      "[Stage 0:>                                                          (0 + 1) / 1]"
     ]
    },
    {
     "name": "stdout",
     "output_type": "stream",
     "text": [
      "+-----+--------+-------+-----------+--------------+-----+-------------+----------------+-------+--------+---------+-----+\n",
      "|index| airline| flight|source_city|departure_time|stops| arrival_time|destination_city|  class|duration|days_left|price|\n",
      "+-----+--------+-------+-----------+--------------+-----+-------------+----------------+-------+--------+---------+-----+\n",
      "|    0|SpiceJet|SG-8709|      Delhi|       Evening| zero|        Night|          Mumbai|Economy|    2.17|        1| 5953|\n",
      "|    1|SpiceJet|SG-8157|      Delhi| Early_Morning| zero|      Morning|          Mumbai|Economy|    2.33|        1| 5953|\n",
      "|    2| AirAsia| I5-764|      Delhi| Early_Morning| zero|Early_Morning|          Mumbai|Economy|    2.17|        1| 5956|\n",
      "|    3| Vistara| UK-995|      Delhi|       Morning| zero|    Afternoon|          Mumbai|Economy|    2.25|        1| 5955|\n",
      "|    4| Vistara| UK-963|      Delhi|       Morning| zero|      Morning|          Mumbai|Economy|    2.33|        1| 5955|\n",
      "+-----+--------+-------+-----------+--------------+-----+-------------+----------------+-------+--------+---------+-----+\n",
      "only showing top 5 rows\n"
     ]
    },
    {
     "name": "stderr",
     "output_type": "stream",
     "text": [
      "                                                                                "
     ]
    }
   ],
   "source": [
    "df_airlines = spark.read \\\n",
    "                .option(\"header\", \"true\") \\\n",
    "                .schema(airlines_schema) \\\n",
    "                .csv(\"/opt/spark/work-dir/data/airline/\")\n",
    "\n",
    "df_airlines.show(n=5)"
   ]
  },
  {
   "cell_type": "markdown",
   "id": "4c8e583a-fb52-42c4-beeb-0921f6d53c6e",
   "metadata": {},
   "source": [
    "## Data cleaning"
   ]
  },
  {
   "cell_type": "code",
   "execution_count": 5,
   "id": "93787a19-5c20-4b6f-b186-8a9ba9be2f92",
   "metadata": {},
   "outputs": [
    {
     "name": "stderr",
     "output_type": "stream",
     "text": [
      "                                                                                "
     ]
    },
    {
     "name": "stdout",
     "output_type": "stream",
     "text": [
      "number of records before cleaning: 300153\n"
     ]
    },
    {
     "name": "stderr",
     "output_type": "stream",
     "text": [
      "                                                                                "
     ]
    },
    {
     "name": "stdout",
     "output_type": "stream",
     "text": [
      "+-----+-------+------+-----------+--------------+-----+------------+----------------+-----+--------+---------+-----+\n",
      "|index|airline|flight|source_city|departure_time|stops|arrival_time|destination_city|class|duration|days_left|price|\n",
      "+-----+-------+------+-----------+--------------+-----+------------+----------------+-----+--------+---------+-----+\n",
      "|    0|      0|     0|          0|             0|    0|           0|               0|    0|       0|        0|    0|\n",
      "+-----+-------+------+-----------+--------------+-----+------------+----------------+-----+--------+---------+-----+\n",
      "\n"
     ]
    },
    {
     "name": "stderr",
     "output_type": "stream",
     "text": [
      "                                                                                "
     ]
    },
    {
     "name": "stdout",
     "output_type": "stream",
     "text": [
      "number of records after cleaning with trim: 300153\n"
     ]
    },
    {
     "name": "stderr",
     "output_type": "stream",
     "text": [
      "                                                                                "
     ]
    },
    {
     "name": "stdout",
     "output_type": "stream",
     "text": [
      "+-----+-------+------+-----------+--------------+-----+------------+----------------+-----+--------+---------+-----+\n",
      "|index|airline|flight|source_city|departure_time|stops|arrival_time|destination_city|class|duration|days_left|price|\n",
      "+-----+-------+------+-----------+--------------+-----+------------+----------------+-----+--------+---------+-----+\n",
      "|    0|      0|     0|          0|             0|    0|           0|               0|    0|       0|        0|    0|\n",
      "+-----+-------+------+-----------+--------------+-----+------------+----------------+-----+--------+---------+-----+\n",
      "\n"
     ]
    },
    {
     "name": "stderr",
     "output_type": "stream",
     "text": [
      "                                                                                "
     ]
    },
    {
     "name": "stdout",
     "output_type": "stream",
     "text": [
      "number of records after cleaning with dropna: 300153\n"
     ]
    },
    {
     "name": "stderr",
     "output_type": "stream",
     "text": [
      "[Stage 22:=============================>                            (1 + 1) / 2]"
     ]
    },
    {
     "name": "stdout",
     "output_type": "stream",
     "text": [
      "+-----+-------+------+-----------+--------------+-----+------------+----------------+-----+--------+---------+-----+\n",
      "|index|airline|flight|source_city|departure_time|stops|arrival_time|destination_city|class|duration|days_left|price|\n",
      "+-----+-------+------+-----------+--------------+-----+------------+----------------+-----+--------+---------+-----+\n",
      "|    0|      0|     0|          0|             0|    0|           0|               0|    0|       0|        0|    0|\n",
      "+-----+-------+------+-----------+--------------+-----+------------+----------------+-----+--------+---------+-----+\n",
      "\n"
     ]
    },
    {
     "name": "stderr",
     "output_type": "stream",
     "text": [
      "                                                                                "
     ]
    }
   ],
   "source": [
    "from pyspark.sql.functions import trim, col, count, isnull, when\n",
    "print(f\"number of records before cleaning: {df_airlines.count()}\")\n",
    "# Get number of null values for each column before cleaning \n",
    "df_airlines.select([count(when(isnull(c[0]) | col(c[0]).isNull(), c[0])).alias(c[0]) for c in airlines_schema_columns]).show()\n",
    "\n",
    "# Perform data cleaning with trim (column by column)\n",
    "airlines_clean = df_airlines \\\n",
    "        .dropDuplicates([\"index\"]) \\\n",
    "        .withColumn(\"airline\", trim(\"airline\")) \\\n",
    "        .withColumn(\"source_city\", trim(\"source_city\")) \\\n",
    "        .withColumn(\"destination_city\", trim(\"destination_city\")) \\\n",
    "        .filter(col(\"price\").isNotNull())\n",
    "\n",
    "# Simply using dropna()\n",
    "airlines_clean_v2 = df_airlines.dropna()\n",
    "\n",
    "print(f\"number of records after cleaning with trim: {airlines_clean.count()}\")\n",
    "airlines_clean.select([count(when(isnull(c[0]) | col(c[0]).isNull(), c[0])).alias(c[0]) for c in airlines_schema_columns]).show()\n",
    "\n",
    "print(f\"number of records after cleaning with dropna: {airlines_clean_v2.count()}\")\n",
    "airlines_clean_v2.select([count(when(isnull(c[0]) | col(c[0]).isNull(), c[0])).alias(c[0]) for c in airlines_schema_columns]).show()"
   ]
  },
  {
   "cell_type": "markdown",
   "id": "b92232d8-72cc-4b48-b310-6dcd44fbb7ae",
   "metadata": {},
   "source": [
    "## Normalize categorical values"
   ]
  },
  {
   "cell_type": "code",
   "execution_count": 8,
   "id": "070224ec-a52c-4d04-afaa-01a9be5bc1b6",
   "metadata": {},
   "outputs": [
    {
     "name": "stderr",
     "output_type": "stream",
     "text": [
      "[Stage 29:=============================>                            (1 + 1) / 2]"
     ]
    },
    {
     "name": "stdout",
     "output_type": "stream",
     "text": [
      "+-----------+\n",
      "|      stops|\n",
      "+-----------+\n",
      "|two_or_more|\n",
      "|        one|\n",
      "|       zero|\n",
      "+-----------+\n",
      "\n"
     ]
    },
    {
     "name": "stderr",
     "output_type": "stream",
     "text": [
      "                                                                                "
     ]
    }
   ],
   "source": [
    "#Different values on column \"stops\"\n",
    "airlines_clean_v2.select(\"stops\").distinct().show()"
   ]
  },
  {
   "cell_type": "code",
   "execution_count": 12,
   "id": "cd12dfcd-1a4c-458f-87fc-b25540640ae6",
   "metadata": {},
   "outputs": [
    {
     "name": "stdout",
     "output_type": "stream",
     "text": [
      "+-----+---------+-------+-----------+--------------+-----+-------------+----------------+-------+--------+---------+-----+-------------+\n",
      "|index|  airline| flight|source_city|departure_time|stops| arrival_time|destination_city|  class|duration|days_left|price|stops_numeric|\n",
      "+-----+---------+-------+-----------+--------------+-----+-------------+----------------+-------+--------+---------+-----+-------------+\n",
      "|    0| SpiceJet|SG-8709|      Delhi|       Evening| zero|        Night|          Mumbai|Economy|    2.17|        1| 5953|            0|\n",
      "|    1| SpiceJet|SG-8157|      Delhi| Early_Morning| zero|      Morning|          Mumbai|Economy|    2.33|        1| 5953|            0|\n",
      "|    2|  AirAsia| I5-764|      Delhi| Early_Morning| zero|Early_Morning|          Mumbai|Economy|    2.17|        1| 5956|            0|\n",
      "|    3|  Vistara| UK-995|      Delhi|       Morning| zero|    Afternoon|          Mumbai|Economy|    2.25|        1| 5955|            0|\n",
      "|    4|  Vistara| UK-963|      Delhi|       Morning| zero|      Morning|          Mumbai|Economy|    2.33|        1| 5955|            0|\n",
      "|    5|  Vistara| UK-945|      Delhi|       Morning| zero|    Afternoon|          Mumbai|Economy|    2.33|        1| 5955|            0|\n",
      "|    6|  Vistara| UK-927|      Delhi|       Morning| zero|      Morning|          Mumbai|Economy|    2.08|        1| 6060|            0|\n",
      "|    7|  Vistara| UK-951|      Delhi|     Afternoon| zero|      Evening|          Mumbai|Economy|    2.17|        1| 6060|            0|\n",
      "|    8| GO_FIRST| G8-334|      Delhi| Early_Morning| zero|      Morning|          Mumbai|Economy|    2.17|        1| 5954|            0|\n",
      "|    9| GO_FIRST| G8-336|      Delhi|     Afternoon| zero|      Evening|          Mumbai|Economy|    2.25|        1| 5954|            0|\n",
      "|   10| GO_FIRST| G8-392|      Delhi|     Afternoon| zero|      Evening|          Mumbai|Economy|    2.25|        1| 5954|            0|\n",
      "|   11| GO_FIRST| G8-338|      Delhi|       Morning| zero|    Afternoon|          Mumbai|Economy|    2.33|        1| 5954|            0|\n",
      "|   12|   Indigo|6E-5001|      Delhi| Early_Morning| zero|      Morning|          Mumbai|Economy|    2.17|        1| 5955|            0|\n",
      "|   13|   Indigo|6E-6202|      Delhi|       Morning| zero|    Afternoon|          Mumbai|Economy|    2.17|        1| 5955|            0|\n",
      "|   14|   Indigo| 6E-549|      Delhi|     Afternoon| zero|      Evening|          Mumbai|Economy|    2.25|        1| 5955|            0|\n",
      "|   15|   Indigo|6E-6278|      Delhi|       Morning| zero|      Morning|          Mumbai|Economy|    2.33|        1| 5955|            0|\n",
      "|   16|Air_India| AI-887|      Delhi| Early_Morning| zero|      Morning|          Mumbai|Economy|    2.08|        1| 5955|            0|\n",
      "|   17|Air_India| AI-665|      Delhi| Early_Morning| zero|      Morning|          Mumbai|Economy|    2.17|        1| 5955|            0|\n",
      "|   18|  AirAsia| I5-747|      Delhi|       Evening|  one|Early_Morning|          Mumbai|Economy|   12.25|        1| 5949|            1|\n",
      "|   19|  AirAsia| I5-747|      Delhi|       Evening|  one|      Morning|          Mumbai|Economy|   16.33|        1| 5949|            1|\n",
      "+-----+---------+-------+-----------+--------------+-----+-------------+----------------+-------+--------+---------+-----+-------------+\n",
      "only showing top 20 rows\n"
     ]
    }
   ],
   "source": [
    "from pyspark.sql.functions import when, lit\n",
    "airlines_t1 = airlines_clean_v2.withColumn(\"stops_numeric\",\n",
    "                                           when(airlines_clean_v2.stops == \"zero\", lit(0))\n",
    "                                               .when(airlines_clean_v2.stops == \"one\", lit(1))\n",
    "                                          .when(airlines_clean_v2.stops == \"two_or_more\", lit(2)))\n",
    "airlines_t1.show(n=20)"
   ]
  },
  {
   "cell_type": "markdown",
   "id": "fbcfc7a7-582b-402d-9cb1-d4a1ab40e857",
   "metadata": {},
   "source": [
    "## Creating new column Route"
   ]
  },
  {
   "cell_type": "code",
   "execution_count": 13,
   "id": "0a0bf47b-ffcb-48b2-bca9-5a3ca1132dbb",
   "metadata": {},
   "outputs": [
    {
     "name": "stdout",
     "output_type": "stream",
     "text": [
      "+-----+---------+-------+-----------+--------------+-----+-------------+----------------+-------+--------+---------+-----+-------------+-------------+\n",
      "|index|  airline| flight|source_city|departure_time|stops| arrival_time|destination_city|  class|duration|days_left|price|stops_numeric|        route|\n",
      "+-----+---------+-------+-----------+--------------+-----+-------------+----------------+-------+--------+---------+-----+-------------+-------------+\n",
      "|    0| SpiceJet|SG-8709|      Delhi|       Evening| zero|        Night|          Mumbai|Economy|    2.17|        1| 5953|            0|Delhi->Mumbai|\n",
      "|    1| SpiceJet|SG-8157|      Delhi| Early_Morning| zero|      Morning|          Mumbai|Economy|    2.33|        1| 5953|            0|Delhi->Mumbai|\n",
      "|    2|  AirAsia| I5-764|      Delhi| Early_Morning| zero|Early_Morning|          Mumbai|Economy|    2.17|        1| 5956|            0|Delhi->Mumbai|\n",
      "|    3|  Vistara| UK-995|      Delhi|       Morning| zero|    Afternoon|          Mumbai|Economy|    2.25|        1| 5955|            0|Delhi->Mumbai|\n",
      "|    4|  Vistara| UK-963|      Delhi|       Morning| zero|      Morning|          Mumbai|Economy|    2.33|        1| 5955|            0|Delhi->Mumbai|\n",
      "|    5|  Vistara| UK-945|      Delhi|       Morning| zero|    Afternoon|          Mumbai|Economy|    2.33|        1| 5955|            0|Delhi->Mumbai|\n",
      "|    6|  Vistara| UK-927|      Delhi|       Morning| zero|      Morning|          Mumbai|Economy|    2.08|        1| 6060|            0|Delhi->Mumbai|\n",
      "|    7|  Vistara| UK-951|      Delhi|     Afternoon| zero|      Evening|          Mumbai|Economy|    2.17|        1| 6060|            0|Delhi->Mumbai|\n",
      "|    8| GO_FIRST| G8-334|      Delhi| Early_Morning| zero|      Morning|          Mumbai|Economy|    2.17|        1| 5954|            0|Delhi->Mumbai|\n",
      "|    9| GO_FIRST| G8-336|      Delhi|     Afternoon| zero|      Evening|          Mumbai|Economy|    2.25|        1| 5954|            0|Delhi->Mumbai|\n",
      "|   10| GO_FIRST| G8-392|      Delhi|     Afternoon| zero|      Evening|          Mumbai|Economy|    2.25|        1| 5954|            0|Delhi->Mumbai|\n",
      "|   11| GO_FIRST| G8-338|      Delhi|       Morning| zero|    Afternoon|          Mumbai|Economy|    2.33|        1| 5954|            0|Delhi->Mumbai|\n",
      "|   12|   Indigo|6E-5001|      Delhi| Early_Morning| zero|      Morning|          Mumbai|Economy|    2.17|        1| 5955|            0|Delhi->Mumbai|\n",
      "|   13|   Indigo|6E-6202|      Delhi|       Morning| zero|    Afternoon|          Mumbai|Economy|    2.17|        1| 5955|            0|Delhi->Mumbai|\n",
      "|   14|   Indigo| 6E-549|      Delhi|     Afternoon| zero|      Evening|          Mumbai|Economy|    2.25|        1| 5955|            0|Delhi->Mumbai|\n",
      "|   15|   Indigo|6E-6278|      Delhi|       Morning| zero|      Morning|          Mumbai|Economy|    2.33|        1| 5955|            0|Delhi->Mumbai|\n",
      "|   16|Air_India| AI-887|      Delhi| Early_Morning| zero|      Morning|          Mumbai|Economy|    2.08|        1| 5955|            0|Delhi->Mumbai|\n",
      "|   17|Air_India| AI-665|      Delhi| Early_Morning| zero|      Morning|          Mumbai|Economy|    2.17|        1| 5955|            0|Delhi->Mumbai|\n",
      "|   18|  AirAsia| I5-747|      Delhi|       Evening|  one|Early_Morning|          Mumbai|Economy|   12.25|        1| 5949|            1|Delhi->Mumbai|\n",
      "|   19|  AirAsia| I5-747|      Delhi|       Evening|  one|      Morning|          Mumbai|Economy|   16.33|        1| 5949|            1|Delhi->Mumbai|\n",
      "+-----+---------+-------+-----------+--------------+-----+-------------+----------------+-------+--------+---------+-----+-------------+-------------+\n",
      "only showing top 20 rows\n"
     ]
    }
   ],
   "source": [
    "from pyspark.sql.functions import concat_ws\n",
    "airlines_t2 = airlines_t1.withColumn(\"route\", concat_ws(\"->\", \"source_city\", \"destination_city\"))\n",
    "airlines_t2.show()"
   ]
  },
  {
   "cell_type": "markdown",
   "id": "0b601f7c-5679-41ec-a7ec-71faa84e51b0",
   "metadata": {},
   "source": [
    "## Transforming departure_time and arrival_time to numeric"
   ]
  },
  {
   "cell_type": "code",
   "execution_count": 14,
   "id": "1eebe362-5f63-40a1-95c5-8372ca434c7b",
   "metadata": {},
   "outputs": [
    {
     "name": "stderr",
     "output_type": "stream",
     "text": [
      "                                                                                "
     ]
    },
    {
     "name": "stdout",
     "output_type": "stream",
     "text": [
      "+--------------+\n",
      "|departure_time|\n",
      "+--------------+\n",
      "|       Evening|\n",
      "|       Morning|\n",
      "|    Late_Night|\n",
      "|     Afternoon|\n",
      "| Early_Morning|\n",
      "|         Night|\n",
      "+--------------+\n",
      "\n"
     ]
    },
    {
     "name": "stderr",
     "output_type": "stream",
     "text": [
      "[Stage 41:=============================>                            (1 + 1) / 2]"
     ]
    },
    {
     "name": "stdout",
     "output_type": "stream",
     "text": [
      "+-------------+\n",
      "| arrival_time|\n",
      "+-------------+\n",
      "|      Evening|\n",
      "|      Morning|\n",
      "|   Late_Night|\n",
      "|    Afternoon|\n",
      "|Early_Morning|\n",
      "|        Night|\n",
      "+-------------+\n",
      "\n"
     ]
    },
    {
     "name": "stderr",
     "output_type": "stream",
     "text": [
      "                                                                                "
     ]
    }
   ],
   "source": [
    "#Different values on column \"stops\"\n",
    "airlines_t2.select(\"departure_time\").distinct().show()\n",
    "airlines_t2.select(\"arrival_time\").distinct().show()"
   ]
  },
  {
   "cell_type": "code",
   "execution_count": 16,
   "id": "9a785abd-52bf-4126-9a92-4630944390b0",
   "metadata": {},
   "outputs": [
    {
     "name": "stdout",
     "output_type": "stream",
     "text": [
      "+--------------+------------------------+\n",
      "|departure_time|departure_time_numerical|\n",
      "+--------------+------------------------+\n",
      "|       Evening|                       3|\n",
      "| Early_Morning|                       0|\n",
      "| Early_Morning|                       0|\n",
      "|       Morning|                       1|\n",
      "|       Morning|                       1|\n",
      "|       Morning|                       1|\n",
      "|       Morning|                       1|\n",
      "|     Afternoon|                       2|\n",
      "| Early_Morning|                       0|\n",
      "|     Afternoon|                       2|\n",
      "|     Afternoon|                       2|\n",
      "|       Morning|                       1|\n",
      "| Early_Morning|                       0|\n",
      "|       Morning|                       1|\n",
      "|     Afternoon|                       2|\n",
      "|       Morning|                       1|\n",
      "| Early_Morning|                       0|\n",
      "| Early_Morning|                       0|\n",
      "|       Evening|                       3|\n",
      "|       Evening|                       3|\n",
      "+--------------+------------------------+\n",
      "only showing top 20 rows\n"
     ]
    }
   ],
   "source": [
    "# Early_Morning = 0\n",
    "# Morning = 1\n",
    "# Afternoon = 2\n",
    "# Evening = 3\n",
    "# Night = 4\n",
    "# Late_Night = 5\n",
    "\n",
    "airlines_t3 = airlines_t2.withColumn(\"departure_time_numerical\",\n",
    "                                     when(airlines_t2.departure_time == \"Early_Morning\", lit(0))\n",
    "                                     .when(airlines_t2.departure_time == \"Morning\", lit(1))\n",
    "                                     .when(airlines_t2.departure_time == \"Afternoon\", lit(2))\n",
    "                                     .when(airlines_t2.departure_time == \"Evening\", lit(3))\n",
    "                                     .when(airlines_t2.departure_time == \"Night\", lit(4))\n",
    "                                     .when(airlines_t2.departure_time == \"Late_Night\", lit(5)))\n",
    "airlines_t3.select(\"departure_time\", \"departure_time_numerical\").show()"
   ]
  },
  {
   "cell_type": "code",
   "execution_count": 17,
   "id": "b3c1c84a-bf15-4662-ab91-e791277f1a08",
   "metadata": {},
   "outputs": [
    {
     "name": "stdout",
     "output_type": "stream",
     "text": [
      "+-------------+----------------------+\n",
      "| arrival_time|arrival_time_numerical|\n",
      "+-------------+----------------------+\n",
      "|        Night|                     4|\n",
      "|      Morning|                     1|\n",
      "|Early_Morning|                     0|\n",
      "|    Afternoon|                     2|\n",
      "|      Morning|                     1|\n",
      "|    Afternoon|                     2|\n",
      "|      Morning|                     1|\n",
      "|      Evening|                     3|\n",
      "|      Morning|                     1|\n",
      "|      Evening|                     3|\n",
      "|      Evening|                     3|\n",
      "|    Afternoon|                     2|\n",
      "|      Morning|                     1|\n",
      "|    Afternoon|                     2|\n",
      "|      Evening|                     3|\n",
      "|      Morning|                     1|\n",
      "|      Morning|                     1|\n",
      "|      Morning|                     1|\n",
      "|Early_Morning|                     0|\n",
      "|      Morning|                     1|\n",
      "+-------------+----------------------+\n",
      "only showing top 20 rows\n"
     ]
    }
   ],
   "source": [
    "airlines_t4 = airlines_t3.withColumn(\"arrival_time_numerical\",\n",
    "                                     when(airlines_t2.arrival_time == \"Early_Morning\", lit(0))\n",
    "                                     .when(airlines_t2.arrival_time == \"Morning\", lit(1))\n",
    "                                     .when(airlines_t2.arrival_time == \"Afternoon\", lit(2))\n",
    "                                     .when(airlines_t2.arrival_time == \"Evening\", lit(3))\n",
    "                                     .when(airlines_t2.arrival_time == \"Night\", lit(4))\n",
    "                                     .when(airlines_t2.arrival_time == \"Late_Night\", lit(5)))\n",
    "airlines_t4.select(\"arrival_time\", \"arrival_time_numerical\").show()"
   ]
  },
  {
   "cell_type": "markdown",
   "id": "1eef6761-23d5-450a-be7c-73cd468fd756",
   "metadata": {},
   "source": [
    "## Adding new column is_expensive"
   ]
  },
  {
   "cell_type": "code",
   "execution_count": 18,
   "id": "ac224bc1-691a-4362-8a49-365f971903fc",
   "metadata": {},
   "outputs": [
    {
     "name": "stdout",
     "output_type": "stream",
     "text": [
      "+-------+-----+------------+\n",
      "|  class|price|is_expensive|\n",
      "+-------+-----+------------+\n",
      "|Economy| 5953|       false|\n",
      "|Economy| 5953|       false|\n",
      "|Economy| 5956|       false|\n",
      "|Economy| 5955|       false|\n",
      "|Economy| 5955|       false|\n",
      "|Economy| 5955|       false|\n",
      "|Economy| 6060|        true|\n",
      "|Economy| 6060|        true|\n",
      "|Economy| 5954|       false|\n",
      "|Economy| 5954|       false|\n",
      "|Economy| 5954|       false|\n",
      "|Economy| 5954|       false|\n",
      "|Economy| 5955|       false|\n",
      "|Economy| 5955|       false|\n",
      "|Economy| 5955|       false|\n",
      "|Economy| 5955|       false|\n",
      "|Economy| 5955|       false|\n",
      "|Economy| 5955|       false|\n",
      "|Economy| 5949|       false|\n",
      "|Economy| 5949|       false|\n",
      "+-------+-----+------------+\n",
      "only showing top 20 rows\n"
     ]
    }
   ],
   "source": [
    "airlines_t5 = airlines_t4.withColumn(\"is_expensive\", when(airlines_t4.price > 6000, True).otherwise(False))\n",
    "airlines_t5.select(\"class\", \"price\", \"is_expensive\").show()"
   ]
  },
  {
   "cell_type": "markdown",
   "id": "ff232a1e-a5c8-4bed-8606-fde57ea16374",
   "metadata": {},
   "source": [
    "# Aggregations"
   ]
  },
  {
   "cell_type": "markdown",
   "id": "f7e6b0e5-8db1-4e54-a069-16fcb4b570a9",
   "metadata": {},
   "source": [
    "## Average price per airline"
   ]
  },
  {
   "cell_type": "code",
   "execution_count": 19,
   "id": "d817d050-2966-4221-9817-2e1fbc742311",
   "metadata": {},
   "outputs": [
    {
     "name": "stderr",
     "output_type": "stream",
     "text": [
      "[Stage 48:=============================>                            (1 + 1) / 2]"
     ]
    },
    {
     "name": "stdout",
     "output_type": "stream",
     "text": [
      "+---------+------------------+\n",
      "|  airline|        avg(price)|\n",
      "+---------+------------------+\n",
      "|   Indigo| 5324.216303339517|\n",
      "| SpiceJet| 6179.278881367218|\n",
      "|Air_India| 23507.01911190229|\n",
      "|  AirAsia|4091.0727419555224|\n",
      "| GO_FIRST| 5652.007595045959|\n",
      "|  Vistara| 30396.53630170735|\n",
      "+---------+------------------+\n",
      "\n"
     ]
    },
    {
     "name": "stderr",
     "output_type": "stream",
     "text": [
      "                                                                                "
     ]
    }
   ],
   "source": [
    "from pyspark.sql.functions import avg\n",
    "airlines_t5.groupBy(col(\"airline\")).agg(avg(\"price\")).show()"
   ]
  },
  {
   "cell_type": "markdown",
   "id": "e020f4a1-9bc4-4bfe-a803-54fb471ec7d5",
   "metadata": {},
   "source": [
    "## Average duration per route"
   ]
  },
  {
   "cell_type": "code",
   "execution_count": 20,
   "id": "7c7b3d39-8c56-4570-8115-f281d137b117",
   "metadata": {},
   "outputs": [
    {
     "name": "stderr",
     "output_type": "stream",
     "text": [
      "[Stage 51:=============================>                            (1 + 1) / 2]"
     ]
    },
    {
     "name": "stdout",
     "output_type": "stream",
     "text": [
      "+--------------------+------------------+\n",
      "|               route|     avg(duration)|\n",
      "+--------------------+------------------+\n",
      "|Hyderabad->Bangalore| 12.09331678643705|\n",
      "|    Delhi->Hyderabad|12.518350118710492|\n",
      "|      Kolkata->Delhi| 11.60498857561711|\n",
      "|      Delhi->Kolkata| 12.73596614766045|\n",
      "|   Bangalore->Mumbai| 10.90507225639642|\n",
      "|    Bangalore->Delhi|  9.77995566082195|\n",
      "|     Mumbai->Chennai|12.665900287564627|\n",
      "|  Hyderabad->Kolkata|13.535322410033165|\n",
      "|  Kolkata->Bangalore| 13.79294687524098|\n",
      "|  Bangalore->Kolkata|13.099143404859825|\n",
      "|  Kolkata->Hyderabad|13.853107514948396|\n",
      "|       Delhi->Mumbai|10.367774213738123|\n",
      "|  Bangalore->Chennai|14.480207509137166|\n",
      "|    Kolkata->Chennai|14.774181563782903|\n",
      "|  Hyderabad->Chennai|13.293238468912078|\n",
      "|     Kolkata->Mumbai|12.991932481150478|\n",
      "|    Delhi->Bangalore| 10.35412503844018|\n",
      "|      Delhi->Chennai|12.433964745763944|\n",
      "|   Mumbai->Bangalore|11.612022516178817|\n",
      "|Bangalore->Hyderabad|14.162432783513621|\n",
      "+--------------------+------------------+\n",
      "only showing top 20 rows\n"
     ]
    },
    {
     "name": "stderr",
     "output_type": "stream",
     "text": [
      "                                                                                "
     ]
    }
   ],
   "source": [
    "airlines_t5.groupBy(col(\"route\")).agg(avg(\"duration\")).show()"
   ]
  },
  {
   "cell_type": "markdown",
   "id": "314adf71-8d0d-4e43-b2ac-1c5d95a619cb",
   "metadata": {},
   "source": [
    "## Minimun and maximun price per airline"
   ]
  },
  {
   "cell_type": "code",
   "execution_count": 21,
   "id": "eb3654c1-ba93-4556-ab53-5f7935ccd19d",
   "metadata": {},
   "outputs": [
    {
     "name": "stderr",
     "output_type": "stream",
     "text": [
      "[Stage 54:=============================>                            (1 + 1) / 2]"
     ]
    },
    {
     "name": "stdout",
     "output_type": "stream",
     "text": [
      "+---------+---------+--------+\n",
      "|  airline|min_price|max_temp|\n",
      "+---------+---------+--------+\n",
      "|   Indigo|     1105|   31952|\n",
      "| SpiceJet|     1106|   34158|\n",
      "|Air_India|     1526|   90970|\n",
      "|  AirAsia|     1105|   31917|\n",
      "| GO_FIRST|     1105|   32803|\n",
      "|  Vistara|     1714|  123071|\n",
      "+---------+---------+--------+\n",
      "\n"
     ]
    },
    {
     "name": "stderr",
     "output_type": "stream",
     "text": [
      "                                                                                "
     ]
    }
   ],
   "source": [
    "from pyspark.sql.functions import min, max\n",
    "airlines_t5.groupBy(col(\"airline\")).agg(\n",
    "    min(\"price\").alias(\"min_price\"),\n",
    "    max(\"price\").alias(\"max_temp\")\n",
    ").show()"
   ]
  },
  {
   "cell_type": "markdown",
   "id": "9d31b520-5d91-42dc-97d4-8556702ae7fc",
   "metadata": {},
   "source": [
    "## Count flights by departure time category"
   ]
  },
  {
   "cell_type": "code",
   "execution_count": 24,
   "id": "c2422793-a0ae-4bc8-982c-1e8e53b104a5",
   "metadata": {},
   "outputs": [
    {
     "name": "stderr",
     "output_type": "stream",
     "text": [
      "[Stage 60:=============================>                            (1 + 1) / 2]"
     ]
    },
    {
     "name": "stdout",
     "output_type": "stream",
     "text": [
      "+------------------------+-----+\n",
      "|departure_time_numerical|count|\n",
      "+------------------------+-----+\n",
      "|                       1|71146|\n",
      "|                       3|65102|\n",
      "|                       5| 1306|\n",
      "|                       4|48015|\n",
      "|                       2|47794|\n",
      "|                       0|66790|\n",
      "+------------------------+-----+\n",
      "\n"
     ]
    },
    {
     "name": "stderr",
     "output_type": "stream",
     "text": [
      "                                                                                "
     ]
    }
   ],
   "source": [
    "airlines_t5.groupBy(col(\"departure_time_numerical\")).count().show()\n",
    "# Early_Morning = 0\n",
    "# Morning = 1\n",
    "# Afternoon = 2\n",
    "# Evening = 3\n",
    "# Night = 4\n",
    "# Late_Night = 5"
   ]
  },
  {
   "cell_type": "code",
   "execution_count": null,
   "id": "2cdd99e4-cca6-4201-be2e-f9f5a295ce6b",
   "metadata": {},
   "outputs": [],
   "source": [
    "sc.stop"
   ]
  }
 ],
 "metadata": {
  "kernelspec": {
   "display_name": "Python 3 (ipykernel)",
   "language": "python",
   "name": "python3"
  },
  "language_info": {
   "codemirror_mode": {
    "name": "ipython",
    "version": 3
   },
   "file_extension": ".py",
   "mimetype": "text/x-python",
   "name": "python",
   "nbconvert_exporter": "python",
   "pygments_lexer": "ipython3",
   "version": "3.10.12"
  }
 },
 "nbformat": 4,
 "nbformat_minor": 5
}
