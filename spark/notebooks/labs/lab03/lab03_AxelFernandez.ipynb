{
 "cells": [
  {
   "cell_type": "markdown",
   "id": "b92d9622",
   "metadata": {},
   "source": [
    "# <center> <img src=\"../../img/ITESOLogo.png\" alt=\"ITESO\" width=\"480\" height=\"130\"> </center>\n",
    "# <center> **Departamento de Electrónica, Sistemas e Informática** </center>\n",
    "---\n",
    "## <center> Computer Systems Engineering  </center>\n",
    "---\n",
    "### <center> Big Data Processing </center>\n",
    "---\n",
    "#### <center> **Autumn 2025** </center>\n",
    "---\n",
    "\n",
    "**Lab 03**: Data Cleaning and Transformation Pipeline\n",
    "\n",
    "**Date**: September 18th 2025\n",
    "\n",
    "**Student Name**: Axel Leonardo Fernandez Albarran\n",
    "\n",
    "**Professor**: Pablo Camarillo Ramirez"
   ]
  },
  {
   "cell_type": "markdown",
   "id": "73a5dd7b",
   "metadata": {},
   "source": [
    "# Spark Session\n",
    "- Cambiar el hostname por el correspondiente al del contenedor."
   ]
  },
  {
   "cell_type": "code",
   "execution_count": 1,
   "id": "94fcd9c2-2144-4b4a-9f6d-e03da70a7706",
   "metadata": {},
   "outputs": [
    {
     "name": "stderr",
     "output_type": "stream",
     "text": [
      "WARNING: Using incubator modules: jdk.incubator.vector\n",
      "Using Spark's default log4j profile: org/apache/spark/log4j2-defaults.properties\n",
      "Setting default log level to \"WARN\".\n",
      "To adjust logging level use sc.setLogLevel(newLevel). For SparkR, use setLogLevel(newLevel).\n",
      "25/09/21 19:11:50 WARN NativeCodeLoader: Unable to load native-hadoop library for your platform... using builtin-java classes where applicable\n"
     ]
    }
   ],
   "source": [
    "import findspark\n",
    "findspark.init()\n",
    "\n",
    "from pyspark.sql import SparkSession\n",
    "from pyspark.sql.functions import * \n",
    "from axel_fernandez.spark_utils import SparkUtils\n",
    "\n",
    "spark = SparkSession.builder \\\n",
    "    .appName(\"Examples on data sources (Files)\") \\\n",
    "    .master(\"spark://32d85d0d1430:7077\") \\\n",
    "    .config(\"spark.ui.port\", \"4040\") \\\n",
    "    .getOrCreate()\n",
    "\n",
    "sc = spark.sparkContext\n",
    "sc.setLogLevel(\"ERROR\")\n"
   ]
  },
  {
   "cell_type": "markdown",
   "id": "cc5c0eee",
   "metadata": {},
   "source": [
    "# Esquema y carga de datos\n",
    "- Esquema con sus tipos de datos\n",
    "- Leemos el csv de data"
   ]
  },
  {
   "cell_type": "code",
   "execution_count": 2,
   "id": "1b146981-3e4d-48f3-a452-e022e2b4591c",
   "metadata": {},
   "outputs": [
    {
     "name": "stdout",
     "output_type": "stream",
     "text": [
      "Muestra inicial:\n",
      "+-----+--------+-------+-----------+--------------+-----+-------------+----------------+-------+--------+---------+-----+\n",
      "|index| airline| flight|source_city|departure_time|stops| arrival_time|destination_city|  class|duration|days_left|price|\n",
      "+-----+--------+-------+-----------+--------------+-----+-------------+----------------+-------+--------+---------+-----+\n",
      "|    0|SpiceJet|SG-8709|      Delhi|       Evening| zero|        Night|          Mumbai|Economy|    2.17|        1| 5953|\n",
      "|    1|SpiceJet|SG-8157|      Delhi| Early_Morning| zero|      Morning|          Mumbai|Economy|    2.33|        1| 5953|\n",
      "|    2| AirAsia| I5-764|      Delhi| Early_Morning| zero|Early_Morning|          Mumbai|Economy|    2.17|        1| 5956|\n",
      "|    3| Vistara| UK-995|      Delhi|       Morning| zero|    Afternoon|          Mumbai|Economy|    2.25|        1| 5955|\n",
      "|    4| Vistara| UK-963|      Delhi|       Morning| zero|      Morning|          Mumbai|Economy|    2.33|        1| 5955|\n",
      "+-----+--------+-------+-----------+--------------+-----+-------------+----------------+-------+--------+---------+-----+\n",
      "only showing top 5 rows\n"
     ]
    }
   ],
   "source": [
    "campos = [\n",
    "    (\"index\", \"int\"),\n",
    "    (\"airline\", \"string\"),\n",
    "    (\"flight\", \"string\"),\n",
    "    (\"source_city\", \"string\"),\n",
    "    (\"departure_time\", \"string\"),\n",
    "    (\"stops\", \"string\"),\n",
    "    (\"arrival_time\", \"string\"),\n",
    "    (\"destination_city\", \"string\"),\n",
    "    (\"class\", \"string\"),\n",
    "    (\"duration\", \"float\"),\n",
    "    (\"days_left\", \"int\"),\n",
    "    (\"price\", \"int\"),\n",
    "]\n",
    "esquema = SparkUtils.generate_schema(campos)\n",
    "\n",
    "df1 = (\n",
    "    spark.read\n",
    "    .option(\"header\", \"true\")\n",
    "    .schema(esquema)\n",
    "    .csv(\"/opt/spark/work-dir/data/airline/airlines_flights_data.csv\")\n",
    ")\n",
    "\n",
    "print(\"Muestra inicial:\")\n",
    "df1.show(5)\n"
   ]
  },
  {
   "cell_type": "markdown",
   "id": "9c8b3902-0e79-41f6-91aa-6b4c0af05f2d",
   "metadata": {},
   "source": [
    "# Nulos ANTES\n",
    "## Conteo de registros y de valores nulos antes de limpiar."
   ]
  },
  {
   "cell_type": "code",
   "execution_count": 3,
   "id": "c7b86a0b-0296-47cb-b6ad-52b8bde322b6",
   "metadata": {},
   "outputs": [
    {
     "name": "stdout",
     "output_type": "stream",
     "text": [
      "Filas totales (antes): 300153\n",
      "Nulos por cada columna:\n",
      "+-----+-------+------+-----------+--------------+-----+------------+----------------+-----+--------+---------+-----+\n",
      "|index|airline|flight|source_city|departure_time|stops|arrival_time|destination_city|class|duration|days_left|price|\n",
      "+-----+-------+------+-----------+--------------+-----+------------+----------------+-----+--------+---------+-----+\n",
      "|    0|      0|     0|          0|             0|    0|           0|               0|    0|       0|        0|    0|\n",
      "+-----+-------+------+-----------+--------------+-----+------------+----------------+-----+--------+---------+-----+\n",
      "\n"
     ]
    }
   ],
   "source": [
    "print(f\"Filas totales (antes): {df1.count()}\")\n",
    "nulos_antes = df1.agg(*[sum(when(col(c[0]).isNull(), 1).otherwise(0)).alias(c[0]) for c in campos])\n",
    "print(f\"Nulos por cada columna:\")\n",
    "nulos_antes.show()\n"
   ]
  },
  {
   "cell_type": "markdown",
   "id": "d2d96331-5dbd-4a09-8224-998abd26501d",
   "metadata": {},
   "source": [
    "# Limpieza\n",
    "# 1. Selección de columnas de interés.  \n",
    "# 2. Trim de strings.  \n",
    "# 3. Quitar duplicados por `index`.  \n",
    "# 4. Filtrar nulos en campos críticos y `dropna`."
   ]
  },
  {
   "cell_type": "code",
   "execution_count": 4,
   "id": "f84197a6-5795-44b9-8814-15e1295093a7",
   "metadata": {},
   "outputs": [
    {
     "name": "stderr",
     "output_type": "stream",
     "text": [
      "                                                                                "
     ]
    },
    {
     "name": "stdout",
     "output_type": "stream",
     "text": [
      "Filas tras limpieza: 300153\n",
      "Nulos por cada columna:\n",
      "+-----+-------+------+-----------+--------------+-----+------------+----------------+-----+--------+---------+-----+\n",
      "|index|airline|flight|source_city|departure_time|stops|arrival_time|destination_city|class|duration|days_left|price|\n",
      "+-----+-------+------+-----------+--------------+-----+------------+----------------+-----+--------+---------+-----+\n",
      "|    0|      0|     0|          0|             0|    0|           0|               0|    0|       0|        0|    0|\n",
      "+-----+-------+------+-----------+--------------+-----+------------+----------------+-----+--------+---------+-----+\n",
      "\n"
     ]
    }
   ],
   "source": [
    "\n",
    "df1 = (\n",
    "    df1\n",
    "    .withColumn(\"airline\", trim(\"airline\"))\n",
    "    .withColumn(\"source_city\", trim(\"source_city\"))\n",
    "    .withColumn(\"destination_city\", trim(\"destination_city\"))\n",
    "    .withColumn(\"departure_time\", trim(\"departure_time\"))\n",
    "    .withColumn(\"arrival_time\", trim(\"arrival_time\"))\n",
    "    .dropDuplicates([\"index\"])\n",
    ")\n",
    "\n",
    "claves = [\"airline\",\"source_city\",\"destination_city\",\"price\",\"departure_time\",\"arrival_time\",\"stops\",\"duration\"]\n",
    "df1 = df1.dropna(subset=claves).dropna()\n",
    "\n",
    "print(f\"Filas tras limpieza: {df1.count()}\")\n",
    "nulos_despues = df1.agg(*[sum(when(col(c).isNull(), 1).otherwise(0)).alias(c) for c in df1.columns])\n",
    "print(\"Nulos por cada columna:\")\n",
    "nulos_despues.show()\n"
   ]
  },
  {
   "cell_type": "markdown",
   "id": "5e0a371f-2241-40a1-a766-30b728f04cf1",
   "metadata": {},
   "source": [
    "# Remplazar `stops`"
   ]
  },
  {
   "cell_type": "code",
   "execution_count": 5,
   "id": "39722405-b5bb-4733-b1d8-87ae73f76032",
   "metadata": {},
   "outputs": [
    {
     "name": "stdout",
     "output_type": "stream",
     "text": [
      "+-----+--------+-------+-----------+--------------+-----+------------+----------------+-------+--------+---------+-----+\n",
      "|index| airline| flight|source_city|departure_time|stops|arrival_time|destination_city|  class|duration|days_left|price|\n",
      "+-----+--------+-------+-----------+--------------+-----+------------+----------------+-------+--------+---------+-----+\n",
      "|    1|SpiceJet|SG-8157|      Delhi| Early_Morning|    0|     Morning|          Mumbai|Economy|    2.33|        1| 5953|\n",
      "|    3| Vistara| UK-995|      Delhi|       Morning|    0|   Afternoon|          Mumbai|Economy|    2.25|        1| 5955|\n",
      "|    5| Vistara| UK-945|      Delhi|       Morning|    0|   Afternoon|          Mumbai|Economy|    2.33|        1| 5955|\n",
      "|    6| Vistara| UK-927|      Delhi|       Morning|    0|     Morning|          Mumbai|Economy|    2.08|        1| 6060|\n",
      "|    9|GO_FIRST| G8-336|      Delhi|     Afternoon|    0|     Evening|          Mumbai|Economy|    2.25|        1| 5954|\n",
      "+-----+--------+-------+-----------+--------------+-----+------------+----------------+-------+--------+---------+-----+\n",
      "only showing top 5 rows\n"
     ]
    }
   ],
   "source": [
    "df2 = df1.withColumn(\n",
    "    \"stops\",\n",
    "    when(col(\"stops\") == \"zero\", lit(0))\n",
    "    .when(col(\"stops\") == \"one\", lit(1))\n",
    "    .when(col(\"stops\") == \"two\", lit(2))\n",
    "    .when(col(\"stops\") == \"three\", lit(3))\n",
    "    .otherwise(lit(4))\n",
    ")\n",
    "\n",
    "df2.show(5)\n"
   ]
  },
  {
   "cell_type": "markdown",
   "id": "ae48dfd2-295e-479f-bd1d-7ddb7643cd75",
   "metadata": {},
   "source": [
    "# Columna `route`"
   ]
  },
  {
   "cell_type": "code",
   "execution_count": 6,
   "id": "4db4429a-fd4b-4fa9-97dd-c55ad42750f4",
   "metadata": {},
   "outputs": [
    {
     "name": "stdout",
     "output_type": "stream",
     "text": [
      "+-----+--------+-------+-----------+--------------+-----+------------+----------------+-------+--------+---------+-----+--------------+\n",
      "|index| airline| flight|source_city|departure_time|stops|arrival_time|destination_city|  class|duration|days_left|price|         route|\n",
      "+-----+--------+-------+-----------+--------------+-----+------------+----------------+-------+--------+---------+-----+--------------+\n",
      "|    1|SpiceJet|SG-8157|      Delhi| Early_Morning|    0|     Morning|          Mumbai|Economy|    2.33|        1| 5953|Delhi → Mumbai|\n",
      "|    3| Vistara| UK-995|      Delhi|       Morning|    0|   Afternoon|          Mumbai|Economy|    2.25|        1| 5955|Delhi → Mumbai|\n",
      "|    5| Vistara| UK-945|      Delhi|       Morning|    0|   Afternoon|          Mumbai|Economy|    2.33|        1| 5955|Delhi → Mumbai|\n",
      "|    6| Vistara| UK-927|      Delhi|       Morning|    0|     Morning|          Mumbai|Economy|    2.08|        1| 6060|Delhi → Mumbai|\n",
      "|    9|GO_FIRST| G8-336|      Delhi|     Afternoon|    0|     Evening|          Mumbai|Economy|    2.25|        1| 5954|Delhi → Mumbai|\n",
      "+-----+--------+-------+-----------+--------------+-----+------------+----------------+-------+--------+---------+-----+--------------+\n",
      "only showing top 5 rows\n"
     ]
    },
    {
     "name": "stderr",
     "output_type": "stream",
     "text": [
      "                                                                                "
     ]
    }
   ],
   "source": [
    "df2 = df2.withColumn(\"route\", concat(col(\"source_city\"),lit(\" → \"), col(\"destination_city\")))\n",
    "df2.show(5)\n"
   ]
  },
  {
   "cell_type": "markdown",
   "id": "fec1ce74-9ef6-475b-a6d7-ecbf7adeff3c",
   "metadata": {},
   "source": [
    "# Tiempos en numero"
   ]
  },
  {
   "cell_type": "code",
   "execution_count": 7,
   "id": "5ce911de-e2f4-40bd-8e51-ccd1e320c81e",
   "metadata": {},
   "outputs": [
    {
     "name": "stdout",
     "output_type": "stream",
     "text": [
      "+--------+-------+--------------+-----+--------------+--------------+------------+------------+\n",
      "| airline| flight|         route|stops|departure_time|departure_code|arrival_time|arrival_code|\n",
      "+--------+-------+--------------+-----+--------------+--------------+------------+------------+\n",
      "|SpiceJet|SG-8157|Delhi → Mumbai|    0| Early_Morning|             0|     Morning|           1|\n",
      "| Vistara| UK-995|Delhi → Mumbai|    0|       Morning|             1|   Afternoon|           2|\n",
      "| Vistara| UK-945|Delhi → Mumbai|    0|       Morning|             1|   Afternoon|           2|\n",
      "| Vistara| UK-927|Delhi → Mumbai|    0|       Morning|             1|     Morning|           1|\n",
      "|GO_FIRST| G8-336|Delhi → Mumbai|    0|     Afternoon|             2|     Evening|           3|\n",
      "+--------+-------+--------------+-----+--------------+--------------+------------+------------+\n",
      "only showing top 5 rows\n"
     ]
    }
   ],
   "source": [
    "# Funcion para darle su respectivo valor al string\n",
    "def tiempo_s(cn):\n",
    "    return (\n",
    "        when(col(cn) == \"Early_Morning\", lit(0))\n",
    "        .when(col(cn) == \"Morning\", lit(1))\n",
    "        .when(col(cn) == \"Afternoon\", lit(2))\n",
    "        .when(col(cn) == \"Evening\", lit(3))\n",
    "        .when(col(cn) == \"Night\", lit(4))\n",
    "        .otherwise(lit(-1))\n",
    "    )\n",
    "\n",
    "df3 = (\n",
    "    df2\n",
    "    .withColumn(\"departure_code\", tiempo_s(\"departure_time\"))\n",
    "    .withColumn(\"arrival_code\", tiempo_s(\"arrival_time\"))\n",
    ")\n",
    "\n",
    "# Seleccionamos lo necesario para mostrarlo sin problema en el output\n",
    "df3.select(\"airline\",\"flight\",\"route\",\"stops\",\"departure_time\",\"departure_code\",\"arrival_time\",\"arrival_code\").show(5)\n"
   ]
  },
  {
   "cell_type": "markdown",
   "id": "9bb21d4f-3e1f-4f99-bbf7-2211abfb81db",
   "metadata": {},
   "source": [
    "# Columna `is_expensive` > 6000"
   ]
  },
  {
   "cell_type": "code",
   "execution_count": 8,
   "id": "ea997b78-a5d1-4675-98f8-4e0ef41472e7",
   "metadata": {},
   "outputs": [
    {
     "name": "stdout",
     "output_type": "stream",
     "text": [
      "Muestra tras transformaciones:\n",
      "+---------+-------+--------------+-----+------------+\n",
      "|  airline| flight|         route|price|is_expensive|\n",
      "+---------+-------+--------------+-----+------------+\n",
      "| SpiceJet|SG-8157|Delhi → Mumbai| 5953|       false|\n",
      "|  Vistara| UK-995|Delhi → Mumbai| 5955|       false|\n",
      "|  Vistara| UK-945|Delhi → Mumbai| 5955|       false|\n",
      "|  Vistara| UK-927|Delhi → Mumbai| 6060|        true|\n",
      "| GO_FIRST| G8-336|Delhi → Mumbai| 5954|       false|\n",
      "|   Indigo|6E-5001|Delhi → Mumbai| 5955|       false|\n",
      "|   Indigo|6E-6202|Delhi → Mumbai| 5955|       false|\n",
      "|   Indigo|6E-6278|Delhi → Mumbai| 5955|       false|\n",
      "|Air_India| AI-887|Delhi → Mumbai| 5955|       false|\n",
      "|Air_India| AI-665|Delhi → Mumbai| 5955|       false|\n",
      "+---------+-------+--------------+-----+------------+\n",
      "only showing top 10 rows\n"
     ]
    }
   ],
   "source": [
    "\n",
    "df3 = df3.withColumn(\"is_expensive\", col(\"price\") > 6000)\n",
    "\n",
    "print(\"Muestra tras transformaciones:\")\n",
    "df3.select(\"airline\",\"flight\",\"route\",\"price\",\"is_expensive\").show(10)\n"
   ]
  },
  {
   "cell_type": "markdown",
   "id": "c2b31601-df3a-4760-ae01-ca74cbbddaad",
   "metadata": {},
   "source": [
    "# Agregaciones\n",
    "## - 1. Precio promedio por aerolínea  \n",
    "## - 2. Duración promedio por ruta  \n",
    "## - 3. Precio mínimo y máximo por aerolínea  \n",
    "## - 4. Conteo por categoría de departure_time"
   ]
  },
  {
   "cell_type": "code",
   "execution_count": 9,
   "id": "99ccba57-1e2b-4bef-9e21-1ec0c9e4789f",
   "metadata": {},
   "outputs": [
    {
     "name": "stdout",
     "output_type": "stream",
     "text": [
      "Precio promedio por aerolínea:\n",
      "+---------+------------------+\n",
      "|  airline|         avg_price|\n",
      "+---------+------------------+\n",
      "|  Vistara| 30396.53630170735|\n",
      "|Air_India| 23507.01911190229|\n",
      "| SpiceJet| 6179.278881367218|\n",
      "| GO_FIRST| 5652.007595045959|\n",
      "|   Indigo| 5324.216303339517|\n",
      "|  AirAsia|4091.0727419555224|\n",
      "+---------+------------------+\n",
      "\n"
     ]
    }
   ],
   "source": [
    "# Ordenamos por las mas caras al principio\n",
    "print(\"Precio promedio por aerolínea:\")\n",
    "(\n",
    "    df3.groupBy(\"airline\")\n",
    "       .agg(avg(\"price\").alias(\"avg_price\"))\n",
    "       .orderBy(col(\"avg_price\").desc())\n",
    "       .show()\n",
    ")\n"
   ]
  },
  {
   "cell_type": "code",
   "execution_count": 10,
   "id": "567b3c3a-db9c-4ee0-a528-5ccc8370c797",
   "metadata": {},
   "outputs": [
    {
     "name": "stdout",
     "output_type": "stream",
     "text": [
      "Duración promedio por ruta:\n",
      "+--------------------+------------------+\n",
      "|               route|      avg_duration|\n",
      "+--------------------+------------------+\n",
      "|   Kolkata → Chennai|14.774181563782903|\n",
      "|   Chennai → Kolkata|14.515774035955694|\n",
      "| Bangalore → Chennai|14.480207509137166|\n",
      "|Bangalore → Hyder...|14.162432783513621|\n",
      "| Chennai → Bangalore|13.952593563812163|\n",
      "| Kolkata → Hyderabad|13.853107514948396|\n",
      "| Kolkata → Bangalore| 13.79294687524098|\n",
      "| Hyderabad → Kolkata|13.535322410033165|\n",
      "| Hyderabad → Chennai|13.293238468912078|\n",
      "|  Mumbai → Hyderabad|13.263310412247066|\n",
      "| Chennai → Hyderabad|13.153984931732971|\n",
      "| Bangalore → Kolkata|13.099143404859825|\n",
      "|    Kolkata → Mumbai|12.991932481150478|\n",
      "|    Mumbai → Kolkata|12.836848115489666|\n",
      "|     Delhi → Kolkata| 12.73596614766045|\n",
      "|    Mumbai → Chennai|12.665900287564627|\n",
      "|   Delhi → Hyderabad|12.518350118710492|\n",
      "|     Delhi → Chennai|12.433964745763944|\n",
      "|    Chennai → Mumbai|12.374656244132625|\n",
      "|Hyderabad → Banga...| 12.09331678643705|\n",
      "+--------------------+------------------+\n",
      "only showing top 20 rows\n"
     ]
    }
   ],
   "source": [
    "print(\"Duración promedio por ruta:\")\n",
    "(\n",
    "    df3.groupBy(\"route\")\n",
    "       .agg(avg(\"duration\").alias(\"avg_duration\"))\n",
    "       .orderBy(col(\"avg_duration\").desc())\n",
    "       .show(20)\n",
    ")\n"
   ]
  },
  {
   "cell_type": "code",
   "execution_count": 11,
   "id": "96e5a20e-afa7-45be-ba30-35f56fddb3d0",
   "metadata": {},
   "outputs": [
    {
     "name": "stdout",
     "output_type": "stream",
     "text": [
      "Precio mínimo y máximo por aerolínea:\n",
      "+---------+---------+---------+\n",
      "|  airline|min_price|max_price|\n",
      "+---------+---------+---------+\n",
      "|  AirAsia|     1105|    31917|\n",
      "|Air_India|     1526|    90970|\n",
      "| GO_FIRST|     1105|    32803|\n",
      "|   Indigo|     1105|    31952|\n",
      "| SpiceJet|     1106|    34158|\n",
      "|  Vistara|     1714|   123071|\n",
      "+---------+---------+---------+\n",
      "\n"
     ]
    }
   ],
   "source": [
    "print(\"Precio mínimo y máximo por aerolínea:\")\n",
    "(\n",
    "    df3.groupBy(\"airline\")\n",
    "       .agg(min(\"price\").alias(\"min_price\"), max(\"price\").alias(\"max_price\"))\n",
    "       .orderBy(\"airline\")\n",
    "       .show()\n",
    ")"
   ]
  },
  {
   "cell_type": "code",
   "execution_count": 12,
   "id": "57a26d95-feea-4100-8973-644067e3a17f",
   "metadata": {},
   "outputs": [
    {
     "name": "stdout",
     "output_type": "stream",
     "text": [
      "Conteo de vuelos por categoría de departure_time:\n",
      "+--------------+-------+\n",
      "|departure_time|flights|\n",
      "+--------------+-------+\n",
      "|       Morning|  71146|\n",
      "| Early_Morning|  66790|\n",
      "|       Evening|  65102|\n",
      "|         Night|  48015|\n",
      "|     Afternoon|  47794|\n",
      "|    Late_Night|   1306|\n",
      "+--------------+-------+\n",
      "\n"
     ]
    }
   ],
   "source": [
    "print(\"Conteo de vuelos por categoría de departure_time:\")\n",
    "(\n",
    "    df3.groupBy(\"departure_time\")\n",
    "       .agg(count(lit(1)).alias(\"flights\"))\n",
    "       .orderBy(col(\"flights\").desc())\n",
    "       .show()\n",
    ")"
   ]
  }
 ],
 "metadata": {
  "kernelspec": {
   "display_name": "Python 3 (ipykernel)",
   "language": "python",
   "name": "python3"
  },
  "language_info": {
   "codemirror_mode": {
    "name": "ipython",
    "version": 3
   },
   "file_extension": ".py",
   "mimetype": "text/x-python",
   "name": "python",
   "nbconvert_exporter": "python",
   "pygments_lexer": "ipython3",
   "version": "3.10.12"
  }
 },
 "nbformat": 4,
 "nbformat_minor": 5
}
